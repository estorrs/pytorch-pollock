{
 "cells": [
  {
   "cell_type": "code",
   "execution_count": 1,
   "id": "93092d05",
   "metadata": {},
   "outputs": [
    {
     "name": "stderr",
     "output_type": "stream",
     "text": [
      "Attaching SeuratObject\n",
      "\n"
     ]
    }
   ],
   "source": [
    "library(Seurat)"
   ]
  },
  {
   "cell_type": "code",
   "execution_count": 2,
   "id": "66647f5c",
   "metadata": {},
   "outputs": [],
   "source": [
    "obj = readRDS(\"/data/pollock/benchmarking/pollock_datasets_with_folds/scRNAseq/brca_fold2_train.rds\")"
   ]
  },
  {
   "cell_type": "code",
   "execution_count": 3,
   "id": "1bf378df",
   "metadata": {},
   "outputs": [
    {
     "data": {
      "text/html": [
       "<table class=\"dataframe\">\n",
       "<caption>A data.frame: 6 × 3</caption>\n",
       "<thead>\n",
       "\t<tr><th></th><th scope=col>cell_type</th><th scope=col>barcode</th><th scope=col>sample</th></tr>\n",
       "\t<tr><th></th><th scope=col>&lt;fct&gt;</th><th scope=col>&lt;fct&gt;</th><th scope=col>&lt;int&gt;</th></tr>\n",
       "</thead>\n",
       "<tbody>\n",
       "\t<tr><th scope=row>18_GGCGTCATCCAACTAG-1</th><td>CD8 T cell</td><td>GGCGTCATCCAACTAG-1</td><td>18</td></tr>\n",
       "\t<tr><th scope=row>0_AGTAACCGTGATACTC-1</th><td>CD8 T cell</td><td>AGTAACCGTGATACTC-1</td><td> 0</td></tr>\n",
       "\t<tr><th scope=row>15_ATCGGATGTCGCCTAG-1</th><td>CD8 T cell</td><td>ATCGGATGTCGCCTAG-1</td><td>15</td></tr>\n",
       "\t<tr><th scope=row>28_TTGCATTGTACAGTCT-1</th><td>CD8 T cell</td><td>TTGCATTGTACAGTCT-1</td><td>28</td></tr>\n",
       "\t<tr><th scope=row>11_TCAAGTGAGGTACCTT-1</th><td>CD8 T cell</td><td>TCAAGTGAGGTACCTT-1</td><td>11</td></tr>\n",
       "\t<tr><th scope=row>28_CTGCCATGTAACTGCT-1</th><td>CD8 T cell</td><td>CTGCCATGTAACTGCT-1</td><td>28</td></tr>\n",
       "</tbody>\n",
       "</table>\n"
      ],
      "text/latex": [
       "A data.frame: 6 × 3\n",
       "\\begin{tabular}{r|lll}\n",
       "  & cell\\_type & barcode & sample\\\\\n",
       "  & <fct> & <fct> & <int>\\\\\n",
       "\\hline\n",
       "\t18\\_GGCGTCATCCAACTAG-1 & CD8 T cell & GGCGTCATCCAACTAG-1 & 18\\\\\n",
       "\t0\\_AGTAACCGTGATACTC-1 & CD8 T cell & AGTAACCGTGATACTC-1 &  0\\\\\n",
       "\t15\\_ATCGGATGTCGCCTAG-1 & CD8 T cell & ATCGGATGTCGCCTAG-1 & 15\\\\\n",
       "\t28\\_TTGCATTGTACAGTCT-1 & CD8 T cell & TTGCATTGTACAGTCT-1 & 28\\\\\n",
       "\t11\\_TCAAGTGAGGTACCTT-1 & CD8 T cell & TCAAGTGAGGTACCTT-1 & 11\\\\\n",
       "\t28\\_CTGCCATGTAACTGCT-1 & CD8 T cell & CTGCCATGTAACTGCT-1 & 28\\\\\n",
       "\\end{tabular}\n"
      ],
      "text/markdown": [
       "\n",
       "A data.frame: 6 × 3\n",
       "\n",
       "| <!--/--> | cell_type &lt;fct&gt; | barcode &lt;fct&gt; | sample &lt;int&gt; |\n",
       "|---|---|---|---|\n",
       "| 18_GGCGTCATCCAACTAG-1 | CD8 T cell | GGCGTCATCCAACTAG-1 | 18 |\n",
       "| 0_AGTAACCGTGATACTC-1 | CD8 T cell | AGTAACCGTGATACTC-1 |  0 |\n",
       "| 15_ATCGGATGTCGCCTAG-1 | CD8 T cell | ATCGGATGTCGCCTAG-1 | 15 |\n",
       "| 28_TTGCATTGTACAGTCT-1 | CD8 T cell | TTGCATTGTACAGTCT-1 | 28 |\n",
       "| 11_TCAAGTGAGGTACCTT-1 | CD8 T cell | TCAAGTGAGGTACCTT-1 | 11 |\n",
       "| 28_CTGCCATGTAACTGCT-1 | CD8 T cell | CTGCCATGTAACTGCT-1 | 28 |\n",
       "\n"
      ],
      "text/plain": [
       "                      cell_type  barcode            sample\n",
       "18_GGCGTCATCCAACTAG-1 CD8 T cell GGCGTCATCCAACTAG-1 18    \n",
       "0_AGTAACCGTGATACTC-1  CD8 T cell AGTAACCGTGATACTC-1  0    \n",
       "15_ATCGGATGTCGCCTAG-1 CD8 T cell ATCGGATGTCGCCTAG-1 15    \n",
       "28_TTGCATTGTACAGTCT-1 CD8 T cell TTGCATTGTACAGTCT-1 28    \n",
       "11_TCAAGTGAGGTACCTT-1 CD8 T cell TCAAGTGAGGTACCTT-1 11    \n",
       "28_CTGCCATGTAACTGCT-1 CD8 T cell CTGCCATGTAACTGCT-1 28    "
      ]
     },
     "metadata": {},
     "output_type": "display_data"
    }
   ],
   "source": [
    "head(obj@meta.data)"
   ]
  },
  {
   "cell_type": "code",
   "execution_count": 4,
   "id": "dfe12a0d",
   "metadata": {},
   "outputs": [],
   "source": [
    "obj = readRDS(\"/data/pollock/benchmarking/pollock_datasets_with_folds/scRNAseq/brca_fold2_val.rds\")"
   ]
  },
  {
   "cell_type": "code",
   "execution_count": 5,
   "id": "fe4a3499",
   "metadata": {},
   "outputs": [
    {
     "data": {
      "text/html": [
       "<table class=\"dataframe\">\n",
       "<caption>A data.frame: 6 × 3</caption>\n",
       "<thead>\n",
       "\t<tr><th></th><th scope=col>cell_type</th><th scope=col>barcode</th><th scope=col>sample</th></tr>\n",
       "\t<tr><th></th><th scope=col>&lt;fct&gt;</th><th scope=col>&lt;fct&gt;</th><th scope=col>&lt;int&gt;</th></tr>\n",
       "</thead>\n",
       "<tbody>\n",
       "\t<tr><th scope=row>29_TTCTTCCGTACGATGG-1</th><td>CD8 T cell</td><td>TTCTTCCGTACGATGG-1</td><td>29</td></tr>\n",
       "\t<tr><th scope=row>1_GTGTAACCACCTGCAG-1</th><td>CD8 T cell</td><td>GTGTAACCACCTGCAG-1</td><td> 1</td></tr>\n",
       "\t<tr><th scope=row>17_TCGTAGACAGCTGAAG-1</th><td>CD8 T cell</td><td>TCGTAGACAGCTGAAG-1</td><td>17</td></tr>\n",
       "\t<tr><th scope=row>7_AGAAATGCACCCATAA-1</th><td>CD8 T cell</td><td>AGAAATGCACCCATAA-1</td><td> 7</td></tr>\n",
       "\t<tr><th scope=row>15_TTTACTGGTTTGAACC-1</th><td>CD8 T cell</td><td>TTTACTGGTTTGAACC-1</td><td>15</td></tr>\n",
       "\t<tr><th scope=row>26_TTGTTCACACGAGGTA-1</th><td>CD8 T cell</td><td>TTGTTCACACGAGGTA-1</td><td>26</td></tr>\n",
       "</tbody>\n",
       "</table>\n"
      ],
      "text/latex": [
       "A data.frame: 6 × 3\n",
       "\\begin{tabular}{r|lll}\n",
       "  & cell\\_type & barcode & sample\\\\\n",
       "  & <fct> & <fct> & <int>\\\\\n",
       "\\hline\n",
       "\t29\\_TTCTTCCGTACGATGG-1 & CD8 T cell & TTCTTCCGTACGATGG-1 & 29\\\\\n",
       "\t1\\_GTGTAACCACCTGCAG-1 & CD8 T cell & GTGTAACCACCTGCAG-1 &  1\\\\\n",
       "\t17\\_TCGTAGACAGCTGAAG-1 & CD8 T cell & TCGTAGACAGCTGAAG-1 & 17\\\\\n",
       "\t7\\_AGAAATGCACCCATAA-1 & CD8 T cell & AGAAATGCACCCATAA-1 &  7\\\\\n",
       "\t15\\_TTTACTGGTTTGAACC-1 & CD8 T cell & TTTACTGGTTTGAACC-1 & 15\\\\\n",
       "\t26\\_TTGTTCACACGAGGTA-1 & CD8 T cell & TTGTTCACACGAGGTA-1 & 26\\\\\n",
       "\\end{tabular}\n"
      ],
      "text/markdown": [
       "\n",
       "A data.frame: 6 × 3\n",
       "\n",
       "| <!--/--> | cell_type &lt;fct&gt; | barcode &lt;fct&gt; | sample &lt;int&gt; |\n",
       "|---|---|---|---|\n",
       "| 29_TTCTTCCGTACGATGG-1 | CD8 T cell | TTCTTCCGTACGATGG-1 | 29 |\n",
       "| 1_GTGTAACCACCTGCAG-1 | CD8 T cell | GTGTAACCACCTGCAG-1 |  1 |\n",
       "| 17_TCGTAGACAGCTGAAG-1 | CD8 T cell | TCGTAGACAGCTGAAG-1 | 17 |\n",
       "| 7_AGAAATGCACCCATAA-1 | CD8 T cell | AGAAATGCACCCATAA-1 |  7 |\n",
       "| 15_TTTACTGGTTTGAACC-1 | CD8 T cell | TTTACTGGTTTGAACC-1 | 15 |\n",
       "| 26_TTGTTCACACGAGGTA-1 | CD8 T cell | TTGTTCACACGAGGTA-1 | 26 |\n",
       "\n"
      ],
      "text/plain": [
       "                      cell_type  barcode            sample\n",
       "29_TTCTTCCGTACGATGG-1 CD8 T cell TTCTTCCGTACGATGG-1 29    \n",
       "1_GTGTAACCACCTGCAG-1  CD8 T cell GTGTAACCACCTGCAG-1  1    \n",
       "17_TCGTAGACAGCTGAAG-1 CD8 T cell TCGTAGACAGCTGAAG-1 17    \n",
       "7_AGAAATGCACCCATAA-1  CD8 T cell AGAAATGCACCCATAA-1  7    \n",
       "15_TTTACTGGTTTGAACC-1 CD8 T cell TTTACTGGTTTGAACC-1 15    \n",
       "26_TTGTTCACACGAGGTA-1 CD8 T cell TTGTTCACACGAGGTA-1 26    "
      ]
     },
     "metadata": {},
     "output_type": "display_data"
    }
   ],
   "source": [
    "head(obj@meta.data)"
   ]
  },
  {
   "cell_type": "code",
   "execution_count": null,
   "id": "3d7c32d1",
   "metadata": {},
   "outputs": [],
   "source": []
  }
 ],
 "metadata": {
  "kernelspec": {
   "display_name": "R",
   "language": "R",
   "name": "ir"
  },
  "language_info": {
   "codemirror_mode": "r",
   "file_extension": ".r",
   "mimetype": "text/x-r-source",
   "name": "R",
   "pygments_lexer": "r",
   "version": "4.0.5"
  }
 },
 "nbformat": 4,
 "nbformat_minor": 5
}
