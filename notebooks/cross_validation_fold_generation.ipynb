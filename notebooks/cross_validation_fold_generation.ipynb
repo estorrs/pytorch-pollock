{
 "cells": [
  {
   "cell_type": "code",
   "execution_count": 1,
   "id": "be2eeca0",
   "metadata": {},
   "outputs": [],
   "source": [
    "import json\n",
    "import logging\n",
    "import os\n",
    "import re\n",
    "from pathlib import Path\n",
    "\n",
    "import anndata\n",
    "import numpy as np\n",
    "import pandas as pd\n",
    "import scanpy as sc"
   ]
  },
  {
   "cell_type": "code",
   "execution_count": 3,
   "id": "0875b0ab",
   "metadata": {},
   "outputs": [],
   "source": [
    "import pollock.utils as utils"
   ]
  },
  {
   "cell_type": "code",
   "execution_count": 27,
   "id": "ab8f4ddb",
   "metadata": {},
   "outputs": [],
   "source": [
    "out_dir = '/data/pollock/benchmarking/pollock_datasets_with_folds'"
   ]
  },
  {
   "cell_type": "code",
   "execution_count": 19,
   "id": "77a30959",
   "metadata": {},
   "outputs": [
    {
     "data": {
      "text/plain": [
       "{'snRNAseq': {'ccrcc': '/data/pollock/benchmarking/pollock_datasets/snRNAseq/ccrcc.h5ad',\n",
       "  'brca': '/data/pollock/benchmarking/pollock_datasets/snRNAseq/brca.h5ad',\n",
       "  'gbm': '/data/pollock/benchmarking/pollock_datasets/snRNAseq/gbm.h5ad'},\n",
       " 'snATACseq': {'brca': '/data/pollock/benchmarking/pollock_datasets/snATACseq/brca_gene_activity.h5ad',\n",
       "  'gbm': '/data/pollock/benchmarking/pollock_datasets/snATACseq/gbm_gene_activity.h5ad',\n",
       "  'ccrcc': '/data/pollock/benchmarking/pollock_datasets/snATACseq/ccrcc_gene_activity.h5ad'},\n",
       " 'scRNAseq': {'cesc': '/data/pollock/benchmarking/pollock_datasets/scRNAseq/cesc.h5ad',\n",
       "  'melanoma': '/data/pollock/benchmarking/pollock_datasets/scRNAseq/melanoma.h5ad',\n",
       "  'brca': '/data/pollock/benchmarking/pollock_datasets/scRNAseq/brca.h5ad',\n",
       "  'hnscc': '/data/pollock/benchmarking/pollock_datasets/scRNAseq/hnscc.h5ad',\n",
       "  'myeloma': '/data/pollock/benchmarking/pollock_datasets/scRNAseq/myeloma.h5ad',\n",
       "  'pdac': '/data/pollock/benchmarking/pollock_datasets/scRNAseq/pdac.h5ad'}}"
      ]
     },
     "execution_count": 19,
     "metadata": {},
     "output_type": "execute_result"
    }
   ],
   "source": [
    "data_dir = '/data/pollock/benchmarking/pollock_datasets/'\n",
    "fps = utils.listfiles(data_dir, regex=r'.h5ad')\n",
    "fps = [fp for fp in fps\n",
    "       if 'train' not in fp\n",
    "       if 'val' not in fp]\n",
    "\n",
    "fmap = {}\n",
    "for fp in fps:\n",
    "    dtype = fp.split('/')[-2]\n",
    "    root = fp.split('/')[-1]\n",
    "    if '_' not in root:\n",
    "        disease = root.split('.')[0]\n",
    "    else:\n",
    "        disease = root.split('_')[0]\n",
    "    \n",
    "    if dtype not in fmap:\n",
    "        fmap[dtype] = {}\n",
    "    \n",
    "    if not (dtype == 'snATACseq' and ('peaks' in fp or 'motif' in fp)):\n",
    "        fmap[dtype][disease] = fp\n",
    "fmap"
   ]
  },
  {
   "cell_type": "code",
   "execution_count": null,
   "id": "aeb73426",
   "metadata": {},
   "outputs": [],
   "source": []
  },
  {
   "cell_type": "code",
   "execution_count": 29,
   "id": "da3f1d2a",
   "metadata": {},
   "outputs": [
    {
     "name": "stdout",
     "output_type": "stream",
     "text": [
      "snRNAseq ccrcc 0\n",
      "snRNAseq ccrcc 1\n",
      "snRNAseq ccrcc 2\n",
      "snRNAseq ccrcc 3\n",
      "snRNAseq ccrcc 4\n",
      "snRNAseq brca 0\n",
      "snRNAseq brca 1\n",
      "snRNAseq brca 2\n",
      "snRNAseq brca 3\n",
      "snRNAseq brca 4\n",
      "snRNAseq gbm 0\n",
      "snRNAseq gbm 1\n",
      "snRNAseq gbm 2\n",
      "snRNAseq gbm 3\n",
      "snRNAseq gbm 4\n",
      "snATACseq brca 0\n",
      "snATACseq brca 1\n",
      "snATACseq brca 2\n",
      "snATACseq brca 3\n",
      "snATACseq brca 4\n",
      "snATACseq gbm 0\n",
      "snATACseq gbm 1\n",
      "snATACseq gbm 2\n",
      "snATACseq gbm 3\n",
      "snATACseq gbm 4\n",
      "snATACseq ccrcc 0\n",
      "snATACseq ccrcc 1\n",
      "snATACseq ccrcc 2\n",
      "snATACseq ccrcc 3\n",
      "snATACseq ccrcc 4\n",
      "scRNAseq cesc 0\n",
      "scRNAseq cesc 1\n",
      "scRNAseq cesc 2\n",
      "scRNAseq cesc 3\n",
      "scRNAseq cesc 4\n",
      "scRNAseq melanoma 0\n",
      "scRNAseq melanoma 1\n",
      "scRNAseq melanoma 2\n",
      "scRNAseq melanoma 3\n",
      "scRNAseq melanoma 4\n",
      "scRNAseq brca 0\n",
      "scRNAseq brca 1\n",
      "scRNAseq brca 2\n",
      "scRNAseq brca 3\n",
      "scRNAseq brca 4\n",
      "scRNAseq hnscc 0\n",
      "scRNAseq hnscc 1\n",
      "scRNAseq hnscc 2\n",
      "scRNAseq hnscc 3\n",
      "scRNAseq hnscc 4\n",
      "scRNAseq myeloma 0\n",
      "scRNAseq myeloma 1\n",
      "scRNAseq myeloma 2\n",
      "scRNAseq myeloma 3\n",
      "scRNAseq myeloma 4\n",
      "scRNAseq pdac 0\n",
      "scRNAseq pdac 1\n",
      "scRNAseq pdac 2\n",
      "scRNAseq pdac 3\n",
      "scRNAseq pdac 4\n"
     ]
    }
   ],
   "source": [
    "for dtype, d in fmap.items():\n",
    "    for disease, fp in d.items():\n",
    "        a = sc.read_h5ad(fp)\n",
    "        out = os.path.join(out_dir, dtype)\n",
    "        Path(out).mkdir(parents=True, exist_ok=True)\n",
    "        for i in range(5):\n",
    "            print(dtype, disease, i)\n",
    "            train_ids, rest = utils.get_splits(a, 'cell_type', 500, oversample=False, split=.8)\n",
    "            val_ids, _ = utils.get_splits(a[rest], 'cell_type', 500, oversample=False, split=1.)\n",
    "            train, val = a[train_ids], a[val_ids]\n",
    "            train.write_h5ad(os.path.join(out, f'{disease}_fold{i}_train.h5ad'))\n",
    "            val.write_h5ad(os.path.join(out, f'{disease}_fold{i}_val.h5ad'))"
   ]
  },
  {
   "cell_type": "code",
   "execution_count": null,
   "id": "d3bb5b32",
   "metadata": {},
   "outputs": [],
   "source": []
  },
  {
   "cell_type": "code",
   "execution_count": null,
   "id": "e8a4a10f",
   "metadata": {},
   "outputs": [],
   "source": []
  },
  {
   "cell_type": "code",
   "execution_count": null,
   "id": "c3df9703",
   "metadata": {},
   "outputs": [],
   "source": []
  },
  {
   "cell_type": "code",
   "execution_count": null,
   "id": "5aaea4fa",
   "metadata": {},
   "outputs": [],
   "source": []
  },
  {
   "cell_type": "code",
   "execution_count": 20,
   "id": "a154fe68",
   "metadata": {},
   "outputs": [
    {
     "data": {
      "text/plain": [
       "AnnData object with n_obs × n_vars = 98564 × 27131\n",
       "    obs: 'cell_type', 'barcode', 'sample'"
      ]
     },
     "execution_count": 20,
     "metadata": {},
     "output_type": "execute_result"
    }
   ],
   "source": [
    "adata = sc.read_h5ad(fmap['scRNAseq']['brca'])\n",
    "adata"
   ]
  },
  {
   "cell_type": "code",
   "execution_count": null,
   "id": "2fca0e6c",
   "metadata": {},
   "outputs": [],
   "source": []
  },
  {
   "cell_type": "code",
   "execution_count": null,
   "id": "3f8ce8a7",
   "metadata": {},
   "outputs": [],
   "source": []
  },
  {
   "cell_type": "code",
   "execution_count": null,
   "id": "1ead5632",
   "metadata": {},
   "outputs": [],
   "source": []
  },
  {
   "cell_type": "code",
   "execution_count": null,
   "id": "2233ef78",
   "metadata": {},
   "outputs": [],
   "source": []
  },
  {
   "cell_type": "code",
   "execution_count": 24,
   "id": "cbde91a1",
   "metadata": {},
   "outputs": [],
   "source": [
    "train_ids, rest = utils.get_splits(adata, 'cell_type', 500, oversample=False, split=.8)\n",
    "val_ids, _ = utils.get_splits(adata[rest], 'cell_type', 500, oversample=False, split=1.)"
   ]
  },
  {
   "cell_type": "code",
   "execution_count": 25,
   "id": "8cefad3b",
   "metadata": {},
   "outputs": [
    {
     "data": {
      "text/plain": [
       "[('CD8 T cell', 500),\n",
       " ('Endothelial', 500),\n",
       " ('Fibroblast', 500),\n",
       " ('Malignant', 500),\n",
       " ('NK', 500),\n",
       " ('Monocyte', 500),\n",
       " ('Treg', 500),\n",
       " ('CD4 T cell', 500),\n",
       " ('B cell', 500),\n",
       " ('Plasma', 500),\n",
       " ('Mast', 500),\n",
       " ('Dendritic', 473),\n",
       " ('Erythrocyte', 412)]"
      ]
     },
     "execution_count": 25,
     "metadata": {},
     "output_type": "execute_result"
    }
   ],
   "source": [
    "from collections import Counter\n",
    "Counter(adata[train_ids].obs['cell_type']).most_common()"
   ]
  },
  {
   "cell_type": "code",
   "execution_count": 26,
   "id": "9c1aa768",
   "metadata": {},
   "outputs": [
    {
     "data": {
      "text/plain": [
       "[('CD8 T cell', 500),\n",
       " ('Endothelial', 500),\n",
       " ('Fibroblast', 500),\n",
       " ('Malignant', 500),\n",
       " ('NK', 500),\n",
       " ('Monocyte', 500),\n",
       " ('CD4 T cell', 500),\n",
       " ('Treg', 500),\n",
       " ('B cell', 500),\n",
       " ('Plasma', 500),\n",
       " ('Mast', 246),\n",
       " ('Dendritic', 119),\n",
       " ('Erythrocyte', 103)]"
      ]
     },
     "execution_count": 26,
     "metadata": {},
     "output_type": "execute_result"
    }
   ],
   "source": [
    "Counter(adata[val_ids].obs['cell_type']).most_common()"
   ]
  },
  {
   "cell_type": "code",
   "execution_count": null,
   "id": "b77c3545",
   "metadata": {},
   "outputs": [],
   "source": []
  }
 ],
 "metadata": {
  "kernelspec": {
   "display_name": "Python 3 (ipykernel)",
   "language": "python",
   "name": "python3"
  },
  "language_info": {
   "codemirror_mode": {
    "name": "ipython",
    "version": 3
   },
   "file_extension": ".py",
   "mimetype": "text/x-python",
   "name": "python",
   "nbconvert_exporter": "python",
   "pygments_lexer": "ipython3",
   "version": "3.8.12"
  }
 },
 "nbformat": 4,
 "nbformat_minor": 5
}
