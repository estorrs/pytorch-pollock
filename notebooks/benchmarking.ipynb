{
 "cells": [
  {
   "cell_type": "code",
   "execution_count": 1,
   "id": "6f9e4463",
   "metadata": {},
   "outputs": [],
   "source": [
    "import json\n",
    "import logging\n",
    "import os\n",
    "import re\n",
    "from pathlib import Path\n",
    "\n",
    "import anndata\n",
    "import numpy as np\n",
    "import pandas as pd\n",
    "import scanpy as sc\n",
    "from sklearn.metrics import classification_report, confusion_matrix"
   ]
  },
  {
   "cell_type": "code",
   "execution_count": 2,
   "id": "0e8fe573",
   "metadata": {},
   "outputs": [],
   "source": [
    "%load_ext autoreload"
   ]
  },
  {
   "cell_type": "code",
   "execution_count": 3,
   "id": "d7362fc9",
   "metadata": {},
   "outputs": [],
   "source": [
    "%autoreload 2"
   ]
  },
  {
   "cell_type": "code",
   "execution_count": 4,
   "id": "e83ccaae",
   "metadata": {},
   "outputs": [],
   "source": [
    "import pollock.utils as utils\n",
    "from pollock.explain import explain_adata"
   ]
  },
  {
   "cell_type": "code",
   "execution_count": 5,
   "id": "e0a1190b",
   "metadata": {},
   "outputs": [
    {
     "data": {
      "text/plain": [
       "{'snRNAseq': {'ccrcc': {'train': '/data/pollock/benchmarking/pollock_datasets/snRNAseq/ccrcc_train.h5ad',\n",
       "   'val': '/data/pollock/benchmarking/pollock_datasets/snRNAseq/ccrcc_val.h5ad'},\n",
       "  'brca': {'train': '/data/pollock/benchmarking/pollock_datasets/snRNAseq/brca_train.h5ad',\n",
       "   'val': '/data/pollock/benchmarking/pollock_datasets/snRNAseq/brca_val.h5ad'},\n",
       "  'gbm': {'val': '/data/pollock/benchmarking/pollock_datasets/snRNAseq/gbm_val.h5ad',\n",
       "   'train': '/data/pollock/benchmarking/pollock_datasets/snRNAseq/gbm_train.h5ad'}},\n",
       " 'snATACseq': {'brca': {'train': '/data/pollock/benchmarking/pollock_datasets/snATACseq/brca_gene_activity_train.h5ad',\n",
       "   'val': '/data/pollock/benchmarking/pollock_datasets/snATACseq/brca_gene_activity_val.h5ad'},\n",
       "  'ccrcc': {'train': '/data/pollock/benchmarking/pollock_datasets/snATACseq/ccrcc_gene_activity_train.h5ad',\n",
       "   'val': '/data/pollock/benchmarking/pollock_datasets/snATACseq/ccrcc_gene_activity_val.h5ad'},\n",
       "  'gbm': {'val': '/data/pollock/benchmarking/pollock_datasets/snATACseq/gbm_gene_activity_val.h5ad',\n",
       "   'train': '/data/pollock/benchmarking/pollock_datasets/snATACseq/gbm_gene_activity_train.h5ad'}},\n",
       " 'scRNAseq': {'cesc': {'val': '/data/pollock/benchmarking/pollock_datasets/scRNAseq/cesc_val.h5ad',\n",
       "   'train': '/data/pollock/benchmarking/pollock_datasets/scRNAseq/cesc_train.h5ad'},\n",
       "  'myeloma': {'train': '/data/pollock/benchmarking/pollock_datasets/scRNAseq/myeloma_train.h5ad',\n",
       "   'val': '/data/pollock/benchmarking/pollock_datasets/scRNAseq/myeloma_val.h5ad'},\n",
       "  'brca': {'train': '/data/pollock/benchmarking/pollock_datasets/scRNAseq/brca_train.h5ad',\n",
       "   'val': '/data/pollock/benchmarking/pollock_datasets/scRNAseq/brca_val.h5ad'},\n",
       "  'hnscc': {'train': '/data/pollock/benchmarking/pollock_datasets/scRNAseq/hnscc_train.h5ad',\n",
       "   'val': '/data/pollock/benchmarking/pollock_datasets/scRNAseq/hnscc_val.h5ad'},\n",
       "  'pdac': {'val': '/data/pollock/benchmarking/pollock_datasets/scRNAseq/pdac_val.h5ad',\n",
       "   'train': '/data/pollock/benchmarking/pollock_datasets/scRNAseq/pdac_train.h5ad'},\n",
       "  'melanoma': {'val': '/data/pollock/benchmarking/pollock_datasets/scRNAseq/melanoma_val.h5ad',\n",
       "   'train': '/data/pollock/benchmarking/pollock_datasets/scRNAseq/melanoma_train.h5ad'}}}"
      ]
     },
     "execution_count": 5,
     "metadata": {},
     "output_type": "execute_result"
    }
   ],
   "source": [
    "data_dir = '/data/pollock/benchmarking/pollock_datasets/'\n",
    "fps = utils.listfiles(data_dir, regex=r'.h5ad')\n",
    "fps = [fp for fp in fps if '_train' in fp or '_val' in fp]\n",
    "\n",
    "fmap = {}\n",
    "for fp in fps:\n",
    "    dtype = fp.split('/')[-2]\n",
    "    disease = fp.split('/')[-1].split('_')[0]\n",
    "    partition = 'train' if '_train' in fp else 'val'\n",
    "    \n",
    "    if dtype not in fmap:\n",
    "        fmap[dtype] = {}\n",
    "    if disease not in fmap[dtype]:\n",
    "        fmap[dtype][disease] = {}\n",
    "    \n",
    "    if not (dtype == 'snATACseq' and ('peaks' in fp or 'motif' in fp)):\n",
    "        fmap[dtype][disease][partition] = fp\n",
    "fmap"
   ]
  },
  {
   "cell_type": "code",
   "execution_count": 6,
   "id": "c356b870",
   "metadata": {},
   "outputs": [
    {
     "data": {
      "text/plain": [
       "{'snRNAseq': {'ccrcc': {'fold3': {'train': '/data/pollock/benchmarking/pollock_datasets_with_folds/snRNAseq/ccrcc_fold3_train.h5ad',\n",
       "    'val': '/data/pollock/benchmarking/pollock_datasets_with_folds/snRNAseq/ccrcc_fold3_val.h5ad'},\n",
       "   'fold1': {'val': '/data/pollock/benchmarking/pollock_datasets_with_folds/snRNAseq/ccrcc_fold1_val.h5ad',\n",
       "    'train': '/data/pollock/benchmarking/pollock_datasets_with_folds/snRNAseq/ccrcc_fold1_train.h5ad'},\n",
       "   'fold2': {'train': '/data/pollock/benchmarking/pollock_datasets_with_folds/snRNAseq/ccrcc_fold2_train.h5ad',\n",
       "    'val': '/data/pollock/benchmarking/pollock_datasets_with_folds/snRNAseq/ccrcc_fold2_val.h5ad'},\n",
       "   'fold0': {'val': '/data/pollock/benchmarking/pollock_datasets_with_folds/snRNAseq/ccrcc_fold0_val.h5ad',\n",
       "    'train': '/data/pollock/benchmarking/pollock_datasets_with_folds/snRNAseq/ccrcc_fold0_train.h5ad'},\n",
       "   'fold4': {'val': '/data/pollock/benchmarking/pollock_datasets_with_folds/snRNAseq/ccrcc_fold4_val.h5ad',\n",
       "    'train': '/data/pollock/benchmarking/pollock_datasets_with_folds/snRNAseq/ccrcc_fold4_train.h5ad'}},\n",
       "  'brca': {'fold2': {'train': '/data/pollock/benchmarking/pollock_datasets_with_folds/snRNAseq/brca_fold2_train.h5ad',\n",
       "    'val': '/data/pollock/benchmarking/pollock_datasets_with_folds/snRNAseq/brca_fold2_val.h5ad'},\n",
       "   'fold1': {'train': '/data/pollock/benchmarking/pollock_datasets_with_folds/snRNAseq/brca_fold1_train.h5ad',\n",
       "    'val': '/data/pollock/benchmarking/pollock_datasets_with_folds/snRNAseq/brca_fold1_val.h5ad'},\n",
       "   'fold3': {'train': '/data/pollock/benchmarking/pollock_datasets_with_folds/snRNAseq/brca_fold3_train.h5ad',\n",
       "    'val': '/data/pollock/benchmarking/pollock_datasets_with_folds/snRNAseq/brca_fold3_val.h5ad'},\n",
       "   'fold0': {'val': '/data/pollock/benchmarking/pollock_datasets_with_folds/snRNAseq/brca_fold0_val.h5ad',\n",
       "    'train': '/data/pollock/benchmarking/pollock_datasets_with_folds/snRNAseq/brca_fold0_train.h5ad'},\n",
       "   'fold4': {'train': '/data/pollock/benchmarking/pollock_datasets_with_folds/snRNAseq/brca_fold4_train.h5ad',\n",
       "    'val': '/data/pollock/benchmarking/pollock_datasets_with_folds/snRNAseq/brca_fold4_val.h5ad'}},\n",
       "  'gbm': {'fold4': {'train': '/data/pollock/benchmarking/pollock_datasets_with_folds/snRNAseq/gbm_fold4_train.h5ad',\n",
       "    'val': '/data/pollock/benchmarking/pollock_datasets_with_folds/snRNAseq/gbm_fold4_val.h5ad'},\n",
       "   'fold3': {'train': '/data/pollock/benchmarking/pollock_datasets_with_folds/snRNAseq/gbm_fold3_train.h5ad',\n",
       "    'val': '/data/pollock/benchmarking/pollock_datasets_with_folds/snRNAseq/gbm_fold3_val.h5ad'},\n",
       "   'fold0': {'train': '/data/pollock/benchmarking/pollock_datasets_with_folds/snRNAseq/gbm_fold0_train.h5ad',\n",
       "    'val': '/data/pollock/benchmarking/pollock_datasets_with_folds/snRNAseq/gbm_fold0_val.h5ad'},\n",
       "   'fold2': {'val': '/data/pollock/benchmarking/pollock_datasets_with_folds/snRNAseq/gbm_fold2_val.h5ad',\n",
       "    'train': '/data/pollock/benchmarking/pollock_datasets_with_folds/snRNAseq/gbm_fold2_train.h5ad'},\n",
       "   'fold1': {'train': '/data/pollock/benchmarking/pollock_datasets_with_folds/snRNAseq/gbm_fold1_train.h5ad',\n",
       "    'val': '/data/pollock/benchmarking/pollock_datasets_with_folds/snRNAseq/gbm_fold1_val.h5ad'}}},\n",
       " 'snATACseq': {'ccrcc': {'fold3': {'train': '/data/pollock/benchmarking/pollock_datasets_with_folds/snATACseq/ccrcc_fold3_train.h5ad',\n",
       "    'val': '/data/pollock/benchmarking/pollock_datasets_with_folds/snATACseq/ccrcc_fold3_val.h5ad'},\n",
       "   'fold1': {'val': '/data/pollock/benchmarking/pollock_datasets_with_folds/snATACseq/ccrcc_fold1_val.h5ad',\n",
       "    'train': '/data/pollock/benchmarking/pollock_datasets_with_folds/snATACseq/ccrcc_fold1_train.h5ad'},\n",
       "   'fold2': {'train': '/data/pollock/benchmarking/pollock_datasets_with_folds/snATACseq/ccrcc_fold2_train.h5ad',\n",
       "    'val': '/data/pollock/benchmarking/pollock_datasets_with_folds/snATACseq/ccrcc_fold2_val.h5ad'},\n",
       "   'fold0': {'val': '/data/pollock/benchmarking/pollock_datasets_with_folds/snATACseq/ccrcc_fold0_val.h5ad',\n",
       "    'train': '/data/pollock/benchmarking/pollock_datasets_with_folds/snATACseq/ccrcc_fold0_train.h5ad'},\n",
       "   'fold4': {'val': '/data/pollock/benchmarking/pollock_datasets_with_folds/snATACseq/ccrcc_fold4_val.h5ad',\n",
       "    'train': '/data/pollock/benchmarking/pollock_datasets_with_folds/snATACseq/ccrcc_fold4_train.h5ad'}},\n",
       "  'brca': {'fold2': {'train': '/data/pollock/benchmarking/pollock_datasets_with_folds/snATACseq/brca_fold2_train.h5ad',\n",
       "    'val': '/data/pollock/benchmarking/pollock_datasets_with_folds/snATACseq/brca_fold2_val.h5ad'},\n",
       "   'fold1': {'train': '/data/pollock/benchmarking/pollock_datasets_with_folds/snATACseq/brca_fold1_train.h5ad',\n",
       "    'val': '/data/pollock/benchmarking/pollock_datasets_with_folds/snATACseq/brca_fold1_val.h5ad'},\n",
       "   'fold3': {'train': '/data/pollock/benchmarking/pollock_datasets_with_folds/snATACseq/brca_fold3_train.h5ad',\n",
       "    'val': '/data/pollock/benchmarking/pollock_datasets_with_folds/snATACseq/brca_fold3_val.h5ad'},\n",
       "   'fold0': {'val': '/data/pollock/benchmarking/pollock_datasets_with_folds/snATACseq/brca_fold0_val.h5ad',\n",
       "    'train': '/data/pollock/benchmarking/pollock_datasets_with_folds/snATACseq/brca_fold0_train.h5ad'},\n",
       "   'fold4': {'train': '/data/pollock/benchmarking/pollock_datasets_with_folds/snATACseq/brca_fold4_train.h5ad',\n",
       "    'val': '/data/pollock/benchmarking/pollock_datasets_with_folds/snATACseq/brca_fold4_val.h5ad'}},\n",
       "  'gbm': {'fold4': {'train': '/data/pollock/benchmarking/pollock_datasets_with_folds/snATACseq/gbm_fold4_train.h5ad',\n",
       "    'val': '/data/pollock/benchmarking/pollock_datasets_with_folds/snATACseq/gbm_fold4_val.h5ad'},\n",
       "   'fold3': {'train': '/data/pollock/benchmarking/pollock_datasets_with_folds/snATACseq/gbm_fold3_train.h5ad',\n",
       "    'val': '/data/pollock/benchmarking/pollock_datasets_with_folds/snATACseq/gbm_fold3_val.h5ad'},\n",
       "   'fold0': {'train': '/data/pollock/benchmarking/pollock_datasets_with_folds/snATACseq/gbm_fold0_train.h5ad',\n",
       "    'val': '/data/pollock/benchmarking/pollock_datasets_with_folds/snATACseq/gbm_fold0_val.h5ad'},\n",
       "   'fold2': {'val': '/data/pollock/benchmarking/pollock_datasets_with_folds/snATACseq/gbm_fold2_val.h5ad',\n",
       "    'train': '/data/pollock/benchmarking/pollock_datasets_with_folds/snATACseq/gbm_fold2_train.h5ad'},\n",
       "   'fold1': {'train': '/data/pollock/benchmarking/pollock_datasets_with_folds/snATACseq/gbm_fold1_train.h5ad',\n",
       "    'val': '/data/pollock/benchmarking/pollock_datasets_with_folds/snATACseq/gbm_fold1_val.h5ad'}}},\n",
       " 'scRNAseq': {'hnscc': {'fold0': {'val': '/data/pollock/benchmarking/pollock_datasets_with_folds/scRNAseq/hnscc_fold0_val.h5ad',\n",
       "    'train': '/data/pollock/benchmarking/pollock_datasets_with_folds/scRNAseq/hnscc_fold0_train.h5ad'},\n",
       "   'fold4': {'val': '/data/pollock/benchmarking/pollock_datasets_with_folds/scRNAseq/hnscc_fold4_val.h5ad',\n",
       "    'train': '/data/pollock/benchmarking/pollock_datasets_with_folds/scRNAseq/hnscc_fold4_train.h5ad'},\n",
       "   'fold1': {'val': '/data/pollock/benchmarking/pollock_datasets_with_folds/scRNAseq/hnscc_fold1_val.h5ad',\n",
       "    'train': '/data/pollock/benchmarking/pollock_datasets_with_folds/scRNAseq/hnscc_fold1_train.h5ad'},\n",
       "   'fold3': {'val': '/data/pollock/benchmarking/pollock_datasets_with_folds/scRNAseq/hnscc_fold3_val.h5ad',\n",
       "    'train': '/data/pollock/benchmarking/pollock_datasets_with_folds/scRNAseq/hnscc_fold3_train.h5ad'},\n",
       "   'fold2': {'train': '/data/pollock/benchmarking/pollock_datasets_with_folds/scRNAseq/hnscc_fold2_train.h5ad',\n",
       "    'val': '/data/pollock/benchmarking/pollock_datasets_with_folds/scRNAseq/hnscc_fold2_val.h5ad'}},\n",
       "  'cesc': {'fold4': {'train': '/data/pollock/benchmarking/pollock_datasets_with_folds/scRNAseq/cesc_fold4_train.h5ad',\n",
       "    'val': '/data/pollock/benchmarking/pollock_datasets_with_folds/scRNAseq/cesc_fold4_val.h5ad'},\n",
       "   'fold3': {'train': '/data/pollock/benchmarking/pollock_datasets_with_folds/scRNAseq/cesc_fold3_train.h5ad',\n",
       "    'val': '/data/pollock/benchmarking/pollock_datasets_with_folds/scRNAseq/cesc_fold3_val.h5ad'},\n",
       "   'fold2': {'val': '/data/pollock/benchmarking/pollock_datasets_with_folds/scRNAseq/cesc_fold2_val.h5ad',\n",
       "    'train': '/data/pollock/benchmarking/pollock_datasets_with_folds/scRNAseq/cesc_fold2_train.h5ad'},\n",
       "   'fold0': {'train': '/data/pollock/benchmarking/pollock_datasets_with_folds/scRNAseq/cesc_fold0_train.h5ad',\n",
       "    'val': '/data/pollock/benchmarking/pollock_datasets_with_folds/scRNAseq/cesc_fold0_val.h5ad'},\n",
       "   'fold1': {'train': '/data/pollock/benchmarking/pollock_datasets_with_folds/scRNAseq/cesc_fold1_train.h5ad',\n",
       "    'val': '/data/pollock/benchmarking/pollock_datasets_with_folds/scRNAseq/cesc_fold1_val.h5ad'}},\n",
       "  'brca': {'fold2': {'train': '/data/pollock/benchmarking/pollock_datasets_with_folds/scRNAseq/brca_fold2_train.h5ad',\n",
       "    'val': '/data/pollock/benchmarking/pollock_datasets_with_folds/scRNAseq/brca_fold2_val.h5ad'},\n",
       "   'fold1': {'train': '/data/pollock/benchmarking/pollock_datasets_with_folds/scRNAseq/brca_fold1_train.h5ad',\n",
       "    'val': '/data/pollock/benchmarking/pollock_datasets_with_folds/scRNAseq/brca_fold1_val.h5ad'},\n",
       "   'fold3': {'train': '/data/pollock/benchmarking/pollock_datasets_with_folds/scRNAseq/brca_fold3_train.h5ad',\n",
       "    'val': '/data/pollock/benchmarking/pollock_datasets_with_folds/scRNAseq/brca_fold3_val.h5ad'},\n",
       "   'fold0': {'val': '/data/pollock/benchmarking/pollock_datasets_with_folds/scRNAseq/brca_fold0_val.h5ad',\n",
       "    'train': '/data/pollock/benchmarking/pollock_datasets_with_folds/scRNAseq/brca_fold0_train.h5ad'},\n",
       "   'fold4': {'train': '/data/pollock/benchmarking/pollock_datasets_with_folds/scRNAseq/brca_fold4_train.h5ad',\n",
       "    'val': '/data/pollock/benchmarking/pollock_datasets_with_folds/scRNAseq/brca_fold4_val.h5ad'}},\n",
       "  'myeloma': {'fold0': {'train': '/data/pollock/benchmarking/pollock_datasets_with_folds/scRNAseq/myeloma_fold0_train.h5ad',\n",
       "    'val': '/data/pollock/benchmarking/pollock_datasets_with_folds/scRNAseq/myeloma_fold0_val.h5ad'},\n",
       "   'fold1': {'val': '/data/pollock/benchmarking/pollock_datasets_with_folds/scRNAseq/myeloma_fold1_val.h5ad',\n",
       "    'train': '/data/pollock/benchmarking/pollock_datasets_with_folds/scRNAseq/myeloma_fold1_train.h5ad'},\n",
       "   'fold3': {'val': '/data/pollock/benchmarking/pollock_datasets_with_folds/scRNAseq/myeloma_fold3_val.h5ad',\n",
       "    'train': '/data/pollock/benchmarking/pollock_datasets_with_folds/scRNAseq/myeloma_fold3_train.h5ad'},\n",
       "   'fold4': {'val': '/data/pollock/benchmarking/pollock_datasets_with_folds/scRNAseq/myeloma_fold4_val.h5ad',\n",
       "    'train': '/data/pollock/benchmarking/pollock_datasets_with_folds/scRNAseq/myeloma_fold4_train.h5ad'},\n",
       "   'fold2': {'train': '/data/pollock/benchmarking/pollock_datasets_with_folds/scRNAseq/myeloma_fold2_train.h5ad',\n",
       "    'val': '/data/pollock/benchmarking/pollock_datasets_with_folds/scRNAseq/myeloma_fold2_val.h5ad'}},\n",
       "  'melanoma': {'fold3': {'train': '/data/pollock/benchmarking/pollock_datasets_with_folds/scRNAseq/melanoma_fold3_train.h5ad',\n",
       "    'val': '/data/pollock/benchmarking/pollock_datasets_with_folds/scRNAseq/melanoma_fold3_val.h5ad'},\n",
       "   'fold0': {'val': '/data/pollock/benchmarking/pollock_datasets_with_folds/scRNAseq/melanoma_fold0_val.h5ad',\n",
       "    'train': '/data/pollock/benchmarking/pollock_datasets_with_folds/scRNAseq/melanoma_fold0_train.h5ad'},\n",
       "   'fold2': {'val': '/data/pollock/benchmarking/pollock_datasets_with_folds/scRNAseq/melanoma_fold2_val.h5ad',\n",
       "    'train': '/data/pollock/benchmarking/pollock_datasets_with_folds/scRNAseq/melanoma_fold2_train.h5ad'},\n",
       "   'fold1': {'train': '/data/pollock/benchmarking/pollock_datasets_with_folds/scRNAseq/melanoma_fold1_train.h5ad',\n",
       "    'val': '/data/pollock/benchmarking/pollock_datasets_with_folds/scRNAseq/melanoma_fold1_val.h5ad'},\n",
       "   'fold4': {'train': '/data/pollock/benchmarking/pollock_datasets_with_folds/scRNAseq/melanoma_fold4_train.h5ad',\n",
       "    'val': '/data/pollock/benchmarking/pollock_datasets_with_folds/scRNAseq/melanoma_fold4_val.h5ad'}},\n",
       "  'pdac': {'fold2': {'train': '/data/pollock/benchmarking/pollock_datasets_with_folds/scRNAseq/pdac_fold2_train.h5ad',\n",
       "    'val': '/data/pollock/benchmarking/pollock_datasets_with_folds/scRNAseq/pdac_fold2_val.h5ad'},\n",
       "   'fold3': {'val': '/data/pollock/benchmarking/pollock_datasets_with_folds/scRNAseq/pdac_fold3_val.h5ad',\n",
       "    'train': '/data/pollock/benchmarking/pollock_datasets_with_folds/scRNAseq/pdac_fold3_train.h5ad'},\n",
       "   'fold1': {'train': '/data/pollock/benchmarking/pollock_datasets_with_folds/scRNAseq/pdac_fold1_train.h5ad',\n",
       "    'val': '/data/pollock/benchmarking/pollock_datasets_with_folds/scRNAseq/pdac_fold1_val.h5ad'},\n",
       "   'fold4': {'train': '/data/pollock/benchmarking/pollock_datasets_with_folds/scRNAseq/pdac_fold4_train.h5ad',\n",
       "    'val': '/data/pollock/benchmarking/pollock_datasets_with_folds/scRNAseq/pdac_fold4_val.h5ad'},\n",
       "   'fold0': {'val': '/data/pollock/benchmarking/pollock_datasets_with_folds/scRNAseq/pdac_fold0_val.h5ad',\n",
       "    'train': '/data/pollock/benchmarking/pollock_datasets_with_folds/scRNAseq/pdac_fold0_train.h5ad'}}}}"
      ]
     },
     "execution_count": 6,
     "metadata": {},
     "output_type": "execute_result"
    }
   ],
   "source": [
    "data_dir = '/data/pollock/benchmarking/pollock_datasets_with_folds/'\n",
    "fps = utils.listfiles(data_dir, regex=r'.h5ad')\n",
    "fps = [fp for fp in fps if '_train' in fp or '_val' in fp]\n",
    "\n",
    "folds_fmap = {}\n",
    "for fp in fps:\n",
    "    dtype = fp.split('/')[-2]\n",
    "    disease = fp.split('/')[-1].split('_')[0]\n",
    "    partition = 'train' if '_train' in fp else 'val'\n",
    "    fold = fp.split('/')[-1].split('_')[-2]\n",
    "    \n",
    "    if dtype not in folds_fmap:\n",
    "        folds_fmap[dtype] = {}\n",
    "    if disease not in folds_fmap[dtype]:\n",
    "        folds_fmap[dtype][disease] = {}\n",
    "    if fold not in folds_fmap[dtype][disease]:\n",
    "        folds_fmap[dtype][disease][fold] = {}\n",
    "    \n",
    "    if not (dtype == 'snATACseq' and ('peaks' in fp or 'motif' in fp)):\n",
    "        folds_fmap[dtype][disease][fold][partition] = fp\n",
    "folds_fmap"
   ]
  },
  {
   "cell_type": "code",
   "execution_count": 7,
   "id": "b4eb8fd0",
   "metadata": {},
   "outputs": [],
   "source": [
    "def get_metrics(y_true_labels, y_pred_labels, overlapping_only=False):\n",
    "    classes = sorted(set(y_true_labels))\n",
    "    \n",
    "    if overlapping_only:\n",
    "        classes = [c for c in classes if c in y_pred_labels]\n",
    "        y_pred_labels, y_true_labels = zip(*[(p, t) for p, t in zip(y_pred_labels, y_true_labels)\n",
    "                              if t in classes])\n",
    "        classes = sorted(set(y_true_labels).union(set(y_pred_labels)))\n",
    "\n",
    "    y_pred = [classes.index(c) for c in y_pred_labels]\n",
    "    y_true = [classes.index(c) for c in y_true_labels]\n",
    "\n",
    "    d = classification_report(y_true, y_pred, labels=list(range(len(classes))), target_names=classes,\n",
    "                             output_dict=True)\n",
    "    d = pd.DataFrame.from_dict(d)\n",
    "    cm = confusion_matrix(y_true, y_pred, labels=list(range(len(classes))))\n",
    "    cm = pd.DataFrame(data=cm, index=classes, columns=classes)\n",
    "    \n",
    "    d.index.name = 'metric'\n",
    "    cm.index.name = 'cell_type'\n",
    "    \n",
    "    return d, cm"
   ]
  },
  {
   "cell_type": "markdown",
   "id": "f2c906de",
   "metadata": {},
   "source": [
    "#### benchmarking pollock"
   ]
  },
  {
   "cell_type": "markdown",
   "id": "ae8712aa",
   "metadata": {},
   "source": [
    "###### train modules"
   ]
  },
  {
   "cell_type": "code",
   "execution_count": 8,
   "id": "b0d0f78f",
   "metadata": {},
   "outputs": [
    {
     "data": {
      "text/plain": [
       "{'lr': 0.0001,\n",
       " 'epochs': 20,\n",
       " 'batch_size': 64,\n",
       " 'latent_dim': 64,\n",
       " 'enc_out_dim': 128,\n",
       " 'middle_dim': 512,\n",
       " 'kl_scaler': 0.001,\n",
       " 'clf_scaler': 1.0,\n",
       " 'zinb_scaler': 0.5,\n",
       " 'use_cuda': True,\n",
       " 'cell_type_key': 'cell_type',\n",
       " 'module_filepath': './new_module'}"
      ]
     },
     "execution_count": 8,
     "metadata": {},
     "output_type": "execute_result"
    }
   ],
   "source": [
    "# use default train args\n",
    "args = utils.DEFAULT_TRAIN_ARGS\n",
    "args['use_cuda'] = True\n",
    "args"
   ]
  },
  {
   "cell_type": "code",
   "execution_count": 9,
   "id": "00ccfdb7",
   "metadata": {},
   "outputs": [],
   "source": [
    "module_dir = '/data/pollock/benchmarking/modules/'\n",
    "fold_module_dir = '/data/pollock/benchmarking/modules_folds/'"
   ]
  },
  {
   "cell_type": "code",
   "execution_count": 10,
   "id": "8440f4ba",
   "metadata": {
    "scrolled": true
   },
   "outputs": [
    {
     "name": "stdout",
     "output_type": "stream",
     "text": [
      "snRNAseq ccrcc fold3\n",
      "snRNAseq ccrcc fold1\n",
      "snRNAseq ccrcc fold2\n",
      "snRNAseq ccrcc fold0\n",
      "snRNAseq ccrcc fold4\n",
      "snRNAseq brca fold2\n",
      "snRNAseq brca fold1\n",
      "snRNAseq brca fold3\n",
      "snRNAseq brca fold0\n",
      "snRNAseq brca fold4\n",
      "snRNAseq gbm fold4\n",
      "snRNAseq gbm fold3\n",
      "snRNAseq gbm fold0\n",
      "snRNAseq gbm fold2\n",
      "snRNAseq gbm fold1\n",
      "snATACseq ccrcc fold3\n",
      "snATACseq ccrcc fold1\n",
      "snATACseq ccrcc fold2\n",
      "snATACseq ccrcc fold0\n",
      "snATACseq ccrcc fold4\n",
      "snATACseq brca fold2\n",
      "snATACseq brca fold1\n",
      "snATACseq brca fold3\n",
      "snATACseq brca fold0\n",
      "snATACseq brca fold4\n",
      "snATACseq gbm fold4\n",
      "snATACseq gbm fold3\n",
      "snATACseq gbm fold0\n",
      "snATACseq gbm fold2\n",
      "snATACseq gbm fold1\n",
      "scRNAseq hnscc fold0\n",
      "scRNAseq hnscc fold4\n",
      "scRNAseq hnscc fold1\n",
      "scRNAseq hnscc fold3\n",
      "scRNAseq hnscc fold2\n",
      "scRNAseq cesc fold4\n",
      "scRNAseq cesc fold3\n",
      "scRNAseq cesc fold2\n",
      "scRNAseq cesc fold0\n",
      "scRNAseq cesc fold1\n",
      "scRNAseq brca fold2\n",
      "scRNAseq brca fold1\n",
      "scRNAseq brca fold3\n",
      "scRNAseq brca fold0\n",
      "scRNAseq brca fold4\n",
      "scRNAseq myeloma fold0\n"
     ]
    },
    {
     "name": "stderr",
     "output_type": "stream",
     "text": [
      "2022-03-24 11:46:14,556 beginning training\n",
      "2022-03-24 11:46:14,557 creating dataloaders\n",
      "2022-03-24 11:46:15,386 18620 genes overlap with model after filtering\n",
      "2022-03-24 11:46:15,387 1218 genes missing from dataset after filtering\n",
      "2022-03-24 11:46:16,386 creating model\n",
      "2022-03-24 11:46:19,200 training dataset size: 3617, validation dataset size: 3312, cell types: ['B cell', 'CD4 T cell', 'CD8 T cell', 'Dendritic', 'Erythrocyte', 'Malignant', 'Mast', 'Monocyte', 'NK', 'Plasma', 'Platlete']\n",
      "2022-03-24 11:46:19,201 fitting model\n",
      "2022-03-24 11:46:21,854 epoch: 0, train loss: 2.619, val loss: 2.615, zinb loss: 0.438, kl loss: 0.622, clf loss: 2.395, time: 1.93\n",
      "2022-03-24 11:46:24,379 epoch: 1, train loss: 2.609, val loss: 2.598, zinb loss: 0.417, kl loss: 1.275, clf loss: 2.388, time: 1.73\n",
      "2022-03-24 11:46:26,868 epoch: 2, train loss: 2.550, val loss: 2.446, zinb loss: 0.305, kl loss: 40.402, clf loss: 2.253, time: 1.69\n",
      "2022-03-24 11:46:29,341 epoch: 3, train loss: 2.267, val loss: 2.096, zinb loss: 0.214, kl loss: 109.805, clf loss: 1.879, time: 1.68\n",
      "2022-03-24 11:46:31,822 epoch: 4, train loss: 1.972, val loss: 1.933, zinb loss: 0.206, kl loss: 92.972, clf loss: 1.737, time: 1.68\n",
      "2022-03-24 11:46:34,321 epoch: 5, train loss: 1.839, val loss: 1.886, zinb loss: 0.204, kl loss: 68.801, clf loss: 1.715, time: 1.70\n",
      "2022-03-24 11:46:36,848 epoch: 6, train loss: 1.786, val loss: 1.862, zinb loss: 0.202, kl loss: 60.081, clf loss: 1.701, time: 1.73\n",
      "2022-03-24 11:46:39,363 epoch: 7, train loss: 1.761, val loss: 1.849, zinb loss: 0.202, kl loss: 51.640, clf loss: 1.697, time: 1.71\n",
      "2022-03-24 11:46:41,899 epoch: 8, train loss: 1.746, val loss: 1.841, zinb loss: 0.201, kl loss: 45.688, clf loss: 1.695, time: 1.72\n",
      "2022-03-24 11:46:44,469 epoch: 9, train loss: 1.736, val loss: 1.829, zinb loss: 0.200, kl loss: 43.943, clf loss: 1.685, time: 1.78\n",
      "2022-03-24 11:46:46,945 epoch: 10, train loss: 1.729, val loss: 1.823, zinb loss: 0.200, kl loss: 40.418, clf loss: 1.683, time: 1.68\n",
      "2022-03-24 11:46:49,442 epoch: 11, train loss: 1.724, val loss: 1.822, zinb loss: 0.200, kl loss: 38.469, clf loss: 1.683, time: 1.69\n",
      "2022-03-24 11:46:51,927 epoch: 12, train loss: 1.720, val loss: 1.817, zinb loss: 0.200, kl loss: 36.732, clf loss: 1.680, time: 1.68\n",
      "2022-03-24 11:46:54,517 epoch: 13, train loss: 1.717, val loss: 1.816, zinb loss: 0.200, kl loss: 35.148, clf loss: 1.681, time: 1.77\n",
      "2022-03-24 11:46:57,002 epoch: 14, train loss: 1.715, val loss: 1.814, zinb loss: 0.200, kl loss: 33.844, clf loss: 1.680, time: 1.69\n",
      "2022-03-24 11:46:59,540 epoch: 15, train loss: 1.713, val loss: 1.812, zinb loss: 0.200, kl loss: 34.017, clf loss: 1.678, time: 1.75\n",
      "2022-03-24 11:47:02,081 epoch: 16, train loss: 1.712, val loss: 1.809, zinb loss: 0.200, kl loss: 33.575, clf loss: 1.675, time: 1.75\n",
      "2022-03-24 11:47:04,618 epoch: 17, train loss: 1.711, val loss: 1.810, zinb loss: 0.199, kl loss: 33.480, clf loss: 1.676, time: 1.75\n",
      "2022-03-24 11:47:07,166 epoch: 18, train loss: 1.711, val loss: 1.810, zinb loss: 0.199, kl loss: 33.346, clf loss: 1.677, time: 1.76\n",
      "2022-03-24 11:47:09,704 epoch: 19, train loss: 1.711, val loss: 1.812, zinb loss: 0.199, kl loss: 33.526, clf loss: 1.679, time: 1.75\n",
      "2022-03-24 11:47:09,705 model fitting finished\n",
      "2022-03-24 11:47:09,706 saving model to /data/pollock/benchmarking/modules_folds/scRNAseq_myeloma_fold0\n",
      "2022-03-24 11:47:10,215 beginning training\n",
      "2022-03-24 11:47:10,216 creating dataloaders\n"
     ]
    },
    {
     "name": "stdout",
     "output_type": "stream",
     "text": [
      "scRNAseq myeloma fold1\n"
     ]
    },
    {
     "name": "stderr",
     "output_type": "stream",
     "text": [
      "2022-03-24 11:47:10,998 18583 genes overlap with model after filtering\n",
      "2022-03-24 11:47:10,999 1374 genes missing from dataset after filtering\n",
      "2022-03-24 11:47:11,981 creating model\n",
      "2022-03-24 11:47:12,266 training dataset size: 3617, validation dataset size: 3312, cell types: ['B cell', 'CD4 T cell', 'CD8 T cell', 'Dendritic', 'Erythrocyte', 'Malignant', 'Mast', 'Monocyte', 'NK', 'Plasma', 'Platlete']\n",
      "2022-03-24 11:47:12,269 fitting model\n",
      "2022-03-24 11:47:14,969 epoch: 0, train loss: 2.622, val loss: 2.618, zinb loss: 0.437, kl loss: 0.505, clf loss: 2.399, time: 1.89\n",
      "2022-03-24 11:47:17,577 epoch: 1, train loss: 2.612, val loss: 2.599, zinb loss: 0.416, kl loss: 1.611, clf loss: 2.390, time: 1.81\n",
      "2022-03-24 11:47:20,205 epoch: 2, train loss: 2.541, val loss: 2.446, zinb loss: 0.305, kl loss: 45.416, clf loss: 2.249, time: 1.82\n",
      "2022-03-24 11:47:22,786 epoch: 3, train loss: 2.280, val loss: 2.183, zinb loss: 0.217, kl loss: 74.983, clf loss: 1.999, time: 1.81\n",
      "2022-03-24 11:47:25,331 epoch: 4, train loss: 2.038, val loss: 1.978, zinb loss: 0.204, kl loss: 89.767, clf loss: 1.786, time: 1.76\n",
      "2022-03-24 11:47:27,853 epoch: 5, train loss: 1.858, val loss: 1.908, zinb loss: 0.203, kl loss: 67.640, clf loss: 1.739, time: 1.73\n",
      "2022-03-24 11:47:30,444 epoch: 6, train loss: 1.801, val loss: 1.882, zinb loss: 0.201, kl loss: 57.411, clf loss: 1.724, time: 1.76\n",
      "2022-03-24 11:47:33,026 epoch: 7, train loss: 1.777, val loss: 1.868, zinb loss: 0.200, kl loss: 49.952, clf loss: 1.718, time: 1.80\n",
      "2022-03-24 11:47:35,589 epoch: 8, train loss: 1.762, val loss: 1.855, zinb loss: 0.199, kl loss: 46.031, clf loss: 1.710, time: 1.78\n",
      "2022-03-24 11:47:38,151 epoch: 9, train loss: 1.747, val loss: 1.850, zinb loss: 0.199, kl loss: 44.570, clf loss: 1.706, time: 1.78\n",
      "2022-03-24 11:47:40,687 epoch: 10, train loss: 1.732, val loss: 1.844, zinb loss: 0.199, kl loss: 40.242, clf loss: 1.704, time: 1.75\n",
      "2022-03-24 11:47:43,225 epoch: 11, train loss: 1.724, val loss: 1.835, zinb loss: 0.199, kl loss: 37.917, clf loss: 1.698, time: 1.75\n",
      "2022-03-24 11:47:45,759 epoch: 12, train loss: 1.719, val loss: 1.829, zinb loss: 0.198, kl loss: 37.420, clf loss: 1.693, time: 1.75\n",
      "2022-03-24 11:47:48,316 epoch: 13, train loss: 1.716, val loss: 1.828, zinb loss: 0.198, kl loss: 35.571, clf loss: 1.693, time: 1.77\n",
      "2022-03-24 11:47:50,857 epoch: 14, train loss: 1.713, val loss: 1.827, zinb loss: 0.198, kl loss: 34.536, clf loss: 1.693, time: 1.75\n",
      "2022-03-24 11:47:53,347 epoch: 15, train loss: 1.712, val loss: 1.825, zinb loss: 0.198, kl loss: 34.329, clf loss: 1.692, time: 1.69\n",
      "2022-03-24 11:47:55,819 epoch: 16, train loss: 1.710, val loss: 1.826, zinb loss: 0.198, kl loss: 33.326, clf loss: 1.693, time: 1.67\n",
      "2022-03-24 11:47:58,256 epoch: 17, train loss: 1.709, val loss: 1.824, zinb loss: 0.198, kl loss: 33.533, clf loss: 1.691, time: 1.65\n",
      "2022-03-24 11:48:00,689 epoch: 18, train loss: 1.709, val loss: 1.824, zinb loss: 0.198, kl loss: 33.175, clf loss: 1.691, time: 1.64\n",
      "2022-03-24 11:48:03,133 epoch: 19, train loss: 1.709, val loss: 1.824, zinb loss: 0.198, kl loss: 33.113, clf loss: 1.692, time: 1.65\n",
      "2022-03-24 11:48:03,134 model fitting finished\n",
      "2022-03-24 11:48:03,134 saving model to /data/pollock/benchmarking/modules_folds/scRNAseq_myeloma_fold1\n",
      "2022-03-24 11:48:03,561 beginning training\n",
      "2022-03-24 11:48:03,562 creating dataloaders\n"
     ]
    },
    {
     "name": "stdout",
     "output_type": "stream",
     "text": [
      "scRNAseq myeloma fold3\n"
     ]
    },
    {
     "name": "stderr",
     "output_type": "stream",
     "text": [
      "2022-03-24 11:48:04,342 18628 genes overlap with model after filtering\n",
      "2022-03-24 11:48:04,343 1465 genes missing from dataset after filtering\n",
      "2022-03-24 11:48:05,338 creating model\n",
      "2022-03-24 11:48:05,624 training dataset size: 3617, validation dataset size: 3312, cell types: ['B cell', 'CD4 T cell', 'CD8 T cell', 'Dendritic', 'Erythrocyte', 'Malignant', 'Mast', 'Monocyte', 'NK', 'Plasma', 'Platlete']\n",
      "2022-03-24 11:48:05,625 fitting model\n",
      "2022-03-24 11:48:08,078 epoch: 0, train loss: 2.616, val loss: 2.611, zinb loss: 0.437, kl loss: 0.551, clf loss: 2.392, time: 1.66\n",
      "2022-03-24 11:48:10,532 epoch: 1, train loss: 2.606, val loss: 2.593, zinb loss: 0.415, kl loss: 1.240, clf loss: 2.384, time: 1.64\n",
      "2022-03-24 11:48:13,051 epoch: 2, train loss: 2.541, val loss: 2.418, zinb loss: 0.289, kl loss: 53.438, clf loss: 2.220, time: 1.72\n",
      "2022-03-24 11:48:15,521 epoch: 3, train loss: 2.218, val loss: 2.088, zinb loss: 0.215, kl loss: 90.727, clf loss: 1.890, time: 1.65\n",
      "2022-03-24 11:48:17,989 epoch: 4, train loss: 1.967, val loss: 1.926, zinb loss: 0.205, kl loss: 90.552, clf loss: 1.733, time: 1.65\n",
      "2022-03-24 11:48:20,485 epoch: 5, train loss: 1.831, val loss: 1.892, zinb loss: 0.201, kl loss: 64.850, clf loss: 1.726, time: 1.70\n",
      "2022-03-24 11:48:22,931 epoch: 6, train loss: 1.790, val loss: 1.869, zinb loss: 0.199, kl loss: 56.011, clf loss: 1.714, time: 1.65\n",
      "2022-03-24 11:48:25,379 epoch: 7, train loss: 1.762, val loss: 1.857, zinb loss: 0.198, kl loss: 51.454, clf loss: 1.706, time: 1.65\n",
      "2022-03-24 11:48:27,817 epoch: 8, train loss: 1.745, val loss: 1.845, zinb loss: 0.198, kl loss: 45.941, clf loss: 1.700, time: 1.64\n",
      "2022-03-24 11:48:30,261 epoch: 9, train loss: 1.736, val loss: 1.837, zinb loss: 0.198, kl loss: 42.635, clf loss: 1.696, time: 1.65\n",
      "2022-03-24 11:48:32,729 epoch: 10, train loss: 1.729, val loss: 1.832, zinb loss: 0.198, kl loss: 39.593, clf loss: 1.694, time: 1.67\n",
      "2022-03-24 11:48:35,183 epoch: 11, train loss: 1.723, val loss: 1.827, zinb loss: 0.197, kl loss: 37.562, clf loss: 1.691, time: 1.66\n",
      "2022-03-24 11:48:37,636 epoch: 12, train loss: 1.719, val loss: 1.824, zinb loss: 0.197, kl loss: 36.745, clf loss: 1.688, time: 1.66\n",
      "2022-03-24 11:48:40,086 epoch: 13, train loss: 1.716, val loss: 1.824, zinb loss: 0.197, kl loss: 34.856, clf loss: 1.690, time: 1.65\n",
      "2022-03-24 11:48:42,520 epoch: 14, train loss: 1.714, val loss: 1.820, zinb loss: 0.197, kl loss: 34.184, clf loss: 1.687, time: 1.67\n",
      "2022-03-24 11:48:44,961 epoch: 15, train loss: 1.712, val loss: 1.818, zinb loss: 0.197, kl loss: 33.794, clf loss: 1.686, time: 1.64\n",
      "2022-03-24 11:48:47,398 epoch: 16, train loss: 1.711, val loss: 1.818, zinb loss: 0.197, kl loss: 33.179, clf loss: 1.687, time: 1.64\n",
      "2022-03-24 11:48:49,838 epoch: 17, train loss: 1.710, val loss: 1.818, zinb loss: 0.197, kl loss: 33.071, clf loss: 1.686, time: 1.64\n",
      "2022-03-24 11:48:52,339 epoch: 18, train loss: 1.710, val loss: 1.817, zinb loss: 0.197, kl loss: 33.071, clf loss: 1.686, time: 1.69\n",
      "2022-03-24 11:48:54,832 epoch: 19, train loss: 1.710, val loss: 1.817, zinb loss: 0.197, kl loss: 32.998, clf loss: 1.686, time: 1.70\n",
      "2022-03-24 11:48:54,833 model fitting finished\n",
      "2022-03-24 11:48:54,833 saving model to /data/pollock/benchmarking/modules_folds/scRNAseq_myeloma_fold3\n",
      "2022-03-24 11:48:55,327 beginning training\n",
      "2022-03-24 11:48:55,328 creating dataloaders\n"
     ]
    },
    {
     "name": "stdout",
     "output_type": "stream",
     "text": [
      "scRNAseq myeloma fold4\n"
     ]
    },
    {
     "name": "stderr",
     "output_type": "stream",
     "text": [
      "2022-03-24 11:48:56,152 18710 genes overlap with model after filtering\n",
      "2022-03-24 11:48:56,153 1292 genes missing from dataset after filtering\n",
      "2022-03-24 11:48:57,153 creating model\n",
      "2022-03-24 11:48:57,437 training dataset size: 3617, validation dataset size: 3312, cell types: ['B cell', 'CD4 T cell', 'CD8 T cell', 'Dendritic', 'Erythrocyte', 'Malignant', 'Mast', 'Monocyte', 'NK', 'Plasma', 'Platlete']\n",
      "2022-03-24 11:48:57,438 fitting model\n",
      "2022-03-24 11:48:59,884 epoch: 0, train loss: 2.616, val loss: 2.613, zinb loss: 0.438, kl loss: 0.678, clf loss: 2.393, time: 1.65\n",
      "2022-03-24 11:49:02,335 epoch: 1, train loss: 2.606, val loss: 2.595, zinb loss: 0.416, kl loss: 1.393, clf loss: 2.385, time: 1.65\n",
      "2022-03-24 11:49:04,807 epoch: 2, train loss: 2.547, val loss: 2.433, zinb loss: 0.282, kl loss: 46.827, clf loss: 2.245, time: 1.65\n",
      "2022-03-24 11:49:07,250 epoch: 3, train loss: 2.217, val loss: 2.107, zinb loss: 0.217, kl loss: 93.084, clf loss: 1.906, time: 1.65\n",
      "2022-03-24 11:49:09,724 epoch: 4, train loss: 1.991, val loss: 1.987, zinb loss: 0.208, kl loss: 77.825, clf loss: 1.805, time: 1.69\n",
      "2022-03-24 11:49:12,076 epoch: 5, train loss: 1.873, val loss: 1.897, zinb loss: 0.204, kl loss: 73.472, clf loss: 1.722, time: 1.66\n",
      "2022-03-24 11:49:14,580 epoch: 6, train loss: 1.803, val loss: 1.879, zinb loss: 0.203, kl loss: 58.206, clf loss: 1.719, time: 1.68\n",
      "2022-03-24 11:49:17,079 epoch: 7, train loss: 1.777, val loss: 1.862, zinb loss: 0.202, kl loss: 51.615, clf loss: 1.709, time: 1.70\n",
      "2022-03-24 11:49:19,514 epoch: 8, train loss: 1.755, val loss: 1.849, zinb loss: 0.201, kl loss: 47.691, clf loss: 1.701, time: 1.64\n",
      "2022-03-24 11:49:21,950 epoch: 9, train loss: 1.740, val loss: 1.839, zinb loss: 0.200, kl loss: 43.788, clf loss: 1.695, time: 1.64\n",
      "2022-03-24 11:49:24,381 epoch: 10, train loss: 1.732, val loss: 1.834, zinb loss: 0.201, kl loss: 40.230, clf loss: 1.693, time: 1.64\n",
      "2022-03-24 11:49:26,803 epoch: 11, train loss: 1.727, val loss: 1.828, zinb loss: 0.200, kl loss: 37.824, clf loss: 1.690, time: 1.65\n",
      "2022-03-24 11:49:29,254 epoch: 12, train loss: 1.722, val loss: 1.823, zinb loss: 0.200, kl loss: 36.609, clf loss: 1.686, time: 1.66\n",
      "2022-03-24 11:49:31,730 epoch: 13, train loss: 1.719, val loss: 1.819, zinb loss: 0.200, kl loss: 35.545, clf loss: 1.684, time: 1.67\n",
      "2022-03-24 11:49:34,174 epoch: 14, train loss: 1.716, val loss: 1.822, zinb loss: 0.200, kl loss: 34.161, clf loss: 1.688, time: 1.65\n",
      "2022-03-24 11:49:36,617 epoch: 15, train loss: 1.715, val loss: 1.818, zinb loss: 0.200, kl loss: 33.854, clf loss: 1.685, time: 1.65\n",
      "2022-03-24 11:49:39,049 epoch: 16, train loss: 1.714, val loss: 1.819, zinb loss: 0.200, kl loss: 33.232, clf loss: 1.686, time: 1.64\n",
      "2022-03-24 11:49:41,490 epoch: 17, train loss: 1.713, val loss: 1.818, zinb loss: 0.200, kl loss: 33.291, clf loss: 1.685, time: 1.65\n",
      "2022-03-24 11:49:43,926 epoch: 18, train loss: 1.712, val loss: 1.820, zinb loss: 0.200, kl loss: 32.957, clf loss: 1.687, time: 1.64\n",
      "2022-03-24 11:49:46,384 epoch: 19, train loss: 1.712, val loss: 1.817, zinb loss: 0.200, kl loss: 32.956, clf loss: 1.685, time: 1.64\n",
      "2022-03-24 11:49:46,385 model fitting finished\n",
      "2022-03-24 11:49:46,386 saving model to /data/pollock/benchmarking/modules_folds/scRNAseq_myeloma_fold4\n",
      "2022-03-24 11:49:46,884 beginning training\n",
      "2022-03-24 11:49:46,885 creating dataloaders\n"
     ]
    },
    {
     "name": "stdout",
     "output_type": "stream",
     "text": [
      "scRNAseq myeloma fold2\n"
     ]
    },
    {
     "name": "stderr",
     "output_type": "stream",
     "text": [
      "2022-03-24 11:49:47,685 18683 genes overlap with model after filtering\n",
      "2022-03-24 11:49:47,686 1360 genes missing from dataset after filtering\n",
      "2022-03-24 11:49:48,689 creating model\n",
      "2022-03-24 11:49:48,983 training dataset size: 3617, validation dataset size: 3312, cell types: ['B cell', 'CD4 T cell', 'CD8 T cell', 'Dendritic', 'Erythrocyte', 'Malignant', 'Mast', 'Monocyte', 'NK', 'Plasma', 'Platlete']\n",
      "2022-03-24 11:49:48,984 fitting model\n",
      "2022-03-24 11:49:51,490 epoch: 0, train loss: 2.614, val loss: 2.611, zinb loss: 0.436, kl loss: 0.580, clf loss: 2.392, time: 1.68\n",
      "2022-03-24 11:49:53,978 epoch: 1, train loss: 2.604, val loss: 2.593, zinb loss: 0.413, kl loss: 1.449, clf loss: 2.385, time: 1.69\n",
      "2022-03-24 11:49:56,419 epoch: 2, train loss: 2.546, val loss: 2.450, zinb loss: 0.290, kl loss: 45.267, clf loss: 2.260, time: 1.65\n",
      "2022-03-24 11:49:58,857 epoch: 3, train loss: 2.256, val loss: 2.104, zinb loss: 0.210, kl loss: 109.272, clf loss: 1.890, time: 1.64\n",
      "2022-03-24 11:50:01,298 epoch: 4, train loss: 1.972, val loss: 1.932, zinb loss: 0.204, kl loss: 93.760, clf loss: 1.736, time: 1.65\n",
      "2022-03-24 11:50:03,745 epoch: 5, train loss: 1.843, val loss: 1.890, zinb loss: 0.201, kl loss: 70.936, clf loss: 1.718, time: 1.65\n",
      "2022-03-24 11:50:06,182 epoch: 6, train loss: 1.797, val loss: 1.870, zinb loss: 0.201, kl loss: 62.039, clf loss: 1.707, time: 1.66\n",
      "2022-03-24 11:50:08,619 epoch: 7, train loss: 1.770, val loss: 1.852, zinb loss: 0.200, kl loss: 53.340, clf loss: 1.699, time: 1.64\n",
      "2022-03-24 11:50:11,057 epoch: 8, train loss: 1.753, val loss: 1.839, zinb loss: 0.199, kl loss: 48.946, clf loss: 1.691, time: 1.64\n",
      "2022-03-24 11:50:13,499 epoch: 9, train loss: 1.742, val loss: 1.828, zinb loss: 0.199, kl loss: 45.029, clf loss: 1.684, time: 1.65\n",
      "2022-03-24 11:50:15,938 epoch: 10, train loss: 1.734, val loss: 1.824, zinb loss: 0.198, kl loss: 42.206, clf loss: 1.683, time: 1.64\n",
      "2022-03-24 11:50:18,377 epoch: 11, train loss: 1.728, val loss: 1.820, zinb loss: 0.198, kl loss: 39.177, clf loss: 1.682, time: 1.65\n",
      "2022-03-24 11:50:20,818 epoch: 12, train loss: 1.723, val loss: 1.814, zinb loss: 0.197, kl loss: 38.578, clf loss: 1.676, time: 1.64\n",
      "2022-03-24 11:50:23,258 epoch: 13, train loss: 1.720, val loss: 1.811, zinb loss: 0.198, kl loss: 36.731, clf loss: 1.675, time: 1.64\n",
      "2022-03-24 11:50:25,811 epoch: 14, train loss: 1.717, val loss: 1.808, zinb loss: 0.197, kl loss: 35.522, clf loss: 1.674, time: 1.75\n",
      "2022-03-24 11:50:28,254 epoch: 15, train loss: 1.715, val loss: 1.808, zinb loss: 0.197, kl loss: 35.248, clf loss: 1.674, time: 1.65\n",
      "2022-03-24 11:50:30,741 epoch: 16, train loss: 1.714, val loss: 1.807, zinb loss: 0.197, kl loss: 34.690, clf loss: 1.673, time: 1.65\n",
      "2022-03-24 11:50:33,194 epoch: 17, train loss: 1.713, val loss: 1.811, zinb loss: 0.197, kl loss: 34.252, clf loss: 1.678, time: 1.65\n",
      "2022-03-24 11:50:35,680 epoch: 18, train loss: 1.713, val loss: 1.809, zinb loss: 0.197, kl loss: 34.395, clf loss: 1.676, time: 1.70\n",
      "2022-03-24 11:50:38,133 epoch: 19, train loss: 1.713, val loss: 1.806, zinb loss: 0.197, kl loss: 34.398, clf loss: 1.673, time: 1.65\n",
      "2022-03-24 11:50:38,135 model fitting finished\n",
      "2022-03-24 11:50:38,135 saving model to /data/pollock/benchmarking/modules_folds/scRNAseq_myeloma_fold2\n",
      "2022-03-24 11:50:38,567 beginning training\n",
      "2022-03-24 11:50:38,568 creating dataloaders\n"
     ]
    },
    {
     "name": "stdout",
     "output_type": "stream",
     "text": [
      "scRNAseq melanoma fold3\n"
     ]
    },
    {
     "name": "stderr",
     "output_type": "stream",
     "text": [
      "2022-03-24 11:50:39,543 19162 genes overlap with model after filtering\n",
      "2022-03-24 11:50:39,544 1543 genes missing from dataset after filtering\n",
      "2022-03-24 11:50:40,521 creating model\n",
      "2022-03-24 11:50:40,819 training dataset size: 4404, validation dataset size: 3331, cell types: ['B cell', 'CD4 T cell', 'CD8 T cell', 'Dendritic', 'Fibroblast', 'Malignant', 'Monocyte', 'NK', 'Plasma', 'Treg']\n",
      "2022-03-24 11:50:40,820 fitting model\n",
      "2022-03-24 11:50:43,666 epoch: 0, train loss: 2.522, val loss: 2.517, zinb loss: 0.431, kl loss: 0.609, clf loss: 2.302, time: 2.05\n",
      "2022-03-24 11:50:46,497 epoch: 1, train loss: 2.508, val loss: 2.490, zinb loss: 0.400, kl loss: 2.186, clf loss: 2.288, time: 2.03\n",
      "2022-03-24 11:50:49,320 epoch: 2, train loss: 2.400, val loss: 2.280, zinb loss: 0.254, kl loss: 42.356, clf loss: 2.111, time: 2.02\n",
      "2022-03-24 11:50:52,144 epoch: 3, train loss: 2.156, val loss: 2.037, zinb loss: 0.196, kl loss: 73.482, clf loss: 1.866, time: 2.02\n",
      "2022-03-24 11:50:54,965 epoch: 4, train loss: 1.853, val loss: 1.813, zinb loss: 0.189, kl loss: 90.961, clf loss: 1.628, time: 2.02\n",
      "2022-03-24 11:50:57,796 epoch: 5, train loss: 1.714, val loss: 1.788, zinb loss: 0.186, kl loss: 64.862, clf loss: 1.630, time: 2.03\n",
      "2022-03-24 11:51:00,709 epoch: 6, train loss: 1.675, val loss: 1.769, zinb loss: 0.186, kl loss: 54.085, clf loss: 1.623, time: 2.11\n",
      "2022-03-24 11:51:03,542 epoch: 7, train loss: 1.654, val loss: 1.764, zinb loss: 0.185, kl loss: 46.359, clf loss: 1.625, time: 2.03\n",
      "2022-03-24 11:51:06,379 epoch: 8, train loss: 1.642, val loss: 1.745, zinb loss: 0.184, kl loss: 42.915, clf loss: 1.611, time: 2.03\n",
      "2022-03-24 11:51:09,486 epoch: 9, train loss: 1.633, val loss: 1.739, zinb loss: 0.183, kl loss: 39.776, clf loss: 1.607, time: 2.30\n",
      "2022-03-24 11:51:12,346 epoch: 10, train loss: 1.627, val loss: 1.732, zinb loss: 0.183, kl loss: 37.412, clf loss: 1.603, time: 2.05\n",
      "2022-03-24 11:51:15,235 epoch: 11, train loss: 1.622, val loss: 1.729, zinb loss: 0.183, kl loss: 34.801, clf loss: 1.603, time: 2.05\n",
      "2022-03-24 11:51:17,872 epoch: 12, train loss: 1.618, val loss: 1.726, zinb loss: 0.183, kl loss: 34.087, clf loss: 1.600, time: 1.98\n",
      "2022-03-24 11:51:20,805 epoch: 13, train loss: 1.615, val loss: 1.725, zinb loss: 0.183, kl loss: 32.451, clf loss: 1.601, time: 2.13\n",
      "2022-03-24 11:51:23,679 epoch: 14, train loss: 1.613, val loss: 1.725, zinb loss: 0.183, kl loss: 31.592, clf loss: 1.602, time: 2.07\n",
      "2022-03-24 11:51:26,531 epoch: 15, train loss: 1.611, val loss: 1.722, zinb loss: 0.183, kl loss: 31.056, clf loss: 1.600, time: 2.04\n",
      "2022-03-24 11:51:29,386 epoch: 16, train loss: 1.610, val loss: 1.719, zinb loss: 0.183, kl loss: 30.657, clf loss: 1.597, time: 2.04\n",
      "2022-03-24 11:51:32,242 epoch: 17, train loss: 1.610, val loss: 1.719, zinb loss: 0.183, kl loss: 30.568, clf loss: 1.597, time: 2.04\n",
      "2022-03-24 11:51:35,187 epoch: 18, train loss: 1.609, val loss: 1.721, zinb loss: 0.183, kl loss: 30.300, clf loss: 1.599, time: 2.11\n",
      "2022-03-24 11:51:38,147 epoch: 19, train loss: 1.609, val loss: 1.720, zinb loss: 0.182, kl loss: 30.330, clf loss: 1.599, time: 2.14\n",
      "2022-03-24 11:51:38,148 model fitting finished\n",
      "2022-03-24 11:51:38,149 saving model to /data/pollock/benchmarking/modules_folds/scRNAseq_melanoma_fold3\n"
     ]
    },
    {
     "name": "stdout",
     "output_type": "stream",
     "text": [
      "scRNAseq melanoma fold0\n"
     ]
    },
    {
     "name": "stderr",
     "output_type": "stream",
     "text": [
      "2022-03-24 11:51:38,610 beginning training\n",
      "2022-03-24 11:51:38,611 creating dataloaders\n",
      "2022-03-24 11:51:39,581 19131 genes overlap with model after filtering\n",
      "2022-03-24 11:51:39,582 1544 genes missing from dataset after filtering\n",
      "2022-03-24 11:51:40,562 creating model\n",
      "2022-03-24 11:51:40,804 training dataset size: 4404, validation dataset size: 3331, cell types: ['B cell', 'CD4 T cell', 'CD8 T cell', 'Dendritic', 'Fibroblast', 'Malignant', 'Monocyte', 'NK', 'Plasma', 'Treg']\n",
      "2022-03-24 11:51:40,804 fitting model\n",
      "2022-03-24 11:51:43,658 epoch: 0, train loss: 2.521, val loss: 2.519, zinb loss: 0.431, kl loss: 0.586, clf loss: 2.303, time: 2.05\n",
      "2022-03-24 11:51:46,513 epoch: 1, train loss: 2.509, val loss: 2.495, zinb loss: 0.401, kl loss: 1.522, clf loss: 2.293, time: 2.05\n",
      "2022-03-24 11:51:49,379 epoch: 2, train loss: 2.421, val loss: 2.266, zinb loss: 0.254, kl loss: 54.657, clf loss: 2.084, time: 2.05\n",
      "2022-03-24 11:51:52,230 epoch: 3, train loss: 2.137, val loss: 2.008, zinb loss: 0.199, kl loss: 86.648, clf loss: 1.822, time: 2.04\n",
      "2022-03-24 11:51:55,078 epoch: 4, train loss: 1.904, val loss: 1.868, zinb loss: 0.192, kl loss: 90.029, clf loss: 1.682, time: 2.04\n",
      "2022-03-24 11:51:57,930 epoch: 5, train loss: 1.744, val loss: 1.807, zinb loss: 0.188, kl loss: 70.846, clf loss: 1.642, time: 2.04\n",
      "2022-03-24 11:52:00,783 epoch: 6, train loss: 1.688, val loss: 1.787, zinb loss: 0.187, kl loss: 56.253, clf loss: 1.637, time: 2.04\n",
      "2022-03-24 11:52:03,645 epoch: 7, train loss: 1.665, val loss: 1.773, zinb loss: 0.186, kl loss: 49.396, clf loss: 1.631, time: 2.05\n",
      "2022-03-24 11:52:06,527 epoch: 8, train loss: 1.649, val loss: 1.759, zinb loss: 0.185, kl loss: 45.744, clf loss: 1.620, time: 2.06\n",
      "2022-03-24 11:52:09,448 epoch: 9, train loss: 1.639, val loss: 1.754, zinb loss: 0.185, kl loss: 41.236, clf loss: 1.620, time: 2.10\n",
      "2022-03-24 11:52:12,314 epoch: 10, train loss: 1.632, val loss: 1.744, zinb loss: 0.184, kl loss: 39.347, clf loss: 1.612, time: 2.06\n",
      "2022-03-24 11:52:15,206 epoch: 11, train loss: 1.626, val loss: 1.744, zinb loss: 0.184, kl loss: 36.172, clf loss: 1.615, time: 2.08\n",
      "2022-03-24 11:52:18,065 epoch: 12, train loss: 1.622, val loss: 1.738, zinb loss: 0.184, kl loss: 35.282, clf loss: 1.611, time: 2.05\n",
      "2022-03-24 11:52:20,932 epoch: 13, train loss: 1.619, val loss: 1.731, zinb loss: 0.184, kl loss: 34.166, clf loss: 1.604, time: 2.06\n",
      "2022-03-24 11:52:23,816 epoch: 14, train loss: 1.617, val loss: 1.732, zinb loss: 0.184, kl loss: 33.288, clf loss: 1.606, time: 2.05\n",
      "2022-03-24 11:52:26,699 epoch: 15, train loss: 1.615, val loss: 1.732, zinb loss: 0.184, kl loss: 32.491, clf loss: 1.608, time: 2.05\n",
      "2022-03-24 11:52:29,597 epoch: 16, train loss: 1.614, val loss: 1.732, zinb loss: 0.184, kl loss: 32.307, clf loss: 1.608, time: 2.09\n",
      "2022-03-24 11:52:32,478 epoch: 17, train loss: 1.613, val loss: 1.730, zinb loss: 0.183, kl loss: 32.151, clf loss: 1.606, time: 2.07\n",
      "2022-03-24 11:52:35,344 epoch: 18, train loss: 1.613, val loss: 1.728, zinb loss: 0.183, kl loss: 32.090, clf loss: 1.605, time: 2.06\n",
      "2022-03-24 11:52:38,204 epoch: 19, train loss: 1.612, val loss: 1.729, zinb loss: 0.184, kl loss: 32.013, clf loss: 1.605, time: 2.05\n",
      "2022-03-24 11:52:38,205 model fitting finished\n",
      "2022-03-24 11:52:38,206 saving model to /data/pollock/benchmarking/modules_folds/scRNAseq_melanoma_fold0\n",
      "2022-03-24 11:52:38,586 beginning training\n",
      "2022-03-24 11:52:38,587 creating dataloaders\n"
     ]
    },
    {
     "name": "stdout",
     "output_type": "stream",
     "text": [
      "scRNAseq melanoma fold2\n"
     ]
    },
    {
     "name": "stderr",
     "output_type": "stream",
     "text": [
      "2022-03-24 11:52:39,544 19149 genes overlap with model after filtering\n",
      "2022-03-24 11:52:39,545 1523 genes missing from dataset after filtering\n",
      "2022-03-24 11:52:40,510 creating model\n",
      "2022-03-24 11:52:40,755 training dataset size: 4404, validation dataset size: 3331, cell types: ['B cell', 'CD4 T cell', 'CD8 T cell', 'Dendritic', 'Fibroblast', 'Malignant', 'Monocyte', 'NK', 'Plasma', 'Treg']\n",
      "2022-03-24 11:52:40,756 fitting model\n",
      "2022-03-24 11:52:43,626 epoch: 0, train loss: 2.522, val loss: 2.518, zinb loss: 0.431, kl loss: 0.510, clf loss: 2.302, time: 2.07\n",
      "2022-03-24 11:52:46,471 epoch: 1, train loss: 2.510, val loss: 2.497, zinb loss: 0.402, kl loss: 1.357, clf loss: 2.295, time: 2.04\n",
      "2022-03-24 11:52:49,298 epoch: 2, train loss: 2.428, val loss: 2.356, zinb loss: 0.257, kl loss: 36.670, clf loss: 2.191, time: 2.03\n",
      "2022-03-24 11:52:52,127 epoch: 3, train loss: 2.134, val loss: 1.973, zinb loss: 0.196, kl loss: 105.428, clf loss: 1.769, time: 2.03\n",
      "2022-03-24 11:52:54,966 epoch: 4, train loss: 1.827, val loss: 1.824, zinb loss: 0.190, kl loss: 88.118, clf loss: 1.641, time: 2.04\n",
      "2022-03-24 11:52:57,799 epoch: 5, train loss: 1.717, val loss: 1.795, zinb loss: 0.188, kl loss: 65.855, clf loss: 1.635, time: 2.03\n",
      "2022-03-24 11:53:00,641 epoch: 6, train loss: 1.679, val loss: 1.779, zinb loss: 0.187, kl loss: 54.010, clf loss: 1.632, time: 2.04\n",
      "2022-03-24 11:53:03,470 epoch: 7, train loss: 1.659, val loss: 1.763, zinb loss: 0.186, kl loss: 48.157, clf loss: 1.622, time: 2.02\n",
      "2022-03-24 11:53:06,306 epoch: 8, train loss: 1.646, val loss: 1.757, zinb loss: 0.186, kl loss: 42.325, clf loss: 1.621, time: 2.04\n",
      "2022-03-24 11:53:09,144 epoch: 9, train loss: 1.637, val loss: 1.742, zinb loss: 0.185, kl loss: 40.098, clf loss: 1.610, time: 2.04\n",
      "2022-03-24 11:53:11,991 epoch: 10, train loss: 1.631, val loss: 1.736, zinb loss: 0.185, kl loss: 38.383, clf loss: 1.605, time: 2.05\n",
      "2022-03-24 11:53:14,832 epoch: 11, train loss: 1.625, val loss: 1.735, zinb loss: 0.185, kl loss: 35.652, clf loss: 1.607, time: 2.04\n",
      "2022-03-24 11:53:17,669 epoch: 12, train loss: 1.621, val loss: 1.730, zinb loss: 0.185, kl loss: 34.751, clf loss: 1.603, time: 2.03\n",
      "2022-03-24 11:53:20,515 epoch: 13, train loss: 1.618, val loss: 1.727, zinb loss: 0.184, kl loss: 33.376, clf loss: 1.601, time: 2.04\n",
      "2022-03-24 11:53:23,372 epoch: 14, train loss: 1.616, val loss: 1.725, zinb loss: 0.184, kl loss: 32.244, clf loss: 1.601, time: 2.04\n",
      "2022-03-24 11:53:26,253 epoch: 15, train loss: 1.615, val loss: 1.722, zinb loss: 0.184, kl loss: 32.028, clf loss: 1.598, time: 2.06\n",
      "2022-03-24 11:53:29,134 epoch: 16, train loss: 1.613, val loss: 1.720, zinb loss: 0.184, kl loss: 31.899, clf loss: 1.596, time: 2.08\n",
      "2022-03-24 11:53:31,989 epoch: 17, train loss: 1.613, val loss: 1.722, zinb loss: 0.184, kl loss: 31.181, clf loss: 1.599, time: 2.06\n",
      "2022-03-24 11:53:34,827 epoch: 18, train loss: 1.612, val loss: 1.724, zinb loss: 0.184, kl loss: 31.147, clf loss: 1.601, time: 2.04\n",
      "2022-03-24 11:53:37,665 epoch: 19, train loss: 1.612, val loss: 1.725, zinb loss: 0.184, kl loss: 30.874, clf loss: 1.602, time: 2.04\n",
      "2022-03-24 11:53:37,666 model fitting finished\n",
      "2022-03-24 11:53:37,667 saving model to /data/pollock/benchmarking/modules_folds/scRNAseq_melanoma_fold2\n",
      "2022-03-24 11:53:38,070 beginning training\n",
      "2022-03-24 11:53:38,071 creating dataloaders\n"
     ]
    },
    {
     "name": "stdout",
     "output_type": "stream",
     "text": [
      "scRNAseq melanoma fold1\n"
     ]
    },
    {
     "name": "stderr",
     "output_type": "stream",
     "text": [
      "2022-03-24 11:53:38,975 19164 genes overlap with model after filtering\n",
      "2022-03-24 11:53:38,976 1529 genes missing from dataset after filtering\n",
      "2022-03-24 11:53:39,941 creating model\n",
      "2022-03-24 11:53:40,181 training dataset size: 4404, validation dataset size: 3331, cell types: ['B cell', 'CD4 T cell', 'CD8 T cell', 'Dendritic', 'Fibroblast', 'Malignant', 'Monocyte', 'NK', 'Plasma', 'Treg']\n",
      "2022-03-24 11:53:40,182 fitting model\n",
      "2022-03-24 11:53:43,043 epoch: 0, train loss: 2.522, val loss: 2.516, zinb loss: 0.430, kl loss: 0.575, clf loss: 2.300, time: 2.05\n",
      "2022-03-24 11:53:45,885 epoch: 1, train loss: 2.510, val loss: 2.492, zinb loss: 0.402, kl loss: 2.123, clf loss: 2.289, time: 2.04\n",
      "2022-03-24 11:53:48,726 epoch: 2, train loss: 2.410, val loss: 2.239, zinb loss: 0.248, kl loss: 72.436, clf loss: 2.042, time: 2.03\n",
      "2022-03-24 11:53:51,577 epoch: 3, train loss: 2.083, val loss: 1.943, zinb loss: 0.194, kl loss: 103.060, clf loss: 1.743, time: 2.04\n",
      "2022-03-24 11:53:54,429 epoch: 4, train loss: 1.817, val loss: 1.815, zinb loss: 0.188, kl loss: 83.119, clf loss: 1.638, time: 2.05\n",
      "2022-03-24 11:53:57,276 epoch: 5, train loss: 1.711, val loss: 1.785, zinb loss: 0.185, kl loss: 66.247, clf loss: 1.626, time: 2.04\n",
      "2022-03-24 11:54:00,119 epoch: 6, train loss: 1.676, val loss: 1.766, zinb loss: 0.185, kl loss: 54.393, clf loss: 1.620, time: 2.04\n",
      "2022-03-24 11:54:02,967 epoch: 7, train loss: 1.657, val loss: 1.751, zinb loss: 0.183, kl loss: 48.450, clf loss: 1.610, time: 2.04\n",
      "2022-03-24 11:54:05,812 epoch: 8, train loss: 1.645, val loss: 1.740, zinb loss: 0.183, kl loss: 43.854, clf loss: 1.604, time: 2.04\n",
      "2022-03-24 11:54:08,656 epoch: 9, train loss: 1.636, val loss: 1.734, zinb loss: 0.183, kl loss: 40.909, clf loss: 1.602, time: 2.04\n",
      "2022-03-24 11:54:11,416 epoch: 10, train loss: 1.630, val loss: 1.727, zinb loss: 0.182, kl loss: 37.997, clf loss: 1.598, time: 2.05\n",
      "2022-03-24 11:54:14,279 epoch: 11, train loss: 1.625, val loss: 1.722, zinb loss: 0.182, kl loss: 36.455, clf loss: 1.594, time: 2.06\n",
      "2022-03-24 11:54:17,133 epoch: 12, train loss: 1.621, val loss: 1.718, zinb loss: 0.182, kl loss: 34.978, clf loss: 1.592, time: 2.05\n",
      "2022-03-24 11:54:20,023 epoch: 13, train loss: 1.618, val loss: 1.715, zinb loss: 0.182, kl loss: 33.672, clf loss: 1.590, time: 2.06\n",
      "2022-03-24 11:54:22,919 epoch: 14, train loss: 1.615, val loss: 1.716, zinb loss: 0.182, kl loss: 32.613, clf loss: 1.592, time: 2.07\n",
      "2022-03-24 11:54:25,819 epoch: 15, train loss: 1.614, val loss: 1.714, zinb loss: 0.182, kl loss: 32.419, clf loss: 1.591, time: 2.10\n",
      "2022-03-24 11:54:28,674 epoch: 16, train loss: 1.613, val loss: 1.711, zinb loss: 0.182, kl loss: 32.423, clf loss: 1.588, time: 2.05\n",
      "2022-03-24 11:54:31,535 epoch: 17, train loss: 1.612, val loss: 1.710, zinb loss: 0.182, kl loss: 32.202, clf loss: 1.587, time: 2.06\n",
      "2022-03-24 11:54:34,389 epoch: 18, train loss: 1.612, val loss: 1.712, zinb loss: 0.182, kl loss: 31.613, clf loss: 1.589, time: 2.05\n",
      "2022-03-24 11:54:37,238 epoch: 19, train loss: 1.612, val loss: 1.712, zinb loss: 0.182, kl loss: 31.664, clf loss: 1.590, time: 2.04\n",
      "2022-03-24 11:54:37,239 model fitting finished\n",
      "2022-03-24 11:54:37,240 saving model to /data/pollock/benchmarking/modules_folds/scRNAseq_melanoma_fold1\n",
      "2022-03-24 11:54:37,615 beginning training\n",
      "2022-03-24 11:54:37,616 creating dataloaders\n"
     ]
    },
    {
     "name": "stdout",
     "output_type": "stream",
     "text": [
      "scRNAseq melanoma fold4\n"
     ]
    },
    {
     "name": "stderr",
     "output_type": "stream",
     "text": [
      "2022-03-24 11:54:38,707 19103 genes overlap with model after filtering\n",
      "2022-03-24 11:54:38,708 1510 genes missing from dataset after filtering\n",
      "2022-03-24 11:54:39,822 creating model\n",
      "2022-03-24 11:54:40,110 training dataset size: 4404, validation dataset size: 3331, cell types: ['B cell', 'CD4 T cell', 'CD8 T cell', 'Dendritic', 'Fibroblast', 'Malignant', 'Monocyte', 'NK', 'Plasma', 'Treg']\n",
      "2022-03-24 11:54:40,112 fitting model\n",
      "2022-03-24 11:54:43,013 epoch: 0, train loss: 2.521, val loss: 2.516, zinb loss: 0.432, kl loss: 0.684, clf loss: 2.299, time: 2.06\n",
      "2022-03-24 11:54:45,959 epoch: 1, train loss: 2.508, val loss: 2.492, zinb loss: 0.402, kl loss: 1.690, clf loss: 2.289, time: 2.14\n",
      "2022-03-24 11:54:48,827 epoch: 2, train loss: 2.419, val loss: 2.242, zinb loss: 0.238, kl loss: 64.617, clf loss: 2.058, time: 2.06\n",
      "2022-03-24 11:54:51,697 epoch: 3, train loss: 2.072, val loss: 1.984, zinb loss: 0.198, kl loss: 85.038, clf loss: 1.800, time: 2.06\n",
      "2022-03-24 11:54:54,551 epoch: 4, train loss: 1.837, val loss: 1.830, zinb loss: 0.190, kl loss: 85.374, clf loss: 1.649, time: 2.04\n",
      "2022-03-24 11:54:57,411 epoch: 5, train loss: 1.720, val loss: 1.796, zinb loss: 0.189, kl loss: 64.491, clf loss: 1.637, time: 2.05\n",
      "2022-03-24 11:55:00,266 epoch: 6, train loss: 1.681, val loss: 1.773, zinb loss: 0.186, kl loss: 53.810, clf loss: 1.626, time: 2.04\n",
      "2022-03-24 11:55:03,124 epoch: 7, train loss: 1.660, val loss: 1.758, zinb loss: 0.185, kl loss: 48.752, clf loss: 1.616, time: 2.04\n",
      "2022-03-24 11:55:05,985 epoch: 8, train loss: 1.646, val loss: 1.751, zinb loss: 0.185, kl loss: 43.148, clf loss: 1.615, time: 2.05\n",
      "2022-03-24 11:55:08,846 epoch: 9, train loss: 1.636, val loss: 1.741, zinb loss: 0.184, kl loss: 40.535, clf loss: 1.608, time: 2.05\n",
      "2022-03-24 11:55:11,714 epoch: 10, train loss: 1.630, val loss: 1.731, zinb loss: 0.184, kl loss: 38.595, clf loss: 1.600, time: 2.05\n",
      "2022-03-24 11:55:14,621 epoch: 11, train loss: 1.624, val loss: 1.730, zinb loss: 0.184, kl loss: 35.868, clf loss: 1.603, time: 2.06\n",
      "2022-03-24 11:55:17,441 epoch: 12, train loss: 1.620, val loss: 1.724, zinb loss: 0.183, kl loss: 34.788, clf loss: 1.598, time: 2.09\n",
      "2022-03-24 11:55:20,342 epoch: 13, train loss: 1.618, val loss: 1.723, zinb loss: 0.183, kl loss: 33.688, clf loss: 1.598, time: 2.09\n",
      "2022-03-24 11:55:23,216 epoch: 14, train loss: 1.615, val loss: 1.722, zinb loss: 0.183, kl loss: 32.645, clf loss: 1.597, time: 2.06\n",
      "2022-03-24 11:55:26,075 epoch: 15, train loss: 1.614, val loss: 1.721, zinb loss: 0.183, kl loss: 32.064, clf loss: 1.597, time: 2.05\n",
      "2022-03-24 11:55:28,927 epoch: 16, train loss: 1.612, val loss: 1.719, zinb loss: 0.183, kl loss: 31.771, clf loss: 1.596, time: 2.04\n",
      "2022-03-24 11:55:31,800 epoch: 17, train loss: 1.612, val loss: 1.717, zinb loss: 0.183, kl loss: 31.798, clf loss: 1.594, time: 2.06\n",
      "2022-03-24 11:55:34,670 epoch: 18, train loss: 1.612, val loss: 1.716, zinb loss: 0.183, kl loss: 31.750, clf loss: 1.593, time: 2.06\n",
      "2022-03-24 11:55:37,536 epoch: 19, train loss: 1.611, val loss: 1.719, zinb loss: 0.183, kl loss: 31.575, clf loss: 1.596, time: 2.05\n",
      "2022-03-24 11:55:37,537 model fitting finished\n",
      "2022-03-24 11:55:37,538 saving model to /data/pollock/benchmarking/modules_folds/scRNAseq_melanoma_fold4\n"
     ]
    },
    {
     "name": "stdout",
     "output_type": "stream",
     "text": [
      "scRNAseq pdac fold2\n"
     ]
    },
    {
     "name": "stderr",
     "output_type": "stream",
     "text": [
      "2022-03-24 11:55:38,279 beginning training\n",
      "2022-03-24 11:55:38,280 creating dataloaders\n",
      "2022-03-24 11:55:41,053 23822 genes overlap with model after filtering\n",
      "2022-03-24 11:55:41,054 1199 genes missing from dataset after filtering\n",
      "2022-03-24 11:55:44,738 creating model\n",
      "2022-03-24 11:55:45,142 training dataset size: 8109, validation dataset size: 7654, cell types: ['Acinar', 'B cell', 'CD4 T cell', 'CD8 T cell', 'Dendritic', 'Endothelial', 'Epithelial', 'Erythrocyte', 'Fibroblast', 'Islet', 'Malignant', 'Mast', 'Monocyte', 'NK', 'Plasma', 'Treg', 'Tuft']\n",
      "2022-03-24 11:55:45,143 fitting model\n",
      "2022-03-24 11:55:51,141 epoch: 0, train loss: 3.062, val loss: 3.056, zinb loss: 0.450, kl loss: 0.725, clf loss: 2.831, time: 4.21\n",
      "2022-03-24 11:55:57,122 epoch: 1, train loss: 3.036, val loss: 2.979, zinb loss: 0.358, kl loss: 18.239, clf loss: 2.782, time: 4.20\n",
      "2022-03-24 11:56:03,200 epoch: 2, train loss: 2.833, val loss: 2.692, zinb loss: 0.231, kl loss: 91.125, clf loss: 2.486, time: 4.23\n",
      "2022-03-24 11:56:09,328 epoch: 3, train loss: 2.571, val loss: 2.490, zinb loss: 0.219, kl loss: 99.198, clf loss: 2.281, time: 4.24\n",
      "2022-03-24 11:56:15,164 epoch: 4, train loss: 2.373, val loss: 2.363, zinb loss: 0.214, kl loss: 90.278, clf loss: 2.166, time: 4.20\n",
      "2022-03-24 11:56:21,008 epoch: 5, train loss: 2.251, val loss: 2.334, zinb loss: 0.212, kl loss: 67.404, clf loss: 2.161, time: 4.19\n",
      "2022-03-24 11:56:27,071 epoch: 6, train loss: 2.204, val loss: 2.323, zinb loss: 0.211, kl loss: 60.491, clf loss: 2.157, time: 4.28\n",
      "2022-03-24 11:56:33,212 epoch: 7, train loss: 2.156, val loss: 2.299, zinb loss: 0.210, kl loss: 53.677, clf loss: 2.140, time: 4.27\n",
      "2022-03-24 11:56:39,147 epoch: 8, train loss: 2.132, val loss: 2.291, zinb loss: 0.210, kl loss: 48.315, clf loss: 2.137, time: 4.22\n",
      "2022-03-24 11:56:45,370 epoch: 9, train loss: 2.115, val loss: 2.286, zinb loss: 0.210, kl loss: 42.516, clf loss: 2.138, time: 4.42\n",
      "2022-03-24 11:56:51,361 epoch: 10, train loss: 2.106, val loss: 2.279, zinb loss: 0.209, kl loss: 40.149, clf loss: 2.134, time: 4.21\n",
      "2022-03-24 11:56:57,632 epoch: 11, train loss: 2.101, val loss: 2.274, zinb loss: 0.209, kl loss: 38.112, clf loss: 2.131, time: 4.22\n",
      "2022-03-24 11:57:03,858 epoch: 12, train loss: 2.097, val loss: 2.271, zinb loss: 0.209, kl loss: 35.366, clf loss: 2.132, time: 4.27\n",
      "2022-03-24 11:57:09,991 epoch: 13, train loss: 2.093, val loss: 2.271, zinb loss: 0.209, kl loss: 34.387, clf loss: 2.133, time: 4.38\n",
      "2022-03-24 11:57:15,991 epoch: 14, train loss: 2.091, val loss: 2.268, zinb loss: 0.209, kl loss: 33.198, clf loss: 2.130, time: 4.24\n",
      "2022-03-24 11:57:21,979 epoch: 15, train loss: 2.089, val loss: 2.267, zinb loss: 0.209, kl loss: 32.425, clf loss: 2.130, time: 4.23\n",
      "2022-03-24 11:57:27,976 epoch: 16, train loss: 2.088, val loss: 2.265, zinb loss: 0.208, kl loss: 32.665, clf loss: 2.129, time: 4.23\n",
      "2022-03-24 11:57:33,999 epoch: 17, train loss: 2.087, val loss: 2.263, zinb loss: 0.208, kl loss: 32.257, clf loss: 2.127, time: 4.27\n",
      "2022-03-24 11:57:39,949 epoch: 18, train loss: 2.087, val loss: 2.263, zinb loss: 0.208, kl loss: 32.173, clf loss: 2.126, time: 4.18\n",
      "2022-03-24 11:57:46,019 epoch: 19, train loss: 2.087, val loss: 2.263, zinb loss: 0.209, kl loss: 31.971, clf loss: 2.127, time: 4.21\n",
      "2022-03-24 11:57:46,020 model fitting finished\n",
      "2022-03-24 11:57:46,021 saving model to /data/pollock/benchmarking/modules_folds/scRNAseq_pdac_fold2\n"
     ]
    },
    {
     "name": "stdout",
     "output_type": "stream",
     "text": [
      "scRNAseq pdac fold3\n"
     ]
    },
    {
     "name": "stderr",
     "output_type": "stream",
     "text": [
      "2022-03-24 11:57:46,671 beginning training\n",
      "2022-03-24 11:57:46,672 creating dataloaders\n",
      "2022-03-24 11:57:49,596 23837 genes overlap with model after filtering\n",
      "2022-03-24 11:57:49,597 1215 genes missing from dataset after filtering\n",
      "2022-03-24 11:57:53,248 creating model\n",
      "2022-03-24 11:57:53,649 training dataset size: 8109, validation dataset size: 7654, cell types: ['Acinar', 'B cell', 'CD4 T cell', 'CD8 T cell', 'Dendritic', 'Endothelial', 'Epithelial', 'Erythrocyte', 'Fibroblast', 'Islet', 'Malignant', 'Mast', 'Monocyte', 'NK', 'Plasma', 'Treg', 'Tuft']\n",
      "2022-03-24 11:57:53,650 fitting model\n",
      "2022-03-24 11:57:59,634 epoch: 0, train loss: 3.063, val loss: 3.058, zinb loss: 0.450, kl loss: 0.672, clf loss: 2.832, time: 4.20\n",
      "2022-03-24 11:58:05,646 epoch: 1, train loss: 3.038, val loss: 2.987, zinb loss: 0.361, kl loss: 16.525, clf loss: 2.790, time: 4.22\n",
      "2022-03-24 11:58:11,634 epoch: 2, train loss: 2.866, val loss: 2.737, zinb loss: 0.233, kl loss: 81.185, clf loss: 2.539, time: 4.21\n",
      "2022-03-24 11:58:17,643 epoch: 3, train loss: 2.596, val loss: 2.493, zinb loss: 0.219, kl loss: 104.499, clf loss: 2.279, time: 4.21\n",
      "2022-03-24 11:58:23,646 epoch: 4, train loss: 2.385, val loss: 2.410, zinb loss: 0.215, kl loss: 85.995, clf loss: 2.217, time: 4.20\n",
      "2022-03-24 11:58:29,774 epoch: 5, train loss: 2.257, val loss: 2.350, zinb loss: 0.213, kl loss: 73.030, clf loss: 2.171, time: 4.21\n",
      "2022-03-24 11:58:35,790 epoch: 6, train loss: 2.179, val loss: 2.321, zinb loss: 0.211, kl loss: 57.098, clf loss: 2.158, time: 4.22\n",
      "2022-03-24 11:58:41,830 epoch: 7, train loss: 2.148, val loss: 2.305, zinb loss: 0.211, kl loss: 49.088, clf loss: 2.150, time: 4.24\n",
      "2022-03-24 11:58:47,953 epoch: 8, train loss: 2.129, val loss: 2.294, zinb loss: 0.210, kl loss: 47.117, clf loss: 2.141, time: 4.32\n",
      "2022-03-24 11:58:53,966 epoch: 9, train loss: 2.114, val loss: 2.288, zinb loss: 0.210, kl loss: 41.643, clf loss: 2.142, time: 4.22\n",
      "2022-03-24 11:58:59,979 epoch: 10, train loss: 2.105, val loss: 2.283, zinb loss: 0.210, kl loss: 37.964, clf loss: 2.140, time: 4.22\n",
      "2022-03-24 11:59:05,988 epoch: 11, train loss: 2.100, val loss: 2.279, zinb loss: 0.209, kl loss: 36.203, clf loss: 2.138, time: 4.21\n",
      "2022-03-24 11:59:12,056 epoch: 12, train loss: 2.096, val loss: 2.276, zinb loss: 0.209, kl loss: 35.090, clf loss: 2.136, time: 4.21\n",
      "2022-03-24 11:59:18,168 epoch: 13, train loss: 2.092, val loss: 2.272, zinb loss: 0.209, kl loss: 33.366, clf loss: 2.134, time: 4.24\n",
      "2022-03-24 11:59:24,069 epoch: 14, train loss: 2.090, val loss: 2.274, zinb loss: 0.209, kl loss: 32.114, clf loss: 2.138, time: 4.25\n",
      "2022-03-24 11:59:30,097 epoch: 15, train loss: 2.088, val loss: 2.269, zinb loss: 0.209, kl loss: 31.821, clf loss: 2.133, time: 4.22\n",
      "2022-03-24 11:59:36,103 epoch: 16, train loss: 2.087, val loss: 2.271, zinb loss: 0.209, kl loss: 31.163, clf loss: 2.135, time: 4.22\n",
      "2022-03-24 11:59:42,097 epoch: 17, train loss: 2.086, val loss: 2.267, zinb loss: 0.208, kl loss: 31.276, clf loss: 2.131, time: 4.20\n",
      "2022-03-24 11:59:48,078 epoch: 18, train loss: 2.086, val loss: 2.269, zinb loss: 0.209, kl loss: 30.968, clf loss: 2.133, time: 4.19\n",
      "2022-03-24 11:59:54,146 epoch: 19, train loss: 2.086, val loss: 2.269, zinb loss: 0.209, kl loss: 30.871, clf loss: 2.134, time: 4.21\n",
      "2022-03-24 11:59:54,147 model fitting finished\n",
      "2022-03-24 11:59:54,148 saving model to /data/pollock/benchmarking/modules_folds/scRNAseq_pdac_fold3\n"
     ]
    },
    {
     "name": "stdout",
     "output_type": "stream",
     "text": [
      "scRNAseq pdac fold1\n"
     ]
    },
    {
     "name": "stderr",
     "output_type": "stream",
     "text": [
      "2022-03-24 11:59:55,045 beginning training\n",
      "2022-03-24 11:59:55,046 creating dataloaders\n",
      "2022-03-24 11:59:57,994 23823 genes overlap with model after filtering\n",
      "2022-03-24 11:59:57,995 1164 genes missing from dataset after filtering\n",
      "2022-03-24 12:00:01,705 creating model\n",
      "2022-03-24 12:00:02,103 training dataset size: 8109, validation dataset size: 7654, cell types: ['Acinar', 'B cell', 'CD4 T cell', 'CD8 T cell', 'Dendritic', 'Endothelial', 'Epithelial', 'Erythrocyte', 'Fibroblast', 'Islet', 'Malignant', 'Mast', 'Monocyte', 'NK', 'Plasma', 'Treg', 'Tuft']\n",
      "2022-03-24 12:00:02,104 fitting model\n",
      "2022-03-24 12:00:08,191 epoch: 0, train loss: 3.063, val loss: 3.059, zinb loss: 0.451, kl loss: 0.667, clf loss: 2.833, time: 4.29\n",
      "2022-03-24 12:00:14,219 epoch: 1, train loss: 3.041, val loss: 3.008, zinb loss: 0.367, kl loss: 7.386, clf loss: 2.817, time: 4.22\n",
      "2022-03-24 12:00:20,282 epoch: 2, train loss: 2.871, val loss: 2.652, zinb loss: 0.231, kl loss: 132.773, clf loss: 2.403, time: 4.26\n",
      "2022-03-24 12:00:26,328 epoch: 3, train loss: 2.553, val loss: 2.472, zinb loss: 0.218, kl loss: 118.945, clf loss: 2.245, time: 4.24\n",
      "2022-03-24 12:00:32,502 epoch: 4, train loss: 2.337, val loss: 2.361, zinb loss: 0.214, kl loss: 93.698, clf loss: 2.161, time: 4.26\n",
      "2022-03-24 12:00:38,533 epoch: 5, train loss: 2.216, val loss: 2.333, zinb loss: 0.213, kl loss: 69.015, clf loss: 2.157, time: 4.30\n",
      "2022-03-24 12:00:44,615 epoch: 6, train loss: 2.170, val loss: 2.313, zinb loss: 0.211, kl loss: 59.662, clf loss: 2.148, time: 4.35\n",
      "2022-03-24 12:00:50,686 epoch: 7, train loss: 2.146, val loss: 2.298, zinb loss: 0.211, kl loss: 51.298, clf loss: 2.141, time: 4.19\n",
      "2022-03-24 12:00:56,759 epoch: 8, train loss: 2.126, val loss: 2.288, zinb loss: 0.210, kl loss: 47.414, clf loss: 2.135, time: 4.20\n",
      "2022-03-24 12:01:02,670 epoch: 9, train loss: 2.113, val loss: 2.278, zinb loss: 0.210, kl loss: 42.851, clf loss: 2.130, time: 4.21\n",
      "2022-03-24 12:01:08,761 epoch: 10, train loss: 2.106, val loss: 2.273, zinb loss: 0.210, kl loss: 39.328, clf loss: 2.129, time: 4.22\n",
      "2022-03-24 12:01:14,810 epoch: 11, train loss: 2.101, val loss: 2.271, zinb loss: 0.210, kl loss: 37.569, clf loss: 2.128, time: 4.21\n",
      "2022-03-24 12:01:21,304 epoch: 12, train loss: 2.097, val loss: 2.268, zinb loss: 0.210, kl loss: 35.433, clf loss: 2.128, time: 4.63\n",
      "2022-03-24 12:01:27,527 epoch: 13, train loss: 2.093, val loss: 2.263, zinb loss: 0.209, kl loss: 34.931, clf loss: 2.124, time: 4.31\n",
      "2022-03-24 12:01:33,485 epoch: 14, train loss: 2.091, val loss: 2.263, zinb loss: 0.209, kl loss: 33.323, clf loss: 2.125, time: 4.31\n",
      "2022-03-24 12:01:39,425 epoch: 15, train loss: 2.089, val loss: 2.260, zinb loss: 0.209, kl loss: 33.331, clf loss: 2.122, time: 4.21\n",
      "2022-03-24 12:01:45,674 epoch: 16, train loss: 2.088, val loss: 2.262, zinb loss: 0.209, kl loss: 32.250, clf loss: 2.125, time: 4.31\n",
      "2022-03-24 12:01:51,489 epoch: 17, train loss: 2.087, val loss: 2.261, zinb loss: 0.209, kl loss: 32.282, clf loss: 2.124, time: 4.20\n",
      "2022-03-24 12:01:57,464 epoch: 18, train loss: 2.087, val loss: 2.261, zinb loss: 0.209, kl loss: 31.937, clf loss: 2.125, time: 4.21\n",
      "2022-03-24 12:02:03,577 epoch: 19, train loss: 2.087, val loss: 2.260, zinb loss: 0.209, kl loss: 32.115, clf loss: 2.124, time: 4.22\n",
      "2022-03-24 12:02:03,578 model fitting finished\n",
      "2022-03-24 12:02:03,579 saving model to /data/pollock/benchmarking/modules_folds/scRNAseq_pdac_fold1\n"
     ]
    },
    {
     "name": "stdout",
     "output_type": "stream",
     "text": [
      "scRNAseq pdac fold4\n"
     ]
    },
    {
     "name": "stderr",
     "output_type": "stream",
     "text": [
      "2022-03-24 12:02:04,203 beginning training\n",
      "2022-03-24 12:02:04,203 creating dataloaders\n",
      "2022-03-24 12:02:07,197 23781 genes overlap with model after filtering\n",
      "2022-03-24 12:02:07,198 1197 genes missing from dataset after filtering\n",
      "2022-03-24 12:02:10,944 creating model\n",
      "2022-03-24 12:02:11,344 training dataset size: 8109, validation dataset size: 7654, cell types: ['Acinar', 'B cell', 'CD4 T cell', 'CD8 T cell', 'Dendritic', 'Endothelial', 'Epithelial', 'Erythrocyte', 'Fibroblast', 'Islet', 'Malignant', 'Mast', 'Monocyte', 'NK', 'Plasma', 'Treg', 'Tuft']\n",
      "2022-03-24 12:02:11,345 fitting model\n",
      "2022-03-24 12:02:17,798 epoch: 0, train loss: 3.061, val loss: 3.056, zinb loss: 0.450, kl loss: 0.786, clf loss: 2.830, time: 4.54\n",
      "2022-03-24 12:02:23,805 epoch: 1, train loss: 3.031, val loss: 2.965, zinb loss: 0.353, kl loss: 26.650, clf loss: 2.761, time: 4.25\n",
      "2022-03-24 12:02:29,813 epoch: 2, train loss: 2.817, val loss: 2.703, zinb loss: 0.232, kl loss: 77.398, clf loss: 2.509, time: 4.26\n",
      "2022-03-24 12:02:35,934 epoch: 3, train loss: 2.611, val loss: 2.496, zinb loss: 0.220, kl loss: 108.329, clf loss: 2.278, time: 4.25\n",
      "2022-03-24 12:02:42,101 epoch: 4, train loss: 2.378, val loss: 2.384, zinb loss: 0.215, kl loss: 91.249, clf loss: 2.185, time: 4.42\n",
      "2022-03-24 12:02:48,148 epoch: 5, train loss: 2.228, val loss: 2.328, zinb loss: 0.213, kl loss: 71.463, clf loss: 2.150, time: 4.29\n",
      "2022-03-24 12:02:54,152 epoch: 6, train loss: 2.168, val loss: 2.313, zinb loss: 0.212, kl loss: 56.189, clf loss: 2.151, time: 4.25\n",
      "2022-03-24 12:03:00,163 epoch: 7, train loss: 2.145, val loss: 2.297, zinb loss: 0.211, kl loss: 49.841, clf loss: 2.142, time: 4.25\n",
      "2022-03-24 12:03:06,144 epoch: 8, train loss: 2.132, val loss: 2.286, zinb loss: 0.210, kl loss: 45.017, clf loss: 2.136, time: 4.24\n",
      "2022-03-24 12:03:12,261 epoch: 9, train loss: 2.123, val loss: 2.283, zinb loss: 0.210, kl loss: 41.118, clf loss: 2.137, time: 4.24\n",
      "2022-03-24 12:03:18,468 epoch: 10, train loss: 2.116, val loss: 2.276, zinb loss: 0.210, kl loss: 38.479, clf loss: 2.133, time: 4.44\n",
      "2022-03-24 12:03:24,776 epoch: 11, train loss: 2.111, val loss: 2.276, zinb loss: 0.209, kl loss: 36.051, clf loss: 2.135, time: 4.40\n",
      "2022-03-24 12:03:31,059 epoch: 12, train loss: 2.107, val loss: 2.271, zinb loss: 0.209, kl loss: 34.706, clf loss: 2.132, time: 4.39\n",
      "2022-03-24 12:03:37,035 epoch: 13, train loss: 2.104, val loss: 2.269, zinb loss: 0.209, kl loss: 33.150, clf loss: 2.131, time: 4.24\n",
      "2022-03-24 12:03:43,023 epoch: 14, train loss: 2.102, val loss: 2.266, zinb loss: 0.209, kl loss: 32.619, clf loss: 2.129, time: 4.23\n",
      "2022-03-24 12:03:49,164 epoch: 15, train loss: 2.100, val loss: 2.265, zinb loss: 0.209, kl loss: 32.115, clf loss: 2.128, time: 4.27\n",
      "2022-03-24 12:03:55,360 epoch: 16, train loss: 2.098, val loss: 2.266, zinb loss: 0.209, kl loss: 31.501, clf loss: 2.130, time: 4.45\n",
      "2022-03-24 12:04:01,337 epoch: 17, train loss: 2.097, val loss: 2.266, zinb loss: 0.209, kl loss: 31.426, clf loss: 2.130, time: 4.23\n",
      "2022-03-24 12:04:07,618 epoch: 18, train loss: 2.097, val loss: 2.267, zinb loss: 0.209, kl loss: 31.249, clf loss: 2.131, time: 4.38\n",
      "2022-03-24 12:04:13,760 epoch: 19, train loss: 2.096, val loss: 2.266, zinb loss: 0.209, kl loss: 31.395, clf loss: 2.130, time: 4.32\n",
      "2022-03-24 12:04:13,761 model fitting finished\n",
      "2022-03-24 12:04:13,762 saving model to /data/pollock/benchmarking/modules_folds/scRNAseq_pdac_fold4\n"
     ]
    },
    {
     "name": "stdout",
     "output_type": "stream",
     "text": [
      "scRNAseq pdac fold0\n"
     ]
    },
    {
     "name": "stderr",
     "output_type": "stream",
     "text": [
      "2022-03-24 12:04:14,483 beginning training\n",
      "2022-03-24 12:04:14,484 creating dataloaders\n",
      "2022-03-24 12:04:17,459 23764 genes overlap with model after filtering\n",
      "2022-03-24 12:04:17,460 1177 genes missing from dataset after filtering\n",
      "2022-03-24 12:04:21,205 creating model\n",
      "2022-03-24 12:04:21,613 training dataset size: 8109, validation dataset size: 7654, cell types: ['Acinar', 'B cell', 'CD4 T cell', 'CD8 T cell', 'Dendritic', 'Endothelial', 'Epithelial', 'Erythrocyte', 'Fibroblast', 'Islet', 'Malignant', 'Mast', 'Monocyte', 'NK', 'Plasma', 'Treg', 'Tuft']\n",
      "2022-03-24 12:04:21,614 fitting model\n",
      "2022-03-24 12:04:27,712 epoch: 0, train loss: 3.063, val loss: 3.058, zinb loss: 0.452, kl loss: 0.666, clf loss: 2.831, time: 4.26\n",
      "2022-03-24 12:04:33,781 epoch: 1, train loss: 3.036, val loss: 2.980, zinb loss: 0.358, kl loss: 17.401, clf loss: 2.783, time: 4.26\n",
      "2022-03-24 12:04:39,831 epoch: 2, train loss: 2.833, val loss: 2.672, zinb loss: 0.233, kl loss: 98.845, clf loss: 2.457, time: 4.23\n",
      "2022-03-24 12:04:45,848 epoch: 3, train loss: 2.566, val loss: 2.476, zinb loss: 0.220, kl loss: 98.200, clf loss: 2.267, time: 4.19\n",
      "2022-03-24 12:04:52,026 epoch: 4, train loss: 2.379, val loss: 2.387, zinb loss: 0.215, kl loss: 79.588, clf loss: 2.200, time: 4.24\n",
      "2022-03-24 12:04:57,994 epoch: 5, train loss: 2.282, val loss: 2.344, zinb loss: 0.214, kl loss: 68.456, clf loss: 2.169, time: 4.28\n",
      "2022-03-24 12:05:04,031 epoch: 6, train loss: 2.209, val loss: 2.325, zinb loss: 0.212, kl loss: 60.922, clf loss: 2.158, time: 4.24\n",
      "2022-03-24 12:05:10,092 epoch: 7, train loss: 2.155, val loss: 2.307, zinb loss: 0.211, kl loss: 52.672, clf loss: 2.149, time: 4.27\n",
      "2022-03-24 12:05:16,137 epoch: 8, train loss: 2.134, val loss: 2.295, zinb loss: 0.211, kl loss: 45.242, clf loss: 2.144, time: 4.25\n",
      "2022-03-24 12:05:22,282 epoch: 9, train loss: 2.124, val loss: 2.286, zinb loss: 0.211, kl loss: 41.009, clf loss: 2.139, time: 4.23\n",
      "2022-03-24 12:05:28,187 epoch: 10, train loss: 2.116, val loss: 2.279, zinb loss: 0.210, kl loss: 39.097, clf loss: 2.135, time: 4.22\n",
      "2022-03-24 12:05:34,192 epoch: 11, train loss: 2.109, val loss: 2.274, zinb loss: 0.210, kl loss: 39.643, clf loss: 2.129, time: 4.21\n",
      "2022-03-24 12:05:40,179 epoch: 12, train loss: 2.099, val loss: 2.272, zinb loss: 0.210, kl loss: 35.814, clf loss: 2.131, time: 4.19\n",
      "2022-03-24 12:05:46,197 epoch: 13, train loss: 2.094, val loss: 2.271, zinb loss: 0.210, kl loss: 34.117, clf loss: 2.132, time: 4.23\n",
      "2022-03-24 12:05:52,332 epoch: 14, train loss: 2.091, val loss: 2.272, zinb loss: 0.210, kl loss: 33.451, clf loss: 2.134, time: 4.22\n",
      "2022-03-24 12:05:58,214 epoch: 15, train loss: 2.089, val loss: 2.270, zinb loss: 0.210, kl loss: 32.379, clf loss: 2.132, time: 4.22\n",
      "2022-03-24 12:06:04,364 epoch: 16, train loss: 2.088, val loss: 2.266, zinb loss: 0.209, kl loss: 32.184, clf loss: 2.129, time: 4.35\n",
      "2022-03-24 12:06:10,390 epoch: 17, train loss: 2.087, val loss: 2.268, zinb loss: 0.209, kl loss: 31.899, clf loss: 2.132, time: 4.23\n",
      "2022-03-24 12:06:16,417 epoch: 18, train loss: 2.087, val loss: 2.266, zinb loss: 0.209, kl loss: 31.893, clf loss: 2.129, time: 4.23\n",
      "2022-03-24 12:06:22,565 epoch: 19, train loss: 2.087, val loss: 2.266, zinb loss: 0.209, kl loss: 31.879, clf loss: 2.129, time: 4.24\n",
      "2022-03-24 12:06:22,566 model fitting finished\n",
      "2022-03-24 12:06:22,567 saving model to /data/pollock/benchmarking/modules_folds/scRNAseq_pdac_fold0\n"
     ]
    }
   ],
   "source": [
    "# with folds\n",
    "# start = None\n",
    "start = ('scRNAseq', 'myeloma', 'fold0')\n",
    "# valid = True\n",
    "valid = False\n",
    "for dtype, d1 in folds_fmap.items():\n",
    "    for disease, d2 in d1.items():\n",
    "        for fold, d3 in d2.items():\n",
    "            print(dtype, disease, fold)\n",
    "            if start is None or start == (dtype, disease, fold):\n",
    "                valid = True\n",
    "                \n",
    "            if valid:\n",
    "                train = sc.read_h5ad(d3['train'])\n",
    "                val = sc.read_h5ad(d3['val'])\n",
    "                args['module_filepath'] = os.path.join(fold_module_dir, f'{dtype}_{disease}_{fold}')\n",
    "                utils.train_and_save_model(train, val, args)"
   ]
  },
  {
   "cell_type": "code",
   "execution_count": null,
   "id": "9710db87",
   "metadata": {},
   "outputs": [],
   "source": []
  },
  {
   "cell_type": "code",
   "execution_count": null,
   "id": "2d7bd652",
   "metadata": {},
   "outputs": [],
   "source": []
  },
  {
   "cell_type": "code",
   "execution_count": 18,
   "id": "86cbfce2",
   "metadata": {
    "scrolled": true
   },
   "outputs": [
    {
     "name": "stderr",
     "output_type": "stream",
     "text": [
      "2022-01-13 08:58:29,784 beginning training\n",
      "2022-01-13 08:58:29,785 creating dataloaders\n"
     ]
    },
    {
     "name": "stdout",
     "output_type": "stream",
     "text": [
      "scRNAseq cesc\n"
     ]
    },
    {
     "name": "stderr",
     "output_type": "stream",
     "text": [
      "2022-01-13 08:58:31,104 21146 genes overlap with model after filtering\n",
      "2022-01-13 08:58:31,105 703 genes missing from dataset after filtering\n",
      "2022-01-13 08:58:32,794 creating model\n",
      "2022-01-13 08:58:33,110 training dataset size: 4661, validation dataset size: 4276, cell types: ['CD4 T cell', 'CD8 T cell', 'Endothelial', 'Epithelial', 'Erythrocyte', 'Fibroblast', 'Malignant', 'Mast', 'Monocyte', 'NK', 'Plasma']\n",
      "2022-01-13 08:58:33,111 fitting model\n",
      "2022-01-13 08:58:36,634 epoch: 0, train loss: 2.667, val loss: 2.662, zinb loss: 0.532, kl loss: 0.678, clf loss: 2.395, time: 2.42\n",
      "2022-01-13 08:58:40,148 epoch: 1, train loss: 2.647, val loss: 2.618, zinb loss: 0.498, kl loss: 6.720, clf loss: 2.363, time: 2.41\n",
      "2022-01-13 08:58:43,653 epoch: 2, train loss: 2.471, val loss: 2.294, zinb loss: 0.327, kl loss: 94.867, clf loss: 2.035, time: 2.41\n",
      "2022-01-13 08:58:47,210 epoch: 3, train loss: 2.119, val loss: 2.002, zinb loss: 0.292, kl loss: 120.842, clf loss: 1.735, time: 2.53\n",
      "2022-01-13 08:58:50,595 epoch: 4, train loss: 1.922, val loss: 1.913, zinb loss: 0.284, kl loss: 86.514, clf loss: 1.684, time: 2.35\n",
      "2022-01-13 08:58:53,997 epoch: 5, train loss: 1.852, val loss: 1.879, zinb loss: 0.281, kl loss: 69.094, clf loss: 1.669, time: 2.36\n",
      "2022-01-13 08:58:57,377 epoch: 6, train loss: 1.822, val loss: 1.858, zinb loss: 0.278, kl loss: 59.929, clf loss: 1.659, time: 2.34\n",
      "2022-01-13 08:59:00,773 epoch: 7, train loss: 1.804, val loss: 1.846, zinb loss: 0.277, kl loss: 54.776, clf loss: 1.653, time: 2.35\n",
      "2022-01-13 08:59:04,197 epoch: 8, train loss: 1.785, val loss: 1.842, zinb loss: 0.276, kl loss: 49.839, clf loss: 1.654, time: 2.38\n",
      "2022-01-13 08:59:07,598 epoch: 9, train loss: 1.771, val loss: 1.830, zinb loss: 0.275, kl loss: 46.043, clf loss: 1.646, time: 2.36\n",
      "2022-01-13 08:59:10,989 epoch: 10, train loss: 1.761, val loss: 1.821, zinb loss: 0.274, kl loss: 44.178, clf loss: 1.640, time: 2.35\n",
      "2022-01-13 08:59:14,382 epoch: 11, train loss: 1.755, val loss: 1.820, zinb loss: 0.274, kl loss: 41.462, clf loss: 1.641, time: 2.35\n",
      "2022-01-13 08:59:17,772 epoch: 12, train loss: 1.750, val loss: 1.815, zinb loss: 0.274, kl loss: 40.173, clf loss: 1.638, time: 2.35\n",
      "2022-01-13 08:59:21,159 epoch: 13, train loss: 1.747, val loss: 1.813, zinb loss: 0.274, kl loss: 38.056, clf loss: 1.638, time: 2.34\n",
      "2022-01-13 08:59:24,555 epoch: 14, train loss: 1.744, val loss: 1.808, zinb loss: 0.273, kl loss: 37.629, clf loss: 1.634, time: 2.36\n",
      "2022-01-13 08:59:27,944 epoch: 15, train loss: 1.742, val loss: 1.807, zinb loss: 0.273, kl loss: 37.118, clf loss: 1.633, time: 2.35\n",
      "2022-01-13 08:59:31,329 epoch: 16, train loss: 1.741, val loss: 1.808, zinb loss: 0.273, kl loss: 36.434, clf loss: 1.635, time: 2.34\n",
      "2022-01-13 08:59:34,708 epoch: 17, train loss: 1.740, val loss: 1.808, zinb loss: 0.273, kl loss: 36.301, clf loss: 1.635, time: 2.34\n",
      "2022-01-13 08:59:38,098 epoch: 18, train loss: 1.740, val loss: 1.806, zinb loss: 0.273, kl loss: 36.277, clf loss: 1.634, time: 2.34\n",
      "2022-01-13 08:59:41,499 epoch: 19, train loss: 1.740, val loss: 1.807, zinb loss: 0.273, kl loss: 36.349, clf loss: 1.634, time: 2.36\n",
      "2022-01-13 08:59:41,500 model fitting finished\n",
      "2022-01-13 08:59:41,500 saving model to /data/pollock/benchmarking/modules/scRNAseq_cesc\n",
      "2022-01-13 08:59:41,832 beginning training\n",
      "2022-01-13 08:59:41,833 creating dataloaders\n"
     ]
    },
    {
     "name": "stdout",
     "output_type": "stream",
     "text": [
      "scRNAseq myeloma\n"
     ]
    },
    {
     "name": "stderr",
     "output_type": "stream",
     "text": [
      "2022-01-13 08:59:42,591 18733 genes overlap with model after filtering\n",
      "2022-01-13 08:59:42,592 1290 genes missing from dataset after filtering\n",
      "2022-01-13 08:59:43,569 creating model\n",
      "2022-01-13 08:59:43,856 training dataset size: 3617, validation dataset size: 3312, cell types: ['B cell', 'CD4 T cell', 'CD8 T cell', 'Dendritic', 'Erythrocyte', 'Malignant', 'Mast', 'Monocyte', 'NK', 'Plasma', 'Platlete']\n",
      "2022-01-13 08:59:43,857 fitting model\n",
      "2022-01-13 08:59:46,457 epoch: 0, train loss: 2.618, val loss: 2.616, zinb loss: 0.436, kl loss: 0.553, clf loss: 2.397, time: 1.77\n",
      "2022-01-13 08:59:49,039 epoch: 1, train loss: 2.607, val loss: 2.597, zinb loss: 0.414, kl loss: 1.209, clf loss: 2.389, time: 1.75\n",
      "2022-01-13 08:59:51,614 epoch: 2, train loss: 2.538, val loss: 2.446, zinb loss: 0.288, kl loss: 38.246, clf loss: 2.264, time: 1.74\n",
      "2022-01-13 08:59:54,185 epoch: 3, train loss: 2.207, val loss: 2.043, zinb loss: 0.211, kl loss: 110.539, clf loss: 1.827, time: 1.74\n",
      "2022-01-13 08:59:56,756 epoch: 4, train loss: 1.911, val loss: 1.905, zinb loss: 0.205, kl loss: 86.032, clf loss: 1.717, time: 1.73\n",
      "2022-01-13 08:59:59,325 epoch: 5, train loss: 1.823, val loss: 1.882, zinb loss: 0.203, kl loss: 64.777, clf loss: 1.716, time: 1.74\n",
      "2022-01-13 09:00:01,916 epoch: 6, train loss: 1.791, val loss: 1.866, zinb loss: 0.202, kl loss: 54.092, clf loss: 1.712, time: 1.76\n",
      "2022-01-13 09:00:04,484 epoch: 7, train loss: 1.773, val loss: 1.853, zinb loss: 0.201, kl loss: 47.652, clf loss: 1.705, time: 1.74\n",
      "2022-01-13 09:00:07,067 epoch: 8, train loss: 1.760, val loss: 1.842, zinb loss: 0.200, kl loss: 44.280, clf loss: 1.698, time: 1.75\n",
      "2022-01-13 09:00:09,587 epoch: 9, train loss: 1.749, val loss: 1.839, zinb loss: 0.201, kl loss: 40.029, clf loss: 1.699, time: 1.73\n",
      "2022-01-13 09:00:12,161 epoch: 10, train loss: 1.741, val loss: 1.829, zinb loss: 0.199, kl loss: 38.880, clf loss: 1.690, time: 1.74\n",
      "2022-01-13 09:00:14,881 epoch: 11, train loss: 1.732, val loss: 1.825, zinb loss: 0.199, kl loss: 37.995, clf loss: 1.687, time: 1.89\n",
      "2022-01-13 09:00:17,452 epoch: 12, train loss: 1.723, val loss: 1.818, zinb loss: 0.199, kl loss: 36.821, clf loss: 1.681, time: 1.74\n",
      "2022-01-13 09:00:20,032 epoch: 13, train loss: 1.718, val loss: 1.814, zinb loss: 0.198, kl loss: 35.784, clf loss: 1.679, time: 1.74\n",
      "2022-01-13 09:00:22,642 epoch: 14, train loss: 1.715, val loss: 1.815, zinb loss: 0.199, kl loss: 34.414, clf loss: 1.681, time: 1.75\n",
      "2022-01-13 09:00:25,225 epoch: 15, train loss: 1.713, val loss: 1.814, zinb loss: 0.199, kl loss: 33.794, clf loss: 1.681, time: 1.73\n",
      "2022-01-13 09:00:27,799 epoch: 16, train loss: 1.711, val loss: 1.817, zinb loss: 0.199, kl loss: 33.082, clf loss: 1.684, time: 1.74\n",
      "2022-01-13 09:00:30,387 epoch: 17, train loss: 1.710, val loss: 1.812, zinb loss: 0.199, kl loss: 33.623, clf loss: 1.679, time: 1.75\n",
      "2022-01-13 09:00:32,963 epoch: 18, train loss: 1.710, val loss: 1.813, zinb loss: 0.199, kl loss: 33.048, clf loss: 1.680, time: 1.74\n",
      "2022-01-13 09:00:35,539 epoch: 19, train loss: 1.710, val loss: 1.813, zinb loss: 0.199, kl loss: 32.989, clf loss: 1.680, time: 1.74\n",
      "2022-01-13 09:00:35,541 model fitting finished\n",
      "2022-01-13 09:00:35,542 saving model to /data/pollock/benchmarking/modules/scRNAseq_myeloma\n",
      "2022-01-13 09:00:35,888 beginning training\n",
      "2022-01-13 09:00:35,889 creating dataloaders\n"
     ]
    },
    {
     "name": "stdout",
     "output_type": "stream",
     "text": [
      "scRNAseq brca\n"
     ]
    },
    {
     "name": "stderr",
     "output_type": "stream",
     "text": [
      "2022-01-13 09:00:37,476 22285 genes overlap with model after filtering\n",
      "2022-01-13 09:00:37,477 1268 genes missing from dataset after filtering\n",
      "2022-01-13 09:00:39,510 creating model\n",
      "2022-01-13 09:00:39,830 training dataset size: 6105, validation dataset size: 5748, cell types: ['B cell', 'CD4 T cell', 'CD8 T cell', 'Dendritic', 'Endothelial', 'Erythrocyte', 'Fibroblast', 'Malignant', 'Mast', 'Monocyte', 'NK', 'Plasma', 'Treg']\n",
      "2022-01-13 09:00:39,831 fitting model\n",
      "2022-01-13 09:00:44,430 epoch: 0, train loss: 2.784, val loss: 2.780, zinb loss: 0.428, kl loss: 0.745, clf loss: 2.565, time: 3.24\n",
      "2022-01-13 09:00:49,005 epoch: 1, train loss: 2.768, val loss: 2.747, zinb loss: 0.381, kl loss: 3.507, clf loss: 2.553, time: 3.22\n",
      "2022-01-13 09:00:53,606 epoch: 2, train loss: 2.633, val loss: 2.466, zinb loss: 0.232, kl loss: 80.924, clf loss: 2.269, time: 3.24\n",
      "2022-01-13 09:00:58,186 epoch: 3, train loss: 2.328, val loss: 2.267, zinb loss: 0.214, kl loss: 98.384, clf loss: 2.062, time: 3.22\n",
      "2022-01-13 09:01:02,776 epoch: 4, train loss: 2.112, val loss: 2.142, zinb loss: 0.208, kl loss: 82.466, clf loss: 1.955, time: 3.23\n",
      "2022-01-13 09:01:07,364 epoch: 5, train loss: 2.003, val loss: 2.111, zinb loss: 0.206, kl loss: 67.200, clf loss: 1.941, time: 3.22\n",
      "2022-01-13 09:01:11,963 epoch: 6, train loss: 1.924, val loss: 2.068, zinb loss: 0.206, kl loss: 58.015, clf loss: 1.907, time: 3.24\n",
      "2022-01-13 09:01:16,555 epoch: 7, train loss: 1.891, val loss: 2.056, zinb loss: 0.206, kl loss: 47.852, clf loss: 1.905, time: 3.23\n",
      "2022-01-13 09:01:21,147 epoch: 8, train loss: 1.877, val loss: 2.044, zinb loss: 0.205, kl loss: 43.815, clf loss: 1.898, time: 3.23\n",
      "2022-01-13 09:01:25,729 epoch: 9, train loss: 1.868, val loss: 2.039, zinb loss: 0.204, kl loss: 39.906, clf loss: 1.897, time: 3.22\n",
      "2022-01-13 09:01:30,313 epoch: 10, train loss: 1.862, val loss: 2.032, zinb loss: 0.204, kl loss: 37.290, clf loss: 1.892, time: 3.22\n",
      "2022-01-13 09:01:34,898 epoch: 11, train loss: 1.857, val loss: 2.028, zinb loss: 0.204, kl loss: 35.384, clf loss: 1.891, time: 3.22\n",
      "2022-01-13 09:01:39,482 epoch: 12, train loss: 1.853, val loss: 2.025, zinb loss: 0.204, kl loss: 33.767, clf loss: 1.889, time: 3.23\n",
      "2022-01-13 09:01:44,071 epoch: 13, train loss: 1.850, val loss: 2.023, zinb loss: 0.204, kl loss: 32.846, clf loss: 1.889, time: 3.23\n",
      "2022-01-13 09:01:48,676 epoch: 14, train loss: 1.848, val loss: 2.022, zinb loss: 0.204, kl loss: 31.564, clf loss: 1.889, time: 3.25\n",
      "2022-01-13 09:01:53,254 epoch: 15, train loss: 1.846, val loss: 2.021, zinb loss: 0.203, kl loss: 30.860, clf loss: 1.888, time: 3.22\n",
      "2022-01-13 09:01:57,843 epoch: 16, train loss: 1.845, val loss: 2.024, zinb loss: 0.203, kl loss: 30.539, clf loss: 1.891, time: 3.23\n",
      "2022-01-13 09:02:02,421 epoch: 17, train loss: 1.844, val loss: 2.019, zinb loss: 0.203, kl loss: 30.384, clf loss: 1.887, time: 3.23\n",
      "2022-01-13 09:02:07,006 epoch: 18, train loss: 1.844, val loss: 2.020, zinb loss: 0.203, kl loss: 30.374, clf loss: 1.888, time: 3.23\n",
      "2022-01-13 09:02:11,586 epoch: 19, train loss: 1.844, val loss: 2.021, zinb loss: 0.203, kl loss: 30.195, clf loss: 1.889, time: 3.22\n",
      "2022-01-13 09:02:11,587 model fitting finished\n",
      "2022-01-13 09:02:11,588 saving model to /data/pollock/benchmarking/modules/scRNAseq_brca\n",
      "2022-01-13 09:02:12,037 beginning training\n",
      "2022-01-13 09:02:12,038 creating dataloaders\n"
     ]
    },
    {
     "name": "stdout",
     "output_type": "stream",
     "text": [
      "scRNAseq hnscc\n"
     ]
    },
    {
     "name": "stderr",
     "output_type": "stream",
     "text": [
      "2022-01-13 09:02:13,367 21915 genes overlap with model after filtering\n",
      "2022-01-13 09:02:13,368 1008 genes missing from dataset after filtering\n",
      "2022-01-13 09:02:15,239 creating model\n",
      "2022-01-13 09:02:15,549 training dataset size: 5287, validation dataset size: 5201, cell types: ['B cell', 'CD4 T cell', 'CD8 T cell', 'Endothelial', 'Erythrocyte', 'Malignant', 'Mast', 'Monocyte', 'NK', 'Plasma', 'Treg']\n",
      "2022-01-13 09:02:15,550 fitting model\n",
      "2022-01-13 09:02:19,527 epoch: 0, train loss: 2.639, val loss: 2.635, zinb loss: 0.474, kl loss: 0.582, clf loss: 2.398, time: 2.74\n",
      "2022-01-13 09:02:23,503 epoch: 1, train loss: 2.621, val loss: 2.596, zinb loss: 0.432, kl loss: 4.969, clf loss: 2.375, time: 2.74\n",
      "2022-01-13 09:02:27,474 epoch: 2, train loss: 2.461, val loss: 2.303, zinb loss: 0.269, kl loss: 86.265, clf loss: 2.082, time: 2.74\n",
      "2022-01-13 09:02:31,448 epoch: 3, train loss: 2.167, val loss: 2.092, zinb loss: 0.243, kl loss: 93.755, clf loss: 1.877, time: 2.74\n",
      "2022-01-13 09:02:35,428 epoch: 4, train loss: 1.978, val loss: 1.994, zinb loss: 0.236, kl loss: 84.924, clf loss: 1.792, time: 2.74\n",
      "2022-01-13 09:02:39,412 epoch: 5, train loss: 1.847, val loss: 1.946, zinb loss: 0.234, kl loss: 72.846, clf loss: 1.756, time: 2.75\n",
      "2022-01-13 09:02:43,399 epoch: 6, train loss: 1.787, val loss: 1.922, zinb loss: 0.232, kl loss: 58.335, clf loss: 1.748, time: 2.75\n",
      "2022-01-13 09:02:47,376 epoch: 7, train loss: 1.763, val loss: 1.909, zinb loss: 0.231, kl loss: 51.544, clf loss: 1.742, time: 2.73\n",
      "2022-01-13 09:02:51,359 epoch: 8, train loss: 1.749, val loss: 1.902, zinb loss: 0.231, kl loss: 44.912, clf loss: 1.741, time: 2.74\n",
      "2022-01-13 09:02:55,319 epoch: 9, train loss: 1.739, val loss: 1.894, zinb loss: 0.231, kl loss: 41.467, clf loss: 1.737, time: 2.73\n",
      "2022-01-13 09:02:59,284 epoch: 10, train loss: 1.732, val loss: 1.887, zinb loss: 0.230, kl loss: 40.076, clf loss: 1.732, time: 2.73\n",
      "2022-01-13 09:03:03,251 epoch: 11, train loss: 1.726, val loss: 1.884, zinb loss: 0.230, kl loss: 37.247, clf loss: 1.731, time: 2.74\n",
      "2022-01-13 09:03:07,256 epoch: 12, train loss: 1.723, val loss: 1.879, zinb loss: 0.230, kl loss: 35.885, clf loss: 1.728, time: 2.74\n",
      "2022-01-13 09:03:11,235 epoch: 13, train loss: 1.720, val loss: 1.879, zinb loss: 0.230, kl loss: 34.666, clf loss: 1.729, time: 2.73\n",
      "2022-01-13 09:03:15,223 epoch: 14, train loss: 1.717, val loss: 1.878, zinb loss: 0.230, kl loss: 33.591, clf loss: 1.729, time: 2.73\n",
      "2022-01-13 09:03:19,161 epoch: 15, train loss: 1.716, val loss: 1.876, zinb loss: 0.230, kl loss: 32.928, clf loss: 1.729, time: 2.75\n",
      "2022-01-13 09:03:23,148 epoch: 16, train loss: 1.715, val loss: 1.875, zinb loss: 0.230, kl loss: 32.848, clf loss: 1.728, time: 2.77\n",
      "2022-01-13 09:03:27,148 epoch: 17, train loss: 1.714, val loss: 1.875, zinb loss: 0.229, kl loss: 32.444, clf loss: 1.728, time: 2.77\n",
      "2022-01-13 09:03:31,138 epoch: 18, train loss: 1.714, val loss: 1.877, zinb loss: 0.230, kl loss: 32.306, clf loss: 1.729, time: 2.76\n",
      "2022-01-13 09:03:35,100 epoch: 19, train loss: 1.714, val loss: 1.876, zinb loss: 0.230, kl loss: 32.303, clf loss: 1.729, time: 2.73\n",
      "2022-01-13 09:03:35,101 model fitting finished\n",
      "2022-01-13 09:03:35,101 saving model to /data/pollock/benchmarking/modules/scRNAseq_hnscc\n",
      "2022-01-13 09:03:35,500 beginning training\n",
      "2022-01-13 09:03:35,501 creating dataloaders\n"
     ]
    },
    {
     "name": "stdout",
     "output_type": "stream",
     "text": [
      "scRNAseq pdac\n"
     ]
    },
    {
     "name": "stderr",
     "output_type": "stream",
     "text": [
      "2022-01-13 09:03:37,638 23831 genes overlap with model after filtering\n",
      "2022-01-13 09:03:37,639 1188 genes missing from dataset after filtering\n",
      "2022-01-13 09:03:40,725 creating model\n",
      "2022-01-13 09:03:41,080 training dataset size: 7940, validation dataset size: 7823, cell types: ['Acinar', 'B cell', 'CD4 T cell', 'CD8 T cell', 'Dendritic', 'Endothelial', 'Epithelial', 'Erythrocyte', 'Fibroblast', 'Islet', 'Malignant', 'Mast', 'Monocyte', 'NK', 'Plasma', 'Treg', 'Tuft']\n",
      "2022-01-13 09:03:41,083 fitting model\n",
      "2022-01-13 09:03:47,241 epoch: 0, train loss: 3.062, val loss: 3.056, zinb loss: 0.449, kl loss: 0.730, clf loss: 2.831, time: 4.33\n",
      "2022-01-13 09:03:53,351 epoch: 1, train loss: 3.039, val loss: 3.000, zinb loss: 0.361, kl loss: 9.095, clf loss: 2.811, time: 4.28\n",
      "2022-01-13 09:03:59,445 epoch: 2, train loss: 2.866, val loss: 2.699, zinb loss: 0.231, kl loss: 105.157, clf loss: 2.479, time: 4.29\n",
      "2022-01-13 09:04:05,533 epoch: 3, train loss: 2.548, val loss: 2.469, zinb loss: 0.218, kl loss: 111.090, clf loss: 2.249, time: 4.27\n",
      "2022-01-13 09:04:11,635 epoch: 4, train loss: 2.357, val loss: 2.387, zinb loss: 0.213, kl loss: 88.426, clf loss: 2.192, time: 4.29\n",
      "2022-01-13 09:04:17,749 epoch: 5, train loss: 2.247, val loss: 2.349, zinb loss: 0.211, kl loss: 67.652, clf loss: 2.175, time: 4.29\n",
      "2022-01-13 09:04:23,866 epoch: 6, train loss: 2.201, val loss: 2.333, zinb loss: 0.211, kl loss: 54.770, clf loss: 2.173, time: 4.29\n",
      "2022-01-13 09:04:29,945 epoch: 7, train loss: 2.180, val loss: 2.321, zinb loss: 0.209, kl loss: 51.350, clf loss: 2.165, time: 4.26\n",
      "2022-01-13 09:04:36,057 epoch: 8, train loss: 2.148, val loss: 2.304, zinb loss: 0.209, kl loss: 46.972, clf loss: 2.152, time: 4.28\n",
      "2022-01-13 09:04:42,191 epoch: 9, train loss: 2.129, val loss: 2.292, zinb loss: 0.209, kl loss: 43.848, clf loss: 2.144, time: 4.30\n",
      "2022-01-13 09:04:48,354 epoch: 10, train loss: 2.121, val loss: 2.290, zinb loss: 0.209, kl loss: 39.171, clf loss: 2.146, time: 4.34\n",
      "2022-01-13 09:04:54,480 epoch: 11, train loss: 2.115, val loss: 2.283, zinb loss: 0.209, kl loss: 37.616, clf loss: 2.141, time: 4.30\n",
      "2022-01-13 09:05:00,577 epoch: 12, train loss: 2.109, val loss: 2.282, zinb loss: 0.208, kl loss: 37.300, clf loss: 2.140, time: 4.26\n",
      "2022-01-13 09:05:06,682 epoch: 13, train loss: 2.101, val loss: 2.278, zinb loss: 0.208, kl loss: 35.560, clf loss: 2.139, time: 4.28\n",
      "2022-01-13 09:05:12,806 epoch: 14, train loss: 2.096, val loss: 2.275, zinb loss: 0.208, kl loss: 35.190, clf loss: 2.136, time: 4.30\n",
      "2022-01-13 09:05:18,940 epoch: 15, train loss: 2.093, val loss: 2.275, zinb loss: 0.208, kl loss: 33.296, clf loss: 2.138, time: 4.29\n",
      "2022-01-13 09:05:25,065 epoch: 16, train loss: 2.092, val loss: 2.276, zinb loss: 0.208, kl loss: 33.050, clf loss: 2.139, time: 4.29\n",
      "2022-01-13 09:05:31,178 epoch: 17, train loss: 2.091, val loss: 2.273, zinb loss: 0.208, kl loss: 32.808, clf loss: 2.136, time: 4.29\n",
      "2022-01-13 09:05:37,292 epoch: 18, train loss: 2.091, val loss: 2.273, zinb loss: 0.208, kl loss: 32.615, clf loss: 2.136, time: 4.29\n",
      "2022-01-13 09:05:43,402 epoch: 19, train loss: 2.090, val loss: 2.274, zinb loss: 0.208, kl loss: 32.428, clf loss: 2.138, time: 4.28\n",
      "2022-01-13 09:05:43,403 model fitting finished\n",
      "2022-01-13 09:05:43,404 saving model to /data/pollock/benchmarking/modules/scRNAseq_pdac\n",
      "2022-01-13 09:05:43,748 beginning training\n",
      "2022-01-13 09:05:43,749 creating dataloaders\n"
     ]
    },
    {
     "name": "stdout",
     "output_type": "stream",
     "text": [
      "scRNAseq melanoma\n"
     ]
    },
    {
     "name": "stderr",
     "output_type": "stream",
     "text": [
      "2022-01-13 09:05:44,611 19219 genes overlap with model after filtering\n",
      "2022-01-13 09:05:44,612 1385 genes missing from dataset after filtering\n",
      "2022-01-13 09:05:45,630 creating model\n",
      "2022-01-13 09:05:45,925 training dataset size: 4218, validation dataset size: 3517, cell types: ['B cell', 'CD4 T cell', 'CD8 T cell', 'Dendritic', 'Fibroblast', 'Malignant', 'Monocyte', 'NK', 'Plasma', 'Treg']\n",
      "2022-01-13 09:05:45,926 fitting model\n",
      "2022-01-13 09:05:48,870 epoch: 0, train loss: 2.522, val loss: 2.519, zinb loss: 0.432, kl loss: 0.608, clf loss: 2.302, time: 2.06\n",
      "2022-01-13 09:05:51,806 epoch: 1, train loss: 2.508, val loss: 2.488, zinb loss: 0.404, kl loss: 2.807, clf loss: 2.283, time: 2.06\n",
      "2022-01-13 09:05:54,739 epoch: 2, train loss: 2.397, val loss: 2.254, zinb loss: 0.264, kl loss: 52.587, clf loss: 2.069, time: 2.05\n",
      "2022-01-13 09:05:57,678 epoch: 3, train loss: 2.126, val loss: 2.013, zinb loss: 0.199, kl loss: 90.237, clf loss: 1.823, time: 2.06\n",
      "2022-01-13 09:06:00,619 epoch: 4, train loss: 1.865, val loss: 1.838, zinb loss: 0.192, kl loss: 85.779, clf loss: 1.656, time: 2.06\n",
      "2022-01-13 09:06:03,555 epoch: 5, train loss: 1.735, val loss: 1.789, zinb loss: 0.189, kl loss: 67.955, clf loss: 1.626, time: 2.06\n",
      "2022-01-13 09:06:06,490 epoch: 6, train loss: 1.682, val loss: 1.769, zinb loss: 0.188, kl loss: 55.641, clf loss: 1.620, time: 2.06\n",
      "2022-01-13 09:06:09,425 epoch: 7, train loss: 1.660, val loss: 1.754, zinb loss: 0.187, kl loss: 49.736, clf loss: 1.611, time: 2.06\n",
      "2022-01-13 09:06:12,365 epoch: 8, train loss: 1.647, val loss: 1.744, zinb loss: 0.186, kl loss: 44.734, clf loss: 1.606, time: 2.06\n",
      "2022-01-13 09:06:15,309 epoch: 9, train loss: 1.637, val loss: 1.737, zinb loss: 0.186, kl loss: 41.220, clf loss: 1.603, time: 2.07\n",
      "2022-01-13 09:06:18,252 epoch: 10, train loss: 1.630, val loss: 1.729, zinb loss: 0.186, kl loss: 38.518, clf loss: 1.598, time: 2.06\n",
      "2022-01-13 09:06:21,188 epoch: 11, train loss: 1.625, val loss: 1.726, zinb loss: 0.185, kl loss: 36.926, clf loss: 1.596, time: 2.06\n",
      "2022-01-13 09:06:24,128 epoch: 12, train loss: 1.621, val loss: 1.723, zinb loss: 0.185, kl loss: 35.464, clf loss: 1.595, time: 2.06\n",
      "2022-01-13 09:06:27,074 epoch: 13, train loss: 1.618, val loss: 1.717, zinb loss: 0.185, kl loss: 34.937, clf loss: 1.590, time: 2.07\n",
      "2022-01-13 09:06:30,013 epoch: 14, train loss: 1.616, val loss: 1.719, zinb loss: 0.185, kl loss: 33.400, clf loss: 1.593, time: 2.06\n",
      "2022-01-13 09:06:32,957 epoch: 15, train loss: 1.614, val loss: 1.717, zinb loss: 0.185, kl loss: 33.073, clf loss: 1.591, time: 2.07\n",
      "2022-01-13 09:06:35,899 epoch: 16, train loss: 1.613, val loss: 1.717, zinb loss: 0.185, kl loss: 32.279, clf loss: 1.592, time: 2.06\n",
      "2022-01-13 09:06:38,958 epoch: 17, train loss: 1.613, val loss: 1.714, zinb loss: 0.185, kl loss: 32.399, clf loss: 1.589, time: 2.15\n",
      "2022-01-13 09:06:42,004 epoch: 18, train loss: 1.612, val loss: 1.713, zinb loss: 0.185, kl loss: 32.297, clf loss: 1.589, time: 2.13\n",
      "2022-01-13 09:06:45,040 epoch: 19, train loss: 1.612, val loss: 1.715, zinb loss: 0.184, kl loss: 32.260, clf loss: 1.590, time: 2.12\n",
      "2022-01-13 09:06:45,041 model fitting finished\n",
      "2022-01-13 09:06:45,042 saving model to /data/pollock/benchmarking/modules/scRNAseq_melanoma\n"
     ]
    }
   ],
   "source": [
    "# original single train/val datasets\n",
    "for dtype, d1 in fmap.items():\n",
    "    for disease, d2 in d1.items():\n",
    "#         if dtype == 'scRNAseq':\n",
    "        print(dtype, disease)\n",
    "        train = sc.read_h5ad(d2['train'])\n",
    "        val = sc.read_h5ad(d2['val'])\n",
    "        args['module_filepath'] = os.path.join(module_dir, f'{dtype}_{disease}')\n",
    "        utils.train_and_save_model(train, val, args)"
   ]
  },
  {
   "cell_type": "code",
   "execution_count": 84,
   "id": "dc463b4f",
   "metadata": {
    "scrolled": true
   },
   "outputs": [
    {
     "name": "stderr",
     "output_type": "stream",
     "text": [
      "2022-01-13 12:26:24,370 beginning training\n",
      "2022-01-13 12:26:24,371 creating dataloaders\n",
      "2022-01-13 12:26:26,886 22507 genes overlap with model after filtering\n",
      "2022-01-13 12:26:26,887 1442 genes missing from dataset after filtering\n",
      "2022-01-13 12:26:29,271 creating model\n",
      "2022-01-13 12:26:29,632 training dataset size: 7866, validation dataset size: 6303, cell types: ['B cell', 'CD4 T cell', 'CD4 T cell - activated', 'CD4 T cell - exhausted', 'CD8 T cell - CTL', 'CD8 T cell - exhausted', 'CD8 T cell - preexhausted', 'CD8 T cell - proliferating', 'Mast', 'Monocyte/Macrophage', 'NK', 'NKT', 'Plasma', 'Treg', 'cDC1', 'cDC2', 'pDC']\n",
      "2022-01-13 12:26:29,633 fitting model\n",
      "2022-01-13 12:26:35,498 epoch: 0, train loss: 3.069, val loss: 3.061, zinb loss: 0.457, kl loss: 0.610, clf loss: 2.832, time: 4.28\n",
      "2022-01-13 12:26:41,382 epoch: 1, train loss: 3.050, val loss: 3.018, zinb loss: 0.380, kl loss: 3.009, clf loss: 2.825, time: 4.30\n",
      "2022-01-13 12:26:47,245 epoch: 2, train loss: 2.930, val loss: 2.827, zinb loss: 0.238, kl loss: 50.959, clf loss: 2.657, time: 4.30\n",
      "2022-01-13 12:26:53,094 epoch: 3, train loss: 2.658, val loss: 2.595, zinb loss: 0.225, kl loss: 89.702, clf loss: 2.393, time: 4.28\n",
      "2022-01-13 12:26:58,930 epoch: 4, train loss: 2.379, val loss: 2.446, zinb loss: 0.220, kl loss: 79.845, clf loss: 2.256, time: 4.28\n",
      "2022-01-13 12:27:04,783 epoch: 5, train loss: 2.232, val loss: 2.412, zinb loss: 0.218, kl loss: 62.716, clf loss: 2.240, time: 4.29\n",
      "2022-01-13 12:27:10,627 epoch: 6, train loss: 2.164, val loss: 2.399, zinb loss: 0.219, kl loss: 48.948, clf loss: 2.241, time: 4.28\n",
      "2022-01-13 12:27:16,374 epoch: 7, train loss: 2.138, val loss: 2.386, zinb loss: 0.219, kl loss: 42.460, clf loss: 2.235, time: 4.31\n",
      "2022-01-13 12:27:22,099 epoch: 8, train loss: 2.125, val loss: 2.374, zinb loss: 0.218, kl loss: 38.066, clf loss: 2.227, time: 4.23\n",
      "2022-01-13 12:27:27,897 epoch: 9, train loss: 2.116, val loss: 2.372, zinb loss: 0.217, kl loss: 34.625, clf loss: 2.229, time: 4.23\n",
      "2022-01-13 12:27:33,584 epoch: 10, train loss: 2.109, val loss: 2.363, zinb loss: 0.216, kl loss: 32.944, clf loss: 2.222, time: 4.21\n",
      "2022-01-13 12:27:39,328 epoch: 11, train loss: 2.105, val loss: 2.360, zinb loss: 0.217, kl loss: 30.404, clf loss: 2.221, time: 4.27\n",
      "2022-01-13 12:27:45,073 epoch: 12, train loss: 2.101, val loss: 2.360, zinb loss: 0.217, kl loss: 29.245, clf loss: 2.223, time: 4.26\n",
      "2022-01-13 12:27:50,787 epoch: 13, train loss: 2.098, val loss: 2.358, zinb loss: 0.217, kl loss: 28.324, clf loss: 2.221, time: 4.22\n",
      "2022-01-13 12:27:56,479 epoch: 14, train loss: 2.096, val loss: 2.354, zinb loss: 0.216, kl loss: 27.414, clf loss: 2.218, time: 4.21\n",
      "2022-01-13 12:28:02,183 epoch: 15, train loss: 2.094, val loss: 2.354, zinb loss: 0.216, kl loss: 27.019, clf loss: 2.219, time: 4.21\n",
      "2022-01-13 12:28:07,896 epoch: 16, train loss: 2.093, val loss: 2.356, zinb loss: 0.216, kl loss: 26.235, clf loss: 2.222, time: 4.22\n",
      "2022-01-13 12:28:13,608 epoch: 17, train loss: 2.092, val loss: 2.355, zinb loss: 0.216, kl loss: 26.371, clf loss: 2.220, time: 4.22\n",
      "2022-01-13 12:28:19,305 epoch: 18, train loss: 2.092, val loss: 2.355, zinb loss: 0.216, kl loss: 26.195, clf loss: 2.221, time: 4.21\n",
      "2022-01-13 12:28:25,014 epoch: 19, train loss: 2.092, val loss: 2.354, zinb loss: 0.216, kl loss: 26.223, clf loss: 2.220, time: 4.22\n",
      "2022-01-13 12:28:25,015 model fitting finished\n",
      "2022-01-13 12:28:25,016 saving model to /data/pollock/panimmune/brca_panimmune\n"
     ]
    }
   ],
   "source": [
    "train = sc.read_h5ad('/data/pollock/panimmune/data/brca-panimmune_train.h5ad')\n",
    "val = sc.read_h5ad('/data/pollock/panimmune/data/brca-panimmune_val.h5ad')\n",
    "args['module_filepath'] = os.path.join('/data/pollock/panimmune/brca_panimmune')\n",
    "utils.train_and_save_model(train, val, args)"
   ]
  },
  {
   "cell_type": "markdown",
   "id": "40e6b79b",
   "metadata": {},
   "source": [
    "generalized"
   ]
  },
  {
   "cell_type": "code",
   "execution_count": 20,
   "id": "e31f4fa7",
   "metadata": {
    "scrolled": true
   },
   "outputs": [
    {
     "name": "stdout",
     "output_type": "stream",
     "text": [
      "snRNAseq\n"
     ]
    },
    {
     "name": "stderr",
     "output_type": "stream",
     "text": [
      "2022-01-19 09:40:01,375 beginning training\n",
      "2022-01-19 09:40:01,376 creating dataloaders\n",
      "2022-01-19 09:40:05,713 27237 genes overlap with model after filtering\n",
      "2022-01-19 09:40:05,714 513 genes missing from dataset after filtering\n",
      "2022-01-19 09:40:11,085 creating model\n",
      "2022-01-19 09:40:11,498 training dataset size: 12728, validation dataset size: 11988, cell types: ['Adipocyte', 'B cell', 'CD4 T cell', 'CD8 T cell', 'Dendritic', 'Endothelial', 'Fibroblast', 'Malignant', 'Mast', 'Microglia', 'Monocyte', 'NK', 'Neuron', 'Oligodendrocytes', 'Plasma', 'Treg']\n",
      "2022-01-19 09:40:11,499 fitting model\n",
      "2022-01-19 09:40:22,249 epoch: 0, train loss: 2.986, val loss: 2.979, zinb loss: 0.417, kl loss: 0.975, clf loss: 2.769, time: 7.85\n",
      "2022-01-19 09:40:31,847 epoch: 1, train loss: 2.923, val loss: 2.777, zinb loss: 0.264, kl loss: 70.818, clf loss: 2.574, time: 6.88\n",
      "2022-01-19 09:40:41,456 epoch: 2, train loss: 2.636, val loss: 2.488, zinb loss: 0.244, kl loss: 120.319, clf loss: 2.246, time: 6.90\n",
      "2022-01-19 09:40:51,045 epoch: 3, train loss: 2.344, val loss: 2.314, zinb loss: 0.236, kl loss: 96.065, clf loss: 2.100, time: 6.87\n",
      "2022-01-19 09:41:00,627 epoch: 4, train loss: 2.183, val loss: 2.233, zinb loss: 0.233, kl loss: 73.229, clf loss: 2.043, time: 6.87\n",
      "2022-01-19 09:41:11,238 epoch: 5, train loss: 2.107, val loss: 2.210, zinb loss: 0.233, kl loss: 55.995, clf loss: 2.038, time: 7.62\n",
      "2022-01-19 09:41:20,922 epoch: 6, train loss: 2.076, val loss: 2.192, zinb loss: 0.232, kl loss: 45.362, clf loss: 2.031, time: 6.88\n",
      "2022-01-19 09:41:31,513 epoch: 7, train loss: 2.061, val loss: 2.179, zinb loss: 0.232, kl loss: 40.280, clf loss: 2.023, time: 7.67\n",
      "2022-01-19 09:41:41,368 epoch: 8, train loss: 2.051, val loss: 2.175, zinb loss: 0.232, kl loss: 35.035, clf loss: 2.024, time: 7.15\n",
      "2022-01-19 09:41:51,678 epoch: 9, train loss: 2.045, val loss: 2.170, zinb loss: 0.231, kl loss: 32.208, clf loss: 2.022, time: 7.42\n",
      "2022-01-19 09:42:01,142 epoch: 10, train loss: 2.040, val loss: 2.164, zinb loss: 0.231, kl loss: 30.770, clf loss: 2.017, time: 6.78\n",
      "2022-01-19 09:42:11,676 epoch: 11, train loss: 2.036, val loss: 2.160, zinb loss: 0.231, kl loss: 28.325, clf loss: 2.016, time: 7.62\n",
      "2022-01-19 09:42:21,292 epoch: 12, train loss: 2.033, val loss: 2.158, zinb loss: 0.231, kl loss: 27.549, clf loss: 2.015, time: 6.81\n",
      "2022-01-19 09:42:30,937 epoch: 13, train loss: 2.031, val loss: 2.157, zinb loss: 0.231, kl loss: 26.083, clf loss: 2.016, time: 6.87\n",
      "2022-01-19 09:42:40,835 epoch: 14, train loss: 2.030, val loss: 2.156, zinb loss: 0.231, kl loss: 25.057, clf loss: 2.016, time: 7.18\n",
      "2022-01-19 09:42:51,706 epoch: 15, train loss: 2.028, val loss: 2.156, zinb loss: 0.231, kl loss: 24.753, clf loss: 2.016, time: 7.99\n",
      "2022-01-19 09:43:01,040 epoch: 16, train loss: 2.027, val loss: 2.153, zinb loss: 0.231, kl loss: 24.598, clf loss: 2.013, time: 6.66\n",
      "2022-01-19 09:43:10,679 epoch: 17, train loss: 2.027, val loss: 2.152, zinb loss: 0.231, kl loss: 24.285, clf loss: 2.012, time: 6.77\n",
      "2022-01-19 09:43:20,328 epoch: 18, train loss: 2.026, val loss: 2.154, zinb loss: 0.231, kl loss: 23.963, clf loss: 2.014, time: 6.73\n",
      "2022-01-19 09:43:29,802 epoch: 19, train loss: 2.026, val loss: 2.154, zinb loss: 0.231, kl loss: 24.028, clf loss: 2.015, time: 6.72\n",
      "2022-01-19 09:43:29,803 model fitting finished\n",
      "2022-01-19 09:43:29,804 saving model to /data/pollock/benchmarking/modules/snRNAseq_generalized\n"
     ]
    },
    {
     "name": "stdout",
     "output_type": "stream",
     "text": [
      "snATACseq\n"
     ]
    },
    {
     "name": "stderr",
     "output_type": "stream",
     "text": [
      "Observation names are not unique. To make them unique, call `.obs_names_make_unique`.\n",
      "Observation names are not unique. To make them unique, call `.obs_names_make_unique`.\n",
      "Observation names are not unique. To make them unique, call `.obs_names_make_unique`.\n",
      "Observation names are not unique. To make them unique, call `.obs_names_make_unique`.\n",
      "Observation names are not unique. To make them unique, call `.obs_names_make_unique`.\n",
      "Observation names are not unique. To make them unique, call `.obs_names_make_unique`.\n",
      "2022-01-19 09:43:32,571 beginning training\n",
      "2022-01-19 09:43:32,571 creating dataloaders\n",
      "2022-01-19 09:43:36,429 19750 genes overlap with model after filtering\n",
      "2022-01-19 09:43:36,430 12 genes missing from dataset after filtering\n",
      "2022-01-19 09:43:42,797 creating model\n",
      "2022-01-19 09:43:43,085 training dataset size: 9465, validation dataset size: 8895, cell types: ['B cell', 'Dendritic', 'Endothelial', 'Fibroblast', 'Malignant', 'Mast', 'Microglia', 'Monocyte', 'Neuron', 'Oligodendrocytes', 'T cells']\n",
      "2022-01-19 09:43:43,086 fitting model\n",
      "2022-01-19 09:43:50,011 epoch: 0, train loss: 2.784, val loss: 2.777, zinb loss: 0.763, kl loss: 0.646, clf loss: 2.395, time: 4.92\n",
      "2022-01-19 09:43:56,958 epoch: 1, train loss: 2.761, val loss: 2.713, zinb loss: 0.694, kl loss: 8.307, clf loss: 2.357, time: 4.94\n",
      "2022-01-19 09:44:03,870 epoch: 2, train loss: 2.492, val loss: 2.355, zinb loss: 0.636, kl loss: 73.376, clf loss: 1.964, time: 4.91\n",
      "2022-01-19 09:44:10,769 epoch: 3, train loss: 2.225, val loss: 2.158, zinb loss: 0.627, kl loss: 85.716, clf loss: 1.759, time: 4.89\n",
      "2022-01-19 09:44:17,677 epoch: 4, train loss: 2.054, val loss: 2.108, zinb loss: 0.625, kl loss: 58.546, clf loss: 1.737, time: 4.91\n",
      "2022-01-19 09:44:24,588 epoch: 5, train loss: 2.000, val loss: 2.088, zinb loss: 0.623, kl loss: 45.302, clf loss: 1.731, time: 4.91\n",
      "2022-01-19 09:44:31,497 epoch: 6, train loss: 1.959, val loss: 2.054, zinb loss: 0.622, kl loss: 43.012, clf loss: 1.700, time: 4.91\n",
      "2022-01-19 09:44:38,403 epoch: 7, train loss: 1.929, val loss: 2.047, zinb loss: 0.622, kl loss: 35.157, clf loss: 1.701, time: 4.90\n",
      "2022-01-19 09:44:45,284 epoch: 8, train loss: 1.919, val loss: 2.040, zinb loss: 0.622, kl loss: 30.788, clf loss: 1.698, time: 4.89\n",
      "2022-01-19 09:44:52,202 epoch: 9, train loss: 1.912, val loss: 2.033, zinb loss: 0.621, kl loss: 28.376, clf loss: 1.694, time: 4.92\n",
      "2022-01-19 09:44:59,171 epoch: 10, train loss: 1.908, val loss: 2.032, zinb loss: 0.621, kl loss: 26.460, clf loss: 1.695, time: 4.92\n",
      "2022-01-19 09:45:06,149 epoch: 11, train loss: 1.904, val loss: 2.030, zinb loss: 0.621, kl loss: 25.184, clf loss: 1.694, time: 4.94\n",
      "2022-01-19 09:45:13,174 epoch: 12, train loss: 1.902, val loss: 2.027, zinb loss: 0.621, kl loss: 24.171, clf loss: 1.692, time: 5.04\n",
      "2022-01-19 09:45:20,079 epoch: 13, train loss: 1.900, val loss: 2.025, zinb loss: 0.621, kl loss: 23.061, clf loss: 1.692, time: 4.90\n",
      "2022-01-19 09:45:26,966 epoch: 14, train loss: 1.898, val loss: 2.025, zinb loss: 0.621, kl loss: 22.146, clf loss: 1.692, time: 4.89\n",
      "2022-01-19 09:45:33,869 epoch: 15, train loss: 1.896, val loss: 2.024, zinb loss: 0.620, kl loss: 21.874, clf loss: 1.692, time: 4.91\n",
      "2022-01-19 09:45:40,785 epoch: 16, train loss: 1.894, val loss: 2.023, zinb loss: 0.620, kl loss: 21.615, clf loss: 1.692, time: 4.92\n",
      "2022-01-19 09:45:47,689 epoch: 17, train loss: 1.893, val loss: 2.022, zinb loss: 0.620, kl loss: 21.439, clf loss: 1.690, time: 4.90\n",
      "2022-01-19 09:45:54,572 epoch: 18, train loss: 1.892, val loss: 2.024, zinb loss: 0.620, kl loss: 21.501, clf loss: 1.693, time: 4.88\n",
      "2022-01-19 09:46:01,466 epoch: 19, train loss: 1.892, val loss: 2.023, zinb loss: 0.620, kl loss: 21.501, clf loss: 1.692, time: 4.89\n",
      "2022-01-19 09:46:01,467 model fitting finished\n",
      "2022-01-19 09:46:01,468 saving model to /data/pollock/benchmarking/modules/snATACseq_generalized\n"
     ]
    },
    {
     "name": "stdout",
     "output_type": "stream",
     "text": [
      "scRNAseq\n"
     ]
    },
    {
     "name": "stderr",
     "output_type": "stream",
     "text": [
      "Observation names are not unique. To make them unique, call `.obs_names_make_unique`.\n",
      "Observation names are not unique. To make them unique, call `.obs_names_make_unique`.\n",
      "Observation names are not unique. To make them unique, call `.obs_names_make_unique`.\n",
      "Observation names are not unique. To make them unique, call `.obs_names_make_unique`.\n",
      "Observation names are not unique. To make them unique, call `.obs_names_make_unique`.\n",
      "Observation names are not unique. To make them unique, call `.obs_names_make_unique`.\n",
      "Observation names are not unique. To make them unique, call `.obs_names_make_unique`.\n",
      "Observation names are not unique. To make them unique, call `.obs_names_make_unique`.\n",
      "Observation names are not unique. To make them unique, call `.obs_names_make_unique`.\n",
      "Observation names are not unique. To make them unique, call `.obs_names_make_unique`.\n",
      "2022-01-19 09:46:07,039 beginning training\n",
      "2022-01-19 09:46:07,040 creating dataloaders\n",
      "2022-01-19 09:46:13,707 17536 genes overlap with model after filtering\n",
      "2022-01-19 09:46:13,708 2 genes missing from dataset after filtering\n",
      "2022-01-19 09:46:22,568 creating model\n",
      "2022-01-19 09:46:22,822 training dataset size: 30828, validation dataset size: 28877, cell types: ['Acinar', 'B cell', 'CD4 T cell', 'CD8 T cell', 'Dendritic', 'Endothelial', 'Erythrocyte', 'Fibroblast', 'Islet', 'Malignant', 'Mast', 'Monocyte', 'NK', 'Plasma', 'Platlete', 'Treg', 'Tuft']\n",
      "2022-01-19 09:46:22,823 fitting model\n",
      "2022-01-19 09:46:43,218 epoch: 0, train loss: 3.074, val loss: 3.039, zinb loss: 0.426, kl loss: 5.648, clf loss: 2.820, time: 15.06\n",
      "2022-01-19 09:47:03,761 epoch: 1, train loss: 2.853, val loss: 2.675, zinb loss: 0.287, kl loss: 86.602, clf loss: 2.445, time: 15.08\n",
      "2022-01-19 09:47:24,353 epoch: 2, train loss: 2.487, val loss: 2.414, zinb loss: 0.276, kl loss: 85.044, clf loss: 2.191, time: 15.14\n",
      "2022-01-19 09:47:44,708 epoch: 3, train loss: 2.304, val loss: 2.309, zinb loss: 0.272, kl loss: 67.435, clf loss: 2.105, time: 15.03\n",
      "2022-01-19 09:48:05,260 epoch: 4, train loss: 2.202, val loss: 2.278, zinb loss: 0.271, kl loss: 48.937, clf loss: 2.094, time: 15.24\n",
      "2022-01-19 09:48:25,780 epoch: 5, train loss: 2.159, val loss: 2.263, zinb loss: 0.270, kl loss: 38.729, clf loss: 2.090, time: 15.24\n",
      "2022-01-19 09:48:46,262 epoch: 6, train loss: 2.135, val loss: 2.255, zinb loss: 0.269, kl loss: 31.415, clf loss: 2.089, time: 15.18\n",
      "2022-01-19 09:49:06,529 epoch: 7, train loss: 2.123, val loss: 2.251, zinb loss: 0.268, kl loss: 28.509, clf loss: 2.089, time: 14.96\n",
      "2022-01-19 09:49:26,815 epoch: 8, train loss: 2.114, val loss: 2.250, zinb loss: 0.267, kl loss: 24.558, clf loss: 2.092, time: 14.98\n",
      "2022-01-19 09:49:47,083 epoch: 9, train loss: 2.109, val loss: 2.243, zinb loss: 0.266, kl loss: 22.936, clf loss: 2.087, time: 14.96\n",
      "2022-01-19 09:50:07,413 epoch: 10, train loss: 2.104, val loss: 2.244, zinb loss: 0.266, kl loss: 21.754, clf loss: 2.090, time: 15.05\n",
      "2022-01-19 09:50:28,399 epoch: 11, train loss: 2.100, val loss: 2.238, zinb loss: 0.265, kl loss: 21.214, clf loss: 2.085, time: 15.39\n",
      "2022-01-19 09:50:49,311 epoch: 12, train loss: 2.098, val loss: 2.239, zinb loss: 0.265, kl loss: 19.997, clf loss: 2.087, time: 15.35\n",
      "2022-01-19 09:51:10,060 epoch: 13, train loss: 2.096, val loss: 2.239, zinb loss: 0.265, kl loss: 19.005, clf loss: 2.087, time: 15.46\n",
      "2022-01-19 09:51:30,659 epoch: 14, train loss: 2.094, val loss: 2.239, zinb loss: 0.265, kl loss: 18.161, clf loss: 2.088, time: 15.02\n",
      "2022-01-19 09:51:51,286 epoch: 15, train loss: 2.093, val loss: 2.236, zinb loss: 0.264, kl loss: 18.267, clf loss: 2.085, time: 15.35\n",
      "2022-01-19 09:52:12,186 epoch: 16, train loss: 2.092, val loss: 2.235, zinb loss: 0.264, kl loss: 17.797, clf loss: 2.085, time: 15.31\n",
      "2022-01-19 09:52:33,341 epoch: 17, train loss: 2.092, val loss: 2.235, zinb loss: 0.264, kl loss: 17.840, clf loss: 2.086, time: 15.58\n",
      "2022-01-19 09:52:54,160 epoch: 18, train loss: 2.091, val loss: 2.235, zinb loss: 0.264, kl loss: 17.741, clf loss: 2.085, time: 15.51\n",
      "2022-01-19 09:53:14,822 epoch: 19, train loss: 2.091, val loss: 2.236, zinb loss: 0.264, kl loss: 17.714, clf loss: 2.087, time: 15.17\n",
      "2022-01-19 09:53:14,823 model fitting finished\n",
      "2022-01-19 09:53:14,824 saving model to /data/pollock/benchmarking/modules/scRNAseq_generalized\n"
     ]
    }
   ],
   "source": [
    "# cell_types = ['B cell', 'CD4 T cell', 'CD8 T cell', 'Dendritic', 'Endothelial', 'Erythrocyte', 'Fibroblast',\n",
    "#               'Malignant', 'Mast', 'Monocyte', 'NK', 'Plasma', 'Treg']\n",
    "exclude = ['Epithelial']\n",
    "for dtype, d1 in fmap.items():\n",
    "    print(dtype)\n",
    "    # combine train and val across diseases\n",
    "    train, val = None, None\n",
    "    for disease, d2 in d1.items():\n",
    "        t, v = sc.read_h5ad(d2['train']), sc.read_h5ad(d2['val'])\n",
    "        t.obs['disease'], v.obs['disease'] = disease, disease\n",
    "        if train is None:\n",
    "            train, val, = t, v\n",
    "        else:\n",
    "            train = anndata.concat((train, t), axis=0)\n",
    "            val = anndata.concat((val, v), axis=0)\n",
    "    \n",
    "    # conflicting annotation with snRNA t cells\n",
    "    if dtype == 'snRNAseq':\n",
    "        train = train[train.obs['cell_type']!='T cells']\n",
    "        val = val[val.obs['cell_type']!='T cells']\n",
    "    \n",
    "    train = train[[False if c in exclude else True for c in train.obs['cell_type']]]\n",
    "    val = val[[False if c in exclude else True for c in val.obs['cell_type']]]\n",
    "    train.obs_names_make_unique()\n",
    "    val.obs_names_make_unique()\n",
    "    \n",
    "    args['module_filepath'] = os.path.join(module_dir, f'{dtype}_generalized')\n",
    "    utils.train_and_save_model(train, val, args)\n"
   ]
  },
  {
   "cell_type": "markdown",
   "id": "d948f5e4",
   "metadata": {},
   "source": [
    "###### predict validation set"
   ]
  },
  {
   "cell_type": "code",
   "execution_count": 12,
   "id": "660b98e1",
   "metadata": {},
   "outputs": [],
   "source": [
    "result_dir = '/data/pollock/benchmarking/results/pollock/'"
   ]
  },
  {
   "cell_type": "markdown",
   "id": "1a71e6ce",
   "metadata": {},
   "source": [
    "inter-dataset with folds"
   ]
  },
  {
   "cell_type": "code",
   "execution_count": 13,
   "id": "330b47a0",
   "metadata": {},
   "outputs": [
    {
     "name": "stdout",
     "output_type": "stream",
     "text": [
      "snRNAseq ccrcc fold3\n"
     ]
    },
    {
     "name": "stderr",
     "output_type": "stream",
     "text": [
      "2022-03-24 12:11:27,946 24602 genes overlap with model after filtering\n",
      "2022-03-24 12:11:27,947 1513 genes missing from dataset after filtering\n",
      "2022-03-24 12:11:30,152 starting prediction of 4255 cells\n",
      "/data/estorrs/miniconda3/envs/pollock_new/lib/python3.8/site-packages/anndata/_core/anndata.py:1228: FutureWarning: The `inplace` parameter in pandas.Categorical.reorder_categories is deprecated and will be removed in a future version. Reordering categories will always return a new Categorical object.\n",
      "  c.reorder_categories(natsorted(c.categories), inplace=True)\n",
      "... storing 'predicted_cell_type' as categorical\n"
     ]
    },
    {
     "name": "stdout",
     "output_type": "stream",
     "text": [
      "snRNAseq ccrcc fold1\n"
     ]
    },
    {
     "name": "stderr",
     "output_type": "stream",
     "text": [
      "2022-03-24 12:12:01,078 24613 genes overlap with model after filtering\n",
      "2022-03-24 12:12:01,079 1496 genes missing from dataset after filtering\n",
      "2022-03-24 12:12:02,867 starting prediction of 4255 cells\n",
      "/data/estorrs/miniconda3/envs/pollock_new/lib/python3.8/site-packages/anndata/_core/anndata.py:1228: FutureWarning: The `inplace` parameter in pandas.Categorical.reorder_categories is deprecated and will be removed in a future version. Reordering categories will always return a new Categorical object.\n",
      "  c.reorder_categories(natsorted(c.categories), inplace=True)\n",
      "... storing 'predicted_cell_type' as categorical\n"
     ]
    },
    {
     "name": "stdout",
     "output_type": "stream",
     "text": [
      "snRNAseq ccrcc fold2\n"
     ]
    },
    {
     "name": "stderr",
     "output_type": "stream",
     "text": [
      "2022-03-24 12:12:18,468 24633 genes overlap with model after filtering\n",
      "2022-03-24 12:12:18,469 1406 genes missing from dataset after filtering\n",
      "2022-03-24 12:12:20,301 starting prediction of 4255 cells\n",
      "/data/estorrs/miniconda3/envs/pollock_new/lib/python3.8/site-packages/anndata/_core/anndata.py:1228: FutureWarning: The `inplace` parameter in pandas.Categorical.reorder_categories is deprecated and will be removed in a future version. Reordering categories will always return a new Categorical object.\n",
      "  c.reorder_categories(natsorted(c.categories), inplace=True)\n",
      "... storing 'predicted_cell_type' as categorical\n"
     ]
    },
    {
     "name": "stdout",
     "output_type": "stream",
     "text": [
      "snRNAseq ccrcc fold0\n"
     ]
    },
    {
     "name": "stderr",
     "output_type": "stream",
     "text": [
      "2022-03-24 12:12:36,832 24598 genes overlap with model after filtering\n",
      "2022-03-24 12:12:36,833 1535 genes missing from dataset after filtering\n",
      "2022-03-24 12:12:38,752 starting prediction of 4255 cells\n",
      "/data/estorrs/miniconda3/envs/pollock_new/lib/python3.8/site-packages/anndata/_core/anndata.py:1228: FutureWarning: The `inplace` parameter in pandas.Categorical.reorder_categories is deprecated and will be removed in a future version. Reordering categories will always return a new Categorical object.\n",
      "  c.reorder_categories(natsorted(c.categories), inplace=True)\n",
      "... storing 'predicted_cell_type' as categorical\n"
     ]
    },
    {
     "name": "stdout",
     "output_type": "stream",
     "text": [
      "snRNAseq ccrcc fold4\n"
     ]
    },
    {
     "name": "stderr",
     "output_type": "stream",
     "text": [
      "2022-03-24 12:12:54,154 24626 genes overlap with model after filtering\n",
      "2022-03-24 12:12:54,155 1508 genes missing from dataset after filtering\n",
      "2022-03-24 12:12:56,277 starting prediction of 4255 cells\n",
      "/data/estorrs/miniconda3/envs/pollock_new/lib/python3.8/site-packages/anndata/_core/anndata.py:1228: FutureWarning: The `inplace` parameter in pandas.Categorical.reorder_categories is deprecated and will be removed in a future version. Reordering categories will always return a new Categorical object.\n",
      "  c.reorder_categories(natsorted(c.categories), inplace=True)\n",
      "... storing 'predicted_cell_type' as categorical\n"
     ]
    },
    {
     "name": "stdout",
     "output_type": "stream",
     "text": [
      "snRNAseq brca fold2\n"
     ]
    },
    {
     "name": "stderr",
     "output_type": "stream",
     "text": [
      "2022-03-24 12:13:12,449 25314 genes overlap with model after filtering\n",
      "2022-03-24 12:13:12,450 1192 genes missing from dataset after filtering\n",
      "2022-03-24 12:13:14,695 starting prediction of 4731 cells\n",
      "/data/estorrs/miniconda3/envs/pollock_new/lib/python3.8/site-packages/anndata/_core/anndata.py:1228: FutureWarning: The `inplace` parameter in pandas.Categorical.reorder_categories is deprecated and will be removed in a future version. Reordering categories will always return a new Categorical object.\n",
      "  c.reorder_categories(natsorted(c.categories), inplace=True)\n",
      "... storing 'predicted_cell_type' as categorical\n"
     ]
    },
    {
     "name": "stdout",
     "output_type": "stream",
     "text": [
      "snRNAseq brca fold1\n"
     ]
    },
    {
     "name": "stderr",
     "output_type": "stream",
     "text": [
      "2022-03-24 12:13:32,132 25304 genes overlap with model after filtering\n",
      "2022-03-24 12:13:32,133 1237 genes missing from dataset after filtering\n",
      "2022-03-24 12:13:34,349 starting prediction of 4731 cells\n",
      "/data/estorrs/miniconda3/envs/pollock_new/lib/python3.8/site-packages/anndata/_core/anndata.py:1228: FutureWarning: The `inplace` parameter in pandas.Categorical.reorder_categories is deprecated and will be removed in a future version. Reordering categories will always return a new Categorical object.\n",
      "  c.reorder_categories(natsorted(c.categories), inplace=True)\n",
      "... storing 'predicted_cell_type' as categorical\n"
     ]
    },
    {
     "name": "stdout",
     "output_type": "stream",
     "text": [
      "snRNAseq brca fold3\n"
     ]
    },
    {
     "name": "stderr",
     "output_type": "stream",
     "text": [
      "2022-03-24 12:13:51,657 25340 genes overlap with model after filtering\n",
      "2022-03-24 12:13:51,658 1209 genes missing from dataset after filtering\n",
      "2022-03-24 12:13:54,012 starting prediction of 4731 cells\n",
      "/data/estorrs/miniconda3/envs/pollock_new/lib/python3.8/site-packages/anndata/_core/anndata.py:1228: FutureWarning: The `inplace` parameter in pandas.Categorical.reorder_categories is deprecated and will be removed in a future version. Reordering categories will always return a new Categorical object.\n",
      "  c.reorder_categories(natsorted(c.categories), inplace=True)\n",
      "... storing 'predicted_cell_type' as categorical\n"
     ]
    },
    {
     "name": "stdout",
     "output_type": "stream",
     "text": [
      "snRNAseq brca fold0\n"
     ]
    },
    {
     "name": "stderr",
     "output_type": "stream",
     "text": [
      "2022-03-24 12:14:11,570 25343 genes overlap with model after filtering\n",
      "2022-03-24 12:14:11,571 1195 genes missing from dataset after filtering\n",
      "2022-03-24 12:14:13,829 starting prediction of 4731 cells\n",
      "/data/estorrs/miniconda3/envs/pollock_new/lib/python3.8/site-packages/anndata/_core/anndata.py:1228: FutureWarning: The `inplace` parameter in pandas.Categorical.reorder_categories is deprecated and will be removed in a future version. Reordering categories will always return a new Categorical object.\n",
      "  c.reorder_categories(natsorted(c.categories), inplace=True)\n",
      "... storing 'predicted_cell_type' as categorical\n"
     ]
    },
    {
     "name": "stdout",
     "output_type": "stream",
     "text": [
      "snRNAseq brca fold4\n"
     ]
    },
    {
     "name": "stderr",
     "output_type": "stream",
     "text": [
      "2022-03-24 12:14:31,013 25346 genes overlap with model after filtering\n",
      "2022-03-24 12:14:31,013 1217 genes missing from dataset after filtering\n",
      "2022-03-24 12:14:33,240 starting prediction of 4731 cells\n",
      "/data/estorrs/miniconda3/envs/pollock_new/lib/python3.8/site-packages/anndata/_core/anndata.py:1228: FutureWarning: The `inplace` parameter in pandas.Categorical.reorder_categories is deprecated and will be removed in a future version. Reordering categories will always return a new Categorical object.\n",
      "  c.reorder_categories(natsorted(c.categories), inplace=True)\n",
      "... storing 'predicted_cell_type' as categorical\n"
     ]
    },
    {
     "name": "stdout",
     "output_type": "stream",
     "text": [
      "snRNAseq gbm fold4\n"
     ]
    },
    {
     "name": "stderr",
     "output_type": "stream",
     "text": [
      "2022-03-24 12:14:49,849 24927 genes overlap with model after filtering\n",
      "2022-03-24 12:14:49,851 1326 genes missing from dataset after filtering\n",
      "2022-03-24 12:14:51,451 starting prediction of 3261 cells\n",
      "/data/estorrs/miniconda3/envs/pollock_new/lib/python3.8/site-packages/anndata/_core/anndata.py:1228: FutureWarning: The `inplace` parameter in pandas.Categorical.reorder_categories is deprecated and will be removed in a future version. Reordering categories will always return a new Categorical object.\n",
      "  c.reorder_categories(natsorted(c.categories), inplace=True)\n",
      "... storing 'predicted_cell_type' as categorical\n"
     ]
    },
    {
     "name": "stdout",
     "output_type": "stream",
     "text": [
      "snRNAseq gbm fold3\n"
     ]
    },
    {
     "name": "stderr",
     "output_type": "stream",
     "text": [
      "2022-03-24 12:15:21,659 24983 genes overlap with model after filtering\n",
      "2022-03-24 12:15:21,660 1404 genes missing from dataset after filtering\n",
      "2022-03-24 12:15:23,242 starting prediction of 3261 cells\n",
      "/data/estorrs/miniconda3/envs/pollock_new/lib/python3.8/site-packages/anndata/_core/anndata.py:1228: FutureWarning: The `inplace` parameter in pandas.Categorical.reorder_categories is deprecated and will be removed in a future version. Reordering categories will always return a new Categorical object.\n",
      "  c.reorder_categories(natsorted(c.categories), inplace=True)\n",
      "... storing 'predicted_cell_type' as categorical\n"
     ]
    },
    {
     "name": "stdout",
     "output_type": "stream",
     "text": [
      "snRNAseq gbm fold0\n"
     ]
    },
    {
     "name": "stderr",
     "output_type": "stream",
     "text": [
      "2022-03-24 12:15:48,431 24962 genes overlap with model after filtering\n",
      "2022-03-24 12:15:48,432 1361 genes missing from dataset after filtering\n",
      "2022-03-24 12:15:49,999 starting prediction of 3261 cells\n",
      "/data/estorrs/miniconda3/envs/pollock_new/lib/python3.8/site-packages/anndata/_core/anndata.py:1228: FutureWarning: The `inplace` parameter in pandas.Categorical.reorder_categories is deprecated and will be removed in a future version. Reordering categories will always return a new Categorical object.\n",
      "  c.reorder_categories(natsorted(c.categories), inplace=True)\n",
      "... storing 'predicted_cell_type' as categorical\n"
     ]
    },
    {
     "name": "stdout",
     "output_type": "stream",
     "text": [
      "snRNAseq gbm fold2\n"
     ]
    },
    {
     "name": "stderr",
     "output_type": "stream",
     "text": [
      "2022-03-24 12:16:15,275 24988 genes overlap with model after filtering\n",
      "2022-03-24 12:16:15,276 1392 genes missing from dataset after filtering\n",
      "2022-03-24 12:16:16,855 starting prediction of 3261 cells\n",
      "/data/estorrs/miniconda3/envs/pollock_new/lib/python3.8/site-packages/anndata/_core/anndata.py:1228: FutureWarning: The `inplace` parameter in pandas.Categorical.reorder_categories is deprecated and will be removed in a future version. Reordering categories will always return a new Categorical object.\n",
      "  c.reorder_categories(natsorted(c.categories), inplace=True)\n",
      "... storing 'predicted_cell_type' as categorical\n"
     ]
    },
    {
     "name": "stdout",
     "output_type": "stream",
     "text": [
      "snRNAseq gbm fold1\n"
     ]
    },
    {
     "name": "stderr",
     "output_type": "stream",
     "text": [
      "2022-03-24 12:16:42,506 24951 genes overlap with model after filtering\n",
      "2022-03-24 12:16:42,507 1407 genes missing from dataset after filtering\n",
      "2022-03-24 12:16:44,100 starting prediction of 3261 cells\n",
      "/data/estorrs/miniconda3/envs/pollock_new/lib/python3.8/site-packages/anndata/_core/anndata.py:1228: FutureWarning: The `inplace` parameter in pandas.Categorical.reorder_categories is deprecated and will be removed in a future version. Reordering categories will always return a new Categorical object.\n",
      "  c.reorder_categories(natsorted(c.categories), inplace=True)\n",
      "... storing 'predicted_cell_type' as categorical\n"
     ]
    },
    {
     "name": "stdout",
     "output_type": "stream",
     "text": [
      "snATACseq ccrcc fold3\n"
     ]
    },
    {
     "name": "stderr",
     "output_type": "stream",
     "text": [
      "2022-03-24 12:17:09,252 19692 genes overlap with model after filtering\n",
      "2022-03-24 12:17:09,253 35 genes missing from dataset after filtering\n",
      "2022-03-24 12:17:11,422 starting prediction of 3000 cells\n",
      "/data/estorrs/miniconda3/envs/pollock_new/lib/python3.8/site-packages/anndata/_core/anndata.py:1228: FutureWarning: The `inplace` parameter in pandas.Categorical.reorder_categories is deprecated and will be removed in a future version. Reordering categories will always return a new Categorical object.\n",
      "  c.reorder_categories(natsorted(c.categories), inplace=True)\n",
      "... storing 'predicted_cell_type' as categorical\n"
     ]
    },
    {
     "name": "stdout",
     "output_type": "stream",
     "text": [
      "snATACseq ccrcc fold1\n"
     ]
    },
    {
     "name": "stderr",
     "output_type": "stream",
     "text": [
      "2022-03-24 12:17:33,218 19680 genes overlap with model after filtering\n",
      "2022-03-24 12:17:33,218 38 genes missing from dataset after filtering\n",
      "2022-03-24 12:17:35,551 starting prediction of 3000 cells\n",
      "/data/estorrs/miniconda3/envs/pollock_new/lib/python3.8/site-packages/anndata/_core/anndata.py:1228: FutureWarning: The `inplace` parameter in pandas.Categorical.reorder_categories is deprecated and will be removed in a future version. Reordering categories will always return a new Categorical object.\n",
      "  c.reorder_categories(natsorted(c.categories), inplace=True)\n",
      "... storing 'predicted_cell_type' as categorical\n"
     ]
    },
    {
     "name": "stdout",
     "output_type": "stream",
     "text": [
      "snATACseq ccrcc fold2\n"
     ]
    },
    {
     "name": "stderr",
     "output_type": "stream",
     "text": [
      "2022-03-24 12:17:57,774 19683 genes overlap with model after filtering\n",
      "2022-03-24 12:17:57,775 38 genes missing from dataset after filtering\n",
      "2022-03-24 12:18:00,010 starting prediction of 3000 cells\n",
      "/data/estorrs/miniconda3/envs/pollock_new/lib/python3.8/site-packages/anndata/_core/anndata.py:1228: FutureWarning: The `inplace` parameter in pandas.Categorical.reorder_categories is deprecated and will be removed in a future version. Reordering categories will always return a new Categorical object.\n",
      "  c.reorder_categories(natsorted(c.categories), inplace=True)\n",
      "... storing 'predicted_cell_type' as categorical\n"
     ]
    },
    {
     "name": "stdout",
     "output_type": "stream",
     "text": [
      "snATACseq ccrcc fold0\n"
     ]
    },
    {
     "name": "stderr",
     "output_type": "stream",
     "text": [
      "2022-03-24 12:18:22,087 19682 genes overlap with model after filtering\n",
      "2022-03-24 12:18:22,088 37 genes missing from dataset after filtering\n",
      "2022-03-24 12:18:24,264 starting prediction of 3000 cells\n",
      "/data/estorrs/miniconda3/envs/pollock_new/lib/python3.8/site-packages/anndata/_core/anndata.py:1228: FutureWarning: The `inplace` parameter in pandas.Categorical.reorder_categories is deprecated and will be removed in a future version. Reordering categories will always return a new Categorical object.\n",
      "  c.reorder_categories(natsorted(c.categories), inplace=True)\n",
      "... storing 'predicted_cell_type' as categorical\n"
     ]
    },
    {
     "name": "stdout",
     "output_type": "stream",
     "text": [
      "snATACseq ccrcc fold4\n"
     ]
    },
    {
     "name": "stderr",
     "output_type": "stream",
     "text": [
      "2022-03-24 12:18:46,599 19685 genes overlap with model after filtering\n",
      "2022-03-24 12:18:46,600 47 genes missing from dataset after filtering\n",
      "2022-03-24 12:18:48,921 starting prediction of 3000 cells\n",
      "/data/estorrs/miniconda3/envs/pollock_new/lib/python3.8/site-packages/anndata/_core/anndata.py:1228: FutureWarning: The `inplace` parameter in pandas.Categorical.reorder_categories is deprecated and will be removed in a future version. Reordering categories will always return a new Categorical object.\n",
      "  c.reorder_categories(natsorted(c.categories), inplace=True)\n",
      "... storing 'predicted_cell_type' as categorical\n"
     ]
    },
    {
     "name": "stdout",
     "output_type": "stream",
     "text": [
      "snATACseq brca fold2\n"
     ]
    },
    {
     "name": "stderr",
     "output_type": "stream",
     "text": [
      "2022-03-24 12:19:11,902 19694 genes overlap with model after filtering\n",
      "2022-03-24 12:19:11,903 21 genes missing from dataset after filtering\n",
      "2022-03-24 12:19:15,286 starting prediction of 3519 cells\n",
      "/data/estorrs/miniconda3/envs/pollock_new/lib/python3.8/site-packages/anndata/_core/anndata.py:1228: FutureWarning: The `inplace` parameter in pandas.Categorical.reorder_categories is deprecated and will be removed in a future version. Reordering categories will always return a new Categorical object.\n",
      "  c.reorder_categories(natsorted(c.categories), inplace=True)\n",
      "... storing 'predicted_cell_type' as categorical\n"
     ]
    },
    {
     "name": "stdout",
     "output_type": "stream",
     "text": [
      "snATACseq brca fold1\n"
     ]
    },
    {
     "name": "stderr",
     "output_type": "stream",
     "text": [
      "2022-03-24 12:19:44,209 19694 genes overlap with model after filtering\n",
      "2022-03-24 12:19:44,210 24 genes missing from dataset after filtering\n",
      "2022-03-24 12:19:47,546 starting prediction of 3519 cells\n",
      "/data/estorrs/miniconda3/envs/pollock_new/lib/python3.8/site-packages/anndata/_core/anndata.py:1228: FutureWarning: The `inplace` parameter in pandas.Categorical.reorder_categories is deprecated and will be removed in a future version. Reordering categories will always return a new Categorical object.\n",
      "  c.reorder_categories(natsorted(c.categories), inplace=True)\n",
      "... storing 'predicted_cell_type' as categorical\n"
     ]
    },
    {
     "name": "stdout",
     "output_type": "stream",
     "text": [
      "snATACseq brca fold3\n"
     ]
    },
    {
     "name": "stderr",
     "output_type": "stream",
     "text": [
      "2022-03-24 12:20:15,424 19698 genes overlap with model after filtering\n",
      "2022-03-24 12:20:15,425 25 genes missing from dataset after filtering\n",
      "2022-03-24 12:20:18,797 starting prediction of 3519 cells\n",
      "/data/estorrs/miniconda3/envs/pollock_new/lib/python3.8/site-packages/anndata/_core/anndata.py:1228: FutureWarning: The `inplace` parameter in pandas.Categorical.reorder_categories is deprecated and will be removed in a future version. Reordering categories will always return a new Categorical object.\n",
      "  c.reorder_categories(natsorted(c.categories), inplace=True)\n",
      "... storing 'predicted_cell_type' as categorical\n"
     ]
    },
    {
     "name": "stdout",
     "output_type": "stream",
     "text": [
      "snATACseq brca fold0\n"
     ]
    },
    {
     "name": "stderr",
     "output_type": "stream",
     "text": [
      "2022-03-24 12:20:46,958 19696 genes overlap with model after filtering\n",
      "2022-03-24 12:20:46,959 22 genes missing from dataset after filtering\n",
      "2022-03-24 12:20:50,260 starting prediction of 3519 cells\n",
      "/data/estorrs/miniconda3/envs/pollock_new/lib/python3.8/site-packages/anndata/_core/anndata.py:1228: FutureWarning: The `inplace` parameter in pandas.Categorical.reorder_categories is deprecated and will be removed in a future version. Reordering categories will always return a new Categorical object.\n",
      "  c.reorder_categories(natsorted(c.categories), inplace=True)\n",
      "... storing 'predicted_cell_type' as categorical\n"
     ]
    },
    {
     "name": "stdout",
     "output_type": "stream",
     "text": [
      "snATACseq brca fold4\n"
     ]
    },
    {
     "name": "stderr",
     "output_type": "stream",
     "text": [
      "2022-03-24 12:21:18,295 19689 genes overlap with model after filtering\n",
      "2022-03-24 12:21:18,296 24 genes missing from dataset after filtering\n",
      "2022-03-24 12:21:21,611 starting prediction of 3519 cells\n",
      "/data/estorrs/miniconda3/envs/pollock_new/lib/python3.8/site-packages/anndata/_core/anndata.py:1228: FutureWarning: The `inplace` parameter in pandas.Categorical.reorder_categories is deprecated and will be removed in a future version. Reordering categories will always return a new Categorical object.\n",
      "  c.reorder_categories(natsorted(c.categories), inplace=True)\n",
      "... storing 'predicted_cell_type' as categorical\n"
     ]
    },
    {
     "name": "stdout",
     "output_type": "stream",
     "text": [
      "snATACseq gbm fold4\n"
     ]
    },
    {
     "name": "stderr",
     "output_type": "stream",
     "text": [
      "2022-03-24 12:21:49,852 19680 genes overlap with model after filtering\n",
      "2022-03-24 12:21:49,853 47 genes missing from dataset after filtering\n",
      "2022-03-24 12:21:52,314 starting prediction of 2820 cells\n",
      "/data/estorrs/miniconda3/envs/pollock_new/lib/python3.8/site-packages/anndata/_core/anndata.py:1228: FutureWarning: The `inplace` parameter in pandas.Categorical.reorder_categories is deprecated and will be removed in a future version. Reordering categories will always return a new Categorical object.\n",
      "  c.reorder_categories(natsorted(c.categories), inplace=True)\n",
      "... storing 'predicted_cell_type' as categorical\n"
     ]
    },
    {
     "name": "stdout",
     "output_type": "stream",
     "text": [
      "snATACseq gbm fold3\n"
     ]
    },
    {
     "name": "stderr",
     "output_type": "stream",
     "text": [
      "2022-03-24 12:22:12,973 19686 genes overlap with model after filtering\n",
      "2022-03-24 12:22:12,974 33 genes missing from dataset after filtering\n",
      "2022-03-24 12:22:15,409 starting prediction of 2820 cells\n",
      "/data/estorrs/miniconda3/envs/pollock_new/lib/python3.8/site-packages/anndata/_core/anndata.py:1228: FutureWarning: The `inplace` parameter in pandas.Categorical.reorder_categories is deprecated and will be removed in a future version. Reordering categories will always return a new Categorical object.\n",
      "  c.reorder_categories(natsorted(c.categories), inplace=True)\n",
      "... storing 'predicted_cell_type' as categorical\n"
     ]
    },
    {
     "name": "stdout",
     "output_type": "stream",
     "text": [
      "snATACseq gbm fold0\n"
     ]
    },
    {
     "name": "stderr",
     "output_type": "stream",
     "text": [
      "2022-03-24 12:22:36,000 19692 genes overlap with model after filtering\n",
      "2022-03-24 12:22:36,002 35 genes missing from dataset after filtering\n",
      "2022-03-24 12:22:38,523 starting prediction of 2820 cells\n",
      "/data/estorrs/miniconda3/envs/pollock_new/lib/python3.8/site-packages/anndata/_core/anndata.py:1228: FutureWarning: The `inplace` parameter in pandas.Categorical.reorder_categories is deprecated and will be removed in a future version. Reordering categories will always return a new Categorical object.\n",
      "  c.reorder_categories(natsorted(c.categories), inplace=True)\n",
      "... storing 'predicted_cell_type' as categorical\n"
     ]
    },
    {
     "name": "stdout",
     "output_type": "stream",
     "text": [
      "snATACseq gbm fold2\n"
     ]
    },
    {
     "name": "stderr",
     "output_type": "stream",
     "text": [
      "2022-03-24 12:22:59,385 19692 genes overlap with model after filtering\n",
      "2022-03-24 12:22:59,386 32 genes missing from dataset after filtering\n",
      "2022-03-24 12:23:01,830 starting prediction of 2820 cells\n",
      "/data/estorrs/miniconda3/envs/pollock_new/lib/python3.8/site-packages/anndata/_core/anndata.py:1228: FutureWarning: The `inplace` parameter in pandas.Categorical.reorder_categories is deprecated and will be removed in a future version. Reordering categories will always return a new Categorical object.\n",
      "  c.reorder_categories(natsorted(c.categories), inplace=True)\n",
      "... storing 'predicted_cell_type' as categorical\n"
     ]
    },
    {
     "name": "stdout",
     "output_type": "stream",
     "text": [
      "snATACseq gbm fold1\n"
     ]
    },
    {
     "name": "stderr",
     "output_type": "stream",
     "text": [
      "2022-03-24 12:23:22,464 19694 genes overlap with model after filtering\n",
      "2022-03-24 12:23:22,465 31 genes missing from dataset after filtering\n",
      "2022-03-24 12:23:25,119 starting prediction of 2820 cells\n",
      "/data/estorrs/miniconda3/envs/pollock_new/lib/python3.8/site-packages/anndata/_core/anndata.py:1228: FutureWarning: The `inplace` parameter in pandas.Categorical.reorder_categories is deprecated and will be removed in a future version. Reordering categories will always return a new Categorical object.\n",
      "  c.reorder_categories(natsorted(c.categories), inplace=True)\n",
      "... storing 'predicted_cell_type' as categorical\n"
     ]
    },
    {
     "name": "stdout",
     "output_type": "stream",
     "text": [
      "scRNAseq hnscc fold0\n"
     ]
    },
    {
     "name": "stderr",
     "output_type": "stream",
     "text": [
      "2022-03-24 12:23:45,790 21815 genes overlap with model after filtering\n",
      "2022-03-24 12:23:45,791 1132 genes missing from dataset after filtering\n",
      "2022-03-24 12:23:47,910 starting prediction of 5098 cells\n",
      "/data/estorrs/miniconda3/envs/pollock_new/lib/python3.8/site-packages/anndata/_core/anndata.py:1228: FutureWarning: The `inplace` parameter in pandas.Categorical.reorder_categories is deprecated and will be removed in a future version. Reordering categories will always return a new Categorical object.\n",
      "  c.reorder_categories(natsorted(c.categories), inplace=True)\n",
      "... storing 'predicted_cell_type' as categorical\n"
     ]
    },
    {
     "name": "stdout",
     "output_type": "stream",
     "text": [
      "scRNAseq hnscc fold4\n"
     ]
    },
    {
     "name": "stderr",
     "output_type": "stream",
     "text": [
      "2022-03-24 12:24:05,716 21953 genes overlap with model after filtering\n",
      "2022-03-24 12:24:05,717 1017 genes missing from dataset after filtering\n",
      "2022-03-24 12:24:07,758 starting prediction of 5098 cells\n",
      "/data/estorrs/miniconda3/envs/pollock_new/lib/python3.8/site-packages/anndata/_core/anndata.py:1228: FutureWarning: The `inplace` parameter in pandas.Categorical.reorder_categories is deprecated and will be removed in a future version. Reordering categories will always return a new Categorical object.\n",
      "  c.reorder_categories(natsorted(c.categories), inplace=True)\n",
      "... storing 'predicted_cell_type' as categorical\n"
     ]
    },
    {
     "name": "stdout",
     "output_type": "stream",
     "text": [
      "scRNAseq hnscc fold1\n"
     ]
    },
    {
     "name": "stderr",
     "output_type": "stream",
     "text": [
      "2022-03-24 12:24:25,741 21876 genes overlap with model after filtering\n",
      "2022-03-24 12:24:25,742 1029 genes missing from dataset after filtering\n",
      "2022-03-24 12:24:27,839 starting prediction of 5098 cells\n",
      "/data/estorrs/miniconda3/envs/pollock_new/lib/python3.8/site-packages/anndata/_core/anndata.py:1228: FutureWarning: The `inplace` parameter in pandas.Categorical.reorder_categories is deprecated and will be removed in a future version. Reordering categories will always return a new Categorical object.\n",
      "  c.reorder_categories(natsorted(c.categories), inplace=True)\n",
      "... storing 'predicted_cell_type' as categorical\n"
     ]
    },
    {
     "name": "stdout",
     "output_type": "stream",
     "text": [
      "scRNAseq hnscc fold3\n"
     ]
    },
    {
     "name": "stderr",
     "output_type": "stream",
     "text": [
      "2022-03-24 12:24:45,174 21868 genes overlap with model after filtering\n",
      "2022-03-24 12:24:45,175 1038 genes missing from dataset after filtering\n",
      "2022-03-24 12:24:47,321 starting prediction of 5098 cells\n",
      "/data/estorrs/miniconda3/envs/pollock_new/lib/python3.8/site-packages/anndata/_core/anndata.py:1228: FutureWarning: The `inplace` parameter in pandas.Categorical.reorder_categories is deprecated and will be removed in a future version. Reordering categories will always return a new Categorical object.\n",
      "  c.reorder_categories(natsorted(c.categories), inplace=True)\n",
      "... storing 'predicted_cell_type' as categorical\n"
     ]
    },
    {
     "name": "stdout",
     "output_type": "stream",
     "text": [
      "scRNAseq hnscc fold2\n"
     ]
    },
    {
     "name": "stderr",
     "output_type": "stream",
     "text": [
      "2022-03-24 12:25:05,163 21879 genes overlap with model after filtering\n",
      "2022-03-24 12:25:05,164 944 genes missing from dataset after filtering\n",
      "2022-03-24 12:25:07,226 starting prediction of 5098 cells\n",
      "/data/estorrs/miniconda3/envs/pollock_new/lib/python3.8/site-packages/anndata/_core/anndata.py:1228: FutureWarning: The `inplace` parameter in pandas.Categorical.reorder_categories is deprecated and will be removed in a future version. Reordering categories will always return a new Categorical object.\n",
      "  c.reorder_categories(natsorted(c.categories), inplace=True)\n",
      "... storing 'predicted_cell_type' as categorical\n"
     ]
    },
    {
     "name": "stdout",
     "output_type": "stream",
     "text": [
      "scRNAseq cesc fold4\n"
     ]
    },
    {
     "name": "stderr",
     "output_type": "stream",
     "text": [
      "2022-03-24 12:25:25,315 21175 genes overlap with model after filtering\n",
      "2022-03-24 12:25:25,316 652 genes missing from dataset after filtering\n",
      "2022-03-24 12:25:27,262 starting prediction of 4274 cells\n",
      "/data/estorrs/miniconda3/envs/pollock_new/lib/python3.8/site-packages/anndata/_core/anndata.py:1228: FutureWarning: The `inplace` parameter in pandas.Categorical.reorder_categories is deprecated and will be removed in a future version. Reordering categories will always return a new Categorical object.\n",
      "  c.reorder_categories(natsorted(c.categories), inplace=True)\n",
      "... storing 'predicted_cell_type' as categorical\n"
     ]
    },
    {
     "name": "stdout",
     "output_type": "stream",
     "text": [
      "scRNAseq cesc fold3\n"
     ]
    },
    {
     "name": "stderr",
     "output_type": "stream",
     "text": [
      "2022-03-24 12:25:43,038 21072 genes overlap with model after filtering\n",
      "2022-03-24 12:25:43,039 706 genes missing from dataset after filtering\n",
      "2022-03-24 12:25:44,891 starting prediction of 4274 cells\n",
      "/data/estorrs/miniconda3/envs/pollock_new/lib/python3.8/site-packages/anndata/_core/anndata.py:1228: FutureWarning: The `inplace` parameter in pandas.Categorical.reorder_categories is deprecated and will be removed in a future version. Reordering categories will always return a new Categorical object.\n",
      "  c.reorder_categories(natsorted(c.categories), inplace=True)\n",
      "... storing 'predicted_cell_type' as categorical\n"
     ]
    },
    {
     "name": "stdout",
     "output_type": "stream",
     "text": [
      "scRNAseq cesc fold2\n"
     ]
    },
    {
     "name": "stderr",
     "output_type": "stream",
     "text": [
      "2022-03-24 12:26:00,969 21174 genes overlap with model after filtering\n",
      "2022-03-24 12:26:00,970 664 genes missing from dataset after filtering\n",
      "2022-03-24 12:26:02,805 starting prediction of 4274 cells\n",
      "/data/estorrs/miniconda3/envs/pollock_new/lib/python3.8/site-packages/anndata/_core/anndata.py:1228: FutureWarning: The `inplace` parameter in pandas.Categorical.reorder_categories is deprecated and will be removed in a future version. Reordering categories will always return a new Categorical object.\n",
      "  c.reorder_categories(natsorted(c.categories), inplace=True)\n",
      "... storing 'predicted_cell_type' as categorical\n"
     ]
    },
    {
     "name": "stdout",
     "output_type": "stream",
     "text": [
      "scRNAseq cesc fold0\n"
     ]
    },
    {
     "name": "stderr",
     "output_type": "stream",
     "text": [
      "2022-03-24 12:26:18,211 21151 genes overlap with model after filtering\n",
      "2022-03-24 12:26:18,211 645 genes missing from dataset after filtering\n",
      "2022-03-24 12:26:20,075 starting prediction of 4274 cells\n",
      "/data/estorrs/miniconda3/envs/pollock_new/lib/python3.8/site-packages/anndata/_core/anndata.py:1228: FutureWarning: The `inplace` parameter in pandas.Categorical.reorder_categories is deprecated and will be removed in a future version. Reordering categories will always return a new Categorical object.\n",
      "  c.reorder_categories(natsorted(c.categories), inplace=True)\n",
      "... storing 'predicted_cell_type' as categorical\n"
     ]
    },
    {
     "name": "stdout",
     "output_type": "stream",
     "text": [
      "scRNAseq cesc fold1\n"
     ]
    },
    {
     "name": "stderr",
     "output_type": "stream",
     "text": [
      "2022-03-24 12:26:35,723 21184 genes overlap with model after filtering\n",
      "2022-03-24 12:26:35,724 667 genes missing from dataset after filtering\n",
      "2022-03-24 12:26:37,418 starting prediction of 4274 cells\n",
      "/data/estorrs/miniconda3/envs/pollock_new/lib/python3.8/site-packages/anndata/_core/anndata.py:1228: FutureWarning: The `inplace` parameter in pandas.Categorical.reorder_categories is deprecated and will be removed in a future version. Reordering categories will always return a new Categorical object.\n",
      "  c.reorder_categories(natsorted(c.categories), inplace=True)\n",
      "... storing 'predicted_cell_type' as categorical\n"
     ]
    },
    {
     "name": "stdout",
     "output_type": "stream",
     "text": [
      "scRNAseq brca fold2\n"
     ]
    },
    {
     "name": "stderr",
     "output_type": "stream",
     "text": [
      "2022-03-24 12:26:53,006 22276 genes overlap with model after filtering\n",
      "2022-03-24 12:26:53,007 1435 genes missing from dataset after filtering\n",
      "2022-03-24 12:26:54,996 starting prediction of 5468 cells\n",
      "/data/estorrs/miniconda3/envs/pollock_new/lib/python3.8/site-packages/anndata/_core/anndata.py:1228: FutureWarning: The `inplace` parameter in pandas.Categorical.reorder_categories is deprecated and will be removed in a future version. Reordering categories will always return a new Categorical object.\n",
      "  c.reorder_categories(natsorted(c.categories), inplace=True)\n",
      "... storing 'predicted_cell_type' as categorical\n"
     ]
    },
    {
     "name": "stdout",
     "output_type": "stream",
     "text": [
      "scRNAseq brca fold1\n"
     ]
    },
    {
     "name": "stderr",
     "output_type": "stream",
     "text": [
      "2022-03-24 12:27:13,160 22307 genes overlap with model after filtering\n",
      "2022-03-24 12:27:13,161 1398 genes missing from dataset after filtering\n",
      "2022-03-24 12:27:15,168 starting prediction of 5468 cells\n",
      "/data/estorrs/miniconda3/envs/pollock_new/lib/python3.8/site-packages/anndata/_core/anndata.py:1228: FutureWarning: The `inplace` parameter in pandas.Categorical.reorder_categories is deprecated and will be removed in a future version. Reordering categories will always return a new Categorical object.\n",
      "  c.reorder_categories(natsorted(c.categories), inplace=True)\n",
      "... storing 'predicted_cell_type' as categorical\n"
     ]
    },
    {
     "name": "stdout",
     "output_type": "stream",
     "text": [
      "scRNAseq brca fold3\n"
     ]
    },
    {
     "name": "stderr",
     "output_type": "stream",
     "text": [
      "2022-03-24 12:27:33,503 22275 genes overlap with model after filtering\n",
      "2022-03-24 12:27:33,504 1441 genes missing from dataset after filtering\n",
      "2022-03-24 12:27:35,547 starting prediction of 5468 cells\n",
      "/data/estorrs/miniconda3/envs/pollock_new/lib/python3.8/site-packages/anndata/_core/anndata.py:1228: FutureWarning: The `inplace` parameter in pandas.Categorical.reorder_categories is deprecated and will be removed in a future version. Reordering categories will always return a new Categorical object.\n",
      "  c.reorder_categories(natsorted(c.categories), inplace=True)\n",
      "... storing 'predicted_cell_type' as categorical\n"
     ]
    },
    {
     "name": "stdout",
     "output_type": "stream",
     "text": [
      "scRNAseq brca fold0\n"
     ]
    },
    {
     "name": "stderr",
     "output_type": "stream",
     "text": [
      "2022-03-24 12:27:53,665 22254 genes overlap with model after filtering\n",
      "2022-03-24 12:27:53,666 1370 genes missing from dataset after filtering\n",
      "2022-03-24 12:27:55,801 starting prediction of 5468 cells\n",
      "/data/estorrs/miniconda3/envs/pollock_new/lib/python3.8/site-packages/anndata/_core/anndata.py:1228: FutureWarning: The `inplace` parameter in pandas.Categorical.reorder_categories is deprecated and will be removed in a future version. Reordering categories will always return a new Categorical object.\n",
      "  c.reorder_categories(natsorted(c.categories), inplace=True)\n",
      "... storing 'predicted_cell_type' as categorical\n"
     ]
    },
    {
     "name": "stdout",
     "output_type": "stream",
     "text": [
      "scRNAseq brca fold4\n"
     ]
    },
    {
     "name": "stderr",
     "output_type": "stream",
     "text": [
      "2022-03-24 12:28:14,396 22221 genes overlap with model after filtering\n",
      "2022-03-24 12:28:14,397 1367 genes missing from dataset after filtering\n",
      "2022-03-24 12:28:16,587 starting prediction of 5468 cells\n",
      "/data/estorrs/miniconda3/envs/pollock_new/lib/python3.8/site-packages/anndata/_core/anndata.py:1228: FutureWarning: The `inplace` parameter in pandas.Categorical.reorder_categories is deprecated and will be removed in a future version. Reordering categories will always return a new Categorical object.\n",
      "  c.reorder_categories(natsorted(c.categories), inplace=True)\n",
      "... storing 'predicted_cell_type' as categorical\n"
     ]
    },
    {
     "name": "stdout",
     "output_type": "stream",
     "text": [
      "scRNAseq myeloma fold0\n"
     ]
    },
    {
     "name": "stderr",
     "output_type": "stream",
     "text": [
      "2022-03-24 12:28:34,878 18620 genes overlap with model after filtering\n",
      "2022-03-24 12:28:34,879 1218 genes missing from dataset after filtering\n",
      "2022-03-24 12:28:35,977 starting prediction of 3312 cells\n",
      "/data/estorrs/miniconda3/envs/pollock_new/lib/python3.8/site-packages/anndata/_core/anndata.py:1228: FutureWarning: The `inplace` parameter in pandas.Categorical.reorder_categories is deprecated and will be removed in a future version. Reordering categories will always return a new Categorical object.\n",
      "  c.reorder_categories(natsorted(c.categories), inplace=True)\n",
      "... storing 'predicted_cell_type' as categorical\n"
     ]
    },
    {
     "name": "stdout",
     "output_type": "stream",
     "text": [
      "scRNAseq myeloma fold1\n"
     ]
    },
    {
     "name": "stderr",
     "output_type": "stream",
     "text": [
      "2022-03-24 12:29:01,172 18583 genes overlap with model after filtering\n",
      "2022-03-24 12:29:01,173 1374 genes missing from dataset after filtering\n",
      "2022-03-24 12:29:02,333 starting prediction of 3312 cells\n",
      "/data/estorrs/miniconda3/envs/pollock_new/lib/python3.8/site-packages/anndata/_core/anndata.py:1228: FutureWarning: The `inplace` parameter in pandas.Categorical.reorder_categories is deprecated and will be removed in a future version. Reordering categories will always return a new Categorical object.\n",
      "  c.reorder_categories(natsorted(c.categories), inplace=True)\n",
      "... storing 'predicted_cell_type' as categorical\n"
     ]
    },
    {
     "name": "stdout",
     "output_type": "stream",
     "text": [
      "scRNAseq myeloma fold3\n"
     ]
    },
    {
     "name": "stderr",
     "output_type": "stream",
     "text": [
      "2022-03-24 12:29:27,423 18628 genes overlap with model after filtering\n",
      "2022-03-24 12:29:27,424 1465 genes missing from dataset after filtering\n",
      "2022-03-24 12:29:28,555 starting prediction of 3312 cells\n",
      "/data/estorrs/miniconda3/envs/pollock_new/lib/python3.8/site-packages/anndata/_core/anndata.py:1228: FutureWarning: The `inplace` parameter in pandas.Categorical.reorder_categories is deprecated and will be removed in a future version. Reordering categories will always return a new Categorical object.\n",
      "  c.reorder_categories(natsorted(c.categories), inplace=True)\n",
      "... storing 'predicted_cell_type' as categorical\n"
     ]
    },
    {
     "name": "stdout",
     "output_type": "stream",
     "text": [
      "scRNAseq myeloma fold4\n"
     ]
    },
    {
     "name": "stderr",
     "output_type": "stream",
     "text": [
      "2022-03-24 12:29:54,330 18710 genes overlap with model after filtering\n",
      "2022-03-24 12:29:54,330 1292 genes missing from dataset after filtering\n",
      "2022-03-24 12:29:55,492 starting prediction of 3312 cells\n",
      "/data/estorrs/miniconda3/envs/pollock_new/lib/python3.8/site-packages/anndata/_core/anndata.py:1228: FutureWarning: The `inplace` parameter in pandas.Categorical.reorder_categories is deprecated and will be removed in a future version. Reordering categories will always return a new Categorical object.\n",
      "  c.reorder_categories(natsorted(c.categories), inplace=True)\n",
      "... storing 'predicted_cell_type' as categorical\n"
     ]
    },
    {
     "name": "stdout",
     "output_type": "stream",
     "text": [
      "scRNAseq myeloma fold2\n"
     ]
    },
    {
     "name": "stderr",
     "output_type": "stream",
     "text": [
      "2022-03-24 12:30:20,493 18683 genes overlap with model after filtering\n",
      "2022-03-24 12:30:20,493 1360 genes missing from dataset after filtering\n",
      "2022-03-24 12:30:21,608 starting prediction of 3312 cells\n",
      "/data/estorrs/miniconda3/envs/pollock_new/lib/python3.8/site-packages/anndata/_core/anndata.py:1228: FutureWarning: The `inplace` parameter in pandas.Categorical.reorder_categories is deprecated and will be removed in a future version. Reordering categories will always return a new Categorical object.\n",
      "  c.reorder_categories(natsorted(c.categories), inplace=True)\n",
      "... storing 'predicted_cell_type' as categorical\n"
     ]
    },
    {
     "name": "stdout",
     "output_type": "stream",
     "text": [
      "scRNAseq melanoma fold3\n"
     ]
    },
    {
     "name": "stderr",
     "output_type": "stream",
     "text": [
      "2022-03-24 12:30:46,344 19162 genes overlap with model after filtering\n",
      "2022-03-24 12:30:46,345 1543 genes missing from dataset after filtering\n",
      "2022-03-24 12:30:47,495 starting prediction of 3331 cells\n",
      "/data/estorrs/miniconda3/envs/pollock_new/lib/python3.8/site-packages/anndata/_core/anndata.py:1228: FutureWarning: The `inplace` parameter in pandas.Categorical.reorder_categories is deprecated and will be removed in a future version. Reordering categories will always return a new Categorical object.\n",
      "  c.reorder_categories(natsorted(c.categories), inplace=True)\n",
      "... storing 'predicted_cell_type' as categorical\n"
     ]
    },
    {
     "name": "stdout",
     "output_type": "stream",
     "text": [
      "scRNAseq melanoma fold0\n"
     ]
    },
    {
     "name": "stderr",
     "output_type": "stream",
     "text": [
      "2022-03-24 12:31:13,599 19131 genes overlap with model after filtering\n",
      "2022-03-24 12:31:13,599 1544 genes missing from dataset after filtering\n",
      "2022-03-24 12:31:14,765 starting prediction of 3331 cells\n",
      "/data/estorrs/miniconda3/envs/pollock_new/lib/python3.8/site-packages/anndata/_core/anndata.py:1228: FutureWarning: The `inplace` parameter in pandas.Categorical.reorder_categories is deprecated and will be removed in a future version. Reordering categories will always return a new Categorical object.\n",
      "  c.reorder_categories(natsorted(c.categories), inplace=True)\n",
      "... storing 'predicted_cell_type' as categorical\n"
     ]
    },
    {
     "name": "stdout",
     "output_type": "stream",
     "text": [
      "scRNAseq melanoma fold2\n"
     ]
    },
    {
     "name": "stderr",
     "output_type": "stream",
     "text": [
      "2022-03-24 12:31:40,565 19149 genes overlap with model after filtering\n",
      "2022-03-24 12:31:40,566 1523 genes missing from dataset after filtering\n",
      "2022-03-24 12:31:41,707 starting prediction of 3331 cells\n",
      "/data/estorrs/miniconda3/envs/pollock_new/lib/python3.8/site-packages/anndata/_core/anndata.py:1228: FutureWarning: The `inplace` parameter in pandas.Categorical.reorder_categories is deprecated and will be removed in a future version. Reordering categories will always return a new Categorical object.\n",
      "  c.reorder_categories(natsorted(c.categories), inplace=True)\n",
      "... storing 'predicted_cell_type' as categorical\n"
     ]
    },
    {
     "name": "stdout",
     "output_type": "stream",
     "text": [
      "scRNAseq melanoma fold1\n"
     ]
    },
    {
     "name": "stderr",
     "output_type": "stream",
     "text": [
      "2022-03-24 12:32:07,347 19164 genes overlap with model after filtering\n",
      "2022-03-24 12:32:07,348 1529 genes missing from dataset after filtering\n",
      "2022-03-24 12:32:08,575 starting prediction of 3331 cells\n",
      "/data/estorrs/miniconda3/envs/pollock_new/lib/python3.8/site-packages/anndata/_core/anndata.py:1228: FutureWarning: The `inplace` parameter in pandas.Categorical.reorder_categories is deprecated and will be removed in a future version. Reordering categories will always return a new Categorical object.\n",
      "  c.reorder_categories(natsorted(c.categories), inplace=True)\n",
      "... storing 'predicted_cell_type' as categorical\n"
     ]
    },
    {
     "name": "stdout",
     "output_type": "stream",
     "text": [
      "scRNAseq melanoma fold4\n"
     ]
    },
    {
     "name": "stderr",
     "output_type": "stream",
     "text": [
      "2022-03-24 12:32:34,640 19103 genes overlap with model after filtering\n",
      "2022-03-24 12:32:34,641 1510 genes missing from dataset after filtering\n",
      "2022-03-24 12:32:35,789 starting prediction of 3331 cells\n",
      "/data/estorrs/miniconda3/envs/pollock_new/lib/python3.8/site-packages/anndata/_core/anndata.py:1228: FutureWarning: The `inplace` parameter in pandas.Categorical.reorder_categories is deprecated and will be removed in a future version. Reordering categories will always return a new Categorical object.\n",
      "  c.reorder_categories(natsorted(c.categories), inplace=True)\n",
      "... storing 'predicted_cell_type' as categorical\n"
     ]
    },
    {
     "name": "stdout",
     "output_type": "stream",
     "text": [
      "scRNAseq pdac fold2\n"
     ]
    },
    {
     "name": "stderr",
     "output_type": "stream",
     "text": [
      "2022-03-24 12:33:01,563 23822 genes overlap with model after filtering\n",
      "2022-03-24 12:33:01,563 1199 genes missing from dataset after filtering\n",
      "2022-03-24 12:33:06,237 starting prediction of 7654 cells\n",
      "/data/estorrs/miniconda3/envs/pollock_new/lib/python3.8/site-packages/anndata/_core/anndata.py:1228: FutureWarning: The `inplace` parameter in pandas.Categorical.reorder_categories is deprecated and will be removed in a future version. Reordering categories will always return a new Categorical object.\n",
      "  c.reorder_categories(natsorted(c.categories), inplace=True)\n",
      "... storing 'predicted_cell_type' as categorical\n"
     ]
    },
    {
     "name": "stdout",
     "output_type": "stream",
     "text": [
      "scRNAseq pdac fold3\n"
     ]
    },
    {
     "name": "stderr",
     "output_type": "stream",
     "text": [
      "2022-03-24 12:33:31,220 23837 genes overlap with model after filtering\n",
      "2022-03-24 12:33:31,222 1215 genes missing from dataset after filtering\n",
      "2022-03-24 12:33:34,948 starting prediction of 7654 cells\n",
      "/data/estorrs/miniconda3/envs/pollock_new/lib/python3.8/site-packages/anndata/_core/anndata.py:1228: FutureWarning: The `inplace` parameter in pandas.Categorical.reorder_categories is deprecated and will be removed in a future version. Reordering categories will always return a new Categorical object.\n",
      "  c.reorder_categories(natsorted(c.categories), inplace=True)\n",
      "... storing 'predicted_cell_type' as categorical\n"
     ]
    },
    {
     "name": "stdout",
     "output_type": "stream",
     "text": [
      "scRNAseq pdac fold1\n"
     ]
    },
    {
     "name": "stderr",
     "output_type": "stream",
     "text": [
      "2022-03-24 12:33:58,990 23823 genes overlap with model after filtering\n",
      "2022-03-24 12:33:58,991 1164 genes missing from dataset after filtering\n",
      "2022-03-24 12:34:05,766 starting prediction of 7654 cells\n",
      "/data/estorrs/miniconda3/envs/pollock_new/lib/python3.8/site-packages/anndata/_core/anndata.py:1228: FutureWarning: The `inplace` parameter in pandas.Categorical.reorder_categories is deprecated and will be removed in a future version. Reordering categories will always return a new Categorical object.\n",
      "  c.reorder_categories(natsorted(c.categories), inplace=True)\n",
      "... storing 'predicted_cell_type' as categorical\n"
     ]
    },
    {
     "name": "stdout",
     "output_type": "stream",
     "text": [
      "scRNAseq pdac fold4\n"
     ]
    },
    {
     "name": "stderr",
     "output_type": "stream",
     "text": [
      "2022-03-24 12:34:30,697 23781 genes overlap with model after filtering\n",
      "2022-03-24 12:34:30,698 1197 genes missing from dataset after filtering\n",
      "2022-03-24 12:34:37,732 starting prediction of 7654 cells\n",
      "/data/estorrs/miniconda3/envs/pollock_new/lib/python3.8/site-packages/anndata/_core/anndata.py:1228: FutureWarning: The `inplace` parameter in pandas.Categorical.reorder_categories is deprecated and will be removed in a future version. Reordering categories will always return a new Categorical object.\n",
      "  c.reorder_categories(natsorted(c.categories), inplace=True)\n",
      "... storing 'predicted_cell_type' as categorical\n"
     ]
    },
    {
     "name": "stdout",
     "output_type": "stream",
     "text": [
      "scRNAseq pdac fold0\n"
     ]
    },
    {
     "name": "stderr",
     "output_type": "stream",
     "text": [
      "2022-03-24 12:35:02,361 23764 genes overlap with model after filtering\n",
      "2022-03-24 12:35:02,362 1177 genes missing from dataset after filtering\n",
      "2022-03-24 12:35:09,030 starting prediction of 7654 cells\n",
      "/data/estorrs/miniconda3/envs/pollock_new/lib/python3.8/site-packages/anndata/_core/anndata.py:1228: FutureWarning: The `inplace` parameter in pandas.Categorical.reorder_categories is deprecated and will be removed in a future version. Reordering categories will always return a new Categorical object.\n",
      "  c.reorder_categories(natsorted(c.categories), inplace=True)\n",
      "... storing 'predicted_cell_type' as categorical\n"
     ]
    }
   ],
   "source": [
    "for dtype, d1 in folds_fmap.items():\n",
    "    for disease, d2 in d1.items():\n",
    "        for fold, d3 in d2.items():\n",
    "            print(dtype, disease, fold)\n",
    "            model = utils.load_model(os.path.join(fold_module_dir, f'{dtype}_{disease}_{fold}'))\n",
    "            val = sc.read_h5ad(d3['val'])\n",
    "            adata = utils.predict_adata(model, val)\n",
    "            adata.write_h5ad(os.path.join(result_dir, 'interdataset_with_folds', f'{dtype}_{disease}_{fold}.h5ad'))"
   ]
  },
  {
   "cell_type": "markdown",
   "id": "7051bbf1",
   "metadata": {},
   "source": [
    "inter-dataset"
   ]
  },
  {
   "cell_type": "code",
   "execution_count": 19,
   "id": "75b22c34",
   "metadata": {
    "scrolled": true
   },
   "outputs": [
    {
     "name": "stdout",
     "output_type": "stream",
     "text": [
      "snRNAseq ccrcc\n"
     ]
    },
    {
     "name": "stderr",
     "output_type": "stream",
     "text": [
      "2022-01-13 09:07:00,902 24684 genes overlap with model after filtering\n",
      "2022-01-13 09:07:00,903 1318 genes missing from dataset after filtering\n",
      "/data/estorrs/miniconda3/envs/pollock_new/lib/python3.8/site-packages/anndata/_core/anndata.py:1228: FutureWarning: The `inplace` parameter in pandas.Categorical.reorder_categories is deprecated and will be removed in a future version. Reordering categories will always return a new Categorical object.\n",
      "  c.reorder_categories(natsorted(c.categories), inplace=True)\n",
      "... storing 'predicted_cell_type' as categorical\n"
     ]
    },
    {
     "name": "stdout",
     "output_type": "stream",
     "text": [
      "snRNAseq brca\n"
     ]
    },
    {
     "name": "stderr",
     "output_type": "stream",
     "text": [
      "2022-01-13 09:07:20,075 25360 genes overlap with model after filtering\n",
      "2022-01-13 09:07:20,076 1183 genes missing from dataset after filtering\n",
      "/data/estorrs/miniconda3/envs/pollock_new/lib/python3.8/site-packages/anndata/_core/anndata.py:1228: FutureWarning: The `inplace` parameter in pandas.Categorical.reorder_categories is deprecated and will be removed in a future version. Reordering categories will always return a new Categorical object.\n",
      "  c.reorder_categories(natsorted(c.categories), inplace=True)\n",
      "... storing 'predicted_cell_type' as categorical\n"
     ]
    },
    {
     "name": "stdout",
     "output_type": "stream",
     "text": [
      "snRNAseq gbm\n"
     ]
    },
    {
     "name": "stderr",
     "output_type": "stream",
     "text": [
      "2022-01-13 09:07:41,131 25009 genes overlap with model after filtering\n",
      "2022-01-13 09:07:41,132 1142 genes missing from dataset after filtering\n",
      "/data/estorrs/miniconda3/envs/pollock_new/lib/python3.8/site-packages/anndata/_core/anndata.py:1228: FutureWarning: The `inplace` parameter in pandas.Categorical.reorder_categories is deprecated and will be removed in a future version. Reordering categories will always return a new Categorical object.\n",
      "  c.reorder_categories(natsorted(c.categories), inplace=True)\n",
      "... storing 'predicted_cell_type' as categorical\n"
     ]
    },
    {
     "name": "stdout",
     "output_type": "stream",
     "text": [
      "snATACseq brca\n"
     ]
    },
    {
     "name": "stderr",
     "output_type": "stream",
     "text": [
      "2022-01-13 09:08:11,196 19699 genes overlap with model after filtering\n",
      "2022-01-13 09:08:11,198 17 genes missing from dataset after filtering\n",
      "/data/estorrs/miniconda3/envs/pollock_new/lib/python3.8/site-packages/anndata/_core/anndata.py:1228: FutureWarning: The `inplace` parameter in pandas.Categorical.reorder_categories is deprecated and will be removed in a future version. Reordering categories will always return a new Categorical object.\n",
      "  c.reorder_categories(natsorted(c.categories), inplace=True)\n",
      "... storing 'predicted_cell_type' as categorical\n"
     ]
    },
    {
     "name": "stdout",
     "output_type": "stream",
     "text": [
      "snATACseq ccrcc\n"
     ]
    },
    {
     "name": "stderr",
     "output_type": "stream",
     "text": [
      "2022-01-13 09:08:41,566 19677 genes overlap with model after filtering\n",
      "2022-01-13 09:08:41,567 40 genes missing from dataset after filtering\n",
      "/data/estorrs/miniconda3/envs/pollock_new/lib/python3.8/site-packages/anndata/_core/anndata.py:1228: FutureWarning: The `inplace` parameter in pandas.Categorical.reorder_categories is deprecated and will be removed in a future version. Reordering categories will always return a new Categorical object.\n",
      "  c.reorder_categories(natsorted(c.categories), inplace=True)\n",
      "... storing 'predicted_cell_type' as categorical\n"
     ]
    },
    {
     "name": "stdout",
     "output_type": "stream",
     "text": [
      "snATACseq gbm\n"
     ]
    },
    {
     "name": "stderr",
     "output_type": "stream",
     "text": [
      "2022-01-13 09:09:05,184 19698 genes overlap with model after filtering\n",
      "2022-01-13 09:09:05,184 30 genes missing from dataset after filtering\n",
      "/data/estorrs/miniconda3/envs/pollock_new/lib/python3.8/site-packages/anndata/_core/anndata.py:1228: FutureWarning: The `inplace` parameter in pandas.Categorical.reorder_categories is deprecated and will be removed in a future version. Reordering categories will always return a new Categorical object.\n",
      "  c.reorder_categories(natsorted(c.categories), inplace=True)\n",
      "... storing 'predicted_cell_type' as categorical\n"
     ]
    },
    {
     "name": "stdout",
     "output_type": "stream",
     "text": [
      "scRNAseq cesc\n"
     ]
    },
    {
     "name": "stderr",
     "output_type": "stream",
     "text": [
      "2022-01-13 09:09:27,738 21146 genes overlap with model after filtering\n",
      "2022-01-13 09:09:27,739 703 genes missing from dataset after filtering\n",
      "/data/estorrs/miniconda3/envs/pollock_new/lib/python3.8/site-packages/anndata/_core/anndata.py:1228: FutureWarning: The `inplace` parameter in pandas.Categorical.reorder_categories is deprecated and will be removed in a future version. Reordering categories will always return a new Categorical object.\n",
      "  c.reorder_categories(natsorted(c.categories), inplace=True)\n",
      "... storing 'predicted_cell_type' as categorical\n"
     ]
    },
    {
     "name": "stdout",
     "output_type": "stream",
     "text": [
      "scRNAseq myeloma\n"
     ]
    },
    {
     "name": "stderr",
     "output_type": "stream",
     "text": [
      "2022-01-13 09:09:44,356 18733 genes overlap with model after filtering\n",
      "2022-01-13 09:09:44,357 1290 genes missing from dataset after filtering\n",
      "/data/estorrs/miniconda3/envs/pollock_new/lib/python3.8/site-packages/anndata/_core/anndata.py:1228: FutureWarning: The `inplace` parameter in pandas.Categorical.reorder_categories is deprecated and will be removed in a future version. Reordering categories will always return a new Categorical object.\n",
      "  c.reorder_categories(natsorted(c.categories), inplace=True)\n",
      "... storing 'predicted_cell_type' as categorical\n"
     ]
    },
    {
     "name": "stdout",
     "output_type": "stream",
     "text": [
      "scRNAseq brca\n"
     ]
    },
    {
     "name": "stderr",
     "output_type": "stream",
     "text": [
      "2022-01-13 09:10:09,843 22285 genes overlap with model after filtering\n",
      "2022-01-13 09:10:09,844 1268 genes missing from dataset after filtering\n",
      "/data/estorrs/miniconda3/envs/pollock_new/lib/python3.8/site-packages/anndata/_core/anndata.py:1228: FutureWarning: The `inplace` parameter in pandas.Categorical.reorder_categories is deprecated and will be removed in a future version. Reordering categories will always return a new Categorical object.\n",
      "  c.reorder_categories(natsorted(c.categories), inplace=True)\n",
      "... storing 'predicted_cell_type' as categorical\n"
     ]
    },
    {
     "name": "stdout",
     "output_type": "stream",
     "text": [
      "scRNAseq hnscc\n"
     ]
    },
    {
     "name": "stderr",
     "output_type": "stream",
     "text": [
      "2022-01-13 09:10:30,151 21915 genes overlap with model after filtering\n",
      "2022-01-13 09:10:30,152 1008 genes missing from dataset after filtering\n",
      "/data/estorrs/miniconda3/envs/pollock_new/lib/python3.8/site-packages/anndata/_core/anndata.py:1228: FutureWarning: The `inplace` parameter in pandas.Categorical.reorder_categories is deprecated and will be removed in a future version. Reordering categories will always return a new Categorical object.\n",
      "  c.reorder_categories(natsorted(c.categories), inplace=True)\n",
      "... storing 'predicted_cell_type' as categorical\n"
     ]
    },
    {
     "name": "stdout",
     "output_type": "stream",
     "text": [
      "scRNAseq pdac\n"
     ]
    },
    {
     "name": "stderr",
     "output_type": "stream",
     "text": [
      "2022-01-13 09:10:49,282 23831 genes overlap with model after filtering\n",
      "2022-01-13 09:10:49,283 1188 genes missing from dataset after filtering\n",
      "/data/estorrs/miniconda3/envs/pollock_new/lib/python3.8/site-packages/anndata/_core/anndata.py:1228: FutureWarning: The `inplace` parameter in pandas.Categorical.reorder_categories is deprecated and will be removed in a future version. Reordering categories will always return a new Categorical object.\n",
      "  c.reorder_categories(natsorted(c.categories), inplace=True)\n",
      "... storing 'predicted_cell_type' as categorical\n"
     ]
    },
    {
     "name": "stdout",
     "output_type": "stream",
     "text": [
      "scRNAseq melanoma\n"
     ]
    },
    {
     "name": "stderr",
     "output_type": "stream",
     "text": [
      "2022-01-13 09:11:16,123 19219 genes overlap with model after filtering\n",
      "2022-01-13 09:11:16,124 1385 genes missing from dataset after filtering\n",
      "/data/estorrs/miniconda3/envs/pollock_new/lib/python3.8/site-packages/anndata/_core/anndata.py:1228: FutureWarning: The `inplace` parameter in pandas.Categorical.reorder_categories is deprecated and will be removed in a future version. Reordering categories will always return a new Categorical object.\n",
      "  c.reorder_categories(natsorted(c.categories), inplace=True)\n",
      "... storing 'predicted_cell_type' as categorical\n"
     ]
    }
   ],
   "source": [
    "for dtype, d1 in fmap.items():\n",
    "    for disease, d2 in d1.items():\n",
    "        print(dtype, disease)\n",
    "        model = utils.load_model(os.path.join(module_dir, f'{dtype}_{disease}'))\n",
    "        val = sc.read_h5ad(d2['val'])\n",
    "        adata = utils.predict_adata(model, val)\n",
    "        adata.write_h5ad(os.path.join(result_dir, f'{dtype}_{disease}.h5ad'))"
   ]
  },
  {
   "cell_type": "markdown",
   "id": "14fa5c64",
   "metadata": {},
   "source": [
    "intra-dataset"
   ]
  },
  {
   "cell_type": "code",
   "execution_count": 44,
   "id": "3c5cbee2",
   "metadata": {
    "scrolled": true
   },
   "outputs": [
    {
     "name": "stderr",
     "output_type": "stream",
     "text": [
      "2022-01-13 09:27:18,491 24684 genes overlap with model after filtering\n",
      "2022-01-13 09:27:18,492 1318 genes missing from dataset after filtering\n"
     ]
    },
    {
     "name": "stdout",
     "output_type": "stream",
     "text": [
      "snRNAseq ccrcc ccrcc\n"
     ]
    },
    {
     "name": "stderr",
     "output_type": "stream",
     "text": [
      "/data/estorrs/miniconda3/envs/pollock_new/lib/python3.8/site-packages/anndata/_core/anndata.py:1228: FutureWarning: The `inplace` parameter in pandas.Categorical.reorder_categories is deprecated and will be removed in a future version. Reordering categories will always return a new Categorical object.\n",
      "  c.reorder_categories(natsorted(c.categories), inplace=True)\n",
      "... storing 'predicted_cell_type' as categorical\n",
      "2022-01-13 09:27:36,100 24698 genes overlap with model after filtering\n",
      "2022-01-13 09:27:36,101 1304 genes missing from dataset after filtering\n"
     ]
    },
    {
     "name": "stdout",
     "output_type": "stream",
     "text": [
      "snRNAseq ccrcc brca\n"
     ]
    },
    {
     "name": "stderr",
     "output_type": "stream",
     "text": [
      "/data/estorrs/miniconda3/envs/pollock_new/lib/python3.8/site-packages/anndata/_core/anndata.py:1228: FutureWarning: The `inplace` parameter in pandas.Categorical.reorder_categories is deprecated and will be removed in a future version. Reordering categories will always return a new Categorical object.\n",
      "  c.reorder_categories(natsorted(c.categories), inplace=True)\n",
      "... storing 'predicted_cell_type' as categorical\n",
      "2022-01-13 09:27:54,894 24492 genes overlap with model after filtering\n",
      "2022-01-13 09:27:54,895 1510 genes missing from dataset after filtering\n"
     ]
    },
    {
     "name": "stdout",
     "output_type": "stream",
     "text": [
      "snRNAseq ccrcc gbm\n"
     ]
    },
    {
     "name": "stderr",
     "output_type": "stream",
     "text": [
      "/data/estorrs/miniconda3/envs/pollock_new/lib/python3.8/site-packages/anndata/_core/anndata.py:1228: FutureWarning: The `inplace` parameter in pandas.Categorical.reorder_categories is deprecated and will be removed in a future version. Reordering categories will always return a new Categorical object.\n",
      "  c.reorder_categories(natsorted(c.categories), inplace=True)\n",
      "... storing 'predicted_cell_type' as categorical\n",
      "2022-01-13 09:28:24,609 24725 genes overlap with model after filtering\n",
      "2022-01-13 09:28:24,610 1818 genes missing from dataset after filtering\n"
     ]
    },
    {
     "name": "stdout",
     "output_type": "stream",
     "text": [
      "snRNAseq brca ccrcc\n"
     ]
    },
    {
     "name": "stderr",
     "output_type": "stream",
     "text": [
      "/data/estorrs/miniconda3/envs/pollock_new/lib/python3.8/site-packages/anndata/_core/anndata.py:1228: FutureWarning: The `inplace` parameter in pandas.Categorical.reorder_categories is deprecated and will be removed in a future version. Reordering categories will always return a new Categorical object.\n",
      "  c.reorder_categories(natsorted(c.categories), inplace=True)\n",
      "... storing 'predicted_cell_type' as categorical\n",
      "2022-01-13 09:28:41,915 25360 genes overlap with model after filtering\n",
      "2022-01-13 09:28:41,916 1183 genes missing from dataset after filtering\n"
     ]
    },
    {
     "name": "stdout",
     "output_type": "stream",
     "text": [
      "snRNAseq brca brca\n"
     ]
    },
    {
     "name": "stderr",
     "output_type": "stream",
     "text": [
      "/data/estorrs/miniconda3/envs/pollock_new/lib/python3.8/site-packages/anndata/_core/anndata.py:1228: FutureWarning: The `inplace` parameter in pandas.Categorical.reorder_categories is deprecated and will be removed in a future version. Reordering categories will always return a new Categorical object.\n",
      "  c.reorder_categories(natsorted(c.categories), inplace=True)\n",
      "... storing 'predicted_cell_type' as categorical\n",
      "2022-01-13 09:29:00,564 24864 genes overlap with model after filtering\n",
      "2022-01-13 09:29:00,564 1679 genes missing from dataset after filtering\n"
     ]
    },
    {
     "name": "stdout",
     "output_type": "stream",
     "text": [
      "snRNAseq brca gbm\n"
     ]
    },
    {
     "name": "stderr",
     "output_type": "stream",
     "text": [
      "/data/estorrs/miniconda3/envs/pollock_new/lib/python3.8/site-packages/anndata/_core/anndata.py:1228: FutureWarning: The `inplace` parameter in pandas.Categorical.reorder_categories is deprecated and will be removed in a future version. Reordering categories will always return a new Categorical object.\n",
      "  c.reorder_categories(natsorted(c.categories), inplace=True)\n",
      "... storing 'predicted_cell_type' as categorical\n",
      "2022-01-13 09:29:31,395 24495 genes overlap with model after filtering\n",
      "2022-01-13 09:29:31,396 1656 genes missing from dataset after filtering\n"
     ]
    },
    {
     "name": "stdout",
     "output_type": "stream",
     "text": [
      "snRNAseq gbm ccrcc\n"
     ]
    },
    {
     "name": "stderr",
     "output_type": "stream",
     "text": [
      "/data/estorrs/miniconda3/envs/pollock_new/lib/python3.8/site-packages/anndata/_core/anndata.py:1228: FutureWarning: The `inplace` parameter in pandas.Categorical.reorder_categories is deprecated and will be removed in a future version. Reordering categories will always return a new Categorical object.\n",
      "  c.reorder_categories(natsorted(c.categories), inplace=True)\n",
      "... storing 'predicted_cell_type' as categorical\n",
      "2022-01-13 09:29:49,896 24744 genes overlap with model after filtering\n",
      "2022-01-13 09:29:49,896 1407 genes missing from dataset after filtering\n"
     ]
    },
    {
     "name": "stdout",
     "output_type": "stream",
     "text": [
      "snRNAseq gbm brca\n"
     ]
    },
    {
     "name": "stderr",
     "output_type": "stream",
     "text": [
      "/data/estorrs/miniconda3/envs/pollock_new/lib/python3.8/site-packages/anndata/_core/anndata.py:1228: FutureWarning: The `inplace` parameter in pandas.Categorical.reorder_categories is deprecated and will be removed in a future version. Reordering categories will always return a new Categorical object.\n",
      "  c.reorder_categories(natsorted(c.categories), inplace=True)\n",
      "... storing 'predicted_cell_type' as categorical\n",
      "2022-01-13 09:30:09,512 25009 genes overlap with model after filtering\n",
      "2022-01-13 09:30:09,513 1142 genes missing from dataset after filtering\n"
     ]
    },
    {
     "name": "stdout",
     "output_type": "stream",
     "text": [
      "snRNAseq gbm gbm\n"
     ]
    },
    {
     "name": "stderr",
     "output_type": "stream",
     "text": [
      "/data/estorrs/miniconda3/envs/pollock_new/lib/python3.8/site-packages/anndata/_core/anndata.py:1228: FutureWarning: The `inplace` parameter in pandas.Categorical.reorder_categories is deprecated and will be removed in a future version. Reordering categories will always return a new Categorical object.\n",
      "  c.reorder_categories(natsorted(c.categories), inplace=True)\n",
      "... storing 'predicted_cell_type' as categorical\n"
     ]
    },
    {
     "name": "stdout",
     "output_type": "stream",
     "text": [
      "snATACseq brca brca\n"
     ]
    },
    {
     "name": "stderr",
     "output_type": "stream",
     "text": [
      "2022-01-13 09:30:39,009 19699 genes overlap with model after filtering\n",
      "2022-01-13 09:30:39,010 17 genes missing from dataset after filtering\n",
      "/data/estorrs/miniconda3/envs/pollock_new/lib/python3.8/site-packages/anndata/_core/anndata.py:1228: FutureWarning: The `inplace` parameter in pandas.Categorical.reorder_categories is deprecated and will be removed in a future version. Reordering categories will always return a new Categorical object.\n",
      "  c.reorder_categories(natsorted(c.categories), inplace=True)\n",
      "... storing 'predicted_cell_type' as categorical\n",
      "2022-01-13 09:31:08,954 19652 genes overlap with model after filtering\n",
      "2022-01-13 09:31:08,955 64 genes missing from dataset after filtering\n"
     ]
    },
    {
     "name": "stdout",
     "output_type": "stream",
     "text": [
      "snATACseq brca ccrcc\n"
     ]
    },
    {
     "name": "stderr",
     "output_type": "stream",
     "text": [
      "/data/estorrs/miniconda3/envs/pollock_new/lib/python3.8/site-packages/anndata/_core/anndata.py:1228: FutureWarning: The `inplace` parameter in pandas.Categorical.reorder_categories is deprecated and will be removed in a future version. Reordering categories will always return a new Categorical object.\n",
      "  c.reorder_categories(natsorted(c.categories), inplace=True)\n",
      "... storing 'predicted_cell_type' as categorical\n"
     ]
    },
    {
     "name": "stdout",
     "output_type": "stream",
     "text": [
      "snATACseq brca gbm\n"
     ]
    },
    {
     "name": "stderr",
     "output_type": "stream",
     "text": [
      "2022-01-13 09:31:31,727 19678 genes overlap with model after filtering\n",
      "2022-01-13 09:31:31,728 38 genes missing from dataset after filtering\n",
      "/data/estorrs/miniconda3/envs/pollock_new/lib/python3.8/site-packages/anndata/_core/anndata.py:1228: FutureWarning: The `inplace` parameter in pandas.Categorical.reorder_categories is deprecated and will be removed in a future version. Reordering categories will always return a new Categorical object.\n",
      "  c.reorder_categories(natsorted(c.categories), inplace=True)\n",
      "... storing 'predicted_cell_type' as categorical\n"
     ]
    },
    {
     "name": "stdout",
     "output_type": "stream",
     "text": [
      "snATACseq ccrcc brca\n"
     ]
    },
    {
     "name": "stderr",
     "output_type": "stream",
     "text": [
      "2022-01-13 09:31:55,133 19664 genes overlap with model after filtering\n",
      "2022-01-13 09:31:55,134 53 genes missing from dataset after filtering\n",
      "/data/estorrs/miniconda3/envs/pollock_new/lib/python3.8/site-packages/anndata/_core/anndata.py:1228: FutureWarning: The `inplace` parameter in pandas.Categorical.reorder_categories is deprecated and will be removed in a future version. Reordering categories will always return a new Categorical object.\n",
      "  c.reorder_categories(natsorted(c.categories), inplace=True)\n",
      "... storing 'predicted_cell_type' as categorical\n",
      "2022-01-13 09:32:24,552 19677 genes overlap with model after filtering\n",
      "2022-01-13 09:32:24,553 40 genes missing from dataset after filtering\n"
     ]
    },
    {
     "name": "stdout",
     "output_type": "stream",
     "text": [
      "snATACseq ccrcc ccrcc\n"
     ]
    },
    {
     "name": "stderr",
     "output_type": "stream",
     "text": [
      "/data/estorrs/miniconda3/envs/pollock_new/lib/python3.8/site-packages/anndata/_core/anndata.py:1228: FutureWarning: The `inplace` parameter in pandas.Categorical.reorder_categories is deprecated and will be removed in a future version. Reordering categories will always return a new Categorical object.\n",
      "  c.reorder_categories(natsorted(c.categories), inplace=True)\n",
      "... storing 'predicted_cell_type' as categorical\n",
      "2022-01-13 09:32:47,854 19667 genes overlap with model after filtering\n",
      "2022-01-13 09:32:47,855 50 genes missing from dataset after filtering\n"
     ]
    },
    {
     "name": "stdout",
     "output_type": "stream",
     "text": [
      "snATACseq ccrcc gbm\n"
     ]
    },
    {
     "name": "stderr",
     "output_type": "stream",
     "text": [
      "/data/estorrs/miniconda3/envs/pollock_new/lib/python3.8/site-packages/anndata/_core/anndata.py:1228: FutureWarning: The `inplace` parameter in pandas.Categorical.reorder_categories is deprecated and will be removed in a future version. Reordering categories will always return a new Categorical object.\n",
      "  c.reorder_categories(natsorted(c.categories), inplace=True)\n",
      "... storing 'predicted_cell_type' as categorical\n"
     ]
    },
    {
     "name": "stdout",
     "output_type": "stream",
     "text": [
      "snATACseq gbm brca\n"
     ]
    },
    {
     "name": "stderr",
     "output_type": "stream",
     "text": [
      "2022-01-13 09:33:10,374 19689 genes overlap with model after filtering\n",
      "2022-01-13 09:33:10,375 39 genes missing from dataset after filtering\n",
      "/data/estorrs/miniconda3/envs/pollock_new/lib/python3.8/site-packages/anndata/_core/anndata.py:1228: FutureWarning: The `inplace` parameter in pandas.Categorical.reorder_categories is deprecated and will be removed in a future version. Reordering categories will always return a new Categorical object.\n",
      "  c.reorder_categories(natsorted(c.categories), inplace=True)\n",
      "... storing 'predicted_cell_type' as categorical\n",
      "2022-01-13 09:33:40,713 19666 genes overlap with model after filtering\n",
      "2022-01-13 09:33:40,713 62 genes missing from dataset after filtering\n"
     ]
    },
    {
     "name": "stdout",
     "output_type": "stream",
     "text": [
      "snATACseq gbm ccrcc\n"
     ]
    },
    {
     "name": "stderr",
     "output_type": "stream",
     "text": [
      "/data/estorrs/miniconda3/envs/pollock_new/lib/python3.8/site-packages/anndata/_core/anndata.py:1228: FutureWarning: The `inplace` parameter in pandas.Categorical.reorder_categories is deprecated and will be removed in a future version. Reordering categories will always return a new Categorical object.\n",
      "  c.reorder_categories(natsorted(c.categories), inplace=True)\n",
      "... storing 'predicted_cell_type' as categorical\n"
     ]
    },
    {
     "name": "stdout",
     "output_type": "stream",
     "text": [
      "snATACseq gbm gbm\n"
     ]
    },
    {
     "name": "stderr",
     "output_type": "stream",
     "text": [
      "2022-01-13 09:34:03,516 19698 genes overlap with model after filtering\n",
      "2022-01-13 09:34:03,516 30 genes missing from dataset after filtering\n",
      "/data/estorrs/miniconda3/envs/pollock_new/lib/python3.8/site-packages/anndata/_core/anndata.py:1228: FutureWarning: The `inplace` parameter in pandas.Categorical.reorder_categories is deprecated and will be removed in a future version. Reordering categories will always return a new Categorical object.\n",
      "  c.reorder_categories(natsorted(c.categories), inplace=True)\n",
      "... storing 'predicted_cell_type' as categorical\n",
      "2022-01-13 09:34:26,856 21146 genes overlap with model after filtering\n",
      "2022-01-13 09:34:26,857 703 genes missing from dataset after filtering\n"
     ]
    },
    {
     "name": "stdout",
     "output_type": "stream",
     "text": [
      "scRNAseq cesc cesc\n"
     ]
    },
    {
     "name": "stderr",
     "output_type": "stream",
     "text": [
      "/data/estorrs/miniconda3/envs/pollock_new/lib/python3.8/site-packages/anndata/_core/anndata.py:1228: FutureWarning: The `inplace` parameter in pandas.Categorical.reorder_categories is deprecated and will be removed in a future version. Reordering categories will always return a new Categorical object.\n",
      "  c.reorder_categories(natsorted(c.categories), inplace=True)\n",
      "... storing 'predicted_cell_type' as categorical\n",
      "2022-01-13 09:34:42,809 16059 genes overlap with model after filtering\n",
      "2022-01-13 09:34:42,810 5790 genes missing from dataset after filtering\n"
     ]
    },
    {
     "name": "stdout",
     "output_type": "stream",
     "text": [
      "scRNAseq cesc myeloma\n"
     ]
    },
    {
     "name": "stderr",
     "output_type": "stream",
     "text": [
      "/data/estorrs/miniconda3/envs/pollock_new/lib/python3.8/site-packages/anndata/_core/anndata.py:1228: FutureWarning: The `inplace` parameter in pandas.Categorical.reorder_categories is deprecated and will be removed in a future version. Reordering categories will always return a new Categorical object.\n",
      "  c.reorder_categories(natsorted(c.categories), inplace=True)\n",
      "... storing 'predicted_cell_type' as categorical\n",
      "2022-01-13 09:35:08,896 20837 genes overlap with model after filtering\n",
      "2022-01-13 09:35:08,897 1012 genes missing from dataset after filtering\n"
     ]
    },
    {
     "name": "stdout",
     "output_type": "stream",
     "text": [
      "scRNAseq cesc brca\n"
     ]
    },
    {
     "name": "stderr",
     "output_type": "stream",
     "text": [
      "/data/estorrs/miniconda3/envs/pollock_new/lib/python3.8/site-packages/anndata/_core/anndata.py:1228: FutureWarning: The `inplace` parameter in pandas.Categorical.reorder_categories is deprecated and will be removed in a future version. Reordering categories will always return a new Categorical object.\n",
      "  c.reorder_categories(natsorted(c.categories), inplace=True)\n",
      "... storing 'predicted_cell_type' as categorical\n",
      "2022-01-13 09:35:28,664 20880 genes overlap with model after filtering\n",
      "2022-01-13 09:35:28,665 969 genes missing from dataset after filtering\n"
     ]
    },
    {
     "name": "stdout",
     "output_type": "stream",
     "text": [
      "scRNAseq cesc hnscc\n"
     ]
    },
    {
     "name": "stderr",
     "output_type": "stream",
     "text": [
      "/data/estorrs/miniconda3/envs/pollock_new/lib/python3.8/site-packages/anndata/_core/anndata.py:1228: FutureWarning: The `inplace` parameter in pandas.Categorical.reorder_categories is deprecated and will be removed in a future version. Reordering categories will always return a new Categorical object.\n",
      "  c.reorder_categories(natsorted(c.categories), inplace=True)\n",
      "... storing 'predicted_cell_type' as categorical\n"
     ]
    },
    {
     "name": "stdout",
     "output_type": "stream",
     "text": [
      "scRNAseq cesc pdac\n"
     ]
    },
    {
     "name": "stderr",
     "output_type": "stream",
     "text": [
      "2022-01-13 09:35:48,380 21297 genes overlap with model after filtering\n",
      "2022-01-13 09:35:48,381 552 genes missing from dataset after filtering\n",
      "/data/estorrs/miniconda3/envs/pollock_new/lib/python3.8/site-packages/anndata/_core/anndata.py:1228: FutureWarning: The `inplace` parameter in pandas.Categorical.reorder_categories is deprecated and will be removed in a future version. Reordering categories will always return a new Categorical object.\n",
      "  c.reorder_categories(natsorted(c.categories), inplace=True)\n",
      "... storing 'predicted_cell_type' as categorical\n",
      "2022-01-13 09:36:13,844 17922 genes overlap with model after filtering\n",
      "2022-01-13 09:36:13,845 3927 genes missing from dataset after filtering\n"
     ]
    },
    {
     "name": "stdout",
     "output_type": "stream",
     "text": [
      "scRNAseq cesc melanoma\n"
     ]
    },
    {
     "name": "stderr",
     "output_type": "stream",
     "text": [
      "/data/estorrs/miniconda3/envs/pollock_new/lib/python3.8/site-packages/anndata/_core/anndata.py:1228: FutureWarning: The `inplace` parameter in pandas.Categorical.reorder_categories is deprecated and will be removed in a future version. Reordering categories will always return a new Categorical object.\n",
      "  c.reorder_categories(natsorted(c.categories), inplace=True)\n",
      "... storing 'predicted_cell_type' as categorical\n",
      "2022-01-13 09:36:42,961 16162 genes overlap with model after filtering\n",
      "2022-01-13 09:36:42,962 3861 genes missing from dataset after filtering\n"
     ]
    },
    {
     "name": "stdout",
     "output_type": "stream",
     "text": [
      "scRNAseq myeloma cesc\n"
     ]
    },
    {
     "name": "stderr",
     "output_type": "stream",
     "text": [
      "/data/estorrs/miniconda3/envs/pollock_new/lib/python3.8/site-packages/anndata/_core/anndata.py:1228: FutureWarning: The `inplace` parameter in pandas.Categorical.reorder_categories is deprecated and will be removed in a future version. Reordering categories will always return a new Categorical object.\n",
      "  c.reorder_categories(natsorted(c.categories), inplace=True)\n",
      "... storing 'predicted_cell_type' as categorical\n",
      "2022-01-13 09:36:59,929 18733 genes overlap with model after filtering\n",
      "2022-01-13 09:36:59,930 1290 genes missing from dataset after filtering\n"
     ]
    },
    {
     "name": "stdout",
     "output_type": "stream",
     "text": [
      "scRNAseq myeloma myeloma\n"
     ]
    },
    {
     "name": "stderr",
     "output_type": "stream",
     "text": [
      "/data/estorrs/miniconda3/envs/pollock_new/lib/python3.8/site-packages/anndata/_core/anndata.py:1228: FutureWarning: The `inplace` parameter in pandas.Categorical.reorder_categories is deprecated and will be removed in a future version. Reordering categories will always return a new Categorical object.\n",
      "  c.reorder_categories(natsorted(c.categories), inplace=True)\n",
      "... storing 'predicted_cell_type' as categorical\n",
      "2022-01-13 09:37:25,412 16452 genes overlap with model after filtering\n",
      "2022-01-13 09:37:25,413 3571 genes missing from dataset after filtering\n"
     ]
    },
    {
     "name": "stdout",
     "output_type": "stream",
     "text": [
      "scRNAseq myeloma brca\n"
     ]
    },
    {
     "name": "stderr",
     "output_type": "stream",
     "text": [
      "/data/estorrs/miniconda3/envs/pollock_new/lib/python3.8/site-packages/anndata/_core/anndata.py:1228: FutureWarning: The `inplace` parameter in pandas.Categorical.reorder_categories is deprecated and will be removed in a future version. Reordering categories will always return a new Categorical object.\n",
      "  c.reorder_categories(natsorted(c.categories), inplace=True)\n",
      "... storing 'predicted_cell_type' as categorical\n",
      "2022-01-13 09:37:45,091 16448 genes overlap with model after filtering\n",
      "2022-01-13 09:37:45,092 3575 genes missing from dataset after filtering\n"
     ]
    },
    {
     "name": "stdout",
     "output_type": "stream",
     "text": [
      "scRNAseq myeloma hnscc\n"
     ]
    },
    {
     "name": "stderr",
     "output_type": "stream",
     "text": [
      "/data/estorrs/miniconda3/envs/pollock_new/lib/python3.8/site-packages/anndata/_core/anndata.py:1228: FutureWarning: The `inplace` parameter in pandas.Categorical.reorder_categories is deprecated and will be removed in a future version. Reordering categories will always return a new Categorical object.\n",
      "  c.reorder_categories(natsorted(c.categories), inplace=True)\n",
      "... storing 'predicted_cell_type' as categorical\n"
     ]
    },
    {
     "name": "stdout",
     "output_type": "stream",
     "text": [
      "scRNAseq myeloma pdac\n"
     ]
    },
    {
     "name": "stderr",
     "output_type": "stream",
     "text": [
      "2022-01-13 09:38:04,911 16546 genes overlap with model after filtering\n",
      "2022-01-13 09:38:04,912 3477 genes missing from dataset after filtering\n",
      "/data/estorrs/miniconda3/envs/pollock_new/lib/python3.8/site-packages/anndata/_core/anndata.py:1228: FutureWarning: The `inplace` parameter in pandas.Categorical.reorder_categories is deprecated and will be removed in a future version. Reordering categories will always return a new Categorical object.\n",
      "  c.reorder_categories(natsorted(c.categories), inplace=True)\n",
      "... storing 'predicted_cell_type' as categorical\n",
      "2022-01-13 09:38:32,005 15407 genes overlap with model after filtering\n",
      "2022-01-13 09:38:32,006 4616 genes missing from dataset after filtering\n"
     ]
    },
    {
     "name": "stdout",
     "output_type": "stream",
     "text": [
      "scRNAseq myeloma melanoma\n"
     ]
    },
    {
     "name": "stderr",
     "output_type": "stream",
     "text": [
      "/data/estorrs/miniconda3/envs/pollock_new/lib/python3.8/site-packages/anndata/_core/anndata.py:1228: FutureWarning: The `inplace` parameter in pandas.Categorical.reorder_categories is deprecated and will be removed in a future version. Reordering categories will always return a new Categorical object.\n",
      "  c.reorder_categories(natsorted(c.categories), inplace=True)\n",
      "... storing 'predicted_cell_type' as categorical\n",
      "2022-01-13 09:39:00,406 20766 genes overlap with model after filtering\n",
      "2022-01-13 09:39:00,407 2787 genes missing from dataset after filtering\n"
     ]
    },
    {
     "name": "stdout",
     "output_type": "stream",
     "text": [
      "scRNAseq brca cesc\n"
     ]
    },
    {
     "name": "stderr",
     "output_type": "stream",
     "text": [
      "/data/estorrs/miniconda3/envs/pollock_new/lib/python3.8/site-packages/anndata/_core/anndata.py:1228: FutureWarning: The `inplace` parameter in pandas.Categorical.reorder_categories is deprecated and will be removed in a future version. Reordering categories will always return a new Categorical object.\n",
      "  c.reorder_categories(natsorted(c.categories), inplace=True)\n",
      "... storing 'predicted_cell_type' as categorical\n",
      "2022-01-13 09:39:16,921 16314 genes overlap with model after filtering\n",
      "2022-01-13 09:39:16,921 7239 genes missing from dataset after filtering\n"
     ]
    },
    {
     "name": "stdout",
     "output_type": "stream",
     "text": [
      "scRNAseq brca myeloma\n"
     ]
    },
    {
     "name": "stderr",
     "output_type": "stream",
     "text": [
      "/data/estorrs/miniconda3/envs/pollock_new/lib/python3.8/site-packages/anndata/_core/anndata.py:1228: FutureWarning: The `inplace` parameter in pandas.Categorical.reorder_categories is deprecated and will be removed in a future version. Reordering categories will always return a new Categorical object.\n",
      "  c.reorder_categories(natsorted(c.categories), inplace=True)\n",
      "... storing 'predicted_cell_type' as categorical\n",
      "2022-01-13 09:39:42,373 22285 genes overlap with model after filtering\n",
      "2022-01-13 09:39:42,374 1268 genes missing from dataset after filtering\n"
     ]
    },
    {
     "name": "stdout",
     "output_type": "stream",
     "text": [
      "scRNAseq brca brca\n"
     ]
    },
    {
     "name": "stderr",
     "output_type": "stream",
     "text": [
      "/data/estorrs/miniconda3/envs/pollock_new/lib/python3.8/site-packages/anndata/_core/anndata.py:1228: FutureWarning: The `inplace` parameter in pandas.Categorical.reorder_categories is deprecated and will be removed in a future version. Reordering categories will always return a new Categorical object.\n",
      "  c.reorder_categories(natsorted(c.categories), inplace=True)\n",
      "... storing 'predicted_cell_type' as categorical\n",
      "2022-01-13 09:40:03,888 21719 genes overlap with model after filtering\n",
      "2022-01-13 09:40:03,888 1834 genes missing from dataset after filtering\n"
     ]
    },
    {
     "name": "stdout",
     "output_type": "stream",
     "text": [
      "scRNAseq brca hnscc\n"
     ]
    },
    {
     "name": "stderr",
     "output_type": "stream",
     "text": [
      "/data/estorrs/miniconda3/envs/pollock_new/lib/python3.8/site-packages/anndata/_core/anndata.py:1228: FutureWarning: The `inplace` parameter in pandas.Categorical.reorder_categories is deprecated and will be removed in a future version. Reordering categories will always return a new Categorical object.\n",
      "  c.reorder_categories(natsorted(c.categories), inplace=True)\n",
      "... storing 'predicted_cell_type' as categorical\n"
     ]
    },
    {
     "name": "stdout",
     "output_type": "stream",
     "text": [
      "scRNAseq brca pdac\n"
     ]
    },
    {
     "name": "stderr",
     "output_type": "stream",
     "text": [
      "2022-01-13 09:40:22,946 22690 genes overlap with model after filtering\n",
      "2022-01-13 09:40:22,947 863 genes missing from dataset after filtering\n",
      "/data/estorrs/miniconda3/envs/pollock_new/lib/python3.8/site-packages/anndata/_core/anndata.py:1228: FutureWarning: The `inplace` parameter in pandas.Categorical.reorder_categories is deprecated and will be removed in a future version. Reordering categories will always return a new Categorical object.\n",
      "  c.reorder_categories(natsorted(c.categories), inplace=True)\n",
      "... storing 'predicted_cell_type' as categorical\n",
      "2022-01-13 09:40:48,817 18471 genes overlap with model after filtering\n",
      "2022-01-13 09:40:48,818 5082 genes missing from dataset after filtering\n"
     ]
    },
    {
     "name": "stdout",
     "output_type": "stream",
     "text": [
      "scRNAseq brca melanoma\n"
     ]
    },
    {
     "name": "stderr",
     "output_type": "stream",
     "text": [
      "/data/estorrs/miniconda3/envs/pollock_new/lib/python3.8/site-packages/anndata/_core/anndata.py:1228: FutureWarning: The `inplace` parameter in pandas.Categorical.reorder_categories is deprecated and will be removed in a future version. Reordering categories will always return a new Categorical object.\n",
      "  c.reorder_categories(natsorted(c.categories), inplace=True)\n",
      "... storing 'predicted_cell_type' as categorical\n",
      "2022-01-13 09:41:16,764 20762 genes overlap with model after filtering\n",
      "2022-01-13 09:41:16,765 2161 genes missing from dataset after filtering\n"
     ]
    },
    {
     "name": "stdout",
     "output_type": "stream",
     "text": [
      "scRNAseq hnscc cesc\n"
     ]
    },
    {
     "name": "stderr",
     "output_type": "stream",
     "text": [
      "/data/estorrs/miniconda3/envs/pollock_new/lib/python3.8/site-packages/anndata/_core/anndata.py:1228: FutureWarning: The `inplace` parameter in pandas.Categorical.reorder_categories is deprecated and will be removed in a future version. Reordering categories will always return a new Categorical object.\n",
      "  c.reorder_categories(natsorted(c.categories), inplace=True)\n",
      "... storing 'predicted_cell_type' as categorical\n",
      "2022-01-13 09:41:34,367 16282 genes overlap with model after filtering\n",
      "2022-01-13 09:41:34,367 6641 genes missing from dataset after filtering\n"
     ]
    },
    {
     "name": "stdout",
     "output_type": "stream",
     "text": [
      "scRNAseq hnscc myeloma\n"
     ]
    },
    {
     "name": "stderr",
     "output_type": "stream",
     "text": [
      "/data/estorrs/miniconda3/envs/pollock_new/lib/python3.8/site-packages/anndata/_core/anndata.py:1228: FutureWarning: The `inplace` parameter in pandas.Categorical.reorder_categories is deprecated and will be removed in a future version. Reordering categories will always return a new Categorical object.\n",
      "  c.reorder_categories(natsorted(c.categories), inplace=True)\n",
      "... storing 'predicted_cell_type' as categorical\n",
      "2022-01-13 09:42:00,825 21641 genes overlap with model after filtering\n",
      "2022-01-13 09:42:00,826 1282 genes missing from dataset after filtering\n"
     ]
    },
    {
     "name": "stdout",
     "output_type": "stream",
     "text": [
      "scRNAseq hnscc brca\n"
     ]
    },
    {
     "name": "stderr",
     "output_type": "stream",
     "text": [
      "/data/estorrs/miniconda3/envs/pollock_new/lib/python3.8/site-packages/anndata/_core/anndata.py:1228: FutureWarning: The `inplace` parameter in pandas.Categorical.reorder_categories is deprecated and will be removed in a future version. Reordering categories will always return a new Categorical object.\n",
      "  c.reorder_categories(natsorted(c.categories), inplace=True)\n",
      "... storing 'predicted_cell_type' as categorical\n",
      "2022-01-13 09:42:20,868 21915 genes overlap with model after filtering\n",
      "2022-01-13 09:42:20,869 1008 genes missing from dataset after filtering\n"
     ]
    },
    {
     "name": "stdout",
     "output_type": "stream",
     "text": [
      "scRNAseq hnscc hnscc\n"
     ]
    },
    {
     "name": "stderr",
     "output_type": "stream",
     "text": [
      "/data/estorrs/miniconda3/envs/pollock_new/lib/python3.8/site-packages/anndata/_core/anndata.py:1228: FutureWarning: The `inplace` parameter in pandas.Categorical.reorder_categories is deprecated and will be removed in a future version. Reordering categories will always return a new Categorical object.\n",
      "  c.reorder_categories(natsorted(c.categories), inplace=True)\n",
      "... storing 'predicted_cell_type' as categorical\n"
     ]
    },
    {
     "name": "stdout",
     "output_type": "stream",
     "text": [
      "scRNAseq hnscc pdac\n"
     ]
    },
    {
     "name": "stderr",
     "output_type": "stream",
     "text": [
      "2022-01-13 09:42:38,967 22148 genes overlap with model after filtering\n",
      "2022-01-13 09:42:38,968 775 genes missing from dataset after filtering\n",
      "/data/estorrs/miniconda3/envs/pollock_new/lib/python3.8/site-packages/anndata/_core/anndata.py:1228: FutureWarning: The `inplace` parameter in pandas.Categorical.reorder_categories is deprecated and will be removed in a future version. Reordering categories will always return a new Categorical object.\n",
      "  c.reorder_categories(natsorted(c.categories), inplace=True)\n",
      "... storing 'predicted_cell_type' as categorical\n",
      "2022-01-13 09:43:07,607 18375 genes overlap with model after filtering\n",
      "2022-01-13 09:43:07,608 4548 genes missing from dataset after filtering\n"
     ]
    },
    {
     "name": "stdout",
     "output_type": "stream",
     "text": [
      "scRNAseq hnscc melanoma\n"
     ]
    },
    {
     "name": "stderr",
     "output_type": "stream",
     "text": [
      "/data/estorrs/miniconda3/envs/pollock_new/lib/python3.8/site-packages/anndata/_core/anndata.py:1228: FutureWarning: The `inplace` parameter in pandas.Categorical.reorder_categories is deprecated and will be removed in a future version. Reordering categories will always return a new Categorical object.\n",
      "  c.reorder_categories(natsorted(c.categories), inplace=True)\n",
      "... storing 'predicted_cell_type' as categorical\n",
      "2022-01-13 09:43:36,316 21169 genes overlap with model after filtering\n",
      "2022-01-13 09:43:36,317 3850 genes missing from dataset after filtering\n"
     ]
    },
    {
     "name": "stdout",
     "output_type": "stream",
     "text": [
      "scRNAseq pdac cesc\n"
     ]
    },
    {
     "name": "stderr",
     "output_type": "stream",
     "text": [
      "/data/estorrs/miniconda3/envs/pollock_new/lib/python3.8/site-packages/anndata/_core/anndata.py:1228: FutureWarning: The `inplace` parameter in pandas.Categorical.reorder_categories is deprecated and will be removed in a future version. Reordering categories will always return a new Categorical object.\n",
      "  c.reorder_categories(natsorted(c.categories), inplace=True)\n",
      "... storing 'predicted_cell_type' as categorical\n",
      "2022-01-13 09:43:53,852 16401 genes overlap with model after filtering\n",
      "2022-01-13 09:43:53,853 8618 genes missing from dataset after filtering\n"
     ]
    },
    {
     "name": "stdout",
     "output_type": "stream",
     "text": [
      "scRNAseq pdac myeloma\n"
     ]
    },
    {
     "name": "stderr",
     "output_type": "stream",
     "text": [
      "/data/estorrs/miniconda3/envs/pollock_new/lib/python3.8/site-packages/anndata/_core/anndata.py:1228: FutureWarning: The `inplace` parameter in pandas.Categorical.reorder_categories is deprecated and will be removed in a future version. Reordering categories will always return a new Categorical object.\n",
      "  c.reorder_categories(natsorted(c.categories), inplace=True)\n",
      "... storing 'predicted_cell_type' as categorical\n",
      "2022-01-13 09:44:19,257 22661 genes overlap with model after filtering\n",
      "2022-01-13 09:44:19,258 2358 genes missing from dataset after filtering\n"
     ]
    },
    {
     "name": "stdout",
     "output_type": "stream",
     "text": [
      "scRNAseq pdac brca\n"
     ]
    },
    {
     "name": "stderr",
     "output_type": "stream",
     "text": [
      "/data/estorrs/miniconda3/envs/pollock_new/lib/python3.8/site-packages/anndata/_core/anndata.py:1228: FutureWarning: The `inplace` parameter in pandas.Categorical.reorder_categories is deprecated and will be removed in a future version. Reordering categories will always return a new Categorical object.\n",
      "  c.reorder_categories(natsorted(c.categories), inplace=True)\n",
      "... storing 'predicted_cell_type' as categorical\n",
      "2022-01-13 09:44:40,235 22141 genes overlap with model after filtering\n",
      "2022-01-13 09:44:40,236 2878 genes missing from dataset after filtering\n"
     ]
    },
    {
     "name": "stdout",
     "output_type": "stream",
     "text": [
      "scRNAseq pdac hnscc\n"
     ]
    },
    {
     "name": "stderr",
     "output_type": "stream",
     "text": [
      "/data/estorrs/miniconda3/envs/pollock_new/lib/python3.8/site-packages/anndata/_core/anndata.py:1228: FutureWarning: The `inplace` parameter in pandas.Categorical.reorder_categories is deprecated and will be removed in a future version. Reordering categories will always return a new Categorical object.\n",
      "  c.reorder_categories(natsorted(c.categories), inplace=True)\n",
      "... storing 'predicted_cell_type' as categorical\n"
     ]
    },
    {
     "name": "stdout",
     "output_type": "stream",
     "text": [
      "scRNAseq pdac pdac\n"
     ]
    },
    {
     "name": "stderr",
     "output_type": "stream",
     "text": [
      "2022-01-13 09:44:59,606 23831 genes overlap with model after filtering\n",
      "2022-01-13 09:44:59,606 1188 genes missing from dataset after filtering\n",
      "/data/estorrs/miniconda3/envs/pollock_new/lib/python3.8/site-packages/anndata/_core/anndata.py:1228: FutureWarning: The `inplace` parameter in pandas.Categorical.reorder_categories is deprecated and will be removed in a future version. Reordering categories will always return a new Categorical object.\n",
      "  c.reorder_categories(natsorted(c.categories), inplace=True)\n",
      "... storing 'predicted_cell_type' as categorical\n",
      "2022-01-13 09:45:26,716 18673 genes overlap with model after filtering\n",
      "2022-01-13 09:45:26,716 6346 genes missing from dataset after filtering\n"
     ]
    },
    {
     "name": "stdout",
     "output_type": "stream",
     "text": [
      "scRNAseq pdac melanoma\n"
     ]
    },
    {
     "name": "stderr",
     "output_type": "stream",
     "text": [
      "/data/estorrs/miniconda3/envs/pollock_new/lib/python3.8/site-packages/anndata/_core/anndata.py:1228: FutureWarning: The `inplace` parameter in pandas.Categorical.reorder_categories is deprecated and will be removed in a future version. Reordering categories will always return a new Categorical object.\n",
      "  c.reorder_categories(natsorted(c.categories), inplace=True)\n",
      "... storing 'predicted_cell_type' as categorical\n",
      "2022-01-13 09:45:56,059 18112 genes overlap with model after filtering\n",
      "2022-01-13 09:45:56,060 2492 genes missing from dataset after filtering\n"
     ]
    },
    {
     "name": "stdout",
     "output_type": "stream",
     "text": [
      "scRNAseq melanoma cesc\n"
     ]
    },
    {
     "name": "stderr",
     "output_type": "stream",
     "text": [
      "/data/estorrs/miniconda3/envs/pollock_new/lib/python3.8/site-packages/anndata/_core/anndata.py:1228: FutureWarning: The `inplace` parameter in pandas.Categorical.reorder_categories is deprecated and will be removed in a future version. Reordering categories will always return a new Categorical object.\n",
      "  c.reorder_categories(natsorted(c.categories), inplace=True)\n",
      "... storing 'predicted_cell_type' as categorical\n",
      "2022-01-13 09:46:12,621 15417 genes overlap with model after filtering\n",
      "2022-01-13 09:46:12,622 5187 genes missing from dataset after filtering\n"
     ]
    },
    {
     "name": "stdout",
     "output_type": "stream",
     "text": [
      "scRNAseq melanoma myeloma\n"
     ]
    },
    {
     "name": "stderr",
     "output_type": "stream",
     "text": [
      "/data/estorrs/miniconda3/envs/pollock_new/lib/python3.8/site-packages/anndata/_core/anndata.py:1228: FutureWarning: The `inplace` parameter in pandas.Categorical.reorder_categories is deprecated and will be removed in a future version. Reordering categories will always return a new Categorical object.\n",
      "  c.reorder_categories(natsorted(c.categories), inplace=True)\n",
      "... storing 'predicted_cell_type' as categorical\n",
      "2022-01-13 09:46:38,592 18727 genes overlap with model after filtering\n",
      "2022-01-13 09:46:38,593 1877 genes missing from dataset after filtering\n"
     ]
    },
    {
     "name": "stdout",
     "output_type": "stream",
     "text": [
      "scRNAseq melanoma brca\n"
     ]
    },
    {
     "name": "stderr",
     "output_type": "stream",
     "text": [
      "/data/estorrs/miniconda3/envs/pollock_new/lib/python3.8/site-packages/anndata/_core/anndata.py:1228: FutureWarning: The `inplace` parameter in pandas.Categorical.reorder_categories is deprecated and will be removed in a future version. Reordering categories will always return a new Categorical object.\n",
      "  c.reorder_categories(natsorted(c.categories), inplace=True)\n",
      "... storing 'predicted_cell_type' as categorical\n",
      "2022-01-13 09:47:00,025 18671 genes overlap with model after filtering\n",
      "2022-01-13 09:47:00,025 1933 genes missing from dataset after filtering\n"
     ]
    },
    {
     "name": "stdout",
     "output_type": "stream",
     "text": [
      "scRNAseq melanoma hnscc\n"
     ]
    },
    {
     "name": "stderr",
     "output_type": "stream",
     "text": [
      "/data/estorrs/miniconda3/envs/pollock_new/lib/python3.8/site-packages/anndata/_core/anndata.py:1228: FutureWarning: The `inplace` parameter in pandas.Categorical.reorder_categories is deprecated and will be removed in a future version. Reordering categories will always return a new Categorical object.\n",
      "  c.reorder_categories(natsorted(c.categories), inplace=True)\n",
      "... storing 'predicted_cell_type' as categorical\n"
     ]
    },
    {
     "name": "stdout",
     "output_type": "stream",
     "text": [
      "scRNAseq melanoma pdac\n"
     ]
    },
    {
     "name": "stderr",
     "output_type": "stream",
     "text": [
      "2022-01-13 09:47:20,194 19022 genes overlap with model after filtering\n",
      "2022-01-13 09:47:20,195 1582 genes missing from dataset after filtering\n",
      "/data/estorrs/miniconda3/envs/pollock_new/lib/python3.8/site-packages/anndata/_core/anndata.py:1228: FutureWarning: The `inplace` parameter in pandas.Categorical.reorder_categories is deprecated and will be removed in a future version. Reordering categories will always return a new Categorical object.\n",
      "  c.reorder_categories(natsorted(c.categories), inplace=True)\n",
      "... storing 'predicted_cell_type' as categorical\n",
      "2022-01-13 09:47:46,240 19219 genes overlap with model after filtering\n",
      "2022-01-13 09:47:46,240 1385 genes missing from dataset after filtering\n"
     ]
    },
    {
     "name": "stdout",
     "output_type": "stream",
     "text": [
      "scRNAseq melanoma melanoma\n"
     ]
    },
    {
     "name": "stderr",
     "output_type": "stream",
     "text": [
      "/data/estorrs/miniconda3/envs/pollock_new/lib/python3.8/site-packages/anndata/_core/anndata.py:1228: FutureWarning: The `inplace` parameter in pandas.Categorical.reorder_categories is deprecated and will be removed in a future version. Reordering categories will always return a new Categorical object.\n",
      "  c.reorder_categories(natsorted(c.categories), inplace=True)\n",
      "... storing 'predicted_cell_type' as categorical\n"
     ]
    }
   ],
   "source": [
    "for dtype, d1 in fmap.items():\n",
    "    for disease, d2 in d1.items():\n",
    "        model = utils.load_model(os.path.join(module_dir, f'{dtype}_{disease}'))\n",
    "        \n",
    "        for disease_2, disease_2_d in d1.items():\n",
    "            print(dtype, disease, disease_2)\n",
    "            val = sc.read_h5ad(disease_2_d['val'])\n",
    "            adata = utils.predict_adata(model, val)\n",
    "            adata.write_h5ad(os.path.join(result_dir, 'cross_disease', f'{dtype}_{disease}_{disease_2}.h5ad'))"
   ]
  },
  {
   "cell_type": "markdown",
   "id": "9a9bedda",
   "metadata": {},
   "source": [
    "generalized"
   ]
  },
  {
   "cell_type": "code",
   "execution_count": 22,
   "id": "8180c273",
   "metadata": {
    "scrolled": true
   },
   "outputs": [
    {
     "name": "stdout",
     "output_type": "stream",
     "text": [
      "snRNAseq ccrcc\n"
     ]
    },
    {
     "name": "stderr",
     "output_type": "stream",
     "text": [
      "2022-01-19 09:59:03,352 25451 genes overlap with model after filtering\n",
      "2022-01-19 09:59:03,353 2299 genes missing from dataset after filtering\n",
      "2022-01-19 09:59:05,429 starting prediction of 4518 cells\n",
      "/data/estorrs/miniconda3/envs/pollock_new/lib/python3.8/site-packages/anndata/_core/anndata.py:1228: FutureWarning: The `inplace` parameter in pandas.Categorical.reorder_categories is deprecated and will be removed in a future version. Reordering categories will always return a new Categorical object.\n",
      "  c.reorder_categories(natsorted(c.categories), inplace=True)\n",
      "... storing 'predicted_cell_type' as categorical\n"
     ]
    },
    {
     "name": "stdout",
     "output_type": "stream",
     "text": [
      "snRNAseq brca\n"
     ]
    },
    {
     "name": "stderr",
     "output_type": "stream",
     "text": [
      "2022-01-19 09:59:23,367 25884 genes overlap with model after filtering\n",
      "2022-01-19 09:59:23,368 1866 genes missing from dataset after filtering\n",
      "2022-01-19 09:59:25,567 starting prediction of 4893 cells\n",
      "/data/estorrs/miniconda3/envs/pollock_new/lib/python3.8/site-packages/anndata/_core/anndata.py:1228: FutureWarning: The `inplace` parameter in pandas.Categorical.reorder_categories is deprecated and will be removed in a future version. Reordering categories will always return a new Categorical object.\n",
      "  c.reorder_categories(natsorted(c.categories), inplace=True)\n",
      "... storing 'predicted_cell_type' as categorical\n"
     ]
    },
    {
     "name": "stdout",
     "output_type": "stream",
     "text": [
      "snRNAseq gbm\n"
     ]
    },
    {
     "name": "stderr",
     "output_type": "stream",
     "text": [
      "2022-01-19 09:59:42,905 25685 genes overlap with model after filtering\n",
      "2022-01-19 09:59:42,906 2065 genes missing from dataset after filtering\n",
      "2022-01-19 09:59:44,577 starting prediction of 3577 cells\n",
      "/data/estorrs/miniconda3/envs/pollock_new/lib/python3.8/site-packages/anndata/_core/anndata.py:1228: FutureWarning: The `inplace` parameter in pandas.Categorical.reorder_categories is deprecated and will be removed in a future version. Reordering categories will always return a new Categorical object.\n",
      "  c.reorder_categories(natsorted(c.categories), inplace=True)\n",
      "... storing 'predicted_cell_type' as categorical\n"
     ]
    },
    {
     "name": "stdout",
     "output_type": "stream",
     "text": [
      "snATACseq brca\n"
     ]
    },
    {
     "name": "stderr",
     "output_type": "stream",
     "text": [
      "2022-01-19 10:00:18,551 19714 genes overlap with model after filtering\n",
      "2022-01-19 10:00:18,552 48 genes missing from dataset after filtering\n",
      "2022-01-19 10:00:21,312 starting prediction of 3519 cells\n",
      "/data/estorrs/miniconda3/envs/pollock_new/lib/python3.8/site-packages/anndata/_core/anndata.py:1228: FutureWarning: The `inplace` parameter in pandas.Categorical.reorder_categories is deprecated and will be removed in a future version. Reordering categories will always return a new Categorical object.\n",
      "  c.reorder_categories(natsorted(c.categories), inplace=True)\n",
      "... storing 'predicted_cell_type' as categorical\n"
     ]
    },
    {
     "name": "stdout",
     "output_type": "stream",
     "text": [
      "snATACseq ccrcc\n"
     ]
    },
    {
     "name": "stderr",
     "output_type": "stream",
     "text": [
      "2022-01-19 10:00:48,533 19676 genes overlap with model after filtering\n",
      "2022-01-19 10:00:48,534 86 genes missing from dataset after filtering\n",
      "2022-01-19 10:00:50,441 starting prediction of 3000 cells\n",
      "/data/estorrs/miniconda3/envs/pollock_new/lib/python3.8/site-packages/anndata/_core/anndata.py:1228: FutureWarning: The `inplace` parameter in pandas.Categorical.reorder_categories is deprecated and will be removed in a future version. Reordering categories will always return a new Categorical object.\n",
      "  c.reorder_categories(natsorted(c.categories), inplace=True)\n",
      "... storing 'predicted_cell_type' as categorical\n"
     ]
    },
    {
     "name": "stdout",
     "output_type": "stream",
     "text": [
      "snATACseq gbm\n"
     ]
    },
    {
     "name": "stderr",
     "output_type": "stream",
     "text": [
      "2022-01-19 10:01:12,548 19713 genes overlap with model after filtering\n",
      "2022-01-19 10:01:12,548 49 genes missing from dataset after filtering\n",
      "2022-01-19 10:01:14,659 starting prediction of 2876 cells\n",
      "/data/estorrs/miniconda3/envs/pollock_new/lib/python3.8/site-packages/anndata/_core/anndata.py:1228: FutureWarning: The `inplace` parameter in pandas.Categorical.reorder_categories is deprecated and will be removed in a future version. Reordering categories will always return a new Categorical object.\n",
      "  c.reorder_categories(natsorted(c.categories), inplace=True)\n",
      "... storing 'predicted_cell_type' as categorical\n"
     ]
    },
    {
     "name": "stdout",
     "output_type": "stream",
     "text": [
      "scRNAseq cesc\n"
     ]
    },
    {
     "name": "stderr",
     "output_type": "stream",
     "text": [
      "2022-01-19 10:01:36,015 17302 genes overlap with model after filtering\n",
      "2022-01-19 10:01:36,016 236 genes missing from dataset after filtering\n",
      "2022-01-19 10:01:37,504 starting prediction of 4276 cells\n",
      "/data/estorrs/miniconda3/envs/pollock_new/lib/python3.8/site-packages/anndata/_core/anndata.py:1228: FutureWarning: The `inplace` parameter in pandas.Categorical.reorder_categories is deprecated and will be removed in a future version. Reordering categories will always return a new Categorical object.\n",
      "  c.reorder_categories(natsorted(c.categories), inplace=True)\n",
      "... storing 'predicted_cell_type' as categorical\n"
     ]
    },
    {
     "name": "stdout",
     "output_type": "stream",
     "text": [
      "scRNAseq myeloma\n"
     ]
    },
    {
     "name": "stderr",
     "output_type": "stream",
     "text": [
      "2022-01-19 10:01:51,982 15469 genes overlap with model after filtering\n",
      "2022-01-19 10:01:51,983 2069 genes missing from dataset after filtering\n",
      "2022-01-19 10:01:52,934 starting prediction of 3312 cells\n",
      "/data/estorrs/miniconda3/envs/pollock_new/lib/python3.8/site-packages/anndata/_core/anndata.py:1228: FutureWarning: The `inplace` parameter in pandas.Categorical.reorder_categories is deprecated and will be removed in a future version. Reordering categories will always return a new Categorical object.\n",
      "  c.reorder_categories(natsorted(c.categories), inplace=True)\n",
      "... storing 'predicted_cell_type' as categorical\n"
     ]
    },
    {
     "name": "stdout",
     "output_type": "stream",
     "text": [
      "scRNAseq brca\n"
     ]
    },
    {
     "name": "stderr",
     "output_type": "stream",
     "text": [
      "2022-01-19 10:02:17,800 17383 genes overlap with model after filtering\n",
      "2022-01-19 10:02:17,801 155 genes missing from dataset after filtering\n",
      "2022-01-19 10:02:19,713 starting prediction of 5748 cells\n",
      "/data/estorrs/miniconda3/envs/pollock_new/lib/python3.8/site-packages/anndata/_core/anndata.py:1228: FutureWarning: The `inplace` parameter in pandas.Categorical.reorder_categories is deprecated and will be removed in a future version. Reordering categories will always return a new Categorical object.\n",
      "  c.reorder_categories(natsorted(c.categories), inplace=True)\n",
      "... storing 'predicted_cell_type' as categorical\n"
     ]
    },
    {
     "name": "stdout",
     "output_type": "stream",
     "text": [
      "scRNAseq hnscc\n"
     ]
    },
    {
     "name": "stderr",
     "output_type": "stream",
     "text": [
      "2022-01-19 10:02:39,810 17373 genes overlap with model after filtering\n",
      "2022-01-19 10:02:39,812 165 genes missing from dataset after filtering\n",
      "2022-01-19 10:02:41,371 starting prediction of 5201 cells\n",
      "/data/estorrs/miniconda3/envs/pollock_new/lib/python3.8/site-packages/anndata/_core/anndata.py:1228: FutureWarning: The `inplace` parameter in pandas.Categorical.reorder_categories is deprecated and will be removed in a future version. Reordering categories will always return a new Categorical object.\n",
      "  c.reorder_categories(natsorted(c.categories), inplace=True)\n",
      "... storing 'predicted_cell_type' as categorical\n"
     ]
    },
    {
     "name": "stdout",
     "output_type": "stream",
     "text": [
      "scRNAseq pdac\n"
     ]
    },
    {
     "name": "stderr",
     "output_type": "stream",
     "text": [
      "2022-01-19 10:02:58,209 17488 genes overlap with model after filtering\n",
      "2022-01-19 10:02:58,210 50 genes missing from dataset after filtering\n",
      "2022-01-19 10:03:00,890 starting prediction of 7823 cells\n",
      "/data/estorrs/miniconda3/envs/pollock_new/lib/python3.8/site-packages/anndata/_core/anndata.py:1228: FutureWarning: The `inplace` parameter in pandas.Categorical.reorder_categories is deprecated and will be removed in a future version. Reordering categories will always return a new Categorical object.\n",
      "  c.reorder_categories(natsorted(c.categories), inplace=True)\n",
      "... storing 'predicted_cell_type' as categorical\n"
     ]
    },
    {
     "name": "stdout",
     "output_type": "stream",
     "text": [
      "scRNAseq melanoma\n"
     ]
    },
    {
     "name": "stderr",
     "output_type": "stream",
     "text": [
      "2022-01-19 10:03:24,054 16748 genes overlap with model after filtering\n",
      "2022-01-19 10:03:24,055 790 genes missing from dataset after filtering\n",
      "2022-01-19 10:03:24,971 starting prediction of 3517 cells\n",
      "/data/estorrs/miniconda3/envs/pollock_new/lib/python3.8/site-packages/anndata/_core/anndata.py:1228: FutureWarning: The `inplace` parameter in pandas.Categorical.reorder_categories is deprecated and will be removed in a future version. Reordering categories will always return a new Categorical object.\n",
      "  c.reorder_categories(natsorted(c.categories), inplace=True)\n",
      "... storing 'predicted_cell_type' as categorical\n"
     ]
    }
   ],
   "source": [
    "for dtype, d1 in fmap.items():\n",
    "    for disease, d2 in d1.items():\n",
    "        print(dtype, disease)\n",
    "        model = utils.load_model(os.path.join(module_dir, f'{dtype}_generalized'))\n",
    "        val = sc.read_h5ad(d2['val'])\n",
    "        adata = utils.predict_adata(model, val)\n",
    "        adata.write_h5ad(os.path.join(result_dir, 'generalized', f'{dtype}_{disease}.h5ad'))"
   ]
  },
  {
   "cell_type": "code",
   "execution_count": 23,
   "id": "8ef75e7e",
   "metadata": {},
   "outputs": [
    {
     "name": "stderr",
     "output_type": "stream",
     "text": [
      "2022-01-19 10:03:55,051 17205 genes overlap with model after filtering\n",
      "2022-01-19 10:03:55,052 333 genes missing from dataset after filtering\n",
      "2022-01-19 10:04:14,013 starting prediction of 69421 cells\n",
      "/data/estorrs/miniconda3/envs/pollock_new/lib/python3.8/site-packages/anndata/_core/anndata.py:1228: FutureWarning: The `inplace` parameter in pandas.Categorical.reorder_categories is deprecated and will be removed in a future version. Reordering categories will always return a new Categorical object.\n",
      "  c.reorder_categories(natsorted(c.categories), inplace=True)\n",
      "... storing 'predicted_cell_type' as categorical\n"
     ]
    }
   ],
   "source": [
    "# hca dataset\n",
    "model = utils.load_model(os.path.join(module_dir, 'scRNAseq_generalized'))\n",
    "val = sc.read_h5ad('/data/pollock/benchmarking/generalized_datasets/scRNAseq_hca.h5ad')\n",
    "adata = utils.predict_adata(model, val)\n",
    "adata.write_h5ad(os.path.join(result_dir, 'generalized', f'scRNAseq_hca.h5ad'))"
   ]
  },
  {
   "cell_type": "markdown",
   "id": "a37b443b",
   "metadata": {},
   "source": [
    "dropout"
   ]
  },
  {
   "cell_type": "code",
   "execution_count": 79,
   "id": "27f47c8f",
   "metadata": {
    "scrolled": true
   },
   "outputs": [
    {
     "data": {
      "text/plain": [
       "['/data/pollock/benchmarking/dropout_datasets/brca_0.00.h5ad',\n",
       " '/data/pollock/benchmarking/dropout_datasets/brca_0.20.h5ad',\n",
       " '/data/pollock/benchmarking/dropout_datasets/brca_0.40.h5ad',\n",
       " '/data/pollock/benchmarking/dropout_datasets/brca_0.60.h5ad',\n",
       " '/data/pollock/benchmarking/dropout_datasets/brca_0.80.h5ad',\n",
       " '/data/pollock/benchmarking/dropout_datasets/brca_0.90.h5ad',\n",
       " '/data/pollock/benchmarking/dropout_datasets/brca_0.95.h5ad',\n",
       " '/data/pollock/benchmarking/dropout_datasets/cesc_0.00.h5ad',\n",
       " '/data/pollock/benchmarking/dropout_datasets/cesc_0.20.h5ad',\n",
       " '/data/pollock/benchmarking/dropout_datasets/cesc_0.40.h5ad',\n",
       " '/data/pollock/benchmarking/dropout_datasets/cesc_0.60.h5ad',\n",
       " '/data/pollock/benchmarking/dropout_datasets/cesc_0.80.h5ad',\n",
       " '/data/pollock/benchmarking/dropout_datasets/cesc_0.90.h5ad',\n",
       " '/data/pollock/benchmarking/dropout_datasets/cesc_0.95.h5ad',\n",
       " '/data/pollock/benchmarking/dropout_datasets/hnscc_0.00.h5ad',\n",
       " '/data/pollock/benchmarking/dropout_datasets/hnscc_0.20.h5ad',\n",
       " '/data/pollock/benchmarking/dropout_datasets/hnscc_0.40.h5ad',\n",
       " '/data/pollock/benchmarking/dropout_datasets/hnscc_0.60.h5ad',\n",
       " '/data/pollock/benchmarking/dropout_datasets/hnscc_0.80.h5ad',\n",
       " '/data/pollock/benchmarking/dropout_datasets/hnscc_0.90.h5ad',\n",
       " '/data/pollock/benchmarking/dropout_datasets/hnscc_0.95.h5ad',\n",
       " '/data/pollock/benchmarking/dropout_datasets/melanoma_0.00.h5ad',\n",
       " '/data/pollock/benchmarking/dropout_datasets/melanoma_0.20.h5ad',\n",
       " '/data/pollock/benchmarking/dropout_datasets/melanoma_0.40.h5ad',\n",
       " '/data/pollock/benchmarking/dropout_datasets/melanoma_0.60.h5ad',\n",
       " '/data/pollock/benchmarking/dropout_datasets/melanoma_0.80.h5ad',\n",
       " '/data/pollock/benchmarking/dropout_datasets/melanoma_0.90.h5ad',\n",
       " '/data/pollock/benchmarking/dropout_datasets/melanoma_0.95.h5ad',\n",
       " '/data/pollock/benchmarking/dropout_datasets/myeloma_0.00.h5ad',\n",
       " '/data/pollock/benchmarking/dropout_datasets/myeloma_0.20.h5ad',\n",
       " '/data/pollock/benchmarking/dropout_datasets/myeloma_0.40.h5ad',\n",
       " '/data/pollock/benchmarking/dropout_datasets/myeloma_0.60.h5ad',\n",
       " '/data/pollock/benchmarking/dropout_datasets/myeloma_0.80.h5ad',\n",
       " '/data/pollock/benchmarking/dropout_datasets/myeloma_0.90.h5ad',\n",
       " '/data/pollock/benchmarking/dropout_datasets/myeloma_0.95.h5ad',\n",
       " '/data/pollock/benchmarking/dropout_datasets/pdac_0.00.h5ad',\n",
       " '/data/pollock/benchmarking/dropout_datasets/pdac_0.20.h5ad',\n",
       " '/data/pollock/benchmarking/dropout_datasets/pdac_0.40.h5ad',\n",
       " '/data/pollock/benchmarking/dropout_datasets/pdac_0.60.h5ad',\n",
       " '/data/pollock/benchmarking/dropout_datasets/pdac_0.80.h5ad',\n",
       " '/data/pollock/benchmarking/dropout_datasets/pdac_0.90.h5ad',\n",
       " '/data/pollock/benchmarking/dropout_datasets/pdac_0.95.h5ad']"
      ]
     },
     "execution_count": 79,
     "metadata": {},
     "output_type": "execute_result"
    }
   ],
   "source": [
    "fps = sorted(utils.listfiles('/data/pollock/benchmarking/dropout_datasets/'))\n",
    "fps"
   ]
  },
  {
   "cell_type": "code",
   "execution_count": 80,
   "id": "2f00861e",
   "metadata": {
    "scrolled": true
   },
   "outputs": [
    {
     "name": "stdout",
     "output_type": "stream",
     "text": [
      "brca 0.00\n"
     ]
    },
    {
     "name": "stderr",
     "output_type": "stream",
     "text": [
      "2022-01-13 11:36:27,992 22285 genes overlap with model after filtering\n",
      "2022-01-13 11:36:27,993 1268 genes missing from dataset after filtering\n",
      "2022-01-13 11:36:29,992 starting prediction of 5748 cells\n",
      "/data/estorrs/miniconda3/envs/pollock_new/lib/python3.8/site-packages/anndata/_core/anndata.py:1228: FutureWarning: The `inplace` parameter in pandas.Categorical.reorder_categories is deprecated and will be removed in a future version. Reordering categories will always return a new Categorical object.\n",
      "  c.reorder_categories(natsorted(c.categories), inplace=True)\n",
      "... storing 'predicted_cell_type' as categorical\n"
     ]
    },
    {
     "name": "stdout",
     "output_type": "stream",
     "text": [
      "brca 0.20\n"
     ]
    },
    {
     "name": "stderr",
     "output_type": "stream",
     "text": [
      "2022-01-13 11:36:50,125 22005 genes overlap with model after filtering\n",
      "2022-01-13 11:36:50,126 1548 genes missing from dataset after filtering\n",
      "2022-01-13 11:36:52,020 starting prediction of 5748 cells\n",
      "/data/estorrs/miniconda3/envs/pollock_new/lib/python3.8/site-packages/anndata/_core/anndata.py:1228: FutureWarning: The `inplace` parameter in pandas.Categorical.reorder_categories is deprecated and will be removed in a future version. Reordering categories will always return a new Categorical object.\n",
      "  c.reorder_categories(natsorted(c.categories), inplace=True)\n",
      "... storing 'predicted_cell_type' as categorical\n"
     ]
    },
    {
     "name": "stdout",
     "output_type": "stream",
     "text": [
      "brca 0.40\n"
     ]
    },
    {
     "name": "stderr",
     "output_type": "stream",
     "text": [
      "2022-01-13 11:37:09,274 21660 genes overlap with model after filtering\n",
      "2022-01-13 11:37:09,275 1893 genes missing from dataset after filtering\n",
      "2022-01-13 11:37:11,013 starting prediction of 5748 cells\n",
      "/data/estorrs/miniconda3/envs/pollock_new/lib/python3.8/site-packages/anndata/_core/anndata.py:1228: FutureWarning: The `inplace` parameter in pandas.Categorical.reorder_categories is deprecated and will be removed in a future version. Reordering categories will always return a new Categorical object.\n",
      "  c.reorder_categories(natsorted(c.categories), inplace=True)\n",
      "... storing 'predicted_cell_type' as categorical\n"
     ]
    },
    {
     "name": "stdout",
     "output_type": "stream",
     "text": [
      "brca 0.60\n"
     ]
    },
    {
     "name": "stderr",
     "output_type": "stream",
     "text": [
      "2022-01-13 11:37:28,874 20969 genes overlap with model after filtering\n",
      "2022-01-13 11:37:28,875 2584 genes missing from dataset after filtering\n",
      "2022-01-13 11:37:30,382 starting prediction of 5748 cells\n",
      "/data/estorrs/miniconda3/envs/pollock_new/lib/python3.8/site-packages/anndata/_core/anndata.py:1228: FutureWarning: The `inplace` parameter in pandas.Categorical.reorder_categories is deprecated and will be removed in a future version. Reordering categories will always return a new Categorical object.\n",
      "  c.reorder_categories(natsorted(c.categories), inplace=True)\n",
      "... storing 'predicted_cell_type' as categorical\n"
     ]
    },
    {
     "name": "stdout",
     "output_type": "stream",
     "text": [
      "brca 0.80\n"
     ]
    },
    {
     "name": "stderr",
     "output_type": "stream",
     "text": [
      "2022-01-13 11:37:50,437 19689 genes overlap with model after filtering\n",
      "2022-01-13 11:37:50,438 3864 genes missing from dataset after filtering\n",
      "2022-01-13 11:37:51,822 starting prediction of 5748 cells\n",
      "/data/estorrs/miniconda3/envs/pollock_new/lib/python3.8/site-packages/anndata/_core/anndata.py:1228: FutureWarning: The `inplace` parameter in pandas.Categorical.reorder_categories is deprecated and will be removed in a future version. Reordering categories will always return a new Categorical object.\n",
      "  c.reorder_categories(natsorted(c.categories), inplace=True)\n",
      "... storing 'predicted_cell_type' as categorical\n"
     ]
    },
    {
     "name": "stdout",
     "output_type": "stream",
     "text": [
      "brca 0.90\n"
     ]
    },
    {
     "name": "stderr",
     "output_type": "stream",
     "text": [
      "2022-01-13 11:38:09,603 18200 genes overlap with model after filtering\n",
      "2022-01-13 11:38:09,604 5353 genes missing from dataset after filtering\n",
      "2022-01-13 11:38:10,983 starting prediction of 5748 cells\n",
      "/data/estorrs/miniconda3/envs/pollock_new/lib/python3.8/site-packages/anndata/_core/anndata.py:1228: FutureWarning: The `inplace` parameter in pandas.Categorical.reorder_categories is deprecated and will be removed in a future version. Reordering categories will always return a new Categorical object.\n",
      "  c.reorder_categories(natsorted(c.categories), inplace=True)\n",
      "... storing 'predicted_cell_type' as categorical\n"
     ]
    },
    {
     "name": "stdout",
     "output_type": "stream",
     "text": [
      "brca 0.95\n"
     ]
    },
    {
     "name": "stderr",
     "output_type": "stream",
     "text": [
      "2022-01-13 11:38:30,367 16527 genes overlap with model after filtering\n",
      "2022-01-13 11:38:30,367 7026 genes missing from dataset after filtering\n",
      "2022-01-13 11:38:31,829 starting prediction of 5748 cells\n",
      "/data/estorrs/miniconda3/envs/pollock_new/lib/python3.8/site-packages/anndata/_core/anndata.py:1228: FutureWarning: The `inplace` parameter in pandas.Categorical.reorder_categories is deprecated and will be removed in a future version. Reordering categories will always return a new Categorical object.\n",
      "  c.reorder_categories(natsorted(c.categories), inplace=True)\n",
      "... storing 'predicted_cell_type' as categorical\n"
     ]
    },
    {
     "name": "stdout",
     "output_type": "stream",
     "text": [
      "cesc 0.00\n"
     ]
    },
    {
     "name": "stderr",
     "output_type": "stream",
     "text": [
      "2022-01-13 11:38:49,056 21146 genes overlap with model after filtering\n",
      "2022-01-13 11:38:49,056 703 genes missing from dataset after filtering\n",
      "2022-01-13 11:38:50,624 starting prediction of 4276 cells\n",
      "/data/estorrs/miniconda3/envs/pollock_new/lib/python3.8/site-packages/anndata/_core/anndata.py:1228: FutureWarning: The `inplace` parameter in pandas.Categorical.reorder_categories is deprecated and will be removed in a future version. Reordering categories will always return a new Categorical object.\n",
      "  c.reorder_categories(natsorted(c.categories), inplace=True)\n",
      "... storing 'predicted_cell_type' as categorical\n"
     ]
    },
    {
     "name": "stdout",
     "output_type": "stream",
     "text": [
      "cesc 0.20\n"
     ]
    },
    {
     "name": "stderr",
     "output_type": "stream",
     "text": [
      "2022-01-13 11:39:06,994 20956 genes overlap with model after filtering\n",
      "2022-01-13 11:39:06,995 893 genes missing from dataset after filtering\n",
      "2022-01-13 11:39:08,460 starting prediction of 4276 cells\n",
      "/data/estorrs/miniconda3/envs/pollock_new/lib/python3.8/site-packages/anndata/_core/anndata.py:1228: FutureWarning: The `inplace` parameter in pandas.Categorical.reorder_categories is deprecated and will be removed in a future version. Reordering categories will always return a new Categorical object.\n",
      "  c.reorder_categories(natsorted(c.categories), inplace=True)\n",
      "... storing 'predicted_cell_type' as categorical\n"
     ]
    },
    {
     "name": "stdout",
     "output_type": "stream",
     "text": [
      "cesc 0.40\n"
     ]
    },
    {
     "name": "stderr",
     "output_type": "stream",
     "text": [
      "2022-01-13 11:39:24,211 20686 genes overlap with model after filtering\n",
      "2022-01-13 11:39:24,212 1163 genes missing from dataset after filtering\n",
      "2022-01-13 11:39:25,476 starting prediction of 4276 cells\n",
      "/data/estorrs/miniconda3/envs/pollock_new/lib/python3.8/site-packages/anndata/_core/anndata.py:1228: FutureWarning: The `inplace` parameter in pandas.Categorical.reorder_categories is deprecated and will be removed in a future version. Reordering categories will always return a new Categorical object.\n",
      "  c.reorder_categories(natsorted(c.categories), inplace=True)\n",
      "... storing 'predicted_cell_type' as categorical\n"
     ]
    },
    {
     "name": "stdout",
     "output_type": "stream",
     "text": [
      "cesc 0.60\n"
     ]
    },
    {
     "name": "stderr",
     "output_type": "stream",
     "text": [
      "2022-01-13 11:39:40,006 20143 genes overlap with model after filtering\n",
      "2022-01-13 11:39:40,007 1706 genes missing from dataset after filtering\n",
      "2022-01-13 11:39:41,105 starting prediction of 4276 cells\n",
      "/data/estorrs/miniconda3/envs/pollock_new/lib/python3.8/site-packages/anndata/_core/anndata.py:1228: FutureWarning: The `inplace` parameter in pandas.Categorical.reorder_categories is deprecated and will be removed in a future version. Reordering categories will always return a new Categorical object.\n",
      "  c.reorder_categories(natsorted(c.categories), inplace=True)\n",
      "... storing 'predicted_cell_type' as categorical\n"
     ]
    },
    {
     "name": "stdout",
     "output_type": "stream",
     "text": [
      "cesc 0.80\n"
     ]
    },
    {
     "name": "stderr",
     "output_type": "stream",
     "text": [
      "2022-01-13 11:39:57,385 19124 genes overlap with model after filtering\n",
      "2022-01-13 11:39:57,386 2725 genes missing from dataset after filtering\n",
      "2022-01-13 11:39:58,395 starting prediction of 4276 cells\n",
      "/data/estorrs/miniconda3/envs/pollock_new/lib/python3.8/site-packages/anndata/_core/anndata.py:1228: FutureWarning: The `inplace` parameter in pandas.Categorical.reorder_categories is deprecated and will be removed in a future version. Reordering categories will always return a new Categorical object.\n",
      "  c.reorder_categories(natsorted(c.categories), inplace=True)\n",
      "... storing 'predicted_cell_type' as categorical\n"
     ]
    },
    {
     "name": "stdout",
     "output_type": "stream",
     "text": [
      "cesc 0.90\n"
     ]
    },
    {
     "name": "stderr",
     "output_type": "stream",
     "text": [
      "2022-01-13 11:40:13,229 17895 genes overlap with model after filtering\n",
      "2022-01-13 11:40:13,230 3954 genes missing from dataset after filtering\n",
      "2022-01-13 11:40:14,185 starting prediction of 4276 cells\n",
      "/data/estorrs/miniconda3/envs/pollock_new/lib/python3.8/site-packages/anndata/_core/anndata.py:1228: FutureWarning: The `inplace` parameter in pandas.Categorical.reorder_categories is deprecated and will be removed in a future version. Reordering categories will always return a new Categorical object.\n",
      "  c.reorder_categories(natsorted(c.categories), inplace=True)\n",
      "... storing 'predicted_cell_type' as categorical\n"
     ]
    },
    {
     "name": "stdout",
     "output_type": "stream",
     "text": [
      "cesc 0.95\n"
     ]
    },
    {
     "name": "stderr",
     "output_type": "stream",
     "text": [
      "2022-01-13 11:40:29,125 16547 genes overlap with model after filtering\n",
      "2022-01-13 11:40:29,126 5302 genes missing from dataset after filtering\n",
      "2022-01-13 11:40:30,099 starting prediction of 4276 cells\n",
      "/data/estorrs/miniconda3/envs/pollock_new/lib/python3.8/site-packages/anndata/_core/anndata.py:1228: FutureWarning: The `inplace` parameter in pandas.Categorical.reorder_categories is deprecated and will be removed in a future version. Reordering categories will always return a new Categorical object.\n",
      "  c.reorder_categories(natsorted(c.categories), inplace=True)\n",
      "... storing 'predicted_cell_type' as categorical\n"
     ]
    },
    {
     "name": "stdout",
     "output_type": "stream",
     "text": [
      "hnscc 0.00\n"
     ]
    },
    {
     "name": "stderr",
     "output_type": "stream",
     "text": [
      "2022-01-13 11:40:44,872 21915 genes overlap with model after filtering\n",
      "2022-01-13 11:40:44,873 1008 genes missing from dataset after filtering\n",
      "2022-01-13 11:40:46,684 starting prediction of 5201 cells\n",
      "/data/estorrs/miniconda3/envs/pollock_new/lib/python3.8/site-packages/anndata/_core/anndata.py:1228: FutureWarning: The `inplace` parameter in pandas.Categorical.reorder_categories is deprecated and will be removed in a future version. Reordering categories will always return a new Categorical object.\n",
      "  c.reorder_categories(natsorted(c.categories), inplace=True)\n",
      "... storing 'predicted_cell_type' as categorical\n"
     ]
    },
    {
     "name": "stdout",
     "output_type": "stream",
     "text": [
      "hnscc 0.20\n"
     ]
    },
    {
     "name": "stderr",
     "output_type": "stream",
     "text": [
      "2022-01-13 11:41:04,589 21683 genes overlap with model after filtering\n",
      "2022-01-13 11:41:04,590 1240 genes missing from dataset after filtering\n",
      "2022-01-13 11:41:06,240 starting prediction of 5201 cells\n",
      "/data/estorrs/miniconda3/envs/pollock_new/lib/python3.8/site-packages/anndata/_core/anndata.py:1228: FutureWarning: The `inplace` parameter in pandas.Categorical.reorder_categories is deprecated and will be removed in a future version. Reordering categories will always return a new Categorical object.\n",
      "  c.reorder_categories(natsorted(c.categories), inplace=True)\n",
      "... storing 'predicted_cell_type' as categorical\n"
     ]
    },
    {
     "name": "stdout",
     "output_type": "stream",
     "text": [
      "hnscc 0.40\n"
     ]
    },
    {
     "name": "stderr",
     "output_type": "stream",
     "text": [
      "2022-01-13 11:41:23,479 21390 genes overlap with model after filtering\n",
      "2022-01-13 11:41:23,480 1533 genes missing from dataset after filtering\n",
      "2022-01-13 11:41:24,954 starting prediction of 5201 cells\n",
      "/data/estorrs/miniconda3/envs/pollock_new/lib/python3.8/site-packages/anndata/_core/anndata.py:1228: FutureWarning: The `inplace` parameter in pandas.Categorical.reorder_categories is deprecated and will be removed in a future version. Reordering categories will always return a new Categorical object.\n",
      "  c.reorder_categories(natsorted(c.categories), inplace=True)\n",
      "... storing 'predicted_cell_type' as categorical\n"
     ]
    },
    {
     "name": "stdout",
     "output_type": "stream",
     "text": [
      "hnscc 0.60\n"
     ]
    },
    {
     "name": "stderr",
     "output_type": "stream",
     "text": [
      "2022-01-13 11:41:42,299 20807 genes overlap with model after filtering\n",
      "2022-01-13 11:41:42,300 2116 genes missing from dataset after filtering\n",
      "2022-01-13 11:41:43,688 starting prediction of 5201 cells\n",
      "/data/estorrs/miniconda3/envs/pollock_new/lib/python3.8/site-packages/anndata/_core/anndata.py:1228: FutureWarning: The `inplace` parameter in pandas.Categorical.reorder_categories is deprecated and will be removed in a future version. Reordering categories will always return a new Categorical object.\n",
      "  c.reorder_categories(natsorted(c.categories), inplace=True)\n",
      "... storing 'predicted_cell_type' as categorical\n"
     ]
    },
    {
     "name": "stdout",
     "output_type": "stream",
     "text": [
      "hnscc 0.80\n"
     ]
    },
    {
     "name": "stderr",
     "output_type": "stream",
     "text": [
      "2022-01-13 11:42:01,803 19604 genes overlap with model after filtering\n",
      "2022-01-13 11:42:01,804 3319 genes missing from dataset after filtering\n",
      "2022-01-13 11:42:03,066 starting prediction of 5201 cells\n",
      "/data/estorrs/miniconda3/envs/pollock_new/lib/python3.8/site-packages/anndata/_core/anndata.py:1228: FutureWarning: The `inplace` parameter in pandas.Categorical.reorder_categories is deprecated and will be removed in a future version. Reordering categories will always return a new Categorical object.\n",
      "  c.reorder_categories(natsorted(c.categories), inplace=True)\n",
      "... storing 'predicted_cell_type' as categorical\n"
     ]
    },
    {
     "name": "stdout",
     "output_type": "stream",
     "text": [
      "hnscc 0.90\n"
     ]
    },
    {
     "name": "stderr",
     "output_type": "stream",
     "text": [
      "2022-01-13 11:42:20,313 18206 genes overlap with model after filtering\n",
      "2022-01-13 11:42:20,314 4717 genes missing from dataset after filtering\n",
      "2022-01-13 11:42:21,472 starting prediction of 5201 cells\n",
      "/data/estorrs/miniconda3/envs/pollock_new/lib/python3.8/site-packages/anndata/_core/anndata.py:1228: FutureWarning: The `inplace` parameter in pandas.Categorical.reorder_categories is deprecated and will be removed in a future version. Reordering categories will always return a new Categorical object.\n",
      "  c.reorder_categories(natsorted(c.categories), inplace=True)\n",
      "... storing 'predicted_cell_type' as categorical\n"
     ]
    },
    {
     "name": "stdout",
     "output_type": "stream",
     "text": [
      "hnscc 0.95\n"
     ]
    },
    {
     "name": "stderr",
     "output_type": "stream",
     "text": [
      "2022-01-13 11:42:39,333 16537 genes overlap with model after filtering\n",
      "2022-01-13 11:42:39,333 6386 genes missing from dataset after filtering\n",
      "2022-01-13 11:42:40,581 starting prediction of 5201 cells\n",
      "/data/estorrs/miniconda3/envs/pollock_new/lib/python3.8/site-packages/anndata/_core/anndata.py:1228: FutureWarning: The `inplace` parameter in pandas.Categorical.reorder_categories is deprecated and will be removed in a future version. Reordering categories will always return a new Categorical object.\n",
      "  c.reorder_categories(natsorted(c.categories), inplace=True)\n",
      "... storing 'predicted_cell_type' as categorical\n"
     ]
    },
    {
     "name": "stdout",
     "output_type": "stream",
     "text": [
      "melanoma 0.00\n"
     ]
    },
    {
     "name": "stderr",
     "output_type": "stream",
     "text": [
      "2022-01-13 11:42:57,564 19219 genes overlap with model after filtering\n",
      "2022-01-13 11:42:57,565 1385 genes missing from dataset after filtering\n",
      "2022-01-13 11:42:58,625 starting prediction of 3517 cells\n",
      "/data/estorrs/miniconda3/envs/pollock_new/lib/python3.8/site-packages/anndata/_core/anndata.py:1228: FutureWarning: The `inplace` parameter in pandas.Categorical.reorder_categories is deprecated and will be removed in a future version. Reordering categories will always return a new Categorical object.\n",
      "  c.reorder_categories(natsorted(c.categories), inplace=True)\n",
      "... storing 'predicted_cell_type' as categorical\n"
     ]
    },
    {
     "name": "stdout",
     "output_type": "stream",
     "text": [
      "melanoma 0.20\n"
     ]
    },
    {
     "name": "stderr",
     "output_type": "stream",
     "text": [
      "2022-01-13 11:43:25,726 18923 genes overlap with model after filtering\n",
      "2022-01-13 11:43:25,727 1681 genes missing from dataset after filtering\n",
      "2022-01-13 11:43:26,681 starting prediction of 3517 cells\n",
      "/data/estorrs/miniconda3/envs/pollock_new/lib/python3.8/site-packages/anndata/_core/anndata.py:1228: FutureWarning: The `inplace` parameter in pandas.Categorical.reorder_categories is deprecated and will be removed in a future version. Reordering categories will always return a new Categorical object.\n",
      "  c.reorder_categories(natsorted(c.categories), inplace=True)\n",
      "... storing 'predicted_cell_type' as categorical\n"
     ]
    },
    {
     "name": "stdout",
     "output_type": "stream",
     "text": [
      "melanoma 0.40\n"
     ]
    },
    {
     "name": "stderr",
     "output_type": "stream",
     "text": [
      "2022-01-13 11:43:54,520 18497 genes overlap with model after filtering\n",
      "2022-01-13 11:43:54,521 2107 genes missing from dataset after filtering\n",
      "2022-01-13 11:43:55,402 starting prediction of 3517 cells\n",
      "/data/estorrs/miniconda3/envs/pollock_new/lib/python3.8/site-packages/anndata/_core/anndata.py:1228: FutureWarning: The `inplace` parameter in pandas.Categorical.reorder_categories is deprecated and will be removed in a future version. Reordering categories will always return a new Categorical object.\n",
      "  c.reorder_categories(natsorted(c.categories), inplace=True)\n",
      "... storing 'predicted_cell_type' as categorical\n"
     ]
    },
    {
     "name": "stdout",
     "output_type": "stream",
     "text": [
      "melanoma 0.60\n"
     ]
    },
    {
     "name": "stderr",
     "output_type": "stream",
     "text": [
      "2022-01-13 11:44:21,993 17796 genes overlap with model after filtering\n",
      "2022-01-13 11:44:21,994 2808 genes missing from dataset after filtering\n",
      "2022-01-13 11:44:22,817 starting prediction of 3517 cells\n",
      "/data/estorrs/miniconda3/envs/pollock_new/lib/python3.8/site-packages/anndata/_core/anndata.py:1228: FutureWarning: The `inplace` parameter in pandas.Categorical.reorder_categories is deprecated and will be removed in a future version. Reordering categories will always return a new Categorical object.\n",
      "  c.reorder_categories(natsorted(c.categories), inplace=True)\n",
      "... storing 'predicted_cell_type' as categorical\n"
     ]
    },
    {
     "name": "stdout",
     "output_type": "stream",
     "text": [
      "melanoma 0.80\n"
     ]
    },
    {
     "name": "stderr",
     "output_type": "stream",
     "text": [
      "2022-01-13 11:44:50,663 16483 genes overlap with model after filtering\n",
      "2022-01-13 11:44:50,664 4121 genes missing from dataset after filtering\n",
      "2022-01-13 11:44:51,412 starting prediction of 3517 cells\n",
      "/data/estorrs/miniconda3/envs/pollock_new/lib/python3.8/site-packages/anndata/_core/anndata.py:1228: FutureWarning: The `inplace` parameter in pandas.Categorical.reorder_categories is deprecated and will be removed in a future version. Reordering categories will always return a new Categorical object.\n",
      "  c.reorder_categories(natsorted(c.categories), inplace=True)\n",
      "... storing 'predicted_cell_type' as categorical\n"
     ]
    },
    {
     "name": "stdout",
     "output_type": "stream",
     "text": [
      "melanoma 0.90\n"
     ]
    },
    {
     "name": "stderr",
     "output_type": "stream",
     "text": [
      "2022-01-13 11:45:18,560 14997 genes overlap with model after filtering\n",
      "2022-01-13 11:45:18,561 5607 genes missing from dataset after filtering\n",
      "2022-01-13 11:45:19,350 starting prediction of 3517 cells\n",
      "/data/estorrs/miniconda3/envs/pollock_new/lib/python3.8/site-packages/anndata/_core/anndata.py:1228: FutureWarning: The `inplace` parameter in pandas.Categorical.reorder_categories is deprecated and will be removed in a future version. Reordering categories will always return a new Categorical object.\n",
      "  c.reorder_categories(natsorted(c.categories), inplace=True)\n",
      "... storing 'predicted_cell_type' as categorical\n"
     ]
    },
    {
     "name": "stdout",
     "output_type": "stream",
     "text": [
      "melanoma 0.95\n"
     ]
    },
    {
     "name": "stderr",
     "output_type": "stream",
     "text": [
      "2022-01-13 11:45:47,104 13395 genes overlap with model after filtering\n",
      "2022-01-13 11:45:47,105 7209 genes missing from dataset after filtering\n",
      "2022-01-13 11:45:47,887 starting prediction of 3517 cells\n",
      "/data/estorrs/miniconda3/envs/pollock_new/lib/python3.8/site-packages/anndata/_core/anndata.py:1228: FutureWarning: The `inplace` parameter in pandas.Categorical.reorder_categories is deprecated and will be removed in a future version. Reordering categories will always return a new Categorical object.\n",
      "  c.reorder_categories(natsorted(c.categories), inplace=True)\n",
      "... storing 'predicted_cell_type' as categorical\n"
     ]
    },
    {
     "name": "stdout",
     "output_type": "stream",
     "text": [
      "myeloma 0.00\n"
     ]
    },
    {
     "name": "stderr",
     "output_type": "stream",
     "text": [
      "2022-01-13 11:46:15,496 18733 genes overlap with model after filtering\n",
      "2022-01-13 11:46:15,497 1290 genes missing from dataset after filtering\n",
      "2022-01-13 11:46:16,498 starting prediction of 3312 cells\n",
      "/data/estorrs/miniconda3/envs/pollock_new/lib/python3.8/site-packages/anndata/_core/anndata.py:1228: FutureWarning: The `inplace` parameter in pandas.Categorical.reorder_categories is deprecated and will be removed in a future version. Reordering categories will always return a new Categorical object.\n",
      "  c.reorder_categories(natsorted(c.categories), inplace=True)\n",
      "... storing 'predicted_cell_type' as categorical\n"
     ]
    },
    {
     "name": "stdout",
     "output_type": "stream",
     "text": [
      "myeloma 0.20\n"
     ]
    },
    {
     "name": "stderr",
     "output_type": "stream",
     "text": [
      "2022-01-13 11:46:41,649 18441 genes overlap with model after filtering\n",
      "2022-01-13 11:46:41,650 1582 genes missing from dataset after filtering\n",
      "2022-01-13 11:46:42,540 starting prediction of 3312 cells\n",
      "/data/estorrs/miniconda3/envs/pollock_new/lib/python3.8/site-packages/anndata/_core/anndata.py:1228: FutureWarning: The `inplace` parameter in pandas.Categorical.reorder_categories is deprecated and will be removed in a future version. Reordering categories will always return a new Categorical object.\n",
      "  c.reorder_categories(natsorted(c.categories), inplace=True)\n",
      "... storing 'predicted_cell_type' as categorical\n"
     ]
    },
    {
     "name": "stdout",
     "output_type": "stream",
     "text": [
      "myeloma 0.40\n"
     ]
    },
    {
     "name": "stderr",
     "output_type": "stream",
     "text": [
      "2022-01-13 11:47:07,436 18059 genes overlap with model after filtering\n",
      "2022-01-13 11:47:07,437 1964 genes missing from dataset after filtering\n",
      "2022-01-13 11:47:08,267 starting prediction of 3312 cells\n",
      "/data/estorrs/miniconda3/envs/pollock_new/lib/python3.8/site-packages/anndata/_core/anndata.py:1228: FutureWarning: The `inplace` parameter in pandas.Categorical.reorder_categories is deprecated and will be removed in a future version. Reordering categories will always return a new Categorical object.\n",
      "  c.reorder_categories(natsorted(c.categories), inplace=True)\n",
      "... storing 'predicted_cell_type' as categorical\n"
     ]
    },
    {
     "name": "stdout",
     "output_type": "stream",
     "text": [
      "myeloma 0.60\n"
     ]
    },
    {
     "name": "stderr",
     "output_type": "stream",
     "text": [
      "2022-01-13 11:47:33,577 17431 genes overlap with model after filtering\n",
      "2022-01-13 11:47:33,578 2592 genes missing from dataset after filtering\n",
      "2022-01-13 11:47:34,360 starting prediction of 3312 cells\n",
      "/data/estorrs/miniconda3/envs/pollock_new/lib/python3.8/site-packages/anndata/_core/anndata.py:1228: FutureWarning: The `inplace` parameter in pandas.Categorical.reorder_categories is deprecated and will be removed in a future version. Reordering categories will always return a new Categorical object.\n",
      "  c.reorder_categories(natsorted(c.categories), inplace=True)\n",
      "... storing 'predicted_cell_type' as categorical\n"
     ]
    },
    {
     "name": "stdout",
     "output_type": "stream",
     "text": [
      "myeloma 0.80\n"
     ]
    },
    {
     "name": "stderr",
     "output_type": "stream",
     "text": [
      "2022-01-13 11:47:59,508 16217 genes overlap with model after filtering\n",
      "2022-01-13 11:47:59,509 3806 genes missing from dataset after filtering\n",
      "2022-01-13 11:48:00,224 starting prediction of 3312 cells\n",
      "/data/estorrs/miniconda3/envs/pollock_new/lib/python3.8/site-packages/anndata/_core/anndata.py:1228: FutureWarning: The `inplace` parameter in pandas.Categorical.reorder_categories is deprecated and will be removed in a future version. Reordering categories will always return a new Categorical object.\n",
      "  c.reorder_categories(natsorted(c.categories), inplace=True)\n",
      "... storing 'predicted_cell_type' as categorical\n"
     ]
    },
    {
     "name": "stdout",
     "output_type": "stream",
     "text": [
      "myeloma 0.90\n"
     ]
    },
    {
     "name": "stderr",
     "output_type": "stream",
     "text": [
      "2022-01-13 11:48:25,413 14878 genes overlap with model after filtering\n",
      "2022-01-13 11:48:25,414 5145 genes missing from dataset after filtering\n",
      "2022-01-13 11:48:26,154 starting prediction of 3312 cells\n",
      "/data/estorrs/miniconda3/envs/pollock_new/lib/python3.8/site-packages/anndata/_core/anndata.py:1228: FutureWarning: The `inplace` parameter in pandas.Categorical.reorder_categories is deprecated and will be removed in a future version. Reordering categories will always return a new Categorical object.\n",
      "  c.reorder_categories(natsorted(c.categories), inplace=True)\n",
      "... storing 'predicted_cell_type' as categorical\n"
     ]
    },
    {
     "name": "stdout",
     "output_type": "stream",
     "text": [
      "myeloma 0.95\n"
     ]
    },
    {
     "name": "stderr",
     "output_type": "stream",
     "text": [
      "2022-01-13 11:48:50,289 13509 genes overlap with model after filtering\n",
      "2022-01-13 11:48:50,290 6514 genes missing from dataset after filtering\n",
      "2022-01-13 11:48:51,001 starting prediction of 3312 cells\n",
      "/data/estorrs/miniconda3/envs/pollock_new/lib/python3.8/site-packages/anndata/_core/anndata.py:1228: FutureWarning: The `inplace` parameter in pandas.Categorical.reorder_categories is deprecated and will be removed in a future version. Reordering categories will always return a new Categorical object.\n",
      "  c.reorder_categories(natsorted(c.categories), inplace=True)\n",
      "... storing 'predicted_cell_type' as categorical\n"
     ]
    },
    {
     "name": "stdout",
     "output_type": "stream",
     "text": [
      "pdac 0.00\n"
     ]
    },
    {
     "name": "stderr",
     "output_type": "stream",
     "text": [
      "2022-01-13 11:49:17,470 23831 genes overlap with model after filtering\n",
      "2022-01-13 11:49:17,471 1188 genes missing from dataset after filtering\n",
      "2022-01-13 11:49:20,630 starting prediction of 7823 cells\n",
      "/data/estorrs/miniconda3/envs/pollock_new/lib/python3.8/site-packages/anndata/_core/anndata.py:1228: FutureWarning: The `inplace` parameter in pandas.Categorical.reorder_categories is deprecated and will be removed in a future version. Reordering categories will always return a new Categorical object.\n",
      "  c.reorder_categories(natsorted(c.categories), inplace=True)\n",
      "... storing 'predicted_cell_type' as categorical\n"
     ]
    },
    {
     "name": "stdout",
     "output_type": "stream",
     "text": [
      "pdac 0.20\n"
     ]
    },
    {
     "name": "stderr",
     "output_type": "stream",
     "text": [
      "2022-01-13 11:49:44,569 23595 genes overlap with model after filtering\n",
      "2022-01-13 11:49:44,569 1424 genes missing from dataset after filtering\n",
      "2022-01-13 11:49:47,176 starting prediction of 7823 cells\n",
      "/data/estorrs/miniconda3/envs/pollock_new/lib/python3.8/site-packages/anndata/_core/anndata.py:1228: FutureWarning: The `inplace` parameter in pandas.Categorical.reorder_categories is deprecated and will be removed in a future version. Reordering categories will always return a new Categorical object.\n",
      "  c.reorder_categories(natsorted(c.categories), inplace=True)\n",
      "... storing 'predicted_cell_type' as categorical\n"
     ]
    },
    {
     "name": "stdout",
     "output_type": "stream",
     "text": [
      "pdac 0.40\n"
     ]
    },
    {
     "name": "stderr",
     "output_type": "stream",
     "text": [
      "2022-01-13 11:50:13,745 23232 genes overlap with model after filtering\n",
      "2022-01-13 11:50:13,745 1787 genes missing from dataset after filtering\n",
      "2022-01-13 11:50:16,150 starting prediction of 7823 cells\n",
      "/data/estorrs/miniconda3/envs/pollock_new/lib/python3.8/site-packages/anndata/_core/anndata.py:1228: FutureWarning: The `inplace` parameter in pandas.Categorical.reorder_categories is deprecated and will be removed in a future version. Reordering categories will always return a new Categorical object.\n",
      "  c.reorder_categories(natsorted(c.categories), inplace=True)\n",
      "... storing 'predicted_cell_type' as categorical\n"
     ]
    },
    {
     "name": "stdout",
     "output_type": "stream",
     "text": [
      "pdac 0.60\n"
     ]
    },
    {
     "name": "stderr",
     "output_type": "stream",
     "text": [
      "2022-01-13 11:50:41,109 22706 genes overlap with model after filtering\n",
      "2022-01-13 11:50:41,109 2313 genes missing from dataset after filtering\n",
      "2022-01-13 11:50:43,267 starting prediction of 7823 cells\n",
      "/data/estorrs/miniconda3/envs/pollock_new/lib/python3.8/site-packages/anndata/_core/anndata.py:1228: FutureWarning: The `inplace` parameter in pandas.Categorical.reorder_categories is deprecated and will be removed in a future version. Reordering categories will always return a new Categorical object.\n",
      "  c.reorder_categories(natsorted(c.categories), inplace=True)\n",
      "... storing 'predicted_cell_type' as categorical\n"
     ]
    },
    {
     "name": "stdout",
     "output_type": "stream",
     "text": [
      "pdac 0.80\n"
     ]
    },
    {
     "name": "stderr",
     "output_type": "stream",
     "text": [
      "2022-01-13 11:51:08,898 21415 genes overlap with model after filtering\n",
      "2022-01-13 11:51:08,899 3604 genes missing from dataset after filtering\n",
      "2022-01-13 11:51:10,859 starting prediction of 7823 cells\n",
      "/data/estorrs/miniconda3/envs/pollock_new/lib/python3.8/site-packages/anndata/_core/anndata.py:1228: FutureWarning: The `inplace` parameter in pandas.Categorical.reorder_categories is deprecated and will be removed in a future version. Reordering categories will always return a new Categorical object.\n",
      "  c.reorder_categories(natsorted(c.categories), inplace=True)\n",
      "... storing 'predicted_cell_type' as categorical\n"
     ]
    },
    {
     "name": "stdout",
     "output_type": "stream",
     "text": [
      "pdac 0.90\n"
     ]
    },
    {
     "name": "stderr",
     "output_type": "stream",
     "text": [
      "2022-01-13 11:51:35,187 19977 genes overlap with model after filtering\n",
      "2022-01-13 11:51:35,188 5042 genes missing from dataset after filtering\n",
      "2022-01-13 11:51:37,096 starting prediction of 7823 cells\n",
      "/data/estorrs/miniconda3/envs/pollock_new/lib/python3.8/site-packages/anndata/_core/anndata.py:1228: FutureWarning: The `inplace` parameter in pandas.Categorical.reorder_categories is deprecated and will be removed in a future version. Reordering categories will always return a new Categorical object.\n",
      "  c.reorder_categories(natsorted(c.categories), inplace=True)\n",
      "... storing 'predicted_cell_type' as categorical\n"
     ]
    },
    {
     "name": "stdout",
     "output_type": "stream",
     "text": [
      "pdac 0.95\n"
     ]
    },
    {
     "name": "stderr",
     "output_type": "stream",
     "text": [
      "2022-01-13 11:52:01,398 18381 genes overlap with model after filtering\n",
      "2022-01-13 11:52:01,399 6638 genes missing from dataset after filtering\n",
      "2022-01-13 11:52:03,364 starting prediction of 7823 cells\n",
      "/data/estorrs/miniconda3/envs/pollock_new/lib/python3.8/site-packages/anndata/_core/anndata.py:1228: FutureWarning: The `inplace` parameter in pandas.Categorical.reorder_categories is deprecated and will be removed in a future version. Reordering categories will always return a new Categorical object.\n",
      "  c.reorder_categories(natsorted(c.categories), inplace=True)\n",
      "... storing 'predicted_cell_type' as categorical\n"
     ]
    }
   ],
   "source": [
    "for fp in fps:\n",
    "    root = fp.split('/')[-1].replace('.h5ad', '')\n",
    "    disease, rate = root.split('_')\n",
    "    print(disease, rate)\n",
    "    model = utils.load_model(os.path.join(module_dir, f'scRNAseq_{disease}'))\n",
    "    val = sc.read_h5ad(fp)\n",
    "    adata = utils.predict_adata(model, val)\n",
    "    adata.write_h5ad(os.path.join(result_dir, 'dropout', f'{disease}_{rate}.h5ad'))"
   ]
  },
  {
   "cell_type": "markdown",
   "id": "d276eedb",
   "metadata": {},
   "source": [
    "panimmune"
   ]
  },
  {
   "cell_type": "code",
   "execution_count": 86,
   "id": "ec9a991e",
   "metadata": {
    "scrolled": true
   },
   "outputs": [
    {
     "name": "stdout",
     "output_type": "stream",
     "text": [
      "cesc\n"
     ]
    },
    {
     "name": "stderr",
     "output_type": "stream",
     "text": [
      "2022-01-13 12:31:59,418 20721 genes overlap with model after filtering\n",
      "2022-01-13 12:31:59,419 3228 genes missing from dataset after filtering\n",
      "2022-01-13 12:32:01,175 starting prediction of 4276 cells\n",
      "/data/estorrs/miniconda3/envs/pollock_new/lib/python3.8/site-packages/anndata/_core/anndata.py:1228: FutureWarning: The `inplace` parameter in pandas.Categorical.reorder_categories is deprecated and will be removed in a future version. Reordering categories will always return a new Categorical object.\n",
      "  c.reorder_categories(natsorted(c.categories), inplace=True)\n",
      "... storing 'predicted_cell_type' as categorical\n"
     ]
    },
    {
     "name": "stdout",
     "output_type": "stream",
     "text": [
      "myeloma\n"
     ]
    },
    {
     "name": "stderr",
     "output_type": "stream",
     "text": [
      "2022-01-13 12:32:17,369 16340 genes overlap with model after filtering\n",
      "2022-01-13 12:32:17,370 7609 genes missing from dataset after filtering\n",
      "2022-01-13 12:32:18,662 starting prediction of 3312 cells\n",
      "/data/estorrs/miniconda3/envs/pollock_new/lib/python3.8/site-packages/anndata/_core/anndata.py:1228: FutureWarning: The `inplace` parameter in pandas.Categorical.reorder_categories is deprecated and will be removed in a future version. Reordering categories will always return a new Categorical object.\n",
      "  c.reorder_categories(natsorted(c.categories), inplace=True)\n",
      "... storing 'predicted_cell_type' as categorical\n"
     ]
    },
    {
     "name": "stdout",
     "output_type": "stream",
     "text": [
      "brca\n"
     ]
    },
    {
     "name": "stderr",
     "output_type": "stream",
     "text": [
      "2022-01-13 12:32:43,381 22433 genes overlap with model after filtering\n",
      "2022-01-13 12:32:43,382 1516 genes missing from dataset after filtering\n",
      "2022-01-13 12:32:45,395 starting prediction of 5748 cells\n",
      "/data/estorrs/miniconda3/envs/pollock_new/lib/python3.8/site-packages/anndata/_core/anndata.py:1228: FutureWarning: The `inplace` parameter in pandas.Categorical.reorder_categories is deprecated and will be removed in a future version. Reordering categories will always return a new Categorical object.\n",
      "  c.reorder_categories(natsorted(c.categories), inplace=True)\n",
      "... storing 'predicted_cell_type' as categorical\n"
     ]
    },
    {
     "name": "stdout",
     "output_type": "stream",
     "text": [
      "hnscc\n"
     ]
    },
    {
     "name": "stderr",
     "output_type": "stream",
     "text": [
      "2022-01-13 12:33:06,093 21699 genes overlap with model after filtering\n",
      "2022-01-13 12:33:06,093 2250 genes missing from dataset after filtering\n",
      "2022-01-13 12:33:07,982 starting prediction of 5201 cells\n",
      "/data/estorrs/miniconda3/envs/pollock_new/lib/python3.8/site-packages/anndata/_core/anndata.py:1228: FutureWarning: The `inplace` parameter in pandas.Categorical.reorder_categories is deprecated and will be removed in a future version. Reordering categories will always return a new Categorical object.\n",
      "  c.reorder_categories(natsorted(c.categories), inplace=True)\n",
      "... storing 'predicted_cell_type' as categorical\n"
     ]
    },
    {
     "name": "stdout",
     "output_type": "stream",
     "text": [
      "pdac\n"
     ]
    },
    {
     "name": "stderr",
     "output_type": "stream",
     "text": [
      "2022-01-13 12:33:24,937 22875 genes overlap with model after filtering\n",
      "2022-01-13 12:33:24,938 1074 genes missing from dataset after filtering\n",
      "2022-01-13 12:33:27,918 starting prediction of 7823 cells\n",
      "/data/estorrs/miniconda3/envs/pollock_new/lib/python3.8/site-packages/anndata/_core/anndata.py:1228: FutureWarning: The `inplace` parameter in pandas.Categorical.reorder_categories is deprecated and will be removed in a future version. Reordering categories will always return a new Categorical object.\n",
      "  c.reorder_categories(natsorted(c.categories), inplace=True)\n",
      "... storing 'predicted_cell_type' as categorical\n"
     ]
    },
    {
     "name": "stdout",
     "output_type": "stream",
     "text": [
      "melanoma\n"
     ]
    },
    {
     "name": "stderr",
     "output_type": "stream",
     "text": [
      "2022-01-13 12:33:54,734 18497 genes overlap with model after filtering\n",
      "2022-01-13 12:33:54,735 5452 genes missing from dataset after filtering\n",
      "2022-01-13 12:33:55,947 starting prediction of 3517 cells\n",
      "/data/estorrs/miniconda3/envs/pollock_new/lib/python3.8/site-packages/anndata/_core/anndata.py:1228: FutureWarning: The `inplace` parameter in pandas.Categorical.reorder_categories is deprecated and will be removed in a future version. Reordering categories will always return a new Categorical object.\n",
      "  c.reorder_categories(natsorted(c.categories), inplace=True)\n",
      "... storing 'predicted_cell_type' as categorical\n"
     ]
    }
   ],
   "source": [
    "for disease, d2 in fmap['scRNAseq'].items():\n",
    "    print(disease)\n",
    "    model = utils.load_model('/data/pollock/panimmune/brca_panimmune')\n",
    "    val = sc.read_h5ad(d2['val'])\n",
    "    adata = utils.predict_adata(model, val)\n",
    "    adata.write_h5ad(f'/data/pollock/panimmune/results/{disease}.h5ad')"
   ]
  },
  {
   "cell_type": "code",
   "execution_count": 26,
   "id": "c779f3bb",
   "metadata": {},
   "outputs": [
    {
     "name": "stderr",
     "output_type": "stream",
     "text": [
      "2022-01-19 10:50:56,739 22507 genes overlap with model after filtering\n",
      "2022-01-19 10:50:56,739 1442 genes missing from dataset after filtering\n",
      "2022-01-19 10:50:59,256 starting prediction of 6303 cells\n",
      "/data/estorrs/miniconda3/envs/pollock_new/lib/python3.8/site-packages/anndata/_core/anndata.py:1228: FutureWarning: The `inplace` parameter in pandas.Categorical.reorder_categories is deprecated and will be removed in a future version. Reordering categories will always return a new Categorical object.\n",
      "  c.reorder_categories(natsorted(c.categories), inplace=True)\n",
      "... storing 'predicted_cell_type' as categorical\n"
     ]
    }
   ],
   "source": [
    "model = utils.load_model('/data/pollock/panimmune/brca_panimmune')\n",
    "val = sc.read_h5ad('/data/pollock/panimmune/data/brca-panimmune_val.h5ad')\n",
    "adata = utils.predict_adata(model, val)\n",
    "adata.write_h5ad(f'/data/pollock/panimmune/results/brca-panimmune_val.h5ad')"
   ]
  },
  {
   "cell_type": "markdown",
   "id": "308e16c2",
   "metadata": {},
   "source": [
    "###### get performance"
   ]
  },
  {
   "cell_type": "code",
   "execution_count": 14,
   "id": "3e7aa006",
   "metadata": {},
   "outputs": [
    {
     "name": "stdout",
     "output_type": "stream",
     "text": [
      "snRNAseq ccrcc fold3\n",
      "snRNAseq ccrcc fold1\n",
      "snRNAseq ccrcc fold2\n",
      "snRNAseq ccrcc fold0\n",
      "snRNAseq ccrcc fold4\n",
      "snRNAseq brca fold2\n",
      "snRNAseq brca fold1\n",
      "snRNAseq brca fold3\n",
      "snRNAseq brca fold0\n",
      "snRNAseq brca fold4\n",
      "snRNAseq gbm fold4\n",
      "snRNAseq gbm fold3\n",
      "snRNAseq gbm fold0\n",
      "snRNAseq gbm fold2\n",
      "snRNAseq gbm fold1\n",
      "snATACseq ccrcc fold3\n",
      "snATACseq ccrcc fold1\n",
      "snATACseq ccrcc fold2\n",
      "snATACseq ccrcc fold0\n",
      "snATACseq ccrcc fold4\n",
      "snATACseq brca fold2\n",
      "snATACseq brca fold1\n",
      "snATACseq brca fold3\n",
      "snATACseq brca fold0\n",
      "snATACseq brca fold4\n",
      "snATACseq gbm fold4\n",
      "snATACseq gbm fold3\n",
      "snATACseq gbm fold0\n",
      "snATACseq gbm fold2\n",
      "snATACseq gbm fold1\n",
      "scRNAseq hnscc fold0\n",
      "scRNAseq hnscc fold4\n",
      "scRNAseq hnscc fold1\n",
      "scRNAseq hnscc fold3\n",
      "scRNAseq hnscc fold2\n",
      "scRNAseq cesc fold4\n",
      "scRNAseq cesc fold3\n",
      "scRNAseq cesc fold2\n",
      "scRNAseq cesc fold0\n",
      "scRNAseq cesc fold1\n",
      "scRNAseq brca fold2\n",
      "scRNAseq brca fold1\n",
      "scRNAseq brca fold3\n",
      "scRNAseq brca fold0\n",
      "scRNAseq brca fold4\n",
      "scRNAseq myeloma fold0\n",
      "scRNAseq myeloma fold1\n"
     ]
    },
    {
     "name": "stderr",
     "output_type": "stream",
     "text": [
      "/data/estorrs/miniconda3/envs/pollock_new/lib/python3.8/site-packages/sklearn/metrics/_classification.py:1318: UndefinedMetricWarning: Precision and F-score are ill-defined and being set to 0.0 in labels with no predicted samples. Use `zero_division` parameter to control this behavior.\n",
      "  _warn_prf(average, modifier, msg_start, len(result))\n",
      "/data/estorrs/miniconda3/envs/pollock_new/lib/python3.8/site-packages/sklearn/metrics/_classification.py:1318: UndefinedMetricWarning: Precision and F-score are ill-defined and being set to 0.0 in labels with no predicted samples. Use `zero_division` parameter to control this behavior.\n",
      "  _warn_prf(average, modifier, msg_start, len(result))\n",
      "/data/estorrs/miniconda3/envs/pollock_new/lib/python3.8/site-packages/sklearn/metrics/_classification.py:1318: UndefinedMetricWarning: Precision and F-score are ill-defined and being set to 0.0 in labels with no predicted samples. Use `zero_division` parameter to control this behavior.\n",
      "  _warn_prf(average, modifier, msg_start, len(result))\n",
      "/data/estorrs/miniconda3/envs/pollock_new/lib/python3.8/site-packages/sklearn/metrics/_classification.py:1318: UndefinedMetricWarning: Precision and F-score are ill-defined and being set to 0.0 in labels with no predicted samples. Use `zero_division` parameter to control this behavior.\n",
      "  _warn_prf(average, modifier, msg_start, len(result))\n",
      "/data/estorrs/miniconda3/envs/pollock_new/lib/python3.8/site-packages/sklearn/metrics/_classification.py:1318: UndefinedMetricWarning: Precision and F-score are ill-defined and being set to 0.0 in labels with no predicted samples. Use `zero_division` parameter to control this behavior.\n",
      "  _warn_prf(average, modifier, msg_start, len(result))\n",
      "/data/estorrs/miniconda3/envs/pollock_new/lib/python3.8/site-packages/sklearn/metrics/_classification.py:1318: UndefinedMetricWarning: Precision and F-score are ill-defined and being set to 0.0 in labels with no predicted samples. Use `zero_division` parameter to control this behavior.\n",
      "  _warn_prf(average, modifier, msg_start, len(result))\n"
     ]
    },
    {
     "name": "stdout",
     "output_type": "stream",
     "text": [
      "scRNAseq myeloma fold3\n"
     ]
    },
    {
     "name": "stderr",
     "output_type": "stream",
     "text": [
      "/data/estorrs/miniconda3/envs/pollock_new/lib/python3.8/site-packages/sklearn/metrics/_classification.py:1318: UndefinedMetricWarning: Precision and F-score are ill-defined and being set to 0.0 in labels with no predicted samples. Use `zero_division` parameter to control this behavior.\n",
      "  _warn_prf(average, modifier, msg_start, len(result))\n",
      "/data/estorrs/miniconda3/envs/pollock_new/lib/python3.8/site-packages/sklearn/metrics/_classification.py:1318: UndefinedMetricWarning: Precision and F-score are ill-defined and being set to 0.0 in labels with no predicted samples. Use `zero_division` parameter to control this behavior.\n",
      "  _warn_prf(average, modifier, msg_start, len(result))\n",
      "/data/estorrs/miniconda3/envs/pollock_new/lib/python3.8/site-packages/sklearn/metrics/_classification.py:1318: UndefinedMetricWarning: Precision and F-score are ill-defined and being set to 0.0 in labels with no predicted samples. Use `zero_division` parameter to control this behavior.\n",
      "  _warn_prf(average, modifier, msg_start, len(result))\n"
     ]
    },
    {
     "name": "stdout",
     "output_type": "stream",
     "text": [
      "scRNAseq myeloma fold4\n"
     ]
    },
    {
     "name": "stderr",
     "output_type": "stream",
     "text": [
      "/data/estorrs/miniconda3/envs/pollock_new/lib/python3.8/site-packages/sklearn/metrics/_classification.py:1318: UndefinedMetricWarning: Precision and F-score are ill-defined and being set to 0.0 in labels with no predicted samples. Use `zero_division` parameter to control this behavior.\n",
      "  _warn_prf(average, modifier, msg_start, len(result))\n",
      "/data/estorrs/miniconda3/envs/pollock_new/lib/python3.8/site-packages/sklearn/metrics/_classification.py:1318: UndefinedMetricWarning: Precision and F-score are ill-defined and being set to 0.0 in labels with no predicted samples. Use `zero_division` parameter to control this behavior.\n",
      "  _warn_prf(average, modifier, msg_start, len(result))\n",
      "/data/estorrs/miniconda3/envs/pollock_new/lib/python3.8/site-packages/sklearn/metrics/_classification.py:1318: UndefinedMetricWarning: Precision and F-score are ill-defined and being set to 0.0 in labels with no predicted samples. Use `zero_division` parameter to control this behavior.\n",
      "  _warn_prf(average, modifier, msg_start, len(result))\n",
      "/data/estorrs/miniconda3/envs/pollock_new/lib/python3.8/site-packages/sklearn/metrics/_classification.py:1318: UndefinedMetricWarning: Precision and F-score are ill-defined and being set to 0.0 in labels with no predicted samples. Use `zero_division` parameter to control this behavior.\n",
      "  _warn_prf(average, modifier, msg_start, len(result))\n",
      "/data/estorrs/miniconda3/envs/pollock_new/lib/python3.8/site-packages/sklearn/metrics/_classification.py:1318: UndefinedMetricWarning: Precision and F-score are ill-defined and being set to 0.0 in labels with no predicted samples. Use `zero_division` parameter to control this behavior.\n",
      "  _warn_prf(average, modifier, msg_start, len(result))\n",
      "/data/estorrs/miniconda3/envs/pollock_new/lib/python3.8/site-packages/sklearn/metrics/_classification.py:1318: UndefinedMetricWarning: Precision and F-score are ill-defined and being set to 0.0 in labels with no predicted samples. Use `zero_division` parameter to control this behavior.\n",
      "  _warn_prf(average, modifier, msg_start, len(result))\n"
     ]
    },
    {
     "name": "stdout",
     "output_type": "stream",
     "text": [
      "scRNAseq myeloma fold2\n",
      "scRNAseq melanoma fold3\n",
      "scRNAseq melanoma fold0\n",
      "scRNAseq melanoma fold2\n",
      "scRNAseq melanoma fold1\n",
      "scRNAseq melanoma fold4\n",
      "scRNAseq pdac fold2\n",
      "scRNAseq pdac fold3\n",
      "scRNAseq pdac fold1\n",
      "scRNAseq pdac fold4\n",
      "scRNAseq pdac fold0\n"
     ]
    }
   ],
   "source": [
    "for dtype, d1 in folds_fmap.items():\n",
    "    for disease, d2 in d1.items():\n",
    "        for fold, d3 in d2.items():\n",
    "            print(dtype, disease, fold)\n",
    "            adata = sc.read_h5ad(os.path.join(result_dir, 'interdataset_with_folds', f'{dtype}_{disease}_{fold}.h5ad'))\n",
    "            y_pred = adata.obs['predicted_cell_type'].to_list()\n",
    "            y_true = adata.obs['cell_type'].to_list()\n",
    "            d, cm = get_metrics(y_true, y_pred)\n",
    "\n",
    "            d.to_csv(os.path.join(result_dir, 'interdataset_with_folds', f'{dtype}_{disease}_clf_report.txt'), sep='\\t')\n",
    "            cm.to_csv(os.path.join(result_dir, 'interdataset_with_folds', f'{dtype}_{disease}_confusion_matrix.txt'), sep='\\t')"
   ]
  },
  {
   "cell_type": "code",
   "execution_count": 41,
   "id": "4cf26e08",
   "metadata": {},
   "outputs": [
    {
     "name": "stdout",
     "output_type": "stream",
     "text": [
      "snRNAseq ccrcc\n",
      "snRNAseq brca\n",
      "snRNAseq gbm\n",
      "snATACseq brca\n",
      "snATACseq ccrcc\n",
      "snATACseq gbm\n",
      "scRNAseq cesc\n",
      "scRNAseq myeloma\n",
      "scRNAseq brca\n"
     ]
    },
    {
     "name": "stderr",
     "output_type": "stream",
     "text": [
      "/data/estorrs/miniconda3/envs/pollock_new/lib/python3.8/site-packages/sklearn/metrics/_classification.py:1318: UndefinedMetricWarning: Precision and F-score are ill-defined and being set to 0.0 in labels with no predicted samples. Use `zero_division` parameter to control this behavior.\n",
      "  _warn_prf(average, modifier, msg_start, len(result))\n",
      "/data/estorrs/miniconda3/envs/pollock_new/lib/python3.8/site-packages/sklearn/metrics/_classification.py:1318: UndefinedMetricWarning: Precision and F-score are ill-defined and being set to 0.0 in labels with no predicted samples. Use `zero_division` parameter to control this behavior.\n",
      "  _warn_prf(average, modifier, msg_start, len(result))\n",
      "/data/estorrs/miniconda3/envs/pollock_new/lib/python3.8/site-packages/sklearn/metrics/_classification.py:1318: UndefinedMetricWarning: Precision and F-score are ill-defined and being set to 0.0 in labels with no predicted samples. Use `zero_division` parameter to control this behavior.\n",
      "  _warn_prf(average, modifier, msg_start, len(result))\n"
     ]
    },
    {
     "name": "stdout",
     "output_type": "stream",
     "text": [
      "scRNAseq hnscc\n",
      "scRNAseq pdac\n",
      "scRNAseq melanoma\n"
     ]
    }
   ],
   "source": [
    "for dtype, d1 in fmap.items():\n",
    "    for disease, d2 in d1.items():\n",
    "        print(dtype, disease)\n",
    "        adata = sc.read_h5ad(os.path.join(result_dir, f'{dtype}_{disease}.h5ad'))\n",
    "        y_pred = adata.obs['predicted_cell_type'].to_list()\n",
    "        y_true = adata.obs['cell_type'].to_list()\n",
    "        d, cm = get_metrics(y_true, y_pred)\n",
    "        \n",
    "        d.to_csv(os.path.join(result_dir, f'{dtype}_{disease}_clf_report.txt'), sep='\\t')\n",
    "        cm.to_csv(os.path.join(result_dir, f'{dtype}_{disease}_confusion_matrix.txt'), sep='\\t')"
   ]
  },
  {
   "cell_type": "code",
   "execution_count": 53,
   "id": "deed98e2",
   "metadata": {},
   "outputs": [
    {
     "name": "stdout",
     "output_type": "stream",
     "text": [
      "snRNAseq ccrcc ccrcc\n",
      "snRNAseq ccrcc brca\n"
     ]
    },
    {
     "name": "stderr",
     "output_type": "stream",
     "text": [
      "/data/estorrs/miniconda3/envs/pollock_new/lib/python3.8/site-packages/sklearn/metrics/_classification.py:1318: UndefinedMetricWarning: Recall and F-score are ill-defined and being set to 0.0 in labels with no true samples. Use `zero_division` parameter to control this behavior.\n",
      "  _warn_prf(average, modifier, msg_start, len(result))\n",
      "/data/estorrs/miniconda3/envs/pollock_new/lib/python3.8/site-packages/sklearn/metrics/_classification.py:1318: UndefinedMetricWarning: Recall and F-score are ill-defined and being set to 0.0 in labels with no true samples. Use `zero_division` parameter to control this behavior.\n",
      "  _warn_prf(average, modifier, msg_start, len(result))\n",
      "/data/estorrs/miniconda3/envs/pollock_new/lib/python3.8/site-packages/sklearn/metrics/_classification.py:1318: UndefinedMetricWarning: Recall and F-score are ill-defined and being set to 0.0 in labels with no true samples. Use `zero_division` parameter to control this behavior.\n",
      "  _warn_prf(average, modifier, msg_start, len(result))\n"
     ]
    },
    {
     "name": "stdout",
     "output_type": "stream",
     "text": [
      "snRNAseq ccrcc gbm\n"
     ]
    },
    {
     "name": "stderr",
     "output_type": "stream",
     "text": [
      "/data/estorrs/miniconda3/envs/pollock_new/lib/python3.8/site-packages/sklearn/metrics/_classification.py:1318: UndefinedMetricWarning: Recall and F-score are ill-defined and being set to 0.0 in labels with no true samples. Use `zero_division` parameter to control this behavior.\n",
      "  _warn_prf(average, modifier, msg_start, len(result))\n",
      "/data/estorrs/miniconda3/envs/pollock_new/lib/python3.8/site-packages/sklearn/metrics/_classification.py:1318: UndefinedMetricWarning: Recall and F-score are ill-defined and being set to 0.0 in labels with no true samples. Use `zero_division` parameter to control this behavior.\n",
      "  _warn_prf(average, modifier, msg_start, len(result))\n",
      "/data/estorrs/miniconda3/envs/pollock_new/lib/python3.8/site-packages/sklearn/metrics/_classification.py:1318: UndefinedMetricWarning: Recall and F-score are ill-defined and being set to 0.0 in labels with no true samples. Use `zero_division` parameter to control this behavior.\n",
      "  _warn_prf(average, modifier, msg_start, len(result))\n"
     ]
    },
    {
     "name": "stdout",
     "output_type": "stream",
     "text": [
      "snRNAseq brca ccrcc\n"
     ]
    },
    {
     "name": "stderr",
     "output_type": "stream",
     "text": [
      "/data/estorrs/miniconda3/envs/pollock_new/lib/python3.8/site-packages/sklearn/metrics/_classification.py:1318: UndefinedMetricWarning: Recall and F-score are ill-defined and being set to 0.0 in labels with no true samples. Use `zero_division` parameter to control this behavior.\n",
      "  _warn_prf(average, modifier, msg_start, len(result))\n",
      "/data/estorrs/miniconda3/envs/pollock_new/lib/python3.8/site-packages/sklearn/metrics/_classification.py:1318: UndefinedMetricWarning: Recall and F-score are ill-defined and being set to 0.0 in labels with no true samples. Use `zero_division` parameter to control this behavior.\n",
      "  _warn_prf(average, modifier, msg_start, len(result))\n",
      "/data/estorrs/miniconda3/envs/pollock_new/lib/python3.8/site-packages/sklearn/metrics/_classification.py:1318: UndefinedMetricWarning: Recall and F-score are ill-defined and being set to 0.0 in labels with no true samples. Use `zero_division` parameter to control this behavior.\n",
      "  _warn_prf(average, modifier, msg_start, len(result))\n"
     ]
    },
    {
     "name": "stdout",
     "output_type": "stream",
     "text": [
      "snRNAseq brca brca\n",
      "snRNAseq brca gbm\n"
     ]
    },
    {
     "name": "stderr",
     "output_type": "stream",
     "text": [
      "/data/estorrs/miniconda3/envs/pollock_new/lib/python3.8/site-packages/sklearn/metrics/_classification.py:1318: UndefinedMetricWarning: Recall and F-score are ill-defined and being set to 0.0 in labels with no true samples. Use `zero_division` parameter to control this behavior.\n",
      "  _warn_prf(average, modifier, msg_start, len(result))\n",
      "/data/estorrs/miniconda3/envs/pollock_new/lib/python3.8/site-packages/sklearn/metrics/_classification.py:1318: UndefinedMetricWarning: Recall and F-score are ill-defined and being set to 0.0 in labels with no true samples. Use `zero_division` parameter to control this behavior.\n",
      "  _warn_prf(average, modifier, msg_start, len(result))\n",
      "/data/estorrs/miniconda3/envs/pollock_new/lib/python3.8/site-packages/sklearn/metrics/_classification.py:1318: UndefinedMetricWarning: Recall and F-score are ill-defined and being set to 0.0 in labels with no true samples. Use `zero_division` parameter to control this behavior.\n",
      "  _warn_prf(average, modifier, msg_start, len(result))\n"
     ]
    },
    {
     "name": "stdout",
     "output_type": "stream",
     "text": [
      "snRNAseq gbm ccrcc\n"
     ]
    },
    {
     "name": "stderr",
     "output_type": "stream",
     "text": [
      "/data/estorrs/miniconda3/envs/pollock_new/lib/python3.8/site-packages/sklearn/metrics/_classification.py:1318: UndefinedMetricWarning: Recall and F-score are ill-defined and being set to 0.0 in labels with no true samples. Use `zero_division` parameter to control this behavior.\n",
      "  _warn_prf(average, modifier, msg_start, len(result))\n",
      "/data/estorrs/miniconda3/envs/pollock_new/lib/python3.8/site-packages/sklearn/metrics/_classification.py:1318: UndefinedMetricWarning: Recall and F-score are ill-defined and being set to 0.0 in labels with no true samples. Use `zero_division` parameter to control this behavior.\n",
      "  _warn_prf(average, modifier, msg_start, len(result))\n",
      "/data/estorrs/miniconda3/envs/pollock_new/lib/python3.8/site-packages/sklearn/metrics/_classification.py:1318: UndefinedMetricWarning: Recall and F-score are ill-defined and being set to 0.0 in labels with no true samples. Use `zero_division` parameter to control this behavior.\n",
      "  _warn_prf(average, modifier, msg_start, len(result))\n"
     ]
    },
    {
     "name": "stdout",
     "output_type": "stream",
     "text": [
      "snRNAseq gbm brca\n"
     ]
    },
    {
     "name": "stderr",
     "output_type": "stream",
     "text": [
      "/data/estorrs/miniconda3/envs/pollock_new/lib/python3.8/site-packages/sklearn/metrics/_classification.py:1318: UndefinedMetricWarning: Recall and F-score are ill-defined and being set to 0.0 in labels with no true samples. Use `zero_division` parameter to control this behavior.\n",
      "  _warn_prf(average, modifier, msg_start, len(result))\n",
      "/data/estorrs/miniconda3/envs/pollock_new/lib/python3.8/site-packages/sklearn/metrics/_classification.py:1318: UndefinedMetricWarning: Recall and F-score are ill-defined and being set to 0.0 in labels with no true samples. Use `zero_division` parameter to control this behavior.\n",
      "  _warn_prf(average, modifier, msg_start, len(result))\n",
      "/data/estorrs/miniconda3/envs/pollock_new/lib/python3.8/site-packages/sklearn/metrics/_classification.py:1318: UndefinedMetricWarning: Recall and F-score are ill-defined and being set to 0.0 in labels with no true samples. Use `zero_division` parameter to control this behavior.\n",
      "  _warn_prf(average, modifier, msg_start, len(result))\n"
     ]
    },
    {
     "name": "stdout",
     "output_type": "stream",
     "text": [
      "snRNAseq gbm gbm\n",
      "snATACseq brca brca\n",
      "snATACseq brca ccrcc\n",
      "snATACseq brca gbm\n"
     ]
    },
    {
     "name": "stderr",
     "output_type": "stream",
     "text": [
      "/data/estorrs/miniconda3/envs/pollock_new/lib/python3.8/site-packages/sklearn/metrics/_classification.py:1318: UndefinedMetricWarning: Recall and F-score are ill-defined and being set to 0.0 in labels with no true samples. Use `zero_division` parameter to control this behavior.\n",
      "  _warn_prf(average, modifier, msg_start, len(result))\n",
      "/data/estorrs/miniconda3/envs/pollock_new/lib/python3.8/site-packages/sklearn/metrics/_classification.py:1318: UndefinedMetricWarning: Recall and F-score are ill-defined and being set to 0.0 in labels with no true samples. Use `zero_division` parameter to control this behavior.\n",
      "  _warn_prf(average, modifier, msg_start, len(result))\n",
      "/data/estorrs/miniconda3/envs/pollock_new/lib/python3.8/site-packages/sklearn/metrics/_classification.py:1318: UndefinedMetricWarning: Recall and F-score are ill-defined and being set to 0.0 in labels with no true samples. Use `zero_division` parameter to control this behavior.\n",
      "  _warn_prf(average, modifier, msg_start, len(result))\n",
      "/data/estorrs/miniconda3/envs/pollock_new/lib/python3.8/site-packages/sklearn/metrics/_classification.py:1318: UndefinedMetricWarning: Recall and F-score are ill-defined and being set to 0.0 in labels with no true samples. Use `zero_division` parameter to control this behavior.\n",
      "  _warn_prf(average, modifier, msg_start, len(result))\n",
      "/data/estorrs/miniconda3/envs/pollock_new/lib/python3.8/site-packages/sklearn/metrics/_classification.py:1318: UndefinedMetricWarning: Recall and F-score are ill-defined and being set to 0.0 in labels with no true samples. Use `zero_division` parameter to control this behavior.\n",
      "  _warn_prf(average, modifier, msg_start, len(result))\n",
      "/data/estorrs/miniconda3/envs/pollock_new/lib/python3.8/site-packages/sklearn/metrics/_classification.py:1318: UndefinedMetricWarning: Recall and F-score are ill-defined and being set to 0.0 in labels with no true samples. Use `zero_division` parameter to control this behavior.\n",
      "  _warn_prf(average, modifier, msg_start, len(result))\n"
     ]
    },
    {
     "name": "stdout",
     "output_type": "stream",
     "text": [
      "snATACseq ccrcc brca\n"
     ]
    },
    {
     "name": "stderr",
     "output_type": "stream",
     "text": [
      "/data/estorrs/miniconda3/envs/pollock_new/lib/python3.8/site-packages/sklearn/metrics/_classification.py:1318: UndefinedMetricWarning: Recall and F-score are ill-defined and being set to 0.0 in labels with no true samples. Use `zero_division` parameter to control this behavior.\n",
      "  _warn_prf(average, modifier, msg_start, len(result))\n",
      "/data/estorrs/miniconda3/envs/pollock_new/lib/python3.8/site-packages/sklearn/metrics/_classification.py:1318: UndefinedMetricWarning: Recall and F-score are ill-defined and being set to 0.0 in labels with no true samples. Use `zero_division` parameter to control this behavior.\n",
      "  _warn_prf(average, modifier, msg_start, len(result))\n",
      "/data/estorrs/miniconda3/envs/pollock_new/lib/python3.8/site-packages/sklearn/metrics/_classification.py:1318: UndefinedMetricWarning: Recall and F-score are ill-defined and being set to 0.0 in labels with no true samples. Use `zero_division` parameter to control this behavior.\n",
      "  _warn_prf(average, modifier, msg_start, len(result))\n"
     ]
    },
    {
     "name": "stdout",
     "output_type": "stream",
     "text": [
      "snATACseq ccrcc ccrcc\n",
      "snATACseq ccrcc gbm\n"
     ]
    },
    {
     "name": "stderr",
     "output_type": "stream",
     "text": [
      "/data/estorrs/miniconda3/envs/pollock_new/lib/python3.8/site-packages/sklearn/metrics/_classification.py:1318: UndefinedMetricWarning: Recall and F-score are ill-defined and being set to 0.0 in labels with no true samples. Use `zero_division` parameter to control this behavior.\n",
      "  _warn_prf(average, modifier, msg_start, len(result))\n",
      "/data/estorrs/miniconda3/envs/pollock_new/lib/python3.8/site-packages/sklearn/metrics/_classification.py:1318: UndefinedMetricWarning: Recall and F-score are ill-defined and being set to 0.0 in labels with no true samples. Use `zero_division` parameter to control this behavior.\n",
      "  _warn_prf(average, modifier, msg_start, len(result))\n",
      "/data/estorrs/miniconda3/envs/pollock_new/lib/python3.8/site-packages/sklearn/metrics/_classification.py:1318: UndefinedMetricWarning: Recall and F-score are ill-defined and being set to 0.0 in labels with no true samples. Use `zero_division` parameter to control this behavior.\n",
      "  _warn_prf(average, modifier, msg_start, len(result))\n"
     ]
    },
    {
     "name": "stdout",
     "output_type": "stream",
     "text": [
      "snATACseq gbm brca\n"
     ]
    },
    {
     "name": "stderr",
     "output_type": "stream",
     "text": [
      "/data/estorrs/miniconda3/envs/pollock_new/lib/python3.8/site-packages/sklearn/metrics/_classification.py:1318: UndefinedMetricWarning: Recall and F-score are ill-defined and being set to 0.0 in labels with no true samples. Use `zero_division` parameter to control this behavior.\n",
      "  _warn_prf(average, modifier, msg_start, len(result))\n",
      "/data/estorrs/miniconda3/envs/pollock_new/lib/python3.8/site-packages/sklearn/metrics/_classification.py:1318: UndefinedMetricWarning: Recall and F-score are ill-defined and being set to 0.0 in labels with no true samples. Use `zero_division` parameter to control this behavior.\n",
      "  _warn_prf(average, modifier, msg_start, len(result))\n",
      "/data/estorrs/miniconda3/envs/pollock_new/lib/python3.8/site-packages/sklearn/metrics/_classification.py:1318: UndefinedMetricWarning: Recall and F-score are ill-defined and being set to 0.0 in labels with no true samples. Use `zero_division` parameter to control this behavior.\n",
      "  _warn_prf(average, modifier, msg_start, len(result))\n",
      "/data/estorrs/miniconda3/envs/pollock_new/lib/python3.8/site-packages/sklearn/metrics/_classification.py:1318: UndefinedMetricWarning: Recall and F-score are ill-defined and being set to 0.0 in labels with no true samples. Use `zero_division` parameter to control this behavior.\n",
      "  _warn_prf(average, modifier, msg_start, len(result))\n",
      "/data/estorrs/miniconda3/envs/pollock_new/lib/python3.8/site-packages/sklearn/metrics/_classification.py:1318: UndefinedMetricWarning: Recall and F-score are ill-defined and being set to 0.0 in labels with no true samples. Use `zero_division` parameter to control this behavior.\n",
      "  _warn_prf(average, modifier, msg_start, len(result))\n",
      "/data/estorrs/miniconda3/envs/pollock_new/lib/python3.8/site-packages/sklearn/metrics/_classification.py:1318: UndefinedMetricWarning: Recall and F-score are ill-defined and being set to 0.0 in labels with no true samples. Use `zero_division` parameter to control this behavior.\n",
      "  _warn_prf(average, modifier, msg_start, len(result))\n"
     ]
    },
    {
     "name": "stdout",
     "output_type": "stream",
     "text": [
      "snATACseq gbm ccrcc\n",
      "snATACseq gbm gbm\n",
      "scRNAseq cesc cesc\n",
      "scRNAseq cesc myeloma\n",
      "scRNAseq cesc brca\n"
     ]
    },
    {
     "name": "stderr",
     "output_type": "stream",
     "text": [
      "/data/estorrs/miniconda3/envs/pollock_new/lib/python3.8/site-packages/sklearn/metrics/_classification.py:1318: UndefinedMetricWarning: Recall and F-score are ill-defined and being set to 0.0 in labels with no true samples. Use `zero_division` parameter to control this behavior.\n",
      "  _warn_prf(average, modifier, msg_start, len(result))\n",
      "/data/estorrs/miniconda3/envs/pollock_new/lib/python3.8/site-packages/sklearn/metrics/_classification.py:1318: UndefinedMetricWarning: Recall and F-score are ill-defined and being set to 0.0 in labels with no true samples. Use `zero_division` parameter to control this behavior.\n",
      "  _warn_prf(average, modifier, msg_start, len(result))\n",
      "/data/estorrs/miniconda3/envs/pollock_new/lib/python3.8/site-packages/sklearn/metrics/_classification.py:1318: UndefinedMetricWarning: Recall and F-score are ill-defined and being set to 0.0 in labels with no true samples. Use `zero_division` parameter to control this behavior.\n",
      "  _warn_prf(average, modifier, msg_start, len(result))\n",
      "/data/estorrs/miniconda3/envs/pollock_new/lib/python3.8/site-packages/sklearn/metrics/_classification.py:1318: UndefinedMetricWarning: Recall and F-score are ill-defined and being set to 0.0 in labels with no true samples. Use `zero_division` parameter to control this behavior.\n",
      "  _warn_prf(average, modifier, msg_start, len(result))\n",
      "/data/estorrs/miniconda3/envs/pollock_new/lib/python3.8/site-packages/sklearn/metrics/_classification.py:1318: UndefinedMetricWarning: Recall and F-score are ill-defined and being set to 0.0 in labels with no true samples. Use `zero_division` parameter to control this behavior.\n",
      "  _warn_prf(average, modifier, msg_start, len(result))\n",
      "/data/estorrs/miniconda3/envs/pollock_new/lib/python3.8/site-packages/sklearn/metrics/_classification.py:1318: UndefinedMetricWarning: Recall and F-score are ill-defined and being set to 0.0 in labels with no true samples. Use `zero_division` parameter to control this behavior.\n",
      "  _warn_prf(average, modifier, msg_start, len(result))\n"
     ]
    },
    {
     "name": "stdout",
     "output_type": "stream",
     "text": [
      "scRNAseq cesc hnscc\n"
     ]
    },
    {
     "name": "stderr",
     "output_type": "stream",
     "text": [
      "/data/estorrs/miniconda3/envs/pollock_new/lib/python3.8/site-packages/sklearn/metrics/_classification.py:1318: UndefinedMetricWarning: Recall and F-score are ill-defined and being set to 0.0 in labels with no true samples. Use `zero_division` parameter to control this behavior.\n",
      "  _warn_prf(average, modifier, msg_start, len(result))\n",
      "/data/estorrs/miniconda3/envs/pollock_new/lib/python3.8/site-packages/sklearn/metrics/_classification.py:1318: UndefinedMetricWarning: Recall and F-score are ill-defined and being set to 0.0 in labels with no true samples. Use `zero_division` parameter to control this behavior.\n",
      "  _warn_prf(average, modifier, msg_start, len(result))\n",
      "/data/estorrs/miniconda3/envs/pollock_new/lib/python3.8/site-packages/sklearn/metrics/_classification.py:1318: UndefinedMetricWarning: Recall and F-score are ill-defined and being set to 0.0 in labels with no true samples. Use `zero_division` parameter to control this behavior.\n",
      "  _warn_prf(average, modifier, msg_start, len(result))\n"
     ]
    },
    {
     "name": "stdout",
     "output_type": "stream",
     "text": [
      "scRNAseq cesc pdac\n",
      "scRNAseq cesc melanoma\n",
      "scRNAseq myeloma cesc\n"
     ]
    },
    {
     "name": "stderr",
     "output_type": "stream",
     "text": [
      "/data/estorrs/miniconda3/envs/pollock_new/lib/python3.8/site-packages/sklearn/metrics/_classification.py:1318: UndefinedMetricWarning: Recall and F-score are ill-defined and being set to 0.0 in labels with no true samples. Use `zero_division` parameter to control this behavior.\n",
      "  _warn_prf(average, modifier, msg_start, len(result))\n",
      "/data/estorrs/miniconda3/envs/pollock_new/lib/python3.8/site-packages/sklearn/metrics/_classification.py:1318: UndefinedMetricWarning: Recall and F-score are ill-defined and being set to 0.0 in labels with no true samples. Use `zero_division` parameter to control this behavior.\n",
      "  _warn_prf(average, modifier, msg_start, len(result))\n",
      "/data/estorrs/miniconda3/envs/pollock_new/lib/python3.8/site-packages/sklearn/metrics/_classification.py:1318: UndefinedMetricWarning: Recall and F-score are ill-defined and being set to 0.0 in labels with no true samples. Use `zero_division` parameter to control this behavior.\n",
      "  _warn_prf(average, modifier, msg_start, len(result))\n",
      "/data/estorrs/miniconda3/envs/pollock_new/lib/python3.8/site-packages/sklearn/metrics/_classification.py:1318: UndefinedMetricWarning: Recall and F-score are ill-defined and being set to 0.0 in labels with no true samples. Use `zero_division` parameter to control this behavior.\n",
      "  _warn_prf(average, modifier, msg_start, len(result))\n",
      "/data/estorrs/miniconda3/envs/pollock_new/lib/python3.8/site-packages/sklearn/metrics/_classification.py:1318: UndefinedMetricWarning: Recall and F-score are ill-defined and being set to 0.0 in labels with no true samples. Use `zero_division` parameter to control this behavior.\n",
      "  _warn_prf(average, modifier, msg_start, len(result))\n",
      "/data/estorrs/miniconda3/envs/pollock_new/lib/python3.8/site-packages/sklearn/metrics/_classification.py:1318: UndefinedMetricWarning: Recall and F-score are ill-defined and being set to 0.0 in labels with no true samples. Use `zero_division` parameter to control this behavior.\n",
      "  _warn_prf(average, modifier, msg_start, len(result))\n"
     ]
    },
    {
     "name": "stdout",
     "output_type": "stream",
     "text": [
      "scRNAseq myeloma myeloma\n",
      "scRNAseq myeloma brca\n",
      "scRNAseq myeloma hnscc\n"
     ]
    },
    {
     "name": "stderr",
     "output_type": "stream",
     "text": [
      "/data/estorrs/miniconda3/envs/pollock_new/lib/python3.8/site-packages/sklearn/metrics/_classification.py:1318: UndefinedMetricWarning: Recall and F-score are ill-defined and being set to 0.0 in labels with no true samples. Use `zero_division` parameter to control this behavior.\n",
      "  _warn_prf(average, modifier, msg_start, len(result))\n",
      "/data/estorrs/miniconda3/envs/pollock_new/lib/python3.8/site-packages/sklearn/metrics/_classification.py:1318: UndefinedMetricWarning: Recall and F-score are ill-defined and being set to 0.0 in labels with no true samples. Use `zero_division` parameter to control this behavior.\n",
      "  _warn_prf(average, modifier, msg_start, len(result))\n",
      "/data/estorrs/miniconda3/envs/pollock_new/lib/python3.8/site-packages/sklearn/metrics/_classification.py:1318: UndefinedMetricWarning: Recall and F-score are ill-defined and being set to 0.0 in labels with no true samples. Use `zero_division` parameter to control this behavior.\n",
      "  _warn_prf(average, modifier, msg_start, len(result))\n"
     ]
    },
    {
     "name": "stdout",
     "output_type": "stream",
     "text": [
      "scRNAseq myeloma pdac\n",
      "scRNAseq myeloma melanoma\n",
      "scRNAseq brca cesc\n"
     ]
    },
    {
     "name": "stderr",
     "output_type": "stream",
     "text": [
      "/data/estorrs/miniconda3/envs/pollock_new/lib/python3.8/site-packages/sklearn/metrics/_classification.py:1318: UndefinedMetricWarning: Recall and F-score are ill-defined and being set to 0.0 in labels with no true samples. Use `zero_division` parameter to control this behavior.\n",
      "  _warn_prf(average, modifier, msg_start, len(result))\n",
      "/data/estorrs/miniconda3/envs/pollock_new/lib/python3.8/site-packages/sklearn/metrics/_classification.py:1318: UndefinedMetricWarning: Recall and F-score are ill-defined and being set to 0.0 in labels with no true samples. Use `zero_division` parameter to control this behavior.\n",
      "  _warn_prf(average, modifier, msg_start, len(result))\n",
      "/data/estorrs/miniconda3/envs/pollock_new/lib/python3.8/site-packages/sklearn/metrics/_classification.py:1318: UndefinedMetricWarning: Recall and F-score are ill-defined and being set to 0.0 in labels with no true samples. Use `zero_division` parameter to control this behavior.\n",
      "  _warn_prf(average, modifier, msg_start, len(result))\n",
      "/data/estorrs/miniconda3/envs/pollock_new/lib/python3.8/site-packages/sklearn/metrics/_classification.py:1318: UndefinedMetricWarning: Recall and F-score are ill-defined and being set to 0.0 in labels with no true samples. Use `zero_division` parameter to control this behavior.\n",
      "  _warn_prf(average, modifier, msg_start, len(result))\n",
      "/data/estorrs/miniconda3/envs/pollock_new/lib/python3.8/site-packages/sklearn/metrics/_classification.py:1318: UndefinedMetricWarning: Recall and F-score are ill-defined and being set to 0.0 in labels with no true samples. Use `zero_division` parameter to control this behavior.\n",
      "  _warn_prf(average, modifier, msg_start, len(result))\n",
      "/data/estorrs/miniconda3/envs/pollock_new/lib/python3.8/site-packages/sklearn/metrics/_classification.py:1318: UndefinedMetricWarning: Recall and F-score are ill-defined and being set to 0.0 in labels with no true samples. Use `zero_division` parameter to control this behavior.\n",
      "  _warn_prf(average, modifier, msg_start, len(result))\n",
      "/data/estorrs/miniconda3/envs/pollock_new/lib/python3.8/site-packages/sklearn/metrics/_classification.py:1318: UndefinedMetricWarning: Recall and F-score are ill-defined and being set to 0.0 in labels with no true samples. Use `zero_division` parameter to control this behavior.\n",
      "  _warn_prf(average, modifier, msg_start, len(result))\n",
      "/data/estorrs/miniconda3/envs/pollock_new/lib/python3.8/site-packages/sklearn/metrics/_classification.py:1318: UndefinedMetricWarning: Recall and F-score are ill-defined and being set to 0.0 in labels with no true samples. Use `zero_division` parameter to control this behavior.\n",
      "  _warn_prf(average, modifier, msg_start, len(result))\n",
      "/data/estorrs/miniconda3/envs/pollock_new/lib/python3.8/site-packages/sklearn/metrics/_classification.py:1318: UndefinedMetricWarning: Recall and F-score are ill-defined and being set to 0.0 in labels with no true samples. Use `zero_division` parameter to control this behavior.\n",
      "  _warn_prf(average, modifier, msg_start, len(result))\n"
     ]
    },
    {
     "name": "stdout",
     "output_type": "stream",
     "text": [
      "scRNAseq brca myeloma\n",
      "scRNAseq brca brca\n",
      "scRNAseq brca hnscc\n"
     ]
    },
    {
     "name": "stderr",
     "output_type": "stream",
     "text": [
      "/data/estorrs/miniconda3/envs/pollock_new/lib/python3.8/site-packages/sklearn/metrics/_classification.py:1318: UndefinedMetricWarning: Recall and F-score are ill-defined and being set to 0.0 in labels with no true samples. Use `zero_division` parameter to control this behavior.\n",
      "  _warn_prf(average, modifier, msg_start, len(result))\n",
      "/data/estorrs/miniconda3/envs/pollock_new/lib/python3.8/site-packages/sklearn/metrics/_classification.py:1318: UndefinedMetricWarning: Recall and F-score are ill-defined and being set to 0.0 in labels with no true samples. Use `zero_division` parameter to control this behavior.\n",
      "  _warn_prf(average, modifier, msg_start, len(result))\n",
      "/data/estorrs/miniconda3/envs/pollock_new/lib/python3.8/site-packages/sklearn/metrics/_classification.py:1318: UndefinedMetricWarning: Recall and F-score are ill-defined and being set to 0.0 in labels with no true samples. Use `zero_division` parameter to control this behavior.\n",
      "  _warn_prf(average, modifier, msg_start, len(result))\n"
     ]
    },
    {
     "name": "stdout",
     "output_type": "stream",
     "text": [
      "scRNAseq brca pdac\n",
      "scRNAseq brca melanoma\n",
      "scRNAseq hnscc cesc\n"
     ]
    },
    {
     "name": "stderr",
     "output_type": "stream",
     "text": [
      "/data/estorrs/miniconda3/envs/pollock_new/lib/python3.8/site-packages/sklearn/metrics/_classification.py:1318: UndefinedMetricWarning: Recall and F-score are ill-defined and being set to 0.0 in labels with no true samples. Use `zero_division` parameter to control this behavior.\n",
      "  _warn_prf(average, modifier, msg_start, len(result))\n",
      "/data/estorrs/miniconda3/envs/pollock_new/lib/python3.8/site-packages/sklearn/metrics/_classification.py:1318: UndefinedMetricWarning: Recall and F-score are ill-defined and being set to 0.0 in labels with no true samples. Use `zero_division` parameter to control this behavior.\n",
      "  _warn_prf(average, modifier, msg_start, len(result))\n",
      "/data/estorrs/miniconda3/envs/pollock_new/lib/python3.8/site-packages/sklearn/metrics/_classification.py:1318: UndefinedMetricWarning: Recall and F-score are ill-defined and being set to 0.0 in labels with no true samples. Use `zero_division` parameter to control this behavior.\n",
      "  _warn_prf(average, modifier, msg_start, len(result))\n",
      "/data/estorrs/miniconda3/envs/pollock_new/lib/python3.8/site-packages/sklearn/metrics/_classification.py:1318: UndefinedMetricWarning: Recall and F-score are ill-defined and being set to 0.0 in labels with no true samples. Use `zero_division` parameter to control this behavior.\n",
      "  _warn_prf(average, modifier, msg_start, len(result))\n",
      "/data/estorrs/miniconda3/envs/pollock_new/lib/python3.8/site-packages/sklearn/metrics/_classification.py:1318: UndefinedMetricWarning: Recall and F-score are ill-defined and being set to 0.0 in labels with no true samples. Use `zero_division` parameter to control this behavior.\n",
      "  _warn_prf(average, modifier, msg_start, len(result))\n",
      "/data/estorrs/miniconda3/envs/pollock_new/lib/python3.8/site-packages/sklearn/metrics/_classification.py:1318: UndefinedMetricWarning: Recall and F-score are ill-defined and being set to 0.0 in labels with no true samples. Use `zero_division` parameter to control this behavior.\n",
      "  _warn_prf(average, modifier, msg_start, len(result))\n",
      "/data/estorrs/miniconda3/envs/pollock_new/lib/python3.8/site-packages/sklearn/metrics/_classification.py:1318: UndefinedMetricWarning: Recall and F-score are ill-defined and being set to 0.0 in labels with no true samples. Use `zero_division` parameter to control this behavior.\n",
      "  _warn_prf(average, modifier, msg_start, len(result))\n",
      "/data/estorrs/miniconda3/envs/pollock_new/lib/python3.8/site-packages/sklearn/metrics/_classification.py:1318: UndefinedMetricWarning: Recall and F-score are ill-defined and being set to 0.0 in labels with no true samples. Use `zero_division` parameter to control this behavior.\n",
      "  _warn_prf(average, modifier, msg_start, len(result))\n",
      "/data/estorrs/miniconda3/envs/pollock_new/lib/python3.8/site-packages/sklearn/metrics/_classification.py:1318: UndefinedMetricWarning: Recall and F-score are ill-defined and being set to 0.0 in labels with no true samples. Use `zero_division` parameter to control this behavior.\n",
      "  _warn_prf(average, modifier, msg_start, len(result))\n"
     ]
    },
    {
     "name": "stdout",
     "output_type": "stream",
     "text": [
      "scRNAseq hnscc myeloma\n",
      "scRNAseq hnscc brca\n",
      "scRNAseq hnscc hnscc\n",
      "scRNAseq hnscc pdac\n",
      "scRNAseq hnscc melanoma\n",
      "scRNAseq pdac cesc\n"
     ]
    },
    {
     "name": "stderr",
     "output_type": "stream",
     "text": [
      "/data/estorrs/miniconda3/envs/pollock_new/lib/python3.8/site-packages/sklearn/metrics/_classification.py:1318: UndefinedMetricWarning: Recall and F-score are ill-defined and being set to 0.0 in labels with no true samples. Use `zero_division` parameter to control this behavior.\n",
      "  _warn_prf(average, modifier, msg_start, len(result))\n",
      "/data/estorrs/miniconda3/envs/pollock_new/lib/python3.8/site-packages/sklearn/metrics/_classification.py:1318: UndefinedMetricWarning: Recall and F-score are ill-defined and being set to 0.0 in labels with no true samples. Use `zero_division` parameter to control this behavior.\n",
      "  _warn_prf(average, modifier, msg_start, len(result))\n",
      "/data/estorrs/miniconda3/envs/pollock_new/lib/python3.8/site-packages/sklearn/metrics/_classification.py:1318: UndefinedMetricWarning: Recall and F-score are ill-defined and being set to 0.0 in labels with no true samples. Use `zero_division` parameter to control this behavior.\n",
      "  _warn_prf(average, modifier, msg_start, len(result))\n",
      "/data/estorrs/miniconda3/envs/pollock_new/lib/python3.8/site-packages/sklearn/metrics/_classification.py:1318: UndefinedMetricWarning: Recall and F-score are ill-defined and being set to 0.0 in labels with no true samples. Use `zero_division` parameter to control this behavior.\n",
      "  _warn_prf(average, modifier, msg_start, len(result))\n",
      "/data/estorrs/miniconda3/envs/pollock_new/lib/python3.8/site-packages/sklearn/metrics/_classification.py:1318: UndefinedMetricWarning: Recall and F-score are ill-defined and being set to 0.0 in labels with no true samples. Use `zero_division` parameter to control this behavior.\n",
      "  _warn_prf(average, modifier, msg_start, len(result))\n",
      "/data/estorrs/miniconda3/envs/pollock_new/lib/python3.8/site-packages/sklearn/metrics/_classification.py:1318: UndefinedMetricWarning: Recall and F-score are ill-defined and being set to 0.0 in labels with no true samples. Use `zero_division` parameter to control this behavior.\n",
      "  _warn_prf(average, modifier, msg_start, len(result))\n",
      "/data/estorrs/miniconda3/envs/pollock_new/lib/python3.8/site-packages/sklearn/metrics/_classification.py:1318: UndefinedMetricWarning: Recall and F-score are ill-defined and being set to 0.0 in labels with no true samples. Use `zero_division` parameter to control this behavior.\n",
      "  _warn_prf(average, modifier, msg_start, len(result))\n",
      "/data/estorrs/miniconda3/envs/pollock_new/lib/python3.8/site-packages/sklearn/metrics/_classification.py:1318: UndefinedMetricWarning: Recall and F-score are ill-defined and being set to 0.0 in labels with no true samples. Use `zero_division` parameter to control this behavior.\n",
      "  _warn_prf(average, modifier, msg_start, len(result))\n",
      "/data/estorrs/miniconda3/envs/pollock_new/lib/python3.8/site-packages/sklearn/metrics/_classification.py:1318: UndefinedMetricWarning: Recall and F-score are ill-defined and being set to 0.0 in labels with no true samples. Use `zero_division` parameter to control this behavior.\n",
      "  _warn_prf(average, modifier, msg_start, len(result))\n"
     ]
    },
    {
     "name": "stdout",
     "output_type": "stream",
     "text": [
      "scRNAseq pdac myeloma\n",
      "scRNAseq pdac brca\n"
     ]
    },
    {
     "name": "stderr",
     "output_type": "stream",
     "text": [
      "/data/estorrs/miniconda3/envs/pollock_new/lib/python3.8/site-packages/sklearn/metrics/_classification.py:1318: UndefinedMetricWarning: Recall and F-score are ill-defined and being set to 0.0 in labels with no true samples. Use `zero_division` parameter to control this behavior.\n",
      "  _warn_prf(average, modifier, msg_start, len(result))\n",
      "/data/estorrs/miniconda3/envs/pollock_new/lib/python3.8/site-packages/sklearn/metrics/_classification.py:1318: UndefinedMetricWarning: Recall and F-score are ill-defined and being set to 0.0 in labels with no true samples. Use `zero_division` parameter to control this behavior.\n",
      "  _warn_prf(average, modifier, msg_start, len(result))\n",
      "/data/estorrs/miniconda3/envs/pollock_new/lib/python3.8/site-packages/sklearn/metrics/_classification.py:1318: UndefinedMetricWarning: Recall and F-score are ill-defined and being set to 0.0 in labels with no true samples. Use `zero_division` parameter to control this behavior.\n",
      "  _warn_prf(average, modifier, msg_start, len(result))\n"
     ]
    },
    {
     "name": "stdout",
     "output_type": "stream",
     "text": [
      "scRNAseq pdac hnscc\n"
     ]
    },
    {
     "name": "stderr",
     "output_type": "stream",
     "text": [
      "/data/estorrs/miniconda3/envs/pollock_new/lib/python3.8/site-packages/sklearn/metrics/_classification.py:1318: UndefinedMetricWarning: Recall and F-score are ill-defined and being set to 0.0 in labels with no true samples. Use `zero_division` parameter to control this behavior.\n",
      "  _warn_prf(average, modifier, msg_start, len(result))\n",
      "/data/estorrs/miniconda3/envs/pollock_new/lib/python3.8/site-packages/sklearn/metrics/_classification.py:1318: UndefinedMetricWarning: Recall and F-score are ill-defined and being set to 0.0 in labels with no true samples. Use `zero_division` parameter to control this behavior.\n",
      "  _warn_prf(average, modifier, msg_start, len(result))\n",
      "/data/estorrs/miniconda3/envs/pollock_new/lib/python3.8/site-packages/sklearn/metrics/_classification.py:1318: UndefinedMetricWarning: Recall and F-score are ill-defined and being set to 0.0 in labels with no true samples. Use `zero_division` parameter to control this behavior.\n",
      "  _warn_prf(average, modifier, msg_start, len(result))\n"
     ]
    },
    {
     "name": "stdout",
     "output_type": "stream",
     "text": [
      "scRNAseq pdac pdac\n",
      "scRNAseq pdac melanoma\n",
      "scRNAseq melanoma cesc\n"
     ]
    },
    {
     "name": "stderr",
     "output_type": "stream",
     "text": [
      "/data/estorrs/miniconda3/envs/pollock_new/lib/python3.8/site-packages/sklearn/metrics/_classification.py:1318: UndefinedMetricWarning: Recall and F-score are ill-defined and being set to 0.0 in labels with no true samples. Use `zero_division` parameter to control this behavior.\n",
      "  _warn_prf(average, modifier, msg_start, len(result))\n",
      "/data/estorrs/miniconda3/envs/pollock_new/lib/python3.8/site-packages/sklearn/metrics/_classification.py:1318: UndefinedMetricWarning: Recall and F-score are ill-defined and being set to 0.0 in labels with no true samples. Use `zero_division` parameter to control this behavior.\n",
      "  _warn_prf(average, modifier, msg_start, len(result))\n",
      "/data/estorrs/miniconda3/envs/pollock_new/lib/python3.8/site-packages/sklearn/metrics/_classification.py:1318: UndefinedMetricWarning: Recall and F-score are ill-defined and being set to 0.0 in labels with no true samples. Use `zero_division` parameter to control this behavior.\n",
      "  _warn_prf(average, modifier, msg_start, len(result))\n",
      "/data/estorrs/miniconda3/envs/pollock_new/lib/python3.8/site-packages/sklearn/metrics/_classification.py:1318: UndefinedMetricWarning: Recall and F-score are ill-defined and being set to 0.0 in labels with no true samples. Use `zero_division` parameter to control this behavior.\n",
      "  _warn_prf(average, modifier, msg_start, len(result))\n",
      "/data/estorrs/miniconda3/envs/pollock_new/lib/python3.8/site-packages/sklearn/metrics/_classification.py:1318: UndefinedMetricWarning: Recall and F-score are ill-defined and being set to 0.0 in labels with no true samples. Use `zero_division` parameter to control this behavior.\n",
      "  _warn_prf(average, modifier, msg_start, len(result))\n",
      "/data/estorrs/miniconda3/envs/pollock_new/lib/python3.8/site-packages/sklearn/metrics/_classification.py:1318: UndefinedMetricWarning: Recall and F-score are ill-defined and being set to 0.0 in labels with no true samples. Use `zero_division` parameter to control this behavior.\n",
      "  _warn_prf(average, modifier, msg_start, len(result))\n",
      "/data/estorrs/miniconda3/envs/pollock_new/lib/python3.8/site-packages/sklearn/metrics/_classification.py:1318: UndefinedMetricWarning: Recall and F-score are ill-defined and being set to 0.0 in labels with no true samples. Use `zero_division` parameter to control this behavior.\n",
      "  _warn_prf(average, modifier, msg_start, len(result))\n",
      "/data/estorrs/miniconda3/envs/pollock_new/lib/python3.8/site-packages/sklearn/metrics/_classification.py:1318: UndefinedMetricWarning: Recall and F-score are ill-defined and being set to 0.0 in labels with no true samples. Use `zero_division` parameter to control this behavior.\n",
      "  _warn_prf(average, modifier, msg_start, len(result))\n",
      "/data/estorrs/miniconda3/envs/pollock_new/lib/python3.8/site-packages/sklearn/metrics/_classification.py:1318: UndefinedMetricWarning: Recall and F-score are ill-defined and being set to 0.0 in labels with no true samples. Use `zero_division` parameter to control this behavior.\n",
      "  _warn_prf(average, modifier, msg_start, len(result))\n"
     ]
    },
    {
     "name": "stdout",
     "output_type": "stream",
     "text": [
      "scRNAseq melanoma myeloma\n",
      "scRNAseq melanoma brca\n",
      "scRNAseq melanoma hnscc\n"
     ]
    },
    {
     "name": "stderr",
     "output_type": "stream",
     "text": [
      "/data/estorrs/miniconda3/envs/pollock_new/lib/python3.8/site-packages/sklearn/metrics/_classification.py:1318: UndefinedMetricWarning: Recall and F-score are ill-defined and being set to 0.0 in labels with no true samples. Use `zero_division` parameter to control this behavior.\n",
      "  _warn_prf(average, modifier, msg_start, len(result))\n",
      "/data/estorrs/miniconda3/envs/pollock_new/lib/python3.8/site-packages/sklearn/metrics/_classification.py:1318: UndefinedMetricWarning: Recall and F-score are ill-defined and being set to 0.0 in labels with no true samples. Use `zero_division` parameter to control this behavior.\n",
      "  _warn_prf(average, modifier, msg_start, len(result))\n",
      "/data/estorrs/miniconda3/envs/pollock_new/lib/python3.8/site-packages/sklearn/metrics/_classification.py:1318: UndefinedMetricWarning: Recall and F-score are ill-defined and being set to 0.0 in labels with no true samples. Use `zero_division` parameter to control this behavior.\n",
      "  _warn_prf(average, modifier, msg_start, len(result))\n"
     ]
    },
    {
     "name": "stdout",
     "output_type": "stream",
     "text": [
      "scRNAseq melanoma pdac\n",
      "scRNAseq melanoma melanoma\n"
     ]
    }
   ],
   "source": [
    "for dtype, d1 in fmap.items():\n",
    "    for disease, d2 in d1.items():\n",
    "        for disease_2, disease_2_d in d1.items():\n",
    "            print(dtype, disease, disease_2)\n",
    "            adata = sc.read_h5ad(os.path.join(result_dir, 'cross_disease', f'{dtype}_{disease}_{disease_2}.h5ad'))\n",
    "            y_pred = adata.obs['predicted_cell_type'].to_list()\n",
    "            y_true = adata.obs['cell_type'].to_list()\n",
    "            d, cm = get_metrics(y_true, y_pred, overlapping_only=True)\n",
    "\n",
    "            d.to_csv(os.path.join(result_dir, 'cross_disease', f'{dtype}_{disease}_{disease_2}_clf_report.txt'), sep='\\t')\n",
    "            cm.to_csv(os.path.join(result_dir, 'cross_disease', f'{dtype}_{disease}_{disease_2}_confusion_matrix.txt'), sep='\\t')"
   ]
  },
  {
   "cell_type": "code",
   "execution_count": 24,
   "id": "e5022db0",
   "metadata": {},
   "outputs": [
    {
     "name": "stdout",
     "output_type": "stream",
     "text": [
      "snRNAseq ccrcc\n"
     ]
    },
    {
     "name": "stderr",
     "output_type": "stream",
     "text": [
      "/data/estorrs/miniconda3/envs/pollock_new/lib/python3.8/site-packages/sklearn/metrics/_classification.py:1318: UndefinedMetricWarning: Recall and F-score are ill-defined and being set to 0.0 in labels with no true samples. Use `zero_division` parameter to control this behavior.\n",
      "  _warn_prf(average, modifier, msg_start, len(result))\n",
      "/data/estorrs/miniconda3/envs/pollock_new/lib/python3.8/site-packages/sklearn/metrics/_classification.py:1318: UndefinedMetricWarning: Recall and F-score are ill-defined and being set to 0.0 in labels with no true samples. Use `zero_division` parameter to control this behavior.\n",
      "  _warn_prf(average, modifier, msg_start, len(result))\n",
      "/data/estorrs/miniconda3/envs/pollock_new/lib/python3.8/site-packages/sklearn/metrics/_classification.py:1318: UndefinedMetricWarning: Recall and F-score are ill-defined and being set to 0.0 in labels with no true samples. Use `zero_division` parameter to control this behavior.\n",
      "  _warn_prf(average, modifier, msg_start, len(result))\n"
     ]
    },
    {
     "name": "stdout",
     "output_type": "stream",
     "text": [
      "snRNAseq brca\n"
     ]
    },
    {
     "name": "stderr",
     "output_type": "stream",
     "text": [
      "/data/estorrs/miniconda3/envs/pollock_new/lib/python3.8/site-packages/sklearn/metrics/_classification.py:1318: UndefinedMetricWarning: Recall and F-score are ill-defined and being set to 0.0 in labels with no true samples. Use `zero_division` parameter to control this behavior.\n",
      "  _warn_prf(average, modifier, msg_start, len(result))\n",
      "/data/estorrs/miniconda3/envs/pollock_new/lib/python3.8/site-packages/sklearn/metrics/_classification.py:1318: UndefinedMetricWarning: Recall and F-score are ill-defined and being set to 0.0 in labels with no true samples. Use `zero_division` parameter to control this behavior.\n",
      "  _warn_prf(average, modifier, msg_start, len(result))\n",
      "/data/estorrs/miniconda3/envs/pollock_new/lib/python3.8/site-packages/sklearn/metrics/_classification.py:1318: UndefinedMetricWarning: Recall and F-score are ill-defined and being set to 0.0 in labels with no true samples. Use `zero_division` parameter to control this behavior.\n",
      "  _warn_prf(average, modifier, msg_start, len(result))\n"
     ]
    },
    {
     "name": "stdout",
     "output_type": "stream",
     "text": [
      "snRNAseq gbm\n"
     ]
    },
    {
     "name": "stderr",
     "output_type": "stream",
     "text": [
      "/data/estorrs/miniconda3/envs/pollock_new/lib/python3.8/site-packages/sklearn/metrics/_classification.py:1318: UndefinedMetricWarning: Recall and F-score are ill-defined and being set to 0.0 in labels with no true samples. Use `zero_division` parameter to control this behavior.\n",
      "  _warn_prf(average, modifier, msg_start, len(result))\n",
      "/data/estorrs/miniconda3/envs/pollock_new/lib/python3.8/site-packages/sklearn/metrics/_classification.py:1318: UndefinedMetricWarning: Recall and F-score are ill-defined and being set to 0.0 in labels with no true samples. Use `zero_division` parameter to control this behavior.\n",
      "  _warn_prf(average, modifier, msg_start, len(result))\n",
      "/data/estorrs/miniconda3/envs/pollock_new/lib/python3.8/site-packages/sklearn/metrics/_classification.py:1318: UndefinedMetricWarning: Recall and F-score are ill-defined and being set to 0.0 in labels with no true samples. Use `zero_division` parameter to control this behavior.\n",
      "  _warn_prf(average, modifier, msg_start, len(result))\n",
      "/data/estorrs/miniconda3/envs/pollock_new/lib/python3.8/site-packages/sklearn/metrics/_classification.py:1318: UndefinedMetricWarning: Recall and F-score are ill-defined and being set to 0.0 in labels with no true samples. Use `zero_division` parameter to control this behavior.\n",
      "  _warn_prf(average, modifier, msg_start, len(result))\n"
     ]
    },
    {
     "name": "stdout",
     "output_type": "stream",
     "text": [
      "snATACseq brca\n"
     ]
    },
    {
     "name": "stderr",
     "output_type": "stream",
     "text": [
      "/data/estorrs/miniconda3/envs/pollock_new/lib/python3.8/site-packages/sklearn/metrics/_classification.py:1318: UndefinedMetricWarning: Recall and F-score are ill-defined and being set to 0.0 in labels with no true samples. Use `zero_division` parameter to control this behavior.\n",
      "  _warn_prf(average, modifier, msg_start, len(result))\n",
      "/data/estorrs/miniconda3/envs/pollock_new/lib/python3.8/site-packages/sklearn/metrics/_classification.py:1318: UndefinedMetricWarning: Recall and F-score are ill-defined and being set to 0.0 in labels with no true samples. Use `zero_division` parameter to control this behavior.\n",
      "  _warn_prf(average, modifier, msg_start, len(result))\n",
      "/data/estorrs/miniconda3/envs/pollock_new/lib/python3.8/site-packages/sklearn/metrics/_classification.py:1318: UndefinedMetricWarning: Recall and F-score are ill-defined and being set to 0.0 in labels with no true samples. Use `zero_division` parameter to control this behavior.\n",
      "  _warn_prf(average, modifier, msg_start, len(result))\n",
      "/data/estorrs/miniconda3/envs/pollock_new/lib/python3.8/site-packages/sklearn/metrics/_classification.py:1318: UndefinedMetricWarning: Recall and F-score are ill-defined and being set to 0.0 in labels with no true samples. Use `zero_division` parameter to control this behavior.\n",
      "  _warn_prf(average, modifier, msg_start, len(result))\n",
      "/data/estorrs/miniconda3/envs/pollock_new/lib/python3.8/site-packages/sklearn/metrics/_classification.py:1318: UndefinedMetricWarning: Recall and F-score are ill-defined and being set to 0.0 in labels with no true samples. Use `zero_division` parameter to control this behavior.\n",
      "  _warn_prf(average, modifier, msg_start, len(result))\n"
     ]
    },
    {
     "name": "stdout",
     "output_type": "stream",
     "text": [
      "snATACseq ccrcc\n",
      "snATACseq gbm\n"
     ]
    },
    {
     "name": "stderr",
     "output_type": "stream",
     "text": [
      "/data/estorrs/miniconda3/envs/pollock_new/lib/python3.8/site-packages/sklearn/metrics/_classification.py:1318: UndefinedMetricWarning: Recall and F-score are ill-defined and being set to 0.0 in labels with no true samples. Use `zero_division` parameter to control this behavior.\n",
      "  _warn_prf(average, modifier, msg_start, len(result))\n",
      "/data/estorrs/miniconda3/envs/pollock_new/lib/python3.8/site-packages/sklearn/metrics/_classification.py:1318: UndefinedMetricWarning: Recall and F-score are ill-defined and being set to 0.0 in labels with no true samples. Use `zero_division` parameter to control this behavior.\n",
      "  _warn_prf(average, modifier, msg_start, len(result))\n",
      "/data/estorrs/miniconda3/envs/pollock_new/lib/python3.8/site-packages/sklearn/metrics/_classification.py:1318: UndefinedMetricWarning: Recall and F-score are ill-defined and being set to 0.0 in labels with no true samples. Use `zero_division` parameter to control this behavior.\n",
      "  _warn_prf(average, modifier, msg_start, len(result))\n",
      "/data/estorrs/miniconda3/envs/pollock_new/lib/python3.8/site-packages/sklearn/metrics/_classification.py:1318: UndefinedMetricWarning: Recall and F-score are ill-defined and being set to 0.0 in labels with no true samples. Use `zero_division` parameter to control this behavior.\n",
      "  _warn_prf(average, modifier, msg_start, len(result))\n",
      "/data/estorrs/miniconda3/envs/pollock_new/lib/python3.8/site-packages/sklearn/metrics/_classification.py:1318: UndefinedMetricWarning: Recall and F-score are ill-defined and being set to 0.0 in labels with no true samples. Use `zero_division` parameter to control this behavior.\n",
      "  _warn_prf(average, modifier, msg_start, len(result))\n",
      "/data/estorrs/miniconda3/envs/pollock_new/lib/python3.8/site-packages/sklearn/metrics/_classification.py:1318: UndefinedMetricWarning: Recall and F-score are ill-defined and being set to 0.0 in labels with no true samples. Use `zero_division` parameter to control this behavior.\n",
      "  _warn_prf(average, modifier, msg_start, len(result))\n"
     ]
    },
    {
     "name": "stdout",
     "output_type": "stream",
     "text": [
      "scRNAseq cesc\n",
      "scRNAseq myeloma\n"
     ]
    },
    {
     "name": "stderr",
     "output_type": "stream",
     "text": [
      "/data/estorrs/miniconda3/envs/pollock_new/lib/python3.8/site-packages/sklearn/metrics/_classification.py:1318: UndefinedMetricWarning: Recall and F-score are ill-defined and being set to 0.0 in labels with no true samples. Use `zero_division` parameter to control this behavior.\n",
      "  _warn_prf(average, modifier, msg_start, len(result))\n",
      "/data/estorrs/miniconda3/envs/pollock_new/lib/python3.8/site-packages/sklearn/metrics/_classification.py:1318: UndefinedMetricWarning: Recall and F-score are ill-defined and being set to 0.0 in labels with no true samples. Use `zero_division` parameter to control this behavior.\n",
      "  _warn_prf(average, modifier, msg_start, len(result))\n",
      "/data/estorrs/miniconda3/envs/pollock_new/lib/python3.8/site-packages/sklearn/metrics/_classification.py:1318: UndefinedMetricWarning: Recall and F-score are ill-defined and being set to 0.0 in labels with no true samples. Use `zero_division` parameter to control this behavior.\n",
      "  _warn_prf(average, modifier, msg_start, len(result))\n"
     ]
    },
    {
     "name": "stdout",
     "output_type": "stream",
     "text": [
      "scRNAseq brca\n"
     ]
    },
    {
     "name": "stderr",
     "output_type": "stream",
     "text": [
      "/data/estorrs/miniconda3/envs/pollock_new/lib/python3.8/site-packages/sklearn/metrics/_classification.py:1318: UndefinedMetricWarning: Recall and F-score are ill-defined and being set to 0.0 in labels with no true samples. Use `zero_division` parameter to control this behavior.\n",
      "  _warn_prf(average, modifier, msg_start, len(result))\n",
      "/data/estorrs/miniconda3/envs/pollock_new/lib/python3.8/site-packages/sklearn/metrics/_classification.py:1318: UndefinedMetricWarning: Recall and F-score are ill-defined and being set to 0.0 in labels with no true samples. Use `zero_division` parameter to control this behavior.\n",
      "  _warn_prf(average, modifier, msg_start, len(result))\n",
      "/data/estorrs/miniconda3/envs/pollock_new/lib/python3.8/site-packages/sklearn/metrics/_classification.py:1318: UndefinedMetricWarning: Recall and F-score are ill-defined and being set to 0.0 in labels with no true samples. Use `zero_division` parameter to control this behavior.\n",
      "  _warn_prf(average, modifier, msg_start, len(result))\n"
     ]
    },
    {
     "name": "stdout",
     "output_type": "stream",
     "text": [
      "scRNAseq hnscc\n"
     ]
    },
    {
     "name": "stderr",
     "output_type": "stream",
     "text": [
      "/data/estorrs/miniconda3/envs/pollock_new/lib/python3.8/site-packages/sklearn/metrics/_classification.py:1318: UndefinedMetricWarning: Recall and F-score are ill-defined and being set to 0.0 in labels with no true samples. Use `zero_division` parameter to control this behavior.\n",
      "  _warn_prf(average, modifier, msg_start, len(result))\n",
      "/data/estorrs/miniconda3/envs/pollock_new/lib/python3.8/site-packages/sklearn/metrics/_classification.py:1318: UndefinedMetricWarning: Recall and F-score are ill-defined and being set to 0.0 in labels with no true samples. Use `zero_division` parameter to control this behavior.\n",
      "  _warn_prf(average, modifier, msg_start, len(result))\n",
      "/data/estorrs/miniconda3/envs/pollock_new/lib/python3.8/site-packages/sklearn/metrics/_classification.py:1318: UndefinedMetricWarning: Recall and F-score are ill-defined and being set to 0.0 in labels with no true samples. Use `zero_division` parameter to control this behavior.\n",
      "  _warn_prf(average, modifier, msg_start, len(result))\n"
     ]
    },
    {
     "name": "stdout",
     "output_type": "stream",
     "text": [
      "scRNAseq pdac\n",
      "scRNAseq melanoma\n"
     ]
    },
    {
     "name": "stderr",
     "output_type": "stream",
     "text": [
      "/data/estorrs/miniconda3/envs/pollock_new/lib/python3.8/site-packages/sklearn/metrics/_classification.py:1318: UndefinedMetricWarning: Recall and F-score are ill-defined and being set to 0.0 in labels with no true samples. Use `zero_division` parameter to control this behavior.\n",
      "  _warn_prf(average, modifier, msg_start, len(result))\n",
      "/data/estorrs/miniconda3/envs/pollock_new/lib/python3.8/site-packages/sklearn/metrics/_classification.py:1318: UndefinedMetricWarning: Recall and F-score are ill-defined and being set to 0.0 in labels with no true samples. Use `zero_division` parameter to control this behavior.\n",
      "  _warn_prf(average, modifier, msg_start, len(result))\n",
      "/data/estorrs/miniconda3/envs/pollock_new/lib/python3.8/site-packages/sklearn/metrics/_classification.py:1318: UndefinedMetricWarning: Recall and F-score are ill-defined and being set to 0.0 in labels with no true samples. Use `zero_division` parameter to control this behavior.\n",
      "  _warn_prf(average, modifier, msg_start, len(result))\n"
     ]
    }
   ],
   "source": [
    "for dtype, d1 in fmap.items():\n",
    "    for disease, d2 in d1.items():\n",
    "        print(dtype, disease)\n",
    "        adata = sc.read_h5ad(os.path.join(result_dir, 'generalized', f'{dtype}_{disease}.h5ad'))\n",
    "        y_pred = adata.obs['predicted_cell_type'].to_list()\n",
    "        y_true = adata.obs['cell_type'].to_list()\n",
    "        d, cm = get_metrics(y_true, y_pred, overlapping_only=True)\n",
    "        \n",
    "        d.to_csv(os.path.join(result_dir, 'generalized', f'{dtype}_{disease}_clf_report.txt'), sep='\\t')\n",
    "        cm.to_csv(os.path.join(result_dir, 'generalized', f'{dtype}_{disease}_confusion_matrix.txt'), sep='\\t')"
   ]
  },
  {
   "cell_type": "code",
   "execution_count": 25,
   "id": "14b28cbd",
   "metadata": {},
   "outputs": [
    {
     "name": "stderr",
     "output_type": "stream",
     "text": [
      "/data/estorrs/miniconda3/envs/pollock_new/lib/python3.8/site-packages/sklearn/metrics/_classification.py:1318: UndefinedMetricWarning: Recall and F-score are ill-defined and being set to 0.0 in labels with no true samples. Use `zero_division` parameter to control this behavior.\n",
      "  _warn_prf(average, modifier, msg_start, len(result))\n",
      "/data/estorrs/miniconda3/envs/pollock_new/lib/python3.8/site-packages/sklearn/metrics/_classification.py:1318: UndefinedMetricWarning: Recall and F-score are ill-defined and being set to 0.0 in labels with no true samples. Use `zero_division` parameter to control this behavior.\n",
      "  _warn_prf(average, modifier, msg_start, len(result))\n",
      "/data/estorrs/miniconda3/envs/pollock_new/lib/python3.8/site-packages/sklearn/metrics/_classification.py:1318: UndefinedMetricWarning: Recall and F-score are ill-defined and being set to 0.0 in labels with no true samples. Use `zero_division` parameter to control this behavior.\n",
      "  _warn_prf(average, modifier, msg_start, len(result))\n"
     ]
    }
   ],
   "source": [
    "adata = sc.read_h5ad(os.path.join(result_dir, 'generalized', f'scRNAseq_hca.h5ad'))\n",
    "y_pred = adata.obs['predicted_cell_type'].to_list()\n",
    "y_true = adata.obs['cell_type'].to_list()\n",
    "d, cm = get_metrics(y_true, y_pred, overlapping_only=True)\n",
    "\n",
    "d.to_csv(os.path.join(result_dir, 'generalized', f'scRNAseq_hca_clf_report.txt'), sep='\\t')\n",
    "cm.to_csv(os.path.join(result_dir, 'generalized', f'scRNAseq_hca_confusion_matrix.txt'), sep='\\t')"
   ]
  },
  {
   "cell_type": "code",
   "execution_count": 83,
   "id": "eb0becb2",
   "metadata": {
    "scrolled": true
   },
   "outputs": [
    {
     "name": "stdout",
     "output_type": "stream",
     "text": [
      "brca 0.00\n",
      "brca 0.20\n",
      "brca 0.40\n",
      "brca 0.60\n",
      "brca 0.80\n",
      "brca 0.90\n",
      "brca 0.95\n",
      "cesc 0.00\n",
      "cesc 0.20\n",
      "cesc 0.40\n",
      "cesc 0.60\n",
      "cesc 0.80\n",
      "cesc 0.90\n",
      "cesc 0.95\n",
      "hnscc 0.00\n",
      "hnscc 0.20\n",
      "hnscc 0.40\n",
      "hnscc 0.60\n",
      "hnscc 0.80\n",
      "hnscc 0.90\n",
      "hnscc 0.95\n",
      "melanoma 0.00\n",
      "melanoma 0.20\n",
      "melanoma 0.40\n",
      "melanoma 0.60\n",
      "melanoma 0.80\n",
      "melanoma 0.90\n",
      "melanoma 0.95\n",
      "myeloma 0.00\n"
     ]
    },
    {
     "name": "stderr",
     "output_type": "stream",
     "text": [
      "/data/estorrs/miniconda3/envs/pollock_new/lib/python3.8/site-packages/sklearn/metrics/_classification.py:1318: UndefinedMetricWarning: Precision and F-score are ill-defined and being set to 0.0 in labels with no predicted samples. Use `zero_division` parameter to control this behavior.\n",
      "  _warn_prf(average, modifier, msg_start, len(result))\n",
      "/data/estorrs/miniconda3/envs/pollock_new/lib/python3.8/site-packages/sklearn/metrics/_classification.py:1318: UndefinedMetricWarning: Precision and F-score are ill-defined and being set to 0.0 in labels with no predicted samples. Use `zero_division` parameter to control this behavior.\n",
      "  _warn_prf(average, modifier, msg_start, len(result))\n",
      "/data/estorrs/miniconda3/envs/pollock_new/lib/python3.8/site-packages/sklearn/metrics/_classification.py:1318: UndefinedMetricWarning: Precision and F-score are ill-defined and being set to 0.0 in labels with no predicted samples. Use `zero_division` parameter to control this behavior.\n",
      "  _warn_prf(average, modifier, msg_start, len(result))\n",
      "/data/estorrs/miniconda3/envs/pollock_new/lib/python3.8/site-packages/sklearn/metrics/_classification.py:1318: UndefinedMetricWarning: Precision and F-score are ill-defined and being set to 0.0 in labels with no predicted samples. Use `zero_division` parameter to control this behavior.\n",
      "  _warn_prf(average, modifier, msg_start, len(result))\n",
      "/data/estorrs/miniconda3/envs/pollock_new/lib/python3.8/site-packages/sklearn/metrics/_classification.py:1318: UndefinedMetricWarning: Precision and F-score are ill-defined and being set to 0.0 in labels with no predicted samples. Use `zero_division` parameter to control this behavior.\n",
      "  _warn_prf(average, modifier, msg_start, len(result))\n",
      "/data/estorrs/miniconda3/envs/pollock_new/lib/python3.8/site-packages/sklearn/metrics/_classification.py:1318: UndefinedMetricWarning: Precision and F-score are ill-defined and being set to 0.0 in labels with no predicted samples. Use `zero_division` parameter to control this behavior.\n",
      "  _warn_prf(average, modifier, msg_start, len(result))\n"
     ]
    },
    {
     "name": "stdout",
     "output_type": "stream",
     "text": [
      "myeloma 0.20\n",
      "myeloma 0.40\n"
     ]
    },
    {
     "name": "stderr",
     "output_type": "stream",
     "text": [
      "/data/estorrs/miniconda3/envs/pollock_new/lib/python3.8/site-packages/sklearn/metrics/_classification.py:1318: UndefinedMetricWarning: Precision and F-score are ill-defined and being set to 0.0 in labels with no predicted samples. Use `zero_division` parameter to control this behavior.\n",
      "  _warn_prf(average, modifier, msg_start, len(result))\n",
      "/data/estorrs/miniconda3/envs/pollock_new/lib/python3.8/site-packages/sklearn/metrics/_classification.py:1318: UndefinedMetricWarning: Precision and F-score are ill-defined and being set to 0.0 in labels with no predicted samples. Use `zero_division` parameter to control this behavior.\n",
      "  _warn_prf(average, modifier, msg_start, len(result))\n",
      "/data/estorrs/miniconda3/envs/pollock_new/lib/python3.8/site-packages/sklearn/metrics/_classification.py:1318: UndefinedMetricWarning: Precision and F-score are ill-defined and being set to 0.0 in labels with no predicted samples. Use `zero_division` parameter to control this behavior.\n",
      "  _warn_prf(average, modifier, msg_start, len(result))\n",
      "/data/estorrs/miniconda3/envs/pollock_new/lib/python3.8/site-packages/sklearn/metrics/_classification.py:1318: UndefinedMetricWarning: Precision and F-score are ill-defined and being set to 0.0 in labels with no predicted samples. Use `zero_division` parameter to control this behavior.\n",
      "  _warn_prf(average, modifier, msg_start, len(result))\n",
      "/data/estorrs/miniconda3/envs/pollock_new/lib/python3.8/site-packages/sklearn/metrics/_classification.py:1318: UndefinedMetricWarning: Precision and F-score are ill-defined and being set to 0.0 in labels with no predicted samples. Use `zero_division` parameter to control this behavior.\n",
      "  _warn_prf(average, modifier, msg_start, len(result))\n",
      "/data/estorrs/miniconda3/envs/pollock_new/lib/python3.8/site-packages/sklearn/metrics/_classification.py:1318: UndefinedMetricWarning: Precision and F-score are ill-defined and being set to 0.0 in labels with no predicted samples. Use `zero_division` parameter to control this behavior.\n",
      "  _warn_prf(average, modifier, msg_start, len(result))\n"
     ]
    },
    {
     "name": "stdout",
     "output_type": "stream",
     "text": [
      "myeloma 0.60\n",
      "myeloma 0.80\n"
     ]
    },
    {
     "name": "stderr",
     "output_type": "stream",
     "text": [
      "/data/estorrs/miniconda3/envs/pollock_new/lib/python3.8/site-packages/sklearn/metrics/_classification.py:1318: UndefinedMetricWarning: Precision and F-score are ill-defined and being set to 0.0 in labels with no predicted samples. Use `zero_division` parameter to control this behavior.\n",
      "  _warn_prf(average, modifier, msg_start, len(result))\n",
      "/data/estorrs/miniconda3/envs/pollock_new/lib/python3.8/site-packages/sklearn/metrics/_classification.py:1318: UndefinedMetricWarning: Precision and F-score are ill-defined and being set to 0.0 in labels with no predicted samples. Use `zero_division` parameter to control this behavior.\n",
      "  _warn_prf(average, modifier, msg_start, len(result))\n",
      "/data/estorrs/miniconda3/envs/pollock_new/lib/python3.8/site-packages/sklearn/metrics/_classification.py:1318: UndefinedMetricWarning: Precision and F-score are ill-defined and being set to 0.0 in labels with no predicted samples. Use `zero_division` parameter to control this behavior.\n",
      "  _warn_prf(average, modifier, msg_start, len(result))\n",
      "/data/estorrs/miniconda3/envs/pollock_new/lib/python3.8/site-packages/sklearn/metrics/_classification.py:1318: UndefinedMetricWarning: Precision and F-score are ill-defined and being set to 0.0 in labels with no predicted samples. Use `zero_division` parameter to control this behavior.\n",
      "  _warn_prf(average, modifier, msg_start, len(result))\n",
      "/data/estorrs/miniconda3/envs/pollock_new/lib/python3.8/site-packages/sklearn/metrics/_classification.py:1318: UndefinedMetricWarning: Precision and F-score are ill-defined and being set to 0.0 in labels with no predicted samples. Use `zero_division` parameter to control this behavior.\n",
      "  _warn_prf(average, modifier, msg_start, len(result))\n",
      "/data/estorrs/miniconda3/envs/pollock_new/lib/python3.8/site-packages/sklearn/metrics/_classification.py:1318: UndefinedMetricWarning: Precision and F-score are ill-defined and being set to 0.0 in labels with no predicted samples. Use `zero_division` parameter to control this behavior.\n",
      "  _warn_prf(average, modifier, msg_start, len(result))\n"
     ]
    },
    {
     "name": "stdout",
     "output_type": "stream",
     "text": [
      "myeloma 0.90\n",
      "myeloma 0.95\n"
     ]
    },
    {
     "name": "stderr",
     "output_type": "stream",
     "text": [
      "/data/estorrs/miniconda3/envs/pollock_new/lib/python3.8/site-packages/sklearn/metrics/_classification.py:1318: UndefinedMetricWarning: Precision and F-score are ill-defined and being set to 0.0 in labels with no predicted samples. Use `zero_division` parameter to control this behavior.\n",
      "  _warn_prf(average, modifier, msg_start, len(result))\n",
      "/data/estorrs/miniconda3/envs/pollock_new/lib/python3.8/site-packages/sklearn/metrics/_classification.py:1318: UndefinedMetricWarning: Precision and F-score are ill-defined and being set to 0.0 in labels with no predicted samples. Use `zero_division` parameter to control this behavior.\n",
      "  _warn_prf(average, modifier, msg_start, len(result))\n",
      "/data/estorrs/miniconda3/envs/pollock_new/lib/python3.8/site-packages/sklearn/metrics/_classification.py:1318: UndefinedMetricWarning: Precision and F-score are ill-defined and being set to 0.0 in labels with no predicted samples. Use `zero_division` parameter to control this behavior.\n",
      "  _warn_prf(average, modifier, msg_start, len(result))\n"
     ]
    },
    {
     "name": "stdout",
     "output_type": "stream",
     "text": [
      "pdac 0.00\n",
      "pdac 0.20\n",
      "pdac 0.40\n",
      "pdac 0.60\n",
      "pdac 0.80\n",
      "pdac 0.90\n",
      "pdac 0.95\n"
     ]
    }
   ],
   "source": [
    "fps = sorted(utils.listfiles('/data/pollock/benchmarking/results/pollock/dropout'))\n",
    "for fp in fps:\n",
    "    root = fp.split('/')[-1].replace('.h5ad', '')\n",
    "    disease, rate = root.split('_')\n",
    "    print(disease, rate)\n",
    "    adata = sc.read_h5ad(fp)\n",
    "    y_pred = adata.obs['predicted_cell_type'].to_list()\n",
    "    y_true = adata.obs['cell_type'].to_list()\n",
    "    d, cm = get_metrics(y_true, y_pred)\n",
    "    d.to_csv(os.path.join(result_dir, 'dropout', f'{disease}_{rate}_clf_report.txt'), sep='\\t')\n",
    "    cm.to_csv(os.path.join(result_dir, 'dropout', f'{disease}_{rate}_confusion_matrix.txt'), sep='\\t')"
   ]
  },
  {
   "cell_type": "code",
   "execution_count": 29,
   "id": "712734fa",
   "metadata": {
    "scrolled": true
   },
   "outputs": [
    {
     "name": "stdout",
     "output_type": "stream",
     "text": [
      "brca-panimmune_val\n",
      "brca\n"
     ]
    },
    {
     "name": "stderr",
     "output_type": "stream",
     "text": [
      "/data/estorrs/miniconda3/envs/pollock_new/lib/python3.8/site-packages/sklearn/metrics/_classification.py:1318: UndefinedMetricWarning: Recall and F-score are ill-defined and being set to 0.0 in labels with no true samples. Use `zero_division` parameter to control this behavior.\n",
      "  _warn_prf(average, modifier, msg_start, len(result))\n",
      "/data/estorrs/miniconda3/envs/pollock_new/lib/python3.8/site-packages/sklearn/metrics/_classification.py:1318: UndefinedMetricWarning: Recall and F-score are ill-defined and being set to 0.0 in labels with no true samples. Use `zero_division` parameter to control this behavior.\n",
      "  _warn_prf(average, modifier, msg_start, len(result))\n",
      "/data/estorrs/miniconda3/envs/pollock_new/lib/python3.8/site-packages/sklearn/metrics/_classification.py:1318: UndefinedMetricWarning: Recall and F-score are ill-defined and being set to 0.0 in labels with no true samples. Use `zero_division` parameter to control this behavior.\n",
      "  _warn_prf(average, modifier, msg_start, len(result))\n"
     ]
    },
    {
     "name": "stdout",
     "output_type": "stream",
     "text": [
      "cesc\n"
     ]
    },
    {
     "name": "stderr",
     "output_type": "stream",
     "text": [
      "/data/estorrs/miniconda3/envs/pollock_new/lib/python3.8/site-packages/sklearn/metrics/_classification.py:1318: UndefinedMetricWarning: Recall and F-score are ill-defined and being set to 0.0 in labels with no true samples. Use `zero_division` parameter to control this behavior.\n",
      "  _warn_prf(average, modifier, msg_start, len(result))\n",
      "/data/estorrs/miniconda3/envs/pollock_new/lib/python3.8/site-packages/sklearn/metrics/_classification.py:1318: UndefinedMetricWarning: Recall and F-score are ill-defined and being set to 0.0 in labels with no true samples. Use `zero_division` parameter to control this behavior.\n",
      "  _warn_prf(average, modifier, msg_start, len(result))\n",
      "/data/estorrs/miniconda3/envs/pollock_new/lib/python3.8/site-packages/sklearn/metrics/_classification.py:1318: UndefinedMetricWarning: Recall and F-score are ill-defined and being set to 0.0 in labels with no true samples. Use `zero_division` parameter to control this behavior.\n",
      "  _warn_prf(average, modifier, msg_start, len(result))\n"
     ]
    },
    {
     "name": "stdout",
     "output_type": "stream",
     "text": [
      "hnscc\n"
     ]
    },
    {
     "name": "stderr",
     "output_type": "stream",
     "text": [
      "/data/estorrs/miniconda3/envs/pollock_new/lib/python3.8/site-packages/sklearn/metrics/_classification.py:1318: UndefinedMetricWarning: Recall and F-score are ill-defined and being set to 0.0 in labels with no true samples. Use `zero_division` parameter to control this behavior.\n",
      "  _warn_prf(average, modifier, msg_start, len(result))\n",
      "/data/estorrs/miniconda3/envs/pollock_new/lib/python3.8/site-packages/sklearn/metrics/_classification.py:1318: UndefinedMetricWarning: Recall and F-score are ill-defined and being set to 0.0 in labels with no true samples. Use `zero_division` parameter to control this behavior.\n",
      "  _warn_prf(average, modifier, msg_start, len(result))\n",
      "/data/estorrs/miniconda3/envs/pollock_new/lib/python3.8/site-packages/sklearn/metrics/_classification.py:1318: UndefinedMetricWarning: Recall and F-score are ill-defined and being set to 0.0 in labels with no true samples. Use `zero_division` parameter to control this behavior.\n",
      "  _warn_prf(average, modifier, msg_start, len(result))\n"
     ]
    },
    {
     "name": "stdout",
     "output_type": "stream",
     "text": [
      "melanoma\n"
     ]
    },
    {
     "name": "stderr",
     "output_type": "stream",
     "text": [
      "/data/estorrs/miniconda3/envs/pollock_new/lib/python3.8/site-packages/sklearn/metrics/_classification.py:1318: UndefinedMetricWarning: Recall and F-score are ill-defined and being set to 0.0 in labels with no true samples. Use `zero_division` parameter to control this behavior.\n",
      "  _warn_prf(average, modifier, msg_start, len(result))\n",
      "/data/estorrs/miniconda3/envs/pollock_new/lib/python3.8/site-packages/sklearn/metrics/_classification.py:1318: UndefinedMetricWarning: Recall and F-score are ill-defined and being set to 0.0 in labels with no true samples. Use `zero_division` parameter to control this behavior.\n",
      "  _warn_prf(average, modifier, msg_start, len(result))\n",
      "/data/estorrs/miniconda3/envs/pollock_new/lib/python3.8/site-packages/sklearn/metrics/_classification.py:1318: UndefinedMetricWarning: Recall and F-score are ill-defined and being set to 0.0 in labels with no true samples. Use `zero_division` parameter to control this behavior.\n",
      "  _warn_prf(average, modifier, msg_start, len(result))\n",
      "/data/estorrs/miniconda3/envs/pollock_new/lib/python3.8/site-packages/sklearn/metrics/_classification.py:1318: UndefinedMetricWarning: Recall and F-score are ill-defined and being set to 0.0 in labels with no true samples. Use `zero_division` parameter to control this behavior.\n",
      "  _warn_prf(average, modifier, msg_start, len(result))\n"
     ]
    },
    {
     "name": "stdout",
     "output_type": "stream",
     "text": [
      "myeloma\n",
      "pdac\n"
     ]
    },
    {
     "name": "stderr",
     "output_type": "stream",
     "text": [
      "/data/estorrs/miniconda3/envs/pollock_new/lib/python3.8/site-packages/sklearn/metrics/_classification.py:1318: UndefinedMetricWarning: Recall and F-score are ill-defined and being set to 0.0 in labels with no true samples. Use `zero_division` parameter to control this behavior.\n",
      "  _warn_prf(average, modifier, msg_start, len(result))\n",
      "/data/estorrs/miniconda3/envs/pollock_new/lib/python3.8/site-packages/sklearn/metrics/_classification.py:1318: UndefinedMetricWarning: Recall and F-score are ill-defined and being set to 0.0 in labels with no true samples. Use `zero_division` parameter to control this behavior.\n",
      "  _warn_prf(average, modifier, msg_start, len(result))\n",
      "/data/estorrs/miniconda3/envs/pollock_new/lib/python3.8/site-packages/sklearn/metrics/_classification.py:1318: UndefinedMetricWarning: Recall and F-score are ill-defined and being set to 0.0 in labels with no true samples. Use `zero_division` parameter to control this behavior.\n",
      "  _warn_prf(average, modifier, msg_start, len(result))\n",
      "/data/estorrs/miniconda3/envs/pollock_new/lib/python3.8/site-packages/sklearn/metrics/_classification.py:1318: UndefinedMetricWarning: Recall and F-score are ill-defined and being set to 0.0 in labels with no true samples. Use `zero_division` parameter to control this behavior.\n",
      "  _warn_prf(average, modifier, msg_start, len(result))\n",
      "/data/estorrs/miniconda3/envs/pollock_new/lib/python3.8/site-packages/sklearn/metrics/_classification.py:1318: UndefinedMetricWarning: Recall and F-score are ill-defined and being set to 0.0 in labels with no true samples. Use `zero_division` parameter to control this behavior.\n",
      "  _warn_prf(average, modifier, msg_start, len(result))\n"
     ]
    }
   ],
   "source": [
    "fps = sorted(utils.listfiles('/data/pollock/panimmune/results', regex='.h5ad$'))\n",
    "for fp in fps:\n",
    "    disease = fp.split('/')[-1].replace('.h5ad', '')\n",
    "    print(disease)\n",
    "    adata = sc.read_h5ad(fp)\n",
    "    y_pred = adata.obs['predicted_cell_type'].to_list()\n",
    "    y_true = adata.obs['cell_type'].to_list()\n",
    "    d, cm = get_metrics(y_true, y_pred, overlapping_only=True)\n",
    "    d.to_csv(os.path.join('/data/pollock/panimmune/results', f'{disease}_clf_report.txt'), sep='\\t')\n",
    "    cm.to_csv(os.path.join('/data/pollock/panimmune/results', f'{disease}_confusion_matrix.txt'), sep='\\t')"
   ]
  },
  {
   "cell_type": "code",
   "execution_count": null,
   "id": "648519fc",
   "metadata": {},
   "outputs": [],
   "source": []
  },
  {
   "cell_type": "code",
   "execution_count": null,
   "id": "b517587c",
   "metadata": {},
   "outputs": [],
   "source": []
  },
  {
   "cell_type": "code",
   "execution_count": null,
   "id": "c5551d91",
   "metadata": {},
   "outputs": [],
   "source": []
  },
  {
   "cell_type": "markdown",
   "id": "68fdbe84",
   "metadata": {},
   "source": [
    "#### explain "
   ]
  },
  {
   "cell_type": "code",
   "execution_count": 60,
   "id": "03227d8a",
   "metadata": {},
   "outputs": [],
   "source": [
    "model = utils.load_model('/data/pollock/panimmune/brca_panimmune')\n",
    "# model = utils.load_model('/data/pollock/panimmune/brca_panimmune_no_zinb/')\n",
    "val = sc.read_h5ad('/data/pollock/panimmune/data/brca-panimmune_val.h5ad')"
   ]
  },
  {
   "cell_type": "code",
   "execution_count": 61,
   "id": "d84f2eda",
   "metadata": {},
   "outputs": [
    {
     "data": {
      "text/plain": [
       "170"
      ]
     },
     "execution_count": 61,
     "metadata": {},
     "output_type": "execute_result"
    }
   ],
   "source": [
    "background_ids, _ = utils.get_splits(val, 'cell_type', 10, oversample=False, split=1.)\n",
    "len(background_ids)"
   ]
  },
  {
   "cell_type": "code",
   "execution_count": 62,
   "id": "6a09fe26",
   "metadata": {
    "scrolled": true
   },
   "outputs": [
    {
     "data": {
      "text/plain": [
       "[('Monocyte/Macrophage', 10),\n",
       " ('Treg', 10),\n",
       " ('CD8 T cell - preexhausted', 10),\n",
       " ('CD4 T cell', 10),\n",
       " ('CD8 T cell - CTL', 10),\n",
       " ('CD8 T cell - exhausted', 10),\n",
       " ('NKT', 10),\n",
       " ('CD4 T cell - activated', 10),\n",
       " ('NK', 10),\n",
       " ('cDC2', 10),\n",
       " ('B cell', 10),\n",
       " ('Plasma', 10),\n",
       " ('cDC1', 10),\n",
       " ('Mast', 10),\n",
       " ('CD4 T cell - exhausted', 10),\n",
       " ('pDC', 10),\n",
       " ('CD8 T cell - proliferating', 10)]"
      ]
     },
     "execution_count": 62,
     "metadata": {},
     "output_type": "execute_result"
    }
   ],
   "source": [
    "from collections import Counter\n",
    "Counter(val[background_ids].obs['cell_type']).most_common()"
   ]
  },
  {
   "cell_type": "code",
   "execution_count": 63,
   "id": "00c8e182",
   "metadata": {},
   "outputs": [],
   "source": [
    "background = val[background_ids]"
   ]
  },
  {
   "cell_type": "code",
   "execution_count": 64,
   "id": "b83771bd",
   "metadata": {},
   "outputs": [
    {
     "data": {
      "text/plain": [
       "6303"
      ]
     },
     "execution_count": 64,
     "metadata": {},
     "output_type": "execute_result"
    }
   ],
   "source": [
    "explain_ids, _ = utils.get_splits(val, 'cell_type', 500, oversample=False, split=1.)\n",
    "len(explain_ids)"
   ]
  },
  {
   "cell_type": "code",
   "execution_count": 65,
   "id": "d0a7ca69",
   "metadata": {},
   "outputs": [
    {
     "data": {
      "text/plain": [
       "[('Monocyte/Macrophage', 500),\n",
       " ('Treg', 500),\n",
       " ('CD8 T cell - preexhausted', 500),\n",
       " ('CD4 T cell', 500),\n",
       " ('CD8 T cell - exhausted', 500),\n",
       " ('NKT', 500),\n",
       " ('CD4 T cell - activated', 500),\n",
       " ('cDC2', 500),\n",
       " ('B cell', 500),\n",
       " ('Plasma', 500),\n",
       " ('CD4 T cell - exhausted', 500),\n",
       " ('Mast', 255),\n",
       " ('CD8 T cell - CTL', 205),\n",
       " ('NK', 106),\n",
       " ('CD8 T cell - proliferating', 106),\n",
       " ('pDC', 77),\n",
       " ('cDC1', 54)]"
      ]
     },
     "execution_count": 65,
     "metadata": {},
     "output_type": "execute_result"
    }
   ],
   "source": [
    "Counter(val[explain_ids].obs['cell_type']).most_common()"
   ]
  },
  {
   "cell_type": "code",
   "execution_count": 66,
   "id": "2270e204",
   "metadata": {},
   "outputs": [
    {
     "data": {
      "text/plain": [
       "(6303, 27131)"
      ]
     },
     "execution_count": 66,
     "metadata": {},
     "output_type": "execute_result"
    }
   ],
   "source": [
    "explain = val[explain_ids]\n",
    "explain.shape"
   ]
  },
  {
   "cell_type": "code",
   "execution_count": 67,
   "id": "440ced0b",
   "metadata": {
    "scrolled": true
   },
   "outputs": [
    {
     "name": "stderr",
     "output_type": "stream",
     "text": [
      "Trying to set attribute `.var` of view, copying.\n",
      "2022-01-19 11:46:53,423 16301 genes overlap with model after filtering\n",
      "2022-01-19 11:46:53,424 7648 genes missing from dataset after filtering\n"
     ]
    },
    {
     "name": "stdout",
     "output_type": "stream",
     "text": [
      "B cell (500, 27131) (170, 27131)\n"
     ]
    },
    {
     "name": "stderr",
     "output_type": "stream",
     "text": [
      "Trying to set attribute `.var` of view, copying.\n",
      "2022-01-19 11:46:53,794 15375 genes overlap with model after filtering\n",
      "2022-01-19 11:46:53,795 8574 genes missing from dataset after filtering\n",
      "Trying to set attribute `.var` of view, copying.\n",
      "2022-01-19 11:47:04,045 15957 genes overlap with model after filtering\n",
      "2022-01-19 11:47:04,046 7992 genes missing from dataset after filtering\n"
     ]
    },
    {
     "name": "stdout",
     "output_type": "stream",
     "text": [
      "CD4 T cell (500, 27131) (170, 15420)\n"
     ]
    },
    {
     "name": "stderr",
     "output_type": "stream",
     "text": [
      "2022-01-19 11:47:04,319 15375 genes overlap with model after filtering\n",
      "2022-01-19 11:47:04,320 8574 genes missing from dataset after filtering\n",
      "Trying to set attribute `.var` of view, copying.\n",
      "2022-01-19 11:47:13,248 15273 genes overlap with model after filtering\n",
      "2022-01-19 11:47:13,248 8676 genes missing from dataset after filtering\n"
     ]
    },
    {
     "name": "stdout",
     "output_type": "stream",
     "text": [
      "CD4 T cell - activated (500, 27131) (170, 15420)\n"
     ]
    },
    {
     "name": "stderr",
     "output_type": "stream",
     "text": [
      "2022-01-19 11:47:13,524 15375 genes overlap with model after filtering\n",
      "2022-01-19 11:47:13,525 8574 genes missing from dataset after filtering\n",
      "Trying to set attribute `.var` of view, copying.\n",
      "2022-01-19 11:47:23,632 16185 genes overlap with model after filtering\n",
      "2022-01-19 11:47:23,632 7764 genes missing from dataset after filtering\n"
     ]
    },
    {
     "name": "stdout",
     "output_type": "stream",
     "text": [
      "CD4 T cell - exhausted (500, 27131) (170, 15420)\n"
     ]
    },
    {
     "name": "stderr",
     "output_type": "stream",
     "text": [
      "2022-01-19 11:47:23,920 15375 genes overlap with model after filtering\n",
      "2022-01-19 11:47:23,921 8574 genes missing from dataset after filtering\n",
      "Trying to set attribute `.var` of view, copying.\n",
      "2022-01-19 11:47:33,211 13489 genes overlap with model after filtering\n",
      "2022-01-19 11:47:33,212 10460 genes missing from dataset after filtering\n"
     ]
    },
    {
     "name": "stdout",
     "output_type": "stream",
     "text": [
      "CD8 T cell - CTL (205, 27131) (170, 15420)\n"
     ]
    },
    {
     "name": "stderr",
     "output_type": "stream",
     "text": [
      "2022-01-19 11:47:33,387 15375 genes overlap with model after filtering\n",
      "2022-01-19 11:47:33,387 8574 genes missing from dataset after filtering\n",
      "Trying to set attribute `.var` of view, copying.\n",
      "2022-01-19 11:47:36,691 16169 genes overlap with model after filtering\n",
      "2022-01-19 11:47:36,691 7780 genes missing from dataset after filtering\n"
     ]
    },
    {
     "name": "stdout",
     "output_type": "stream",
     "text": [
      "CD8 T cell - exhausted (500, 27131) (170, 15420)\n"
     ]
    },
    {
     "name": "stderr",
     "output_type": "stream",
     "text": [
      "2022-01-19 11:47:36,964 15375 genes overlap with model after filtering\n",
      "2022-01-19 11:47:36,965 8574 genes missing from dataset after filtering\n",
      "Trying to set attribute `.var` of view, copying.\n",
      "2022-01-19 11:47:46,647 15683 genes overlap with model after filtering\n",
      "2022-01-19 11:47:46,648 8266 genes missing from dataset after filtering\n"
     ]
    },
    {
     "name": "stdout",
     "output_type": "stream",
     "text": [
      "CD8 T cell - preexhausted (500, 27131) (170, 15420)\n"
     ]
    },
    {
     "name": "stderr",
     "output_type": "stream",
     "text": [
      "2022-01-19 11:47:46,920 15375 genes overlap with model after filtering\n",
      "2022-01-19 11:47:46,921 8574 genes missing from dataset after filtering\n",
      "Trying to set attribute `.var` of view, copying.\n",
      "2022-01-19 11:47:56,883 14091 genes overlap with model after filtering\n",
      "2022-01-19 11:47:56,883 9858 genes missing from dataset after filtering\n",
      "2022-01-19 11:47:57,030 15375 genes overlap with model after filtering\n",
      "2022-01-19 11:47:57,031 8574 genes missing from dataset after filtering\n"
     ]
    },
    {
     "name": "stdout",
     "output_type": "stream",
     "text": [
      "CD8 T cell - proliferating (106, 27131) (170, 15420)\n"
     ]
    },
    {
     "name": "stderr",
     "output_type": "stream",
     "text": [
      "Trying to set attribute `.var` of view, copying.\n",
      "2022-01-19 11:47:58,720 14497 genes overlap with model after filtering\n",
      "2022-01-19 11:47:58,721 9452 genes missing from dataset after filtering\n"
     ]
    },
    {
     "name": "stdout",
     "output_type": "stream",
     "text": [
      "Mast (255, 27131) (170, 15420)\n"
     ]
    },
    {
     "name": "stderr",
     "output_type": "stream",
     "text": [
      "2022-01-19 11:47:58,908 15375 genes overlap with model after filtering\n",
      "2022-01-19 11:47:58,909 8574 genes missing from dataset after filtering\n",
      "Trying to set attribute `.var` of view, copying.\n",
      "2022-01-19 11:48:03,562 18093 genes overlap with model after filtering\n",
      "2022-01-19 11:48:03,563 5856 genes missing from dataset after filtering\n"
     ]
    },
    {
     "name": "stdout",
     "output_type": "stream",
     "text": [
      "Monocyte/Macrophage (500, 27131) (170, 15420)\n"
     ]
    },
    {
     "name": "stderr",
     "output_type": "stream",
     "text": [
      "2022-01-19 11:48:03,877 15375 genes overlap with model after filtering\n",
      "2022-01-19 11:48:03,878 8574 genes missing from dataset after filtering\n",
      "Trying to set attribute `.var` of view, copying.\n",
      "2022-01-19 11:48:13,577 12215 genes overlap with model after filtering\n",
      "2022-01-19 11:48:13,577 11734 genes missing from dataset after filtering\n",
      "2022-01-19 11:48:13,708 15375 genes overlap with model after filtering\n",
      "2022-01-19 11:48:13,709 8574 genes missing from dataset after filtering\n"
     ]
    },
    {
     "name": "stdout",
     "output_type": "stream",
     "text": [
      "NK (106, 27131) (170, 15420)\n"
     ]
    },
    {
     "name": "stderr",
     "output_type": "stream",
     "text": [
      "Trying to set attribute `.var` of view, copying.\n",
      "2022-01-19 11:48:15,584 16535 genes overlap with model after filtering\n",
      "2022-01-19 11:48:15,584 7414 genes missing from dataset after filtering\n"
     ]
    },
    {
     "name": "stdout",
     "output_type": "stream",
     "text": [
      "NKT (500, 27131) (170, 15420)\n"
     ]
    },
    {
     "name": "stderr",
     "output_type": "stream",
     "text": [
      "2022-01-19 11:48:15,866 15375 genes overlap with model after filtering\n",
      "2022-01-19 11:48:15,867 8574 genes missing from dataset after filtering\n",
      "Trying to set attribute `.var` of view, copying.\n",
      "2022-01-19 11:48:25,500 17351 genes overlap with model after filtering\n",
      "2022-01-19 11:48:25,501 6598 genes missing from dataset after filtering\n"
     ]
    },
    {
     "name": "stdout",
     "output_type": "stream",
     "text": [
      "Plasma (500, 27131) (170, 15420)\n"
     ]
    },
    {
     "name": "stderr",
     "output_type": "stream",
     "text": [
      "2022-01-19 11:48:25,759 15375 genes overlap with model after filtering\n",
      "2022-01-19 11:48:25,760 8574 genes missing from dataset after filtering\n",
      "Trying to set attribute `.var` of view, copying.\n",
      "2022-01-19 11:48:34,815 16003 genes overlap with model after filtering\n",
      "2022-01-19 11:48:34,816 7946 genes missing from dataset after filtering\n"
     ]
    },
    {
     "name": "stdout",
     "output_type": "stream",
     "text": [
      "Treg (500, 27131) (170, 15420)\n"
     ]
    },
    {
     "name": "stderr",
     "output_type": "stream",
     "text": [
      "2022-01-19 11:48:35,140 15375 genes overlap with model after filtering\n",
      "2022-01-19 11:48:35,141 8574 genes missing from dataset after filtering\n",
      "Trying to set attribute `.var` of view, copying.\n",
      "2022-01-19 11:48:45,560 12781 genes overlap with model after filtering\n",
      "2022-01-19 11:48:45,560 11168 genes missing from dataset after filtering\n",
      "2022-01-19 11:48:45,671 15375 genes overlap with model after filtering\n",
      "2022-01-19 11:48:45,672 8574 genes missing from dataset after filtering\n"
     ]
    },
    {
     "name": "stdout",
     "output_type": "stream",
     "text": [
      "cDC1 (54, 27131) (170, 15420)\n"
     ]
    },
    {
     "name": "stderr",
     "output_type": "stream",
     "text": [
      "Trying to set attribute `.var` of view, copying.\n",
      "2022-01-19 11:48:46,624 18212 genes overlap with model after filtering\n",
      "2022-01-19 11:48:46,624 5737 genes missing from dataset after filtering\n"
     ]
    },
    {
     "name": "stdout",
     "output_type": "stream",
     "text": [
      "cDC2 (500, 27131) (170, 15420)\n"
     ]
    },
    {
     "name": "stderr",
     "output_type": "stream",
     "text": [
      "2022-01-19 11:48:46,951 15375 genes overlap with model after filtering\n",
      "2022-01-19 11:48:46,951 8574 genes missing from dataset after filtering\n",
      "Trying to set attribute `.var` of view, copying.\n",
      "2022-01-19 11:48:57,011 13097 genes overlap with model after filtering\n",
      "2022-01-19 11:48:57,011 10852 genes missing from dataset after filtering\n",
      "2022-01-19 11:48:57,136 15375 genes overlap with model after filtering\n",
      "2022-01-19 11:48:57,137 8574 genes missing from dataset after filtering\n"
     ]
    },
    {
     "name": "stdout",
     "output_type": "stream",
     "text": [
      "pDC (77, 27131) (170, 15420)\n"
     ]
    }
   ],
   "source": [
    "explain_dfs = {}\n",
    "cell_types = sorted(set(explain.obs['cell_type']))\n",
    "for cell_type in cell_types:\n",
    "    f = explain[explain.obs['cell_type']==cell_type]\n",
    "    \n",
    "    print(cell_type, f.shape, background.shape)\n",
    "    df = explain_adata(model, f, background, cell_type, method='integrated')\n",
    "    \n",
    "    explain_dfs[cell_type] = df"
   ]
  },
  {
   "cell_type": "code",
   "execution_count": 68,
   "id": "6793f7f3",
   "metadata": {},
   "outputs": [
    {
     "data": {
      "text/html": [
       "<div>\n",
       "<style scoped>\n",
       "    .dataframe tbody tr th:only-of-type {\n",
       "        vertical-align: middle;\n",
       "    }\n",
       "\n",
       "    .dataframe tbody tr th {\n",
       "        vertical-align: top;\n",
       "    }\n",
       "\n",
       "    .dataframe thead th {\n",
       "        text-align: right;\n",
       "    }\n",
       "</style>\n",
       "<table border=\"1\" class=\"dataframe\">\n",
       "  <thead>\n",
       "    <tr style=\"text-align: right;\">\n",
       "      <th></th>\n",
       "      <th>AL627309.1</th>\n",
       "      <th>AL627309.3</th>\n",
       "      <th>AL627309.4</th>\n",
       "      <th>AL669831.2</th>\n",
       "      <th>AL669831.5</th>\n",
       "      <th>FAM87B</th>\n",
       "      <th>LINC00115</th>\n",
       "      <th>FAM41C</th>\n",
       "      <th>AL645608.3</th>\n",
       "      <th>AL645608.1</th>\n",
       "      <th>...</th>\n",
       "      <th>AC011043.1</th>\n",
       "      <th>AL592183.1</th>\n",
       "      <th>AC007325.4</th>\n",
       "      <th>AC007325.2</th>\n",
       "      <th>AL354822.1</th>\n",
       "      <th>AC004556.1</th>\n",
       "      <th>AC233755.2</th>\n",
       "      <th>AC233755.1</th>\n",
       "      <th>AC240274.1</th>\n",
       "      <th>cell_type</th>\n",
       "    </tr>\n",
       "  </thead>\n",
       "  <tbody>\n",
       "    <tr>\n",
       "      <th>HT065B1_S1H1_AGGGCCTCAAATTGCC-1</th>\n",
       "      <td>-0.0</td>\n",
       "      <td>1.403170e-06</td>\n",
       "      <td>-0.0</td>\n",
       "      <td>-0.0</td>\n",
       "      <td>-0.000011</td>\n",
       "      <td>0.000003</td>\n",
       "      <td>-0.000004</td>\n",
       "      <td>-0.000006</td>\n",
       "      <td>0.0</td>\n",
       "      <td>-0.0</td>\n",
       "      <td>...</td>\n",
       "      <td>6.613822e-14</td>\n",
       "      <td>0.000001</td>\n",
       "      <td>-7.385790e-14</td>\n",
       "      <td>-0.0</td>\n",
       "      <td>-6.693868e-06</td>\n",
       "      <td>-3.290153e-05</td>\n",
       "      <td>-0.0</td>\n",
       "      <td>-0.000002</td>\n",
       "      <td>0.000009</td>\n",
       "      <td>B cell</td>\n",
       "    </tr>\n",
       "    <tr>\n",
       "      <th>HT077B1_S1H3_TTCTTGACAGCGGTCT-1</th>\n",
       "      <td>-0.0</td>\n",
       "      <td>-9.009753e-04</td>\n",
       "      <td>-0.0</td>\n",
       "      <td>0.0</td>\n",
       "      <td>-0.000023</td>\n",
       "      <td>0.000016</td>\n",
       "      <td>0.000007</td>\n",
       "      <td>-0.000013</td>\n",
       "      <td>0.0</td>\n",
       "      <td>-0.0</td>\n",
       "      <td>...</td>\n",
       "      <td>-3.801396e-12</td>\n",
       "      <td>-0.000052</td>\n",
       "      <td>-6.576878e-13</td>\n",
       "      <td>-0.0</td>\n",
       "      <td>-2.108621e-05</td>\n",
       "      <td>-6.721157e-05</td>\n",
       "      <td>-0.0</td>\n",
       "      <td>-0.000022</td>\n",
       "      <td>0.000026</td>\n",
       "      <td>B cell</td>\n",
       "    </tr>\n",
       "    <tr>\n",
       "      <th>HT077B1_S1H1_GCCGTGAGTGGATCAG-1</th>\n",
       "      <td>0.0</td>\n",
       "      <td>8.585659e-07</td>\n",
       "      <td>-0.0</td>\n",
       "      <td>0.0</td>\n",
       "      <td>-0.000005</td>\n",
       "      <td>0.000010</td>\n",
       "      <td>-0.000002</td>\n",
       "      <td>-0.000010</td>\n",
       "      <td>0.0</td>\n",
       "      <td>-0.0</td>\n",
       "      <td>...</td>\n",
       "      <td>-1.370780e-12</td>\n",
       "      <td>-0.000001</td>\n",
       "      <td>-2.680380e-13</td>\n",
       "      <td>0.0</td>\n",
       "      <td>-1.950330e-05</td>\n",
       "      <td>-4.171603e-05</td>\n",
       "      <td>-0.0</td>\n",
       "      <td>-0.000013</td>\n",
       "      <td>0.000018</td>\n",
       "      <td>B cell</td>\n",
       "    </tr>\n",
       "    <tr>\n",
       "      <th>HT105B1_S1H1_TTCCTAAGTGTAGCAG-1</th>\n",
       "      <td>-0.0</td>\n",
       "      <td>6.672578e-06</td>\n",
       "      <td>-0.0</td>\n",
       "      <td>-0.0</td>\n",
       "      <td>-0.000017</td>\n",
       "      <td>0.000012</td>\n",
       "      <td>0.000009</td>\n",
       "      <td>-0.000012</td>\n",
       "      <td>0.0</td>\n",
       "      <td>-0.0</td>\n",
       "      <td>...</td>\n",
       "      <td>-1.753536e-12</td>\n",
       "      <td>-0.000029</td>\n",
       "      <td>-3.543450e-12</td>\n",
       "      <td>-0.0</td>\n",
       "      <td>-2.367532e-05</td>\n",
       "      <td>-3.624754e-05</td>\n",
       "      <td>-0.0</td>\n",
       "      <td>-0.000010</td>\n",
       "      <td>0.000020</td>\n",
       "      <td>B cell</td>\n",
       "    </tr>\n",
       "    <tr>\n",
       "      <th>HT067B1_S1H2_GCTGCAGAGTTACGTC-1</th>\n",
       "      <td>-0.0</td>\n",
       "      <td>2.470283e-06</td>\n",
       "      <td>0.0</td>\n",
       "      <td>0.0</td>\n",
       "      <td>-0.000002</td>\n",
       "      <td>0.000006</td>\n",
       "      <td>-0.000007</td>\n",
       "      <td>-0.000013</td>\n",
       "      <td>0.0</td>\n",
       "      <td>-0.0</td>\n",
       "      <td>...</td>\n",
       "      <td>-1.659743e-12</td>\n",
       "      <td>0.000456</td>\n",
       "      <td>-5.032971e-13</td>\n",
       "      <td>-0.0</td>\n",
       "      <td>-1.438353e-05</td>\n",
       "      <td>-3.111664e-05</td>\n",
       "      <td>0.0</td>\n",
       "      <td>-0.000010</td>\n",
       "      <td>0.000010</td>\n",
       "      <td>B cell</td>\n",
       "    </tr>\n",
       "    <tr>\n",
       "      <th>...</th>\n",
       "      <td>...</td>\n",
       "      <td>...</td>\n",
       "      <td>...</td>\n",
       "      <td>...</td>\n",
       "      <td>...</td>\n",
       "      <td>...</td>\n",
       "      <td>...</td>\n",
       "      <td>...</td>\n",
       "      <td>...</td>\n",
       "      <td>...</td>\n",
       "      <td>...</td>\n",
       "      <td>...</td>\n",
       "      <td>...</td>\n",
       "      <td>...</td>\n",
       "      <td>...</td>\n",
       "      <td>...</td>\n",
       "      <td>...</td>\n",
       "      <td>...</td>\n",
       "      <td>...</td>\n",
       "      <td>...</td>\n",
       "      <td>...</td>\n",
       "    </tr>\n",
       "    <tr>\n",
       "      <th>HT171B1_S1H8_AAGAACAGTACGCGTC-1</th>\n",
       "      <td>-0.0</td>\n",
       "      <td>0.000000e+00</td>\n",
       "      <td>-0.0</td>\n",
       "      <td>0.0</td>\n",
       "      <td>0.000008</td>\n",
       "      <td>-0.000000</td>\n",
       "      <td>-0.000016</td>\n",
       "      <td>0.000021</td>\n",
       "      <td>0.0</td>\n",
       "      <td>0.0</td>\n",
       "      <td>...</td>\n",
       "      <td>1.990896e-12</td>\n",
       "      <td>0.000016</td>\n",
       "      <td>-1.422592e-05</td>\n",
       "      <td>0.0</td>\n",
       "      <td>3.783021e-12</td>\n",
       "      <td>2.769595e-06</td>\n",
       "      <td>0.0</td>\n",
       "      <td>-0.000000</td>\n",
       "      <td>0.000000</td>\n",
       "      <td>pDC</td>\n",
       "    </tr>\n",
       "    <tr>\n",
       "      <th>HT105B1_N1K1_CAGCCAGAGATCCAAA-1</th>\n",
       "      <td>-0.0</td>\n",
       "      <td>0.000000e+00</td>\n",
       "      <td>-0.0</td>\n",
       "      <td>0.0</td>\n",
       "      <td>0.000003</td>\n",
       "      <td>0.000000</td>\n",
       "      <td>-0.000013</td>\n",
       "      <td>0.000009</td>\n",
       "      <td>0.0</td>\n",
       "      <td>0.0</td>\n",
       "      <td>...</td>\n",
       "      <td>1.099713e-12</td>\n",
       "      <td>0.000022</td>\n",
       "      <td>-2.002442e-05</td>\n",
       "      <td>0.0</td>\n",
       "      <td>3.098553e-12</td>\n",
       "      <td>4.109980e-06</td>\n",
       "      <td>0.0</td>\n",
       "      <td>-0.000000</td>\n",
       "      <td>0.000000</td>\n",
       "      <td>pDC</td>\n",
       "    </tr>\n",
       "    <tr>\n",
       "      <th>HT065B1_S1H7_ACAGCCGAGCGTATAA-1</th>\n",
       "      <td>-0.0</td>\n",
       "      <td>-0.000000e+00</td>\n",
       "      <td>0.0</td>\n",
       "      <td>0.0</td>\n",
       "      <td>0.000016</td>\n",
       "      <td>-0.000000</td>\n",
       "      <td>-0.000014</td>\n",
       "      <td>0.000034</td>\n",
       "      <td>0.0</td>\n",
       "      <td>0.0</td>\n",
       "      <td>...</td>\n",
       "      <td>1.120236e-12</td>\n",
       "      <td>0.000045</td>\n",
       "      <td>-1.661529e-05</td>\n",
       "      <td>0.0</td>\n",
       "      <td>6.668974e-12</td>\n",
       "      <td>-1.991830e-05</td>\n",
       "      <td>0.0</td>\n",
       "      <td>-0.000000</td>\n",
       "      <td>0.000000</td>\n",
       "      <td>pDC</td>\n",
       "    </tr>\n",
       "    <tr>\n",
       "      <th>HT171B1_S1H8_TGTTCATTCATTGTTC-1</th>\n",
       "      <td>-0.0</td>\n",
       "      <td>-0.000000e+00</td>\n",
       "      <td>-0.0</td>\n",
       "      <td>0.0</td>\n",
       "      <td>-0.000010</td>\n",
       "      <td>-0.000000</td>\n",
       "      <td>-0.000008</td>\n",
       "      <td>0.000019</td>\n",
       "      <td>0.0</td>\n",
       "      <td>0.0</td>\n",
       "      <td>...</td>\n",
       "      <td>4.069212e-13</td>\n",
       "      <td>0.000023</td>\n",
       "      <td>-1.286675e-05</td>\n",
       "      <td>0.0</td>\n",
       "      <td>3.695494e-12</td>\n",
       "      <td>-3.767527e-06</td>\n",
       "      <td>0.0</td>\n",
       "      <td>-0.000000</td>\n",
       "      <td>0.000000</td>\n",
       "      <td>pDC</td>\n",
       "    </tr>\n",
       "    <tr>\n",
       "      <th>HT171B1_S1H8_TGAGCGCCAGAAGTTA-1</th>\n",
       "      <td>-0.0</td>\n",
       "      <td>-0.000000e+00</td>\n",
       "      <td>0.0</td>\n",
       "      <td>0.0</td>\n",
       "      <td>0.000028</td>\n",
       "      <td>-0.000000</td>\n",
       "      <td>-0.000013</td>\n",
       "      <td>0.000008</td>\n",
       "      <td>0.0</td>\n",
       "      <td>0.0</td>\n",
       "      <td>...</td>\n",
       "      <td>6.272746e-13</td>\n",
       "      <td>0.000014</td>\n",
       "      <td>-5.532404e-07</td>\n",
       "      <td>0.0</td>\n",
       "      <td>4.966756e-12</td>\n",
       "      <td>1.639832e-07</td>\n",
       "      <td>-0.0</td>\n",
       "      <td>-0.000000</td>\n",
       "      <td>0.000000</td>\n",
       "      <td>pDC</td>\n",
       "    </tr>\n",
       "  </tbody>\n",
       "</table>\n",
       "<p>6303 rows × 23950 columns</p>\n",
       "</div>"
      ],
      "text/plain": [
       "                                 AL627309.1    AL627309.3  AL627309.4  \\\n",
       "HT065B1_S1H1_AGGGCCTCAAATTGCC-1        -0.0  1.403170e-06        -0.0   \n",
       "HT077B1_S1H3_TTCTTGACAGCGGTCT-1        -0.0 -9.009753e-04        -0.0   \n",
       "HT077B1_S1H1_GCCGTGAGTGGATCAG-1         0.0  8.585659e-07        -0.0   \n",
       "HT105B1_S1H1_TTCCTAAGTGTAGCAG-1        -0.0  6.672578e-06        -0.0   \n",
       "HT067B1_S1H2_GCTGCAGAGTTACGTC-1        -0.0  2.470283e-06         0.0   \n",
       "...                                     ...           ...         ...   \n",
       "HT171B1_S1H8_AAGAACAGTACGCGTC-1        -0.0  0.000000e+00        -0.0   \n",
       "HT105B1_N1K1_CAGCCAGAGATCCAAA-1        -0.0  0.000000e+00        -0.0   \n",
       "HT065B1_S1H7_ACAGCCGAGCGTATAA-1        -0.0 -0.000000e+00         0.0   \n",
       "HT171B1_S1H8_TGTTCATTCATTGTTC-1        -0.0 -0.000000e+00        -0.0   \n",
       "HT171B1_S1H8_TGAGCGCCAGAAGTTA-1        -0.0 -0.000000e+00         0.0   \n",
       "\n",
       "                                 AL669831.2  AL669831.5    FAM87B  LINC00115  \\\n",
       "HT065B1_S1H1_AGGGCCTCAAATTGCC-1        -0.0   -0.000011  0.000003  -0.000004   \n",
       "HT077B1_S1H3_TTCTTGACAGCGGTCT-1         0.0   -0.000023  0.000016   0.000007   \n",
       "HT077B1_S1H1_GCCGTGAGTGGATCAG-1         0.0   -0.000005  0.000010  -0.000002   \n",
       "HT105B1_S1H1_TTCCTAAGTGTAGCAG-1        -0.0   -0.000017  0.000012   0.000009   \n",
       "HT067B1_S1H2_GCTGCAGAGTTACGTC-1         0.0   -0.000002  0.000006  -0.000007   \n",
       "...                                     ...         ...       ...        ...   \n",
       "HT171B1_S1H8_AAGAACAGTACGCGTC-1         0.0    0.000008 -0.000000  -0.000016   \n",
       "HT105B1_N1K1_CAGCCAGAGATCCAAA-1         0.0    0.000003  0.000000  -0.000013   \n",
       "HT065B1_S1H7_ACAGCCGAGCGTATAA-1         0.0    0.000016 -0.000000  -0.000014   \n",
       "HT171B1_S1H8_TGTTCATTCATTGTTC-1         0.0   -0.000010 -0.000000  -0.000008   \n",
       "HT171B1_S1H8_TGAGCGCCAGAAGTTA-1         0.0    0.000028 -0.000000  -0.000013   \n",
       "\n",
       "                                   FAM41C  AL645608.3  AL645608.1  ...  \\\n",
       "HT065B1_S1H1_AGGGCCTCAAATTGCC-1 -0.000006         0.0        -0.0  ...   \n",
       "HT077B1_S1H3_TTCTTGACAGCGGTCT-1 -0.000013         0.0        -0.0  ...   \n",
       "HT077B1_S1H1_GCCGTGAGTGGATCAG-1 -0.000010         0.0        -0.0  ...   \n",
       "HT105B1_S1H1_TTCCTAAGTGTAGCAG-1 -0.000012         0.0        -0.0  ...   \n",
       "HT067B1_S1H2_GCTGCAGAGTTACGTC-1 -0.000013         0.0        -0.0  ...   \n",
       "...                                   ...         ...         ...  ...   \n",
       "HT171B1_S1H8_AAGAACAGTACGCGTC-1  0.000021         0.0         0.0  ...   \n",
       "HT105B1_N1K1_CAGCCAGAGATCCAAA-1  0.000009         0.0         0.0  ...   \n",
       "HT065B1_S1H7_ACAGCCGAGCGTATAA-1  0.000034         0.0         0.0  ...   \n",
       "HT171B1_S1H8_TGTTCATTCATTGTTC-1  0.000019         0.0         0.0  ...   \n",
       "HT171B1_S1H8_TGAGCGCCAGAAGTTA-1  0.000008         0.0         0.0  ...   \n",
       "\n",
       "                                   AC011043.1  AL592183.1    AC007325.4  \\\n",
       "HT065B1_S1H1_AGGGCCTCAAATTGCC-1  6.613822e-14    0.000001 -7.385790e-14   \n",
       "HT077B1_S1H3_TTCTTGACAGCGGTCT-1 -3.801396e-12   -0.000052 -6.576878e-13   \n",
       "HT077B1_S1H1_GCCGTGAGTGGATCAG-1 -1.370780e-12   -0.000001 -2.680380e-13   \n",
       "HT105B1_S1H1_TTCCTAAGTGTAGCAG-1 -1.753536e-12   -0.000029 -3.543450e-12   \n",
       "HT067B1_S1H2_GCTGCAGAGTTACGTC-1 -1.659743e-12    0.000456 -5.032971e-13   \n",
       "...                                       ...         ...           ...   \n",
       "HT171B1_S1H8_AAGAACAGTACGCGTC-1  1.990896e-12    0.000016 -1.422592e-05   \n",
       "HT105B1_N1K1_CAGCCAGAGATCCAAA-1  1.099713e-12    0.000022 -2.002442e-05   \n",
       "HT065B1_S1H7_ACAGCCGAGCGTATAA-1  1.120236e-12    0.000045 -1.661529e-05   \n",
       "HT171B1_S1H8_TGTTCATTCATTGTTC-1  4.069212e-13    0.000023 -1.286675e-05   \n",
       "HT171B1_S1H8_TGAGCGCCAGAAGTTA-1  6.272746e-13    0.000014 -5.532404e-07   \n",
       "\n",
       "                                 AC007325.2    AL354822.1    AC004556.1  \\\n",
       "HT065B1_S1H1_AGGGCCTCAAATTGCC-1        -0.0 -6.693868e-06 -3.290153e-05   \n",
       "HT077B1_S1H3_TTCTTGACAGCGGTCT-1        -0.0 -2.108621e-05 -6.721157e-05   \n",
       "HT077B1_S1H1_GCCGTGAGTGGATCAG-1         0.0 -1.950330e-05 -4.171603e-05   \n",
       "HT105B1_S1H1_TTCCTAAGTGTAGCAG-1        -0.0 -2.367532e-05 -3.624754e-05   \n",
       "HT067B1_S1H2_GCTGCAGAGTTACGTC-1        -0.0 -1.438353e-05 -3.111664e-05   \n",
       "...                                     ...           ...           ...   \n",
       "HT171B1_S1H8_AAGAACAGTACGCGTC-1         0.0  3.783021e-12  2.769595e-06   \n",
       "HT105B1_N1K1_CAGCCAGAGATCCAAA-1         0.0  3.098553e-12  4.109980e-06   \n",
       "HT065B1_S1H7_ACAGCCGAGCGTATAA-1         0.0  6.668974e-12 -1.991830e-05   \n",
       "HT171B1_S1H8_TGTTCATTCATTGTTC-1         0.0  3.695494e-12 -3.767527e-06   \n",
       "HT171B1_S1H8_TGAGCGCCAGAAGTTA-1         0.0  4.966756e-12  1.639832e-07   \n",
       "\n",
       "                                 AC233755.2  AC233755.1  AC240274.1  cell_type  \n",
       "HT065B1_S1H1_AGGGCCTCAAATTGCC-1        -0.0   -0.000002    0.000009     B cell  \n",
       "HT077B1_S1H3_TTCTTGACAGCGGTCT-1        -0.0   -0.000022    0.000026     B cell  \n",
       "HT077B1_S1H1_GCCGTGAGTGGATCAG-1        -0.0   -0.000013    0.000018     B cell  \n",
       "HT105B1_S1H1_TTCCTAAGTGTAGCAG-1        -0.0   -0.000010    0.000020     B cell  \n",
       "HT067B1_S1H2_GCTGCAGAGTTACGTC-1         0.0   -0.000010    0.000010     B cell  \n",
       "...                                     ...         ...         ...        ...  \n",
       "HT171B1_S1H8_AAGAACAGTACGCGTC-1         0.0   -0.000000    0.000000        pDC  \n",
       "HT105B1_N1K1_CAGCCAGAGATCCAAA-1         0.0   -0.000000    0.000000        pDC  \n",
       "HT065B1_S1H7_ACAGCCGAGCGTATAA-1         0.0   -0.000000    0.000000        pDC  \n",
       "HT171B1_S1H8_TGTTCATTCATTGTTC-1         0.0   -0.000000    0.000000        pDC  \n",
       "HT171B1_S1H8_TGAGCGCCAGAAGTTA-1        -0.0   -0.000000    0.000000        pDC  \n",
       "\n",
       "[6303 rows x 23950 columns]"
      ]
     },
     "execution_count": 68,
     "metadata": {},
     "output_type": "execute_result"
    }
   ],
   "source": [
    "explain_df = None\n",
    "for k, df in explain_dfs.items():\n",
    "    df['cell_type'] = k\n",
    "    \n",
    "    if explain_df is None:\n",
    "        explain_df = df\n",
    "    else:\n",
    "        explain_df = pd.concat((explain_df, df), axis=0)\n",
    "explain_df"
   ]
  },
  {
   "cell_type": "code",
   "execution_count": 80,
   "id": "dcf28ec7",
   "metadata": {},
   "outputs": [],
   "source": [
    "explain_df.to_csv('/data/pollock/panimmune/results/explain_integrated.txt', sep='\\t')"
   ]
  },
  {
   "cell_type": "code",
   "execution_count": null,
   "id": "4054e86a",
   "metadata": {},
   "outputs": [],
   "source": []
  }
 ],
 "metadata": {
  "kernelspec": {
   "display_name": "Python 3 (ipykernel)",
   "language": "python",
   "name": "python3"
  },
  "language_info": {
   "codemirror_mode": {
    "name": "ipython",
    "version": 3
   },
   "file_extension": ".py",
   "mimetype": "text/x-python",
   "name": "python",
   "nbconvert_exporter": "python",
   "pygments_lexer": "ipython3",
   "version": "3.8.12"
  }
 },
 "nbformat": 4,
 "nbformat_minor": 5
}
