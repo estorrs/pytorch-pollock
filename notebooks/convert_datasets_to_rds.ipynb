{
 "cells": [
  {
   "cell_type": "code",
   "execution_count": 1,
   "id": "619a2dcd",
   "metadata": {},
   "outputs": [],
   "source": [
    "import os\n",
    "import re\n",
    "import subprocess\n",
    "\n",
    "import scanpy as sc\n",
    "\n",
    "from pollock.utils import listfiles, save_rds"
   ]
  },
  {
   "cell_type": "code",
   "execution_count": 209,
   "id": "ce438bb8",
   "metadata": {
    "scrolled": true
   },
   "outputs": [
    {
     "data": {
      "text/plain": [
       "['/data/pollock/benchmarking/pollock_datasets/scRNAseq/brca.h5ad',\n",
       " '/data/pollock/benchmarking/pollock_datasets/scRNAseq/brca_train.h5ad',\n",
       " '/data/pollock/benchmarking/pollock_datasets/scRNAseq/brca_val.h5ad',\n",
       " '/data/pollock/benchmarking/pollock_datasets/scRNAseq/cesc.h5ad',\n",
       " '/data/pollock/benchmarking/pollock_datasets/scRNAseq/cesc_train.h5ad',\n",
       " '/data/pollock/benchmarking/pollock_datasets/scRNAseq/cesc_val.h5ad',\n",
       " '/data/pollock/benchmarking/pollock_datasets/scRNAseq/hnscc.h5ad',\n",
       " '/data/pollock/benchmarking/pollock_datasets/scRNAseq/hnscc_train.h5ad',\n",
       " '/data/pollock/benchmarking/pollock_datasets/scRNAseq/hnscc_val.h5ad',\n",
       " '/data/pollock/benchmarking/pollock_datasets/scRNAseq/melanoma.h5ad',\n",
       " '/data/pollock/benchmarking/pollock_datasets/scRNAseq/melanoma_train.h5ad',\n",
       " '/data/pollock/benchmarking/pollock_datasets/scRNAseq/melanoma_val.h5ad',\n",
       " '/data/pollock/benchmarking/pollock_datasets/scRNAseq/myeloma.h5ad',\n",
       " '/data/pollock/benchmarking/pollock_datasets/scRNAseq/myeloma_train.h5ad',\n",
       " '/data/pollock/benchmarking/pollock_datasets/scRNAseq/myeloma_val.h5ad',\n",
       " '/data/pollock/benchmarking/pollock_datasets/scRNAseq/pdac.h5ad',\n",
       " '/data/pollock/benchmarking/pollock_datasets/scRNAseq/pdac_train.h5ad',\n",
       " '/data/pollock/benchmarking/pollock_datasets/scRNAseq/pdac_val.h5ad',\n",
       " '/data/pollock/benchmarking/pollock_datasets/snATACseq/brca_gene_activity.h5ad',\n",
       " '/data/pollock/benchmarking/pollock_datasets/snATACseq/brca_gene_activity_train.h5ad',\n",
       " '/data/pollock/benchmarking/pollock_datasets/snATACseq/brca_gene_activity_val.h5ad',\n",
       " '/data/pollock/benchmarking/pollock_datasets/snATACseq/ccrcc_gene_activity.h5ad',\n",
       " '/data/pollock/benchmarking/pollock_datasets/snATACseq/ccrcc_gene_activity_train.h5ad',\n",
       " '/data/pollock/benchmarking/pollock_datasets/snATACseq/ccrcc_gene_activity_val.h5ad',\n",
       " '/data/pollock/benchmarking/pollock_datasets/snATACseq/gbm_gene_activity.h5ad',\n",
       " '/data/pollock/benchmarking/pollock_datasets/snATACseq/gbm_gene_activity_train.h5ad',\n",
       " '/data/pollock/benchmarking/pollock_datasets/snATACseq/gbm_gene_activity_val.h5ad',\n",
       " '/data/pollock/benchmarking/pollock_datasets/snRNAseq/brca.h5ad',\n",
       " '/data/pollock/benchmarking/pollock_datasets/snRNAseq/brca_train.h5ad',\n",
       " '/data/pollock/benchmarking/pollock_datasets/snRNAseq/brca_val.h5ad',\n",
       " '/data/pollock/benchmarking/pollock_datasets/snRNAseq/ccrcc.h5ad',\n",
       " '/data/pollock/benchmarking/pollock_datasets/snRNAseq/ccrcc_train.h5ad',\n",
       " '/data/pollock/benchmarking/pollock_datasets/snRNAseq/ccrcc_val.h5ad',\n",
       " '/data/pollock/benchmarking/pollock_datasets/snRNAseq/gbm.h5ad',\n",
       " '/data/pollock/benchmarking/pollock_datasets/snRNAseq/gbm_train.h5ad',\n",
       " '/data/pollock/benchmarking/pollock_datasets/snRNAseq/gbm_val.h5ad']"
      ]
     },
     "execution_count": 209,
     "metadata": {},
     "output_type": "execute_result"
    }
   ],
   "source": [
    "fps = sorted(listfiles('/data/pollock/benchmarking/pollock_datasets/', regex=r'.h5ad$'))\n",
    "fps = [fp for fp in fps if 'peaks' not in fp and 'motif' not in fp]\n",
    "fps"
   ]
  },
  {
   "cell_type": "code",
   "execution_count": 40,
   "id": "65da4225",
   "metadata": {
    "scrolled": true
   },
   "outputs": [
    {
     "name": "stdout",
     "output_type": "stream",
     "text": [
      "/data/pollock/benchmarking/pollock_datasets/scRNAseq/myeloma.h5ad\n"
     ]
    },
    {
     "name": "stderr",
     "output_type": "stream",
     "text": [
      "Attaching SeuratObject\n",
      "Registered S3 method overwritten by 'cli':\n",
      "  method     from         \n",
      "  print.boxx spatstat.geom\n",
      "Registered S3 method overwritten by 'SeuratDisk':\n",
      "  method            from  \n",
      "  as.sparse.H5Group Seurat\n",
      "Warning: Unknown file type: h5ad\n",
      "Warning: 'assay' not set, setting to 'RNA'\n",
      "Creating h5Seurat file for version 3.1.5.9900\n",
      "Adding X as data\n",
      "Adding X as counts\n",
      "Adding meta.features from var\n",
      "Validating h5Seurat file\n",
      "Initializing RNA with data\n",
      "Adding counts for RNA\n",
      "Adding feature-level metadata for RNA\n",
      "Adding command information\n",
      "Adding cell-level metadata\n",
      "Adding miscellaneous information\n",
      "Adding tool-specific results\n"
     ]
    },
    {
     "name": "stdout",
     "output_type": "stream",
     "text": [
      "/data/pollock/benchmarking/pollock_datasets/scRNAseq/myeloma_train.h5ad\n"
     ]
    },
    {
     "name": "stderr",
     "output_type": "stream",
     "text": [
      "Attaching SeuratObject\n",
      "Registered S3 method overwritten by 'cli':\n",
      "  method     from         \n",
      "  print.boxx spatstat.geom\n",
      "Registered S3 method overwritten by 'SeuratDisk':\n",
      "  method            from  \n",
      "  as.sparse.H5Group Seurat\n",
      "Warning: Unknown file type: h5ad\n",
      "Warning: 'assay' not set, setting to 'RNA'\n",
      "Creating h5Seurat file for version 3.1.5.9900\n",
      "Adding X as data\n",
      "Adding X as counts\n",
      "Adding meta.features from var\n",
      "Validating h5Seurat file\n",
      "Initializing RNA with data\n",
      "Adding counts for RNA\n",
      "Adding feature-level metadata for RNA\n",
      "Adding command information\n",
      "Adding cell-level metadata\n",
      "Adding miscellaneous information\n",
      "Adding tool-specific results\n"
     ]
    },
    {
     "name": "stdout",
     "output_type": "stream",
     "text": [
      "/data/pollock/benchmarking/pollock_datasets/scRNAseq/myeloma_val.h5ad\n"
     ]
    },
    {
     "name": "stderr",
     "output_type": "stream",
     "text": [
      "Attaching SeuratObject\n",
      "Registered S3 method overwritten by 'cli':\n",
      "  method     from         \n",
      "  print.boxx spatstat.geom\n",
      "Registered S3 method overwritten by 'SeuratDisk':\n",
      "  method            from  \n",
      "  as.sparse.H5Group Seurat\n",
      "Warning: Unknown file type: h5ad\n",
      "Warning: 'assay' not set, setting to 'RNA'\n",
      "Creating h5Seurat file for version 3.1.5.9900\n",
      "Adding X as data\n",
      "Adding X as counts\n",
      "Adding meta.features from var\n",
      "Validating h5Seurat file\n",
      "Initializing RNA with data\n",
      "Adding counts for RNA\n",
      "Adding feature-level metadata for RNA\n",
      "Adding command information\n",
      "Adding cell-level metadata\n",
      "Adding miscellaneous information\n",
      "Adding tool-specific results\n"
     ]
    },
    {
     "name": "stdout",
     "output_type": "stream",
     "text": [
      "/data/pollock/benchmarking/pollock_datasets/scRNAseq/pdac.h5ad\n"
     ]
    },
    {
     "name": "stderr",
     "output_type": "stream",
     "text": [
      "Attaching SeuratObject\n",
      "Registered S3 method overwritten by 'cli':\n",
      "  method     from         \n",
      "  print.boxx spatstat.geom\n",
      "Registered S3 method overwritten by 'SeuratDisk':\n",
      "  method            from  \n",
      "  as.sparse.H5Group Seurat\n",
      "Warning: Unknown file type: h5ad\n",
      "Warning: 'assay' not set, setting to 'RNA'\n",
      "Creating h5Seurat file for version 3.1.5.9900\n",
      "Adding X as data\n",
      "Adding X as counts\n",
      "Adding meta.features from var\n",
      "Validating h5Seurat file\n",
      "Initializing RNA with data\n",
      "Adding counts for RNA\n",
      "Adding feature-level metadata for RNA\n",
      "Adding command information\n",
      "Adding cell-level metadata\n",
      "Adding miscellaneous information\n",
      "Adding tool-specific results\n"
     ]
    },
    {
     "name": "stdout",
     "output_type": "stream",
     "text": [
      "/data/pollock/benchmarking/pollock_datasets/scRNAseq/pdac_train.h5ad\n"
     ]
    },
    {
     "name": "stderr",
     "output_type": "stream",
     "text": [
      "Attaching SeuratObject\n",
      "Registered S3 method overwritten by 'cli':\n",
      "  method     from         \n",
      "  print.boxx spatstat.geom\n",
      "Registered S3 method overwritten by 'SeuratDisk':\n",
      "  method            from  \n",
      "  as.sparse.H5Group Seurat\n",
      "Warning: Unknown file type: h5ad\n",
      "Warning: 'assay' not set, setting to 'RNA'\n",
      "Creating h5Seurat file for version 3.1.5.9900\n",
      "Adding X as data\n",
      "Adding X as counts\n",
      "Adding meta.features from var\n",
      "Validating h5Seurat file\n",
      "Initializing RNA with data\n",
      "Adding counts for RNA\n",
      "Adding feature-level metadata for RNA\n",
      "Adding command information\n",
      "Adding cell-level metadata\n",
      "Adding miscellaneous information\n",
      "Adding tool-specific results\n"
     ]
    },
    {
     "name": "stdout",
     "output_type": "stream",
     "text": [
      "/data/pollock/benchmarking/pollock_datasets/scRNAseq/pdac_val.h5ad\n"
     ]
    },
    {
     "name": "stderr",
     "output_type": "stream",
     "text": [
      "Attaching SeuratObject\n",
      "Registered S3 method overwritten by 'cli':\n",
      "  method     from         \n",
      "  print.boxx spatstat.geom\n",
      "Registered S3 method overwritten by 'SeuratDisk':\n",
      "  method            from  \n",
      "  as.sparse.H5Group Seurat\n",
      "Warning: Unknown file type: h5ad\n",
      "Warning: 'assay' not set, setting to 'RNA'\n",
      "Creating h5Seurat file for version 3.1.5.9900\n",
      "Adding X as data\n",
      "Adding X as counts\n",
      "Adding meta.features from var\n",
      "Validating h5Seurat file\n",
      "Initializing RNA with data\n",
      "Adding counts for RNA\n",
      "Adding feature-level metadata for RNA\n",
      "Adding command information\n",
      "Adding cell-level metadata\n",
      "Adding miscellaneous information\n",
      "Adding tool-specific results\n"
     ]
    },
    {
     "name": "stdout",
     "output_type": "stream",
     "text": [
      "/data/pollock/benchmarking/pollock_datasets/snATACseq/brca_gene_activity.h5ad\n"
     ]
    },
    {
     "name": "stderr",
     "output_type": "stream",
     "text": [
      "Attaching SeuratObject\n",
      "Registered S3 method overwritten by 'cli':\n",
      "  method     from         \n",
      "  print.boxx spatstat.geom\n",
      "Registered S3 method overwritten by 'SeuratDisk':\n",
      "  method            from  \n",
      "  as.sparse.H5Group Seurat\n",
      "Warning: Unknown file type: h5ad\n",
      "Warning: 'assay' not set, setting to 'RNA'\n",
      "Creating h5Seurat file for version 3.1.5.9900\n",
      "Adding X as data\n",
      "Adding X as counts\n",
      "Adding meta.features from var\n",
      "Validating h5Seurat file\n",
      "Initializing RNA with data\n",
      "Adding counts for RNA\n",
      "Adding feature-level metadata for RNA\n",
      "Adding command information\n",
      "Adding cell-level metadata\n",
      "Adding miscellaneous information\n",
      "Adding tool-specific results\n"
     ]
    },
    {
     "name": "stdout",
     "output_type": "stream",
     "text": [
      "/data/pollock/benchmarking/pollock_datasets/snATACseq/brca_gene_activity_train.h5ad\n"
     ]
    },
    {
     "name": "stderr",
     "output_type": "stream",
     "text": [
      "Attaching SeuratObject\n",
      "Registered S3 method overwritten by 'cli':\n",
      "  method     from         \n",
      "  print.boxx spatstat.geom\n",
      "Registered S3 method overwritten by 'SeuratDisk':\n",
      "  method            from  \n",
      "  as.sparse.H5Group Seurat\n",
      "Warning: Unknown file type: h5ad\n",
      "Warning: 'assay' not set, setting to 'RNA'\n",
      "Creating h5Seurat file for version 3.1.5.9900\n",
      "Adding X as data\n",
      "Adding X as counts\n",
      "Adding meta.features from var\n",
      "Validating h5Seurat file\n",
      "Initializing RNA with data\n",
      "Adding counts for RNA\n",
      "Adding feature-level metadata for RNA\n",
      "Adding command information\n",
      "Adding cell-level metadata\n",
      "Adding miscellaneous information\n",
      "Adding tool-specific results\n"
     ]
    },
    {
     "name": "stdout",
     "output_type": "stream",
     "text": [
      "/data/pollock/benchmarking/pollock_datasets/snATACseq/brca_gene_activity_val.h5ad\n"
     ]
    },
    {
     "name": "stderr",
     "output_type": "stream",
     "text": [
      "Attaching SeuratObject\n",
      "Registered S3 method overwritten by 'cli':\n",
      "  method     from         \n",
      "  print.boxx spatstat.geom\n",
      "Registered S3 method overwritten by 'SeuratDisk':\n",
      "  method            from  \n",
      "  as.sparse.H5Group Seurat\n",
      "Warning: Unknown file type: h5ad\n",
      "Warning: 'assay' not set, setting to 'RNA'\n",
      "Creating h5Seurat file for version 3.1.5.9900\n",
      "Adding X as data\n",
      "Adding X as counts\n",
      "Adding meta.features from var\n",
      "Validating h5Seurat file\n",
      "Initializing RNA with data\n",
      "Adding counts for RNA\n",
      "Adding feature-level metadata for RNA\n",
      "Adding command information\n",
      "Adding cell-level metadata\n",
      "Adding miscellaneous information\n",
      "Adding tool-specific results\n"
     ]
    },
    {
     "name": "stdout",
     "output_type": "stream",
     "text": [
      "/data/pollock/benchmarking/pollock_datasets/snATACseq/ccrcc_gene_activity.h5ad\n"
     ]
    },
    {
     "name": "stderr",
     "output_type": "stream",
     "text": [
      "Attaching SeuratObject\n",
      "Registered S3 method overwritten by 'cli':\n",
      "  method     from         \n",
      "  print.boxx spatstat.geom\n",
      "Registered S3 method overwritten by 'SeuratDisk':\n",
      "  method            from  \n",
      "  as.sparse.H5Group Seurat\n",
      "Warning: Unknown file type: h5ad\n",
      "Warning: 'assay' not set, setting to 'RNA'\n",
      "Creating h5Seurat file for version 3.1.5.9900\n",
      "Adding X as data\n",
      "Adding X as counts\n",
      "Adding meta.features from var\n",
      "Validating h5Seurat file\n",
      "Initializing RNA with data\n",
      "Adding counts for RNA\n",
      "Adding feature-level metadata for RNA\n",
      "Adding command information\n",
      "Adding cell-level metadata\n",
      "Adding miscellaneous information\n",
      "Adding tool-specific results\n"
     ]
    },
    {
     "name": "stdout",
     "output_type": "stream",
     "text": [
      "/data/pollock/benchmarking/pollock_datasets/snATACseq/ccrcc_gene_activity_train.h5ad\n"
     ]
    },
    {
     "name": "stderr",
     "output_type": "stream",
     "text": [
      "Attaching SeuratObject\n",
      "Registered S3 method overwritten by 'cli':\n",
      "  method     from         \n",
      "  print.boxx spatstat.geom\n",
      "Registered S3 method overwritten by 'SeuratDisk':\n",
      "  method            from  \n",
      "  as.sparse.H5Group Seurat\n",
      "Warning: Unknown file type: h5ad\n",
      "Warning: 'assay' not set, setting to 'RNA'\n",
      "Creating h5Seurat file for version 3.1.5.9900\n",
      "Adding X as data\n",
      "Adding X as counts\n",
      "Adding meta.features from var\n",
      "Validating h5Seurat file\n",
      "Initializing RNA with data\n",
      "Adding counts for RNA\n",
      "Adding feature-level metadata for RNA\n",
      "Adding command information\n",
      "Adding cell-level metadata\n",
      "Adding miscellaneous information\n",
      "Adding tool-specific results\n"
     ]
    },
    {
     "name": "stdout",
     "output_type": "stream",
     "text": [
      "/data/pollock/benchmarking/pollock_datasets/snATACseq/ccrcc_gene_activity_val.h5ad\n"
     ]
    },
    {
     "name": "stderr",
     "output_type": "stream",
     "text": [
      "Attaching SeuratObject\n",
      "Registered S3 method overwritten by 'cli':\n",
      "  method     from         \n",
      "  print.boxx spatstat.geom\n",
      "Registered S3 method overwritten by 'SeuratDisk':\n",
      "  method            from  \n",
      "  as.sparse.H5Group Seurat\n",
      "Warning: Unknown file type: h5ad\n",
      "Warning: 'assay' not set, setting to 'RNA'\n",
      "Creating h5Seurat file for version 3.1.5.9900\n",
      "Adding X as data\n",
      "Adding X as counts\n",
      "Adding meta.features from var\n",
      "Validating h5Seurat file\n",
      "Initializing RNA with data\n",
      "Adding counts for RNA\n",
      "Adding feature-level metadata for RNA\n",
      "Adding command information\n",
      "Adding cell-level metadata\n",
      "Adding miscellaneous information\n",
      "Adding tool-specific results\n"
     ]
    },
    {
     "name": "stdout",
     "output_type": "stream",
     "text": [
      "/data/pollock/benchmarking/pollock_datasets/snATACseq/gbm_gene_activity.h5ad\n"
     ]
    },
    {
     "name": "stderr",
     "output_type": "stream",
     "text": [
      "Attaching SeuratObject\n",
      "Registered S3 method overwritten by 'cli':\n",
      "  method     from         \n",
      "  print.boxx spatstat.geom\n",
      "Registered S3 method overwritten by 'SeuratDisk':\n",
      "  method            from  \n",
      "  as.sparse.H5Group Seurat\n",
      "Warning: Unknown file type: h5ad\n",
      "Warning: 'assay' not set, setting to 'RNA'\n",
      "Creating h5Seurat file for version 3.1.5.9900\n",
      "Adding X as data\n",
      "Adding X as counts\n",
      "Adding meta.features from var\n",
      "Validating h5Seurat file\n",
      "Initializing RNA with data\n",
      "Adding counts for RNA\n",
      "Adding feature-level metadata for RNA\n",
      "Adding command information\n",
      "Adding cell-level metadata\n",
      "Adding miscellaneous information\n",
      "Adding tool-specific results\n"
     ]
    },
    {
     "name": "stdout",
     "output_type": "stream",
     "text": [
      "/data/pollock/benchmarking/pollock_datasets/snATACseq/gbm_gene_activity_train.h5ad\n"
     ]
    },
    {
     "name": "stderr",
     "output_type": "stream",
     "text": [
      "Attaching SeuratObject\n",
      "Registered S3 method overwritten by 'cli':\n",
      "  method     from         \n",
      "  print.boxx spatstat.geom\n",
      "Registered S3 method overwritten by 'SeuratDisk':\n",
      "  method            from  \n",
      "  as.sparse.H5Group Seurat\n",
      "Warning: Unknown file type: h5ad\n",
      "Warning: 'assay' not set, setting to 'RNA'\n",
      "Creating h5Seurat file for version 3.1.5.9900\n",
      "Adding X as data\n",
      "Adding X as counts\n",
      "Adding meta.features from var\n",
      "Validating h5Seurat file\n",
      "Initializing RNA with data\n",
      "Adding counts for RNA\n",
      "Adding feature-level metadata for RNA\n",
      "Adding command information\n",
      "Adding cell-level metadata\n",
      "Adding miscellaneous information\n",
      "Adding tool-specific results\n"
     ]
    },
    {
     "name": "stdout",
     "output_type": "stream",
     "text": [
      "/data/pollock/benchmarking/pollock_datasets/snATACseq/gbm_gene_activity_val.h5ad\n"
     ]
    },
    {
     "name": "stderr",
     "output_type": "stream",
     "text": [
      "Attaching SeuratObject\n",
      "Registered S3 method overwritten by 'cli':\n",
      "  method     from         \n",
      "  print.boxx spatstat.geom\n",
      "Registered S3 method overwritten by 'SeuratDisk':\n",
      "  method            from  \n",
      "  as.sparse.H5Group Seurat\n",
      "Warning: Unknown file type: h5ad\n",
      "Warning: 'assay' not set, setting to 'RNA'\n",
      "Creating h5Seurat file for version 3.1.5.9900\n",
      "Adding X as data\n",
      "Adding X as counts\n",
      "Adding meta.features from var\n",
      "Validating h5Seurat file\n",
      "Initializing RNA with data\n",
      "Adding counts for RNA\n",
      "Adding feature-level metadata for RNA\n",
      "Adding command information\n",
      "Adding cell-level metadata\n",
      "Adding miscellaneous information\n",
      "Adding tool-specific results\n"
     ]
    },
    {
     "name": "stdout",
     "output_type": "stream",
     "text": [
      "/data/pollock/benchmarking/pollock_datasets/snRNAseq/brca.h5ad\n"
     ]
    },
    {
     "name": "stderr",
     "output_type": "stream",
     "text": [
      "Attaching SeuratObject\n",
      "Registered S3 method overwritten by 'cli':\n",
      "  method     from         \n",
      "  print.boxx spatstat.geom\n",
      "Registered S3 method overwritten by 'SeuratDisk':\n",
      "  method            from  \n",
      "  as.sparse.H5Group Seurat\n",
      "Warning: Unknown file type: h5ad\n",
      "Warning: 'assay' not set, setting to 'RNA'\n",
      "Creating h5Seurat file for version 3.1.5.9900\n",
      "Adding X as data\n",
      "Adding X as counts\n",
      "Adding meta.features from var\n",
      "Validating h5Seurat file\n",
      "Initializing RNA with data\n",
      "Adding counts for RNA\n",
      "Adding feature-level metadata for RNA\n",
      "Adding command information\n",
      "Adding cell-level metadata\n",
      "Adding miscellaneous information\n",
      "Adding tool-specific results\n"
     ]
    },
    {
     "name": "stdout",
     "output_type": "stream",
     "text": [
      "/data/pollock/benchmarking/pollock_datasets/snRNAseq/brca_train.h5ad\n"
     ]
    },
    {
     "name": "stderr",
     "output_type": "stream",
     "text": [
      "Attaching SeuratObject\n",
      "Registered S3 method overwritten by 'cli':\n",
      "  method     from         \n",
      "  print.boxx spatstat.geom\n",
      "Registered S3 method overwritten by 'SeuratDisk':\n",
      "  method            from  \n",
      "  as.sparse.H5Group Seurat\n",
      "Warning: Unknown file type: h5ad\n",
      "Warning: 'assay' not set, setting to 'RNA'\n",
      "Creating h5Seurat file for version 3.1.5.9900\n",
      "Adding X as data\n",
      "Adding X as counts\n",
      "Adding meta.features from var\n",
      "Validating h5Seurat file\n",
      "Initializing RNA with data\n",
      "Adding counts for RNA\n",
      "Adding feature-level metadata for RNA\n",
      "Adding command information\n",
      "Adding cell-level metadata\n",
      "Adding miscellaneous information\n",
      "Adding tool-specific results\n"
     ]
    },
    {
     "name": "stdout",
     "output_type": "stream",
     "text": [
      "/data/pollock/benchmarking/pollock_datasets/snRNAseq/brca_val.h5ad\n"
     ]
    },
    {
     "name": "stderr",
     "output_type": "stream",
     "text": [
      "Attaching SeuratObject\n",
      "Registered S3 method overwritten by 'cli':\n",
      "  method     from         \n",
      "  print.boxx spatstat.geom\n",
      "Registered S3 method overwritten by 'SeuratDisk':\n",
      "  method            from  \n",
      "  as.sparse.H5Group Seurat\n",
      "Warning: Unknown file type: h5ad\n",
      "Warning: 'assay' not set, setting to 'RNA'\n",
      "Creating h5Seurat file for version 3.1.5.9900\n",
      "Adding X as data\n",
      "Adding X as counts\n",
      "Adding meta.features from var\n",
      "Validating h5Seurat file\n",
      "Initializing RNA with data\n",
      "Adding counts for RNA\n",
      "Adding feature-level metadata for RNA\n",
      "Adding command information\n",
      "Adding cell-level metadata\n",
      "Adding miscellaneous information\n",
      "Adding tool-specific results\n"
     ]
    },
    {
     "name": "stdout",
     "output_type": "stream",
     "text": [
      "/data/pollock/benchmarking/pollock_datasets/snRNAseq/ccrcc.h5ad\n"
     ]
    },
    {
     "name": "stderr",
     "output_type": "stream",
     "text": [
      "Attaching SeuratObject\n",
      "Registered S3 method overwritten by 'cli':\n",
      "  method     from         \n",
      "  print.boxx spatstat.geom\n",
      "Registered S3 method overwritten by 'SeuratDisk':\n",
      "  method            from  \n",
      "  as.sparse.H5Group Seurat\n",
      "Warning: Unknown file type: h5ad\n",
      "Warning: 'assay' not set, setting to 'RNA'\n",
      "Creating h5Seurat file for version 3.1.5.9900\n",
      "Adding X as data\n",
      "Adding X as counts\n",
      "Adding meta.features from var\n",
      "Validating h5Seurat file\n",
      "Initializing RNA with data\n",
      "Adding counts for RNA\n",
      "Adding feature-level metadata for RNA\n",
      "Adding command information\n",
      "Adding cell-level metadata\n",
      "Adding miscellaneous information\n",
      "Adding tool-specific results\n"
     ]
    },
    {
     "name": "stdout",
     "output_type": "stream",
     "text": [
      "/data/pollock/benchmarking/pollock_datasets/snRNAseq/ccrcc_train.h5ad\n"
     ]
    },
    {
     "name": "stderr",
     "output_type": "stream",
     "text": [
      "Attaching SeuratObject\n",
      "Registered S3 method overwritten by 'cli':\n",
      "  method     from         \n",
      "  print.boxx spatstat.geom\n",
      "Registered S3 method overwritten by 'SeuratDisk':\n",
      "  method            from  \n",
      "  as.sparse.H5Group Seurat\n",
      "Warning: Unknown file type: h5ad\n",
      "Warning: 'assay' not set, setting to 'RNA'\n",
      "Creating h5Seurat file for version 3.1.5.9900\n",
      "Adding X as data\n",
      "Adding X as counts\n",
      "Adding meta.features from var\n",
      "Validating h5Seurat file\n",
      "Initializing RNA with data\n",
      "Adding counts for RNA\n",
      "Adding feature-level metadata for RNA\n",
      "Adding command information\n",
      "Adding cell-level metadata\n",
      "Adding miscellaneous information\n",
      "Adding tool-specific results\n"
     ]
    },
    {
     "name": "stdout",
     "output_type": "stream",
     "text": [
      "/data/pollock/benchmarking/pollock_datasets/snRNAseq/ccrcc_val.h5ad\n"
     ]
    },
    {
     "name": "stderr",
     "output_type": "stream",
     "text": [
      "Attaching SeuratObject\n",
      "Registered S3 method overwritten by 'cli':\n",
      "  method     from         \n",
      "  print.boxx spatstat.geom\n",
      "Registered S3 method overwritten by 'SeuratDisk':\n",
      "  method            from  \n",
      "  as.sparse.H5Group Seurat\n",
      "Warning: Unknown file type: h5ad\n",
      "Warning: 'assay' not set, setting to 'RNA'\n",
      "Creating h5Seurat file for version 3.1.5.9900\n",
      "Adding X as data\n",
      "Adding X as counts\n",
      "Adding meta.features from var\n",
      "Validating h5Seurat file\n",
      "Initializing RNA with data\n",
      "Adding counts for RNA\n",
      "Adding feature-level metadata for RNA\n",
      "Adding command information\n",
      "Adding cell-level metadata\n",
      "Adding miscellaneous information\n",
      "Adding tool-specific results\n"
     ]
    },
    {
     "name": "stdout",
     "output_type": "stream",
     "text": [
      "/data/pollock/benchmarking/pollock_datasets/snRNAseq/gbm.h5ad\n"
     ]
    },
    {
     "name": "stderr",
     "output_type": "stream",
     "text": [
      "Attaching SeuratObject\n",
      "Registered S3 method overwritten by 'cli':\n",
      "  method     from         \n",
      "  print.boxx spatstat.geom\n",
      "Registered S3 method overwritten by 'SeuratDisk':\n",
      "  method            from  \n",
      "  as.sparse.H5Group Seurat\n",
      "Warning: Unknown file type: h5ad\n",
      "Warning: 'assay' not set, setting to 'RNA'\n",
      "Creating h5Seurat file for version 3.1.5.9900\n",
      "Adding X as data\n",
      "Adding X as counts\n",
      "Adding meta.features from var\n",
      "Validating h5Seurat file\n",
      "Initializing RNA with data\n",
      "Adding counts for RNA\n",
      "Adding feature-level metadata for RNA\n",
      "Adding command information\n",
      "Adding cell-level metadata\n",
      "Adding miscellaneous information\n",
      "Adding tool-specific results\n"
     ]
    },
    {
     "name": "stdout",
     "output_type": "stream",
     "text": [
      "/data/pollock/benchmarking/pollock_datasets/snRNAseq/gbm_train.h5ad\n"
     ]
    },
    {
     "name": "stderr",
     "output_type": "stream",
     "text": [
      "Attaching SeuratObject\n",
      "Registered S3 method overwritten by 'cli':\n",
      "  method     from         \n",
      "  print.boxx spatstat.geom\n",
      "Registered S3 method overwritten by 'SeuratDisk':\n",
      "  method            from  \n",
      "  as.sparse.H5Group Seurat\n",
      "Warning: Unknown file type: h5ad\n",
      "Warning: 'assay' not set, setting to 'RNA'\n",
      "Creating h5Seurat file for version 3.1.5.9900\n",
      "Adding X as data\n",
      "Adding X as counts\n",
      "Adding meta.features from var\n",
      "Validating h5Seurat file\n",
      "Initializing RNA with data\n",
      "Adding counts for RNA\n",
      "Adding feature-level metadata for RNA\n",
      "Adding command information\n",
      "Adding cell-level metadata\n",
      "Adding miscellaneous information\n",
      "Adding tool-specific results\n"
     ]
    },
    {
     "name": "stdout",
     "output_type": "stream",
     "text": [
      "/data/pollock/benchmarking/pollock_datasets/snRNAseq/gbm_val.h5ad\n"
     ]
    },
    {
     "name": "stderr",
     "output_type": "stream",
     "text": [
      "Attaching SeuratObject\n",
      "Registered S3 method overwritten by 'cli':\n",
      "  method     from         \n",
      "  print.boxx spatstat.geom\n",
      "Registered S3 method overwritten by 'SeuratDisk':\n",
      "  method            from  \n",
      "  as.sparse.H5Group Seurat\n",
      "Warning: Unknown file type: h5ad\n",
      "Warning: 'assay' not set, setting to 'RNA'\n",
      "Creating h5Seurat file for version 3.1.5.9900\n",
      "Adding X as data\n",
      "Adding X as counts\n",
      "Adding meta.features from var\n",
      "Validating h5Seurat file\n",
      "Initializing RNA with data\n",
      "Adding counts for RNA\n",
      "Adding feature-level metadata for RNA\n",
      "Adding command information\n",
      "Adding cell-level metadata\n",
      "Adding miscellaneous information\n",
      "Adding tool-specific results\n"
     ]
    }
   ],
   "source": [
    "for fp in fps:\n",
    "    print(fp)\n",
    "    a = sc.read_h5ad(fp)\n",
    "    save_rds(a, fp.replace('.h5ad', '.rds'))"
   ]
  },
  {
   "cell_type": "code",
   "execution_count": 65,
   "id": "b2a862b2",
   "metadata": {},
   "outputs": [
    {
     "name": "stdout",
     "output_type": "stream",
     "text": [
      "/data/pollock/benchmarking/pollock_datasets/scRNAseq/brca_train.h5ad\n",
      "/data/pollock/benchmarking/pollock_datasets/scRNAseq/brca_val.h5ad\n",
      "/data/pollock/benchmarking/pollock_datasets/scRNAseq/cesc_train.h5ad\n",
      "/data/pollock/benchmarking/pollock_datasets/scRNAseq/cesc_val.h5ad\n",
      "/data/pollock/benchmarking/pollock_datasets/scRNAseq/hnscc_train.h5ad\n",
      "/data/pollock/benchmarking/pollock_datasets/scRNAseq/hnscc_val.h5ad\n",
      "/data/pollock/benchmarking/pollock_datasets/scRNAseq/melanoma_train.h5ad\n",
      "/data/pollock/benchmarking/pollock_datasets/scRNAseq/melanoma_val.h5ad\n",
      "/data/pollock/benchmarking/pollock_datasets/scRNAseq/myeloma_train.h5ad\n",
      "/data/pollock/benchmarking/pollock_datasets/scRNAseq/myeloma_val.h5ad\n",
      "/data/pollock/benchmarking/pollock_datasets/scRNAseq/pdac_train.h5ad\n",
      "/data/pollock/benchmarking/pollock_datasets/scRNAseq/pdac_val.h5ad\n",
      "/data/pollock/benchmarking/pollock_datasets/snATACseq/brca_gene_activity_train.h5ad\n",
      "/data/pollock/benchmarking/pollock_datasets/snATACseq/brca_gene_activity_val.h5ad\n",
      "/data/pollock/benchmarking/pollock_datasets/snATACseq/ccrcc_gene_activity_train.h5ad\n",
      "/data/pollock/benchmarking/pollock_datasets/snATACseq/ccrcc_gene_activity_val.h5ad\n",
      "/data/pollock/benchmarking/pollock_datasets/snATACseq/gbm_gene_activity_train.h5ad\n",
      "/data/pollock/benchmarking/pollock_datasets/snATACseq/gbm_gene_activity_val.h5ad\n",
      "/data/pollock/benchmarking/pollock_datasets/snRNAseq/brca_train.h5ad\n",
      "/data/pollock/benchmarking/pollock_datasets/snRNAseq/brca_val.h5ad\n",
      "/data/pollock/benchmarking/pollock_datasets/snRNAseq/ccrcc_train.h5ad\n",
      "/data/pollock/benchmarking/pollock_datasets/snRNAseq/ccrcc_val.h5ad\n",
      "/data/pollock/benchmarking/pollock_datasets/snRNAseq/gbm_train.h5ad\n",
      "/data/pollock/benchmarking/pollock_datasets/snRNAseq/gbm_val.h5ad\n"
     ]
    }
   ],
   "source": [
    "for fp in fps:\n",
    "    if 'train' in fp or 'val' in fp:\n",
    "        print(fp)\n",
    "        a = sc.read_h5ad(fp)\n",
    "        count_df = pd.DataFrame(data=a.X if 'sparse' not in str(type(a.X)).lower() else a.X.toarray(),\n",
    "                               index=a.obs.index.to_list(), columns=a.var.index.to_list())\n",
    "        count_df = count_df.transpose()\n",
    "        count_df.index.name = 'gene'\n",
    "\n",
    "        count_df.to_csv(fp.replace('.h5ad', '.txt'), sep='\\t')"
   ]
  },
  {
   "cell_type": "code",
   "execution_count": null,
   "id": "8691c823",
   "metadata": {},
   "outputs": [],
   "source": []
  },
  {
   "cell_type": "code",
   "execution_count": 217,
   "id": "5ea3eba3",
   "metadata": {},
   "outputs": [
    {
     "data": {
      "text/plain": [
       "AnnData object with n_obs × n_vars = 3517 × 23452\n",
       "    obs: 'cell_type', 'barcode', 'sample'"
      ]
     },
     "execution_count": 217,
     "metadata": {},
     "output_type": "execute_result"
    }
   ],
   "source": [
    "a = sc.read_h5ad('/data/pollock/benchmarking/pollock_datasets/scRNAseq/melanoma.h5ad')\n",
    "a = sc.read_h5ad('/data/pollock/benchmarking/pollock_datasets/scRNAseq/melanoma_train.h5ad')\n",
    "a = sc.read_h5ad('/data/pollock/benchmarking/pollock_datasets/scRNAseq/melanoma_val.h5ad')\n",
    "a"
   ]
  },
  {
   "cell_type": "code",
   "execution_count": 218,
   "id": "6cd96532",
   "metadata": {},
   "outputs": [],
   "source": [
    "a.var.index = ['UNKNWN' if not x else x for x in a.var.index]"
   ]
  },
  {
   "cell_type": "code",
   "execution_count": 219,
   "id": "e522f5fc",
   "metadata": {},
   "outputs": [
    {
     "name": "stderr",
     "output_type": "stream",
     "text": [
      "Attaching SeuratObject\n",
      "Registered S3 method overwritten by 'cli':\n",
      "  method     from         \n",
      "  print.boxx spatstat.geom\n",
      "Registered S3 method overwritten by 'SeuratDisk':\n",
      "  method            from  \n",
      "  as.sparse.H5Group Seurat\n",
      "Warning: Unknown file type: h5ad\n",
      "Warning: 'assay' not set, setting to 'RNA'\n",
      "Creating h5Seurat file for version 3.1.5.9900\n",
      "Adding X as data\n",
      "Adding X as counts\n",
      "Adding meta.features from var\n",
      "Validating h5Seurat file\n",
      "Initializing RNA with data\n",
      "Adding counts for RNA\n",
      "Adding feature-level metadata for RNA\n",
      "Adding command information\n",
      "Adding cell-level metadata\n",
      "Adding miscellaneous information\n",
      "Adding tool-specific results\n"
     ]
    }
   ],
   "source": [
    "# save_rds(a, '/data/pollock/benchmarking/pollock_datasets/scRNAseq/melanoma.rds')\n",
    "# save_rds(a, '/data/pollock/benchmarking/pollock_datasets/scRNAseq/melanoma_train.rds')\n",
    "save_rds(a, '/data/pollock/benchmarking/pollock_datasets/scRNAseq/melanoma_val.rds')"
   ]
  },
  {
   "cell_type": "code",
   "execution_count": null,
   "id": "5b1abc49",
   "metadata": {},
   "outputs": [],
   "source": []
  },
  {
   "cell_type": "code",
   "execution_count": 2,
   "id": "7b8cc723",
   "metadata": {},
   "outputs": [
    {
     "data": {
      "text/plain": [
       "['/data/pollock/benchmarking/pollock_datasets_with_folds/scRNAseq/brca_fold0_train.h5ad',\n",
       " '/data/pollock/benchmarking/pollock_datasets_with_folds/scRNAseq/brca_fold0_val.h5ad',\n",
       " '/data/pollock/benchmarking/pollock_datasets_with_folds/scRNAseq/brca_fold1_train.h5ad',\n",
       " '/data/pollock/benchmarking/pollock_datasets_with_folds/scRNAseq/brca_fold1_val.h5ad',\n",
       " '/data/pollock/benchmarking/pollock_datasets_with_folds/scRNAseq/brca_fold2_train.h5ad',\n",
       " '/data/pollock/benchmarking/pollock_datasets_with_folds/scRNAseq/brca_fold2_val.h5ad',\n",
       " '/data/pollock/benchmarking/pollock_datasets_with_folds/scRNAseq/brca_fold3_train.h5ad',\n",
       " '/data/pollock/benchmarking/pollock_datasets_with_folds/scRNAseq/brca_fold3_val.h5ad',\n",
       " '/data/pollock/benchmarking/pollock_datasets_with_folds/scRNAseq/brca_fold4_train.h5ad',\n",
       " '/data/pollock/benchmarking/pollock_datasets_with_folds/scRNAseq/brca_fold4_val.h5ad',\n",
       " '/data/pollock/benchmarking/pollock_datasets_with_folds/scRNAseq/cesc_fold0_train.h5ad',\n",
       " '/data/pollock/benchmarking/pollock_datasets_with_folds/scRNAseq/cesc_fold0_val.h5ad',\n",
       " '/data/pollock/benchmarking/pollock_datasets_with_folds/scRNAseq/cesc_fold1_train.h5ad',\n",
       " '/data/pollock/benchmarking/pollock_datasets_with_folds/scRNAseq/cesc_fold1_val.h5ad',\n",
       " '/data/pollock/benchmarking/pollock_datasets_with_folds/scRNAseq/cesc_fold2_train.h5ad',\n",
       " '/data/pollock/benchmarking/pollock_datasets_with_folds/scRNAseq/cesc_fold2_val.h5ad',\n",
       " '/data/pollock/benchmarking/pollock_datasets_with_folds/scRNAseq/cesc_fold3_train.h5ad',\n",
       " '/data/pollock/benchmarking/pollock_datasets_with_folds/scRNAseq/cesc_fold3_val.h5ad',\n",
       " '/data/pollock/benchmarking/pollock_datasets_with_folds/scRNAseq/cesc_fold4_train.h5ad',\n",
       " '/data/pollock/benchmarking/pollock_datasets_with_folds/scRNAseq/cesc_fold4_val.h5ad',\n",
       " '/data/pollock/benchmarking/pollock_datasets_with_folds/scRNAseq/hnscc_fold0_train.h5ad',\n",
       " '/data/pollock/benchmarking/pollock_datasets_with_folds/scRNAseq/hnscc_fold0_val.h5ad',\n",
       " '/data/pollock/benchmarking/pollock_datasets_with_folds/scRNAseq/hnscc_fold1_train.h5ad',\n",
       " '/data/pollock/benchmarking/pollock_datasets_with_folds/scRNAseq/hnscc_fold1_val.h5ad',\n",
       " '/data/pollock/benchmarking/pollock_datasets_with_folds/scRNAseq/hnscc_fold2_train.h5ad',\n",
       " '/data/pollock/benchmarking/pollock_datasets_with_folds/scRNAseq/hnscc_fold2_val.h5ad',\n",
       " '/data/pollock/benchmarking/pollock_datasets_with_folds/scRNAseq/hnscc_fold3_train.h5ad',\n",
       " '/data/pollock/benchmarking/pollock_datasets_with_folds/scRNAseq/hnscc_fold3_val.h5ad',\n",
       " '/data/pollock/benchmarking/pollock_datasets_with_folds/scRNAseq/hnscc_fold4_train.h5ad',\n",
       " '/data/pollock/benchmarking/pollock_datasets_with_folds/scRNAseq/hnscc_fold4_val.h5ad',\n",
       " '/data/pollock/benchmarking/pollock_datasets_with_folds/scRNAseq/melanoma_fold0_train.h5ad',\n",
       " '/data/pollock/benchmarking/pollock_datasets_with_folds/scRNAseq/melanoma_fold0_val.h5ad',\n",
       " '/data/pollock/benchmarking/pollock_datasets_with_folds/scRNAseq/melanoma_fold1_train.h5ad',\n",
       " '/data/pollock/benchmarking/pollock_datasets_with_folds/scRNAseq/melanoma_fold1_val.h5ad',\n",
       " '/data/pollock/benchmarking/pollock_datasets_with_folds/scRNAseq/melanoma_fold2_train.h5ad',\n",
       " '/data/pollock/benchmarking/pollock_datasets_with_folds/scRNAseq/melanoma_fold2_val.h5ad',\n",
       " '/data/pollock/benchmarking/pollock_datasets_with_folds/scRNAseq/melanoma_fold3_train.h5ad',\n",
       " '/data/pollock/benchmarking/pollock_datasets_with_folds/scRNAseq/melanoma_fold3_val.h5ad',\n",
       " '/data/pollock/benchmarking/pollock_datasets_with_folds/scRNAseq/melanoma_fold4_train.h5ad',\n",
       " '/data/pollock/benchmarking/pollock_datasets_with_folds/scRNAseq/melanoma_fold4_val.h5ad',\n",
       " '/data/pollock/benchmarking/pollock_datasets_with_folds/scRNAseq/myeloma_fold0_train.h5ad',\n",
       " '/data/pollock/benchmarking/pollock_datasets_with_folds/scRNAseq/myeloma_fold0_val.h5ad',\n",
       " '/data/pollock/benchmarking/pollock_datasets_with_folds/scRNAseq/myeloma_fold1_train.h5ad',\n",
       " '/data/pollock/benchmarking/pollock_datasets_with_folds/scRNAseq/myeloma_fold1_val.h5ad',\n",
       " '/data/pollock/benchmarking/pollock_datasets_with_folds/scRNAseq/myeloma_fold2_train.h5ad',\n",
       " '/data/pollock/benchmarking/pollock_datasets_with_folds/scRNAseq/myeloma_fold2_val.h5ad',\n",
       " '/data/pollock/benchmarking/pollock_datasets_with_folds/scRNAseq/myeloma_fold3_train.h5ad',\n",
       " '/data/pollock/benchmarking/pollock_datasets_with_folds/scRNAseq/myeloma_fold3_val.h5ad',\n",
       " '/data/pollock/benchmarking/pollock_datasets_with_folds/scRNAseq/myeloma_fold4_train.h5ad',\n",
       " '/data/pollock/benchmarking/pollock_datasets_with_folds/scRNAseq/myeloma_fold4_val.h5ad',\n",
       " '/data/pollock/benchmarking/pollock_datasets_with_folds/scRNAseq/pdac_fold0_train.h5ad',\n",
       " '/data/pollock/benchmarking/pollock_datasets_with_folds/scRNAseq/pdac_fold0_val.h5ad',\n",
       " '/data/pollock/benchmarking/pollock_datasets_with_folds/scRNAseq/pdac_fold1_train.h5ad',\n",
       " '/data/pollock/benchmarking/pollock_datasets_with_folds/scRNAseq/pdac_fold1_val.h5ad',\n",
       " '/data/pollock/benchmarking/pollock_datasets_with_folds/scRNAseq/pdac_fold2_train.h5ad',\n",
       " '/data/pollock/benchmarking/pollock_datasets_with_folds/scRNAseq/pdac_fold2_val.h5ad',\n",
       " '/data/pollock/benchmarking/pollock_datasets_with_folds/scRNAseq/pdac_fold3_train.h5ad',\n",
       " '/data/pollock/benchmarking/pollock_datasets_with_folds/scRNAseq/pdac_fold3_val.h5ad',\n",
       " '/data/pollock/benchmarking/pollock_datasets_with_folds/scRNAseq/pdac_fold4_train.h5ad',\n",
       " '/data/pollock/benchmarking/pollock_datasets_with_folds/scRNAseq/pdac_fold4_val.h5ad',\n",
       " '/data/pollock/benchmarking/pollock_datasets_with_folds/snATACseq/brca_fold0_train.h5ad',\n",
       " '/data/pollock/benchmarking/pollock_datasets_with_folds/snATACseq/brca_fold0_val.h5ad',\n",
       " '/data/pollock/benchmarking/pollock_datasets_with_folds/snATACseq/brca_fold1_train.h5ad',\n",
       " '/data/pollock/benchmarking/pollock_datasets_with_folds/snATACseq/brca_fold1_val.h5ad',\n",
       " '/data/pollock/benchmarking/pollock_datasets_with_folds/snATACseq/brca_fold2_train.h5ad',\n",
       " '/data/pollock/benchmarking/pollock_datasets_with_folds/snATACseq/brca_fold2_val.h5ad',\n",
       " '/data/pollock/benchmarking/pollock_datasets_with_folds/snATACseq/brca_fold3_train.h5ad',\n",
       " '/data/pollock/benchmarking/pollock_datasets_with_folds/snATACseq/brca_fold3_val.h5ad',\n",
       " '/data/pollock/benchmarking/pollock_datasets_with_folds/snATACseq/brca_fold4_train.h5ad',\n",
       " '/data/pollock/benchmarking/pollock_datasets_with_folds/snATACseq/brca_fold4_val.h5ad',\n",
       " '/data/pollock/benchmarking/pollock_datasets_with_folds/snATACseq/ccrcc_fold0_train.h5ad',\n",
       " '/data/pollock/benchmarking/pollock_datasets_with_folds/snATACseq/ccrcc_fold0_val.h5ad',\n",
       " '/data/pollock/benchmarking/pollock_datasets_with_folds/snATACseq/ccrcc_fold1_train.h5ad',\n",
       " '/data/pollock/benchmarking/pollock_datasets_with_folds/snATACseq/ccrcc_fold1_val.h5ad',\n",
       " '/data/pollock/benchmarking/pollock_datasets_with_folds/snATACseq/ccrcc_fold2_train.h5ad',\n",
       " '/data/pollock/benchmarking/pollock_datasets_with_folds/snATACseq/ccrcc_fold2_val.h5ad',\n",
       " '/data/pollock/benchmarking/pollock_datasets_with_folds/snATACseq/ccrcc_fold3_train.h5ad',\n",
       " '/data/pollock/benchmarking/pollock_datasets_with_folds/snATACseq/ccrcc_fold3_val.h5ad',\n",
       " '/data/pollock/benchmarking/pollock_datasets_with_folds/snATACseq/ccrcc_fold4_train.h5ad',\n",
       " '/data/pollock/benchmarking/pollock_datasets_with_folds/snATACseq/ccrcc_fold4_val.h5ad',\n",
       " '/data/pollock/benchmarking/pollock_datasets_with_folds/snATACseq/gbm_fold0_train.h5ad',\n",
       " '/data/pollock/benchmarking/pollock_datasets_with_folds/snATACseq/gbm_fold0_val.h5ad',\n",
       " '/data/pollock/benchmarking/pollock_datasets_with_folds/snATACseq/gbm_fold1_train.h5ad',\n",
       " '/data/pollock/benchmarking/pollock_datasets_with_folds/snATACseq/gbm_fold1_val.h5ad',\n",
       " '/data/pollock/benchmarking/pollock_datasets_with_folds/snATACseq/gbm_fold2_train.h5ad',\n",
       " '/data/pollock/benchmarking/pollock_datasets_with_folds/snATACseq/gbm_fold2_val.h5ad',\n",
       " '/data/pollock/benchmarking/pollock_datasets_with_folds/snATACseq/gbm_fold3_train.h5ad',\n",
       " '/data/pollock/benchmarking/pollock_datasets_with_folds/snATACseq/gbm_fold3_val.h5ad',\n",
       " '/data/pollock/benchmarking/pollock_datasets_with_folds/snATACseq/gbm_fold4_train.h5ad',\n",
       " '/data/pollock/benchmarking/pollock_datasets_with_folds/snATACseq/gbm_fold4_val.h5ad',\n",
       " '/data/pollock/benchmarking/pollock_datasets_with_folds/snRNAseq/brca_fold0_train.h5ad',\n",
       " '/data/pollock/benchmarking/pollock_datasets_with_folds/snRNAseq/brca_fold0_val.h5ad',\n",
       " '/data/pollock/benchmarking/pollock_datasets_with_folds/snRNAseq/brca_fold1_train.h5ad',\n",
       " '/data/pollock/benchmarking/pollock_datasets_with_folds/snRNAseq/brca_fold1_val.h5ad',\n",
       " '/data/pollock/benchmarking/pollock_datasets_with_folds/snRNAseq/brca_fold2_train.h5ad',\n",
       " '/data/pollock/benchmarking/pollock_datasets_with_folds/snRNAseq/brca_fold2_val.h5ad',\n",
       " '/data/pollock/benchmarking/pollock_datasets_with_folds/snRNAseq/brca_fold3_train.h5ad',\n",
       " '/data/pollock/benchmarking/pollock_datasets_with_folds/snRNAseq/brca_fold3_val.h5ad',\n",
       " '/data/pollock/benchmarking/pollock_datasets_with_folds/snRNAseq/brca_fold4_train.h5ad',\n",
       " '/data/pollock/benchmarking/pollock_datasets_with_folds/snRNAseq/brca_fold4_val.h5ad',\n",
       " '/data/pollock/benchmarking/pollock_datasets_with_folds/snRNAseq/ccrcc_fold0_train.h5ad',\n",
       " '/data/pollock/benchmarking/pollock_datasets_with_folds/snRNAseq/ccrcc_fold0_val.h5ad',\n",
       " '/data/pollock/benchmarking/pollock_datasets_with_folds/snRNAseq/ccrcc_fold1_train.h5ad',\n",
       " '/data/pollock/benchmarking/pollock_datasets_with_folds/snRNAseq/ccrcc_fold1_val.h5ad',\n",
       " '/data/pollock/benchmarking/pollock_datasets_with_folds/snRNAseq/ccrcc_fold2_train.h5ad',\n",
       " '/data/pollock/benchmarking/pollock_datasets_with_folds/snRNAseq/ccrcc_fold2_val.h5ad',\n",
       " '/data/pollock/benchmarking/pollock_datasets_with_folds/snRNAseq/ccrcc_fold3_train.h5ad',\n",
       " '/data/pollock/benchmarking/pollock_datasets_with_folds/snRNAseq/ccrcc_fold3_val.h5ad',\n",
       " '/data/pollock/benchmarking/pollock_datasets_with_folds/snRNAseq/ccrcc_fold4_train.h5ad',\n",
       " '/data/pollock/benchmarking/pollock_datasets_with_folds/snRNAseq/ccrcc_fold4_val.h5ad',\n",
       " '/data/pollock/benchmarking/pollock_datasets_with_folds/snRNAseq/gbm_fold0_train.h5ad',\n",
       " '/data/pollock/benchmarking/pollock_datasets_with_folds/snRNAseq/gbm_fold0_val.h5ad',\n",
       " '/data/pollock/benchmarking/pollock_datasets_with_folds/snRNAseq/gbm_fold1_train.h5ad',\n",
       " '/data/pollock/benchmarking/pollock_datasets_with_folds/snRNAseq/gbm_fold1_val.h5ad',\n",
       " '/data/pollock/benchmarking/pollock_datasets_with_folds/snRNAseq/gbm_fold2_train.h5ad',\n",
       " '/data/pollock/benchmarking/pollock_datasets_with_folds/snRNAseq/gbm_fold2_val.h5ad',\n",
       " '/data/pollock/benchmarking/pollock_datasets_with_folds/snRNAseq/gbm_fold3_train.h5ad',\n",
       " '/data/pollock/benchmarking/pollock_datasets_with_folds/snRNAseq/gbm_fold3_val.h5ad',\n",
       " '/data/pollock/benchmarking/pollock_datasets_with_folds/snRNAseq/gbm_fold4_train.h5ad',\n",
       " '/data/pollock/benchmarking/pollock_datasets_with_folds/snRNAseq/gbm_fold4_val.h5ad']"
      ]
     },
     "execution_count": 2,
     "metadata": {},
     "output_type": "execute_result"
    }
   ],
   "source": [
    "fps = sorted(listfiles('/data/pollock/benchmarking/pollock_datasets_with_folds/', regex=r'.h5ad$'))\n",
    "# fps = [fp for fp in fps if 'peaks' not in fp and 'motif' not in fp]\n",
    "fps"
   ]
  },
  {
   "cell_type": "code",
   "execution_count": 3,
   "id": "1dd75490",
   "metadata": {
    "scrolled": true
   },
   "outputs": [
    {
     "name": "stdout",
     "output_type": "stream",
     "text": [
      "/data/pollock/benchmarking/pollock_datasets_with_folds/scRNAseq/brca_fold0_train.h5ad\n"
     ]
    },
    {
     "name": "stderr",
     "output_type": "stream",
     "text": [
      "Attaching SeuratObject\n",
      "Registered S3 method overwritten by 'cli':\n",
      "  method     from         \n",
      "  print.boxx spatstat.geom\n",
      "Registered S3 method overwritten by 'SeuratDisk':\n",
      "  method            from  \n",
      "  as.sparse.H5Group Seurat\n",
      "Warning: Unknown file type: h5ad\n",
      "Warning: 'assay' not set, setting to 'RNA'\n",
      "Creating h5Seurat file for version 3.1.5.9900\n",
      "Adding X as data\n",
      "Adding X as counts\n",
      "Adding meta.features from var\n",
      "Validating h5Seurat file\n",
      "Initializing RNA with data\n",
      "Adding counts for RNA\n",
      "Adding feature-level metadata for RNA\n",
      "Adding command information\n",
      "Adding cell-level metadata\n",
      "Adding miscellaneous information\n",
      "Adding tool-specific results\n"
     ]
    },
    {
     "name": "stdout",
     "output_type": "stream",
     "text": [
      "/data/pollock/benchmarking/pollock_datasets_with_folds/scRNAseq/brca_fold0_val.h5ad\n"
     ]
    },
    {
     "name": "stderr",
     "output_type": "stream",
     "text": [
      "Attaching SeuratObject\n",
      "Registered S3 method overwritten by 'cli':\n",
      "  method     from         \n",
      "  print.boxx spatstat.geom\n",
      "Registered S3 method overwritten by 'SeuratDisk':\n",
      "  method            from  \n",
      "  as.sparse.H5Group Seurat\n",
      "Warning: Unknown file type: h5ad\n",
      "Warning: 'assay' not set, setting to 'RNA'\n",
      "Creating h5Seurat file for version 3.1.5.9900\n",
      "Adding X as data\n",
      "Adding X as counts\n",
      "Adding meta.features from var\n",
      "Validating h5Seurat file\n",
      "Initializing RNA with data\n",
      "Adding counts for RNA\n",
      "Adding feature-level metadata for RNA\n",
      "Adding command information\n",
      "Adding cell-level metadata\n",
      "Adding miscellaneous information\n",
      "Adding tool-specific results\n"
     ]
    },
    {
     "name": "stdout",
     "output_type": "stream",
     "text": [
      "/data/pollock/benchmarking/pollock_datasets_with_folds/scRNAseq/brca_fold1_train.h5ad\n"
     ]
    },
    {
     "name": "stderr",
     "output_type": "stream",
     "text": [
      "Attaching SeuratObject\n",
      "Registered S3 method overwritten by 'cli':\n",
      "  method     from         \n",
      "  print.boxx spatstat.geom\n",
      "Registered S3 method overwritten by 'SeuratDisk':\n",
      "  method            from  \n",
      "  as.sparse.H5Group Seurat\n",
      "Warning: Unknown file type: h5ad\n",
      "Warning: 'assay' not set, setting to 'RNA'\n",
      "Creating h5Seurat file for version 3.1.5.9900\n",
      "Adding X as data\n",
      "Adding X as counts\n",
      "Adding meta.features from var\n",
      "Validating h5Seurat file\n",
      "Initializing RNA with data\n",
      "Adding counts for RNA\n",
      "Adding feature-level metadata for RNA\n",
      "Adding command information\n",
      "Adding cell-level metadata\n",
      "Adding miscellaneous information\n",
      "Adding tool-specific results\n"
     ]
    },
    {
     "name": "stdout",
     "output_type": "stream",
     "text": [
      "/data/pollock/benchmarking/pollock_datasets_with_folds/scRNAseq/brca_fold1_val.h5ad\n"
     ]
    },
    {
     "name": "stderr",
     "output_type": "stream",
     "text": [
      "Attaching SeuratObject\n",
      "Registered S3 method overwritten by 'cli':\n",
      "  method     from         \n",
      "  print.boxx spatstat.geom\n",
      "Registered S3 method overwritten by 'SeuratDisk':\n",
      "  method            from  \n",
      "  as.sparse.H5Group Seurat\n",
      "Warning: Unknown file type: h5ad\n",
      "Warning: 'assay' not set, setting to 'RNA'\n",
      "Creating h5Seurat file for version 3.1.5.9900\n",
      "Adding X as data\n",
      "Adding X as counts\n",
      "Adding meta.features from var\n",
      "Validating h5Seurat file\n",
      "Initializing RNA with data\n",
      "Adding counts for RNA\n",
      "Adding feature-level metadata for RNA\n",
      "Adding command information\n",
      "Adding cell-level metadata\n",
      "Adding miscellaneous information\n",
      "Adding tool-specific results\n"
     ]
    },
    {
     "name": "stdout",
     "output_type": "stream",
     "text": [
      "/data/pollock/benchmarking/pollock_datasets_with_folds/scRNAseq/brca_fold2_train.h5ad\n"
     ]
    },
    {
     "name": "stderr",
     "output_type": "stream",
     "text": [
      "Attaching SeuratObject\n",
      "Registered S3 method overwritten by 'cli':\n",
      "  method     from         \n",
      "  print.boxx spatstat.geom\n",
      "Registered S3 method overwritten by 'SeuratDisk':\n",
      "  method            from  \n",
      "  as.sparse.H5Group Seurat\n",
      "Warning: Unknown file type: h5ad\n",
      "Warning: 'assay' not set, setting to 'RNA'\n",
      "Creating h5Seurat file for version 3.1.5.9900\n",
      "Adding X as data\n",
      "Adding X as counts\n",
      "Adding meta.features from var\n",
      "Validating h5Seurat file\n",
      "Initializing RNA with data\n",
      "Adding counts for RNA\n",
      "Adding feature-level metadata for RNA\n",
      "Adding command information\n",
      "Adding cell-level metadata\n",
      "Adding miscellaneous information\n",
      "Adding tool-specific results\n"
     ]
    },
    {
     "name": "stdout",
     "output_type": "stream",
     "text": [
      "/data/pollock/benchmarking/pollock_datasets_with_folds/scRNAseq/brca_fold2_val.h5ad\n"
     ]
    },
    {
     "name": "stderr",
     "output_type": "stream",
     "text": [
      "Attaching SeuratObject\n",
      "Registered S3 method overwritten by 'cli':\n",
      "  method     from         \n",
      "  print.boxx spatstat.geom\n",
      "Registered S3 method overwritten by 'SeuratDisk':\n",
      "  method            from  \n",
      "  as.sparse.H5Group Seurat\n",
      "Warning: Unknown file type: h5ad\n",
      "Warning: 'assay' not set, setting to 'RNA'\n",
      "Creating h5Seurat file for version 3.1.5.9900\n",
      "Adding X as data\n",
      "Adding X as counts\n",
      "Adding meta.features from var\n",
      "Validating h5Seurat file\n",
      "Initializing RNA with data\n",
      "Adding counts for RNA\n",
      "Adding feature-level metadata for RNA\n",
      "Adding command information\n",
      "Adding cell-level metadata\n",
      "Adding miscellaneous information\n",
      "Adding tool-specific results\n"
     ]
    },
    {
     "name": "stdout",
     "output_type": "stream",
     "text": [
      "/data/pollock/benchmarking/pollock_datasets_with_folds/scRNAseq/brca_fold3_train.h5ad\n"
     ]
    },
    {
     "name": "stderr",
     "output_type": "stream",
     "text": [
      "Attaching SeuratObject\n",
      "Registered S3 method overwritten by 'cli':\n",
      "  method     from         \n",
      "  print.boxx spatstat.geom\n",
      "Registered S3 method overwritten by 'SeuratDisk':\n",
      "  method            from  \n",
      "  as.sparse.H5Group Seurat\n",
      "Warning: Unknown file type: h5ad\n",
      "Warning: 'assay' not set, setting to 'RNA'\n",
      "Creating h5Seurat file for version 3.1.5.9900\n",
      "Adding X as data\n",
      "Adding X as counts\n",
      "Adding meta.features from var\n",
      "Validating h5Seurat file\n",
      "Initializing RNA with data\n",
      "Adding counts for RNA\n",
      "Adding feature-level metadata for RNA\n",
      "Adding command information\n",
      "Adding cell-level metadata\n",
      "Adding miscellaneous information\n",
      "Adding tool-specific results\n"
     ]
    },
    {
     "name": "stdout",
     "output_type": "stream",
     "text": [
      "/data/pollock/benchmarking/pollock_datasets_with_folds/scRNAseq/brca_fold3_val.h5ad\n"
     ]
    },
    {
     "name": "stderr",
     "output_type": "stream",
     "text": [
      "Attaching SeuratObject\n",
      "Registered S3 method overwritten by 'cli':\n",
      "  method     from         \n",
      "  print.boxx spatstat.geom\n",
      "Registered S3 method overwritten by 'SeuratDisk':\n",
      "  method            from  \n",
      "  as.sparse.H5Group Seurat\n",
      "Warning: Unknown file type: h5ad\n",
      "Warning: 'assay' not set, setting to 'RNA'\n",
      "Creating h5Seurat file for version 3.1.5.9900\n",
      "Adding X as data\n",
      "Adding X as counts\n",
      "Adding meta.features from var\n",
      "Validating h5Seurat file\n",
      "Initializing RNA with data\n",
      "Adding counts for RNA\n",
      "Adding feature-level metadata for RNA\n",
      "Adding command information\n",
      "Adding cell-level metadata\n",
      "Adding miscellaneous information\n",
      "Adding tool-specific results\n"
     ]
    },
    {
     "name": "stdout",
     "output_type": "stream",
     "text": [
      "/data/pollock/benchmarking/pollock_datasets_with_folds/scRNAseq/brca_fold4_train.h5ad\n"
     ]
    },
    {
     "name": "stderr",
     "output_type": "stream",
     "text": [
      "Attaching SeuratObject\n",
      "Registered S3 method overwritten by 'cli':\n",
      "  method     from         \n",
      "  print.boxx spatstat.geom\n",
      "Registered S3 method overwritten by 'SeuratDisk':\n",
      "  method            from  \n",
      "  as.sparse.H5Group Seurat\n",
      "Warning: Unknown file type: h5ad\n",
      "Warning: 'assay' not set, setting to 'RNA'\n",
      "Creating h5Seurat file for version 3.1.5.9900\n",
      "Adding X as data\n",
      "Adding X as counts\n",
      "Adding meta.features from var\n",
      "Validating h5Seurat file\n",
      "Initializing RNA with data\n",
      "Adding counts for RNA\n",
      "Adding feature-level metadata for RNA\n",
      "Adding command information\n",
      "Adding cell-level metadata\n",
      "Adding miscellaneous information\n",
      "Adding tool-specific results\n"
     ]
    },
    {
     "name": "stdout",
     "output_type": "stream",
     "text": [
      "/data/pollock/benchmarking/pollock_datasets_with_folds/scRNAseq/brca_fold4_val.h5ad\n"
     ]
    },
    {
     "name": "stderr",
     "output_type": "stream",
     "text": [
      "Attaching SeuratObject\n",
      "Registered S3 method overwritten by 'cli':\n",
      "  method     from         \n",
      "  print.boxx spatstat.geom\n",
      "Registered S3 method overwritten by 'SeuratDisk':\n",
      "  method            from  \n",
      "  as.sparse.H5Group Seurat\n",
      "Warning: Unknown file type: h5ad\n",
      "Warning: 'assay' not set, setting to 'RNA'\n",
      "Creating h5Seurat file for version 3.1.5.9900\n",
      "Adding X as data\n",
      "Adding X as counts\n",
      "Adding meta.features from var\n",
      "Validating h5Seurat file\n",
      "Initializing RNA with data\n",
      "Adding counts for RNA\n",
      "Adding feature-level metadata for RNA\n",
      "Adding command information\n",
      "Adding cell-level metadata\n",
      "Adding miscellaneous information\n",
      "Adding tool-specific results\n"
     ]
    },
    {
     "name": "stdout",
     "output_type": "stream",
     "text": [
      "/data/pollock/benchmarking/pollock_datasets_with_folds/scRNAseq/cesc_fold0_train.h5ad\n"
     ]
    },
    {
     "name": "stderr",
     "output_type": "stream",
     "text": [
      "Attaching SeuratObject\n",
      "Registered S3 method overwritten by 'cli':\n",
      "  method     from         \n",
      "  print.boxx spatstat.geom\n",
      "Registered S3 method overwritten by 'SeuratDisk':\n",
      "  method            from  \n",
      "  as.sparse.H5Group Seurat\n",
      "Warning: Unknown file type: h5ad\n",
      "Warning: 'assay' not set, setting to 'RNA'\n",
      "Creating h5Seurat file for version 3.1.5.9900\n",
      "Adding X as data\n",
      "Adding X as counts\n",
      "Adding meta.features from var\n",
      "Validating h5Seurat file\n",
      "Initializing RNA with data\n",
      "Adding counts for RNA\n",
      "Adding feature-level metadata for RNA\n",
      "Adding command information\n",
      "Adding cell-level metadata\n",
      "Adding miscellaneous information\n",
      "Adding tool-specific results\n"
     ]
    },
    {
     "name": "stdout",
     "output_type": "stream",
     "text": [
      "/data/pollock/benchmarking/pollock_datasets_with_folds/scRNAseq/cesc_fold0_val.h5ad\n"
     ]
    },
    {
     "name": "stderr",
     "output_type": "stream",
     "text": [
      "Attaching SeuratObject\n",
      "Registered S3 method overwritten by 'cli':\n",
      "  method     from         \n",
      "  print.boxx spatstat.geom\n",
      "Registered S3 method overwritten by 'SeuratDisk':\n",
      "  method            from  \n",
      "  as.sparse.H5Group Seurat\n",
      "Warning: Unknown file type: h5ad\n",
      "Warning: 'assay' not set, setting to 'RNA'\n",
      "Creating h5Seurat file for version 3.1.5.9900\n",
      "Adding X as data\n",
      "Adding X as counts\n",
      "Adding meta.features from var\n",
      "Validating h5Seurat file\n",
      "Initializing RNA with data\n",
      "Adding counts for RNA\n",
      "Adding feature-level metadata for RNA\n",
      "Adding command information\n",
      "Adding cell-level metadata\n",
      "Adding miscellaneous information\n",
      "Adding tool-specific results\n"
     ]
    },
    {
     "name": "stdout",
     "output_type": "stream",
     "text": [
      "/data/pollock/benchmarking/pollock_datasets_with_folds/scRNAseq/cesc_fold1_train.h5ad\n"
     ]
    },
    {
     "name": "stderr",
     "output_type": "stream",
     "text": [
      "Attaching SeuratObject\n",
      "Registered S3 method overwritten by 'cli':\n",
      "  method     from         \n",
      "  print.boxx spatstat.geom\n",
      "Registered S3 method overwritten by 'SeuratDisk':\n",
      "  method            from  \n",
      "  as.sparse.H5Group Seurat\n",
      "Warning: Unknown file type: h5ad\n",
      "Warning: 'assay' not set, setting to 'RNA'\n",
      "Creating h5Seurat file for version 3.1.5.9900\n",
      "Adding X as data\n",
      "Adding X as counts\n",
      "Adding meta.features from var\n",
      "Validating h5Seurat file\n",
      "Initializing RNA with data\n",
      "Adding counts for RNA\n",
      "Adding feature-level metadata for RNA\n",
      "Adding command information\n",
      "Adding cell-level metadata\n",
      "Adding miscellaneous information\n",
      "Adding tool-specific results\n"
     ]
    },
    {
     "name": "stdout",
     "output_type": "stream",
     "text": [
      "/data/pollock/benchmarking/pollock_datasets_with_folds/scRNAseq/cesc_fold1_val.h5ad\n"
     ]
    },
    {
     "name": "stderr",
     "output_type": "stream",
     "text": [
      "Attaching SeuratObject\n",
      "Registered S3 method overwritten by 'cli':\n",
      "  method     from         \n",
      "  print.boxx spatstat.geom\n",
      "Registered S3 method overwritten by 'SeuratDisk':\n",
      "  method            from  \n",
      "  as.sparse.H5Group Seurat\n",
      "Warning: Unknown file type: h5ad\n",
      "Warning: 'assay' not set, setting to 'RNA'\n",
      "Creating h5Seurat file for version 3.1.5.9900\n",
      "Adding X as data\n",
      "Adding X as counts\n",
      "Adding meta.features from var\n",
      "Validating h5Seurat file\n",
      "Initializing RNA with data\n",
      "Adding counts for RNA\n",
      "Adding feature-level metadata for RNA\n",
      "Adding command information\n",
      "Adding cell-level metadata\n",
      "Adding miscellaneous information\n",
      "Adding tool-specific results\n"
     ]
    },
    {
     "name": "stdout",
     "output_type": "stream",
     "text": [
      "/data/pollock/benchmarking/pollock_datasets_with_folds/scRNAseq/cesc_fold2_train.h5ad\n"
     ]
    },
    {
     "name": "stderr",
     "output_type": "stream",
     "text": [
      "Attaching SeuratObject\n",
      "Registered S3 method overwritten by 'cli':\n",
      "  method     from         \n",
      "  print.boxx spatstat.geom\n",
      "Registered S3 method overwritten by 'SeuratDisk':\n",
      "  method            from  \n",
      "  as.sparse.H5Group Seurat\n",
      "Warning: Unknown file type: h5ad\n",
      "Warning: 'assay' not set, setting to 'RNA'\n",
      "Creating h5Seurat file for version 3.1.5.9900\n",
      "Adding X as data\n",
      "Adding X as counts\n",
      "Adding meta.features from var\n",
      "Validating h5Seurat file\n",
      "Initializing RNA with data\n",
      "Adding counts for RNA\n",
      "Adding feature-level metadata for RNA\n",
      "Adding command information\n",
      "Adding cell-level metadata\n",
      "Adding miscellaneous information\n",
      "Adding tool-specific results\n"
     ]
    },
    {
     "name": "stdout",
     "output_type": "stream",
     "text": [
      "/data/pollock/benchmarking/pollock_datasets_with_folds/scRNAseq/cesc_fold2_val.h5ad\n"
     ]
    },
    {
     "name": "stderr",
     "output_type": "stream",
     "text": [
      "Attaching SeuratObject\n",
      "Registered S3 method overwritten by 'cli':\n",
      "  method     from         \n",
      "  print.boxx spatstat.geom\n",
      "Registered S3 method overwritten by 'SeuratDisk':\n",
      "  method            from  \n",
      "  as.sparse.H5Group Seurat\n",
      "Warning: Unknown file type: h5ad\n",
      "Warning: 'assay' not set, setting to 'RNA'\n",
      "Creating h5Seurat file for version 3.1.5.9900\n",
      "Adding X as data\n",
      "Adding X as counts\n",
      "Adding meta.features from var\n",
      "Validating h5Seurat file\n",
      "Initializing RNA with data\n",
      "Adding counts for RNA\n",
      "Adding feature-level metadata for RNA\n",
      "Adding command information\n",
      "Adding cell-level metadata\n",
      "Adding miscellaneous information\n",
      "Adding tool-specific results\n"
     ]
    },
    {
     "name": "stdout",
     "output_type": "stream",
     "text": [
      "/data/pollock/benchmarking/pollock_datasets_with_folds/scRNAseq/cesc_fold3_train.h5ad\n"
     ]
    },
    {
     "name": "stderr",
     "output_type": "stream",
     "text": [
      "Attaching SeuratObject\n",
      "Registered S3 method overwritten by 'cli':\n",
      "  method     from         \n",
      "  print.boxx spatstat.geom\n",
      "Registered S3 method overwritten by 'SeuratDisk':\n",
      "  method            from  \n",
      "  as.sparse.H5Group Seurat\n",
      "Warning: Unknown file type: h5ad\n",
      "Warning: 'assay' not set, setting to 'RNA'\n",
      "Creating h5Seurat file for version 3.1.5.9900\n",
      "Adding X as data\n",
      "Adding X as counts\n",
      "Adding meta.features from var\n",
      "Validating h5Seurat file\n",
      "Initializing RNA with data\n",
      "Adding counts for RNA\n",
      "Adding feature-level metadata for RNA\n",
      "Adding command information\n",
      "Adding cell-level metadata\n",
      "Adding miscellaneous information\n",
      "Adding tool-specific results\n"
     ]
    },
    {
     "name": "stdout",
     "output_type": "stream",
     "text": [
      "/data/pollock/benchmarking/pollock_datasets_with_folds/scRNAseq/cesc_fold3_val.h5ad\n"
     ]
    },
    {
     "name": "stderr",
     "output_type": "stream",
     "text": [
      "Attaching SeuratObject\n",
      "Registered S3 method overwritten by 'cli':\n",
      "  method     from         \n",
      "  print.boxx spatstat.geom\n",
      "Registered S3 method overwritten by 'SeuratDisk':\n",
      "  method            from  \n",
      "  as.sparse.H5Group Seurat\n",
      "Warning: Unknown file type: h5ad\n",
      "Warning: 'assay' not set, setting to 'RNA'\n",
      "Creating h5Seurat file for version 3.1.5.9900\n",
      "Adding X as data\n",
      "Adding X as counts\n",
      "Adding meta.features from var\n",
      "Validating h5Seurat file\n",
      "Initializing RNA with data\n",
      "Adding counts for RNA\n",
      "Adding feature-level metadata for RNA\n",
      "Adding command information\n",
      "Adding cell-level metadata\n",
      "Adding miscellaneous information\n",
      "Adding tool-specific results\n"
     ]
    },
    {
     "name": "stdout",
     "output_type": "stream",
     "text": [
      "/data/pollock/benchmarking/pollock_datasets_with_folds/scRNAseq/cesc_fold4_train.h5ad\n"
     ]
    },
    {
     "name": "stderr",
     "output_type": "stream",
     "text": [
      "Attaching SeuratObject\n",
      "Registered S3 method overwritten by 'cli':\n",
      "  method     from         \n",
      "  print.boxx spatstat.geom\n",
      "Registered S3 method overwritten by 'SeuratDisk':\n",
      "  method            from  \n",
      "  as.sparse.H5Group Seurat\n",
      "Warning: Unknown file type: h5ad\n",
      "Warning: 'assay' not set, setting to 'RNA'\n",
      "Creating h5Seurat file for version 3.1.5.9900\n",
      "Adding X as data\n",
      "Adding X as counts\n",
      "Adding meta.features from var\n",
      "Validating h5Seurat file\n",
      "Initializing RNA with data\n",
      "Adding counts for RNA\n",
      "Adding feature-level metadata for RNA\n",
      "Adding command information\n",
      "Adding cell-level metadata\n",
      "Adding miscellaneous information\n",
      "Adding tool-specific results\n"
     ]
    },
    {
     "name": "stdout",
     "output_type": "stream",
     "text": [
      "/data/pollock/benchmarking/pollock_datasets_with_folds/scRNAseq/cesc_fold4_val.h5ad\n"
     ]
    },
    {
     "name": "stderr",
     "output_type": "stream",
     "text": [
      "Attaching SeuratObject\n",
      "Registered S3 method overwritten by 'cli':\n",
      "  method     from         \n",
      "  print.boxx spatstat.geom\n",
      "Registered S3 method overwritten by 'SeuratDisk':\n",
      "  method            from  \n",
      "  as.sparse.H5Group Seurat\n",
      "Warning: Unknown file type: h5ad\n",
      "Warning: 'assay' not set, setting to 'RNA'\n",
      "Creating h5Seurat file for version 3.1.5.9900\n",
      "Adding X as data\n",
      "Adding X as counts\n",
      "Adding meta.features from var\n",
      "Validating h5Seurat file\n",
      "Initializing RNA with data\n",
      "Adding counts for RNA\n",
      "Adding feature-level metadata for RNA\n",
      "Adding command information\n",
      "Adding cell-level metadata\n",
      "Adding miscellaneous information\n",
      "Adding tool-specific results\n"
     ]
    },
    {
     "name": "stdout",
     "output_type": "stream",
     "text": [
      "/data/pollock/benchmarking/pollock_datasets_with_folds/scRNAseq/hnscc_fold0_train.h5ad\n"
     ]
    },
    {
     "name": "stderr",
     "output_type": "stream",
     "text": [
      "Attaching SeuratObject\n",
      "Registered S3 method overwritten by 'cli':\n",
      "  method     from         \n",
      "  print.boxx spatstat.geom\n",
      "Registered S3 method overwritten by 'SeuratDisk':\n",
      "  method            from  \n",
      "  as.sparse.H5Group Seurat\n",
      "Warning: Unknown file type: h5ad\n",
      "Warning: 'assay' not set, setting to 'RNA'\n",
      "Creating h5Seurat file for version 3.1.5.9900\n",
      "Adding X as data\n",
      "Adding X as counts\n",
      "Adding meta.features from var\n",
      "Validating h5Seurat file\n",
      "Initializing RNA with data\n",
      "Adding counts for RNA\n",
      "Adding feature-level metadata for RNA\n",
      "Adding command information\n",
      "Adding cell-level metadata\n",
      "Adding miscellaneous information\n",
      "Adding tool-specific results\n"
     ]
    },
    {
     "name": "stdout",
     "output_type": "stream",
     "text": [
      "/data/pollock/benchmarking/pollock_datasets_with_folds/scRNAseq/hnscc_fold0_val.h5ad\n"
     ]
    },
    {
     "name": "stderr",
     "output_type": "stream",
     "text": [
      "Attaching SeuratObject\n",
      "Registered S3 method overwritten by 'cli':\n",
      "  method     from         \n",
      "  print.boxx spatstat.geom\n",
      "Registered S3 method overwritten by 'SeuratDisk':\n",
      "  method            from  \n",
      "  as.sparse.H5Group Seurat\n",
      "Warning: Unknown file type: h5ad\n",
      "Warning: 'assay' not set, setting to 'RNA'\n",
      "Creating h5Seurat file for version 3.1.5.9900\n",
      "Adding X as data\n",
      "Adding X as counts\n",
      "Adding meta.features from var\n",
      "Validating h5Seurat file\n",
      "Initializing RNA with data\n",
      "Adding counts for RNA\n",
      "Adding feature-level metadata for RNA\n",
      "Adding command information\n",
      "Adding cell-level metadata\n",
      "Adding miscellaneous information\n",
      "Adding tool-specific results\n"
     ]
    },
    {
     "name": "stdout",
     "output_type": "stream",
     "text": [
      "/data/pollock/benchmarking/pollock_datasets_with_folds/scRNAseq/hnscc_fold1_train.h5ad\n"
     ]
    },
    {
     "name": "stderr",
     "output_type": "stream",
     "text": [
      "Attaching SeuratObject\n",
      "Registered S3 method overwritten by 'cli':\n",
      "  method     from         \n",
      "  print.boxx spatstat.geom\n",
      "Registered S3 method overwritten by 'SeuratDisk':\n",
      "  method            from  \n",
      "  as.sparse.H5Group Seurat\n",
      "Warning: Unknown file type: h5ad\n",
      "Warning: 'assay' not set, setting to 'RNA'\n",
      "Creating h5Seurat file for version 3.1.5.9900\n",
      "Adding X as data\n",
      "Adding X as counts\n",
      "Adding meta.features from var\n",
      "Validating h5Seurat file\n",
      "Initializing RNA with data\n",
      "Adding counts for RNA\n",
      "Adding feature-level metadata for RNA\n",
      "Adding command information\n",
      "Adding cell-level metadata\n",
      "Adding miscellaneous information\n",
      "Adding tool-specific results\n"
     ]
    },
    {
     "name": "stdout",
     "output_type": "stream",
     "text": [
      "/data/pollock/benchmarking/pollock_datasets_with_folds/scRNAseq/hnscc_fold1_val.h5ad\n"
     ]
    },
    {
     "name": "stderr",
     "output_type": "stream",
     "text": [
      "Attaching SeuratObject\n",
      "Registered S3 method overwritten by 'cli':\n",
      "  method     from         \n",
      "  print.boxx spatstat.geom\n",
      "Registered S3 method overwritten by 'SeuratDisk':\n",
      "  method            from  \n",
      "  as.sparse.H5Group Seurat\n",
      "Warning: Unknown file type: h5ad\n",
      "Warning: 'assay' not set, setting to 'RNA'\n",
      "Creating h5Seurat file for version 3.1.5.9900\n",
      "Adding X as data\n",
      "Adding X as counts\n",
      "Adding meta.features from var\n",
      "Validating h5Seurat file\n",
      "Initializing RNA with data\n",
      "Adding counts for RNA\n",
      "Adding feature-level metadata for RNA\n",
      "Adding command information\n",
      "Adding cell-level metadata\n",
      "Adding miscellaneous information\n",
      "Adding tool-specific results\n"
     ]
    },
    {
     "name": "stdout",
     "output_type": "stream",
     "text": [
      "/data/pollock/benchmarking/pollock_datasets_with_folds/scRNAseq/hnscc_fold2_train.h5ad\n"
     ]
    },
    {
     "name": "stderr",
     "output_type": "stream",
     "text": [
      "Attaching SeuratObject\n",
      "Registered S3 method overwritten by 'cli':\n",
      "  method     from         \n",
      "  print.boxx spatstat.geom\n",
      "Registered S3 method overwritten by 'SeuratDisk':\n",
      "  method            from  \n",
      "  as.sparse.H5Group Seurat\n",
      "Warning: Unknown file type: h5ad\n",
      "Warning: 'assay' not set, setting to 'RNA'\n",
      "Creating h5Seurat file for version 3.1.5.9900\n",
      "Adding X as data\n",
      "Adding X as counts\n",
      "Adding meta.features from var\n",
      "Validating h5Seurat file\n",
      "Initializing RNA with data\n",
      "Adding counts for RNA\n",
      "Adding feature-level metadata for RNA\n",
      "Adding command information\n",
      "Adding cell-level metadata\n",
      "Adding miscellaneous information\n",
      "Adding tool-specific results\n"
     ]
    },
    {
     "name": "stdout",
     "output_type": "stream",
     "text": [
      "/data/pollock/benchmarking/pollock_datasets_with_folds/scRNAseq/hnscc_fold2_val.h5ad\n"
     ]
    },
    {
     "name": "stderr",
     "output_type": "stream",
     "text": [
      "Attaching SeuratObject\n",
      "Registered S3 method overwritten by 'cli':\n",
      "  method     from         \n",
      "  print.boxx spatstat.geom\n",
      "Registered S3 method overwritten by 'SeuratDisk':\n",
      "  method            from  \n",
      "  as.sparse.H5Group Seurat\n",
      "Warning: Unknown file type: h5ad\n",
      "Warning: 'assay' not set, setting to 'RNA'\n",
      "Creating h5Seurat file for version 3.1.5.9900\n",
      "Adding X as data\n",
      "Adding X as counts\n",
      "Adding meta.features from var\n",
      "Validating h5Seurat file\n",
      "Initializing RNA with data\n",
      "Adding counts for RNA\n",
      "Adding feature-level metadata for RNA\n",
      "Adding command information\n",
      "Adding cell-level metadata\n",
      "Adding miscellaneous information\n",
      "Adding tool-specific results\n"
     ]
    },
    {
     "name": "stdout",
     "output_type": "stream",
     "text": [
      "/data/pollock/benchmarking/pollock_datasets_with_folds/scRNAseq/hnscc_fold3_train.h5ad\n"
     ]
    },
    {
     "name": "stderr",
     "output_type": "stream",
     "text": [
      "Attaching SeuratObject\n",
      "Registered S3 method overwritten by 'cli':\n",
      "  method     from         \n",
      "  print.boxx spatstat.geom\n",
      "Registered S3 method overwritten by 'SeuratDisk':\n",
      "  method            from  \n",
      "  as.sparse.H5Group Seurat\n",
      "Warning: Unknown file type: h5ad\n",
      "Warning: 'assay' not set, setting to 'RNA'\n",
      "Creating h5Seurat file for version 3.1.5.9900\n",
      "Adding X as data\n",
      "Adding X as counts\n",
      "Adding meta.features from var\n",
      "Validating h5Seurat file\n",
      "Initializing RNA with data\n",
      "Adding counts for RNA\n",
      "Adding feature-level metadata for RNA\n",
      "Adding command information\n",
      "Adding cell-level metadata\n",
      "Adding miscellaneous information\n",
      "Adding tool-specific results\n"
     ]
    },
    {
     "name": "stdout",
     "output_type": "stream",
     "text": [
      "/data/pollock/benchmarking/pollock_datasets_with_folds/scRNAseq/hnscc_fold3_val.h5ad\n"
     ]
    },
    {
     "name": "stderr",
     "output_type": "stream",
     "text": [
      "Attaching SeuratObject\n",
      "Registered S3 method overwritten by 'cli':\n",
      "  method     from         \n",
      "  print.boxx spatstat.geom\n",
      "Registered S3 method overwritten by 'SeuratDisk':\n",
      "  method            from  \n",
      "  as.sparse.H5Group Seurat\n",
      "Warning: Unknown file type: h5ad\n",
      "Warning: 'assay' not set, setting to 'RNA'\n",
      "Creating h5Seurat file for version 3.1.5.9900\n",
      "Adding X as data\n",
      "Adding X as counts\n",
      "Adding meta.features from var\n",
      "Validating h5Seurat file\n",
      "Initializing RNA with data\n",
      "Adding counts for RNA\n",
      "Adding feature-level metadata for RNA\n",
      "Adding command information\n",
      "Adding cell-level metadata\n",
      "Adding miscellaneous information\n",
      "Adding tool-specific results\n"
     ]
    },
    {
     "name": "stdout",
     "output_type": "stream",
     "text": [
      "/data/pollock/benchmarking/pollock_datasets_with_folds/scRNAseq/hnscc_fold4_train.h5ad\n"
     ]
    },
    {
     "name": "stderr",
     "output_type": "stream",
     "text": [
      "Attaching SeuratObject\n",
      "Registered S3 method overwritten by 'cli':\n",
      "  method     from         \n",
      "  print.boxx spatstat.geom\n",
      "Registered S3 method overwritten by 'SeuratDisk':\n",
      "  method            from  \n",
      "  as.sparse.H5Group Seurat\n",
      "Warning: Unknown file type: h5ad\n",
      "Warning: 'assay' not set, setting to 'RNA'\n",
      "Creating h5Seurat file for version 3.1.5.9900\n",
      "Adding X as data\n",
      "Adding X as counts\n",
      "Adding meta.features from var\n",
      "Validating h5Seurat file\n",
      "Initializing RNA with data\n",
      "Adding counts for RNA\n",
      "Adding feature-level metadata for RNA\n",
      "Adding command information\n",
      "Adding cell-level metadata\n",
      "Adding miscellaneous information\n",
      "Adding tool-specific results\n"
     ]
    },
    {
     "name": "stdout",
     "output_type": "stream",
     "text": [
      "/data/pollock/benchmarking/pollock_datasets_with_folds/scRNAseq/hnscc_fold4_val.h5ad\n"
     ]
    },
    {
     "name": "stderr",
     "output_type": "stream",
     "text": [
      "Attaching SeuratObject\n",
      "Registered S3 method overwritten by 'cli':\n",
      "  method     from         \n",
      "  print.boxx spatstat.geom\n",
      "Registered S3 method overwritten by 'SeuratDisk':\n",
      "  method            from  \n",
      "  as.sparse.H5Group Seurat\n",
      "Warning: Unknown file type: h5ad\n",
      "Warning: 'assay' not set, setting to 'RNA'\n",
      "Creating h5Seurat file for version 3.1.5.9900\n",
      "Adding X as data\n",
      "Adding X as counts\n",
      "Adding meta.features from var\n",
      "Validating h5Seurat file\n",
      "Initializing RNA with data\n",
      "Adding counts for RNA\n",
      "Adding feature-level metadata for RNA\n",
      "Adding command information\n",
      "Adding cell-level metadata\n",
      "Adding miscellaneous information\n",
      "Adding tool-specific results\n"
     ]
    },
    {
     "name": "stdout",
     "output_type": "stream",
     "text": [
      "/data/pollock/benchmarking/pollock_datasets_with_folds/scRNAseq/melanoma_fold0_train.h5ad\n"
     ]
    },
    {
     "name": "stderr",
     "output_type": "stream",
     "text": [
      "Attaching SeuratObject\n",
      "Registered S3 method overwritten by 'cli':\n",
      "  method     from         \n",
      "  print.boxx spatstat.geom\n",
      "Registered S3 method overwritten by 'SeuratDisk':\n",
      "  method            from  \n",
      "  as.sparse.H5Group Seurat\n",
      "Warning: Unknown file type: h5ad\n",
      "Warning: 'assay' not set, setting to 'RNA'\n",
      "Creating h5Seurat file for version 3.1.5.9900\n",
      "Adding X as data\n",
      "Adding X as counts\n",
      "Adding meta.features from var\n",
      "Validating h5Seurat file\n",
      "Initializing RNA with data\n",
      "Adding counts for RNA\n",
      "Adding feature-level metadata for RNA\n",
      "Adding command information\n",
      "Adding cell-level metadata\n",
      "Adding miscellaneous information\n",
      "Adding tool-specific results\n"
     ]
    },
    {
     "name": "stdout",
     "output_type": "stream",
     "text": [
      "/data/pollock/benchmarking/pollock_datasets_with_folds/scRNAseq/melanoma_fold0_val.h5ad\n"
     ]
    },
    {
     "name": "stderr",
     "output_type": "stream",
     "text": [
      "Attaching SeuratObject\n",
      "Registered S3 method overwritten by 'cli':\n",
      "  method     from         \n",
      "  print.boxx spatstat.geom\n",
      "Registered S3 method overwritten by 'SeuratDisk':\n",
      "  method            from  \n",
      "  as.sparse.H5Group Seurat\n",
      "Warning: Unknown file type: h5ad\n",
      "Warning: 'assay' not set, setting to 'RNA'\n",
      "Creating h5Seurat file for version 3.1.5.9900\n",
      "Adding X as data\n",
      "Adding X as counts\n",
      "Adding meta.features from var\n",
      "Validating h5Seurat file\n",
      "Initializing RNA with data\n",
      "Adding counts for RNA\n",
      "Adding feature-level metadata for RNA\n",
      "Adding command information\n",
      "Adding cell-level metadata\n",
      "Adding miscellaneous information\n",
      "Adding tool-specific results\n"
     ]
    },
    {
     "name": "stdout",
     "output_type": "stream",
     "text": [
      "/data/pollock/benchmarking/pollock_datasets_with_folds/scRNAseq/melanoma_fold1_train.h5ad\n"
     ]
    },
    {
     "name": "stderr",
     "output_type": "stream",
     "text": [
      "Attaching SeuratObject\n",
      "Registered S3 method overwritten by 'cli':\n",
      "  method     from         \n",
      "  print.boxx spatstat.geom\n",
      "Registered S3 method overwritten by 'SeuratDisk':\n",
      "  method            from  \n",
      "  as.sparse.H5Group Seurat\n",
      "Warning: Unknown file type: h5ad\n",
      "Warning: 'assay' not set, setting to 'RNA'\n",
      "Creating h5Seurat file for version 3.1.5.9900\n",
      "Adding X as data\n",
      "Adding X as counts\n",
      "Adding meta.features from var\n",
      "Validating h5Seurat file\n",
      "Initializing RNA with data\n",
      "Adding counts for RNA\n",
      "Adding feature-level metadata for RNA\n",
      "Adding command information\n",
      "Adding cell-level metadata\n",
      "Adding miscellaneous information\n",
      "Adding tool-specific results\n"
     ]
    },
    {
     "name": "stdout",
     "output_type": "stream",
     "text": [
      "/data/pollock/benchmarking/pollock_datasets_with_folds/scRNAseq/melanoma_fold1_val.h5ad\n"
     ]
    },
    {
     "name": "stderr",
     "output_type": "stream",
     "text": [
      "Attaching SeuratObject\n",
      "Registered S3 method overwritten by 'cli':\n",
      "  method     from         \n",
      "  print.boxx spatstat.geom\n",
      "Registered S3 method overwritten by 'SeuratDisk':\n",
      "  method            from  \n",
      "  as.sparse.H5Group Seurat\n",
      "Warning: Unknown file type: h5ad\n",
      "Warning: 'assay' not set, setting to 'RNA'\n",
      "Creating h5Seurat file for version 3.1.5.9900\n",
      "Adding X as data\n",
      "Adding X as counts\n",
      "Adding meta.features from var\n",
      "Validating h5Seurat file\n",
      "Initializing RNA with data\n",
      "Adding counts for RNA\n",
      "Adding feature-level metadata for RNA\n",
      "Adding command information\n",
      "Adding cell-level metadata\n",
      "Adding miscellaneous information\n",
      "Adding tool-specific results\n"
     ]
    },
    {
     "name": "stdout",
     "output_type": "stream",
     "text": [
      "/data/pollock/benchmarking/pollock_datasets_with_folds/scRNAseq/melanoma_fold2_train.h5ad\n"
     ]
    },
    {
     "name": "stderr",
     "output_type": "stream",
     "text": [
      "Attaching SeuratObject\n",
      "Registered S3 method overwritten by 'cli':\n",
      "  method     from         \n",
      "  print.boxx spatstat.geom\n",
      "Registered S3 method overwritten by 'SeuratDisk':\n",
      "  method            from  \n",
      "  as.sparse.H5Group Seurat\n",
      "Warning: Unknown file type: h5ad\n",
      "Warning: 'assay' not set, setting to 'RNA'\n",
      "Creating h5Seurat file for version 3.1.5.9900\n",
      "Adding X as data\n",
      "Adding X as counts\n",
      "Adding meta.features from var\n",
      "Validating h5Seurat file\n",
      "Initializing RNA with data\n",
      "Adding counts for RNA\n",
      "Adding feature-level metadata for RNA\n",
      "Adding command information\n",
      "Adding cell-level metadata\n",
      "Adding miscellaneous information\n",
      "Adding tool-specific results\n"
     ]
    },
    {
     "name": "stdout",
     "output_type": "stream",
     "text": [
      "/data/pollock/benchmarking/pollock_datasets_with_folds/scRNAseq/melanoma_fold2_val.h5ad\n"
     ]
    },
    {
     "name": "stderr",
     "output_type": "stream",
     "text": [
      "Attaching SeuratObject\n",
      "Registered S3 method overwritten by 'cli':\n",
      "  method     from         \n",
      "  print.boxx spatstat.geom\n",
      "Registered S3 method overwritten by 'SeuratDisk':\n",
      "  method            from  \n",
      "  as.sparse.H5Group Seurat\n",
      "Warning: Unknown file type: h5ad\n",
      "Warning: 'assay' not set, setting to 'RNA'\n",
      "Creating h5Seurat file for version 3.1.5.9900\n",
      "Adding X as data\n",
      "Adding X as counts\n",
      "Adding meta.features from var\n",
      "Validating h5Seurat file\n",
      "Initializing RNA with data\n",
      "Adding counts for RNA\n",
      "Adding feature-level metadata for RNA\n",
      "Adding command information\n",
      "Adding cell-level metadata\n",
      "Adding miscellaneous information\n",
      "Adding tool-specific results\n"
     ]
    },
    {
     "name": "stdout",
     "output_type": "stream",
     "text": [
      "/data/pollock/benchmarking/pollock_datasets_with_folds/scRNAseq/melanoma_fold3_train.h5ad\n"
     ]
    },
    {
     "name": "stderr",
     "output_type": "stream",
     "text": [
      "Attaching SeuratObject\n",
      "Registered S3 method overwritten by 'cli':\n",
      "  method     from         \n",
      "  print.boxx spatstat.geom\n",
      "Registered S3 method overwritten by 'SeuratDisk':\n",
      "  method            from  \n",
      "  as.sparse.H5Group Seurat\n",
      "Warning: Unknown file type: h5ad\n",
      "Warning: 'assay' not set, setting to 'RNA'\n",
      "Creating h5Seurat file for version 3.1.5.9900\n",
      "Adding X as data\n",
      "Adding X as counts\n",
      "Adding meta.features from var\n",
      "Validating h5Seurat file\n",
      "Initializing RNA with data\n",
      "Adding counts for RNA\n",
      "Adding feature-level metadata for RNA\n",
      "Adding command information\n",
      "Adding cell-level metadata\n",
      "Adding miscellaneous information\n",
      "Adding tool-specific results\n"
     ]
    },
    {
     "name": "stdout",
     "output_type": "stream",
     "text": [
      "/data/pollock/benchmarking/pollock_datasets_with_folds/scRNAseq/melanoma_fold3_val.h5ad\n"
     ]
    },
    {
     "name": "stderr",
     "output_type": "stream",
     "text": [
      "Attaching SeuratObject\n",
      "Registered S3 method overwritten by 'cli':\n",
      "  method     from         \n",
      "  print.boxx spatstat.geom\n",
      "Registered S3 method overwritten by 'SeuratDisk':\n",
      "  method            from  \n",
      "  as.sparse.H5Group Seurat\n",
      "Warning: Unknown file type: h5ad\n",
      "Warning: 'assay' not set, setting to 'RNA'\n",
      "Creating h5Seurat file for version 3.1.5.9900\n",
      "Adding X as data\n",
      "Adding X as counts\n",
      "Adding meta.features from var\n",
      "Validating h5Seurat file\n",
      "Initializing RNA with data\n",
      "Adding counts for RNA\n",
      "Adding feature-level metadata for RNA\n",
      "Adding command information\n",
      "Adding cell-level metadata\n",
      "Adding miscellaneous information\n",
      "Adding tool-specific results\n"
     ]
    },
    {
     "name": "stdout",
     "output_type": "stream",
     "text": [
      "/data/pollock/benchmarking/pollock_datasets_with_folds/scRNAseq/melanoma_fold4_train.h5ad\n"
     ]
    },
    {
     "name": "stderr",
     "output_type": "stream",
     "text": [
      "Attaching SeuratObject\n",
      "Registered S3 method overwritten by 'cli':\n",
      "  method     from         \n",
      "  print.boxx spatstat.geom\n",
      "Registered S3 method overwritten by 'SeuratDisk':\n",
      "  method            from  \n",
      "  as.sparse.H5Group Seurat\n",
      "Warning: Unknown file type: h5ad\n",
      "Warning: 'assay' not set, setting to 'RNA'\n",
      "Creating h5Seurat file for version 3.1.5.9900\n",
      "Adding X as data\n",
      "Adding X as counts\n",
      "Adding meta.features from var\n",
      "Validating h5Seurat file\n",
      "Initializing RNA with data\n",
      "Adding counts for RNA\n",
      "Adding feature-level metadata for RNA\n",
      "Adding command information\n",
      "Adding cell-level metadata\n",
      "Adding miscellaneous information\n",
      "Adding tool-specific results\n"
     ]
    },
    {
     "name": "stdout",
     "output_type": "stream",
     "text": [
      "/data/pollock/benchmarking/pollock_datasets_with_folds/scRNAseq/melanoma_fold4_val.h5ad\n"
     ]
    },
    {
     "name": "stderr",
     "output_type": "stream",
     "text": [
      "Attaching SeuratObject\n",
      "Registered S3 method overwritten by 'cli':\n",
      "  method     from         \n",
      "  print.boxx spatstat.geom\n",
      "Registered S3 method overwritten by 'SeuratDisk':\n",
      "  method            from  \n",
      "  as.sparse.H5Group Seurat\n",
      "Warning: Unknown file type: h5ad\n",
      "Warning: 'assay' not set, setting to 'RNA'\n",
      "Creating h5Seurat file for version 3.1.5.9900\n",
      "Adding X as data\n",
      "Adding X as counts\n",
      "Adding meta.features from var\n",
      "Validating h5Seurat file\n",
      "Initializing RNA with data\n",
      "Adding counts for RNA\n",
      "Adding feature-level metadata for RNA\n",
      "Adding command information\n",
      "Adding cell-level metadata\n",
      "Adding miscellaneous information\n",
      "Adding tool-specific results\n"
     ]
    },
    {
     "name": "stdout",
     "output_type": "stream",
     "text": [
      "/data/pollock/benchmarking/pollock_datasets_with_folds/scRNAseq/myeloma_fold0_train.h5ad\n"
     ]
    },
    {
     "name": "stderr",
     "output_type": "stream",
     "text": [
      "Attaching SeuratObject\n",
      "Registered S3 method overwritten by 'cli':\n",
      "  method     from         \n",
      "  print.boxx spatstat.geom\n",
      "Registered S3 method overwritten by 'SeuratDisk':\n",
      "  method            from  \n",
      "  as.sparse.H5Group Seurat\n",
      "Warning: Unknown file type: h5ad\n",
      "Warning: 'assay' not set, setting to 'RNA'\n",
      "Creating h5Seurat file for version 3.1.5.9900\n",
      "Adding X as data\n",
      "Adding X as counts\n",
      "Adding meta.features from var\n",
      "Validating h5Seurat file\n",
      "Initializing RNA with data\n",
      "Adding counts for RNA\n",
      "Adding feature-level metadata for RNA\n",
      "Adding command information\n",
      "Adding cell-level metadata\n",
      "Adding miscellaneous information\n",
      "Adding tool-specific results\n"
     ]
    },
    {
     "name": "stdout",
     "output_type": "stream",
     "text": [
      "/data/pollock/benchmarking/pollock_datasets_with_folds/scRNAseq/myeloma_fold0_val.h5ad\n"
     ]
    },
    {
     "name": "stderr",
     "output_type": "stream",
     "text": [
      "Attaching SeuratObject\n",
      "Registered S3 method overwritten by 'cli':\n",
      "  method     from         \n",
      "  print.boxx spatstat.geom\n",
      "Registered S3 method overwritten by 'SeuratDisk':\n",
      "  method            from  \n",
      "  as.sparse.H5Group Seurat\n",
      "Warning: Unknown file type: h5ad\n",
      "Warning: 'assay' not set, setting to 'RNA'\n",
      "Creating h5Seurat file for version 3.1.5.9900\n",
      "Adding X as data\n",
      "Adding X as counts\n",
      "Adding meta.features from var\n",
      "Validating h5Seurat file\n",
      "Initializing RNA with data\n",
      "Adding counts for RNA\n",
      "Adding feature-level metadata for RNA\n",
      "Adding command information\n",
      "Adding cell-level metadata\n",
      "Adding miscellaneous information\n",
      "Adding tool-specific results\n"
     ]
    },
    {
     "name": "stdout",
     "output_type": "stream",
     "text": [
      "/data/pollock/benchmarking/pollock_datasets_with_folds/scRNAseq/myeloma_fold1_train.h5ad\n"
     ]
    },
    {
     "name": "stderr",
     "output_type": "stream",
     "text": [
      "Attaching SeuratObject\n",
      "Registered S3 method overwritten by 'cli':\n",
      "  method     from         \n",
      "  print.boxx spatstat.geom\n",
      "Registered S3 method overwritten by 'SeuratDisk':\n",
      "  method            from  \n",
      "  as.sparse.H5Group Seurat\n",
      "Warning: Unknown file type: h5ad\n",
      "Warning: 'assay' not set, setting to 'RNA'\n",
      "Creating h5Seurat file for version 3.1.5.9900\n",
      "Adding X as data\n",
      "Adding X as counts\n",
      "Adding meta.features from var\n",
      "Validating h5Seurat file\n",
      "Initializing RNA with data\n",
      "Adding counts for RNA\n",
      "Adding feature-level metadata for RNA\n",
      "Adding command information\n",
      "Adding cell-level metadata\n",
      "Adding miscellaneous information\n",
      "Adding tool-specific results\n"
     ]
    },
    {
     "name": "stdout",
     "output_type": "stream",
     "text": [
      "/data/pollock/benchmarking/pollock_datasets_with_folds/scRNAseq/myeloma_fold1_val.h5ad\n"
     ]
    },
    {
     "name": "stderr",
     "output_type": "stream",
     "text": [
      "Attaching SeuratObject\n",
      "Registered S3 method overwritten by 'cli':\n",
      "  method     from         \n",
      "  print.boxx spatstat.geom\n",
      "Registered S3 method overwritten by 'SeuratDisk':\n",
      "  method            from  \n",
      "  as.sparse.H5Group Seurat\n",
      "Warning: Unknown file type: h5ad\n",
      "Warning: 'assay' not set, setting to 'RNA'\n",
      "Creating h5Seurat file for version 3.1.5.9900\n",
      "Adding X as data\n",
      "Adding X as counts\n",
      "Adding meta.features from var\n",
      "Validating h5Seurat file\n",
      "Initializing RNA with data\n",
      "Adding counts for RNA\n",
      "Adding feature-level metadata for RNA\n",
      "Adding command information\n",
      "Adding cell-level metadata\n",
      "Adding miscellaneous information\n",
      "Adding tool-specific results\n"
     ]
    },
    {
     "name": "stdout",
     "output_type": "stream",
     "text": [
      "/data/pollock/benchmarking/pollock_datasets_with_folds/scRNAseq/myeloma_fold2_train.h5ad\n"
     ]
    },
    {
     "name": "stderr",
     "output_type": "stream",
     "text": [
      "Attaching SeuratObject\n",
      "Registered S3 method overwritten by 'cli':\n",
      "  method     from         \n",
      "  print.boxx spatstat.geom\n",
      "Registered S3 method overwritten by 'SeuratDisk':\n",
      "  method            from  \n",
      "  as.sparse.H5Group Seurat\n",
      "Warning: Unknown file type: h5ad\n",
      "Warning: 'assay' not set, setting to 'RNA'\n",
      "Creating h5Seurat file for version 3.1.5.9900\n",
      "Adding X as data\n",
      "Adding X as counts\n",
      "Adding meta.features from var\n",
      "Validating h5Seurat file\n",
      "Initializing RNA with data\n",
      "Adding counts for RNA\n",
      "Adding feature-level metadata for RNA\n",
      "Adding command information\n",
      "Adding cell-level metadata\n",
      "Adding miscellaneous information\n",
      "Adding tool-specific results\n"
     ]
    },
    {
     "name": "stdout",
     "output_type": "stream",
     "text": [
      "/data/pollock/benchmarking/pollock_datasets_with_folds/scRNAseq/myeloma_fold2_val.h5ad\n"
     ]
    },
    {
     "name": "stderr",
     "output_type": "stream",
     "text": [
      "Attaching SeuratObject\n",
      "Registered S3 method overwritten by 'cli':\n",
      "  method     from         \n",
      "  print.boxx spatstat.geom\n",
      "Registered S3 method overwritten by 'SeuratDisk':\n",
      "  method            from  \n",
      "  as.sparse.H5Group Seurat\n",
      "Warning: Unknown file type: h5ad\n",
      "Warning: 'assay' not set, setting to 'RNA'\n",
      "Creating h5Seurat file for version 3.1.5.9900\n",
      "Adding X as data\n",
      "Adding X as counts\n",
      "Adding meta.features from var\n",
      "Validating h5Seurat file\n",
      "Initializing RNA with data\n",
      "Adding counts for RNA\n",
      "Adding feature-level metadata for RNA\n",
      "Adding command information\n",
      "Adding cell-level metadata\n",
      "Adding miscellaneous information\n",
      "Adding tool-specific results\n"
     ]
    },
    {
     "name": "stdout",
     "output_type": "stream",
     "text": [
      "/data/pollock/benchmarking/pollock_datasets_with_folds/scRNAseq/myeloma_fold3_train.h5ad\n"
     ]
    },
    {
     "name": "stderr",
     "output_type": "stream",
     "text": [
      "Attaching SeuratObject\n",
      "Registered S3 method overwritten by 'cli':\n",
      "  method     from         \n",
      "  print.boxx spatstat.geom\n",
      "Registered S3 method overwritten by 'SeuratDisk':\n",
      "  method            from  \n",
      "  as.sparse.H5Group Seurat\n",
      "Warning: Unknown file type: h5ad\n",
      "Warning: 'assay' not set, setting to 'RNA'\n",
      "Creating h5Seurat file for version 3.1.5.9900\n",
      "Adding X as data\n",
      "Adding X as counts\n",
      "Adding meta.features from var\n",
      "Validating h5Seurat file\n",
      "Initializing RNA with data\n",
      "Adding counts for RNA\n",
      "Adding feature-level metadata for RNA\n",
      "Adding command information\n",
      "Adding cell-level metadata\n",
      "Adding miscellaneous information\n",
      "Adding tool-specific results\n"
     ]
    },
    {
     "name": "stdout",
     "output_type": "stream",
     "text": [
      "/data/pollock/benchmarking/pollock_datasets_with_folds/scRNAseq/myeloma_fold3_val.h5ad\n"
     ]
    },
    {
     "name": "stderr",
     "output_type": "stream",
     "text": [
      "Attaching SeuratObject\n",
      "Registered S3 method overwritten by 'cli':\n",
      "  method     from         \n",
      "  print.boxx spatstat.geom\n",
      "Registered S3 method overwritten by 'SeuratDisk':\n",
      "  method            from  \n",
      "  as.sparse.H5Group Seurat\n",
      "Warning: Unknown file type: h5ad\n",
      "Warning: 'assay' not set, setting to 'RNA'\n",
      "Creating h5Seurat file for version 3.1.5.9900\n",
      "Adding X as data\n",
      "Adding X as counts\n",
      "Adding meta.features from var\n",
      "Validating h5Seurat file\n",
      "Initializing RNA with data\n",
      "Adding counts for RNA\n",
      "Adding feature-level metadata for RNA\n",
      "Adding command information\n",
      "Adding cell-level metadata\n",
      "Adding miscellaneous information\n",
      "Adding tool-specific results\n"
     ]
    },
    {
     "name": "stdout",
     "output_type": "stream",
     "text": [
      "/data/pollock/benchmarking/pollock_datasets_with_folds/scRNAseq/myeloma_fold4_train.h5ad\n"
     ]
    },
    {
     "name": "stderr",
     "output_type": "stream",
     "text": [
      "Attaching SeuratObject\n",
      "Registered S3 method overwritten by 'cli':\n",
      "  method     from         \n",
      "  print.boxx spatstat.geom\n",
      "Registered S3 method overwritten by 'SeuratDisk':\n",
      "  method            from  \n",
      "  as.sparse.H5Group Seurat\n",
      "Warning: Unknown file type: h5ad\n",
      "Warning: 'assay' not set, setting to 'RNA'\n",
      "Creating h5Seurat file for version 3.1.5.9900\n",
      "Adding X as data\n",
      "Adding X as counts\n",
      "Adding meta.features from var\n",
      "Validating h5Seurat file\n",
      "Initializing RNA with data\n",
      "Adding counts for RNA\n",
      "Adding feature-level metadata for RNA\n",
      "Adding command information\n",
      "Adding cell-level metadata\n",
      "Adding miscellaneous information\n",
      "Adding tool-specific results\n"
     ]
    },
    {
     "name": "stdout",
     "output_type": "stream",
     "text": [
      "/data/pollock/benchmarking/pollock_datasets_with_folds/scRNAseq/myeloma_fold4_val.h5ad\n"
     ]
    },
    {
     "name": "stderr",
     "output_type": "stream",
     "text": [
      "Attaching SeuratObject\n",
      "Registered S3 method overwritten by 'cli':\n",
      "  method     from         \n",
      "  print.boxx spatstat.geom\n",
      "Registered S3 method overwritten by 'SeuratDisk':\n",
      "  method            from  \n",
      "  as.sparse.H5Group Seurat\n",
      "Warning: Unknown file type: h5ad\n",
      "Warning: 'assay' not set, setting to 'RNA'\n",
      "Creating h5Seurat file for version 3.1.5.9900\n",
      "Adding X as data\n",
      "Adding X as counts\n",
      "Adding meta.features from var\n",
      "Validating h5Seurat file\n",
      "Initializing RNA with data\n",
      "Adding counts for RNA\n",
      "Adding feature-level metadata for RNA\n",
      "Adding command information\n",
      "Adding cell-level metadata\n",
      "Adding miscellaneous information\n",
      "Adding tool-specific results\n"
     ]
    },
    {
     "name": "stdout",
     "output_type": "stream",
     "text": [
      "/data/pollock/benchmarking/pollock_datasets_with_folds/scRNAseq/pdac_fold0_train.h5ad\n"
     ]
    },
    {
     "name": "stderr",
     "output_type": "stream",
     "text": [
      "Attaching SeuratObject\n",
      "Registered S3 method overwritten by 'cli':\n",
      "  method     from         \n",
      "  print.boxx spatstat.geom\n",
      "Registered S3 method overwritten by 'SeuratDisk':\n",
      "  method            from  \n",
      "  as.sparse.H5Group Seurat\n",
      "Warning: Unknown file type: h5ad\n",
      "Warning: 'assay' not set, setting to 'RNA'\n",
      "Creating h5Seurat file for version 3.1.5.9900\n",
      "Adding X as data\n",
      "Adding X as counts\n",
      "Adding meta.features from var\n",
      "Validating h5Seurat file\n",
      "Initializing RNA with data\n",
      "Adding counts for RNA\n",
      "Adding feature-level metadata for RNA\n",
      "Adding command information\n",
      "Adding cell-level metadata\n",
      "Adding miscellaneous information\n",
      "Adding tool-specific results\n"
     ]
    },
    {
     "name": "stdout",
     "output_type": "stream",
     "text": [
      "/data/pollock/benchmarking/pollock_datasets_with_folds/scRNAseq/pdac_fold0_val.h5ad\n"
     ]
    },
    {
     "name": "stderr",
     "output_type": "stream",
     "text": [
      "Attaching SeuratObject\n",
      "Registered S3 method overwritten by 'cli':\n",
      "  method     from         \n",
      "  print.boxx spatstat.geom\n",
      "Registered S3 method overwritten by 'SeuratDisk':\n",
      "  method            from  \n",
      "  as.sparse.H5Group Seurat\n",
      "Warning: Unknown file type: h5ad\n",
      "Warning: 'assay' not set, setting to 'RNA'\n",
      "Creating h5Seurat file for version 3.1.5.9900\n",
      "Adding X as data\n",
      "Adding X as counts\n",
      "Adding meta.features from var\n",
      "Validating h5Seurat file\n",
      "Initializing RNA with data\n",
      "Adding counts for RNA\n",
      "Adding feature-level metadata for RNA\n",
      "Adding command information\n",
      "Adding cell-level metadata\n",
      "Adding miscellaneous information\n",
      "Adding tool-specific results\n"
     ]
    },
    {
     "name": "stdout",
     "output_type": "stream",
     "text": [
      "/data/pollock/benchmarking/pollock_datasets_with_folds/scRNAseq/pdac_fold1_train.h5ad\n"
     ]
    },
    {
     "name": "stderr",
     "output_type": "stream",
     "text": [
      "Attaching SeuratObject\n",
      "Registered S3 method overwritten by 'cli':\n",
      "  method     from         \n",
      "  print.boxx spatstat.geom\n",
      "Registered S3 method overwritten by 'SeuratDisk':\n",
      "  method            from  \n",
      "  as.sparse.H5Group Seurat\n",
      "Warning: Unknown file type: h5ad\n",
      "Warning: 'assay' not set, setting to 'RNA'\n",
      "Creating h5Seurat file for version 3.1.5.9900\n",
      "Adding X as data\n",
      "Adding X as counts\n",
      "Adding meta.features from var\n",
      "Validating h5Seurat file\n",
      "Initializing RNA with data\n",
      "Adding counts for RNA\n",
      "Adding feature-level metadata for RNA\n",
      "Adding command information\n",
      "Adding cell-level metadata\n",
      "Adding miscellaneous information\n",
      "Adding tool-specific results\n"
     ]
    },
    {
     "name": "stdout",
     "output_type": "stream",
     "text": [
      "/data/pollock/benchmarking/pollock_datasets_with_folds/scRNAseq/pdac_fold1_val.h5ad\n"
     ]
    },
    {
     "name": "stderr",
     "output_type": "stream",
     "text": [
      "Attaching SeuratObject\n",
      "Registered S3 method overwritten by 'cli':\n",
      "  method     from         \n",
      "  print.boxx spatstat.geom\n",
      "Registered S3 method overwritten by 'SeuratDisk':\n",
      "  method            from  \n",
      "  as.sparse.H5Group Seurat\n",
      "Warning: Unknown file type: h5ad\n",
      "Warning: 'assay' not set, setting to 'RNA'\n",
      "Creating h5Seurat file for version 3.1.5.9900\n",
      "Adding X as data\n",
      "Adding X as counts\n",
      "Adding meta.features from var\n",
      "Validating h5Seurat file\n",
      "Initializing RNA with data\n",
      "Adding counts for RNA\n",
      "Adding feature-level metadata for RNA\n",
      "Adding command information\n",
      "Adding cell-level metadata\n",
      "Adding miscellaneous information\n",
      "Adding tool-specific results\n"
     ]
    },
    {
     "name": "stdout",
     "output_type": "stream",
     "text": [
      "/data/pollock/benchmarking/pollock_datasets_with_folds/scRNAseq/pdac_fold2_train.h5ad\n"
     ]
    },
    {
     "name": "stderr",
     "output_type": "stream",
     "text": [
      "Attaching SeuratObject\n",
      "Registered S3 method overwritten by 'cli':\n",
      "  method     from         \n",
      "  print.boxx spatstat.geom\n",
      "Registered S3 method overwritten by 'SeuratDisk':\n",
      "  method            from  \n",
      "  as.sparse.H5Group Seurat\n",
      "Warning: Unknown file type: h5ad\n",
      "Warning: 'assay' not set, setting to 'RNA'\n",
      "Creating h5Seurat file for version 3.1.5.9900\n",
      "Adding X as data\n",
      "Adding X as counts\n",
      "Adding meta.features from var\n",
      "Validating h5Seurat file\n",
      "Initializing RNA with data\n",
      "Adding counts for RNA\n",
      "Adding feature-level metadata for RNA\n",
      "Adding command information\n",
      "Adding cell-level metadata\n",
      "Adding miscellaneous information\n",
      "Adding tool-specific results\n"
     ]
    },
    {
     "name": "stdout",
     "output_type": "stream",
     "text": [
      "/data/pollock/benchmarking/pollock_datasets_with_folds/scRNAseq/pdac_fold2_val.h5ad\n"
     ]
    },
    {
     "name": "stderr",
     "output_type": "stream",
     "text": [
      "Attaching SeuratObject\n",
      "Registered S3 method overwritten by 'cli':\n",
      "  method     from         \n",
      "  print.boxx spatstat.geom\n",
      "Registered S3 method overwritten by 'SeuratDisk':\n",
      "  method            from  \n",
      "  as.sparse.H5Group Seurat\n",
      "Warning: Unknown file type: h5ad\n",
      "Warning: 'assay' not set, setting to 'RNA'\n",
      "Creating h5Seurat file for version 3.1.5.9900\n",
      "Adding X as data\n",
      "Adding X as counts\n",
      "Adding meta.features from var\n",
      "Validating h5Seurat file\n",
      "Initializing RNA with data\n",
      "Adding counts for RNA\n",
      "Adding feature-level metadata for RNA\n",
      "Adding command information\n",
      "Adding cell-level metadata\n",
      "Adding miscellaneous information\n",
      "Adding tool-specific results\n"
     ]
    },
    {
     "name": "stdout",
     "output_type": "stream",
     "text": [
      "/data/pollock/benchmarking/pollock_datasets_with_folds/scRNAseq/pdac_fold3_train.h5ad\n"
     ]
    },
    {
     "name": "stderr",
     "output_type": "stream",
     "text": [
      "Attaching SeuratObject\n",
      "Registered S3 method overwritten by 'cli':\n",
      "  method     from         \n",
      "  print.boxx spatstat.geom\n",
      "Registered S3 method overwritten by 'SeuratDisk':\n",
      "  method            from  \n",
      "  as.sparse.H5Group Seurat\n",
      "Warning: Unknown file type: h5ad\n",
      "Warning: 'assay' not set, setting to 'RNA'\n",
      "Creating h5Seurat file for version 3.1.5.9900\n",
      "Adding X as data\n",
      "Adding X as counts\n",
      "Adding meta.features from var\n",
      "Validating h5Seurat file\n",
      "Initializing RNA with data\n",
      "Adding counts for RNA\n",
      "Adding feature-level metadata for RNA\n",
      "Adding command information\n",
      "Adding cell-level metadata\n",
      "Adding miscellaneous information\n",
      "Adding tool-specific results\n"
     ]
    },
    {
     "name": "stdout",
     "output_type": "stream",
     "text": [
      "/data/pollock/benchmarking/pollock_datasets_with_folds/scRNAseq/pdac_fold3_val.h5ad\n"
     ]
    },
    {
     "name": "stderr",
     "output_type": "stream",
     "text": [
      "Attaching SeuratObject\n",
      "Registered S3 method overwritten by 'cli':\n",
      "  method     from         \n",
      "  print.boxx spatstat.geom\n",
      "Registered S3 method overwritten by 'SeuratDisk':\n",
      "  method            from  \n",
      "  as.sparse.H5Group Seurat\n",
      "Warning: Unknown file type: h5ad\n",
      "Warning: 'assay' not set, setting to 'RNA'\n",
      "Creating h5Seurat file for version 3.1.5.9900\n",
      "Adding X as data\n",
      "Adding X as counts\n",
      "Adding meta.features from var\n",
      "Validating h5Seurat file\n",
      "Initializing RNA with data\n",
      "Adding counts for RNA\n",
      "Adding feature-level metadata for RNA\n",
      "Adding command information\n",
      "Adding cell-level metadata\n",
      "Adding miscellaneous information\n",
      "Adding tool-specific results\n"
     ]
    },
    {
     "name": "stdout",
     "output_type": "stream",
     "text": [
      "/data/pollock/benchmarking/pollock_datasets_with_folds/scRNAseq/pdac_fold4_train.h5ad\n"
     ]
    },
    {
     "name": "stderr",
     "output_type": "stream",
     "text": [
      "Attaching SeuratObject\n",
      "Registered S3 method overwritten by 'cli':\n",
      "  method     from         \n",
      "  print.boxx spatstat.geom\n",
      "Registered S3 method overwritten by 'SeuratDisk':\n",
      "  method            from  \n",
      "  as.sparse.H5Group Seurat\n",
      "Warning: Unknown file type: h5ad\n",
      "Warning: 'assay' not set, setting to 'RNA'\n",
      "Creating h5Seurat file for version 3.1.5.9900\n",
      "Adding X as data\n",
      "Adding X as counts\n",
      "Adding meta.features from var\n",
      "Validating h5Seurat file\n",
      "Initializing RNA with data\n",
      "Adding counts for RNA\n",
      "Adding feature-level metadata for RNA\n",
      "Adding command information\n",
      "Adding cell-level metadata\n",
      "Adding miscellaneous information\n",
      "Adding tool-specific results\n"
     ]
    },
    {
     "name": "stdout",
     "output_type": "stream",
     "text": [
      "/data/pollock/benchmarking/pollock_datasets_with_folds/scRNAseq/pdac_fold4_val.h5ad\n"
     ]
    },
    {
     "name": "stderr",
     "output_type": "stream",
     "text": [
      "Attaching SeuratObject\n",
      "Registered S3 method overwritten by 'cli':\n",
      "  method     from         \n",
      "  print.boxx spatstat.geom\n",
      "Registered S3 method overwritten by 'SeuratDisk':\n",
      "  method            from  \n",
      "  as.sparse.H5Group Seurat\n",
      "Warning: Unknown file type: h5ad\n",
      "Warning: 'assay' not set, setting to 'RNA'\n",
      "Creating h5Seurat file for version 3.1.5.9900\n",
      "Adding X as data\n",
      "Adding X as counts\n",
      "Adding meta.features from var\n",
      "Validating h5Seurat file\n",
      "Initializing RNA with data\n",
      "Adding counts for RNA\n",
      "Adding feature-level metadata for RNA\n",
      "Adding command information\n",
      "Adding cell-level metadata\n",
      "Adding miscellaneous information\n",
      "Adding tool-specific results\n"
     ]
    },
    {
     "name": "stdout",
     "output_type": "stream",
     "text": [
      "/data/pollock/benchmarking/pollock_datasets_with_folds/snATACseq/brca_fold0_train.h5ad\n"
     ]
    },
    {
     "name": "stderr",
     "output_type": "stream",
     "text": [
      "Attaching SeuratObject\n",
      "Registered S3 method overwritten by 'cli':\n",
      "  method     from         \n",
      "  print.boxx spatstat.geom\n",
      "Registered S3 method overwritten by 'SeuratDisk':\n",
      "  method            from  \n",
      "  as.sparse.H5Group Seurat\n",
      "Warning: Unknown file type: h5ad\n",
      "Warning: 'assay' not set, setting to 'RNA'\n",
      "Creating h5Seurat file for version 3.1.5.9900\n",
      "Adding X as data\n",
      "Adding X as counts\n",
      "Adding meta.features from var\n",
      "Validating h5Seurat file\n",
      "Initializing RNA with data\n",
      "Adding counts for RNA\n",
      "Adding feature-level metadata for RNA\n",
      "Adding command information\n",
      "Adding cell-level metadata\n",
      "Adding miscellaneous information\n",
      "Adding tool-specific results\n"
     ]
    },
    {
     "name": "stdout",
     "output_type": "stream",
     "text": [
      "/data/pollock/benchmarking/pollock_datasets_with_folds/snATACseq/brca_fold0_val.h5ad\n"
     ]
    },
    {
     "name": "stderr",
     "output_type": "stream",
     "text": [
      "Attaching SeuratObject\n",
      "Registered S3 method overwritten by 'cli':\n",
      "  method     from         \n",
      "  print.boxx spatstat.geom\n",
      "Registered S3 method overwritten by 'SeuratDisk':\n",
      "  method            from  \n",
      "  as.sparse.H5Group Seurat\n",
      "Warning: Unknown file type: h5ad\n",
      "Warning: 'assay' not set, setting to 'RNA'\n",
      "Creating h5Seurat file for version 3.1.5.9900\n",
      "Adding X as data\n",
      "Adding X as counts\n",
      "Adding meta.features from var\n",
      "Validating h5Seurat file\n",
      "Initializing RNA with data\n",
      "Adding counts for RNA\n",
      "Adding feature-level metadata for RNA\n",
      "Adding command information\n",
      "Adding cell-level metadata\n",
      "Adding miscellaneous information\n",
      "Adding tool-specific results\n"
     ]
    },
    {
     "name": "stdout",
     "output_type": "stream",
     "text": [
      "/data/pollock/benchmarking/pollock_datasets_with_folds/snATACseq/brca_fold1_train.h5ad\n"
     ]
    },
    {
     "name": "stderr",
     "output_type": "stream",
     "text": [
      "Attaching SeuratObject\n",
      "Registered S3 method overwritten by 'cli':\n",
      "  method     from         \n",
      "  print.boxx spatstat.geom\n",
      "Registered S3 method overwritten by 'SeuratDisk':\n",
      "  method            from  \n",
      "  as.sparse.H5Group Seurat\n",
      "Warning: Unknown file type: h5ad\n",
      "Warning: 'assay' not set, setting to 'RNA'\n",
      "Creating h5Seurat file for version 3.1.5.9900\n",
      "Adding X as data\n",
      "Adding X as counts\n",
      "Adding meta.features from var\n",
      "Validating h5Seurat file\n",
      "Initializing RNA with data\n",
      "Adding counts for RNA\n",
      "Adding feature-level metadata for RNA\n",
      "Adding command information\n",
      "Adding cell-level metadata\n",
      "Adding miscellaneous information\n",
      "Adding tool-specific results\n"
     ]
    },
    {
     "name": "stdout",
     "output_type": "stream",
     "text": [
      "/data/pollock/benchmarking/pollock_datasets_with_folds/snATACseq/brca_fold1_val.h5ad\n"
     ]
    },
    {
     "name": "stderr",
     "output_type": "stream",
     "text": [
      "Attaching SeuratObject\n",
      "Registered S3 method overwritten by 'cli':\n",
      "  method     from         \n",
      "  print.boxx spatstat.geom\n",
      "Registered S3 method overwritten by 'SeuratDisk':\n",
      "  method            from  \n",
      "  as.sparse.H5Group Seurat\n",
      "Warning: Unknown file type: h5ad\n",
      "Warning: 'assay' not set, setting to 'RNA'\n",
      "Creating h5Seurat file for version 3.1.5.9900\n",
      "Adding X as data\n",
      "Adding X as counts\n",
      "Adding meta.features from var\n",
      "Validating h5Seurat file\n",
      "Initializing RNA with data\n",
      "Adding counts for RNA\n",
      "Adding feature-level metadata for RNA\n",
      "Adding command information\n",
      "Adding cell-level metadata\n",
      "Adding miscellaneous information\n",
      "Adding tool-specific results\n"
     ]
    },
    {
     "name": "stdout",
     "output_type": "stream",
     "text": [
      "/data/pollock/benchmarking/pollock_datasets_with_folds/snATACseq/brca_fold2_train.h5ad\n"
     ]
    },
    {
     "name": "stderr",
     "output_type": "stream",
     "text": [
      "Attaching SeuratObject\n",
      "Registered S3 method overwritten by 'cli':\n",
      "  method     from         \n",
      "  print.boxx spatstat.geom\n",
      "Registered S3 method overwritten by 'SeuratDisk':\n",
      "  method            from  \n",
      "  as.sparse.H5Group Seurat\n",
      "Warning: Unknown file type: h5ad\n",
      "Warning: 'assay' not set, setting to 'RNA'\n",
      "Creating h5Seurat file for version 3.1.5.9900\n",
      "Adding X as data\n",
      "Adding X as counts\n",
      "Adding meta.features from var\n",
      "Validating h5Seurat file\n",
      "Initializing RNA with data\n",
      "Adding counts for RNA\n",
      "Adding feature-level metadata for RNA\n",
      "Adding command information\n",
      "Adding cell-level metadata\n",
      "Adding miscellaneous information\n",
      "Adding tool-specific results\n"
     ]
    },
    {
     "name": "stdout",
     "output_type": "stream",
     "text": [
      "/data/pollock/benchmarking/pollock_datasets_with_folds/snATACseq/brca_fold2_val.h5ad\n"
     ]
    },
    {
     "name": "stderr",
     "output_type": "stream",
     "text": [
      "Attaching SeuratObject\n",
      "Registered S3 method overwritten by 'cli':\n",
      "  method     from         \n",
      "  print.boxx spatstat.geom\n",
      "Registered S3 method overwritten by 'SeuratDisk':\n",
      "  method            from  \n",
      "  as.sparse.H5Group Seurat\n",
      "Warning: Unknown file type: h5ad\n",
      "Warning: 'assay' not set, setting to 'RNA'\n",
      "Creating h5Seurat file for version 3.1.5.9900\n",
      "Adding X as data\n",
      "Adding X as counts\n",
      "Adding meta.features from var\n",
      "Validating h5Seurat file\n",
      "Initializing RNA with data\n",
      "Adding counts for RNA\n",
      "Adding feature-level metadata for RNA\n",
      "Adding command information\n",
      "Adding cell-level metadata\n",
      "Adding miscellaneous information\n",
      "Adding tool-specific results\n"
     ]
    },
    {
     "name": "stdout",
     "output_type": "stream",
     "text": [
      "/data/pollock/benchmarking/pollock_datasets_with_folds/snATACseq/brca_fold3_train.h5ad\n"
     ]
    },
    {
     "name": "stderr",
     "output_type": "stream",
     "text": [
      "Attaching SeuratObject\n",
      "Registered S3 method overwritten by 'cli':\n",
      "  method     from         \n",
      "  print.boxx spatstat.geom\n",
      "Registered S3 method overwritten by 'SeuratDisk':\n",
      "  method            from  \n",
      "  as.sparse.H5Group Seurat\n",
      "Warning: Unknown file type: h5ad\n",
      "Warning: 'assay' not set, setting to 'RNA'\n",
      "Creating h5Seurat file for version 3.1.5.9900\n",
      "Adding X as data\n",
      "Adding X as counts\n",
      "Adding meta.features from var\n",
      "Validating h5Seurat file\n",
      "Initializing RNA with data\n",
      "Adding counts for RNA\n",
      "Adding feature-level metadata for RNA\n",
      "Adding command information\n",
      "Adding cell-level metadata\n",
      "Adding miscellaneous information\n",
      "Adding tool-specific results\n"
     ]
    },
    {
     "name": "stdout",
     "output_type": "stream",
     "text": [
      "/data/pollock/benchmarking/pollock_datasets_with_folds/snATACseq/brca_fold3_val.h5ad\n"
     ]
    },
    {
     "name": "stderr",
     "output_type": "stream",
     "text": [
      "Attaching SeuratObject\n",
      "Registered S3 method overwritten by 'cli':\n",
      "  method     from         \n",
      "  print.boxx spatstat.geom\n",
      "Registered S3 method overwritten by 'SeuratDisk':\n",
      "  method            from  \n",
      "  as.sparse.H5Group Seurat\n",
      "Warning: Unknown file type: h5ad\n",
      "Warning: 'assay' not set, setting to 'RNA'\n",
      "Creating h5Seurat file for version 3.1.5.9900\n",
      "Adding X as data\n",
      "Adding X as counts\n",
      "Adding meta.features from var\n",
      "Validating h5Seurat file\n",
      "Initializing RNA with data\n",
      "Adding counts for RNA\n",
      "Adding feature-level metadata for RNA\n",
      "Adding command information\n",
      "Adding cell-level metadata\n",
      "Adding miscellaneous information\n",
      "Adding tool-specific results\n"
     ]
    },
    {
     "name": "stdout",
     "output_type": "stream",
     "text": [
      "/data/pollock/benchmarking/pollock_datasets_with_folds/snATACseq/brca_fold4_train.h5ad\n"
     ]
    },
    {
     "name": "stderr",
     "output_type": "stream",
     "text": [
      "Attaching SeuratObject\n",
      "Registered S3 method overwritten by 'cli':\n",
      "  method     from         \n",
      "  print.boxx spatstat.geom\n",
      "Registered S3 method overwritten by 'SeuratDisk':\n",
      "  method            from  \n",
      "  as.sparse.H5Group Seurat\n",
      "Warning: Unknown file type: h5ad\n",
      "Warning: 'assay' not set, setting to 'RNA'\n",
      "Creating h5Seurat file for version 3.1.5.9900\n",
      "Adding X as data\n",
      "Adding X as counts\n",
      "Adding meta.features from var\n",
      "Validating h5Seurat file\n",
      "Initializing RNA with data\n",
      "Adding counts for RNA\n",
      "Adding feature-level metadata for RNA\n",
      "Adding command information\n",
      "Adding cell-level metadata\n",
      "Adding miscellaneous information\n",
      "Adding tool-specific results\n"
     ]
    },
    {
     "name": "stdout",
     "output_type": "stream",
     "text": [
      "/data/pollock/benchmarking/pollock_datasets_with_folds/snATACseq/brca_fold4_val.h5ad\n"
     ]
    },
    {
     "name": "stderr",
     "output_type": "stream",
     "text": [
      "Attaching SeuratObject\n",
      "Registered S3 method overwritten by 'cli':\n",
      "  method     from         \n",
      "  print.boxx spatstat.geom\n",
      "Registered S3 method overwritten by 'SeuratDisk':\n",
      "  method            from  \n",
      "  as.sparse.H5Group Seurat\n",
      "Warning: Unknown file type: h5ad\n",
      "Warning: 'assay' not set, setting to 'RNA'\n",
      "Creating h5Seurat file for version 3.1.5.9900\n",
      "Adding X as data\n",
      "Adding X as counts\n",
      "Adding meta.features from var\n",
      "Validating h5Seurat file\n",
      "Initializing RNA with data\n",
      "Adding counts for RNA\n",
      "Adding feature-level metadata for RNA\n",
      "Adding command information\n",
      "Adding cell-level metadata\n",
      "Adding miscellaneous information\n",
      "Adding tool-specific results\n"
     ]
    },
    {
     "name": "stdout",
     "output_type": "stream",
     "text": [
      "/data/pollock/benchmarking/pollock_datasets_with_folds/snATACseq/ccrcc_fold0_train.h5ad\n"
     ]
    },
    {
     "name": "stderr",
     "output_type": "stream",
     "text": [
      "Attaching SeuratObject\n",
      "Registered S3 method overwritten by 'cli':\n",
      "  method     from         \n",
      "  print.boxx spatstat.geom\n",
      "Registered S3 method overwritten by 'SeuratDisk':\n",
      "  method            from  \n",
      "  as.sparse.H5Group Seurat\n",
      "Warning: Unknown file type: h5ad\n",
      "Warning: 'assay' not set, setting to 'RNA'\n",
      "Creating h5Seurat file for version 3.1.5.9900\n",
      "Adding X as data\n",
      "Adding X as counts\n",
      "Adding meta.features from var\n",
      "Validating h5Seurat file\n",
      "Initializing RNA with data\n",
      "Adding counts for RNA\n",
      "Adding feature-level metadata for RNA\n",
      "Adding command information\n",
      "Adding cell-level metadata\n",
      "Adding miscellaneous information\n",
      "Adding tool-specific results\n"
     ]
    },
    {
     "name": "stdout",
     "output_type": "stream",
     "text": [
      "/data/pollock/benchmarking/pollock_datasets_with_folds/snATACseq/ccrcc_fold0_val.h5ad\n"
     ]
    },
    {
     "name": "stderr",
     "output_type": "stream",
     "text": [
      "Attaching SeuratObject\n",
      "Registered S3 method overwritten by 'cli':\n",
      "  method     from         \n",
      "  print.boxx spatstat.geom\n",
      "Registered S3 method overwritten by 'SeuratDisk':\n",
      "  method            from  \n",
      "  as.sparse.H5Group Seurat\n",
      "Warning: Unknown file type: h5ad\n",
      "Warning: 'assay' not set, setting to 'RNA'\n",
      "Creating h5Seurat file for version 3.1.5.9900\n",
      "Adding X as data\n",
      "Adding X as counts\n",
      "Adding meta.features from var\n",
      "Validating h5Seurat file\n",
      "Initializing RNA with data\n",
      "Adding counts for RNA\n",
      "Adding feature-level metadata for RNA\n",
      "Adding command information\n",
      "Adding cell-level metadata\n",
      "Adding miscellaneous information\n",
      "Adding tool-specific results\n"
     ]
    },
    {
     "name": "stdout",
     "output_type": "stream",
     "text": [
      "/data/pollock/benchmarking/pollock_datasets_with_folds/snATACseq/ccrcc_fold1_train.h5ad\n"
     ]
    },
    {
     "name": "stderr",
     "output_type": "stream",
     "text": [
      "Attaching SeuratObject\n",
      "Registered S3 method overwritten by 'cli':\n",
      "  method     from         \n",
      "  print.boxx spatstat.geom\n",
      "Registered S3 method overwritten by 'SeuratDisk':\n",
      "  method            from  \n",
      "  as.sparse.H5Group Seurat\n",
      "Warning: Unknown file type: h5ad\n",
      "Warning: 'assay' not set, setting to 'RNA'\n",
      "Creating h5Seurat file for version 3.1.5.9900\n",
      "Adding X as data\n",
      "Adding X as counts\n",
      "Adding meta.features from var\n",
      "Validating h5Seurat file\n",
      "Initializing RNA with data\n",
      "Adding counts for RNA\n",
      "Adding feature-level metadata for RNA\n",
      "Adding command information\n",
      "Adding cell-level metadata\n",
      "Adding miscellaneous information\n",
      "Adding tool-specific results\n"
     ]
    },
    {
     "name": "stdout",
     "output_type": "stream",
     "text": [
      "/data/pollock/benchmarking/pollock_datasets_with_folds/snATACseq/ccrcc_fold1_val.h5ad\n"
     ]
    },
    {
     "name": "stderr",
     "output_type": "stream",
     "text": [
      "Attaching SeuratObject\n",
      "Registered S3 method overwritten by 'cli':\n",
      "  method     from         \n",
      "  print.boxx spatstat.geom\n",
      "Registered S3 method overwritten by 'SeuratDisk':\n",
      "  method            from  \n",
      "  as.sparse.H5Group Seurat\n",
      "Warning: Unknown file type: h5ad\n",
      "Warning: 'assay' not set, setting to 'RNA'\n",
      "Creating h5Seurat file for version 3.1.5.9900\n",
      "Adding X as data\n",
      "Adding X as counts\n",
      "Adding meta.features from var\n",
      "Validating h5Seurat file\n",
      "Initializing RNA with data\n",
      "Adding counts for RNA\n",
      "Adding feature-level metadata for RNA\n",
      "Adding command information\n",
      "Adding cell-level metadata\n",
      "Adding miscellaneous information\n",
      "Adding tool-specific results\n"
     ]
    },
    {
     "name": "stdout",
     "output_type": "stream",
     "text": [
      "/data/pollock/benchmarking/pollock_datasets_with_folds/snATACseq/ccrcc_fold2_train.h5ad\n"
     ]
    },
    {
     "name": "stderr",
     "output_type": "stream",
     "text": [
      "Attaching SeuratObject\n",
      "Registered S3 method overwritten by 'cli':\n",
      "  method     from         \n",
      "  print.boxx spatstat.geom\n",
      "Registered S3 method overwritten by 'SeuratDisk':\n",
      "  method            from  \n",
      "  as.sparse.H5Group Seurat\n",
      "Warning: Unknown file type: h5ad\n",
      "Warning: 'assay' not set, setting to 'RNA'\n",
      "Creating h5Seurat file for version 3.1.5.9900\n",
      "Adding X as data\n",
      "Adding X as counts\n",
      "Adding meta.features from var\n",
      "Validating h5Seurat file\n",
      "Initializing RNA with data\n",
      "Adding counts for RNA\n",
      "Adding feature-level metadata for RNA\n",
      "Adding command information\n",
      "Adding cell-level metadata\n",
      "Adding miscellaneous information\n",
      "Adding tool-specific results\n"
     ]
    },
    {
     "name": "stdout",
     "output_type": "stream",
     "text": [
      "/data/pollock/benchmarking/pollock_datasets_with_folds/snATACseq/ccrcc_fold2_val.h5ad\n"
     ]
    },
    {
     "name": "stderr",
     "output_type": "stream",
     "text": [
      "Attaching SeuratObject\n",
      "Registered S3 method overwritten by 'cli':\n",
      "  method     from         \n",
      "  print.boxx spatstat.geom\n",
      "Registered S3 method overwritten by 'SeuratDisk':\n",
      "  method            from  \n",
      "  as.sparse.H5Group Seurat\n",
      "Warning: Unknown file type: h5ad\n",
      "Warning: 'assay' not set, setting to 'RNA'\n",
      "Creating h5Seurat file for version 3.1.5.9900\n",
      "Adding X as data\n",
      "Adding X as counts\n",
      "Adding meta.features from var\n",
      "Validating h5Seurat file\n",
      "Initializing RNA with data\n",
      "Adding counts for RNA\n",
      "Adding feature-level metadata for RNA\n",
      "Adding command information\n",
      "Adding cell-level metadata\n",
      "Adding miscellaneous information\n",
      "Adding tool-specific results\n"
     ]
    },
    {
     "name": "stdout",
     "output_type": "stream",
     "text": [
      "/data/pollock/benchmarking/pollock_datasets_with_folds/snATACseq/ccrcc_fold3_train.h5ad\n"
     ]
    },
    {
     "name": "stderr",
     "output_type": "stream",
     "text": [
      "Attaching SeuratObject\n",
      "Registered S3 method overwritten by 'cli':\n",
      "  method     from         \n",
      "  print.boxx spatstat.geom\n",
      "Registered S3 method overwritten by 'SeuratDisk':\n",
      "  method            from  \n",
      "  as.sparse.H5Group Seurat\n",
      "Warning: Unknown file type: h5ad\n",
      "Warning: 'assay' not set, setting to 'RNA'\n",
      "Creating h5Seurat file for version 3.1.5.9900\n",
      "Adding X as data\n",
      "Adding X as counts\n",
      "Adding meta.features from var\n",
      "Validating h5Seurat file\n",
      "Initializing RNA with data\n",
      "Adding counts for RNA\n",
      "Adding feature-level metadata for RNA\n",
      "Adding command information\n",
      "Adding cell-level metadata\n",
      "Adding miscellaneous information\n",
      "Adding tool-specific results\n"
     ]
    },
    {
     "name": "stdout",
     "output_type": "stream",
     "text": [
      "/data/pollock/benchmarking/pollock_datasets_with_folds/snATACseq/ccrcc_fold3_val.h5ad\n"
     ]
    },
    {
     "name": "stderr",
     "output_type": "stream",
     "text": [
      "Attaching SeuratObject\n",
      "Registered S3 method overwritten by 'cli':\n",
      "  method     from         \n",
      "  print.boxx spatstat.geom\n",
      "Registered S3 method overwritten by 'SeuratDisk':\n",
      "  method            from  \n",
      "  as.sparse.H5Group Seurat\n",
      "Warning: Unknown file type: h5ad\n",
      "Warning: 'assay' not set, setting to 'RNA'\n",
      "Creating h5Seurat file for version 3.1.5.9900\n",
      "Adding X as data\n",
      "Adding X as counts\n",
      "Adding meta.features from var\n",
      "Validating h5Seurat file\n",
      "Initializing RNA with data\n",
      "Adding counts for RNA\n",
      "Adding feature-level metadata for RNA\n",
      "Adding command information\n",
      "Adding cell-level metadata\n",
      "Adding miscellaneous information\n",
      "Adding tool-specific results\n"
     ]
    },
    {
     "name": "stdout",
     "output_type": "stream",
     "text": [
      "/data/pollock/benchmarking/pollock_datasets_with_folds/snATACseq/ccrcc_fold4_train.h5ad\n"
     ]
    },
    {
     "name": "stderr",
     "output_type": "stream",
     "text": [
      "Attaching SeuratObject\n",
      "Registered S3 method overwritten by 'cli':\n",
      "  method     from         \n",
      "  print.boxx spatstat.geom\n",
      "Registered S3 method overwritten by 'SeuratDisk':\n",
      "  method            from  \n",
      "  as.sparse.H5Group Seurat\n",
      "Warning: Unknown file type: h5ad\n",
      "Warning: 'assay' not set, setting to 'RNA'\n",
      "Creating h5Seurat file for version 3.1.5.9900\n",
      "Adding X as data\n",
      "Adding X as counts\n",
      "Adding meta.features from var\n",
      "Validating h5Seurat file\n",
      "Initializing RNA with data\n",
      "Adding counts for RNA\n",
      "Adding feature-level metadata for RNA\n",
      "Adding command information\n",
      "Adding cell-level metadata\n",
      "Adding miscellaneous information\n",
      "Adding tool-specific results\n"
     ]
    },
    {
     "name": "stdout",
     "output_type": "stream",
     "text": [
      "/data/pollock/benchmarking/pollock_datasets_with_folds/snATACseq/ccrcc_fold4_val.h5ad\n"
     ]
    },
    {
     "name": "stderr",
     "output_type": "stream",
     "text": [
      "Attaching SeuratObject\n",
      "Registered S3 method overwritten by 'cli':\n",
      "  method     from         \n",
      "  print.boxx spatstat.geom\n",
      "Registered S3 method overwritten by 'SeuratDisk':\n",
      "  method            from  \n",
      "  as.sparse.H5Group Seurat\n",
      "Warning: Unknown file type: h5ad\n",
      "Warning: 'assay' not set, setting to 'RNA'\n",
      "Creating h5Seurat file for version 3.1.5.9900\n",
      "Adding X as data\n",
      "Adding X as counts\n",
      "Adding meta.features from var\n",
      "Validating h5Seurat file\n",
      "Initializing RNA with data\n",
      "Adding counts for RNA\n",
      "Adding feature-level metadata for RNA\n",
      "Adding command information\n",
      "Adding cell-level metadata\n",
      "Adding miscellaneous information\n",
      "Adding tool-specific results\n"
     ]
    },
    {
     "name": "stdout",
     "output_type": "stream",
     "text": [
      "/data/pollock/benchmarking/pollock_datasets_with_folds/snATACseq/gbm_fold0_train.h5ad\n"
     ]
    },
    {
     "name": "stderr",
     "output_type": "stream",
     "text": [
      "Attaching SeuratObject\n",
      "Registered S3 method overwritten by 'cli':\n",
      "  method     from         \n",
      "  print.boxx spatstat.geom\n",
      "Registered S3 method overwritten by 'SeuratDisk':\n",
      "  method            from  \n",
      "  as.sparse.H5Group Seurat\n",
      "Warning: Unknown file type: h5ad\n",
      "Warning: 'assay' not set, setting to 'RNA'\n",
      "Creating h5Seurat file for version 3.1.5.9900\n",
      "Adding X as data\n",
      "Adding X as counts\n",
      "Adding meta.features from var\n",
      "Validating h5Seurat file\n",
      "Initializing RNA with data\n",
      "Adding counts for RNA\n",
      "Adding feature-level metadata for RNA\n",
      "Adding command information\n",
      "Adding cell-level metadata\n",
      "Adding miscellaneous information\n",
      "Adding tool-specific results\n"
     ]
    },
    {
     "name": "stdout",
     "output_type": "stream",
     "text": [
      "/data/pollock/benchmarking/pollock_datasets_with_folds/snATACseq/gbm_fold0_val.h5ad\n"
     ]
    },
    {
     "name": "stderr",
     "output_type": "stream",
     "text": [
      "Attaching SeuratObject\n",
      "Registered S3 method overwritten by 'cli':\n",
      "  method     from         \n",
      "  print.boxx spatstat.geom\n",
      "Registered S3 method overwritten by 'SeuratDisk':\n",
      "  method            from  \n",
      "  as.sparse.H5Group Seurat\n",
      "Warning: Unknown file type: h5ad\n",
      "Warning: 'assay' not set, setting to 'RNA'\n",
      "Creating h5Seurat file for version 3.1.5.9900\n",
      "Adding X as data\n",
      "Adding X as counts\n",
      "Adding meta.features from var\n",
      "Validating h5Seurat file\n",
      "Initializing RNA with data\n",
      "Adding counts for RNA\n",
      "Adding feature-level metadata for RNA\n",
      "Adding command information\n",
      "Adding cell-level metadata\n",
      "Adding miscellaneous information\n",
      "Adding tool-specific results\n"
     ]
    },
    {
     "name": "stdout",
     "output_type": "stream",
     "text": [
      "/data/pollock/benchmarking/pollock_datasets_with_folds/snATACseq/gbm_fold1_train.h5ad\n"
     ]
    },
    {
     "name": "stderr",
     "output_type": "stream",
     "text": [
      "Attaching SeuratObject\n",
      "Registered S3 method overwritten by 'cli':\n",
      "  method     from         \n",
      "  print.boxx spatstat.geom\n",
      "Registered S3 method overwritten by 'SeuratDisk':\n",
      "  method            from  \n",
      "  as.sparse.H5Group Seurat\n",
      "Warning: Unknown file type: h5ad\n",
      "Warning: 'assay' not set, setting to 'RNA'\n",
      "Creating h5Seurat file for version 3.1.5.9900\n",
      "Adding X as data\n",
      "Adding X as counts\n",
      "Adding meta.features from var\n",
      "Validating h5Seurat file\n",
      "Initializing RNA with data\n",
      "Adding counts for RNA\n",
      "Adding feature-level metadata for RNA\n",
      "Adding command information\n",
      "Adding cell-level metadata\n",
      "Adding miscellaneous information\n",
      "Adding tool-specific results\n"
     ]
    },
    {
     "name": "stdout",
     "output_type": "stream",
     "text": [
      "/data/pollock/benchmarking/pollock_datasets_with_folds/snATACseq/gbm_fold1_val.h5ad\n"
     ]
    },
    {
     "name": "stderr",
     "output_type": "stream",
     "text": [
      "Attaching SeuratObject\n",
      "Registered S3 method overwritten by 'cli':\n",
      "  method     from         \n",
      "  print.boxx spatstat.geom\n",
      "Registered S3 method overwritten by 'SeuratDisk':\n",
      "  method            from  \n",
      "  as.sparse.H5Group Seurat\n",
      "Warning: Unknown file type: h5ad\n",
      "Warning: 'assay' not set, setting to 'RNA'\n",
      "Creating h5Seurat file for version 3.1.5.9900\n",
      "Adding X as data\n",
      "Adding X as counts\n",
      "Adding meta.features from var\n",
      "Validating h5Seurat file\n",
      "Initializing RNA with data\n",
      "Adding counts for RNA\n",
      "Adding feature-level metadata for RNA\n",
      "Adding command information\n",
      "Adding cell-level metadata\n",
      "Adding miscellaneous information\n",
      "Adding tool-specific results\n"
     ]
    },
    {
     "name": "stdout",
     "output_type": "stream",
     "text": [
      "/data/pollock/benchmarking/pollock_datasets_with_folds/snATACseq/gbm_fold2_train.h5ad\n"
     ]
    },
    {
     "name": "stderr",
     "output_type": "stream",
     "text": [
      "Attaching SeuratObject\n",
      "Registered S3 method overwritten by 'cli':\n",
      "  method     from         \n",
      "  print.boxx spatstat.geom\n",
      "Registered S3 method overwritten by 'SeuratDisk':\n",
      "  method            from  \n",
      "  as.sparse.H5Group Seurat\n",
      "Warning: Unknown file type: h5ad\n",
      "Warning: 'assay' not set, setting to 'RNA'\n",
      "Creating h5Seurat file for version 3.1.5.9900\n",
      "Adding X as data\n",
      "Adding X as counts\n",
      "Adding meta.features from var\n",
      "Validating h5Seurat file\n",
      "Initializing RNA with data\n",
      "Adding counts for RNA\n",
      "Adding feature-level metadata for RNA\n",
      "Adding command information\n",
      "Adding cell-level metadata\n",
      "Adding miscellaneous information\n",
      "Adding tool-specific results\n"
     ]
    },
    {
     "name": "stdout",
     "output_type": "stream",
     "text": [
      "/data/pollock/benchmarking/pollock_datasets_with_folds/snATACseq/gbm_fold2_val.h5ad\n"
     ]
    },
    {
     "name": "stderr",
     "output_type": "stream",
     "text": [
      "Attaching SeuratObject\n",
      "Registered S3 method overwritten by 'cli':\n",
      "  method     from         \n",
      "  print.boxx spatstat.geom\n",
      "Registered S3 method overwritten by 'SeuratDisk':\n",
      "  method            from  \n",
      "  as.sparse.H5Group Seurat\n",
      "Warning: Unknown file type: h5ad\n",
      "Warning: 'assay' not set, setting to 'RNA'\n",
      "Creating h5Seurat file for version 3.1.5.9900\n",
      "Adding X as data\n",
      "Adding X as counts\n",
      "Adding meta.features from var\n",
      "Validating h5Seurat file\n",
      "Initializing RNA with data\n",
      "Adding counts for RNA\n",
      "Adding feature-level metadata for RNA\n",
      "Adding command information\n",
      "Adding cell-level metadata\n",
      "Adding miscellaneous information\n",
      "Adding tool-specific results\n"
     ]
    },
    {
     "name": "stdout",
     "output_type": "stream",
     "text": [
      "/data/pollock/benchmarking/pollock_datasets_with_folds/snATACseq/gbm_fold3_train.h5ad\n"
     ]
    },
    {
     "name": "stderr",
     "output_type": "stream",
     "text": [
      "Attaching SeuratObject\n",
      "Registered S3 method overwritten by 'cli':\n",
      "  method     from         \n",
      "  print.boxx spatstat.geom\n",
      "Registered S3 method overwritten by 'SeuratDisk':\n",
      "  method            from  \n",
      "  as.sparse.H5Group Seurat\n",
      "Warning: Unknown file type: h5ad\n",
      "Warning: 'assay' not set, setting to 'RNA'\n",
      "Creating h5Seurat file for version 3.1.5.9900\n",
      "Adding X as data\n",
      "Adding X as counts\n",
      "Adding meta.features from var\n",
      "Validating h5Seurat file\n",
      "Initializing RNA with data\n",
      "Adding counts for RNA\n",
      "Adding feature-level metadata for RNA\n",
      "Adding command information\n",
      "Adding cell-level metadata\n",
      "Adding miscellaneous information\n",
      "Adding tool-specific results\n"
     ]
    },
    {
     "name": "stdout",
     "output_type": "stream",
     "text": [
      "/data/pollock/benchmarking/pollock_datasets_with_folds/snATACseq/gbm_fold3_val.h5ad\n"
     ]
    },
    {
     "name": "stderr",
     "output_type": "stream",
     "text": [
      "Attaching SeuratObject\n",
      "Registered S3 method overwritten by 'cli':\n",
      "  method     from         \n",
      "  print.boxx spatstat.geom\n",
      "Registered S3 method overwritten by 'SeuratDisk':\n",
      "  method            from  \n",
      "  as.sparse.H5Group Seurat\n",
      "Warning: Unknown file type: h5ad\n",
      "Warning: 'assay' not set, setting to 'RNA'\n",
      "Creating h5Seurat file for version 3.1.5.9900\n",
      "Adding X as data\n",
      "Adding X as counts\n",
      "Adding meta.features from var\n",
      "Validating h5Seurat file\n",
      "Initializing RNA with data\n",
      "Adding counts for RNA\n",
      "Adding feature-level metadata for RNA\n",
      "Adding command information\n",
      "Adding cell-level metadata\n",
      "Adding miscellaneous information\n",
      "Adding tool-specific results\n"
     ]
    },
    {
     "name": "stdout",
     "output_type": "stream",
     "text": [
      "/data/pollock/benchmarking/pollock_datasets_with_folds/snATACseq/gbm_fold4_train.h5ad\n"
     ]
    },
    {
     "name": "stderr",
     "output_type": "stream",
     "text": [
      "Attaching SeuratObject\n",
      "Registered S3 method overwritten by 'cli':\n",
      "  method     from         \n",
      "  print.boxx spatstat.geom\n",
      "Registered S3 method overwritten by 'SeuratDisk':\n",
      "  method            from  \n",
      "  as.sparse.H5Group Seurat\n",
      "Warning: Unknown file type: h5ad\n",
      "Warning: 'assay' not set, setting to 'RNA'\n",
      "Creating h5Seurat file for version 3.1.5.9900\n",
      "Adding X as data\n",
      "Adding X as counts\n",
      "Adding meta.features from var\n",
      "Validating h5Seurat file\n",
      "Initializing RNA with data\n",
      "Adding counts for RNA\n",
      "Adding feature-level metadata for RNA\n",
      "Adding command information\n",
      "Adding cell-level metadata\n",
      "Adding miscellaneous information\n",
      "Adding tool-specific results\n"
     ]
    },
    {
     "name": "stdout",
     "output_type": "stream",
     "text": [
      "/data/pollock/benchmarking/pollock_datasets_with_folds/snATACseq/gbm_fold4_val.h5ad\n"
     ]
    },
    {
     "name": "stderr",
     "output_type": "stream",
     "text": [
      "Attaching SeuratObject\n",
      "Registered S3 method overwritten by 'cli':\n",
      "  method     from         \n",
      "  print.boxx spatstat.geom\n",
      "Registered S3 method overwritten by 'SeuratDisk':\n",
      "  method            from  \n",
      "  as.sparse.H5Group Seurat\n",
      "Warning: Unknown file type: h5ad\n",
      "Warning: 'assay' not set, setting to 'RNA'\n",
      "Creating h5Seurat file for version 3.1.5.9900\n",
      "Adding X as data\n",
      "Adding X as counts\n",
      "Adding meta.features from var\n",
      "Validating h5Seurat file\n",
      "Initializing RNA with data\n",
      "Adding counts for RNA\n",
      "Adding feature-level metadata for RNA\n",
      "Adding command information\n",
      "Adding cell-level metadata\n",
      "Adding miscellaneous information\n",
      "Adding tool-specific results\n"
     ]
    },
    {
     "name": "stdout",
     "output_type": "stream",
     "text": [
      "/data/pollock/benchmarking/pollock_datasets_with_folds/snRNAseq/brca_fold0_train.h5ad\n"
     ]
    },
    {
     "name": "stderr",
     "output_type": "stream",
     "text": [
      "Attaching SeuratObject\n",
      "Registered S3 method overwritten by 'cli':\n",
      "  method     from         \n",
      "  print.boxx spatstat.geom\n",
      "Registered S3 method overwritten by 'SeuratDisk':\n",
      "  method            from  \n",
      "  as.sparse.H5Group Seurat\n",
      "Warning: Unknown file type: h5ad\n",
      "Warning: 'assay' not set, setting to 'RNA'\n",
      "Creating h5Seurat file for version 3.1.5.9900\n",
      "Adding X as data\n",
      "Adding X as counts\n",
      "Adding meta.features from var\n",
      "Validating h5Seurat file\n",
      "Initializing RNA with data\n",
      "Adding counts for RNA\n",
      "Adding feature-level metadata for RNA\n",
      "Adding command information\n",
      "Adding cell-level metadata\n",
      "Adding miscellaneous information\n",
      "Adding tool-specific results\n"
     ]
    },
    {
     "name": "stdout",
     "output_type": "stream",
     "text": [
      "/data/pollock/benchmarking/pollock_datasets_with_folds/snRNAseq/brca_fold0_val.h5ad\n"
     ]
    },
    {
     "name": "stderr",
     "output_type": "stream",
     "text": [
      "Attaching SeuratObject\n",
      "Registered S3 method overwritten by 'cli':\n",
      "  method     from         \n",
      "  print.boxx spatstat.geom\n",
      "Registered S3 method overwritten by 'SeuratDisk':\n",
      "  method            from  \n",
      "  as.sparse.H5Group Seurat\n",
      "Warning: Unknown file type: h5ad\n",
      "Warning: 'assay' not set, setting to 'RNA'\n",
      "Creating h5Seurat file for version 3.1.5.9900\n",
      "Adding X as data\n",
      "Adding X as counts\n",
      "Adding meta.features from var\n",
      "Validating h5Seurat file\n",
      "Initializing RNA with data\n",
      "Adding counts for RNA\n",
      "Adding feature-level metadata for RNA\n",
      "Adding command information\n",
      "Adding cell-level metadata\n",
      "Adding miscellaneous information\n",
      "Adding tool-specific results\n"
     ]
    },
    {
     "name": "stdout",
     "output_type": "stream",
     "text": [
      "/data/pollock/benchmarking/pollock_datasets_with_folds/snRNAseq/brca_fold1_train.h5ad\n"
     ]
    },
    {
     "name": "stderr",
     "output_type": "stream",
     "text": [
      "Attaching SeuratObject\n",
      "Registered S3 method overwritten by 'cli':\n",
      "  method     from         \n",
      "  print.boxx spatstat.geom\n",
      "Registered S3 method overwritten by 'SeuratDisk':\n",
      "  method            from  \n",
      "  as.sparse.H5Group Seurat\n",
      "Warning: Unknown file type: h5ad\n",
      "Warning: 'assay' not set, setting to 'RNA'\n",
      "Creating h5Seurat file for version 3.1.5.9900\n",
      "Adding X as data\n",
      "Adding X as counts\n",
      "Adding meta.features from var\n",
      "Validating h5Seurat file\n",
      "Initializing RNA with data\n",
      "Adding counts for RNA\n",
      "Adding feature-level metadata for RNA\n",
      "Adding command information\n",
      "Adding cell-level metadata\n",
      "Adding miscellaneous information\n",
      "Adding tool-specific results\n"
     ]
    },
    {
     "name": "stdout",
     "output_type": "stream",
     "text": [
      "/data/pollock/benchmarking/pollock_datasets_with_folds/snRNAseq/brca_fold1_val.h5ad\n"
     ]
    },
    {
     "name": "stderr",
     "output_type": "stream",
     "text": [
      "Attaching SeuratObject\n",
      "Registered S3 method overwritten by 'cli':\n",
      "  method     from         \n",
      "  print.boxx spatstat.geom\n",
      "Registered S3 method overwritten by 'SeuratDisk':\n",
      "  method            from  \n",
      "  as.sparse.H5Group Seurat\n",
      "Warning: Unknown file type: h5ad\n",
      "Warning: 'assay' not set, setting to 'RNA'\n",
      "Creating h5Seurat file for version 3.1.5.9900\n",
      "Adding X as data\n",
      "Adding X as counts\n",
      "Adding meta.features from var\n",
      "Validating h5Seurat file\n",
      "Initializing RNA with data\n",
      "Adding counts for RNA\n",
      "Adding feature-level metadata for RNA\n",
      "Adding command information\n",
      "Adding cell-level metadata\n",
      "Adding miscellaneous information\n",
      "Adding tool-specific results\n"
     ]
    },
    {
     "name": "stdout",
     "output_type": "stream",
     "text": [
      "/data/pollock/benchmarking/pollock_datasets_with_folds/snRNAseq/brca_fold2_train.h5ad\n"
     ]
    },
    {
     "name": "stderr",
     "output_type": "stream",
     "text": [
      "Attaching SeuratObject\n",
      "Registered S3 method overwritten by 'cli':\n",
      "  method     from         \n",
      "  print.boxx spatstat.geom\n",
      "Registered S3 method overwritten by 'SeuratDisk':\n",
      "  method            from  \n",
      "  as.sparse.H5Group Seurat\n",
      "Warning: Unknown file type: h5ad\n",
      "Warning: 'assay' not set, setting to 'RNA'\n",
      "Creating h5Seurat file for version 3.1.5.9900\n",
      "Adding X as data\n",
      "Adding X as counts\n",
      "Adding meta.features from var\n",
      "Validating h5Seurat file\n",
      "Initializing RNA with data\n",
      "Adding counts for RNA\n",
      "Adding feature-level metadata for RNA\n",
      "Adding command information\n",
      "Adding cell-level metadata\n",
      "Adding miscellaneous information\n",
      "Adding tool-specific results\n"
     ]
    },
    {
     "name": "stdout",
     "output_type": "stream",
     "text": [
      "/data/pollock/benchmarking/pollock_datasets_with_folds/snRNAseq/brca_fold2_val.h5ad\n"
     ]
    },
    {
     "name": "stderr",
     "output_type": "stream",
     "text": [
      "Attaching SeuratObject\n",
      "Registered S3 method overwritten by 'cli':\n",
      "  method     from         \n",
      "  print.boxx spatstat.geom\n",
      "Registered S3 method overwritten by 'SeuratDisk':\n",
      "  method            from  \n",
      "  as.sparse.H5Group Seurat\n",
      "Warning: Unknown file type: h5ad\n",
      "Warning: 'assay' not set, setting to 'RNA'\n",
      "Creating h5Seurat file for version 3.1.5.9900\n",
      "Adding X as data\n",
      "Adding X as counts\n",
      "Adding meta.features from var\n",
      "Validating h5Seurat file\n",
      "Initializing RNA with data\n",
      "Adding counts for RNA\n",
      "Adding feature-level metadata for RNA\n",
      "Adding command information\n",
      "Adding cell-level metadata\n",
      "Adding miscellaneous information\n",
      "Adding tool-specific results\n"
     ]
    },
    {
     "name": "stdout",
     "output_type": "stream",
     "text": [
      "/data/pollock/benchmarking/pollock_datasets_with_folds/snRNAseq/brca_fold3_train.h5ad\n"
     ]
    },
    {
     "name": "stderr",
     "output_type": "stream",
     "text": [
      "Attaching SeuratObject\n",
      "Registered S3 method overwritten by 'cli':\n",
      "  method     from         \n",
      "  print.boxx spatstat.geom\n",
      "Registered S3 method overwritten by 'SeuratDisk':\n",
      "  method            from  \n",
      "  as.sparse.H5Group Seurat\n",
      "Warning: Unknown file type: h5ad\n",
      "Warning: 'assay' not set, setting to 'RNA'\n",
      "Creating h5Seurat file for version 3.1.5.9900\n",
      "Adding X as data\n",
      "Adding X as counts\n",
      "Adding meta.features from var\n",
      "Validating h5Seurat file\n",
      "Initializing RNA with data\n",
      "Adding counts for RNA\n",
      "Adding feature-level metadata for RNA\n",
      "Adding command information\n",
      "Adding cell-level metadata\n",
      "Adding miscellaneous information\n",
      "Adding tool-specific results\n"
     ]
    },
    {
     "name": "stdout",
     "output_type": "stream",
     "text": [
      "/data/pollock/benchmarking/pollock_datasets_with_folds/snRNAseq/brca_fold3_val.h5ad\n"
     ]
    },
    {
     "name": "stderr",
     "output_type": "stream",
     "text": [
      "Attaching SeuratObject\n",
      "Registered S3 method overwritten by 'cli':\n",
      "  method     from         \n",
      "  print.boxx spatstat.geom\n",
      "Registered S3 method overwritten by 'SeuratDisk':\n",
      "  method            from  \n",
      "  as.sparse.H5Group Seurat\n",
      "Warning: Unknown file type: h5ad\n",
      "Warning: 'assay' not set, setting to 'RNA'\n",
      "Creating h5Seurat file for version 3.1.5.9900\n",
      "Adding X as data\n",
      "Adding X as counts\n",
      "Adding meta.features from var\n",
      "Validating h5Seurat file\n",
      "Initializing RNA with data\n",
      "Adding counts for RNA\n",
      "Adding feature-level metadata for RNA\n",
      "Adding command information\n",
      "Adding cell-level metadata\n",
      "Adding miscellaneous information\n",
      "Adding tool-specific results\n"
     ]
    },
    {
     "name": "stdout",
     "output_type": "stream",
     "text": [
      "/data/pollock/benchmarking/pollock_datasets_with_folds/snRNAseq/brca_fold4_train.h5ad\n"
     ]
    },
    {
     "name": "stderr",
     "output_type": "stream",
     "text": [
      "Attaching SeuratObject\n",
      "Registered S3 method overwritten by 'cli':\n",
      "  method     from         \n",
      "  print.boxx spatstat.geom\n",
      "Registered S3 method overwritten by 'SeuratDisk':\n",
      "  method            from  \n",
      "  as.sparse.H5Group Seurat\n",
      "Warning: Unknown file type: h5ad\n",
      "Warning: 'assay' not set, setting to 'RNA'\n",
      "Creating h5Seurat file for version 3.1.5.9900\n",
      "Adding X as data\n",
      "Adding X as counts\n",
      "Adding meta.features from var\n",
      "Validating h5Seurat file\n",
      "Initializing RNA with data\n",
      "Adding counts for RNA\n",
      "Adding feature-level metadata for RNA\n",
      "Adding command information\n",
      "Adding cell-level metadata\n",
      "Adding miscellaneous information\n",
      "Adding tool-specific results\n"
     ]
    },
    {
     "name": "stdout",
     "output_type": "stream",
     "text": [
      "/data/pollock/benchmarking/pollock_datasets_with_folds/snRNAseq/brca_fold4_val.h5ad\n"
     ]
    },
    {
     "name": "stderr",
     "output_type": "stream",
     "text": [
      "Attaching SeuratObject\n",
      "Registered S3 method overwritten by 'cli':\n",
      "  method     from         \n",
      "  print.boxx spatstat.geom\n",
      "Registered S3 method overwritten by 'SeuratDisk':\n",
      "  method            from  \n",
      "  as.sparse.H5Group Seurat\n",
      "Warning: Unknown file type: h5ad\n",
      "Warning: 'assay' not set, setting to 'RNA'\n",
      "Creating h5Seurat file for version 3.1.5.9900\n",
      "Adding X as data\n",
      "Adding X as counts\n",
      "Adding meta.features from var\n",
      "Validating h5Seurat file\n",
      "Initializing RNA with data\n",
      "Adding counts for RNA\n",
      "Adding feature-level metadata for RNA\n",
      "Adding command information\n",
      "Adding cell-level metadata\n",
      "Adding miscellaneous information\n",
      "Adding tool-specific results\n"
     ]
    },
    {
     "name": "stdout",
     "output_type": "stream",
     "text": [
      "/data/pollock/benchmarking/pollock_datasets_with_folds/snRNAseq/ccrcc_fold0_train.h5ad\n"
     ]
    },
    {
     "name": "stderr",
     "output_type": "stream",
     "text": [
      "Attaching SeuratObject\n",
      "Registered S3 method overwritten by 'cli':\n",
      "  method     from         \n",
      "  print.boxx spatstat.geom\n",
      "Registered S3 method overwritten by 'SeuratDisk':\n",
      "  method            from  \n",
      "  as.sparse.H5Group Seurat\n",
      "Warning: Unknown file type: h5ad\n",
      "Warning: 'assay' not set, setting to 'RNA'\n",
      "Creating h5Seurat file for version 3.1.5.9900\n",
      "Adding X as data\n",
      "Adding X as counts\n",
      "Adding meta.features from var\n",
      "Validating h5Seurat file\n",
      "Initializing RNA with data\n",
      "Adding counts for RNA\n",
      "Adding feature-level metadata for RNA\n",
      "Adding command information\n",
      "Adding cell-level metadata\n",
      "Adding miscellaneous information\n",
      "Adding tool-specific results\n"
     ]
    },
    {
     "name": "stdout",
     "output_type": "stream",
     "text": [
      "/data/pollock/benchmarking/pollock_datasets_with_folds/snRNAseq/ccrcc_fold0_val.h5ad\n"
     ]
    },
    {
     "name": "stderr",
     "output_type": "stream",
     "text": [
      "Attaching SeuratObject\n",
      "Registered S3 method overwritten by 'cli':\n",
      "  method     from         \n",
      "  print.boxx spatstat.geom\n",
      "Registered S3 method overwritten by 'SeuratDisk':\n",
      "  method            from  \n",
      "  as.sparse.H5Group Seurat\n",
      "Warning: Unknown file type: h5ad\n",
      "Warning: 'assay' not set, setting to 'RNA'\n",
      "Creating h5Seurat file for version 3.1.5.9900\n",
      "Adding X as data\n",
      "Adding X as counts\n",
      "Adding meta.features from var\n",
      "Validating h5Seurat file\n",
      "Initializing RNA with data\n",
      "Adding counts for RNA\n",
      "Adding feature-level metadata for RNA\n",
      "Adding command information\n",
      "Adding cell-level metadata\n",
      "Adding miscellaneous information\n",
      "Adding tool-specific results\n"
     ]
    },
    {
     "name": "stdout",
     "output_type": "stream",
     "text": [
      "/data/pollock/benchmarking/pollock_datasets_with_folds/snRNAseq/ccrcc_fold1_train.h5ad\n"
     ]
    },
    {
     "name": "stderr",
     "output_type": "stream",
     "text": [
      "Attaching SeuratObject\n",
      "Registered S3 method overwritten by 'cli':\n",
      "  method     from         \n",
      "  print.boxx spatstat.geom\n",
      "Registered S3 method overwritten by 'SeuratDisk':\n",
      "  method            from  \n",
      "  as.sparse.H5Group Seurat\n",
      "Warning: Unknown file type: h5ad\n",
      "Warning: 'assay' not set, setting to 'RNA'\n",
      "Creating h5Seurat file for version 3.1.5.9900\n",
      "Adding X as data\n",
      "Adding X as counts\n",
      "Adding meta.features from var\n",
      "Validating h5Seurat file\n",
      "Initializing RNA with data\n",
      "Adding counts for RNA\n",
      "Adding feature-level metadata for RNA\n",
      "Adding command information\n",
      "Adding cell-level metadata\n",
      "Adding miscellaneous information\n",
      "Adding tool-specific results\n"
     ]
    },
    {
     "name": "stdout",
     "output_type": "stream",
     "text": [
      "/data/pollock/benchmarking/pollock_datasets_with_folds/snRNAseq/ccrcc_fold1_val.h5ad\n"
     ]
    },
    {
     "name": "stderr",
     "output_type": "stream",
     "text": [
      "Attaching SeuratObject\n",
      "Registered S3 method overwritten by 'cli':\n",
      "  method     from         \n",
      "  print.boxx spatstat.geom\n",
      "Registered S3 method overwritten by 'SeuratDisk':\n",
      "  method            from  \n",
      "  as.sparse.H5Group Seurat\n",
      "Warning: Unknown file type: h5ad\n",
      "Warning: 'assay' not set, setting to 'RNA'\n",
      "Creating h5Seurat file for version 3.1.5.9900\n",
      "Adding X as data\n",
      "Adding X as counts\n",
      "Adding meta.features from var\n",
      "Validating h5Seurat file\n",
      "Initializing RNA with data\n",
      "Adding counts for RNA\n",
      "Adding feature-level metadata for RNA\n",
      "Adding command information\n",
      "Adding cell-level metadata\n",
      "Adding miscellaneous information\n",
      "Adding tool-specific results\n"
     ]
    },
    {
     "name": "stdout",
     "output_type": "stream",
     "text": [
      "/data/pollock/benchmarking/pollock_datasets_with_folds/snRNAseq/ccrcc_fold2_train.h5ad\n"
     ]
    },
    {
     "name": "stderr",
     "output_type": "stream",
     "text": [
      "Attaching SeuratObject\n",
      "Registered S3 method overwritten by 'cli':\n",
      "  method     from         \n",
      "  print.boxx spatstat.geom\n",
      "Registered S3 method overwritten by 'SeuratDisk':\n",
      "  method            from  \n",
      "  as.sparse.H5Group Seurat\n",
      "Warning: Unknown file type: h5ad\n",
      "Warning: 'assay' not set, setting to 'RNA'\n",
      "Creating h5Seurat file for version 3.1.5.9900\n",
      "Adding X as data\n",
      "Adding X as counts\n",
      "Adding meta.features from var\n",
      "Validating h5Seurat file\n",
      "Initializing RNA with data\n",
      "Adding counts for RNA\n",
      "Adding feature-level metadata for RNA\n",
      "Adding command information\n",
      "Adding cell-level metadata\n",
      "Adding miscellaneous information\n",
      "Adding tool-specific results\n"
     ]
    },
    {
     "name": "stdout",
     "output_type": "stream",
     "text": [
      "/data/pollock/benchmarking/pollock_datasets_with_folds/snRNAseq/ccrcc_fold2_val.h5ad\n"
     ]
    },
    {
     "name": "stderr",
     "output_type": "stream",
     "text": [
      "Attaching SeuratObject\n",
      "Registered S3 method overwritten by 'cli':\n",
      "  method     from         \n",
      "  print.boxx spatstat.geom\n",
      "Registered S3 method overwritten by 'SeuratDisk':\n",
      "  method            from  \n",
      "  as.sparse.H5Group Seurat\n",
      "Warning: Unknown file type: h5ad\n",
      "Warning: 'assay' not set, setting to 'RNA'\n",
      "Creating h5Seurat file for version 3.1.5.9900\n",
      "Adding X as data\n",
      "Adding X as counts\n",
      "Adding meta.features from var\n",
      "Validating h5Seurat file\n",
      "Initializing RNA with data\n",
      "Adding counts for RNA\n",
      "Adding feature-level metadata for RNA\n",
      "Adding command information\n",
      "Adding cell-level metadata\n",
      "Adding miscellaneous information\n",
      "Adding tool-specific results\n"
     ]
    },
    {
     "name": "stdout",
     "output_type": "stream",
     "text": [
      "/data/pollock/benchmarking/pollock_datasets_with_folds/snRNAseq/ccrcc_fold3_train.h5ad\n"
     ]
    },
    {
     "name": "stderr",
     "output_type": "stream",
     "text": [
      "Attaching SeuratObject\n",
      "Registered S3 method overwritten by 'cli':\n",
      "  method     from         \n",
      "  print.boxx spatstat.geom\n",
      "Registered S3 method overwritten by 'SeuratDisk':\n",
      "  method            from  \n",
      "  as.sparse.H5Group Seurat\n",
      "Warning: Unknown file type: h5ad\n",
      "Warning: 'assay' not set, setting to 'RNA'\n",
      "Creating h5Seurat file for version 3.1.5.9900\n",
      "Adding X as data\n",
      "Adding X as counts\n",
      "Adding meta.features from var\n",
      "Validating h5Seurat file\n",
      "Initializing RNA with data\n",
      "Adding counts for RNA\n",
      "Adding feature-level metadata for RNA\n",
      "Adding command information\n",
      "Adding cell-level metadata\n",
      "Adding miscellaneous information\n",
      "Adding tool-specific results\n"
     ]
    },
    {
     "name": "stdout",
     "output_type": "stream",
     "text": [
      "/data/pollock/benchmarking/pollock_datasets_with_folds/snRNAseq/ccrcc_fold3_val.h5ad\n"
     ]
    },
    {
     "name": "stderr",
     "output_type": "stream",
     "text": [
      "Attaching SeuratObject\n",
      "Registered S3 method overwritten by 'cli':\n",
      "  method     from         \n",
      "  print.boxx spatstat.geom\n",
      "Registered S3 method overwritten by 'SeuratDisk':\n",
      "  method            from  \n",
      "  as.sparse.H5Group Seurat\n",
      "Warning: Unknown file type: h5ad\n",
      "Warning: 'assay' not set, setting to 'RNA'\n",
      "Creating h5Seurat file for version 3.1.5.9900\n",
      "Adding X as data\n",
      "Adding X as counts\n",
      "Adding meta.features from var\n",
      "Validating h5Seurat file\n",
      "Initializing RNA with data\n",
      "Adding counts for RNA\n",
      "Adding feature-level metadata for RNA\n",
      "Adding command information\n",
      "Adding cell-level metadata\n",
      "Adding miscellaneous information\n",
      "Adding tool-specific results\n"
     ]
    },
    {
     "name": "stdout",
     "output_type": "stream",
     "text": [
      "/data/pollock/benchmarking/pollock_datasets_with_folds/snRNAseq/ccrcc_fold4_train.h5ad\n"
     ]
    },
    {
     "name": "stderr",
     "output_type": "stream",
     "text": [
      "Attaching SeuratObject\n",
      "Registered S3 method overwritten by 'cli':\n",
      "  method     from         \n",
      "  print.boxx spatstat.geom\n",
      "Registered S3 method overwritten by 'SeuratDisk':\n",
      "  method            from  \n",
      "  as.sparse.H5Group Seurat\n",
      "Warning: Unknown file type: h5ad\n",
      "Warning: 'assay' not set, setting to 'RNA'\n",
      "Creating h5Seurat file for version 3.1.5.9900\n",
      "Adding X as data\n",
      "Adding X as counts\n",
      "Adding meta.features from var\n",
      "Validating h5Seurat file\n",
      "Initializing RNA with data\n",
      "Adding counts for RNA\n",
      "Adding feature-level metadata for RNA\n",
      "Adding command information\n",
      "Adding cell-level metadata\n",
      "Adding miscellaneous information\n",
      "Adding tool-specific results\n"
     ]
    },
    {
     "name": "stdout",
     "output_type": "stream",
     "text": [
      "/data/pollock/benchmarking/pollock_datasets_with_folds/snRNAseq/ccrcc_fold4_val.h5ad\n"
     ]
    },
    {
     "name": "stderr",
     "output_type": "stream",
     "text": [
      "Attaching SeuratObject\n",
      "Registered S3 method overwritten by 'cli':\n",
      "  method     from         \n",
      "  print.boxx spatstat.geom\n",
      "Registered S3 method overwritten by 'SeuratDisk':\n",
      "  method            from  \n",
      "  as.sparse.H5Group Seurat\n",
      "Warning: Unknown file type: h5ad\n",
      "Warning: 'assay' not set, setting to 'RNA'\n",
      "Creating h5Seurat file for version 3.1.5.9900\n",
      "Adding X as data\n",
      "Adding X as counts\n",
      "Adding meta.features from var\n",
      "Validating h5Seurat file\n",
      "Initializing RNA with data\n",
      "Adding counts for RNA\n",
      "Adding feature-level metadata for RNA\n",
      "Adding command information\n",
      "Adding cell-level metadata\n",
      "Adding miscellaneous information\n",
      "Adding tool-specific results\n"
     ]
    },
    {
     "name": "stdout",
     "output_type": "stream",
     "text": [
      "/data/pollock/benchmarking/pollock_datasets_with_folds/snRNAseq/gbm_fold0_train.h5ad\n"
     ]
    },
    {
     "name": "stderr",
     "output_type": "stream",
     "text": [
      "Attaching SeuratObject\n",
      "Registered S3 method overwritten by 'cli':\n",
      "  method     from         \n",
      "  print.boxx spatstat.geom\n",
      "Registered S3 method overwritten by 'SeuratDisk':\n",
      "  method            from  \n",
      "  as.sparse.H5Group Seurat\n",
      "Warning: Unknown file type: h5ad\n",
      "Warning: 'assay' not set, setting to 'RNA'\n",
      "Creating h5Seurat file for version 3.1.5.9900\n",
      "Adding X as data\n",
      "Adding X as counts\n",
      "Adding meta.features from var\n",
      "Validating h5Seurat file\n",
      "Initializing RNA with data\n",
      "Adding counts for RNA\n",
      "Adding feature-level metadata for RNA\n",
      "Adding command information\n",
      "Adding cell-level metadata\n",
      "Adding miscellaneous information\n",
      "Adding tool-specific results\n"
     ]
    },
    {
     "name": "stdout",
     "output_type": "stream",
     "text": [
      "/data/pollock/benchmarking/pollock_datasets_with_folds/snRNAseq/gbm_fold0_val.h5ad\n"
     ]
    },
    {
     "name": "stderr",
     "output_type": "stream",
     "text": [
      "Attaching SeuratObject\n",
      "Registered S3 method overwritten by 'cli':\n",
      "  method     from         \n",
      "  print.boxx spatstat.geom\n",
      "Registered S3 method overwritten by 'SeuratDisk':\n",
      "  method            from  \n",
      "  as.sparse.H5Group Seurat\n",
      "Warning: Unknown file type: h5ad\n",
      "Warning: 'assay' not set, setting to 'RNA'\n",
      "Creating h5Seurat file for version 3.1.5.9900\n",
      "Adding X as data\n",
      "Adding X as counts\n",
      "Adding meta.features from var\n",
      "Validating h5Seurat file\n",
      "Initializing RNA with data\n",
      "Adding counts for RNA\n",
      "Adding feature-level metadata for RNA\n",
      "Adding command information\n",
      "Adding cell-level metadata\n",
      "Adding miscellaneous information\n",
      "Adding tool-specific results\n"
     ]
    },
    {
     "name": "stdout",
     "output_type": "stream",
     "text": [
      "/data/pollock/benchmarking/pollock_datasets_with_folds/snRNAseq/gbm_fold1_train.h5ad\n"
     ]
    },
    {
     "name": "stderr",
     "output_type": "stream",
     "text": [
      "Attaching SeuratObject\n",
      "Registered S3 method overwritten by 'cli':\n",
      "  method     from         \n",
      "  print.boxx spatstat.geom\n",
      "Registered S3 method overwritten by 'SeuratDisk':\n",
      "  method            from  \n",
      "  as.sparse.H5Group Seurat\n",
      "Warning: Unknown file type: h5ad\n",
      "Warning: 'assay' not set, setting to 'RNA'\n",
      "Creating h5Seurat file for version 3.1.5.9900\n",
      "Adding X as data\n",
      "Adding X as counts\n",
      "Adding meta.features from var\n",
      "Validating h5Seurat file\n",
      "Initializing RNA with data\n",
      "Adding counts for RNA\n",
      "Adding feature-level metadata for RNA\n",
      "Adding command information\n",
      "Adding cell-level metadata\n",
      "Adding miscellaneous information\n",
      "Adding tool-specific results\n"
     ]
    },
    {
     "name": "stdout",
     "output_type": "stream",
     "text": [
      "/data/pollock/benchmarking/pollock_datasets_with_folds/snRNAseq/gbm_fold1_val.h5ad\n"
     ]
    },
    {
     "name": "stderr",
     "output_type": "stream",
     "text": [
      "Attaching SeuratObject\n",
      "Registered S3 method overwritten by 'cli':\n",
      "  method     from         \n",
      "  print.boxx spatstat.geom\n",
      "Registered S3 method overwritten by 'SeuratDisk':\n",
      "  method            from  \n",
      "  as.sparse.H5Group Seurat\n",
      "Warning: Unknown file type: h5ad\n",
      "Warning: 'assay' not set, setting to 'RNA'\n",
      "Creating h5Seurat file for version 3.1.5.9900\n",
      "Adding X as data\n",
      "Adding X as counts\n",
      "Adding meta.features from var\n",
      "Validating h5Seurat file\n",
      "Initializing RNA with data\n",
      "Adding counts for RNA\n",
      "Adding feature-level metadata for RNA\n",
      "Adding command information\n",
      "Adding cell-level metadata\n",
      "Adding miscellaneous information\n",
      "Adding tool-specific results\n"
     ]
    },
    {
     "name": "stdout",
     "output_type": "stream",
     "text": [
      "/data/pollock/benchmarking/pollock_datasets_with_folds/snRNAseq/gbm_fold2_train.h5ad\n"
     ]
    },
    {
     "name": "stderr",
     "output_type": "stream",
     "text": [
      "Attaching SeuratObject\n",
      "Registered S3 method overwritten by 'cli':\n",
      "  method     from         \n",
      "  print.boxx spatstat.geom\n",
      "Registered S3 method overwritten by 'SeuratDisk':\n",
      "  method            from  \n",
      "  as.sparse.H5Group Seurat\n",
      "Warning: Unknown file type: h5ad\n",
      "Warning: 'assay' not set, setting to 'RNA'\n",
      "Creating h5Seurat file for version 3.1.5.9900\n",
      "Adding X as data\n",
      "Adding X as counts\n",
      "Adding meta.features from var\n",
      "Validating h5Seurat file\n",
      "Initializing RNA with data\n",
      "Adding counts for RNA\n",
      "Adding feature-level metadata for RNA\n",
      "Adding command information\n",
      "Adding cell-level metadata\n",
      "Adding miscellaneous information\n",
      "Adding tool-specific results\n"
     ]
    },
    {
     "name": "stdout",
     "output_type": "stream",
     "text": [
      "/data/pollock/benchmarking/pollock_datasets_with_folds/snRNAseq/gbm_fold2_val.h5ad\n"
     ]
    },
    {
     "name": "stderr",
     "output_type": "stream",
     "text": [
      "Attaching SeuratObject\n",
      "Registered S3 method overwritten by 'cli':\n",
      "  method     from         \n",
      "  print.boxx spatstat.geom\n",
      "Registered S3 method overwritten by 'SeuratDisk':\n",
      "  method            from  \n",
      "  as.sparse.H5Group Seurat\n",
      "Warning: Unknown file type: h5ad\n",
      "Warning: 'assay' not set, setting to 'RNA'\n",
      "Creating h5Seurat file for version 3.1.5.9900\n",
      "Adding X as data\n",
      "Adding X as counts\n",
      "Adding meta.features from var\n",
      "Validating h5Seurat file\n",
      "Initializing RNA with data\n",
      "Adding counts for RNA\n",
      "Adding feature-level metadata for RNA\n",
      "Adding command information\n",
      "Adding cell-level metadata\n",
      "Adding miscellaneous information\n",
      "Adding tool-specific results\n"
     ]
    },
    {
     "name": "stdout",
     "output_type": "stream",
     "text": [
      "/data/pollock/benchmarking/pollock_datasets_with_folds/snRNAseq/gbm_fold3_train.h5ad\n"
     ]
    },
    {
     "name": "stderr",
     "output_type": "stream",
     "text": [
      "Attaching SeuratObject\n",
      "Registered S3 method overwritten by 'cli':\n",
      "  method     from         \n",
      "  print.boxx spatstat.geom\n",
      "Registered S3 method overwritten by 'SeuratDisk':\n",
      "  method            from  \n",
      "  as.sparse.H5Group Seurat\n",
      "Warning: Unknown file type: h5ad\n",
      "Warning: 'assay' not set, setting to 'RNA'\n",
      "Creating h5Seurat file for version 3.1.5.9900\n",
      "Adding X as data\n",
      "Adding X as counts\n",
      "Adding meta.features from var\n",
      "Validating h5Seurat file\n",
      "Initializing RNA with data\n",
      "Adding counts for RNA\n",
      "Adding feature-level metadata for RNA\n",
      "Adding command information\n",
      "Adding cell-level metadata\n",
      "Adding miscellaneous information\n",
      "Adding tool-specific results\n"
     ]
    },
    {
     "name": "stdout",
     "output_type": "stream",
     "text": [
      "/data/pollock/benchmarking/pollock_datasets_with_folds/snRNAseq/gbm_fold3_val.h5ad\n"
     ]
    },
    {
     "name": "stderr",
     "output_type": "stream",
     "text": [
      "Attaching SeuratObject\n",
      "Registered S3 method overwritten by 'cli':\n",
      "  method     from         \n",
      "  print.boxx spatstat.geom\n",
      "Registered S3 method overwritten by 'SeuratDisk':\n",
      "  method            from  \n",
      "  as.sparse.H5Group Seurat\n",
      "Warning: Unknown file type: h5ad\n",
      "Warning: 'assay' not set, setting to 'RNA'\n",
      "Creating h5Seurat file for version 3.1.5.9900\n",
      "Adding X as data\n",
      "Adding X as counts\n",
      "Adding meta.features from var\n",
      "Validating h5Seurat file\n",
      "Initializing RNA with data\n",
      "Adding counts for RNA\n",
      "Adding feature-level metadata for RNA\n",
      "Adding command information\n",
      "Adding cell-level metadata\n",
      "Adding miscellaneous information\n",
      "Adding tool-specific results\n"
     ]
    },
    {
     "name": "stdout",
     "output_type": "stream",
     "text": [
      "/data/pollock/benchmarking/pollock_datasets_with_folds/snRNAseq/gbm_fold4_train.h5ad\n"
     ]
    },
    {
     "name": "stderr",
     "output_type": "stream",
     "text": [
      "Attaching SeuratObject\n",
      "Registered S3 method overwritten by 'cli':\n",
      "  method     from         \n",
      "  print.boxx spatstat.geom\n",
      "Registered S3 method overwritten by 'SeuratDisk':\n",
      "  method            from  \n",
      "  as.sparse.H5Group Seurat\n",
      "Warning: Unknown file type: h5ad\n",
      "Warning: 'assay' not set, setting to 'RNA'\n",
      "Creating h5Seurat file for version 3.1.5.9900\n",
      "Adding X as data\n",
      "Adding X as counts\n",
      "Adding meta.features from var\n",
      "Validating h5Seurat file\n",
      "Initializing RNA with data\n",
      "Adding counts for RNA\n",
      "Adding feature-level metadata for RNA\n",
      "Adding command information\n",
      "Adding cell-level metadata\n",
      "Adding miscellaneous information\n",
      "Adding tool-specific results\n"
     ]
    },
    {
     "name": "stdout",
     "output_type": "stream",
     "text": [
      "/data/pollock/benchmarking/pollock_datasets_with_folds/snRNAseq/gbm_fold4_val.h5ad\n"
     ]
    },
    {
     "name": "stderr",
     "output_type": "stream",
     "text": [
      "Attaching SeuratObject\n",
      "Registered S3 method overwritten by 'cli':\n",
      "  method     from         \n",
      "  print.boxx spatstat.geom\n",
      "Registered S3 method overwritten by 'SeuratDisk':\n",
      "  method            from  \n",
      "  as.sparse.H5Group Seurat\n",
      "Warning: Unknown file type: h5ad\n",
      "Warning: 'assay' not set, setting to 'RNA'\n",
      "Creating h5Seurat file for version 3.1.5.9900\n",
      "Adding X as data\n",
      "Adding X as counts\n",
      "Adding meta.features from var\n",
      "Validating h5Seurat file\n",
      "Initializing RNA with data\n",
      "Adding counts for RNA\n",
      "Adding feature-level metadata for RNA\n",
      "Adding command information\n",
      "Adding cell-level metadata\n",
      "Adding miscellaneous information\n",
      "Adding tool-specific results\n"
     ]
    }
   ],
   "source": [
    "for fp in fps:\n",
    "    print(fp)\n",
    "    a = sc.read_h5ad(fp)\n",
    "    \n",
    "    if 'melanoma' in fp:\n",
    "        a.var.index = ['UNKNWN' if not x else x for x in a.var.index]\n",
    "    \n",
    "    save_rds(a, fp.replace('.h5ad', '.rds'))"
   ]
  },
  {
   "cell_type": "code",
   "execution_count": null,
   "id": "9cc36442",
   "metadata": {},
   "outputs": [],
   "source": []
  },
  {
   "cell_type": "code",
   "execution_count": null,
   "id": "03c8cc27",
   "metadata": {},
   "outputs": [],
   "source": []
  },
  {
   "cell_type": "code",
   "execution_count": null,
   "id": "a8ddc8cd",
   "metadata": {},
   "outputs": [],
   "source": []
  },
  {
   "cell_type": "code",
   "execution_count": null,
   "id": "36410768",
   "metadata": {},
   "outputs": [],
   "source": []
  },
  {
   "cell_type": "code",
   "execution_count": null,
   "id": "8f513ed7",
   "metadata": {},
   "outputs": [],
   "source": []
  },
  {
   "cell_type": "code",
   "execution_count": null,
   "id": "16ef5bbf",
   "metadata": {},
   "outputs": [],
   "source": []
  },
  {
   "cell_type": "code",
   "execution_count": null,
   "id": "44ce80db",
   "metadata": {},
   "outputs": [],
   "source": []
  },
  {
   "cell_type": "code",
   "execution_count": null,
   "id": "9aa60ace",
   "metadata": {},
   "outputs": [],
   "source": []
  },
  {
   "cell_type": "code",
   "execution_count": null,
   "id": "94a79d26",
   "metadata": {},
   "outputs": [],
   "source": []
  },
  {
   "cell_type": "code",
   "execution_count": null,
   "id": "b7302c05",
   "metadata": {},
   "outputs": [],
   "source": []
  },
  {
   "cell_type": "code",
   "execution_count": 74,
   "id": "5136769e",
   "metadata": {},
   "outputs": [],
   "source": [
    "??normalize"
   ]
  },
  {
   "cell_type": "code",
   "execution_count": 139,
   "id": "964e5fb1",
   "metadata": {},
   "outputs": [
    {
     "data": {
      "text/plain": [
       "AnnData object with n_obs × n_vars = 6105 × 27131\n",
       "    obs: 'cell_type', 'barcode', 'sample'"
      ]
     },
     "execution_count": 139,
     "metadata": {},
     "output_type": "execute_result"
    }
   ],
   "source": [
    "a = sc.read_h5ad('/data/pollock/benchmarking/pollock_datasets/scRNAseq/brca_train.h5ad')\n",
    "a"
   ]
  },
  {
   "cell_type": "code",
   "execution_count": 140,
   "id": "35fa6986",
   "metadata": {},
   "outputs": [
    {
     "name": "stderr",
     "output_type": "stream",
     "text": [
      "/data/estorrs/miniconda3/envs/pollock_new/lib/python3.8/site-packages/scanpy/preprocessing/_utils.py:11: RuntimeWarning: overflow encountered in multiply\n",
      "  mean_sq = np.multiply(X, X).mean(axis=axis, dtype=np.float64)\n"
     ]
    }
   ],
   "source": [
    "from pollock.dataloaders import normalize\n",
    "b = a.copy()\n",
    "b = normalize(b)\n",
    "sc.pp.highly_variable_genes(b, inplace=True, min_mean=0.0125, max_mean=3, min_disp=0.5)"
   ]
  },
  {
   "cell_type": "code",
   "execution_count": 141,
   "id": "11372e77",
   "metadata": {},
   "outputs": [
    {
     "data": {
      "text/html": [
       "<div>\n",
       "<style scoped>\n",
       "    .dataframe tbody tr th:only-of-type {\n",
       "        vertical-align: middle;\n",
       "    }\n",
       "\n",
       "    .dataframe tbody tr th {\n",
       "        vertical-align: top;\n",
       "    }\n",
       "\n",
       "    .dataframe thead th {\n",
       "        text-align: right;\n",
       "    }\n",
       "</style>\n",
       "<table border=\"1\" class=\"dataframe\">\n",
       "  <thead>\n",
       "    <tr style=\"text-align: right;\">\n",
       "      <th></th>\n",
       "      <th>n_counts</th>\n",
       "      <th>mean</th>\n",
       "      <th>std</th>\n",
       "      <th>highly_variable</th>\n",
       "      <th>means</th>\n",
       "      <th>dispersions</th>\n",
       "      <th>dispersions_norm</th>\n",
       "    </tr>\n",
       "  </thead>\n",
       "  <tbody>\n",
       "    <tr>\n",
       "      <th>AL627309.1</th>\n",
       "      <td>7.0</td>\n",
       "      <td>0.000758</td>\n",
       "      <td>0.022492</td>\n",
       "      <td>False</td>\n",
       "      <td>26.010652</td>\n",
       "      <td>34.024710</td>\n",
       "      <td>-0.462540</td>\n",
       "    </tr>\n",
       "    <tr>\n",
       "      <th>AL627309.3</th>\n",
       "      <td>1.0</td>\n",
       "      <td>0.000109</td>\n",
       "      <td>0.008497</td>\n",
       "      <td>False</td>\n",
       "      <td>69.404833</td>\n",
       "      <td>inf</td>\n",
       "      <td>0.000000</td>\n",
       "    </tr>\n",
       "    <tr>\n",
       "      <th>AL669831.2</th>\n",
       "      <td>1.0</td>\n",
       "      <td>0.000102</td>\n",
       "      <td>0.007956</td>\n",
       "      <td>False</td>\n",
       "      <td>69.404841</td>\n",
       "      <td>inf</td>\n",
       "      <td>0.000000</td>\n",
       "    </tr>\n",
       "    <tr>\n",
       "      <th>AL669831.5</th>\n",
       "      <td>224.0</td>\n",
       "      <td>0.023426</td>\n",
       "      <td>0.130934</td>\n",
       "      <td>False</td>\n",
       "      <td>4.018067</td>\n",
       "      <td>10.535177</td>\n",
       "      <td>-1.332801</td>\n",
       "    </tr>\n",
       "    <tr>\n",
       "      <th>FAM87B</th>\n",
       "      <td>9.0</td>\n",
       "      <td>0.000990</td>\n",
       "      <td>0.025885</td>\n",
       "      <td>False</td>\n",
       "      <td>21.619077</td>\n",
       "      <td>29.597366</td>\n",
       "      <td>-1.338369</td>\n",
       "    </tr>\n",
       "    <tr>\n",
       "      <th>...</th>\n",
       "      <td>...</td>\n",
       "      <td>...</td>\n",
       "      <td>...</td>\n",
       "      <td>...</td>\n",
       "      <td>...</td>\n",
       "      <td>...</td>\n",
       "      <td>...</td>\n",
       "    </tr>\n",
       "    <tr>\n",
       "      <th>AL354822.1</th>\n",
       "      <td>55.0</td>\n",
       "      <td>0.005649</td>\n",
       "      <td>0.066733</td>\n",
       "      <td>False</td>\n",
       "      <td>11.567356</td>\n",
       "      <td>19.030394</td>\n",
       "      <td>-1.077774</td>\n",
       "    </tr>\n",
       "    <tr>\n",
       "      <th>AC004556.1</th>\n",
       "      <td>82.0</td>\n",
       "      <td>0.008593</td>\n",
       "      <td>0.079329</td>\n",
       "      <td>False</td>\n",
       "      <td>8.693710</td>\n",
       "      <td>15.814707</td>\n",
       "      <td>-0.567770</td>\n",
       "    </tr>\n",
       "    <tr>\n",
       "      <th>AC233755.2</th>\n",
       "      <td>7.0</td>\n",
       "      <td>0.000687</td>\n",
       "      <td>0.025114</td>\n",
       "      <td>False</td>\n",
       "      <td>43.467261</td>\n",
       "      <td>inf</td>\n",
       "      <td>0.000000</td>\n",
       "    </tr>\n",
       "    <tr>\n",
       "      <th>AC233755.1</th>\n",
       "      <td>8.0</td>\n",
       "      <td>0.000836</td>\n",
       "      <td>0.023175</td>\n",
       "      <td>False</td>\n",
       "      <td>24.396519</td>\n",
       "      <td>33.062468</td>\n",
       "      <td>1.767724</td>\n",
       "    </tr>\n",
       "    <tr>\n",
       "      <th>AC240274.1</th>\n",
       "      <td>50.0</td>\n",
       "      <td>0.005187</td>\n",
       "      <td>0.062469</td>\n",
       "      <td>False</td>\n",
       "      <td>12.820969</td>\n",
       "      <td>20.373820</td>\n",
       "      <td>0.045154</td>\n",
       "    </tr>\n",
       "  </tbody>\n",
       "</table>\n",
       "<p>23553 rows × 7 columns</p>\n",
       "</div>"
      ],
      "text/plain": [
       "            n_counts      mean       std  highly_variable      means  \\\n",
       "AL627309.1       7.0  0.000758  0.022492            False  26.010652   \n",
       "AL627309.3       1.0  0.000109  0.008497            False  69.404833   \n",
       "AL669831.2       1.0  0.000102  0.007956            False  69.404841   \n",
       "AL669831.5     224.0  0.023426  0.130934            False   4.018067   \n",
       "FAM87B           9.0  0.000990  0.025885            False  21.619077   \n",
       "...              ...       ...       ...              ...        ...   \n",
       "AL354822.1      55.0  0.005649  0.066733            False  11.567356   \n",
       "AC004556.1      82.0  0.008593  0.079329            False   8.693710   \n",
       "AC233755.2       7.0  0.000687  0.025114            False  43.467261   \n",
       "AC233755.1       8.0  0.000836  0.023175            False  24.396519   \n",
       "AC240274.1      50.0  0.005187  0.062469            False  12.820969   \n",
       "\n",
       "            dispersions  dispersions_norm  \n",
       "AL627309.1    34.024710         -0.462540  \n",
       "AL627309.3          inf          0.000000  \n",
       "AL669831.2          inf          0.000000  \n",
       "AL669831.5    10.535177         -1.332801  \n",
       "FAM87B        29.597366         -1.338369  \n",
       "...                 ...               ...  \n",
       "AL354822.1    19.030394         -1.077774  \n",
       "AC004556.1    15.814707         -0.567770  \n",
       "AC233755.2          inf          0.000000  \n",
       "AC233755.1    33.062468          1.767724  \n",
       "AC240274.1    20.373820          0.045154  \n",
       "\n",
       "[23553 rows x 7 columns]"
      ]
     },
     "execution_count": 141,
     "metadata": {},
     "output_type": "execute_result"
    }
   ],
   "source": [
    "b.var"
   ]
  },
  {
   "cell_type": "code",
   "execution_count": 142,
   "id": "b0ac1892",
   "metadata": {},
   "outputs": [
    {
     "data": {
      "text/plain": [
       "View of AnnData object with n_obs × n_vars = 6105 × 11053\n",
       "    obs: 'cell_type', 'barcode', 'sample'"
      ]
     },
     "execution_count": 142,
     "metadata": {},
     "output_type": "execute_result"
    }
   ],
   "source": [
    "b = b[:, ~np.isinf(b.var['dispersions'])]\n",
    "b = b[:, b.var['mean']>.0125]\n",
    "# b = b[:, b.var['highly_variable']]\n",
    "genes = b.var.index.to_list()\n",
    "genes = [g for g in genes if 'MT-' not in g]\n",
    "a = a[:, genes]\n",
    "b = b[:, genes]\n",
    "\n",
    "a"
   ]
  },
  {
   "cell_type": "code",
   "execution_count": 143,
   "id": "2b3b445c",
   "metadata": {},
   "outputs": [
    {
     "data": {
      "text/plain": [
       "View of AnnData object with n_obs × n_vars = 6105 × 11053\n",
       "    obs: 'cell_type', 'barcode', 'sample', 'n_counts', 'size_factors'\n",
       "    var: 'n_counts', 'mean', 'std', 'highly_variable', 'means', 'dispersions', 'dispersions_norm'\n",
       "    uns: 'log1p', 'hvg'"
      ]
     },
     "execution_count": 143,
     "metadata": {},
     "output_type": "execute_result"
    }
   ],
   "source": [
    "b"
   ]
  },
  {
   "cell_type": "code",
   "execution_count": 144,
   "id": "87b86507",
   "metadata": {},
   "outputs": [
    {
     "data": {
      "text/html": [
       "<div>\n",
       "<style scoped>\n",
       "    .dataframe tbody tr th:only-of-type {\n",
       "        vertical-align: middle;\n",
       "    }\n",
       "\n",
       "    .dataframe tbody tr th {\n",
       "        vertical-align: top;\n",
       "    }\n",
       "\n",
       "    .dataframe thead th {\n",
       "        text-align: right;\n",
       "    }\n",
       "</style>\n",
       "<table border=\"1\" class=\"dataframe\">\n",
       "  <thead>\n",
       "    <tr style=\"text-align: right;\">\n",
       "      <th></th>\n",
       "      <th>n_counts</th>\n",
       "      <th>mean</th>\n",
       "      <th>std</th>\n",
       "      <th>highly_variable</th>\n",
       "      <th>means</th>\n",
       "      <th>dispersions</th>\n",
       "      <th>dispersions_norm</th>\n",
       "    </tr>\n",
       "  </thead>\n",
       "  <tbody>\n",
       "    <tr>\n",
       "      <th>AL669831.5</th>\n",
       "      <td>224.0</td>\n",
       "      <td>0.023426</td>\n",
       "      <td>0.130934</td>\n",
       "      <td>False</td>\n",
       "      <td>4.018067</td>\n",
       "      <td>10.535177</td>\n",
       "      <td>-1.332801</td>\n",
       "    </tr>\n",
       "    <tr>\n",
       "      <th>NOC2L</th>\n",
       "      <td>649.0</td>\n",
       "      <td>0.067074</td>\n",
       "      <td>0.221724</td>\n",
       "      <td>False</td>\n",
       "      <td>1.554913</td>\n",
       "      <td>5.951852</td>\n",
       "      <td>-0.102357</td>\n",
       "    </tr>\n",
       "    <tr>\n",
       "      <th>HES4</th>\n",
       "      <td>1211.0</td>\n",
       "      <td>0.111263</td>\n",
       "      <td>0.308411</td>\n",
       "      <td>False</td>\n",
       "      <td>1.227962</td>\n",
       "      <td>4.928445</td>\n",
       "      <td>-0.526013</td>\n",
       "    </tr>\n",
       "    <tr>\n",
       "      <th>ISG15</th>\n",
       "      <td>25626.0</td>\n",
       "      <td>1.064076</td>\n",
       "      <td>1.021124</td>\n",
       "      <td>False</td>\n",
       "      <td>0.558111</td>\n",
       "      <td>1.946578</td>\n",
       "      <td>-1.760406</td>\n",
       "    </tr>\n",
       "    <tr>\n",
       "      <th>AGRN</th>\n",
       "      <td>475.0</td>\n",
       "      <td>0.045698</td>\n",
       "      <td>0.191814</td>\n",
       "      <td>True</td>\n",
       "      <td>2.675765</td>\n",
       "      <td>8.774713</td>\n",
       "      <td>1.066213</td>\n",
       "    </tr>\n",
       "    <tr>\n",
       "      <th>...</th>\n",
       "      <td>...</td>\n",
       "      <td>...</td>\n",
       "      <td>...</td>\n",
       "      <td>...</td>\n",
       "      <td>...</td>\n",
       "      <td>...</td>\n",
       "      <td>...</td>\n",
       "    </tr>\n",
       "    <tr>\n",
       "      <th>PCNT</th>\n",
       "      <td>414.0</td>\n",
       "      <td>0.042104</td>\n",
       "      <td>0.174419</td>\n",
       "      <td>False</td>\n",
       "      <td>3.477820</td>\n",
       "      <td>11.394949</td>\n",
       "      <td>2.150902</td>\n",
       "    </tr>\n",
       "    <tr>\n",
       "      <th>DIP2A</th>\n",
       "      <td>798.0</td>\n",
       "      <td>0.081328</td>\n",
       "      <td>0.245577</td>\n",
       "      <td>False</td>\n",
       "      <td>1.562177</td>\n",
       "      <td>6.890262</td>\n",
       "      <td>0.286113</td>\n",
       "    </tr>\n",
       "    <tr>\n",
       "      <th>S100B</th>\n",
       "      <td>779.0</td>\n",
       "      <td>0.021559</td>\n",
       "      <td>0.209458</td>\n",
       "      <td>False</td>\n",
       "      <td>14.135396</td>\n",
       "      <td>21.934334</td>\n",
       "      <td>1.349538</td>\n",
       "    </tr>\n",
       "    <tr>\n",
       "      <th>PRMT2</th>\n",
       "      <td>2397.0</td>\n",
       "      <td>0.233996</td>\n",
       "      <td>0.397049</td>\n",
       "      <td>False</td>\n",
       "      <td>0.733797</td>\n",
       "      <td>2.861906</td>\n",
       "      <td>-1.381491</td>\n",
       "    </tr>\n",
       "    <tr>\n",
       "      <th>AL592183.1</th>\n",
       "      <td>140.0</td>\n",
       "      <td>0.014937</td>\n",
       "      <td>0.103911</td>\n",
       "      <td>False</td>\n",
       "      <td>6.129452</td>\n",
       "      <td>13.975782</td>\n",
       "      <td>1.100248</td>\n",
       "    </tr>\n",
       "  </tbody>\n",
       "</table>\n",
       "<p>11053 rows × 7 columns</p>\n",
       "</div>"
      ],
      "text/plain": [
       "            n_counts      mean       std  highly_variable      means  \\\n",
       "AL669831.5     224.0  0.023426  0.130934            False   4.018067   \n",
       "NOC2L          649.0  0.067074  0.221724            False   1.554913   \n",
       "HES4          1211.0  0.111263  0.308411            False   1.227962   \n",
       "ISG15        25626.0  1.064076  1.021124            False   0.558111   \n",
       "AGRN           475.0  0.045698  0.191814             True   2.675765   \n",
       "...              ...       ...       ...              ...        ...   \n",
       "PCNT           414.0  0.042104  0.174419            False   3.477820   \n",
       "DIP2A          798.0  0.081328  0.245577            False   1.562177   \n",
       "S100B          779.0  0.021559  0.209458            False  14.135396   \n",
       "PRMT2         2397.0  0.233996  0.397049            False   0.733797   \n",
       "AL592183.1     140.0  0.014937  0.103911            False   6.129452   \n",
       "\n",
       "            dispersions  dispersions_norm  \n",
       "AL669831.5    10.535177         -1.332801  \n",
       "NOC2L          5.951852         -0.102357  \n",
       "HES4           4.928445         -0.526013  \n",
       "ISG15          1.946578         -1.760406  \n",
       "AGRN           8.774713          1.066213  \n",
       "...                 ...               ...  \n",
       "PCNT          11.394949          2.150902  \n",
       "DIP2A          6.890262          0.286113  \n",
       "S100B         21.934334          1.349538  \n",
       "PRMT2          2.861906         -1.381491  \n",
       "AL592183.1    13.975782          1.100248  \n",
       "\n",
       "[11053 rows x 7 columns]"
      ]
     },
     "execution_count": 144,
     "metadata": {},
     "output_type": "execute_result"
    }
   ],
   "source": [
    "b.var"
   ]
  },
  {
   "cell_type": "code",
   "execution_count": 145,
   "id": "2d590208",
   "metadata": {},
   "outputs": [
    {
     "data": {
      "text/plain": [
       "<AxesSubplot:xlabel='dispersions_norm', ylabel='Count'>"
      ]
     },
     "execution_count": 145,
     "metadata": {},
     "output_type": "execute_result"
    },
    {
     "data": {
      "image/png": "[encoded data removed]",
      "text/plain": [
       "<Figure size 432x288 with 1 Axes>"
      ]
     },
     "metadata": {
      "needs_background": "light"
     },
     "output_type": "display_data"
    }
   ],
   "source": [
    "sns.histplot(b.var['dispersions_norm'])"
   ]
  },
  {
   "cell_type": "code",
   "execution_count": 146,
   "id": "9e31992e",
   "metadata": {},
   "outputs": [
    {
     "data": {
      "text/plain": [
       "<AxesSubplot:xlabel='dispersions', ylabel='Count'>"
      ]
     },
     "execution_count": 146,
     "metadata": {},
     "output_type": "execute_result"
    },
    {
     "data": {
      "image/png": "[encoded data removed]",
      "text/plain": [
       "<Figure size 432x288 with 1 Axes>"
      ]
     },
     "metadata": {
      "needs_background": "light"
     },
     "output_type": "display_data"
    }
   ],
   "source": [
    "sns.histplot(b.var['dispersions'])"
   ]
  },
  {
   "cell_type": "code",
   "execution_count": 147,
   "id": "971a60d8",
   "metadata": {},
   "outputs": [
    {
     "data": {
      "text/plain": [
       "<AxesSubplot:xlabel='means', ylabel='Count'>"
      ]
     },
     "execution_count": 147,
     "metadata": {},
     "output_type": "execute_result"
    },
    {
     "data": {
      "image/png": "[encoded data removed]",
      "text/plain": [
       "<Figure size 432x288 with 1 Axes>"
      ]
     },
     "metadata": {
      "needs_background": "light"
     },
     "output_type": "display_data"
    }
   ],
   "source": [
    "sns.histplot(b.var['means'])"
   ]
  },
  {
   "cell_type": "code",
   "execution_count": 148,
   "id": "f9d8ef06",
   "metadata": {},
   "outputs": [
    {
     "data": {
      "text/html": [
       "<div>\n",
       "<style scoped>\n",
       "    .dataframe tbody tr th:only-of-type {\n",
       "        vertical-align: middle;\n",
       "    }\n",
       "\n",
       "    .dataframe tbody tr th {\n",
       "        vertical-align: top;\n",
       "    }\n",
       "\n",
       "    .dataframe thead th {\n",
       "        text-align: right;\n",
       "    }\n",
       "</style>\n",
       "<table border=\"1\" class=\"dataframe\">\n",
       "  <thead>\n",
       "    <tr style=\"text-align: right;\">\n",
       "      <th></th>\n",
       "    </tr>\n",
       "  </thead>\n",
       "  <tbody>\n",
       "    <tr>\n",
       "      <th>AL669831.5</th>\n",
       "    </tr>\n",
       "    <tr>\n",
       "      <th>NOC2L</th>\n",
       "    </tr>\n",
       "    <tr>\n",
       "      <th>HES4</th>\n",
       "    </tr>\n",
       "    <tr>\n",
       "      <th>ISG15</th>\n",
       "    </tr>\n",
       "    <tr>\n",
       "      <th>AGRN</th>\n",
       "    </tr>\n",
       "    <tr>\n",
       "      <th>...</th>\n",
       "    </tr>\n",
       "    <tr>\n",
       "      <th>PCNT</th>\n",
       "    </tr>\n",
       "    <tr>\n",
       "      <th>DIP2A</th>\n",
       "    </tr>\n",
       "    <tr>\n",
       "      <th>S100B</th>\n",
       "    </tr>\n",
       "    <tr>\n",
       "      <th>PRMT2</th>\n",
       "    </tr>\n",
       "    <tr>\n",
       "      <th>AL592183.1</th>\n",
       "    </tr>\n",
       "  </tbody>\n",
       "</table>\n",
       "<p>11053 rows × 0 columns</p>\n",
       "</div>"
      ],
      "text/plain": [
       "Empty DataFrameView\n",
       "Columns: []\n",
       "Index: [AL669831.5, NOC2L, HES4, ISG15, AGRN, TNFRSF18, TNFRSF4, SDF4, B3GALT6, UBE2J2, ACAP3, PUSL1, INTS11, CPTP, DVL1, MXRA8, AURKAIP1, CCNL2, MRPL20, VWA1, ATAD3B, ATAD3A, SSU72, AL645728.1, MIB2, MMP23B, CDK11B, SLC35E2B, CDK11A, SLC35E2A, NADK, GNB1, PRKCZ, FAAP20, SKI, RER1, PEX10, PANK4, AL139246.5, TNFRSF14-AS1, TNFRSF14, FAM213B, TPRG1L, WRAP73, SMIM1, LRRC47, CEP104, C1orf174, KCNAB2, RPL22, ICMT, ACOT7, TNFRSF25, NOL9, ZBTB48, KLHL21, PHF13, THAP3, DNAJC11, CAMTA1, VAMP3, PER3, TNFRSF9, PARK7, ERRFI1, RERE, ENO1, GPR157, H6PD, SPSB1, SLC25A33, PIK3CD, CLSTN1, CTNNBIP1, LZIC, RBP7, UBE4B, KIF1B, PGD, DFFA, PEX14, CASZ1, TARDBP, SRM, EXOSC10, MTOR, UBIAD1, FBXO2, FBXO44, FBXO6, MAD2L2, AGTRAP, MTHFR, CLCN6, KIAA2013, PLOD1, MFN2, MIIP, TNFRSF1B, VPS13D, ...]\n",
       "\n",
       "[11053 rows x 0 columns]"
      ]
     },
     "execution_count": 148,
     "metadata": {},
     "output_type": "execute_result"
    }
   ],
   "source": [
    "a.var"
   ]
  },
  {
   "cell_type": "code",
   "execution_count": 168,
   "id": "587a3a72",
   "metadata": {},
   "outputs": [
    {
     "data": {
      "text/html": [
       "<div>\n",
       "<style scoped>\n",
       "    .dataframe tbody tr th:only-of-type {\n",
       "        vertical-align: middle;\n",
       "    }\n",
       "\n",
       "    .dataframe tbody tr th {\n",
       "        vertical-align: top;\n",
       "    }\n",
       "\n",
       "    .dataframe thead th {\n",
       "        text-align: right;\n",
       "    }\n",
       "</style>\n",
       "<table border=\"1\" class=\"dataframe\">\n",
       "  <thead>\n",
       "    <tr style=\"text-align: right;\">\n",
       "      <th></th>\n",
       "      <th>cell_type</th>\n",
       "      <th>barcode</th>\n",
       "      <th>sample</th>\n",
       "    </tr>\n",
       "  </thead>\n",
       "  <tbody>\n",
       "    <tr>\n",
       "      <th>0_AAATGGAAGAGTGGCT-1</th>\n",
       "      <td>CD8 T cell</td>\n",
       "      <td>AAATGGAAGAGTGGCT-1</td>\n",
       "      <td>0</td>\n",
       "    </tr>\n",
       "    <tr>\n",
       "      <th>0_AACTTCTAGATGTTCC-1</th>\n",
       "      <td>CD8 T cell</td>\n",
       "      <td>AACTTCTAGATGTTCC-1</td>\n",
       "      <td>0</td>\n",
       "    </tr>\n",
       "    <tr>\n",
       "      <th>0_AAGACTCCAAGACGAC-1</th>\n",
       "      <td>CD8 T cell</td>\n",
       "      <td>AAGACTCCAAGACGAC-1</td>\n",
       "      <td>0</td>\n",
       "    </tr>\n",
       "    <tr>\n",
       "      <th>0_AAGCGTTCAGTGAGCA-1</th>\n",
       "      <td>Fibroblast</td>\n",
       "      <td>AAGCGTTCAGTGAGCA-1</td>\n",
       "      <td>0</td>\n",
       "    </tr>\n",
       "    <tr>\n",
       "      <th>0_AAGTCGTCACAGAGAC-1</th>\n",
       "      <td>NK</td>\n",
       "      <td>AAGTCGTCACAGAGAC-1</td>\n",
       "      <td>0</td>\n",
       "    </tr>\n",
       "    <tr>\n",
       "      <th>...</th>\n",
       "      <td>...</td>\n",
       "      <td>...</td>\n",
       "      <td>...</td>\n",
       "    </tr>\n",
       "    <tr>\n",
       "      <th>29_TTGTTGTGTAGGTTTC-1</th>\n",
       "      <td>Monocyte</td>\n",
       "      <td>TTGTTGTGTAGGTTTC-1</td>\n",
       "      <td>29</td>\n",
       "    </tr>\n",
       "    <tr>\n",
       "      <th>29_TTGTTTGAGCCGAATG-1</th>\n",
       "      <td>CD4 T cell</td>\n",
       "      <td>TTGTTTGAGCCGAATG-1</td>\n",
       "      <td>29</td>\n",
       "    </tr>\n",
       "    <tr>\n",
       "      <th>29_TTTACTGAGTAACAGT-1</th>\n",
       "      <td>Treg</td>\n",
       "      <td>TTTACTGAGTAACAGT-1</td>\n",
       "      <td>29</td>\n",
       "    </tr>\n",
       "    <tr>\n",
       "      <th>29_TTTCAGTTCACGTCCT-1</th>\n",
       "      <td>NK</td>\n",
       "      <td>TTTCAGTTCACGTCCT-1</td>\n",
       "      <td>29</td>\n",
       "    </tr>\n",
       "    <tr>\n",
       "      <th>29_TTTGATCCACGCTGCA-1</th>\n",
       "      <td>Monocyte</td>\n",
       "      <td>TTTGATCCACGCTGCA-1</td>\n",
       "      <td>29</td>\n",
       "    </tr>\n",
       "  </tbody>\n",
       "</table>\n",
       "<p>6105 rows × 3 columns</p>\n",
       "</div>"
      ],
      "text/plain": [
       "                        cell_type             barcode  sample\n",
       "0_AAATGGAAGAGTGGCT-1   CD8 T cell  AAATGGAAGAGTGGCT-1       0\n",
       "0_AACTTCTAGATGTTCC-1   CD8 T cell  AACTTCTAGATGTTCC-1       0\n",
       "0_AAGACTCCAAGACGAC-1   CD8 T cell  AAGACTCCAAGACGAC-1       0\n",
       "0_AAGCGTTCAGTGAGCA-1   Fibroblast  AAGCGTTCAGTGAGCA-1       0\n",
       "0_AAGTCGTCACAGAGAC-1           NK  AAGTCGTCACAGAGAC-1       0\n",
       "...                           ...                 ...     ...\n",
       "29_TTGTTGTGTAGGTTTC-1    Monocyte  TTGTTGTGTAGGTTTC-1      29\n",
       "29_TTGTTTGAGCCGAATG-1  CD4 T cell  TTGTTTGAGCCGAATG-1      29\n",
       "29_TTTACTGAGTAACAGT-1        Treg  TTTACTGAGTAACAGT-1      29\n",
       "29_TTTCAGTTCACGTCCT-1          NK  TTTCAGTTCACGTCCT-1      29\n",
       "29_TTTGATCCACGCTGCA-1    Monocyte  TTTGATCCACGCTGCA-1      29\n",
       "\n",
       "[6105 rows x 3 columns]"
      ]
     },
     "execution_count": 168,
     "metadata": {},
     "output_type": "execute_result"
    }
   ],
   "source": [
    "a.obs"
   ]
  },
  {
   "cell_type": "code",
   "execution_count": 169,
   "id": "09777f8f",
   "metadata": {},
   "outputs": [],
   "source": [
    "a.obs.index = ['sample_' + x for x in a.obs.index]"
   ]
  },
  {
   "cell_type": "code",
   "execution_count": 85,
   "id": "7ef6c094",
   "metadata": {},
   "outputs": [],
   "source": [
    "a.write_h5ad('/data/sandbox/test.h5ad')"
   ]
  },
  {
   "cell_type": "code",
   "execution_count": 170,
   "id": "6fb561fc",
   "metadata": {},
   "outputs": [
    {
     "name": "stderr",
     "output_type": "stream",
     "text": [
      "Attaching SeuratObject\n",
      "Registered S3 method overwritten by 'cli':\n",
      "  method     from         \n",
      "  print.boxx spatstat.geom\n",
      "Registered S3 method overwritten by 'SeuratDisk':\n",
      "  method            from  \n",
      "  as.sparse.H5Group Seurat\n",
      "Warning: Unknown file type: h5ad\n",
      "Warning: 'assay' not set, setting to 'RNA'\n",
      "Creating h5Seurat file for version 3.1.5.9900\n",
      "Adding X as data\n",
      "Adding X as counts\n",
      "Adding meta.features from var\n",
      "Validating h5Seurat file\n",
      "Initializing RNA with data\n",
      "Adding counts for RNA\n",
      "Adding feature-level metadata for RNA\n",
      "Adding command information\n",
      "Adding cell-level metadata\n",
      "Adding miscellaneous information\n",
      "Adding tool-specific results\n"
     ]
    }
   ],
   "source": [
    "save_rds(a, '/data/sandbox/test.rds')"
   ]
  },
  {
   "cell_type": "code",
   "execution_count": 167,
   "id": "08e515ae",
   "metadata": {},
   "outputs": [],
   "source": [
    "from pollock.utils import convert_rds"
   ]
  },
  {
   "cell_type": "code",
   "execution_count": null,
   "id": "93b9c506",
   "metadata": {},
   "outputs": [],
   "source": []
  },
  {
   "cell_type": "code",
   "execution_count": 115,
   "id": "b9029e0e",
   "metadata": {},
   "outputs": [],
   "source": [
    "sc.pp.pca(b)"
   ]
  },
  {
   "cell_type": "code",
   "execution_count": 116,
   "id": "51d38653",
   "metadata": {},
   "outputs": [
    {
     "data": {
      "image/png": "[encoded data removed]",
      "text/plain": [
       "<Figure size 432x288 with 1 Axes>"
      ]
     },
     "metadata": {},
     "output_type": "display_data"
    }
   ],
   "source": [
    "sc.pl.pca(b)"
   ]
  },
  {
   "cell_type": "code",
   "execution_count": null,
   "id": "d365e16f",
   "metadata": {},
   "outputs": [],
   "source": []
  },
  {
   "cell_type": "code",
   "execution_count": 198,
   "id": "f5f1dedb",
   "metadata": {},
   "outputs": [
    {
     "data": {
      "text/html": [
       "<div>\n",
       "<style scoped>\n",
       "    .dataframe tbody tr th:only-of-type {\n",
       "        vertical-align: middle;\n",
       "    }\n",
       "\n",
       "    .dataframe tbody tr th {\n",
       "        vertical-align: top;\n",
       "    }\n",
       "\n",
       "    .dataframe thead th {\n",
       "        text-align: right;\n",
       "    }\n",
       "</style>\n",
       "<table border=\"1\" class=\"dataframe\">\n",
       "  <thead>\n",
       "    <tr style=\"text-align: right;\">\n",
       "      <th></th>\n",
       "      <th>sample_0_AAATGGAAGAGTGGCT-1</th>\n",
       "      <th>sample_0_AACTTCTAGATGTTCC-1</th>\n",
       "      <th>sample_0_AAGACTCCAAGACGAC-1</th>\n",
       "      <th>sample_0_AAGCGTTCAGTGAGCA-1</th>\n",
       "      <th>sample_0_AAGTCGTCACAGAGAC-1</th>\n",
       "      <th>sample_0_AATAGAGTCAACACCA-1</th>\n",
       "      <th>sample_0_ACACCAATCTGGGCAC-1</th>\n",
       "      <th>sample_0_ACATTTCAGAGCGACT-1</th>\n",
       "      <th>sample_0_ACATTTCCACCAGACC-1</th>\n",
       "      <th>sample_0_ACGTACATCGCGTGAC-1</th>\n",
       "      <th>...</th>\n",
       "      <th>sample_29_TTGAGTGAGTAAATGC-1</th>\n",
       "      <th>sample_29_TTGATGGAGTAGCAAT-1</th>\n",
       "      <th>sample_29_TTGATGGTCTCTTCAA-1</th>\n",
       "      <th>sample_29_TTGCCTGCAGACAAAT-1</th>\n",
       "      <th>sample_29_TTGGGCGCACATGTTG-1</th>\n",
       "      <th>sample_29_TTGTTGTGTAGGTTTC-1</th>\n",
       "      <th>sample_29_TTGTTTGAGCCGAATG-1</th>\n",
       "      <th>sample_29_TTTACTGAGTAACAGT-1</th>\n",
       "      <th>sample_29_TTTCAGTTCACGTCCT-1</th>\n",
       "      <th>sample_29_TTTGATCCACGCTGCA-1</th>\n",
       "    </tr>\n",
       "  </thead>\n",
       "  <tbody>\n",
       "    <tr>\n",
       "      <th>IGKC</th>\n",
       "      <td>-0.881846</td>\n",
       "      <td>-0.220003</td>\n",
       "      <td>-0.325915</td>\n",
       "      <td>-0.881846</td>\n",
       "      <td>-0.881846</td>\n",
       "      <td>-0.881846</td>\n",
       "      <td>-0.881846</td>\n",
       "      <td>-0.881846</td>\n",
       "      <td>-0.881846</td>\n",
       "      <td>-0.881846</td>\n",
       "      <td>...</td>\n",
       "      <td>-0.881846</td>\n",
       "      <td>-0.881846</td>\n",
       "      <td>-0.021119</td>\n",
       "      <td>-0.270150</td>\n",
       "      <td>-0.264990</td>\n",
       "      <td>-0.881846</td>\n",
       "      <td>0.317732</td>\n",
       "      <td>-0.221701</td>\n",
       "      <td>-0.881846</td>\n",
       "      <td>-0.881846</td>\n",
       "    </tr>\n",
       "    <tr>\n",
       "      <th>IGLC2</th>\n",
       "      <td>-0.598258</td>\n",
       "      <td>-0.598258</td>\n",
       "      <td>-0.598258</td>\n",
       "      <td>-0.598258</td>\n",
       "      <td>-0.598258</td>\n",
       "      <td>-0.598258</td>\n",
       "      <td>-0.598258</td>\n",
       "      <td>-0.598258</td>\n",
       "      <td>-0.598258</td>\n",
       "      <td>-0.598258</td>\n",
       "      <td>...</td>\n",
       "      <td>-0.598258</td>\n",
       "      <td>0.265312</td>\n",
       "      <td>-0.598258</td>\n",
       "      <td>-0.598258</td>\n",
       "      <td>-0.598258</td>\n",
       "      <td>-0.598258</td>\n",
       "      <td>-0.598258</td>\n",
       "      <td>-0.598258</td>\n",
       "      <td>0.236471</td>\n",
       "      <td>-0.598258</td>\n",
       "    </tr>\n",
       "    <tr>\n",
       "      <th>IGHG3</th>\n",
       "      <td>-0.422776</td>\n",
       "      <td>-0.422776</td>\n",
       "      <td>-0.422776</td>\n",
       "      <td>-0.422776</td>\n",
       "      <td>-0.422776</td>\n",
       "      <td>-0.422776</td>\n",
       "      <td>-0.422776</td>\n",
       "      <td>-0.422776</td>\n",
       "      <td>-0.422776</td>\n",
       "      <td>-0.422776</td>\n",
       "      <td>...</td>\n",
       "      <td>-0.422776</td>\n",
       "      <td>-0.422776</td>\n",
       "      <td>-0.422776</td>\n",
       "      <td>-0.422776</td>\n",
       "      <td>-0.422776</td>\n",
       "      <td>-0.422776</td>\n",
       "      <td>-0.422776</td>\n",
       "      <td>-0.422776</td>\n",
       "      <td>-0.422776</td>\n",
       "      <td>-0.422776</td>\n",
       "    </tr>\n",
       "    <tr>\n",
       "      <th>IGHA1</th>\n",
       "      <td>-0.394881</td>\n",
       "      <td>-0.394881</td>\n",
       "      <td>-0.394881</td>\n",
       "      <td>-0.394881</td>\n",
       "      <td>-0.394881</td>\n",
       "      <td>-0.394881</td>\n",
       "      <td>-0.394881</td>\n",
       "      <td>-0.394881</td>\n",
       "      <td>-0.394881</td>\n",
       "      <td>-0.394881</td>\n",
       "      <td>...</td>\n",
       "      <td>-0.394881</td>\n",
       "      <td>-0.394881</td>\n",
       "      <td>-0.394881</td>\n",
       "      <td>-0.394881</td>\n",
       "      <td>-0.394881</td>\n",
       "      <td>-0.394881</td>\n",
       "      <td>-0.394881</td>\n",
       "      <td>-0.394881</td>\n",
       "      <td>-0.394881</td>\n",
       "      <td>-0.394881</td>\n",
       "    </tr>\n",
       "    <tr>\n",
       "      <th>IGHG1</th>\n",
       "      <td>-0.485687</td>\n",
       "      <td>-0.485687</td>\n",
       "      <td>-0.485687</td>\n",
       "      <td>-0.485687</td>\n",
       "      <td>-0.485687</td>\n",
       "      <td>-0.485687</td>\n",
       "      <td>-0.485687</td>\n",
       "      <td>-0.485687</td>\n",
       "      <td>-0.485687</td>\n",
       "      <td>-0.485687</td>\n",
       "      <td>...</td>\n",
       "      <td>-0.485687</td>\n",
       "      <td>-0.485687</td>\n",
       "      <td>-0.485687</td>\n",
       "      <td>-0.485687</td>\n",
       "      <td>0.413304</td>\n",
       "      <td>-0.485687</td>\n",
       "      <td>-0.485687</td>\n",
       "      <td>-0.485687</td>\n",
       "      <td>-0.485687</td>\n",
       "      <td>-0.485687</td>\n",
       "    </tr>\n",
       "    <tr>\n",
       "      <th>...</th>\n",
       "      <td>...</td>\n",
       "      <td>...</td>\n",
       "      <td>...</td>\n",
       "      <td>...</td>\n",
       "      <td>...</td>\n",
       "      <td>...</td>\n",
       "      <td>...</td>\n",
       "      <td>...</td>\n",
       "      <td>...</td>\n",
       "      <td>...</td>\n",
       "      <td>...</td>\n",
       "      <td>...</td>\n",
       "      <td>...</td>\n",
       "      <td>...</td>\n",
       "      <td>...</td>\n",
       "      <td>...</td>\n",
       "      <td>...</td>\n",
       "      <td>...</td>\n",
       "      <td>...</td>\n",
       "      <td>...</td>\n",
       "      <td>...</td>\n",
       "    </tr>\n",
       "    <tr>\n",
       "      <th>CD96</th>\n",
       "      <td>-0.429051</td>\n",
       "      <td>-0.429051</td>\n",
       "      <td>1.552933</td>\n",
       "      <td>-0.429051</td>\n",
       "      <td>-0.429051</td>\n",
       "      <td>-0.429051</td>\n",
       "      <td>-0.429051</td>\n",
       "      <td>-0.429051</td>\n",
       "      <td>-0.429051</td>\n",
       "      <td>-0.429051</td>\n",
       "      <td>...</td>\n",
       "      <td>-0.429051</td>\n",
       "      <td>-0.429051</td>\n",
       "      <td>1.740009</td>\n",
       "      <td>3.656030</td>\n",
       "      <td>1.770140</td>\n",
       "      <td>-0.429051</td>\n",
       "      <td>1.907318</td>\n",
       "      <td>-0.429051</td>\n",
       "      <td>-0.429051</td>\n",
       "      <td>-0.429051</td>\n",
       "    </tr>\n",
       "    <tr>\n",
       "      <th>ARHGAP21</th>\n",
       "      <td>-0.302383</td>\n",
       "      <td>-0.302383</td>\n",
       "      <td>-0.302383</td>\n",
       "      <td>2.695363</td>\n",
       "      <td>-0.302383</td>\n",
       "      <td>2.576297</td>\n",
       "      <td>-0.302383</td>\n",
       "      <td>-0.302383</td>\n",
       "      <td>-0.302383</td>\n",
       "      <td>-0.302383</td>\n",
       "      <td>...</td>\n",
       "      <td>-0.302383</td>\n",
       "      <td>-0.302383</td>\n",
       "      <td>-0.302383</td>\n",
       "      <td>-0.302383</td>\n",
       "      <td>-0.302383</td>\n",
       "      <td>2.558702</td>\n",
       "      <td>-0.302383</td>\n",
       "      <td>-0.302383</td>\n",
       "      <td>-0.302383</td>\n",
       "      <td>-0.302383</td>\n",
       "    </tr>\n",
       "    <tr>\n",
       "      <th>TLR5</th>\n",
       "      <td>-0.130768</td>\n",
       "      <td>-0.130768</td>\n",
       "      <td>-0.130768</td>\n",
       "      <td>-0.130768</td>\n",
       "      <td>-0.130768</td>\n",
       "      <td>-0.130768</td>\n",
       "      <td>-0.130768</td>\n",
       "      <td>-0.130768</td>\n",
       "      <td>-0.130768</td>\n",
       "      <td>-0.130768</td>\n",
       "      <td>...</td>\n",
       "      <td>-0.130768</td>\n",
       "      <td>-0.130768</td>\n",
       "      <td>-0.130768</td>\n",
       "      <td>-0.130768</td>\n",
       "      <td>-0.130768</td>\n",
       "      <td>-0.130768</td>\n",
       "      <td>-0.130768</td>\n",
       "      <td>-0.130768</td>\n",
       "      <td>-0.130768</td>\n",
       "      <td>-0.130768</td>\n",
       "    </tr>\n",
       "    <tr>\n",
       "      <th>ME2</th>\n",
       "      <td>-0.382227</td>\n",
       "      <td>-0.382227</td>\n",
       "      <td>-0.382227</td>\n",
       "      <td>-0.382227</td>\n",
       "      <td>-0.382227</td>\n",
       "      <td>1.976443</td>\n",
       "      <td>2.073294</td>\n",
       "      <td>2.076476</td>\n",
       "      <td>-0.382227</td>\n",
       "      <td>-0.382227</td>\n",
       "      <td>...</td>\n",
       "      <td>-0.382227</td>\n",
       "      <td>2.479836</td>\n",
       "      <td>-0.382227</td>\n",
       "      <td>-0.382227</td>\n",
       "      <td>-0.382227</td>\n",
       "      <td>-0.382227</td>\n",
       "      <td>-0.382227</td>\n",
       "      <td>-0.382227</td>\n",
       "      <td>-0.382227</td>\n",
       "      <td>-0.382227</td>\n",
       "    </tr>\n",
       "    <tr>\n",
       "      <th>SIPA1L2</th>\n",
       "      <td>-0.221279</td>\n",
       "      <td>-0.221279</td>\n",
       "      <td>-0.221279</td>\n",
       "      <td>-0.221279</td>\n",
       "      <td>-0.221279</td>\n",
       "      <td>-0.221279</td>\n",
       "      <td>-0.221279</td>\n",
       "      <td>-0.221279</td>\n",
       "      <td>-0.221279</td>\n",
       "      <td>-0.221279</td>\n",
       "      <td>...</td>\n",
       "      <td>-0.221279</td>\n",
       "      <td>-0.221279</td>\n",
       "      <td>-0.221279</td>\n",
       "      <td>-0.221279</td>\n",
       "      <td>-0.221279</td>\n",
       "      <td>-0.221279</td>\n",
       "      <td>-0.221279</td>\n",
       "      <td>-0.221279</td>\n",
       "      <td>-0.221279</td>\n",
       "      <td>-0.221279</td>\n",
       "    </tr>\n",
       "  </tbody>\n",
       "</table>\n",
       "<p>2000 rows × 6091 columns</p>\n",
       "</div>"
      ],
      "text/plain": [
       "          sample_0_AAATGGAAGAGTGGCT-1  sample_0_AACTTCTAGATGTTCC-1  \\\n",
       "IGKC                        -0.881846                    -0.220003   \n",
       "IGLC2                       -0.598258                    -0.598258   \n",
       "IGHG3                       -0.422776                    -0.422776   \n",
       "IGHA1                       -0.394881                    -0.394881   \n",
       "IGHG1                       -0.485687                    -0.485687   \n",
       "...                               ...                          ...   \n",
       "CD96                        -0.429051                    -0.429051   \n",
       "ARHGAP21                    -0.302383                    -0.302383   \n",
       "TLR5                        -0.130768                    -0.130768   \n",
       "ME2                         -0.382227                    -0.382227   \n",
       "SIPA1L2                     -0.221279                    -0.221279   \n",
       "\n",
       "          sample_0_AAGACTCCAAGACGAC-1  sample_0_AAGCGTTCAGTGAGCA-1  \\\n",
       "IGKC                        -0.325915                    -0.881846   \n",
       "IGLC2                       -0.598258                    -0.598258   \n",
       "IGHG3                       -0.422776                    -0.422776   \n",
       "IGHA1                       -0.394881                    -0.394881   \n",
       "IGHG1                       -0.485687                    -0.485687   \n",
       "...                               ...                          ...   \n",
       "CD96                         1.552933                    -0.429051   \n",
       "ARHGAP21                    -0.302383                     2.695363   \n",
       "TLR5                        -0.130768                    -0.130768   \n",
       "ME2                         -0.382227                    -0.382227   \n",
       "SIPA1L2                     -0.221279                    -0.221279   \n",
       "\n",
       "          sample_0_AAGTCGTCACAGAGAC-1  sample_0_AATAGAGTCAACACCA-1  \\\n",
       "IGKC                        -0.881846                    -0.881846   \n",
       "IGLC2                       -0.598258                    -0.598258   \n",
       "IGHG3                       -0.422776                    -0.422776   \n",
       "IGHA1                       -0.394881                    -0.394881   \n",
       "IGHG1                       -0.485687                    -0.485687   \n",
       "...                               ...                          ...   \n",
       "CD96                        -0.429051                    -0.429051   \n",
       "ARHGAP21                    -0.302383                     2.576297   \n",
       "TLR5                        -0.130768                    -0.130768   \n",
       "ME2                         -0.382227                     1.976443   \n",
       "SIPA1L2                     -0.221279                    -0.221279   \n",
       "\n",
       "          sample_0_ACACCAATCTGGGCAC-1  sample_0_ACATTTCAGAGCGACT-1  \\\n",
       "IGKC                        -0.881846                    -0.881846   \n",
       "IGLC2                       -0.598258                    -0.598258   \n",
       "IGHG3                       -0.422776                    -0.422776   \n",
       "IGHA1                       -0.394881                    -0.394881   \n",
       "IGHG1                       -0.485687                    -0.485687   \n",
       "...                               ...                          ...   \n",
       "CD96                        -0.429051                    -0.429051   \n",
       "ARHGAP21                    -0.302383                    -0.302383   \n",
       "TLR5                        -0.130768                    -0.130768   \n",
       "ME2                          2.073294                     2.076476   \n",
       "SIPA1L2                     -0.221279                    -0.221279   \n",
       "\n",
       "          sample_0_ACATTTCCACCAGACC-1  sample_0_ACGTACATCGCGTGAC-1  ...  \\\n",
       "IGKC                        -0.881846                    -0.881846  ...   \n",
       "IGLC2                       -0.598258                    -0.598258  ...   \n",
       "IGHG3                       -0.422776                    -0.422776  ...   \n",
       "IGHA1                       -0.394881                    -0.394881  ...   \n",
       "IGHG1                       -0.485687                    -0.485687  ...   \n",
       "...                               ...                          ...  ...   \n",
       "CD96                        -0.429051                    -0.429051  ...   \n",
       "ARHGAP21                    -0.302383                    -0.302383  ...   \n",
       "TLR5                        -0.130768                    -0.130768  ...   \n",
       "ME2                         -0.382227                    -0.382227  ...   \n",
       "SIPA1L2                     -0.221279                    -0.221279  ...   \n",
       "\n",
       "          sample_29_TTGAGTGAGTAAATGC-1  sample_29_TTGATGGAGTAGCAAT-1  \\\n",
       "IGKC                         -0.881846                     -0.881846   \n",
       "IGLC2                        -0.598258                      0.265312   \n",
       "IGHG3                        -0.422776                     -0.422776   \n",
       "IGHA1                        -0.394881                     -0.394881   \n",
       "IGHG1                        -0.485687                     -0.485687   \n",
       "...                                ...                           ...   \n",
       "CD96                         -0.429051                     -0.429051   \n",
       "ARHGAP21                     -0.302383                     -0.302383   \n",
       "TLR5                         -0.130768                     -0.130768   \n",
       "ME2                          -0.382227                      2.479836   \n",
       "SIPA1L2                      -0.221279                     -0.221279   \n",
       "\n",
       "          sample_29_TTGATGGTCTCTTCAA-1  sample_29_TTGCCTGCAGACAAAT-1  \\\n",
       "IGKC                         -0.021119                     -0.270150   \n",
       "IGLC2                        -0.598258                     -0.598258   \n",
       "IGHG3                        -0.422776                     -0.422776   \n",
       "IGHA1                        -0.394881                     -0.394881   \n",
       "IGHG1                        -0.485687                     -0.485687   \n",
       "...                                ...                           ...   \n",
       "CD96                          1.740009                      3.656030   \n",
       "ARHGAP21                     -0.302383                     -0.302383   \n",
       "TLR5                         -0.130768                     -0.130768   \n",
       "ME2                          -0.382227                     -0.382227   \n",
       "SIPA1L2                      -0.221279                     -0.221279   \n",
       "\n",
       "          sample_29_TTGGGCGCACATGTTG-1  sample_29_TTGTTGTGTAGGTTTC-1  \\\n",
       "IGKC                         -0.264990                     -0.881846   \n",
       "IGLC2                        -0.598258                     -0.598258   \n",
       "IGHG3                        -0.422776                     -0.422776   \n",
       "IGHA1                        -0.394881                     -0.394881   \n",
       "IGHG1                         0.413304                     -0.485687   \n",
       "...                                ...                           ...   \n",
       "CD96                          1.770140                     -0.429051   \n",
       "ARHGAP21                     -0.302383                      2.558702   \n",
       "TLR5                         -0.130768                     -0.130768   \n",
       "ME2                          -0.382227                     -0.382227   \n",
       "SIPA1L2                      -0.221279                     -0.221279   \n",
       "\n",
       "          sample_29_TTGTTTGAGCCGAATG-1  sample_29_TTTACTGAGTAACAGT-1  \\\n",
       "IGKC                          0.317732                     -0.221701   \n",
       "IGLC2                        -0.598258                     -0.598258   \n",
       "IGHG3                        -0.422776                     -0.422776   \n",
       "IGHA1                        -0.394881                     -0.394881   \n",
       "IGHG1                        -0.485687                     -0.485687   \n",
       "...                                ...                           ...   \n",
       "CD96                          1.907318                     -0.429051   \n",
       "ARHGAP21                     -0.302383                     -0.302383   \n",
       "TLR5                         -0.130768                     -0.130768   \n",
       "ME2                          -0.382227                     -0.382227   \n",
       "SIPA1L2                      -0.221279                     -0.221279   \n",
       "\n",
       "          sample_29_TTTCAGTTCACGTCCT-1  sample_29_TTTGATCCACGCTGCA-1  \n",
       "IGKC                         -0.881846                     -0.881846  \n",
       "IGLC2                         0.236471                     -0.598258  \n",
       "IGHG3                        -0.422776                     -0.422776  \n",
       "IGHA1                        -0.394881                     -0.394881  \n",
       "IGHG1                        -0.485687                     -0.485687  \n",
       "...                                ...                           ...  \n",
       "CD96                         -0.429051                     -0.429051  \n",
       "ARHGAP21                     -0.302383                     -0.302383  \n",
       "TLR5                         -0.130768                     -0.130768  \n",
       "ME2                          -0.382227                     -0.382227  \n",
       "SIPA1L2                      -0.221279                     -0.221279  \n",
       "\n",
       "[2000 rows x 6091 columns]"
      ]
     },
     "execution_count": 198,
     "metadata": {},
     "output_type": "execute_result"
    }
   ],
   "source": [
    "pca_in = pd.read_csv('/data/sandbox/pca_in.txt', sep='\\t')\n",
    "pca_in"
   ]
  },
  {
   "cell_type": "code",
   "execution_count": 199,
   "id": "ebcd984f",
   "metadata": {},
   "outputs": [
    {
     "data": {
      "text/html": [
       "<div>\n",
       "<style scoped>\n",
       "    .dataframe tbody tr th:only-of-type {\n",
       "        vertical-align: middle;\n",
       "    }\n",
       "\n",
       "    .dataframe tbody tr th {\n",
       "        vertical-align: top;\n",
       "    }\n",
       "\n",
       "    .dataframe thead th {\n",
       "        text-align: right;\n",
       "    }\n",
       "</style>\n",
       "<table border=\"1\" class=\"dataframe\">\n",
       "  <thead>\n",
       "    <tr style=\"text-align: right;\">\n",
       "      <th></th>\n",
       "      <th>x</th>\n",
       "    </tr>\n",
       "  </thead>\n",
       "  <tbody>\n",
       "    <tr>\n",
       "      <th>IGKC</th>\n",
       "      <td>1</td>\n",
       "    </tr>\n",
       "    <tr>\n",
       "      <th>IGLC2</th>\n",
       "      <td>2</td>\n",
       "    </tr>\n",
       "    <tr>\n",
       "      <th>IGHG3</th>\n",
       "      <td>3</td>\n",
       "    </tr>\n",
       "    <tr>\n",
       "      <th>IGHA1</th>\n",
       "      <td>4</td>\n",
       "    </tr>\n",
       "    <tr>\n",
       "      <th>IGHG1</th>\n",
       "      <td>5</td>\n",
       "    </tr>\n",
       "    <tr>\n",
       "      <th>...</th>\n",
       "      <td>...</td>\n",
       "    </tr>\n",
       "    <tr>\n",
       "      <th>CD96</th>\n",
       "      <td>1996</td>\n",
       "    </tr>\n",
       "    <tr>\n",
       "      <th>ARHGAP21</th>\n",
       "      <td>1997</td>\n",
       "    </tr>\n",
       "    <tr>\n",
       "      <th>TLR5</th>\n",
       "      <td>1998</td>\n",
       "    </tr>\n",
       "    <tr>\n",
       "      <th>ME2</th>\n",
       "      <td>1999</td>\n",
       "    </tr>\n",
       "    <tr>\n",
       "      <th>SIPA1L2</th>\n",
       "      <td>2000</td>\n",
       "    </tr>\n",
       "  </tbody>\n",
       "</table>\n",
       "<p>2000 rows × 1 columns</p>\n",
       "</div>"
      ],
      "text/plain": [
       "             x\n",
       "IGKC         1\n",
       "IGLC2        2\n",
       "IGHG3        3\n",
       "IGHA1        4\n",
       "IGHG1        5\n",
       "...        ...\n",
       "CD96      1996\n",
       "ARHGAP21  1997\n",
       "TLR5      1998\n",
       "ME2       1999\n",
       "SIPA1L2   2000\n",
       "\n",
       "[2000 rows x 1 columns]"
      ]
     },
     "execution_count": 199,
     "metadata": {},
     "output_type": "execute_result"
    }
   ],
   "source": [
    "pca_feats = pd.read_csv('/data/sandbox/pca_var_feats.txt', sep='\\t', index_col=1)\n",
    "pca_feats"
   ]
  },
  {
   "cell_type": "code",
   "execution_count": 200,
   "id": "aa2de1ac",
   "metadata": {},
   "outputs": [],
   "source": [
    "import anndata"
   ]
  },
  {
   "cell_type": "code",
   "execution_count": 201,
   "id": "06b9f68a",
   "metadata": {},
   "outputs": [
    {
     "data": {
      "text/plain": [
       "AnnData object with n_obs × n_vars = 6091 × 2000\n",
       "    obs: 'cell_type'\n",
       "    var: 'highly_variable'"
      ]
     },
     "execution_count": 201,
     "metadata": {},
     "output_type": "execute_result"
    }
   ],
   "source": [
    "s = anndata.AnnData(X=pca_in.transpose().values)\n",
    "s.obs.index = pca_in.columns\n",
    "s.var.index = pca_in.index.to_list()\n",
    "s.var['highly_variable'] = [True if x in pca_feats.index else False for x in s.var.index]\n",
    "s.obs['cell_type'] = [a.obs.loc[x.replace('.', '-'), 'cell_type'] for x in s.obs.index]\n",
    "s"
   ]
  },
  {
   "cell_type": "code",
   "execution_count": 202,
   "id": "570bb86d",
   "metadata": {},
   "outputs": [
    {
     "data": {
      "text/html": [
       "<div>\n",
       "<style scoped>\n",
       "    .dataframe tbody tr th:only-of-type {\n",
       "        vertical-align: middle;\n",
       "    }\n",
       "\n",
       "    .dataframe tbody tr th {\n",
       "        vertical-align: top;\n",
       "    }\n",
       "\n",
       "    .dataframe thead th {\n",
       "        text-align: right;\n",
       "    }\n",
       "</style>\n",
       "<table border=\"1\" class=\"dataframe\">\n",
       "  <thead>\n",
       "    <tr style=\"text-align: right;\">\n",
       "      <th></th>\n",
       "      <th>highly_variable</th>\n",
       "    </tr>\n",
       "  </thead>\n",
       "  <tbody>\n",
       "    <tr>\n",
       "      <th>IGKC</th>\n",
       "      <td>True</td>\n",
       "    </tr>\n",
       "    <tr>\n",
       "      <th>IGLC2</th>\n",
       "      <td>True</td>\n",
       "    </tr>\n",
       "    <tr>\n",
       "      <th>IGHG3</th>\n",
       "      <td>True</td>\n",
       "    </tr>\n",
       "    <tr>\n",
       "      <th>IGHA1</th>\n",
       "      <td>True</td>\n",
       "    </tr>\n",
       "    <tr>\n",
       "      <th>IGHG1</th>\n",
       "      <td>True</td>\n",
       "    </tr>\n",
       "    <tr>\n",
       "      <th>...</th>\n",
       "      <td>...</td>\n",
       "    </tr>\n",
       "    <tr>\n",
       "      <th>CD96</th>\n",
       "      <td>True</td>\n",
       "    </tr>\n",
       "    <tr>\n",
       "      <th>ARHGAP21</th>\n",
       "      <td>True</td>\n",
       "    </tr>\n",
       "    <tr>\n",
       "      <th>TLR5</th>\n",
       "      <td>True</td>\n",
       "    </tr>\n",
       "    <tr>\n",
       "      <th>ME2</th>\n",
       "      <td>True</td>\n",
       "    </tr>\n",
       "    <tr>\n",
       "      <th>SIPA1L2</th>\n",
       "      <td>True</td>\n",
       "    </tr>\n",
       "  </tbody>\n",
       "</table>\n",
       "<p>2000 rows × 1 columns</p>\n",
       "</div>"
      ],
      "text/plain": [
       "          highly_variable\n",
       "IGKC                 True\n",
       "IGLC2                True\n",
       "IGHG3                True\n",
       "IGHA1                True\n",
       "IGHG1                True\n",
       "...                   ...\n",
       "CD96                 True\n",
       "ARHGAP21             True\n",
       "TLR5                 True\n",
       "ME2                  True\n",
       "SIPA1L2              True\n",
       "\n",
       "[2000 rows x 1 columns]"
      ]
     },
     "execution_count": 202,
     "metadata": {},
     "output_type": "execute_result"
    }
   ],
   "source": [
    "s.var"
   ]
  },
  {
   "cell_type": "code",
   "execution_count": 203,
   "id": "86cca047",
   "metadata": {},
   "outputs": [
    {
     "data": {
      "text/plain": [
       "2000"
      ]
     },
     "execution_count": 203,
     "metadata": {},
     "output_type": "execute_result"
    }
   ],
   "source": [
    "np.count_nonzero(s.var['highly_variable'])"
   ]
  },
  {
   "cell_type": "code",
   "execution_count": 204,
   "id": "978742c6",
   "metadata": {},
   "outputs": [],
   "source": [
    "sc.pp.pca(s, use_highly_variable=True)"
   ]
  },
  {
   "cell_type": "code",
   "execution_count": 205,
   "id": "6c09aa7b",
   "metadata": {},
   "outputs": [
    {
     "name": "stderr",
     "output_type": "stream",
     "text": [
      "/data/estorrs/miniconda3/envs/pollock_new/lib/python3.8/site-packages/anndata/_core/anndata.py:1228: FutureWarning: The `inplace` parameter in pandas.Categorical.reorder_categories is deprecated and will be removed in a future version. Reordering categories will always return a new Categorical object.\n",
      "  c.reorder_categories(natsorted(c.categories), inplace=True)\n",
      "... storing 'cell_type' as categorical\n"
     ]
    },
    {
     "data": {
      "image/png": "[encoded data removed]",
      "text/plain": [
       "<Figure size 432x288 with 1 Axes>"
      ]
     },
     "metadata": {},
     "output_type": "display_data"
    }
   ],
   "source": [
    "sc.pl.pca(s, color='cell_type')"
   ]
  },
  {
   "cell_type": "code",
   "execution_count": 206,
   "id": "d4bc7c54",
   "metadata": {},
   "outputs": [],
   "source": [
    "from sklearn.decomposition import PCA"
   ]
  },
  {
   "cell_type": "code",
   "execution_count": 207,
   "id": "e9182726",
   "metadata": {},
   "outputs": [
    {
     "name": "stderr",
     "output_type": "stream",
     "text": [
      "/data/estorrs/miniconda3/envs/pollock_new/lib/python3.8/site-packages/seaborn/_decorators.py:36: FutureWarning: Pass the following variables as keyword args: x, y. From version 0.12, the only valid positional argument will be `data`, and passing other arguments without an explicit keyword will result in an error or misinterpretation.\n",
      "  warnings.warn(\n"
     ]
    },
    {
     "data": {
      "text/plain": [
       "<AxesSubplot:>"
      ]
     },
     "execution_count": 207,
     "metadata": {},
     "output_type": "execute_result"
    },
    {
     "data": {
      "image/png": "[encoded data removed]",
      "text/plain": [
       "<Figure size 432x288 with 1 Axes>"
      ]
     },
     "metadata": {
      "needs_background": "light"
     },
     "output_type": "display_data"
    }
   ],
   "source": [
    "m = PCA()\n",
    "emb = m.fit_transform(s.X[:, s.var['highly_variable']])\n",
    "sns.scatterplot(emb[:, 0], emb[:, 1])"
   ]
  },
  {
   "cell_type": "code",
   "execution_count": null,
   "id": "afc9e719",
   "metadata": {},
   "outputs": [],
   "source": []
  }
 ],
 "metadata": {
  "kernelspec": {
   "display_name": "Python 3 (ipykernel)",
   "language": "python",
   "name": "python3"
  },
  "language_info": {
   "codemirror_mode": {
    "name": "ipython",
    "version": 3
   },
   "file_extension": ".py",
   "mimetype": "text/x-python",
   "name": "python",
   "nbconvert_exporter": "python",
   "pygments_lexer": "ipython3",
   "version": "3.8.12"
  }
 },
 "nbformat": 4,
 "nbformat_minor": 5
}
