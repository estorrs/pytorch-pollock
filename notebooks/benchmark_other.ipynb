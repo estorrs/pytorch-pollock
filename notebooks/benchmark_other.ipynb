{
 "cells": [
  {
   "cell_type": "code",
   "execution_count": 2,
   "id": "3da6228f",
   "metadata": {},
   "outputs": [],
   "source": [
    "import json\n",
    "import logging\n",
    "import os\n",
    "import re\n",
    "from pathlib import Path\n",
    "\n",
    "import anndata\n",
    "import numpy as np\n",
    "import pandas as pd\n",
    "import scanpy as sc\n",
    "from sklearn.metrics import classification_report, confusion_matrix\n",
    "from sklearn.calibration import CalibratedClassifierCV\n",
    "from sklearn.svm import SVC, LinearSVC"
   ]
  },
  {
   "cell_type": "code",
   "execution_count": 3,
   "id": "3c8e732c",
   "metadata": {},
   "outputs": [],
   "source": [
    "import pollock.utils as utils\n",
    "from pollock.dataloaders import normalize, get_train_dataloaders"
   ]
  },
  {
   "cell_type": "code",
   "execution_count": 4,
   "id": "fd8e4a5d",
   "metadata": {},
   "outputs": [],
   "source": [
    "import time\n",
    "import torch"
   ]
  },
  {
   "cell_type": "code",
   "execution_count": 5,
   "id": "5639ace6",
   "metadata": {},
   "outputs": [
    {
     "data": {
      "text/plain": [
       "{'snRNAseq': {'ccrcc': {'train': '/data/pollock/benchmarking/pollock_datasets/snRNAseq/ccrcc_train.h5ad',\n",
       "   'val': '/data/pollock/benchmarking/pollock_datasets/snRNAseq/ccrcc_val.h5ad'},\n",
       "  'brca': {'train': '/data/pollock/benchmarking/pollock_datasets/snRNAseq/brca_train.h5ad',\n",
       "   'val': '/data/pollock/benchmarking/pollock_datasets/snRNAseq/brca_val.h5ad'},\n",
       "  'gbm': {'val': '/data/pollock/benchmarking/pollock_datasets/snRNAseq/gbm_val.h5ad',\n",
       "   'train': '/data/pollock/benchmarking/pollock_datasets/snRNAseq/gbm_train.h5ad'}},\n",
       " 'snATACseq': {'brca': {'train': '/data/pollock/benchmarking/pollock_datasets/snATACseq/brca_gene_activity_train.h5ad',\n",
       "   'val': '/data/pollock/benchmarking/pollock_datasets/snATACseq/brca_gene_activity_val.h5ad'},\n",
       "  'ccrcc': {'train': '/data/pollock/benchmarking/pollock_datasets/snATACseq/ccrcc_gene_activity_train.h5ad',\n",
       "   'val': '/data/pollock/benchmarking/pollock_datasets/snATACseq/ccrcc_gene_activity_val.h5ad'},\n",
       "  'gbm': {'val': '/data/pollock/benchmarking/pollock_datasets/snATACseq/gbm_gene_activity_val.h5ad',\n",
       "   'train': '/data/pollock/benchmarking/pollock_datasets/snATACseq/gbm_gene_activity_train.h5ad'}},\n",
       " 'scRNAseq': {'cesc': {'val': '/data/pollock/benchmarking/pollock_datasets/scRNAseq/cesc_val.h5ad',\n",
       "   'train': '/data/pollock/benchmarking/pollock_datasets/scRNAseq/cesc_train.h5ad'},\n",
       "  'myeloma': {'train': '/data/pollock/benchmarking/pollock_datasets/scRNAseq/myeloma_train.h5ad',\n",
       "   'val': '/data/pollock/benchmarking/pollock_datasets/scRNAseq/myeloma_val.h5ad'},\n",
       "  'brca': {'train': '/data/pollock/benchmarking/pollock_datasets/scRNAseq/brca_train.h5ad',\n",
       "   'val': '/data/pollock/benchmarking/pollock_datasets/scRNAseq/brca_val.h5ad'},\n",
       "  'hnscc': {'train': '/data/pollock/benchmarking/pollock_datasets/scRNAseq/hnscc_train.h5ad',\n",
       "   'val': '/data/pollock/benchmarking/pollock_datasets/scRNAseq/hnscc_val.h5ad'},\n",
       "  'pdac': {'val': '/data/pollock/benchmarking/pollock_datasets/scRNAseq/pdac_val.h5ad',\n",
       "   'train': '/data/pollock/benchmarking/pollock_datasets/scRNAseq/pdac_train.h5ad'},\n",
       "  'melanoma': {'val': '/data/pollock/benchmarking/pollock_datasets/scRNAseq/melanoma_val.h5ad',\n",
       "   'train': '/data/pollock/benchmarking/pollock_datasets/scRNAseq/melanoma_train.h5ad'}}}"
      ]
     },
     "execution_count": 5,
     "metadata": {},
     "output_type": "execute_result"
    }
   ],
   "source": [
    "data_dir = '/data/pollock/benchmarking/pollock_datasets/'\n",
    "fps = utils.listfiles(data_dir, regex=r'.h5ad')\n",
    "fps = [fp for fp in fps if '_train' in fp or '_val' in fp]\n",
    "\n",
    "fmap = {}\n",
    "for fp in fps:\n",
    "    dtype = fp.split('/')[-2]\n",
    "    disease = fp.split('/')[-1].split('_')[0]\n",
    "    partition = 'train' if '_train' in fp else 'val'\n",
    "    \n",
    "    if dtype not in fmap:\n",
    "        fmap[dtype] = {}\n",
    "    if disease not in fmap[dtype]:\n",
    "        fmap[dtype][disease] = {}\n",
    "    \n",
    "    if not (dtype == 'snATACseq' and ('peaks' in fp or 'motif' in fp)):\n",
    "        fmap[dtype][disease][partition] = fp\n",
    "fmap"
   ]
  },
  {
   "cell_type": "code",
   "execution_count": 6,
   "id": "71977e7b",
   "metadata": {},
   "outputs": [
    {
     "data": {
      "text/plain": [
       "{'snRNAseq': {'ccrcc': {'fold3': {'train': '/data/pollock/benchmarking/pollock_datasets_with_folds/snRNAseq/ccrcc_fold3_train.h5ad',\n",
       "    'val': '/data/pollock/benchmarking/pollock_datasets_with_folds/snRNAseq/ccrcc_fold3_val.h5ad'},\n",
       "   'fold1': {'val': '/data/pollock/benchmarking/pollock_datasets_with_folds/snRNAseq/ccrcc_fold1_val.h5ad',\n",
       "    'train': '/data/pollock/benchmarking/pollock_datasets_with_folds/snRNAseq/ccrcc_fold1_train.h5ad'},\n",
       "   'fold2': {'train': '/data/pollock/benchmarking/pollock_datasets_with_folds/snRNAseq/ccrcc_fold2_train.h5ad',\n",
       "    'val': '/data/pollock/benchmarking/pollock_datasets_with_folds/snRNAseq/ccrcc_fold2_val.h5ad'},\n",
       "   'fold0': {'val': '/data/pollock/benchmarking/pollock_datasets_with_folds/snRNAseq/ccrcc_fold0_val.h5ad',\n",
       "    'train': '/data/pollock/benchmarking/pollock_datasets_with_folds/snRNAseq/ccrcc_fold0_train.h5ad'},\n",
       "   'fold4': {'val': '/data/pollock/benchmarking/pollock_datasets_with_folds/snRNAseq/ccrcc_fold4_val.h5ad',\n",
       "    'train': '/data/pollock/benchmarking/pollock_datasets_with_folds/snRNAseq/ccrcc_fold4_train.h5ad'}},\n",
       "  'brca': {'fold2': {'train': '/data/pollock/benchmarking/pollock_datasets_with_folds/snRNAseq/brca_fold2_train.h5ad',\n",
       "    'val': '/data/pollock/benchmarking/pollock_datasets_with_folds/snRNAseq/brca_fold2_val.h5ad'},\n",
       "   'fold1': {'train': '/data/pollock/benchmarking/pollock_datasets_with_folds/snRNAseq/brca_fold1_train.h5ad',\n",
       "    'val': '/data/pollock/benchmarking/pollock_datasets_with_folds/snRNAseq/brca_fold1_val.h5ad'},\n",
       "   'fold3': {'train': '/data/pollock/benchmarking/pollock_datasets_with_folds/snRNAseq/brca_fold3_train.h5ad',\n",
       "    'val': '/data/pollock/benchmarking/pollock_datasets_with_folds/snRNAseq/brca_fold3_val.h5ad'},\n",
       "   'fold0': {'val': '/data/pollock/benchmarking/pollock_datasets_with_folds/snRNAseq/brca_fold0_val.h5ad',\n",
       "    'train': '/data/pollock/benchmarking/pollock_datasets_with_folds/snRNAseq/brca_fold0_train.h5ad'},\n",
       "   'fold4': {'train': '/data/pollock/benchmarking/pollock_datasets_with_folds/snRNAseq/brca_fold4_train.h5ad',\n",
       "    'val': '/data/pollock/benchmarking/pollock_datasets_with_folds/snRNAseq/brca_fold4_val.h5ad'}},\n",
       "  'gbm': {'fold4': {'train': '/data/pollock/benchmarking/pollock_datasets_with_folds/snRNAseq/gbm_fold4_train.h5ad',\n",
       "    'val': '/data/pollock/benchmarking/pollock_datasets_with_folds/snRNAseq/gbm_fold4_val.h5ad'},\n",
       "   'fold3': {'train': '/data/pollock/benchmarking/pollock_datasets_with_folds/snRNAseq/gbm_fold3_train.h5ad',\n",
       "    'val': '/data/pollock/benchmarking/pollock_datasets_with_folds/snRNAseq/gbm_fold3_val.h5ad'},\n",
       "   'fold0': {'train': '/data/pollock/benchmarking/pollock_datasets_with_folds/snRNAseq/gbm_fold0_train.h5ad',\n",
       "    'val': '/data/pollock/benchmarking/pollock_datasets_with_folds/snRNAseq/gbm_fold0_val.h5ad'},\n",
       "   'fold2': {'val': '/data/pollock/benchmarking/pollock_datasets_with_folds/snRNAseq/gbm_fold2_val.h5ad',\n",
       "    'train': '/data/pollock/benchmarking/pollock_datasets_with_folds/snRNAseq/gbm_fold2_train.h5ad'},\n",
       "   'fold1': {'train': '/data/pollock/benchmarking/pollock_datasets_with_folds/snRNAseq/gbm_fold1_train.h5ad',\n",
       "    'val': '/data/pollock/benchmarking/pollock_datasets_with_folds/snRNAseq/gbm_fold1_val.h5ad'}}},\n",
       " 'snATACseq': {'ccrcc': {'fold3': {'train': '/data/pollock/benchmarking/pollock_datasets_with_folds/snATACseq/ccrcc_fold3_train.h5ad',\n",
       "    'val': '/data/pollock/benchmarking/pollock_datasets_with_folds/snATACseq/ccrcc_fold3_val.h5ad'},\n",
       "   'fold1': {'val': '/data/pollock/benchmarking/pollock_datasets_with_folds/snATACseq/ccrcc_fold1_val.h5ad',\n",
       "    'train': '/data/pollock/benchmarking/pollock_datasets_with_folds/snATACseq/ccrcc_fold1_train.h5ad'},\n",
       "   'fold2': {'train': '/data/pollock/benchmarking/pollock_datasets_with_folds/snATACseq/ccrcc_fold2_train.h5ad',\n",
       "    'val': '/data/pollock/benchmarking/pollock_datasets_with_folds/snATACseq/ccrcc_fold2_val.h5ad'},\n",
       "   'fold0': {'val': '/data/pollock/benchmarking/pollock_datasets_with_folds/snATACseq/ccrcc_fold0_val.h5ad',\n",
       "    'train': '/data/pollock/benchmarking/pollock_datasets_with_folds/snATACseq/ccrcc_fold0_train.h5ad'},\n",
       "   'fold4': {'val': '/data/pollock/benchmarking/pollock_datasets_with_folds/snATACseq/ccrcc_fold4_val.h5ad',\n",
       "    'train': '/data/pollock/benchmarking/pollock_datasets_with_folds/snATACseq/ccrcc_fold4_train.h5ad'}},\n",
       "  'brca': {'fold2': {'train': '/data/pollock/benchmarking/pollock_datasets_with_folds/snATACseq/brca_fold2_train.h5ad',\n",
       "    'val': '/data/pollock/benchmarking/pollock_datasets_with_folds/snATACseq/brca_fold2_val.h5ad'},\n",
       "   'fold1': {'train': '/data/pollock/benchmarking/pollock_datasets_with_folds/snATACseq/brca_fold1_train.h5ad',\n",
       "    'val': '/data/pollock/benchmarking/pollock_datasets_with_folds/snATACseq/brca_fold1_val.h5ad'},\n",
       "   'fold3': {'train': '/data/pollock/benchmarking/pollock_datasets_with_folds/snATACseq/brca_fold3_train.h5ad',\n",
       "    'val': '/data/pollock/benchmarking/pollock_datasets_with_folds/snATACseq/brca_fold3_val.h5ad'},\n",
       "   'fold0': {'val': '/data/pollock/benchmarking/pollock_datasets_with_folds/snATACseq/brca_fold0_val.h5ad',\n",
       "    'train': '/data/pollock/benchmarking/pollock_datasets_with_folds/snATACseq/brca_fold0_train.h5ad'},\n",
       "   'fold4': {'train': '/data/pollock/benchmarking/pollock_datasets_with_folds/snATACseq/brca_fold4_train.h5ad',\n",
       "    'val': '/data/pollock/benchmarking/pollock_datasets_with_folds/snATACseq/brca_fold4_val.h5ad'}},\n",
       "  'gbm': {'fold4': {'train': '/data/pollock/benchmarking/pollock_datasets_with_folds/snATACseq/gbm_fold4_train.h5ad',\n",
       "    'val': '/data/pollock/benchmarking/pollock_datasets_with_folds/snATACseq/gbm_fold4_val.h5ad'},\n",
       "   'fold3': {'train': '/data/pollock/benchmarking/pollock_datasets_with_folds/snATACseq/gbm_fold3_train.h5ad',\n",
       "    'val': '/data/pollock/benchmarking/pollock_datasets_with_folds/snATACseq/gbm_fold3_val.h5ad'},\n",
       "   'fold0': {'train': '/data/pollock/benchmarking/pollock_datasets_with_folds/snATACseq/gbm_fold0_train.h5ad',\n",
       "    'val': '/data/pollock/benchmarking/pollock_datasets_with_folds/snATACseq/gbm_fold0_val.h5ad'},\n",
       "   'fold2': {'val': '/data/pollock/benchmarking/pollock_datasets_with_folds/snATACseq/gbm_fold2_val.h5ad',\n",
       "    'train': '/data/pollock/benchmarking/pollock_datasets_with_folds/snATACseq/gbm_fold2_train.h5ad'},\n",
       "   'fold1': {'train': '/data/pollock/benchmarking/pollock_datasets_with_folds/snATACseq/gbm_fold1_train.h5ad',\n",
       "    'val': '/data/pollock/benchmarking/pollock_datasets_with_folds/snATACseq/gbm_fold1_val.h5ad'}}},\n",
       " 'scRNAseq': {'hnscc': {'fold0': {'val': '/data/pollock/benchmarking/pollock_datasets_with_folds/scRNAseq/hnscc_fold0_val.h5ad',\n",
       "    'train': '/data/pollock/benchmarking/pollock_datasets_with_folds/scRNAseq/hnscc_fold0_train.h5ad'},\n",
       "   'fold4': {'val': '/data/pollock/benchmarking/pollock_datasets_with_folds/scRNAseq/hnscc_fold4_val.h5ad',\n",
       "    'train': '/data/pollock/benchmarking/pollock_datasets_with_folds/scRNAseq/hnscc_fold4_train.h5ad'},\n",
       "   'fold1': {'val': '/data/pollock/benchmarking/pollock_datasets_with_folds/scRNAseq/hnscc_fold1_val.h5ad',\n",
       "    'train': '/data/pollock/benchmarking/pollock_datasets_with_folds/scRNAseq/hnscc_fold1_train.h5ad'},\n",
       "   'fold3': {'val': '/data/pollock/benchmarking/pollock_datasets_with_folds/scRNAseq/hnscc_fold3_val.h5ad',\n",
       "    'train': '/data/pollock/benchmarking/pollock_datasets_with_folds/scRNAseq/hnscc_fold3_train.h5ad'},\n",
       "   'fold2': {'train': '/data/pollock/benchmarking/pollock_datasets_with_folds/scRNAseq/hnscc_fold2_train.h5ad',\n",
       "    'val': '/data/pollock/benchmarking/pollock_datasets_with_folds/scRNAseq/hnscc_fold2_val.h5ad'}},\n",
       "  'cesc': {'fold4': {'train': '/data/pollock/benchmarking/pollock_datasets_with_folds/scRNAseq/cesc_fold4_train.h5ad',\n",
       "    'val': '/data/pollock/benchmarking/pollock_datasets_with_folds/scRNAseq/cesc_fold4_val.h5ad'},\n",
       "   'fold3': {'train': '/data/pollock/benchmarking/pollock_datasets_with_folds/scRNAseq/cesc_fold3_train.h5ad',\n",
       "    'val': '/data/pollock/benchmarking/pollock_datasets_with_folds/scRNAseq/cesc_fold3_val.h5ad'},\n",
       "   'fold2': {'val': '/data/pollock/benchmarking/pollock_datasets_with_folds/scRNAseq/cesc_fold2_val.h5ad',\n",
       "    'train': '/data/pollock/benchmarking/pollock_datasets_with_folds/scRNAseq/cesc_fold2_train.h5ad'},\n",
       "   'fold0': {'train': '/data/pollock/benchmarking/pollock_datasets_with_folds/scRNAseq/cesc_fold0_train.h5ad',\n",
       "    'val': '/data/pollock/benchmarking/pollock_datasets_with_folds/scRNAseq/cesc_fold0_val.h5ad'},\n",
       "   'fold1': {'train': '/data/pollock/benchmarking/pollock_datasets_with_folds/scRNAseq/cesc_fold1_train.h5ad',\n",
       "    'val': '/data/pollock/benchmarking/pollock_datasets_with_folds/scRNAseq/cesc_fold1_val.h5ad'}},\n",
       "  'brca': {'fold2': {'train': '/data/pollock/benchmarking/pollock_datasets_with_folds/scRNAseq/brca_fold2_train.h5ad',\n",
       "    'val': '/data/pollock/benchmarking/pollock_datasets_with_folds/scRNAseq/brca_fold2_val.h5ad'},\n",
       "   'fold1': {'train': '/data/pollock/benchmarking/pollock_datasets_with_folds/scRNAseq/brca_fold1_train.h5ad',\n",
       "    'val': '/data/pollock/benchmarking/pollock_datasets_with_folds/scRNAseq/brca_fold1_val.h5ad'},\n",
       "   'fold3': {'train': '/data/pollock/benchmarking/pollock_datasets_with_folds/scRNAseq/brca_fold3_train.h5ad',\n",
       "    'val': '/data/pollock/benchmarking/pollock_datasets_with_folds/scRNAseq/brca_fold3_val.h5ad'},\n",
       "   'fold0': {'val': '/data/pollock/benchmarking/pollock_datasets_with_folds/scRNAseq/brca_fold0_val.h5ad',\n",
       "    'train': '/data/pollock/benchmarking/pollock_datasets_with_folds/scRNAseq/brca_fold0_train.h5ad'},\n",
       "   'fold4': {'train': '/data/pollock/benchmarking/pollock_datasets_with_folds/scRNAseq/brca_fold4_train.h5ad',\n",
       "    'val': '/data/pollock/benchmarking/pollock_datasets_with_folds/scRNAseq/brca_fold4_val.h5ad'}},\n",
       "  'myeloma': {'fold0': {'train': '/data/pollock/benchmarking/pollock_datasets_with_folds/scRNAseq/myeloma_fold0_train.h5ad',\n",
       "    'val': '/data/pollock/benchmarking/pollock_datasets_with_folds/scRNAseq/myeloma_fold0_val.h5ad'},\n",
       "   'fold1': {'val': '/data/pollock/benchmarking/pollock_datasets_with_folds/scRNAseq/myeloma_fold1_val.h5ad',\n",
       "    'train': '/data/pollock/benchmarking/pollock_datasets_with_folds/scRNAseq/myeloma_fold1_train.h5ad'},\n",
       "   'fold3': {'val': '/data/pollock/benchmarking/pollock_datasets_with_folds/scRNAseq/myeloma_fold3_val.h5ad',\n",
       "    'train': '/data/pollock/benchmarking/pollock_datasets_with_folds/scRNAseq/myeloma_fold3_train.h5ad'},\n",
       "   'fold4': {'val': '/data/pollock/benchmarking/pollock_datasets_with_folds/scRNAseq/myeloma_fold4_val.h5ad',\n",
       "    'train': '/data/pollock/benchmarking/pollock_datasets_with_folds/scRNAseq/myeloma_fold4_train.h5ad'},\n",
       "   'fold2': {'train': '/data/pollock/benchmarking/pollock_datasets_with_folds/scRNAseq/myeloma_fold2_train.h5ad',\n",
       "    'val': '/data/pollock/benchmarking/pollock_datasets_with_folds/scRNAseq/myeloma_fold2_val.h5ad'}},\n",
       "  'melanoma': {'fold3': {'train': '/data/pollock/benchmarking/pollock_datasets_with_folds/scRNAseq/melanoma_fold3_train.h5ad',\n",
       "    'val': '/data/pollock/benchmarking/pollock_datasets_with_folds/scRNAseq/melanoma_fold3_val.h5ad'},\n",
       "   'fold0': {'val': '/data/pollock/benchmarking/pollock_datasets_with_folds/scRNAseq/melanoma_fold0_val.h5ad',\n",
       "    'train': '/data/pollock/benchmarking/pollock_datasets_with_folds/scRNAseq/melanoma_fold0_train.h5ad'},\n",
       "   'fold2': {'val': '/data/pollock/benchmarking/pollock_datasets_with_folds/scRNAseq/melanoma_fold2_val.h5ad',\n",
       "    'train': '/data/pollock/benchmarking/pollock_datasets_with_folds/scRNAseq/melanoma_fold2_train.h5ad'},\n",
       "   'fold1': {'train': '/data/pollock/benchmarking/pollock_datasets_with_folds/scRNAseq/melanoma_fold1_train.h5ad',\n",
       "    'val': '/data/pollock/benchmarking/pollock_datasets_with_folds/scRNAseq/melanoma_fold1_val.h5ad'},\n",
       "   'fold4': {'train': '/data/pollock/benchmarking/pollock_datasets_with_folds/scRNAseq/melanoma_fold4_train.h5ad',\n",
       "    'val': '/data/pollock/benchmarking/pollock_datasets_with_folds/scRNAseq/melanoma_fold4_val.h5ad'}},\n",
       "  'pdac': {'fold2': {'train': '/data/pollock/benchmarking/pollock_datasets_with_folds/scRNAseq/pdac_fold2_train.h5ad',\n",
       "    'val': '/data/pollock/benchmarking/pollock_datasets_with_folds/scRNAseq/pdac_fold2_val.h5ad'},\n",
       "   'fold3': {'val': '/data/pollock/benchmarking/pollock_datasets_with_folds/scRNAseq/pdac_fold3_val.h5ad',\n",
       "    'train': '/data/pollock/benchmarking/pollock_datasets_with_folds/scRNAseq/pdac_fold3_train.h5ad'},\n",
       "   'fold1': {'train': '/data/pollock/benchmarking/pollock_datasets_with_folds/scRNAseq/pdac_fold1_train.h5ad',\n",
       "    'val': '/data/pollock/benchmarking/pollock_datasets_with_folds/scRNAseq/pdac_fold1_val.h5ad'},\n",
       "   'fold4': {'train': '/data/pollock/benchmarking/pollock_datasets_with_folds/scRNAseq/pdac_fold4_train.h5ad',\n",
       "    'val': '/data/pollock/benchmarking/pollock_datasets_with_folds/scRNAseq/pdac_fold4_val.h5ad'},\n",
       "   'fold0': {'val': '/data/pollock/benchmarking/pollock_datasets_with_folds/scRNAseq/pdac_fold0_val.h5ad',\n",
       "    'train': '/data/pollock/benchmarking/pollock_datasets_with_folds/scRNAseq/pdac_fold0_train.h5ad'}}}}"
      ]
     },
     "execution_count": 6,
     "metadata": {},
     "output_type": "execute_result"
    }
   ],
   "source": [
    "data_dir = '/data/pollock/benchmarking/pollock_datasets_with_folds/'\n",
    "fps = utils.listfiles(data_dir, regex=r'.h5ad')\n",
    "fps = [fp for fp in fps if '_train' in fp or '_val' in fp]\n",
    "\n",
    "folds_fmap = {}\n",
    "for fp in fps:\n",
    "    dtype = fp.split('/')[-2]\n",
    "    disease = fp.split('/')[-1].split('_')[0]\n",
    "    partition = 'train' if '_train' in fp else 'val'\n",
    "    fold = fp.split('/')[-1].split('_')[-2]\n",
    "    \n",
    "    if dtype not in folds_fmap:\n",
    "        folds_fmap[dtype] = {}\n",
    "    if disease not in folds_fmap[dtype]:\n",
    "        folds_fmap[dtype][disease] = {}\n",
    "    if fold not in folds_fmap[dtype][disease]:\n",
    "        folds_fmap[dtype][disease][fold] = {}\n",
    "    \n",
    "    if not (dtype == 'snATACseq' and ('peaks' in fp or 'motif' in fp)):\n",
    "        folds_fmap[dtype][disease][fold][partition] = fp\n",
    "folds_fmap"
   ]
  },
  {
   "cell_type": "code",
   "execution_count": 7,
   "id": "923b22da",
   "metadata": {},
   "outputs": [],
   "source": [
    "def get_metrics(y_true_labels, y_pred_labels, overlapping_only=False):\n",
    "    classes = sorted(set(y_true_labels))\n",
    "    \n",
    "    if overlapping_only:\n",
    "        classes = [c for c in classes if c in y_pred_labels]\n",
    "        y_pred_labels, y_true_labels = zip(*[(p, t) for p, t in zip(y_pred_labels, y_true_labels)\n",
    "                              if t in classes])\n",
    "        classes = sorted(set(y_true_labels).union(set(y_pred_labels)))\n",
    "\n",
    "    y_pred = [classes.index(c) for c in y_pred_labels]\n",
    "    y_true = [classes.index(c) for c in y_true_labels]\n",
    "\n",
    "    d = classification_report(y_true, y_pred, labels=list(range(len(classes))), target_names=classes,\n",
    "                             output_dict=True)\n",
    "    d = pd.DataFrame.from_dict(d)\n",
    "    cm = confusion_matrix(y_true, y_pred, labels=list(range(len(classes))))\n",
    "    cm = pd.DataFrame(data=cm, index=classes, columns=classes)\n",
    "    \n",
    "    d.index.name = 'metric'\n",
    "    cm.index.name = 'cell_type'\n",
    "    \n",
    "    return d, cm"
   ]
  },
  {
   "cell_type": "markdown",
   "id": "1a825061",
   "metadata": {},
   "source": [
    "#### predict cell types"
   ]
  },
  {
   "cell_type": "markdown",
   "id": "64cb6223",
   "metadata": {
    "heading_collapsed": true
   },
   "source": [
    "###### scanpy"
   ]
  },
  {
   "cell_type": "code",
   "execution_count": 11,
   "id": "849cec71",
   "metadata": {
    "hidden": true
   },
   "outputs": [],
   "source": [
    "result_dir = '/data/pollock/benchmarking/results/scanpy/'"
   ]
  },
  {
   "cell_type": "code",
   "execution_count": 12,
   "id": "8b6f2e8b",
   "metadata": {
    "hidden": true
   },
   "outputs": [],
   "source": [
    "def normalize_for_scanpy(a, highly_variable=True):\n",
    "    sc.pp.normalize_total(a, target_sum=1e4)\n",
    "    sc.pp.log1p(a)\n",
    "    \n",
    "    if highly_variable:\n",
    "        sc.pp.highly_variable_genes(a)\n",
    "        a.raw = a\n",
    "        a = a[:, a.var.highly_variable]\n",
    "    \n",
    "    sc.pp.scale(a)\n",
    "    \n",
    "    return a\n",
    "\n",
    "\n",
    "\n",
    "def predict_scanpy(train, val):\n",
    "    val.obs['orig_cell_type'] = val.obs['cell_type'].to_list()\n",
    "    \n",
    "    train, val = normalize_for_scanpy(train), normalize_for_scanpy(val, highly_variable=False)\n",
    "    \n",
    "    var_names = train.var_names.intersection(val.var_names)\n",
    "    train = train[:, var_names]\n",
    "    val = val[:, var_names]\n",
    "    \n",
    "    sc.pp.pca(train)\n",
    "    sc.pp.neighbors(train)\n",
    "    sc.tl.umap(train)\n",
    "    \n",
    "    sc.tl.ingest(val, train, obs='cell_type')\n",
    "    \n",
    "    val.obs['predicted_cell_type'] = val.obs['cell_type'].to_list()\n",
    "    val.obs['cell_type'] = val.obs['orig_cell_type'].to_list()\n",
    "    \n",
    "    return val\n",
    "    "
   ]
  },
  {
   "cell_type": "code",
   "execution_count": 10,
   "id": "28267c6a",
   "metadata": {
    "hidden": true,
    "scrolled": true
   },
   "outputs": [
    {
     "name": "stdout",
     "output_type": "stream",
     "text": [
      "snRNAseq ccrcc\n"
     ]
    },
    {
     "name": "stderr",
     "output_type": "stream",
     "text": [
      "/data/estorrs/miniconda3/envs/pollock_new/lib/python3.8/site-packages/scanpy/preprocessing/_simple.py:843: UserWarning: Revieved a view of an AnnData. Making a copy.\n",
      "  view_to_actual(adata)\n"
     ]
    },
    {
     "name": "stdout",
     "output_type": "stream",
     "text": [
      "snRNAseq brca\n"
     ]
    },
    {
     "name": "stderr",
     "output_type": "stream",
     "text": [
      "/data/estorrs/miniconda3/envs/pollock_new/lib/python3.8/site-packages/scanpy/preprocessing/_simple.py:843: UserWarning: Revieved a view of an AnnData. Making a copy.\n",
      "  view_to_actual(adata)\n"
     ]
    },
    {
     "name": "stdout",
     "output_type": "stream",
     "text": [
      "snRNAseq gbm\n"
     ]
    },
    {
     "name": "stderr",
     "output_type": "stream",
     "text": [
      "/data/estorrs/miniconda3/envs/pollock_new/lib/python3.8/site-packages/scanpy/preprocessing/_simple.py:843: UserWarning: Revieved a view of an AnnData. Making a copy.\n",
      "  view_to_actual(adata)\n"
     ]
    },
    {
     "name": "stdout",
     "output_type": "stream",
     "text": [
      "snATACseq brca\n"
     ]
    },
    {
     "name": "stderr",
     "output_type": "stream",
     "text": [
      "/data/estorrs/miniconda3/envs/pollock_new/lib/python3.8/site-packages/scanpy/preprocessing/_simple.py:843: UserWarning: Revieved a view of an AnnData. Making a copy.\n",
      "  view_to_actual(adata)\n"
     ]
    },
    {
     "name": "stdout",
     "output_type": "stream",
     "text": [
      "snATACseq ccrcc\n"
     ]
    },
    {
     "name": "stderr",
     "output_type": "stream",
     "text": [
      "/data/estorrs/miniconda3/envs/pollock_new/lib/python3.8/site-packages/scanpy/preprocessing/_simple.py:843: UserWarning: Revieved a view of an AnnData. Making a copy.\n",
      "  view_to_actual(adata)\n"
     ]
    },
    {
     "name": "stdout",
     "output_type": "stream",
     "text": [
      "snATACseq gbm\n"
     ]
    },
    {
     "name": "stderr",
     "output_type": "stream",
     "text": [
      "/data/estorrs/miniconda3/envs/pollock_new/lib/python3.8/site-packages/scanpy/preprocessing/_simple.py:843: UserWarning: Revieved a view of an AnnData. Making a copy.\n",
      "  view_to_actual(adata)\n"
     ]
    },
    {
     "name": "stdout",
     "output_type": "stream",
     "text": [
      "scRNAseq cesc\n"
     ]
    },
    {
     "name": "stderr",
     "output_type": "stream",
     "text": [
      "/data/estorrs/miniconda3/envs/pollock_new/lib/python3.8/site-packages/scanpy/preprocessing/_simple.py:843: UserWarning: Revieved a view of an AnnData. Making a copy.\n",
      "  view_to_actual(adata)\n"
     ]
    },
    {
     "name": "stdout",
     "output_type": "stream",
     "text": [
      "scRNAseq myeloma\n"
     ]
    },
    {
     "name": "stderr",
     "output_type": "stream",
     "text": [
      "/data/estorrs/miniconda3/envs/pollock_new/lib/python3.8/site-packages/scanpy/preprocessing/_simple.py:843: UserWarning: Revieved a view of an AnnData. Making a copy.\n",
      "  view_to_actual(adata)\n"
     ]
    },
    {
     "name": "stdout",
     "output_type": "stream",
     "text": [
      "scRNAseq brca\n"
     ]
    },
    {
     "name": "stderr",
     "output_type": "stream",
     "text": [
      "/data/estorrs/miniconda3/envs/pollock_new/lib/python3.8/site-packages/scanpy/preprocessing/_simple.py:843: UserWarning: Revieved a view of an AnnData. Making a copy.\n",
      "  view_to_actual(adata)\n"
     ]
    },
    {
     "name": "stdout",
     "output_type": "stream",
     "text": [
      "scRNAseq hnscc\n"
     ]
    },
    {
     "name": "stderr",
     "output_type": "stream",
     "text": [
      "/data/estorrs/miniconda3/envs/pollock_new/lib/python3.8/site-packages/scanpy/preprocessing/_simple.py:843: UserWarning: Revieved a view of an AnnData. Making a copy.\n",
      "  view_to_actual(adata)\n"
     ]
    },
    {
     "name": "stdout",
     "output_type": "stream",
     "text": [
      "scRNAseq pdac\n"
     ]
    },
    {
     "name": "stderr",
     "output_type": "stream",
     "text": [
      "/data/estorrs/miniconda3/envs/pollock_new/lib/python3.8/site-packages/scanpy/preprocessing/_simple.py:843: UserWarning: Revieved a view of an AnnData. Making a copy.\n",
      "  view_to_actual(adata)\n"
     ]
    },
    {
     "name": "stdout",
     "output_type": "stream",
     "text": [
      "scRNAseq melanoma\n"
     ]
    },
    {
     "name": "stderr",
     "output_type": "stream",
     "text": [
      "/data/estorrs/miniconda3/envs/pollock_new/lib/python3.8/site-packages/scanpy/preprocessing/_simple.py:843: UserWarning: Revieved a view of an AnnData. Making a copy.\n",
      "  view_to_actual(adata)\n"
     ]
    }
   ],
   "source": [
    "to_prediction = {}\n",
    "for dtype, d1 in fmap.items():\n",
    "    to_prediction[dtype] = {}\n",
    "    for disease, d2 in d1.items():\n",
    "        print(dtype, disease)\n",
    "        train = sc.read_h5ad(d2['train'])\n",
    "        val = sc.read_h5ad(d2['val'])\n",
    "        \n",
    "        to_prediction[dtype][disease] = predict_scanpy(train, val)\n",
    "        "
   ]
  },
  {
   "cell_type": "code",
   "execution_count": 12,
   "id": "2e7f8731",
   "metadata": {
    "hidden": true
   },
   "outputs": [
    {
     "name": "stderr",
     "output_type": "stream",
     "text": [
      "/data/estorrs/miniconda3/envs/pollock_new/lib/python3.8/site-packages/anndata/_core/anndata.py:1228: FutureWarning: The `inplace` parameter in pandas.Categorical.reorder_categories is deprecated and will be removed in a future version. Reordering categories will always return a new Categorical object.\n",
      "  c.reorder_categories(natsorted(c.categories), inplace=True)\n",
      "... storing 'cell_type' as categorical\n",
      "/data/estorrs/miniconda3/envs/pollock_new/lib/python3.8/site-packages/anndata/_core/anndata.py:1228: FutureWarning: The `inplace` parameter in pandas.Categorical.reorder_categories is deprecated and will be removed in a future version. Reordering categories will always return a new Categorical object.\n",
      "  c.reorder_categories(natsorted(c.categories), inplace=True)\n",
      "... storing 'orig_cell_type' as categorical\n",
      "/data/estorrs/miniconda3/envs/pollock_new/lib/python3.8/site-packages/anndata/_core/anndata.py:1228: FutureWarning: The `inplace` parameter in pandas.Categorical.reorder_categories is deprecated and will be removed in a future version. Reordering categories will always return a new Categorical object.\n",
      "  c.reorder_categories(natsorted(c.categories), inplace=True)\n",
      "... storing 'predicted_cell_type' as categorical\n",
      "/data/estorrs/miniconda3/envs/pollock_new/lib/python3.8/site-packages/anndata/_core/anndata.py:1228: FutureWarning: The `inplace` parameter in pandas.Categorical.reorder_categories is deprecated and will be removed in a future version. Reordering categories will always return a new Categorical object.\n",
      "  c.reorder_categories(natsorted(c.categories), inplace=True)\n",
      "... storing 'cell_type' as categorical\n",
      "/data/estorrs/miniconda3/envs/pollock_new/lib/python3.8/site-packages/anndata/_core/anndata.py:1228: FutureWarning: The `inplace` parameter in pandas.Categorical.reorder_categories is deprecated and will be removed in a future version. Reordering categories will always return a new Categorical object.\n",
      "  c.reorder_categories(natsorted(c.categories), inplace=True)\n",
      "... storing 'orig_cell_type' as categorical\n",
      "/data/estorrs/miniconda3/envs/pollock_new/lib/python3.8/site-packages/anndata/_core/anndata.py:1228: FutureWarning: The `inplace` parameter in pandas.Categorical.reorder_categories is deprecated and will be removed in a future version. Reordering categories will always return a new Categorical object.\n",
      "  c.reorder_categories(natsorted(c.categories), inplace=True)\n",
      "... storing 'predicted_cell_type' as categorical\n",
      "/data/estorrs/miniconda3/envs/pollock_new/lib/python3.8/site-packages/anndata/_core/anndata.py:1228: FutureWarning: The `inplace` parameter in pandas.Categorical.reorder_categories is deprecated and will be removed in a future version. Reordering categories will always return a new Categorical object.\n",
      "  c.reorder_categories(natsorted(c.categories), inplace=True)\n",
      "... storing 'cell_type' as categorical\n",
      "/data/estorrs/miniconda3/envs/pollock_new/lib/python3.8/site-packages/anndata/_core/anndata.py:1228: FutureWarning: The `inplace` parameter in pandas.Categorical.reorder_categories is deprecated and will be removed in a future version. Reordering categories will always return a new Categorical object.\n",
      "  c.reorder_categories(natsorted(c.categories), inplace=True)\n",
      "... storing 'orig_cell_type' as categorical\n",
      "/data/estorrs/miniconda3/envs/pollock_new/lib/python3.8/site-packages/anndata/_core/anndata.py:1228: FutureWarning: The `inplace` parameter in pandas.Categorical.reorder_categories is deprecated and will be removed in a future version. Reordering categories will always return a new Categorical object.\n",
      "  c.reorder_categories(natsorted(c.categories), inplace=True)\n",
      "... storing 'predicted_cell_type' as categorical\n",
      "/data/estorrs/miniconda3/envs/pollock_new/lib/python3.8/site-packages/anndata/_core/anndata.py:1228: FutureWarning: The `inplace` parameter in pandas.Categorical.reorder_categories is deprecated and will be removed in a future version. Reordering categories will always return a new Categorical object.\n",
      "  c.reorder_categories(natsorted(c.categories), inplace=True)\n",
      "... storing 'cell_type' as categorical\n",
      "/data/estorrs/miniconda3/envs/pollock_new/lib/python3.8/site-packages/anndata/_core/anndata.py:1228: FutureWarning: The `inplace` parameter in pandas.Categorical.reorder_categories is deprecated and will be removed in a future version. Reordering categories will always return a new Categorical object.\n",
      "  c.reorder_categories(natsorted(c.categories), inplace=True)\n",
      "... storing 'orig_cell_type' as categorical\n",
      "/data/estorrs/miniconda3/envs/pollock_new/lib/python3.8/site-packages/anndata/_core/anndata.py:1228: FutureWarning: The `inplace` parameter in pandas.Categorical.reorder_categories is deprecated and will be removed in a future version. Reordering categories will always return a new Categorical object.\n",
      "  c.reorder_categories(natsorted(c.categories), inplace=True)\n",
      "... storing 'predicted_cell_type' as categorical\n",
      "/data/estorrs/miniconda3/envs/pollock_new/lib/python3.8/site-packages/anndata/_core/anndata.py:1228: FutureWarning: The `inplace` parameter in pandas.Categorical.reorder_categories is deprecated and will be removed in a future version. Reordering categories will always return a new Categorical object.\n",
      "  c.reorder_categories(natsorted(c.categories), inplace=True)\n",
      "... storing 'cell_type' as categorical\n",
      "/data/estorrs/miniconda3/envs/pollock_new/lib/python3.8/site-packages/anndata/_core/anndata.py:1228: FutureWarning: The `inplace` parameter in pandas.Categorical.reorder_categories is deprecated and will be removed in a future version. Reordering categories will always return a new Categorical object.\n",
      "  c.reorder_categories(natsorted(c.categories), inplace=True)\n",
      "... storing 'orig_cell_type' as categorical\n",
      "/data/estorrs/miniconda3/envs/pollock_new/lib/python3.8/site-packages/anndata/_core/anndata.py:1228: FutureWarning: The `inplace` parameter in pandas.Categorical.reorder_categories is deprecated and will be removed in a future version. Reordering categories will always return a new Categorical object.\n",
      "  c.reorder_categories(natsorted(c.categories), inplace=True)\n",
      "... storing 'predicted_cell_type' as categorical\n",
      "/data/estorrs/miniconda3/envs/pollock_new/lib/python3.8/site-packages/anndata/_core/anndata.py:1228: FutureWarning: The `inplace` parameter in pandas.Categorical.reorder_categories is deprecated and will be removed in a future version. Reordering categories will always return a new Categorical object.\n",
      "  c.reorder_categories(natsorted(c.categories), inplace=True)\n",
      "... storing 'cell_type' as categorical\n",
      "/data/estorrs/miniconda3/envs/pollock_new/lib/python3.8/site-packages/anndata/_core/anndata.py:1228: FutureWarning: The `inplace` parameter in pandas.Categorical.reorder_categories is deprecated and will be removed in a future version. Reordering categories will always return a new Categorical object.\n",
      "  c.reorder_categories(natsorted(c.categories), inplace=True)\n",
      "... storing 'orig_cell_type' as categorical\n",
      "/data/estorrs/miniconda3/envs/pollock_new/lib/python3.8/site-packages/anndata/_core/anndata.py:1228: FutureWarning: The `inplace` parameter in pandas.Categorical.reorder_categories is deprecated and will be removed in a future version. Reordering categories will always return a new Categorical object.\n",
      "  c.reorder_categories(natsorted(c.categories), inplace=True)\n",
      "... storing 'predicted_cell_type' as categorical\n",
      "/data/estorrs/miniconda3/envs/pollock_new/lib/python3.8/site-packages/anndata/_core/anndata.py:1228: FutureWarning: The `inplace` parameter in pandas.Categorical.reorder_categories is deprecated and will be removed in a future version. Reordering categories will always return a new Categorical object.\n",
      "  c.reorder_categories(natsorted(c.categories), inplace=True)\n",
      "... storing 'cell_type' as categorical\n",
      "/data/estorrs/miniconda3/envs/pollock_new/lib/python3.8/site-packages/anndata/_core/anndata.py:1228: FutureWarning: The `inplace` parameter in pandas.Categorical.reorder_categories is deprecated and will be removed in a future version. Reordering categories will always return a new Categorical object.\n",
      "  c.reorder_categories(natsorted(c.categories), inplace=True)\n",
      "... storing 'orig_cell_type' as categorical\n",
      "/data/estorrs/miniconda3/envs/pollock_new/lib/python3.8/site-packages/anndata/_core/anndata.py:1228: FutureWarning: The `inplace` parameter in pandas.Categorical.reorder_categories is deprecated and will be removed in a future version. Reordering categories will always return a new Categorical object.\n",
      "  c.reorder_categories(natsorted(c.categories), inplace=True)\n",
      "... storing 'predicted_cell_type' as categorical\n"
     ]
    },
    {
     "name": "stderr",
     "output_type": "stream",
     "text": [
      "/data/estorrs/miniconda3/envs/pollock_new/lib/python3.8/site-packages/anndata/_core/anndata.py:1228: FutureWarning: The `inplace` parameter in pandas.Categorical.reorder_categories is deprecated and will be removed in a future version. Reordering categories will always return a new Categorical object.\n",
      "  c.reorder_categories(natsorted(c.categories), inplace=True)\n",
      "... storing 'cell_type' as categorical\n",
      "/data/estorrs/miniconda3/envs/pollock_new/lib/python3.8/site-packages/anndata/_core/anndata.py:1228: FutureWarning: The `inplace` parameter in pandas.Categorical.reorder_categories is deprecated and will be removed in a future version. Reordering categories will always return a new Categorical object.\n",
      "  c.reorder_categories(natsorted(c.categories), inplace=True)\n",
      "... storing 'orig_cell_type' as categorical\n",
      "/data/estorrs/miniconda3/envs/pollock_new/lib/python3.8/site-packages/anndata/_core/anndata.py:1228: FutureWarning: The `inplace` parameter in pandas.Categorical.reorder_categories is deprecated and will be removed in a future version. Reordering categories will always return a new Categorical object.\n",
      "  c.reorder_categories(natsorted(c.categories), inplace=True)\n",
      "... storing 'predicted_cell_type' as categorical\n",
      "/data/estorrs/miniconda3/envs/pollock_new/lib/python3.8/site-packages/anndata/_core/anndata.py:1228: FutureWarning: The `inplace` parameter in pandas.Categorical.reorder_categories is deprecated and will be removed in a future version. Reordering categories will always return a new Categorical object.\n",
      "  c.reorder_categories(natsorted(c.categories), inplace=True)\n",
      "... storing 'cell_type' as categorical\n",
      "/data/estorrs/miniconda3/envs/pollock_new/lib/python3.8/site-packages/anndata/_core/anndata.py:1228: FutureWarning: The `inplace` parameter in pandas.Categorical.reorder_categories is deprecated and will be removed in a future version. Reordering categories will always return a new Categorical object.\n",
      "  c.reorder_categories(natsorted(c.categories), inplace=True)\n",
      "... storing 'orig_cell_type' as categorical\n",
      "/data/estorrs/miniconda3/envs/pollock_new/lib/python3.8/site-packages/anndata/_core/anndata.py:1228: FutureWarning: The `inplace` parameter in pandas.Categorical.reorder_categories is deprecated and will be removed in a future version. Reordering categories will always return a new Categorical object.\n",
      "  c.reorder_categories(natsorted(c.categories), inplace=True)\n",
      "... storing 'predicted_cell_type' as categorical\n",
      "/data/estorrs/miniconda3/envs/pollock_new/lib/python3.8/site-packages/anndata/_core/anndata.py:1228: FutureWarning: The `inplace` parameter in pandas.Categorical.reorder_categories is deprecated and will be removed in a future version. Reordering categories will always return a new Categorical object.\n",
      "  c.reorder_categories(natsorted(c.categories), inplace=True)\n",
      "... storing 'cell_type' as categorical\n",
      "/data/estorrs/miniconda3/envs/pollock_new/lib/python3.8/site-packages/anndata/_core/anndata.py:1228: FutureWarning: The `inplace` parameter in pandas.Categorical.reorder_categories is deprecated and will be removed in a future version. Reordering categories will always return a new Categorical object.\n",
      "  c.reorder_categories(natsorted(c.categories), inplace=True)\n",
      "... storing 'orig_cell_type' as categorical\n",
      "/data/estorrs/miniconda3/envs/pollock_new/lib/python3.8/site-packages/anndata/_core/anndata.py:1228: FutureWarning: The `inplace` parameter in pandas.Categorical.reorder_categories is deprecated and will be removed in a future version. Reordering categories will always return a new Categorical object.\n",
      "  c.reorder_categories(natsorted(c.categories), inplace=True)\n",
      "... storing 'predicted_cell_type' as categorical\n",
      "/data/estorrs/miniconda3/envs/pollock_new/lib/python3.8/site-packages/anndata/_core/anndata.py:1228: FutureWarning: The `inplace` parameter in pandas.Categorical.reorder_categories is deprecated and will be removed in a future version. Reordering categories will always return a new Categorical object.\n",
      "  c.reorder_categories(natsorted(c.categories), inplace=True)\n",
      "... storing 'cell_type' as categorical\n",
      "/data/estorrs/miniconda3/envs/pollock_new/lib/python3.8/site-packages/anndata/_core/anndata.py:1228: FutureWarning: The `inplace` parameter in pandas.Categorical.reorder_categories is deprecated and will be removed in a future version. Reordering categories will always return a new Categorical object.\n",
      "  c.reorder_categories(natsorted(c.categories), inplace=True)\n",
      "... storing 'orig_cell_type' as categorical\n",
      "/data/estorrs/miniconda3/envs/pollock_new/lib/python3.8/site-packages/anndata/_core/anndata.py:1228: FutureWarning: The `inplace` parameter in pandas.Categorical.reorder_categories is deprecated and will be removed in a future version. Reordering categories will always return a new Categorical object.\n",
      "  c.reorder_categories(natsorted(c.categories), inplace=True)\n",
      "... storing 'predicted_cell_type' as categorical\n",
      "/data/estorrs/miniconda3/envs/pollock_new/lib/python3.8/site-packages/anndata/_core/anndata.py:1228: FutureWarning: The `inplace` parameter in pandas.Categorical.reorder_categories is deprecated and will be removed in a future version. Reordering categories will always return a new Categorical object.\n",
      "  c.reorder_categories(natsorted(c.categories), inplace=True)\n",
      "... storing 'cell_type' as categorical\n",
      "/data/estorrs/miniconda3/envs/pollock_new/lib/python3.8/site-packages/anndata/_core/anndata.py:1228: FutureWarning: The `inplace` parameter in pandas.Categorical.reorder_categories is deprecated and will be removed in a future version. Reordering categories will always return a new Categorical object.\n",
      "  c.reorder_categories(natsorted(c.categories), inplace=True)\n",
      "... storing 'orig_cell_type' as categorical\n",
      "/data/estorrs/miniconda3/envs/pollock_new/lib/python3.8/site-packages/anndata/_core/anndata.py:1228: FutureWarning: The `inplace` parameter in pandas.Categorical.reorder_categories is deprecated and will be removed in a future version. Reordering categories will always return a new Categorical object.\n",
      "  c.reorder_categories(natsorted(c.categories), inplace=True)\n",
      "... storing 'predicted_cell_type' as categorical\n"
     ]
    }
   ],
   "source": [
    "for dtype, d1 in to_prediction.items():\n",
    "    for disease, a in d1.items():\n",
    "        a.write_h5ad(os.path.join(result_dir, f'{dtype}_{disease}.h5ad'))"
   ]
  },
  {
   "cell_type": "code",
   "execution_count": 13,
   "id": "f2a04e57",
   "metadata": {
    "hidden": true
   },
   "outputs": [
    {
     "name": "stdout",
     "output_type": "stream",
     "text": [
      "snRNAseq ccrcc\n",
      "snRNAseq brca\n",
      "snRNAseq gbm\n",
      "snATACseq brca\n",
      "snATACseq ccrcc\n",
      "snATACseq gbm\n",
      "scRNAseq cesc\n",
      "scRNAseq myeloma\n",
      "scRNAseq brca\n",
      "scRNAseq hnscc\n",
      "scRNAseq pdac\n",
      "scRNAseq melanoma\n"
     ]
    }
   ],
   "source": [
    "for dtype, d1 in fmap.items():\n",
    "    for disease, d2 in d1.items():\n",
    "        print(dtype, disease)\n",
    "        adata = sc.read_h5ad(os.path.join(result_dir, f'{dtype}_{disease}.h5ad'))\n",
    "        y_pred = adata.obs['predicted_cell_type'].to_list()\n",
    "        y_true = adata.obs['cell_type'].to_list()\n",
    "        d, cm = get_metrics(y_true, y_pred)\n",
    "        \n",
    "        d.to_csv(os.path.join(result_dir, f'{dtype}_{disease}_clf_report.txt'), sep='\\t')\n",
    "        cm.to_csv(os.path.join(result_dir, f'{dtype}_{disease}_confusion_matrix.txt'), sep='\\t')"
   ]
  },
  {
   "cell_type": "code",
   "execution_count": 13,
   "id": "c378ffd6",
   "metadata": {
    "hidden": true
   },
   "outputs": [],
   "source": [
    "# with folds\n",
    "result_dir = '/data/pollock/benchmarking/results/scanpy/interdataset_with_folds'"
   ]
  },
  {
   "cell_type": "code",
   "execution_count": 14,
   "id": "0ab5b3f1",
   "metadata": {
    "hidden": true
   },
   "outputs": [
    {
     "name": "stdout",
     "output_type": "stream",
     "text": [
      "snRNAseq ccrcc fold3\n"
     ]
    },
    {
     "name": "stderr",
     "output_type": "stream",
     "text": [
      "/data/estorrs/miniconda3/envs/pollock_new/lib/python3.8/site-packages/scanpy/preprocessing/_simple.py:843: UserWarning: Revieved a view of an AnnData. Making a copy.\n",
      "  view_to_actual(adata)\n"
     ]
    },
    {
     "name": "stdout",
     "output_type": "stream",
     "text": [
      "snRNAseq ccrcc fold1\n"
     ]
    },
    {
     "name": "stderr",
     "output_type": "stream",
     "text": [
      "/data/estorrs/miniconda3/envs/pollock_new/lib/python3.8/site-packages/scanpy/preprocessing/_simple.py:843: UserWarning: Revieved a view of an AnnData. Making a copy.\n",
      "  view_to_actual(adata)\n"
     ]
    },
    {
     "name": "stdout",
     "output_type": "stream",
     "text": [
      "snRNAseq ccrcc fold2\n"
     ]
    },
    {
     "name": "stderr",
     "output_type": "stream",
     "text": [
      "/data/estorrs/miniconda3/envs/pollock_new/lib/python3.8/site-packages/scanpy/preprocessing/_simple.py:843: UserWarning: Revieved a view of an AnnData. Making a copy.\n",
      "  view_to_actual(adata)\n"
     ]
    },
    {
     "name": "stdout",
     "output_type": "stream",
     "text": [
      "snRNAseq ccrcc fold0\n"
     ]
    },
    {
     "name": "stderr",
     "output_type": "stream",
     "text": [
      "/data/estorrs/miniconda3/envs/pollock_new/lib/python3.8/site-packages/scanpy/preprocessing/_simple.py:843: UserWarning: Revieved a view of an AnnData. Making a copy.\n",
      "  view_to_actual(adata)\n"
     ]
    },
    {
     "name": "stdout",
     "output_type": "stream",
     "text": [
      "snRNAseq ccrcc fold4\n"
     ]
    },
    {
     "name": "stderr",
     "output_type": "stream",
     "text": [
      "/data/estorrs/miniconda3/envs/pollock_new/lib/python3.8/site-packages/scanpy/preprocessing/_simple.py:843: UserWarning: Revieved a view of an AnnData. Making a copy.\n",
      "  view_to_actual(adata)\n"
     ]
    },
    {
     "name": "stdout",
     "output_type": "stream",
     "text": [
      "snRNAseq brca fold2\n"
     ]
    },
    {
     "name": "stderr",
     "output_type": "stream",
     "text": [
      "/data/estorrs/miniconda3/envs/pollock_new/lib/python3.8/site-packages/scanpy/preprocessing/_simple.py:843: UserWarning: Revieved a view of an AnnData. Making a copy.\n",
      "  view_to_actual(adata)\n"
     ]
    },
    {
     "name": "stdout",
     "output_type": "stream",
     "text": [
      "snRNAseq brca fold1\n"
     ]
    },
    {
     "name": "stderr",
     "output_type": "stream",
     "text": [
      "/data/estorrs/miniconda3/envs/pollock_new/lib/python3.8/site-packages/scanpy/preprocessing/_simple.py:843: UserWarning: Revieved a view of an AnnData. Making a copy.\n",
      "  view_to_actual(adata)\n"
     ]
    },
    {
     "name": "stdout",
     "output_type": "stream",
     "text": [
      "snRNAseq brca fold3\n"
     ]
    },
    {
     "name": "stderr",
     "output_type": "stream",
     "text": [
      "/data/estorrs/miniconda3/envs/pollock_new/lib/python3.8/site-packages/scanpy/preprocessing/_simple.py:843: UserWarning: Revieved a view of an AnnData. Making a copy.\n",
      "  view_to_actual(adata)\n"
     ]
    },
    {
     "name": "stdout",
     "output_type": "stream",
     "text": [
      "snRNAseq brca fold0\n"
     ]
    },
    {
     "name": "stderr",
     "output_type": "stream",
     "text": [
      "/data/estorrs/miniconda3/envs/pollock_new/lib/python3.8/site-packages/scanpy/preprocessing/_simple.py:843: UserWarning: Revieved a view of an AnnData. Making a copy.\n",
      "  view_to_actual(adata)\n"
     ]
    },
    {
     "name": "stdout",
     "output_type": "stream",
     "text": [
      "snRNAseq brca fold4\n"
     ]
    },
    {
     "name": "stderr",
     "output_type": "stream",
     "text": [
      "/data/estorrs/miniconda3/envs/pollock_new/lib/python3.8/site-packages/scanpy/preprocessing/_simple.py:843: UserWarning: Revieved a view of an AnnData. Making a copy.\n",
      "  view_to_actual(adata)\n"
     ]
    },
    {
     "name": "stdout",
     "output_type": "stream",
     "text": [
      "snRNAseq gbm fold4\n"
     ]
    },
    {
     "name": "stderr",
     "output_type": "stream",
     "text": [
      "/data/estorrs/miniconda3/envs/pollock_new/lib/python3.8/site-packages/scanpy/preprocessing/_simple.py:843: UserWarning: Revieved a view of an AnnData. Making a copy.\n",
      "  view_to_actual(adata)\n"
     ]
    },
    {
     "name": "stdout",
     "output_type": "stream",
     "text": [
      "snRNAseq gbm fold3\n"
     ]
    },
    {
     "name": "stderr",
     "output_type": "stream",
     "text": [
      "/data/estorrs/miniconda3/envs/pollock_new/lib/python3.8/site-packages/scanpy/preprocessing/_simple.py:843: UserWarning: Revieved a view of an AnnData. Making a copy.\n",
      "  view_to_actual(adata)\n"
     ]
    },
    {
     "name": "stdout",
     "output_type": "stream",
     "text": [
      "snRNAseq gbm fold0\n"
     ]
    },
    {
     "name": "stderr",
     "output_type": "stream",
     "text": [
      "/data/estorrs/miniconda3/envs/pollock_new/lib/python3.8/site-packages/scanpy/preprocessing/_simple.py:843: UserWarning: Revieved a view of an AnnData. Making a copy.\n",
      "  view_to_actual(adata)\n"
     ]
    },
    {
     "name": "stdout",
     "output_type": "stream",
     "text": [
      "snRNAseq gbm fold2\n"
     ]
    },
    {
     "name": "stderr",
     "output_type": "stream",
     "text": [
      "/data/estorrs/miniconda3/envs/pollock_new/lib/python3.8/site-packages/scanpy/preprocessing/_simple.py:843: UserWarning: Revieved a view of an AnnData. Making a copy.\n",
      "  view_to_actual(adata)\n"
     ]
    },
    {
     "name": "stdout",
     "output_type": "stream",
     "text": [
      "snRNAseq gbm fold1\n"
     ]
    },
    {
     "name": "stderr",
     "output_type": "stream",
     "text": [
      "/data/estorrs/miniconda3/envs/pollock_new/lib/python3.8/site-packages/scanpy/preprocessing/_simple.py:843: UserWarning: Revieved a view of an AnnData. Making a copy.\n",
      "  view_to_actual(adata)\n"
     ]
    },
    {
     "name": "stdout",
     "output_type": "stream",
     "text": [
      "snATACseq ccrcc fold3\n"
     ]
    },
    {
     "name": "stderr",
     "output_type": "stream",
     "text": [
      "/data/estorrs/miniconda3/envs/pollock_new/lib/python3.8/site-packages/scanpy/preprocessing/_simple.py:843: UserWarning: Revieved a view of an AnnData. Making a copy.\n",
      "  view_to_actual(adata)\n"
     ]
    },
    {
     "name": "stdout",
     "output_type": "stream",
     "text": [
      "snATACseq ccrcc fold1\n"
     ]
    },
    {
     "name": "stderr",
     "output_type": "stream",
     "text": [
      "/data/estorrs/miniconda3/envs/pollock_new/lib/python3.8/site-packages/scanpy/preprocessing/_simple.py:843: UserWarning: Revieved a view of an AnnData. Making a copy.\n",
      "  view_to_actual(adata)\n"
     ]
    },
    {
     "name": "stdout",
     "output_type": "stream",
     "text": [
      "snATACseq ccrcc fold2\n"
     ]
    },
    {
     "name": "stderr",
     "output_type": "stream",
     "text": [
      "/data/estorrs/miniconda3/envs/pollock_new/lib/python3.8/site-packages/scanpy/preprocessing/_simple.py:843: UserWarning: Revieved a view of an AnnData. Making a copy.\n",
      "  view_to_actual(adata)\n"
     ]
    },
    {
     "name": "stdout",
     "output_type": "stream",
     "text": [
      "snATACseq ccrcc fold0\n"
     ]
    },
    {
     "name": "stderr",
     "output_type": "stream",
     "text": [
      "/data/estorrs/miniconda3/envs/pollock_new/lib/python3.8/site-packages/scanpy/preprocessing/_simple.py:843: UserWarning: Revieved a view of an AnnData. Making a copy.\n",
      "  view_to_actual(adata)\n"
     ]
    },
    {
     "name": "stdout",
     "output_type": "stream",
     "text": [
      "snATACseq ccrcc fold4\n"
     ]
    },
    {
     "name": "stderr",
     "output_type": "stream",
     "text": [
      "/data/estorrs/miniconda3/envs/pollock_new/lib/python3.8/site-packages/scanpy/preprocessing/_simple.py:843: UserWarning: Revieved a view of an AnnData. Making a copy.\n",
      "  view_to_actual(adata)\n"
     ]
    },
    {
     "name": "stdout",
     "output_type": "stream",
     "text": [
      "snATACseq brca fold2\n"
     ]
    },
    {
     "name": "stderr",
     "output_type": "stream",
     "text": [
      "/data/estorrs/miniconda3/envs/pollock_new/lib/python3.8/site-packages/scanpy/preprocessing/_simple.py:843: UserWarning: Revieved a view of an AnnData. Making a copy.\n",
      "  view_to_actual(adata)\n"
     ]
    },
    {
     "name": "stdout",
     "output_type": "stream",
     "text": [
      "snATACseq brca fold1\n"
     ]
    },
    {
     "name": "stderr",
     "output_type": "stream",
     "text": [
      "/data/estorrs/miniconda3/envs/pollock_new/lib/python3.8/site-packages/scanpy/preprocessing/_simple.py:843: UserWarning: Revieved a view of an AnnData. Making a copy.\n",
      "  view_to_actual(adata)\n"
     ]
    },
    {
     "name": "stdout",
     "output_type": "stream",
     "text": [
      "snATACseq brca fold3\n"
     ]
    },
    {
     "name": "stderr",
     "output_type": "stream",
     "text": [
      "/data/estorrs/miniconda3/envs/pollock_new/lib/python3.8/site-packages/scanpy/preprocessing/_simple.py:843: UserWarning: Revieved a view of an AnnData. Making a copy.\n",
      "  view_to_actual(adata)\n"
     ]
    },
    {
     "name": "stdout",
     "output_type": "stream",
     "text": [
      "snATACseq brca fold0\n"
     ]
    },
    {
     "name": "stderr",
     "output_type": "stream",
     "text": [
      "/data/estorrs/miniconda3/envs/pollock_new/lib/python3.8/site-packages/scanpy/preprocessing/_simple.py:843: UserWarning: Revieved a view of an AnnData. Making a copy.\n",
      "  view_to_actual(adata)\n"
     ]
    },
    {
     "name": "stdout",
     "output_type": "stream",
     "text": [
      "snATACseq brca fold4\n"
     ]
    },
    {
     "name": "stderr",
     "output_type": "stream",
     "text": [
      "/data/estorrs/miniconda3/envs/pollock_new/lib/python3.8/site-packages/scanpy/preprocessing/_simple.py:843: UserWarning: Revieved a view of an AnnData. Making a copy.\n",
      "  view_to_actual(adata)\n"
     ]
    },
    {
     "name": "stdout",
     "output_type": "stream",
     "text": [
      "snATACseq gbm fold4\n"
     ]
    },
    {
     "name": "stderr",
     "output_type": "stream",
     "text": [
      "/data/estorrs/miniconda3/envs/pollock_new/lib/python3.8/site-packages/scanpy/preprocessing/_simple.py:843: UserWarning: Revieved a view of an AnnData. Making a copy.\n",
      "  view_to_actual(adata)\n"
     ]
    },
    {
     "name": "stdout",
     "output_type": "stream",
     "text": [
      "snATACseq gbm fold3\n"
     ]
    },
    {
     "name": "stderr",
     "output_type": "stream",
     "text": [
      "/data/estorrs/miniconda3/envs/pollock_new/lib/python3.8/site-packages/scanpy/preprocessing/_simple.py:843: UserWarning: Revieved a view of an AnnData. Making a copy.\n",
      "  view_to_actual(adata)\n"
     ]
    },
    {
     "name": "stdout",
     "output_type": "stream",
     "text": [
      "snATACseq gbm fold0\n"
     ]
    },
    {
     "name": "stderr",
     "output_type": "stream",
     "text": [
      "/data/estorrs/miniconda3/envs/pollock_new/lib/python3.8/site-packages/scanpy/preprocessing/_simple.py:843: UserWarning: Revieved a view of an AnnData. Making a copy.\n",
      "  view_to_actual(adata)\n"
     ]
    },
    {
     "name": "stdout",
     "output_type": "stream",
     "text": [
      "snATACseq gbm fold2\n"
     ]
    },
    {
     "name": "stderr",
     "output_type": "stream",
     "text": [
      "/data/estorrs/miniconda3/envs/pollock_new/lib/python3.8/site-packages/scanpy/preprocessing/_simple.py:843: UserWarning: Revieved a view of an AnnData. Making a copy.\n",
      "  view_to_actual(adata)\n"
     ]
    },
    {
     "name": "stdout",
     "output_type": "stream",
     "text": [
      "snATACseq gbm fold1\n"
     ]
    },
    {
     "name": "stderr",
     "output_type": "stream",
     "text": [
      "/data/estorrs/miniconda3/envs/pollock_new/lib/python3.8/site-packages/scanpy/preprocessing/_simple.py:843: UserWarning: Revieved a view of an AnnData. Making a copy.\n",
      "  view_to_actual(adata)\n"
     ]
    },
    {
     "name": "stdout",
     "output_type": "stream",
     "text": [
      "scRNAseq hnscc fold0\n"
     ]
    },
    {
     "name": "stderr",
     "output_type": "stream",
     "text": [
      "/data/estorrs/miniconda3/envs/pollock_new/lib/python3.8/site-packages/scanpy/preprocessing/_simple.py:843: UserWarning: Revieved a view of an AnnData. Making a copy.\n",
      "  view_to_actual(adata)\n"
     ]
    },
    {
     "name": "stdout",
     "output_type": "stream",
     "text": [
      "scRNAseq hnscc fold4\n"
     ]
    },
    {
     "name": "stderr",
     "output_type": "stream",
     "text": [
      "/data/estorrs/miniconda3/envs/pollock_new/lib/python3.8/site-packages/scanpy/preprocessing/_simple.py:843: UserWarning: Revieved a view of an AnnData. Making a copy.\n",
      "  view_to_actual(adata)\n"
     ]
    },
    {
     "name": "stdout",
     "output_type": "stream",
     "text": [
      "scRNAseq hnscc fold1\n"
     ]
    },
    {
     "name": "stderr",
     "output_type": "stream",
     "text": [
      "/data/estorrs/miniconda3/envs/pollock_new/lib/python3.8/site-packages/scanpy/preprocessing/_simple.py:843: UserWarning: Revieved a view of an AnnData. Making a copy.\n",
      "  view_to_actual(adata)\n"
     ]
    },
    {
     "name": "stdout",
     "output_type": "stream",
     "text": [
      "scRNAseq hnscc fold3\n"
     ]
    },
    {
     "name": "stderr",
     "output_type": "stream",
     "text": [
      "/data/estorrs/miniconda3/envs/pollock_new/lib/python3.8/site-packages/scanpy/preprocessing/_simple.py:843: UserWarning: Revieved a view of an AnnData. Making a copy.\n",
      "  view_to_actual(adata)\n"
     ]
    },
    {
     "name": "stdout",
     "output_type": "stream",
     "text": [
      "scRNAseq hnscc fold2\n"
     ]
    },
    {
     "name": "stderr",
     "output_type": "stream",
     "text": [
      "/data/estorrs/miniconda3/envs/pollock_new/lib/python3.8/site-packages/scanpy/preprocessing/_simple.py:843: UserWarning: Revieved a view of an AnnData. Making a copy.\n",
      "  view_to_actual(adata)\n"
     ]
    },
    {
     "name": "stdout",
     "output_type": "stream",
     "text": [
      "scRNAseq cesc fold4\n"
     ]
    },
    {
     "name": "stderr",
     "output_type": "stream",
     "text": [
      "/data/estorrs/miniconda3/envs/pollock_new/lib/python3.8/site-packages/scanpy/preprocessing/_simple.py:843: UserWarning: Revieved a view of an AnnData. Making a copy.\n",
      "  view_to_actual(adata)\n"
     ]
    },
    {
     "name": "stdout",
     "output_type": "stream",
     "text": [
      "scRNAseq cesc fold3\n"
     ]
    },
    {
     "name": "stderr",
     "output_type": "stream",
     "text": [
      "/data/estorrs/miniconda3/envs/pollock_new/lib/python3.8/site-packages/scanpy/preprocessing/_simple.py:843: UserWarning: Revieved a view of an AnnData. Making a copy.\n",
      "  view_to_actual(adata)\n"
     ]
    },
    {
     "name": "stdout",
     "output_type": "stream",
     "text": [
      "scRNAseq cesc fold2\n"
     ]
    },
    {
     "name": "stderr",
     "output_type": "stream",
     "text": [
      "/data/estorrs/miniconda3/envs/pollock_new/lib/python3.8/site-packages/scanpy/preprocessing/_simple.py:843: UserWarning: Revieved a view of an AnnData. Making a copy.\n",
      "  view_to_actual(adata)\n"
     ]
    },
    {
     "name": "stdout",
     "output_type": "stream",
     "text": [
      "scRNAseq cesc fold0\n"
     ]
    },
    {
     "name": "stderr",
     "output_type": "stream",
     "text": [
      "/data/estorrs/miniconda3/envs/pollock_new/lib/python3.8/site-packages/scanpy/preprocessing/_simple.py:843: UserWarning: Revieved a view of an AnnData. Making a copy.\n",
      "  view_to_actual(adata)\n"
     ]
    },
    {
     "name": "stdout",
     "output_type": "stream",
     "text": [
      "scRNAseq cesc fold1\n"
     ]
    },
    {
     "name": "stderr",
     "output_type": "stream",
     "text": [
      "/data/estorrs/miniconda3/envs/pollock_new/lib/python3.8/site-packages/scanpy/preprocessing/_simple.py:843: UserWarning: Revieved a view of an AnnData. Making a copy.\n",
      "  view_to_actual(adata)\n"
     ]
    },
    {
     "name": "stdout",
     "output_type": "stream",
     "text": [
      "scRNAseq brca fold2\n"
     ]
    },
    {
     "name": "stderr",
     "output_type": "stream",
     "text": [
      "/data/estorrs/miniconda3/envs/pollock_new/lib/python3.8/site-packages/scanpy/preprocessing/_simple.py:843: UserWarning: Revieved a view of an AnnData. Making a copy.\n",
      "  view_to_actual(adata)\n"
     ]
    },
    {
     "name": "stdout",
     "output_type": "stream",
     "text": [
      "scRNAseq brca fold1\n"
     ]
    },
    {
     "name": "stderr",
     "output_type": "stream",
     "text": [
      "/data/estorrs/miniconda3/envs/pollock_new/lib/python3.8/site-packages/scanpy/preprocessing/_simple.py:843: UserWarning: Revieved a view of an AnnData. Making a copy.\n",
      "  view_to_actual(adata)\n"
     ]
    },
    {
     "name": "stdout",
     "output_type": "stream",
     "text": [
      "scRNAseq brca fold3\n"
     ]
    },
    {
     "name": "stderr",
     "output_type": "stream",
     "text": [
      "/data/estorrs/miniconda3/envs/pollock_new/lib/python3.8/site-packages/scanpy/preprocessing/_simple.py:843: UserWarning: Revieved a view of an AnnData. Making a copy.\n",
      "  view_to_actual(adata)\n"
     ]
    },
    {
     "name": "stdout",
     "output_type": "stream",
     "text": [
      "scRNAseq brca fold0\n"
     ]
    },
    {
     "name": "stderr",
     "output_type": "stream",
     "text": [
      "/data/estorrs/miniconda3/envs/pollock_new/lib/python3.8/site-packages/scanpy/preprocessing/_simple.py:843: UserWarning: Revieved a view of an AnnData. Making a copy.\n",
      "  view_to_actual(adata)\n"
     ]
    },
    {
     "name": "stdout",
     "output_type": "stream",
     "text": [
      "scRNAseq brca fold4\n"
     ]
    },
    {
     "name": "stderr",
     "output_type": "stream",
     "text": [
      "/data/estorrs/miniconda3/envs/pollock_new/lib/python3.8/site-packages/scanpy/preprocessing/_simple.py:843: UserWarning: Revieved a view of an AnnData. Making a copy.\n",
      "  view_to_actual(adata)\n"
     ]
    },
    {
     "name": "stdout",
     "output_type": "stream",
     "text": [
      "scRNAseq myeloma fold0\n"
     ]
    },
    {
     "name": "stderr",
     "output_type": "stream",
     "text": [
      "/data/estorrs/miniconda3/envs/pollock_new/lib/python3.8/site-packages/scanpy/preprocessing/_simple.py:843: UserWarning: Revieved a view of an AnnData. Making a copy.\n",
      "  view_to_actual(adata)\n"
     ]
    },
    {
     "name": "stdout",
     "output_type": "stream",
     "text": [
      "scRNAseq myeloma fold1\n"
     ]
    },
    {
     "name": "stderr",
     "output_type": "stream",
     "text": [
      "/data/estorrs/miniconda3/envs/pollock_new/lib/python3.8/site-packages/scanpy/preprocessing/_simple.py:843: UserWarning: Revieved a view of an AnnData. Making a copy.\n",
      "  view_to_actual(adata)\n"
     ]
    },
    {
     "name": "stdout",
     "output_type": "stream",
     "text": [
      "scRNAseq myeloma fold3\n"
     ]
    },
    {
     "name": "stderr",
     "output_type": "stream",
     "text": [
      "/data/estorrs/miniconda3/envs/pollock_new/lib/python3.8/site-packages/scanpy/preprocessing/_simple.py:843: UserWarning: Revieved a view of an AnnData. Making a copy.\n",
      "  view_to_actual(adata)\n"
     ]
    },
    {
     "name": "stdout",
     "output_type": "stream",
     "text": [
      "scRNAseq myeloma fold4\n"
     ]
    },
    {
     "name": "stderr",
     "output_type": "stream",
     "text": [
      "/data/estorrs/miniconda3/envs/pollock_new/lib/python3.8/site-packages/scanpy/preprocessing/_simple.py:843: UserWarning: Revieved a view of an AnnData. Making a copy.\n",
      "  view_to_actual(adata)\n"
     ]
    },
    {
     "name": "stdout",
     "output_type": "stream",
     "text": [
      "scRNAseq myeloma fold2\n"
     ]
    },
    {
     "name": "stderr",
     "output_type": "stream",
     "text": [
      "/data/estorrs/miniconda3/envs/pollock_new/lib/python3.8/site-packages/scanpy/preprocessing/_simple.py:843: UserWarning: Revieved a view of an AnnData. Making a copy.\n",
      "  view_to_actual(adata)\n"
     ]
    },
    {
     "name": "stdout",
     "output_type": "stream",
     "text": [
      "scRNAseq melanoma fold3\n"
     ]
    },
    {
     "name": "stderr",
     "output_type": "stream",
     "text": [
      "/data/estorrs/miniconda3/envs/pollock_new/lib/python3.8/site-packages/scanpy/preprocessing/_simple.py:843: UserWarning: Revieved a view of an AnnData. Making a copy.\n",
      "  view_to_actual(adata)\n"
     ]
    },
    {
     "name": "stdout",
     "output_type": "stream",
     "text": [
      "scRNAseq melanoma fold0\n"
     ]
    },
    {
     "name": "stderr",
     "output_type": "stream",
     "text": [
      "/data/estorrs/miniconda3/envs/pollock_new/lib/python3.8/site-packages/scanpy/preprocessing/_simple.py:843: UserWarning: Revieved a view of an AnnData. Making a copy.\n",
      "  view_to_actual(adata)\n"
     ]
    },
    {
     "name": "stdout",
     "output_type": "stream",
     "text": [
      "scRNAseq melanoma fold2\n"
     ]
    },
    {
     "name": "stderr",
     "output_type": "stream",
     "text": [
      "/data/estorrs/miniconda3/envs/pollock_new/lib/python3.8/site-packages/scanpy/preprocessing/_simple.py:843: UserWarning: Revieved a view of an AnnData. Making a copy.\n",
      "  view_to_actual(adata)\n"
     ]
    },
    {
     "name": "stdout",
     "output_type": "stream",
     "text": [
      "scRNAseq melanoma fold1\n"
     ]
    },
    {
     "name": "stderr",
     "output_type": "stream",
     "text": [
      "/data/estorrs/miniconda3/envs/pollock_new/lib/python3.8/site-packages/scanpy/preprocessing/_simple.py:843: UserWarning: Revieved a view of an AnnData. Making a copy.\n",
      "  view_to_actual(adata)\n"
     ]
    },
    {
     "name": "stdout",
     "output_type": "stream",
     "text": [
      "scRNAseq melanoma fold4\n"
     ]
    },
    {
     "name": "stderr",
     "output_type": "stream",
     "text": [
      "/data/estorrs/miniconda3/envs/pollock_new/lib/python3.8/site-packages/scanpy/preprocessing/_simple.py:843: UserWarning: Revieved a view of an AnnData. Making a copy.\n",
      "  view_to_actual(adata)\n"
     ]
    },
    {
     "name": "stdout",
     "output_type": "stream",
     "text": [
      "scRNAseq pdac fold2\n"
     ]
    },
    {
     "name": "stderr",
     "output_type": "stream",
     "text": [
      "/data/estorrs/miniconda3/envs/pollock_new/lib/python3.8/site-packages/scanpy/preprocessing/_simple.py:843: UserWarning: Revieved a view of an AnnData. Making a copy.\n",
      "  view_to_actual(adata)\n"
     ]
    },
    {
     "name": "stdout",
     "output_type": "stream",
     "text": [
      "scRNAseq pdac fold3\n"
     ]
    },
    {
     "name": "stderr",
     "output_type": "stream",
     "text": [
      "/data/estorrs/miniconda3/envs/pollock_new/lib/python3.8/site-packages/scanpy/preprocessing/_simple.py:843: UserWarning: Revieved a view of an AnnData. Making a copy.\n",
      "  view_to_actual(adata)\n"
     ]
    },
    {
     "name": "stdout",
     "output_type": "stream",
     "text": [
      "scRNAseq pdac fold1\n"
     ]
    },
    {
     "name": "stderr",
     "output_type": "stream",
     "text": [
      "/data/estorrs/miniconda3/envs/pollock_new/lib/python3.8/site-packages/scanpy/preprocessing/_simple.py:843: UserWarning: Revieved a view of an AnnData. Making a copy.\n",
      "  view_to_actual(adata)\n"
     ]
    },
    {
     "name": "stdout",
     "output_type": "stream",
     "text": [
      "scRNAseq pdac fold4\n"
     ]
    },
    {
     "name": "stderr",
     "output_type": "stream",
     "text": [
      "/data/estorrs/miniconda3/envs/pollock_new/lib/python3.8/site-packages/scanpy/preprocessing/_simple.py:843: UserWarning: Revieved a view of an AnnData. Making a copy.\n",
      "  view_to_actual(adata)\n"
     ]
    },
    {
     "name": "stdout",
     "output_type": "stream",
     "text": [
      "scRNAseq pdac fold0\n"
     ]
    },
    {
     "name": "stderr",
     "output_type": "stream",
     "text": [
      "/data/estorrs/miniconda3/envs/pollock_new/lib/python3.8/site-packages/scanpy/preprocessing/_simple.py:843: UserWarning: Revieved a view of an AnnData. Making a copy.\n",
      "  view_to_actual(adata)\n"
     ]
    }
   ],
   "source": [
    "to_prediction = {}\n",
    "for dtype, d1 in folds_fmap.items():\n",
    "    to_prediction[dtype] = {}\n",
    "    for disease, d2 in d1.items():\n",
    "        to_prediction[dtype][disease] = {}\n",
    "        for fold, d3 in d2.items():\n",
    "            print(dtype, disease, fold)\n",
    "            train = sc.read_h5ad(d3['train'])\n",
    "            val = sc.read_h5ad(d3['val'])\n",
    "\n",
    "            to_prediction[dtype][disease][fold] = predict_scanpy(train, val)\n",
    "        "
   ]
  },
  {
   "cell_type": "code",
   "execution_count": 15,
   "id": "206af6b4",
   "metadata": {
    "hidden": true
   },
   "outputs": [
    {
     "name": "stderr",
     "output_type": "stream",
     "text": [
      "/data/estorrs/miniconda3/envs/pollock_new/lib/python3.8/site-packages/anndata/_core/anndata.py:1228: FutureWarning: The `inplace` parameter in pandas.Categorical.reorder_categories is deprecated and will be removed in a future version. Reordering categories will always return a new Categorical object.\n",
      "  c.reorder_categories(natsorted(c.categories), inplace=True)\n",
      "... storing 'cell_type' as categorical\n",
      "/data/estorrs/miniconda3/envs/pollock_new/lib/python3.8/site-packages/anndata/_core/anndata.py:1228: FutureWarning: The `inplace` parameter in pandas.Categorical.reorder_categories is deprecated and will be removed in a future version. Reordering categories will always return a new Categorical object.\n",
      "  c.reorder_categories(natsorted(c.categories), inplace=True)\n",
      "... storing 'orig_cell_type' as categorical\n",
      "/data/estorrs/miniconda3/envs/pollock_new/lib/python3.8/site-packages/anndata/_core/anndata.py:1228: FutureWarning: The `inplace` parameter in pandas.Categorical.reorder_categories is deprecated and will be removed in a future version. Reordering categories will always return a new Categorical object.\n",
      "  c.reorder_categories(natsorted(c.categories), inplace=True)\n",
      "... storing 'predicted_cell_type' as categorical\n",
      "/data/estorrs/miniconda3/envs/pollock_new/lib/python3.8/site-packages/anndata/_core/anndata.py:1228: FutureWarning: The `inplace` parameter in pandas.Categorical.reorder_categories is deprecated and will be removed in a future version. Reordering categories will always return a new Categorical object.\n",
      "  c.reorder_categories(natsorted(c.categories), inplace=True)\n",
      "... storing 'cell_type' as categorical\n",
      "/data/estorrs/miniconda3/envs/pollock_new/lib/python3.8/site-packages/anndata/_core/anndata.py:1228: FutureWarning: The `inplace` parameter in pandas.Categorical.reorder_categories is deprecated and will be removed in a future version. Reordering categories will always return a new Categorical object.\n",
      "  c.reorder_categories(natsorted(c.categories), inplace=True)\n",
      "... storing 'orig_cell_type' as categorical\n",
      "/data/estorrs/miniconda3/envs/pollock_new/lib/python3.8/site-packages/anndata/_core/anndata.py:1228: FutureWarning: The `inplace` parameter in pandas.Categorical.reorder_categories is deprecated and will be removed in a future version. Reordering categories will always return a new Categorical object.\n",
      "  c.reorder_categories(natsorted(c.categories), inplace=True)\n",
      "... storing 'predicted_cell_type' as categorical\n",
      "/data/estorrs/miniconda3/envs/pollock_new/lib/python3.8/site-packages/anndata/_core/anndata.py:1228: FutureWarning: The `inplace` parameter in pandas.Categorical.reorder_categories is deprecated and will be removed in a future version. Reordering categories will always return a new Categorical object.\n",
      "  c.reorder_categories(natsorted(c.categories), inplace=True)\n",
      "... storing 'cell_type' as categorical\n",
      "/data/estorrs/miniconda3/envs/pollock_new/lib/python3.8/site-packages/anndata/_core/anndata.py:1228: FutureWarning: The `inplace` parameter in pandas.Categorical.reorder_categories is deprecated and will be removed in a future version. Reordering categories will always return a new Categorical object.\n",
      "  c.reorder_categories(natsorted(c.categories), inplace=True)\n",
      "... storing 'orig_cell_type' as categorical\n",
      "/data/estorrs/miniconda3/envs/pollock_new/lib/python3.8/site-packages/anndata/_core/anndata.py:1228: FutureWarning: The `inplace` parameter in pandas.Categorical.reorder_categories is deprecated and will be removed in a future version. Reordering categories will always return a new Categorical object.\n",
      "  c.reorder_categories(natsorted(c.categories), inplace=True)\n",
      "... storing 'predicted_cell_type' as categorical\n",
      "/data/estorrs/miniconda3/envs/pollock_new/lib/python3.8/site-packages/anndata/_core/anndata.py:1228: FutureWarning: The `inplace` parameter in pandas.Categorical.reorder_categories is deprecated and will be removed in a future version. Reordering categories will always return a new Categorical object.\n",
      "  c.reorder_categories(natsorted(c.categories), inplace=True)\n",
      "... storing 'cell_type' as categorical\n",
      "/data/estorrs/miniconda3/envs/pollock_new/lib/python3.8/site-packages/anndata/_core/anndata.py:1228: FutureWarning: The `inplace` parameter in pandas.Categorical.reorder_categories is deprecated and will be removed in a future version. Reordering categories will always return a new Categorical object.\n",
      "  c.reorder_categories(natsorted(c.categories), inplace=True)\n",
      "... storing 'orig_cell_type' as categorical\n",
      "/data/estorrs/miniconda3/envs/pollock_new/lib/python3.8/site-packages/anndata/_core/anndata.py:1228: FutureWarning: The `inplace` parameter in pandas.Categorical.reorder_categories is deprecated and will be removed in a future version. Reordering categories will always return a new Categorical object.\n",
      "  c.reorder_categories(natsorted(c.categories), inplace=True)\n",
      "... storing 'predicted_cell_type' as categorical\n",
      "/data/estorrs/miniconda3/envs/pollock_new/lib/python3.8/site-packages/anndata/_core/anndata.py:1228: FutureWarning: The `inplace` parameter in pandas.Categorical.reorder_categories is deprecated and will be removed in a future version. Reordering categories will always return a new Categorical object.\n",
      "  c.reorder_categories(natsorted(c.categories), inplace=True)\n",
      "... storing 'cell_type' as categorical\n",
      "/data/estorrs/miniconda3/envs/pollock_new/lib/python3.8/site-packages/anndata/_core/anndata.py:1228: FutureWarning: The `inplace` parameter in pandas.Categorical.reorder_categories is deprecated and will be removed in a future version. Reordering categories will always return a new Categorical object.\n",
      "  c.reorder_categories(natsorted(c.categories), inplace=True)\n",
      "... storing 'orig_cell_type' as categorical\n",
      "/data/estorrs/miniconda3/envs/pollock_new/lib/python3.8/site-packages/anndata/_core/anndata.py:1228: FutureWarning: The `inplace` parameter in pandas.Categorical.reorder_categories is deprecated and will be removed in a future version. Reordering categories will always return a new Categorical object.\n",
      "  c.reorder_categories(natsorted(c.categories), inplace=True)\n",
      "... storing 'predicted_cell_type' as categorical\n",
      "/data/estorrs/miniconda3/envs/pollock_new/lib/python3.8/site-packages/anndata/_core/anndata.py:1228: FutureWarning: The `inplace` parameter in pandas.Categorical.reorder_categories is deprecated and will be removed in a future version. Reordering categories will always return a new Categorical object.\n",
      "  c.reorder_categories(natsorted(c.categories), inplace=True)\n",
      "... storing 'cell_type' as categorical\n",
      "/data/estorrs/miniconda3/envs/pollock_new/lib/python3.8/site-packages/anndata/_core/anndata.py:1228: FutureWarning: The `inplace` parameter in pandas.Categorical.reorder_categories is deprecated and will be removed in a future version. Reordering categories will always return a new Categorical object.\n",
      "  c.reorder_categories(natsorted(c.categories), inplace=True)\n",
      "... storing 'orig_cell_type' as categorical\n",
      "/data/estorrs/miniconda3/envs/pollock_new/lib/python3.8/site-packages/anndata/_core/anndata.py:1228: FutureWarning: The `inplace` parameter in pandas.Categorical.reorder_categories is deprecated and will be removed in a future version. Reordering categories will always return a new Categorical object.\n",
      "  c.reorder_categories(natsorted(c.categories), inplace=True)\n",
      "... storing 'predicted_cell_type' as categorical\n",
      "/data/estorrs/miniconda3/envs/pollock_new/lib/python3.8/site-packages/anndata/_core/anndata.py:1228: FutureWarning: The `inplace` parameter in pandas.Categorical.reorder_categories is deprecated and will be removed in a future version. Reordering categories will always return a new Categorical object.\n",
      "  c.reorder_categories(natsorted(c.categories), inplace=True)\n",
      "... storing 'cell_type' as categorical\n",
      "/data/estorrs/miniconda3/envs/pollock_new/lib/python3.8/site-packages/anndata/_core/anndata.py:1228: FutureWarning: The `inplace` parameter in pandas.Categorical.reorder_categories is deprecated and will be removed in a future version. Reordering categories will always return a new Categorical object.\n",
      "  c.reorder_categories(natsorted(c.categories), inplace=True)\n",
      "... storing 'orig_cell_type' as categorical\n",
      "/data/estorrs/miniconda3/envs/pollock_new/lib/python3.8/site-packages/anndata/_core/anndata.py:1228: FutureWarning: The `inplace` parameter in pandas.Categorical.reorder_categories is deprecated and will be removed in a future version. Reordering categories will always return a new Categorical object.\n",
      "  c.reorder_categories(natsorted(c.categories), inplace=True)\n",
      "... storing 'predicted_cell_type' as categorical\n"
     ]
    },
    {
     "name": "stderr",
     "output_type": "stream",
     "text": [
      "/data/estorrs/miniconda3/envs/pollock_new/lib/python3.8/site-packages/anndata/_core/anndata.py:1228: FutureWarning: The `inplace` parameter in pandas.Categorical.reorder_categories is deprecated and will be removed in a future version. Reordering categories will always return a new Categorical object.\n",
      "  c.reorder_categories(natsorted(c.categories), inplace=True)\n",
      "... storing 'cell_type' as categorical\n",
      "/data/estorrs/miniconda3/envs/pollock_new/lib/python3.8/site-packages/anndata/_core/anndata.py:1228: FutureWarning: The `inplace` parameter in pandas.Categorical.reorder_categories is deprecated and will be removed in a future version. Reordering categories will always return a new Categorical object.\n",
      "  c.reorder_categories(natsorted(c.categories), inplace=True)\n",
      "... storing 'orig_cell_type' as categorical\n",
      "/data/estorrs/miniconda3/envs/pollock_new/lib/python3.8/site-packages/anndata/_core/anndata.py:1228: FutureWarning: The `inplace` parameter in pandas.Categorical.reorder_categories is deprecated and will be removed in a future version. Reordering categories will always return a new Categorical object.\n",
      "  c.reorder_categories(natsorted(c.categories), inplace=True)\n",
      "... storing 'predicted_cell_type' as categorical\n",
      "/data/estorrs/miniconda3/envs/pollock_new/lib/python3.8/site-packages/anndata/_core/anndata.py:1228: FutureWarning: The `inplace` parameter in pandas.Categorical.reorder_categories is deprecated and will be removed in a future version. Reordering categories will always return a new Categorical object.\n",
      "  c.reorder_categories(natsorted(c.categories), inplace=True)\n",
      "... storing 'cell_type' as categorical\n",
      "/data/estorrs/miniconda3/envs/pollock_new/lib/python3.8/site-packages/anndata/_core/anndata.py:1228: FutureWarning: The `inplace` parameter in pandas.Categorical.reorder_categories is deprecated and will be removed in a future version. Reordering categories will always return a new Categorical object.\n",
      "  c.reorder_categories(natsorted(c.categories), inplace=True)\n",
      "... storing 'orig_cell_type' as categorical\n",
      "/data/estorrs/miniconda3/envs/pollock_new/lib/python3.8/site-packages/anndata/_core/anndata.py:1228: FutureWarning: The `inplace` parameter in pandas.Categorical.reorder_categories is deprecated and will be removed in a future version. Reordering categories will always return a new Categorical object.\n",
      "  c.reorder_categories(natsorted(c.categories), inplace=True)\n",
      "... storing 'predicted_cell_type' as categorical\n",
      "/data/estorrs/miniconda3/envs/pollock_new/lib/python3.8/site-packages/anndata/_core/anndata.py:1228: FutureWarning: The `inplace` parameter in pandas.Categorical.reorder_categories is deprecated and will be removed in a future version. Reordering categories will always return a new Categorical object.\n",
      "  c.reorder_categories(natsorted(c.categories), inplace=True)\n",
      "... storing 'cell_type' as categorical\n",
      "/data/estorrs/miniconda3/envs/pollock_new/lib/python3.8/site-packages/anndata/_core/anndata.py:1228: FutureWarning: The `inplace` parameter in pandas.Categorical.reorder_categories is deprecated and will be removed in a future version. Reordering categories will always return a new Categorical object.\n",
      "  c.reorder_categories(natsorted(c.categories), inplace=True)\n",
      "... storing 'orig_cell_type' as categorical\n",
      "/data/estorrs/miniconda3/envs/pollock_new/lib/python3.8/site-packages/anndata/_core/anndata.py:1228: FutureWarning: The `inplace` parameter in pandas.Categorical.reorder_categories is deprecated and will be removed in a future version. Reordering categories will always return a new Categorical object.\n",
      "  c.reorder_categories(natsorted(c.categories), inplace=True)\n",
      "... storing 'predicted_cell_type' as categorical\n",
      "/data/estorrs/miniconda3/envs/pollock_new/lib/python3.8/site-packages/anndata/_core/anndata.py:1228: FutureWarning: The `inplace` parameter in pandas.Categorical.reorder_categories is deprecated and will be removed in a future version. Reordering categories will always return a new Categorical object.\n",
      "  c.reorder_categories(natsorted(c.categories), inplace=True)\n",
      "... storing 'cell_type' as categorical\n",
      "/data/estorrs/miniconda3/envs/pollock_new/lib/python3.8/site-packages/anndata/_core/anndata.py:1228: FutureWarning: The `inplace` parameter in pandas.Categorical.reorder_categories is deprecated and will be removed in a future version. Reordering categories will always return a new Categorical object.\n",
      "  c.reorder_categories(natsorted(c.categories), inplace=True)\n",
      "... storing 'orig_cell_type' as categorical\n",
      "/data/estorrs/miniconda3/envs/pollock_new/lib/python3.8/site-packages/anndata/_core/anndata.py:1228: FutureWarning: The `inplace` parameter in pandas.Categorical.reorder_categories is deprecated and will be removed in a future version. Reordering categories will always return a new Categorical object.\n",
      "  c.reorder_categories(natsorted(c.categories), inplace=True)\n",
      "... storing 'predicted_cell_type' as categorical\n",
      "/data/estorrs/miniconda3/envs/pollock_new/lib/python3.8/site-packages/anndata/_core/anndata.py:1228: FutureWarning: The `inplace` parameter in pandas.Categorical.reorder_categories is deprecated and will be removed in a future version. Reordering categories will always return a new Categorical object.\n",
      "  c.reorder_categories(natsorted(c.categories), inplace=True)\n",
      "... storing 'cell_type' as categorical\n",
      "/data/estorrs/miniconda3/envs/pollock_new/lib/python3.8/site-packages/anndata/_core/anndata.py:1228: FutureWarning: The `inplace` parameter in pandas.Categorical.reorder_categories is deprecated and will be removed in a future version. Reordering categories will always return a new Categorical object.\n",
      "  c.reorder_categories(natsorted(c.categories), inplace=True)\n",
      "... storing 'orig_cell_type' as categorical\n",
      "/data/estorrs/miniconda3/envs/pollock_new/lib/python3.8/site-packages/anndata/_core/anndata.py:1228: FutureWarning: The `inplace` parameter in pandas.Categorical.reorder_categories is deprecated and will be removed in a future version. Reordering categories will always return a new Categorical object.\n",
      "  c.reorder_categories(natsorted(c.categories), inplace=True)\n",
      "... storing 'predicted_cell_type' as categorical\n",
      "/data/estorrs/miniconda3/envs/pollock_new/lib/python3.8/site-packages/anndata/_core/anndata.py:1228: FutureWarning: The `inplace` parameter in pandas.Categorical.reorder_categories is deprecated and will be removed in a future version. Reordering categories will always return a new Categorical object.\n",
      "  c.reorder_categories(natsorted(c.categories), inplace=True)\n",
      "... storing 'cell_type' as categorical\n",
      "/data/estorrs/miniconda3/envs/pollock_new/lib/python3.8/site-packages/anndata/_core/anndata.py:1228: FutureWarning: The `inplace` parameter in pandas.Categorical.reorder_categories is deprecated and will be removed in a future version. Reordering categories will always return a new Categorical object.\n",
      "  c.reorder_categories(natsorted(c.categories), inplace=True)\n",
      "... storing 'orig_cell_type' as categorical\n",
      "/data/estorrs/miniconda3/envs/pollock_new/lib/python3.8/site-packages/anndata/_core/anndata.py:1228: FutureWarning: The `inplace` parameter in pandas.Categorical.reorder_categories is deprecated and will be removed in a future version. Reordering categories will always return a new Categorical object.\n",
      "  c.reorder_categories(natsorted(c.categories), inplace=True)\n",
      "... storing 'predicted_cell_type' as categorical\n",
      "/data/estorrs/miniconda3/envs/pollock_new/lib/python3.8/site-packages/anndata/_core/anndata.py:1228: FutureWarning: The `inplace` parameter in pandas.Categorical.reorder_categories is deprecated and will be removed in a future version. Reordering categories will always return a new Categorical object.\n",
      "  c.reorder_categories(natsorted(c.categories), inplace=True)\n",
      "... storing 'cell_type' as categorical\n",
      "/data/estorrs/miniconda3/envs/pollock_new/lib/python3.8/site-packages/anndata/_core/anndata.py:1228: FutureWarning: The `inplace` parameter in pandas.Categorical.reorder_categories is deprecated and will be removed in a future version. Reordering categories will always return a new Categorical object.\n",
      "  c.reorder_categories(natsorted(c.categories), inplace=True)\n",
      "... storing 'orig_cell_type' as categorical\n",
      "/data/estorrs/miniconda3/envs/pollock_new/lib/python3.8/site-packages/anndata/_core/anndata.py:1228: FutureWarning: The `inplace` parameter in pandas.Categorical.reorder_categories is deprecated and will be removed in a future version. Reordering categories will always return a new Categorical object.\n",
      "  c.reorder_categories(natsorted(c.categories), inplace=True)\n",
      "... storing 'predicted_cell_type' as categorical\n"
     ]
    },
    {
     "name": "stderr",
     "output_type": "stream",
     "text": [
      "/data/estorrs/miniconda3/envs/pollock_new/lib/python3.8/site-packages/anndata/_core/anndata.py:1228: FutureWarning: The `inplace` parameter in pandas.Categorical.reorder_categories is deprecated and will be removed in a future version. Reordering categories will always return a new Categorical object.\n",
      "  c.reorder_categories(natsorted(c.categories), inplace=True)\n",
      "... storing 'cell_type' as categorical\n",
      "/data/estorrs/miniconda3/envs/pollock_new/lib/python3.8/site-packages/anndata/_core/anndata.py:1228: FutureWarning: The `inplace` parameter in pandas.Categorical.reorder_categories is deprecated and will be removed in a future version. Reordering categories will always return a new Categorical object.\n",
      "  c.reorder_categories(natsorted(c.categories), inplace=True)\n",
      "... storing 'orig_cell_type' as categorical\n",
      "/data/estorrs/miniconda3/envs/pollock_new/lib/python3.8/site-packages/anndata/_core/anndata.py:1228: FutureWarning: The `inplace` parameter in pandas.Categorical.reorder_categories is deprecated and will be removed in a future version. Reordering categories will always return a new Categorical object.\n",
      "  c.reorder_categories(natsorted(c.categories), inplace=True)\n",
      "... storing 'predicted_cell_type' as categorical\n",
      "/data/estorrs/miniconda3/envs/pollock_new/lib/python3.8/site-packages/anndata/_core/anndata.py:1228: FutureWarning: The `inplace` parameter in pandas.Categorical.reorder_categories is deprecated and will be removed in a future version. Reordering categories will always return a new Categorical object.\n",
      "  c.reorder_categories(natsorted(c.categories), inplace=True)\n",
      "... storing 'cell_type' as categorical\n",
      "/data/estorrs/miniconda3/envs/pollock_new/lib/python3.8/site-packages/anndata/_core/anndata.py:1228: FutureWarning: The `inplace` parameter in pandas.Categorical.reorder_categories is deprecated and will be removed in a future version. Reordering categories will always return a new Categorical object.\n",
      "  c.reorder_categories(natsorted(c.categories), inplace=True)\n",
      "... storing 'orig_cell_type' as categorical\n",
      "/data/estorrs/miniconda3/envs/pollock_new/lib/python3.8/site-packages/anndata/_core/anndata.py:1228: FutureWarning: The `inplace` parameter in pandas.Categorical.reorder_categories is deprecated and will be removed in a future version. Reordering categories will always return a new Categorical object.\n",
      "  c.reorder_categories(natsorted(c.categories), inplace=True)\n",
      "... storing 'predicted_cell_type' as categorical\n",
      "/data/estorrs/miniconda3/envs/pollock_new/lib/python3.8/site-packages/anndata/_core/anndata.py:1228: FutureWarning: The `inplace` parameter in pandas.Categorical.reorder_categories is deprecated and will be removed in a future version. Reordering categories will always return a new Categorical object.\n",
      "  c.reorder_categories(natsorted(c.categories), inplace=True)\n",
      "... storing 'cell_type' as categorical\n",
      "/data/estorrs/miniconda3/envs/pollock_new/lib/python3.8/site-packages/anndata/_core/anndata.py:1228: FutureWarning: The `inplace` parameter in pandas.Categorical.reorder_categories is deprecated and will be removed in a future version. Reordering categories will always return a new Categorical object.\n",
      "  c.reorder_categories(natsorted(c.categories), inplace=True)\n",
      "... storing 'orig_cell_type' as categorical\n",
      "/data/estorrs/miniconda3/envs/pollock_new/lib/python3.8/site-packages/anndata/_core/anndata.py:1228: FutureWarning: The `inplace` parameter in pandas.Categorical.reorder_categories is deprecated and will be removed in a future version. Reordering categories will always return a new Categorical object.\n",
      "  c.reorder_categories(natsorted(c.categories), inplace=True)\n",
      "... storing 'predicted_cell_type' as categorical\n",
      "/data/estorrs/miniconda3/envs/pollock_new/lib/python3.8/site-packages/anndata/_core/anndata.py:1228: FutureWarning: The `inplace` parameter in pandas.Categorical.reorder_categories is deprecated and will be removed in a future version. Reordering categories will always return a new Categorical object.\n",
      "  c.reorder_categories(natsorted(c.categories), inplace=True)\n",
      "... storing 'cell_type' as categorical\n",
      "/data/estorrs/miniconda3/envs/pollock_new/lib/python3.8/site-packages/anndata/_core/anndata.py:1228: FutureWarning: The `inplace` parameter in pandas.Categorical.reorder_categories is deprecated and will be removed in a future version. Reordering categories will always return a new Categorical object.\n",
      "  c.reorder_categories(natsorted(c.categories), inplace=True)\n",
      "... storing 'orig_cell_type' as categorical\n",
      "/data/estorrs/miniconda3/envs/pollock_new/lib/python3.8/site-packages/anndata/_core/anndata.py:1228: FutureWarning: The `inplace` parameter in pandas.Categorical.reorder_categories is deprecated and will be removed in a future version. Reordering categories will always return a new Categorical object.\n",
      "  c.reorder_categories(natsorted(c.categories), inplace=True)\n",
      "... storing 'predicted_cell_type' as categorical\n",
      "/data/estorrs/miniconda3/envs/pollock_new/lib/python3.8/site-packages/anndata/_core/anndata.py:1228: FutureWarning: The `inplace` parameter in pandas.Categorical.reorder_categories is deprecated and will be removed in a future version. Reordering categories will always return a new Categorical object.\n",
      "  c.reorder_categories(natsorted(c.categories), inplace=True)\n",
      "... storing 'cell_type' as categorical\n",
      "/data/estorrs/miniconda3/envs/pollock_new/lib/python3.8/site-packages/anndata/_core/anndata.py:1228: FutureWarning: The `inplace` parameter in pandas.Categorical.reorder_categories is deprecated and will be removed in a future version. Reordering categories will always return a new Categorical object.\n",
      "  c.reorder_categories(natsorted(c.categories), inplace=True)\n",
      "... storing 'orig_cell_type' as categorical\n",
      "/data/estorrs/miniconda3/envs/pollock_new/lib/python3.8/site-packages/anndata/_core/anndata.py:1228: FutureWarning: The `inplace` parameter in pandas.Categorical.reorder_categories is deprecated and will be removed in a future version. Reordering categories will always return a new Categorical object.\n",
      "  c.reorder_categories(natsorted(c.categories), inplace=True)\n",
      "... storing 'predicted_cell_type' as categorical\n",
      "/data/estorrs/miniconda3/envs/pollock_new/lib/python3.8/site-packages/anndata/_core/anndata.py:1228: FutureWarning: The `inplace` parameter in pandas.Categorical.reorder_categories is deprecated and will be removed in a future version. Reordering categories will always return a new Categorical object.\n",
      "  c.reorder_categories(natsorted(c.categories), inplace=True)\n",
      "... storing 'cell_type' as categorical\n",
      "/data/estorrs/miniconda3/envs/pollock_new/lib/python3.8/site-packages/anndata/_core/anndata.py:1228: FutureWarning: The `inplace` parameter in pandas.Categorical.reorder_categories is deprecated and will be removed in a future version. Reordering categories will always return a new Categorical object.\n",
      "  c.reorder_categories(natsorted(c.categories), inplace=True)\n",
      "... storing 'orig_cell_type' as categorical\n",
      "/data/estorrs/miniconda3/envs/pollock_new/lib/python3.8/site-packages/anndata/_core/anndata.py:1228: FutureWarning: The `inplace` parameter in pandas.Categorical.reorder_categories is deprecated and will be removed in a future version. Reordering categories will always return a new Categorical object.\n",
      "  c.reorder_categories(natsorted(c.categories), inplace=True)\n",
      "... storing 'predicted_cell_type' as categorical\n",
      "/data/estorrs/miniconda3/envs/pollock_new/lib/python3.8/site-packages/anndata/_core/anndata.py:1228: FutureWarning: The `inplace` parameter in pandas.Categorical.reorder_categories is deprecated and will be removed in a future version. Reordering categories will always return a new Categorical object.\n",
      "  c.reorder_categories(natsorted(c.categories), inplace=True)\n",
      "... storing 'cell_type' as categorical\n",
      "/data/estorrs/miniconda3/envs/pollock_new/lib/python3.8/site-packages/anndata/_core/anndata.py:1228: FutureWarning: The `inplace` parameter in pandas.Categorical.reorder_categories is deprecated and will be removed in a future version. Reordering categories will always return a new Categorical object.\n",
      "  c.reorder_categories(natsorted(c.categories), inplace=True)\n",
      "... storing 'orig_cell_type' as categorical\n",
      "/data/estorrs/miniconda3/envs/pollock_new/lib/python3.8/site-packages/anndata/_core/anndata.py:1228: FutureWarning: The `inplace` parameter in pandas.Categorical.reorder_categories is deprecated and will be removed in a future version. Reordering categories will always return a new Categorical object.\n",
      "  c.reorder_categories(natsorted(c.categories), inplace=True)\n",
      "... storing 'predicted_cell_type' as categorical\n"
     ]
    },
    {
     "name": "stderr",
     "output_type": "stream",
     "text": [
      "/data/estorrs/miniconda3/envs/pollock_new/lib/python3.8/site-packages/anndata/_core/anndata.py:1228: FutureWarning: The `inplace` parameter in pandas.Categorical.reorder_categories is deprecated and will be removed in a future version. Reordering categories will always return a new Categorical object.\n",
      "  c.reorder_categories(natsorted(c.categories), inplace=True)\n",
      "... storing 'cell_type' as categorical\n",
      "/data/estorrs/miniconda3/envs/pollock_new/lib/python3.8/site-packages/anndata/_core/anndata.py:1228: FutureWarning: The `inplace` parameter in pandas.Categorical.reorder_categories is deprecated and will be removed in a future version. Reordering categories will always return a new Categorical object.\n",
      "  c.reorder_categories(natsorted(c.categories), inplace=True)\n",
      "... storing 'orig_cell_type' as categorical\n",
      "/data/estorrs/miniconda3/envs/pollock_new/lib/python3.8/site-packages/anndata/_core/anndata.py:1228: FutureWarning: The `inplace` parameter in pandas.Categorical.reorder_categories is deprecated and will be removed in a future version. Reordering categories will always return a new Categorical object.\n",
      "  c.reorder_categories(natsorted(c.categories), inplace=True)\n",
      "... storing 'predicted_cell_type' as categorical\n",
      "/data/estorrs/miniconda3/envs/pollock_new/lib/python3.8/site-packages/anndata/_core/anndata.py:1228: FutureWarning: The `inplace` parameter in pandas.Categorical.reorder_categories is deprecated and will be removed in a future version. Reordering categories will always return a new Categorical object.\n",
      "  c.reorder_categories(natsorted(c.categories), inplace=True)\n",
      "... storing 'cell_type' as categorical\n",
      "/data/estorrs/miniconda3/envs/pollock_new/lib/python3.8/site-packages/anndata/_core/anndata.py:1228: FutureWarning: The `inplace` parameter in pandas.Categorical.reorder_categories is deprecated and will be removed in a future version. Reordering categories will always return a new Categorical object.\n",
      "  c.reorder_categories(natsorted(c.categories), inplace=True)\n",
      "... storing 'orig_cell_type' as categorical\n",
      "/data/estorrs/miniconda3/envs/pollock_new/lib/python3.8/site-packages/anndata/_core/anndata.py:1228: FutureWarning: The `inplace` parameter in pandas.Categorical.reorder_categories is deprecated and will be removed in a future version. Reordering categories will always return a new Categorical object.\n",
      "  c.reorder_categories(natsorted(c.categories), inplace=True)\n",
      "... storing 'predicted_cell_type' as categorical\n",
      "/data/estorrs/miniconda3/envs/pollock_new/lib/python3.8/site-packages/anndata/_core/anndata.py:1228: FutureWarning: The `inplace` parameter in pandas.Categorical.reorder_categories is deprecated and will be removed in a future version. Reordering categories will always return a new Categorical object.\n",
      "  c.reorder_categories(natsorted(c.categories), inplace=True)\n",
      "... storing 'cell_type' as categorical\n",
      "/data/estorrs/miniconda3/envs/pollock_new/lib/python3.8/site-packages/anndata/_core/anndata.py:1228: FutureWarning: The `inplace` parameter in pandas.Categorical.reorder_categories is deprecated and will be removed in a future version. Reordering categories will always return a new Categorical object.\n",
      "  c.reorder_categories(natsorted(c.categories), inplace=True)\n",
      "... storing 'orig_cell_type' as categorical\n",
      "/data/estorrs/miniconda3/envs/pollock_new/lib/python3.8/site-packages/anndata/_core/anndata.py:1228: FutureWarning: The `inplace` parameter in pandas.Categorical.reorder_categories is deprecated and will be removed in a future version. Reordering categories will always return a new Categorical object.\n",
      "  c.reorder_categories(natsorted(c.categories), inplace=True)\n",
      "... storing 'predicted_cell_type' as categorical\n",
      "/data/estorrs/miniconda3/envs/pollock_new/lib/python3.8/site-packages/anndata/_core/anndata.py:1228: FutureWarning: The `inplace` parameter in pandas.Categorical.reorder_categories is deprecated and will be removed in a future version. Reordering categories will always return a new Categorical object.\n",
      "  c.reorder_categories(natsorted(c.categories), inplace=True)\n",
      "... storing 'cell_type' as categorical\n",
      "/data/estorrs/miniconda3/envs/pollock_new/lib/python3.8/site-packages/anndata/_core/anndata.py:1228: FutureWarning: The `inplace` parameter in pandas.Categorical.reorder_categories is deprecated and will be removed in a future version. Reordering categories will always return a new Categorical object.\n",
      "  c.reorder_categories(natsorted(c.categories), inplace=True)\n",
      "... storing 'orig_cell_type' as categorical\n",
      "/data/estorrs/miniconda3/envs/pollock_new/lib/python3.8/site-packages/anndata/_core/anndata.py:1228: FutureWarning: The `inplace` parameter in pandas.Categorical.reorder_categories is deprecated and will be removed in a future version. Reordering categories will always return a new Categorical object.\n",
      "  c.reorder_categories(natsorted(c.categories), inplace=True)\n",
      "... storing 'predicted_cell_type' as categorical\n",
      "/data/estorrs/miniconda3/envs/pollock_new/lib/python3.8/site-packages/anndata/_core/anndata.py:1228: FutureWarning: The `inplace` parameter in pandas.Categorical.reorder_categories is deprecated and will be removed in a future version. Reordering categories will always return a new Categorical object.\n",
      "  c.reorder_categories(natsorted(c.categories), inplace=True)\n",
      "... storing 'cell_type' as categorical\n",
      "/data/estorrs/miniconda3/envs/pollock_new/lib/python3.8/site-packages/anndata/_core/anndata.py:1228: FutureWarning: The `inplace` parameter in pandas.Categorical.reorder_categories is deprecated and will be removed in a future version. Reordering categories will always return a new Categorical object.\n",
      "  c.reorder_categories(natsorted(c.categories), inplace=True)\n",
      "... storing 'orig_cell_type' as categorical\n",
      "/data/estorrs/miniconda3/envs/pollock_new/lib/python3.8/site-packages/anndata/_core/anndata.py:1228: FutureWarning: The `inplace` parameter in pandas.Categorical.reorder_categories is deprecated and will be removed in a future version. Reordering categories will always return a new Categorical object.\n",
      "  c.reorder_categories(natsorted(c.categories), inplace=True)\n",
      "... storing 'predicted_cell_type' as categorical\n",
      "/data/estorrs/miniconda3/envs/pollock_new/lib/python3.8/site-packages/anndata/_core/anndata.py:1228: FutureWarning: The `inplace` parameter in pandas.Categorical.reorder_categories is deprecated and will be removed in a future version. Reordering categories will always return a new Categorical object.\n",
      "  c.reorder_categories(natsorted(c.categories), inplace=True)\n",
      "... storing 'cell_type' as categorical\n",
      "/data/estorrs/miniconda3/envs/pollock_new/lib/python3.8/site-packages/anndata/_core/anndata.py:1228: FutureWarning: The `inplace` parameter in pandas.Categorical.reorder_categories is deprecated and will be removed in a future version. Reordering categories will always return a new Categorical object.\n",
      "  c.reorder_categories(natsorted(c.categories), inplace=True)\n",
      "... storing 'orig_cell_type' as categorical\n",
      "/data/estorrs/miniconda3/envs/pollock_new/lib/python3.8/site-packages/anndata/_core/anndata.py:1228: FutureWarning: The `inplace` parameter in pandas.Categorical.reorder_categories is deprecated and will be removed in a future version. Reordering categories will always return a new Categorical object.\n",
      "  c.reorder_categories(natsorted(c.categories), inplace=True)\n",
      "... storing 'predicted_cell_type' as categorical\n",
      "/data/estorrs/miniconda3/envs/pollock_new/lib/python3.8/site-packages/anndata/_core/anndata.py:1228: FutureWarning: The `inplace` parameter in pandas.Categorical.reorder_categories is deprecated and will be removed in a future version. Reordering categories will always return a new Categorical object.\n",
      "  c.reorder_categories(natsorted(c.categories), inplace=True)\n",
      "... storing 'cell_type' as categorical\n",
      "/data/estorrs/miniconda3/envs/pollock_new/lib/python3.8/site-packages/anndata/_core/anndata.py:1228: FutureWarning: The `inplace` parameter in pandas.Categorical.reorder_categories is deprecated and will be removed in a future version. Reordering categories will always return a new Categorical object.\n",
      "  c.reorder_categories(natsorted(c.categories), inplace=True)\n",
      "... storing 'orig_cell_type' as categorical\n",
      "/data/estorrs/miniconda3/envs/pollock_new/lib/python3.8/site-packages/anndata/_core/anndata.py:1228: FutureWarning: The `inplace` parameter in pandas.Categorical.reorder_categories is deprecated and will be removed in a future version. Reordering categories will always return a new Categorical object.\n",
      "  c.reorder_categories(natsorted(c.categories), inplace=True)\n",
      "... storing 'predicted_cell_type' as categorical\n"
     ]
    },
    {
     "name": "stderr",
     "output_type": "stream",
     "text": [
      "/data/estorrs/miniconda3/envs/pollock_new/lib/python3.8/site-packages/anndata/_core/anndata.py:1228: FutureWarning: The `inplace` parameter in pandas.Categorical.reorder_categories is deprecated and will be removed in a future version. Reordering categories will always return a new Categorical object.\n",
      "  c.reorder_categories(natsorted(c.categories), inplace=True)\n",
      "... storing 'cell_type' as categorical\n",
      "/data/estorrs/miniconda3/envs/pollock_new/lib/python3.8/site-packages/anndata/_core/anndata.py:1228: FutureWarning: The `inplace` parameter in pandas.Categorical.reorder_categories is deprecated and will be removed in a future version. Reordering categories will always return a new Categorical object.\n",
      "  c.reorder_categories(natsorted(c.categories), inplace=True)\n",
      "... storing 'orig_cell_type' as categorical\n",
      "/data/estorrs/miniconda3/envs/pollock_new/lib/python3.8/site-packages/anndata/_core/anndata.py:1228: FutureWarning: The `inplace` parameter in pandas.Categorical.reorder_categories is deprecated and will be removed in a future version. Reordering categories will always return a new Categorical object.\n",
      "  c.reorder_categories(natsorted(c.categories), inplace=True)\n",
      "... storing 'predicted_cell_type' as categorical\n",
      "/data/estorrs/miniconda3/envs/pollock_new/lib/python3.8/site-packages/anndata/_core/anndata.py:1228: FutureWarning: The `inplace` parameter in pandas.Categorical.reorder_categories is deprecated and will be removed in a future version. Reordering categories will always return a new Categorical object.\n",
      "  c.reorder_categories(natsorted(c.categories), inplace=True)\n",
      "... storing 'cell_type' as categorical\n",
      "/data/estorrs/miniconda3/envs/pollock_new/lib/python3.8/site-packages/anndata/_core/anndata.py:1228: FutureWarning: The `inplace` parameter in pandas.Categorical.reorder_categories is deprecated and will be removed in a future version. Reordering categories will always return a new Categorical object.\n",
      "  c.reorder_categories(natsorted(c.categories), inplace=True)\n",
      "... storing 'orig_cell_type' as categorical\n",
      "/data/estorrs/miniconda3/envs/pollock_new/lib/python3.8/site-packages/anndata/_core/anndata.py:1228: FutureWarning: The `inplace` parameter in pandas.Categorical.reorder_categories is deprecated and will be removed in a future version. Reordering categories will always return a new Categorical object.\n",
      "  c.reorder_categories(natsorted(c.categories), inplace=True)\n",
      "... storing 'predicted_cell_type' as categorical\n",
      "/data/estorrs/miniconda3/envs/pollock_new/lib/python3.8/site-packages/anndata/_core/anndata.py:1228: FutureWarning: The `inplace` parameter in pandas.Categorical.reorder_categories is deprecated and will be removed in a future version. Reordering categories will always return a new Categorical object.\n",
      "  c.reorder_categories(natsorted(c.categories), inplace=True)\n",
      "... storing 'cell_type' as categorical\n",
      "/data/estorrs/miniconda3/envs/pollock_new/lib/python3.8/site-packages/anndata/_core/anndata.py:1228: FutureWarning: The `inplace` parameter in pandas.Categorical.reorder_categories is deprecated and will be removed in a future version. Reordering categories will always return a new Categorical object.\n",
      "  c.reorder_categories(natsorted(c.categories), inplace=True)\n",
      "... storing 'orig_cell_type' as categorical\n",
      "/data/estorrs/miniconda3/envs/pollock_new/lib/python3.8/site-packages/anndata/_core/anndata.py:1228: FutureWarning: The `inplace` parameter in pandas.Categorical.reorder_categories is deprecated and will be removed in a future version. Reordering categories will always return a new Categorical object.\n",
      "  c.reorder_categories(natsorted(c.categories), inplace=True)\n",
      "... storing 'predicted_cell_type' as categorical\n",
      "/data/estorrs/miniconda3/envs/pollock_new/lib/python3.8/site-packages/anndata/_core/anndata.py:1228: FutureWarning: The `inplace` parameter in pandas.Categorical.reorder_categories is deprecated and will be removed in a future version. Reordering categories will always return a new Categorical object.\n",
      "  c.reorder_categories(natsorted(c.categories), inplace=True)\n",
      "... storing 'cell_type' as categorical\n",
      "/data/estorrs/miniconda3/envs/pollock_new/lib/python3.8/site-packages/anndata/_core/anndata.py:1228: FutureWarning: The `inplace` parameter in pandas.Categorical.reorder_categories is deprecated and will be removed in a future version. Reordering categories will always return a new Categorical object.\n",
      "  c.reorder_categories(natsorted(c.categories), inplace=True)\n",
      "... storing 'orig_cell_type' as categorical\n",
      "/data/estorrs/miniconda3/envs/pollock_new/lib/python3.8/site-packages/anndata/_core/anndata.py:1228: FutureWarning: The `inplace` parameter in pandas.Categorical.reorder_categories is deprecated and will be removed in a future version. Reordering categories will always return a new Categorical object.\n",
      "  c.reorder_categories(natsorted(c.categories), inplace=True)\n",
      "... storing 'predicted_cell_type' as categorical\n",
      "/data/estorrs/miniconda3/envs/pollock_new/lib/python3.8/site-packages/anndata/_core/anndata.py:1228: FutureWarning: The `inplace` parameter in pandas.Categorical.reorder_categories is deprecated and will be removed in a future version. Reordering categories will always return a new Categorical object.\n",
      "  c.reorder_categories(natsorted(c.categories), inplace=True)\n",
      "... storing 'cell_type' as categorical\n",
      "/data/estorrs/miniconda3/envs/pollock_new/lib/python3.8/site-packages/anndata/_core/anndata.py:1228: FutureWarning: The `inplace` parameter in pandas.Categorical.reorder_categories is deprecated and will be removed in a future version. Reordering categories will always return a new Categorical object.\n",
      "  c.reorder_categories(natsorted(c.categories), inplace=True)\n",
      "... storing 'orig_cell_type' as categorical\n",
      "/data/estorrs/miniconda3/envs/pollock_new/lib/python3.8/site-packages/anndata/_core/anndata.py:1228: FutureWarning: The `inplace` parameter in pandas.Categorical.reorder_categories is deprecated and will be removed in a future version. Reordering categories will always return a new Categorical object.\n",
      "  c.reorder_categories(natsorted(c.categories), inplace=True)\n",
      "... storing 'predicted_cell_type' as categorical\n",
      "/data/estorrs/miniconda3/envs/pollock_new/lib/python3.8/site-packages/anndata/_core/anndata.py:1228: FutureWarning: The `inplace` parameter in pandas.Categorical.reorder_categories is deprecated and will be removed in a future version. Reordering categories will always return a new Categorical object.\n",
      "  c.reorder_categories(natsorted(c.categories), inplace=True)\n",
      "... storing 'cell_type' as categorical\n",
      "/data/estorrs/miniconda3/envs/pollock_new/lib/python3.8/site-packages/anndata/_core/anndata.py:1228: FutureWarning: The `inplace` parameter in pandas.Categorical.reorder_categories is deprecated and will be removed in a future version. Reordering categories will always return a new Categorical object.\n",
      "  c.reorder_categories(natsorted(c.categories), inplace=True)\n",
      "... storing 'orig_cell_type' as categorical\n",
      "/data/estorrs/miniconda3/envs/pollock_new/lib/python3.8/site-packages/anndata/_core/anndata.py:1228: FutureWarning: The `inplace` parameter in pandas.Categorical.reorder_categories is deprecated and will be removed in a future version. Reordering categories will always return a new Categorical object.\n",
      "  c.reorder_categories(natsorted(c.categories), inplace=True)\n",
      "... storing 'predicted_cell_type' as categorical\n",
      "/data/estorrs/miniconda3/envs/pollock_new/lib/python3.8/site-packages/anndata/_core/anndata.py:1228: FutureWarning: The `inplace` parameter in pandas.Categorical.reorder_categories is deprecated and will be removed in a future version. Reordering categories will always return a new Categorical object.\n",
      "  c.reorder_categories(natsorted(c.categories), inplace=True)\n",
      "... storing 'cell_type' as categorical\n",
      "/data/estorrs/miniconda3/envs/pollock_new/lib/python3.8/site-packages/anndata/_core/anndata.py:1228: FutureWarning: The `inplace` parameter in pandas.Categorical.reorder_categories is deprecated and will be removed in a future version. Reordering categories will always return a new Categorical object.\n",
      "  c.reorder_categories(natsorted(c.categories), inplace=True)\n",
      "... storing 'orig_cell_type' as categorical\n",
      "/data/estorrs/miniconda3/envs/pollock_new/lib/python3.8/site-packages/anndata/_core/anndata.py:1228: FutureWarning: The `inplace` parameter in pandas.Categorical.reorder_categories is deprecated and will be removed in a future version. Reordering categories will always return a new Categorical object.\n",
      "  c.reorder_categories(natsorted(c.categories), inplace=True)\n",
      "... storing 'predicted_cell_type' as categorical\n"
     ]
    },
    {
     "name": "stderr",
     "output_type": "stream",
     "text": [
      "/data/estorrs/miniconda3/envs/pollock_new/lib/python3.8/site-packages/anndata/_core/anndata.py:1228: FutureWarning: The `inplace` parameter in pandas.Categorical.reorder_categories is deprecated and will be removed in a future version. Reordering categories will always return a new Categorical object.\n",
      "  c.reorder_categories(natsorted(c.categories), inplace=True)\n",
      "... storing 'cell_type' as categorical\n",
      "/data/estorrs/miniconda3/envs/pollock_new/lib/python3.8/site-packages/anndata/_core/anndata.py:1228: FutureWarning: The `inplace` parameter in pandas.Categorical.reorder_categories is deprecated and will be removed in a future version. Reordering categories will always return a new Categorical object.\n",
      "  c.reorder_categories(natsorted(c.categories), inplace=True)\n",
      "... storing 'orig_cell_type' as categorical\n",
      "/data/estorrs/miniconda3/envs/pollock_new/lib/python3.8/site-packages/anndata/_core/anndata.py:1228: FutureWarning: The `inplace` parameter in pandas.Categorical.reorder_categories is deprecated and will be removed in a future version. Reordering categories will always return a new Categorical object.\n",
      "  c.reorder_categories(natsorted(c.categories), inplace=True)\n",
      "... storing 'predicted_cell_type' as categorical\n",
      "/data/estorrs/miniconda3/envs/pollock_new/lib/python3.8/site-packages/anndata/_core/anndata.py:1228: FutureWarning: The `inplace` parameter in pandas.Categorical.reorder_categories is deprecated and will be removed in a future version. Reordering categories will always return a new Categorical object.\n",
      "  c.reorder_categories(natsorted(c.categories), inplace=True)\n",
      "... storing 'cell_type' as categorical\n",
      "/data/estorrs/miniconda3/envs/pollock_new/lib/python3.8/site-packages/anndata/_core/anndata.py:1228: FutureWarning: The `inplace` parameter in pandas.Categorical.reorder_categories is deprecated and will be removed in a future version. Reordering categories will always return a new Categorical object.\n",
      "  c.reorder_categories(natsorted(c.categories), inplace=True)\n",
      "... storing 'orig_cell_type' as categorical\n",
      "/data/estorrs/miniconda3/envs/pollock_new/lib/python3.8/site-packages/anndata/_core/anndata.py:1228: FutureWarning: The `inplace` parameter in pandas.Categorical.reorder_categories is deprecated and will be removed in a future version. Reordering categories will always return a new Categorical object.\n",
      "  c.reorder_categories(natsorted(c.categories), inplace=True)\n",
      "... storing 'predicted_cell_type' as categorical\n",
      "/data/estorrs/miniconda3/envs/pollock_new/lib/python3.8/site-packages/anndata/_core/anndata.py:1228: FutureWarning: The `inplace` parameter in pandas.Categorical.reorder_categories is deprecated and will be removed in a future version. Reordering categories will always return a new Categorical object.\n",
      "  c.reorder_categories(natsorted(c.categories), inplace=True)\n",
      "... storing 'cell_type' as categorical\n",
      "/data/estorrs/miniconda3/envs/pollock_new/lib/python3.8/site-packages/anndata/_core/anndata.py:1228: FutureWarning: The `inplace` parameter in pandas.Categorical.reorder_categories is deprecated and will be removed in a future version. Reordering categories will always return a new Categorical object.\n",
      "  c.reorder_categories(natsorted(c.categories), inplace=True)\n",
      "... storing 'orig_cell_type' as categorical\n",
      "/data/estorrs/miniconda3/envs/pollock_new/lib/python3.8/site-packages/anndata/_core/anndata.py:1228: FutureWarning: The `inplace` parameter in pandas.Categorical.reorder_categories is deprecated and will be removed in a future version. Reordering categories will always return a new Categorical object.\n",
      "  c.reorder_categories(natsorted(c.categories), inplace=True)\n",
      "... storing 'predicted_cell_type' as categorical\n",
      "/data/estorrs/miniconda3/envs/pollock_new/lib/python3.8/site-packages/anndata/_core/anndata.py:1228: FutureWarning: The `inplace` parameter in pandas.Categorical.reorder_categories is deprecated and will be removed in a future version. Reordering categories will always return a new Categorical object.\n",
      "  c.reorder_categories(natsorted(c.categories), inplace=True)\n",
      "... storing 'cell_type' as categorical\n",
      "/data/estorrs/miniconda3/envs/pollock_new/lib/python3.8/site-packages/anndata/_core/anndata.py:1228: FutureWarning: The `inplace` parameter in pandas.Categorical.reorder_categories is deprecated and will be removed in a future version. Reordering categories will always return a new Categorical object.\n",
      "  c.reorder_categories(natsorted(c.categories), inplace=True)\n",
      "... storing 'orig_cell_type' as categorical\n",
      "/data/estorrs/miniconda3/envs/pollock_new/lib/python3.8/site-packages/anndata/_core/anndata.py:1228: FutureWarning: The `inplace` parameter in pandas.Categorical.reorder_categories is deprecated and will be removed in a future version. Reordering categories will always return a new Categorical object.\n",
      "  c.reorder_categories(natsorted(c.categories), inplace=True)\n",
      "... storing 'predicted_cell_type' as categorical\n",
      "/data/estorrs/miniconda3/envs/pollock_new/lib/python3.8/site-packages/anndata/_core/anndata.py:1228: FutureWarning: The `inplace` parameter in pandas.Categorical.reorder_categories is deprecated and will be removed in a future version. Reordering categories will always return a new Categorical object.\n",
      "  c.reorder_categories(natsorted(c.categories), inplace=True)\n",
      "... storing 'cell_type' as categorical\n",
      "/data/estorrs/miniconda3/envs/pollock_new/lib/python3.8/site-packages/anndata/_core/anndata.py:1228: FutureWarning: The `inplace` parameter in pandas.Categorical.reorder_categories is deprecated and will be removed in a future version. Reordering categories will always return a new Categorical object.\n",
      "  c.reorder_categories(natsorted(c.categories), inplace=True)\n",
      "... storing 'orig_cell_type' as categorical\n",
      "/data/estorrs/miniconda3/envs/pollock_new/lib/python3.8/site-packages/anndata/_core/anndata.py:1228: FutureWarning: The `inplace` parameter in pandas.Categorical.reorder_categories is deprecated and will be removed in a future version. Reordering categories will always return a new Categorical object.\n",
      "  c.reorder_categories(natsorted(c.categories), inplace=True)\n",
      "... storing 'predicted_cell_type' as categorical\n",
      "/data/estorrs/miniconda3/envs/pollock_new/lib/python3.8/site-packages/anndata/_core/anndata.py:1228: FutureWarning: The `inplace` parameter in pandas.Categorical.reorder_categories is deprecated and will be removed in a future version. Reordering categories will always return a new Categorical object.\n",
      "  c.reorder_categories(natsorted(c.categories), inplace=True)\n",
      "... storing 'cell_type' as categorical\n",
      "/data/estorrs/miniconda3/envs/pollock_new/lib/python3.8/site-packages/anndata/_core/anndata.py:1228: FutureWarning: The `inplace` parameter in pandas.Categorical.reorder_categories is deprecated and will be removed in a future version. Reordering categories will always return a new Categorical object.\n",
      "  c.reorder_categories(natsorted(c.categories), inplace=True)\n",
      "... storing 'orig_cell_type' as categorical\n",
      "/data/estorrs/miniconda3/envs/pollock_new/lib/python3.8/site-packages/anndata/_core/anndata.py:1228: FutureWarning: The `inplace` parameter in pandas.Categorical.reorder_categories is deprecated and will be removed in a future version. Reordering categories will always return a new Categorical object.\n",
      "  c.reorder_categories(natsorted(c.categories), inplace=True)\n",
      "... storing 'predicted_cell_type' as categorical\n",
      "/data/estorrs/miniconda3/envs/pollock_new/lib/python3.8/site-packages/anndata/_core/anndata.py:1228: FutureWarning: The `inplace` parameter in pandas.Categorical.reorder_categories is deprecated and will be removed in a future version. Reordering categories will always return a new Categorical object.\n",
      "  c.reorder_categories(natsorted(c.categories), inplace=True)\n",
      "... storing 'cell_type' as categorical\n",
      "/data/estorrs/miniconda3/envs/pollock_new/lib/python3.8/site-packages/anndata/_core/anndata.py:1228: FutureWarning: The `inplace` parameter in pandas.Categorical.reorder_categories is deprecated and will be removed in a future version. Reordering categories will always return a new Categorical object.\n",
      "  c.reorder_categories(natsorted(c.categories), inplace=True)\n",
      "... storing 'orig_cell_type' as categorical\n",
      "/data/estorrs/miniconda3/envs/pollock_new/lib/python3.8/site-packages/anndata/_core/anndata.py:1228: FutureWarning: The `inplace` parameter in pandas.Categorical.reorder_categories is deprecated and will be removed in a future version. Reordering categories will always return a new Categorical object.\n",
      "  c.reorder_categories(natsorted(c.categories), inplace=True)\n",
      "... storing 'predicted_cell_type' as categorical\n"
     ]
    },
    {
     "name": "stderr",
     "output_type": "stream",
     "text": [
      "/data/estorrs/miniconda3/envs/pollock_new/lib/python3.8/site-packages/anndata/_core/anndata.py:1228: FutureWarning: The `inplace` parameter in pandas.Categorical.reorder_categories is deprecated and will be removed in a future version. Reordering categories will always return a new Categorical object.\n",
      "  c.reorder_categories(natsorted(c.categories), inplace=True)\n",
      "... storing 'cell_type' as categorical\n",
      "/data/estorrs/miniconda3/envs/pollock_new/lib/python3.8/site-packages/anndata/_core/anndata.py:1228: FutureWarning: The `inplace` parameter in pandas.Categorical.reorder_categories is deprecated and will be removed in a future version. Reordering categories will always return a new Categorical object.\n",
      "  c.reorder_categories(natsorted(c.categories), inplace=True)\n",
      "... storing 'orig_cell_type' as categorical\n",
      "/data/estorrs/miniconda3/envs/pollock_new/lib/python3.8/site-packages/anndata/_core/anndata.py:1228: FutureWarning: The `inplace` parameter in pandas.Categorical.reorder_categories is deprecated and will be removed in a future version. Reordering categories will always return a new Categorical object.\n",
      "  c.reorder_categories(natsorted(c.categories), inplace=True)\n",
      "... storing 'predicted_cell_type' as categorical\n",
      "/data/estorrs/miniconda3/envs/pollock_new/lib/python3.8/site-packages/anndata/_core/anndata.py:1228: FutureWarning: The `inplace` parameter in pandas.Categorical.reorder_categories is deprecated and will be removed in a future version. Reordering categories will always return a new Categorical object.\n",
      "  c.reorder_categories(natsorted(c.categories), inplace=True)\n",
      "... storing 'cell_type' as categorical\n",
      "/data/estorrs/miniconda3/envs/pollock_new/lib/python3.8/site-packages/anndata/_core/anndata.py:1228: FutureWarning: The `inplace` parameter in pandas.Categorical.reorder_categories is deprecated and will be removed in a future version. Reordering categories will always return a new Categorical object.\n",
      "  c.reorder_categories(natsorted(c.categories), inplace=True)\n",
      "... storing 'orig_cell_type' as categorical\n",
      "/data/estorrs/miniconda3/envs/pollock_new/lib/python3.8/site-packages/anndata/_core/anndata.py:1228: FutureWarning: The `inplace` parameter in pandas.Categorical.reorder_categories is deprecated and will be removed in a future version. Reordering categories will always return a new Categorical object.\n",
      "  c.reorder_categories(natsorted(c.categories), inplace=True)\n",
      "... storing 'predicted_cell_type' as categorical\n",
      "/data/estorrs/miniconda3/envs/pollock_new/lib/python3.8/site-packages/anndata/_core/anndata.py:1228: FutureWarning: The `inplace` parameter in pandas.Categorical.reorder_categories is deprecated and will be removed in a future version. Reordering categories will always return a new Categorical object.\n",
      "  c.reorder_categories(natsorted(c.categories), inplace=True)\n",
      "... storing 'cell_type' as categorical\n",
      "/data/estorrs/miniconda3/envs/pollock_new/lib/python3.8/site-packages/anndata/_core/anndata.py:1228: FutureWarning: The `inplace` parameter in pandas.Categorical.reorder_categories is deprecated and will be removed in a future version. Reordering categories will always return a new Categorical object.\n",
      "  c.reorder_categories(natsorted(c.categories), inplace=True)\n",
      "... storing 'orig_cell_type' as categorical\n",
      "/data/estorrs/miniconda3/envs/pollock_new/lib/python3.8/site-packages/anndata/_core/anndata.py:1228: FutureWarning: The `inplace` parameter in pandas.Categorical.reorder_categories is deprecated and will be removed in a future version. Reordering categories will always return a new Categorical object.\n",
      "  c.reorder_categories(natsorted(c.categories), inplace=True)\n",
      "... storing 'predicted_cell_type' as categorical\n",
      "/data/estorrs/miniconda3/envs/pollock_new/lib/python3.8/site-packages/anndata/_core/anndata.py:1228: FutureWarning: The `inplace` parameter in pandas.Categorical.reorder_categories is deprecated and will be removed in a future version. Reordering categories will always return a new Categorical object.\n",
      "  c.reorder_categories(natsorted(c.categories), inplace=True)\n",
      "... storing 'cell_type' as categorical\n",
      "/data/estorrs/miniconda3/envs/pollock_new/lib/python3.8/site-packages/anndata/_core/anndata.py:1228: FutureWarning: The `inplace` parameter in pandas.Categorical.reorder_categories is deprecated and will be removed in a future version. Reordering categories will always return a new Categorical object.\n",
      "  c.reorder_categories(natsorted(c.categories), inplace=True)\n",
      "... storing 'orig_cell_type' as categorical\n",
      "/data/estorrs/miniconda3/envs/pollock_new/lib/python3.8/site-packages/anndata/_core/anndata.py:1228: FutureWarning: The `inplace` parameter in pandas.Categorical.reorder_categories is deprecated and will be removed in a future version. Reordering categories will always return a new Categorical object.\n",
      "  c.reorder_categories(natsorted(c.categories), inplace=True)\n",
      "... storing 'predicted_cell_type' as categorical\n",
      "/data/estorrs/miniconda3/envs/pollock_new/lib/python3.8/site-packages/anndata/_core/anndata.py:1228: FutureWarning: The `inplace` parameter in pandas.Categorical.reorder_categories is deprecated and will be removed in a future version. Reordering categories will always return a new Categorical object.\n",
      "  c.reorder_categories(natsorted(c.categories), inplace=True)\n",
      "... storing 'cell_type' as categorical\n",
      "/data/estorrs/miniconda3/envs/pollock_new/lib/python3.8/site-packages/anndata/_core/anndata.py:1228: FutureWarning: The `inplace` parameter in pandas.Categorical.reorder_categories is deprecated and will be removed in a future version. Reordering categories will always return a new Categorical object.\n",
      "  c.reorder_categories(natsorted(c.categories), inplace=True)\n",
      "... storing 'orig_cell_type' as categorical\n",
      "/data/estorrs/miniconda3/envs/pollock_new/lib/python3.8/site-packages/anndata/_core/anndata.py:1228: FutureWarning: The `inplace` parameter in pandas.Categorical.reorder_categories is deprecated and will be removed in a future version. Reordering categories will always return a new Categorical object.\n",
      "  c.reorder_categories(natsorted(c.categories), inplace=True)\n",
      "... storing 'predicted_cell_type' as categorical\n",
      "/data/estorrs/miniconda3/envs/pollock_new/lib/python3.8/site-packages/anndata/_core/anndata.py:1228: FutureWarning: The `inplace` parameter in pandas.Categorical.reorder_categories is deprecated and will be removed in a future version. Reordering categories will always return a new Categorical object.\n",
      "  c.reorder_categories(natsorted(c.categories), inplace=True)\n",
      "... storing 'cell_type' as categorical\n",
      "/data/estorrs/miniconda3/envs/pollock_new/lib/python3.8/site-packages/anndata/_core/anndata.py:1228: FutureWarning: The `inplace` parameter in pandas.Categorical.reorder_categories is deprecated and will be removed in a future version. Reordering categories will always return a new Categorical object.\n",
      "  c.reorder_categories(natsorted(c.categories), inplace=True)\n",
      "... storing 'orig_cell_type' as categorical\n",
      "/data/estorrs/miniconda3/envs/pollock_new/lib/python3.8/site-packages/anndata/_core/anndata.py:1228: FutureWarning: The `inplace` parameter in pandas.Categorical.reorder_categories is deprecated and will be removed in a future version. Reordering categories will always return a new Categorical object.\n",
      "  c.reorder_categories(natsorted(c.categories), inplace=True)\n",
      "... storing 'predicted_cell_type' as categorical\n",
      "/data/estorrs/miniconda3/envs/pollock_new/lib/python3.8/site-packages/anndata/_core/anndata.py:1228: FutureWarning: The `inplace` parameter in pandas.Categorical.reorder_categories is deprecated and will be removed in a future version. Reordering categories will always return a new Categorical object.\n",
      "  c.reorder_categories(natsorted(c.categories), inplace=True)\n",
      "... storing 'cell_type' as categorical\n",
      "/data/estorrs/miniconda3/envs/pollock_new/lib/python3.8/site-packages/anndata/_core/anndata.py:1228: FutureWarning: The `inplace` parameter in pandas.Categorical.reorder_categories is deprecated and will be removed in a future version. Reordering categories will always return a new Categorical object.\n",
      "  c.reorder_categories(natsorted(c.categories), inplace=True)\n",
      "... storing 'orig_cell_type' as categorical\n",
      "/data/estorrs/miniconda3/envs/pollock_new/lib/python3.8/site-packages/anndata/_core/anndata.py:1228: FutureWarning: The `inplace` parameter in pandas.Categorical.reorder_categories is deprecated and will be removed in a future version. Reordering categories will always return a new Categorical object.\n",
      "  c.reorder_categories(natsorted(c.categories), inplace=True)\n",
      "... storing 'predicted_cell_type' as categorical\n"
     ]
    },
    {
     "name": "stderr",
     "output_type": "stream",
     "text": [
      "/data/estorrs/miniconda3/envs/pollock_new/lib/python3.8/site-packages/anndata/_core/anndata.py:1228: FutureWarning: The `inplace` parameter in pandas.Categorical.reorder_categories is deprecated and will be removed in a future version. Reordering categories will always return a new Categorical object.\n",
      "  c.reorder_categories(natsorted(c.categories), inplace=True)\n",
      "... storing 'cell_type' as categorical\n",
      "/data/estorrs/miniconda3/envs/pollock_new/lib/python3.8/site-packages/anndata/_core/anndata.py:1228: FutureWarning: The `inplace` parameter in pandas.Categorical.reorder_categories is deprecated and will be removed in a future version. Reordering categories will always return a new Categorical object.\n",
      "  c.reorder_categories(natsorted(c.categories), inplace=True)\n",
      "... storing 'orig_cell_type' as categorical\n",
      "/data/estorrs/miniconda3/envs/pollock_new/lib/python3.8/site-packages/anndata/_core/anndata.py:1228: FutureWarning: The `inplace` parameter in pandas.Categorical.reorder_categories is deprecated and will be removed in a future version. Reordering categories will always return a new Categorical object.\n",
      "  c.reorder_categories(natsorted(c.categories), inplace=True)\n",
      "... storing 'predicted_cell_type' as categorical\n",
      "/data/estorrs/miniconda3/envs/pollock_new/lib/python3.8/site-packages/anndata/_core/anndata.py:1228: FutureWarning: The `inplace` parameter in pandas.Categorical.reorder_categories is deprecated and will be removed in a future version. Reordering categories will always return a new Categorical object.\n",
      "  c.reorder_categories(natsorted(c.categories), inplace=True)\n",
      "... storing 'cell_type' as categorical\n",
      "/data/estorrs/miniconda3/envs/pollock_new/lib/python3.8/site-packages/anndata/_core/anndata.py:1228: FutureWarning: The `inplace` parameter in pandas.Categorical.reorder_categories is deprecated and will be removed in a future version. Reordering categories will always return a new Categorical object.\n",
      "  c.reorder_categories(natsorted(c.categories), inplace=True)\n",
      "... storing 'orig_cell_type' as categorical\n",
      "/data/estorrs/miniconda3/envs/pollock_new/lib/python3.8/site-packages/anndata/_core/anndata.py:1228: FutureWarning: The `inplace` parameter in pandas.Categorical.reorder_categories is deprecated and will be removed in a future version. Reordering categories will always return a new Categorical object.\n",
      "  c.reorder_categories(natsorted(c.categories), inplace=True)\n",
      "... storing 'predicted_cell_type' as categorical\n",
      "/data/estorrs/miniconda3/envs/pollock_new/lib/python3.8/site-packages/anndata/_core/anndata.py:1228: FutureWarning: The `inplace` parameter in pandas.Categorical.reorder_categories is deprecated and will be removed in a future version. Reordering categories will always return a new Categorical object.\n",
      "  c.reorder_categories(natsorted(c.categories), inplace=True)\n",
      "... storing 'cell_type' as categorical\n",
      "/data/estorrs/miniconda3/envs/pollock_new/lib/python3.8/site-packages/anndata/_core/anndata.py:1228: FutureWarning: The `inplace` parameter in pandas.Categorical.reorder_categories is deprecated and will be removed in a future version. Reordering categories will always return a new Categorical object.\n",
      "  c.reorder_categories(natsorted(c.categories), inplace=True)\n",
      "... storing 'orig_cell_type' as categorical\n",
      "/data/estorrs/miniconda3/envs/pollock_new/lib/python3.8/site-packages/anndata/_core/anndata.py:1228: FutureWarning: The `inplace` parameter in pandas.Categorical.reorder_categories is deprecated and will be removed in a future version. Reordering categories will always return a new Categorical object.\n",
      "  c.reorder_categories(natsorted(c.categories), inplace=True)\n",
      "... storing 'predicted_cell_type' as categorical\n",
      "/data/estorrs/miniconda3/envs/pollock_new/lib/python3.8/site-packages/anndata/_core/anndata.py:1228: FutureWarning: The `inplace` parameter in pandas.Categorical.reorder_categories is deprecated and will be removed in a future version. Reordering categories will always return a new Categorical object.\n",
      "  c.reorder_categories(natsorted(c.categories), inplace=True)\n",
      "... storing 'cell_type' as categorical\n",
      "/data/estorrs/miniconda3/envs/pollock_new/lib/python3.8/site-packages/anndata/_core/anndata.py:1228: FutureWarning: The `inplace` parameter in pandas.Categorical.reorder_categories is deprecated and will be removed in a future version. Reordering categories will always return a new Categorical object.\n",
      "  c.reorder_categories(natsorted(c.categories), inplace=True)\n",
      "... storing 'orig_cell_type' as categorical\n",
      "/data/estorrs/miniconda3/envs/pollock_new/lib/python3.8/site-packages/anndata/_core/anndata.py:1228: FutureWarning: The `inplace` parameter in pandas.Categorical.reorder_categories is deprecated and will be removed in a future version. Reordering categories will always return a new Categorical object.\n",
      "  c.reorder_categories(natsorted(c.categories), inplace=True)\n",
      "... storing 'predicted_cell_type' as categorical\n",
      "/data/estorrs/miniconda3/envs/pollock_new/lib/python3.8/site-packages/anndata/_core/anndata.py:1228: FutureWarning: The `inplace` parameter in pandas.Categorical.reorder_categories is deprecated and will be removed in a future version. Reordering categories will always return a new Categorical object.\n",
      "  c.reorder_categories(natsorted(c.categories), inplace=True)\n",
      "... storing 'cell_type' as categorical\n",
      "/data/estorrs/miniconda3/envs/pollock_new/lib/python3.8/site-packages/anndata/_core/anndata.py:1228: FutureWarning: The `inplace` parameter in pandas.Categorical.reorder_categories is deprecated and will be removed in a future version. Reordering categories will always return a new Categorical object.\n",
      "  c.reorder_categories(natsorted(c.categories), inplace=True)\n",
      "... storing 'orig_cell_type' as categorical\n",
      "/data/estorrs/miniconda3/envs/pollock_new/lib/python3.8/site-packages/anndata/_core/anndata.py:1228: FutureWarning: The `inplace` parameter in pandas.Categorical.reorder_categories is deprecated and will be removed in a future version. Reordering categories will always return a new Categorical object.\n",
      "  c.reorder_categories(natsorted(c.categories), inplace=True)\n",
      "... storing 'predicted_cell_type' as categorical\n",
      "/data/estorrs/miniconda3/envs/pollock_new/lib/python3.8/site-packages/anndata/_core/anndata.py:1228: FutureWarning: The `inplace` parameter in pandas.Categorical.reorder_categories is deprecated and will be removed in a future version. Reordering categories will always return a new Categorical object.\n",
      "  c.reorder_categories(natsorted(c.categories), inplace=True)\n",
      "... storing 'cell_type' as categorical\n",
      "/data/estorrs/miniconda3/envs/pollock_new/lib/python3.8/site-packages/anndata/_core/anndata.py:1228: FutureWarning: The `inplace` parameter in pandas.Categorical.reorder_categories is deprecated and will be removed in a future version. Reordering categories will always return a new Categorical object.\n",
      "  c.reorder_categories(natsorted(c.categories), inplace=True)\n",
      "... storing 'orig_cell_type' as categorical\n",
      "/data/estorrs/miniconda3/envs/pollock_new/lib/python3.8/site-packages/anndata/_core/anndata.py:1228: FutureWarning: The `inplace` parameter in pandas.Categorical.reorder_categories is deprecated and will be removed in a future version. Reordering categories will always return a new Categorical object.\n",
      "  c.reorder_categories(natsorted(c.categories), inplace=True)\n",
      "... storing 'predicted_cell_type' as categorical\n",
      "/data/estorrs/miniconda3/envs/pollock_new/lib/python3.8/site-packages/anndata/_core/anndata.py:1228: FutureWarning: The `inplace` parameter in pandas.Categorical.reorder_categories is deprecated and will be removed in a future version. Reordering categories will always return a new Categorical object.\n",
      "  c.reorder_categories(natsorted(c.categories), inplace=True)\n",
      "... storing 'cell_type' as categorical\n",
      "/data/estorrs/miniconda3/envs/pollock_new/lib/python3.8/site-packages/anndata/_core/anndata.py:1228: FutureWarning: The `inplace` parameter in pandas.Categorical.reorder_categories is deprecated and will be removed in a future version. Reordering categories will always return a new Categorical object.\n",
      "  c.reorder_categories(natsorted(c.categories), inplace=True)\n",
      "... storing 'orig_cell_type' as categorical\n",
      "/data/estorrs/miniconda3/envs/pollock_new/lib/python3.8/site-packages/anndata/_core/anndata.py:1228: FutureWarning: The `inplace` parameter in pandas.Categorical.reorder_categories is deprecated and will be removed in a future version. Reordering categories will always return a new Categorical object.\n",
      "  c.reorder_categories(natsorted(c.categories), inplace=True)\n",
      "... storing 'predicted_cell_type' as categorical\n"
     ]
    },
    {
     "name": "stderr",
     "output_type": "stream",
     "text": [
      "/data/estorrs/miniconda3/envs/pollock_new/lib/python3.8/site-packages/anndata/_core/anndata.py:1228: FutureWarning: The `inplace` parameter in pandas.Categorical.reorder_categories is deprecated and will be removed in a future version. Reordering categories will always return a new Categorical object.\n",
      "  c.reorder_categories(natsorted(c.categories), inplace=True)\n",
      "... storing 'cell_type' as categorical\n",
      "/data/estorrs/miniconda3/envs/pollock_new/lib/python3.8/site-packages/anndata/_core/anndata.py:1228: FutureWarning: The `inplace` parameter in pandas.Categorical.reorder_categories is deprecated and will be removed in a future version. Reordering categories will always return a new Categorical object.\n",
      "  c.reorder_categories(natsorted(c.categories), inplace=True)\n",
      "... storing 'orig_cell_type' as categorical\n",
      "/data/estorrs/miniconda3/envs/pollock_new/lib/python3.8/site-packages/anndata/_core/anndata.py:1228: FutureWarning: The `inplace` parameter in pandas.Categorical.reorder_categories is deprecated and will be removed in a future version. Reordering categories will always return a new Categorical object.\n",
      "  c.reorder_categories(natsorted(c.categories), inplace=True)\n",
      "... storing 'predicted_cell_type' as categorical\n",
      "/data/estorrs/miniconda3/envs/pollock_new/lib/python3.8/site-packages/anndata/_core/anndata.py:1228: FutureWarning: The `inplace` parameter in pandas.Categorical.reorder_categories is deprecated and will be removed in a future version. Reordering categories will always return a new Categorical object.\n",
      "  c.reorder_categories(natsorted(c.categories), inplace=True)\n",
      "... storing 'cell_type' as categorical\n",
      "/data/estorrs/miniconda3/envs/pollock_new/lib/python3.8/site-packages/anndata/_core/anndata.py:1228: FutureWarning: The `inplace` parameter in pandas.Categorical.reorder_categories is deprecated and will be removed in a future version. Reordering categories will always return a new Categorical object.\n",
      "  c.reorder_categories(natsorted(c.categories), inplace=True)\n",
      "... storing 'orig_cell_type' as categorical\n",
      "/data/estorrs/miniconda3/envs/pollock_new/lib/python3.8/site-packages/anndata/_core/anndata.py:1228: FutureWarning: The `inplace` parameter in pandas.Categorical.reorder_categories is deprecated and will be removed in a future version. Reordering categories will always return a new Categorical object.\n",
      "  c.reorder_categories(natsorted(c.categories), inplace=True)\n",
      "... storing 'predicted_cell_type' as categorical\n",
      "/data/estorrs/miniconda3/envs/pollock_new/lib/python3.8/site-packages/anndata/_core/anndata.py:1228: FutureWarning: The `inplace` parameter in pandas.Categorical.reorder_categories is deprecated and will be removed in a future version. Reordering categories will always return a new Categorical object.\n",
      "  c.reorder_categories(natsorted(c.categories), inplace=True)\n",
      "... storing 'cell_type' as categorical\n",
      "/data/estorrs/miniconda3/envs/pollock_new/lib/python3.8/site-packages/anndata/_core/anndata.py:1228: FutureWarning: The `inplace` parameter in pandas.Categorical.reorder_categories is deprecated and will be removed in a future version. Reordering categories will always return a new Categorical object.\n",
      "  c.reorder_categories(natsorted(c.categories), inplace=True)\n",
      "... storing 'orig_cell_type' as categorical\n",
      "/data/estorrs/miniconda3/envs/pollock_new/lib/python3.8/site-packages/anndata/_core/anndata.py:1228: FutureWarning: The `inplace` parameter in pandas.Categorical.reorder_categories is deprecated and will be removed in a future version. Reordering categories will always return a new Categorical object.\n",
      "  c.reorder_categories(natsorted(c.categories), inplace=True)\n",
      "... storing 'predicted_cell_type' as categorical\n",
      "/data/estorrs/miniconda3/envs/pollock_new/lib/python3.8/site-packages/anndata/_core/anndata.py:1228: FutureWarning: The `inplace` parameter in pandas.Categorical.reorder_categories is deprecated and will be removed in a future version. Reordering categories will always return a new Categorical object.\n",
      "  c.reorder_categories(natsorted(c.categories), inplace=True)\n",
      "... storing 'cell_type' as categorical\n",
      "/data/estorrs/miniconda3/envs/pollock_new/lib/python3.8/site-packages/anndata/_core/anndata.py:1228: FutureWarning: The `inplace` parameter in pandas.Categorical.reorder_categories is deprecated and will be removed in a future version. Reordering categories will always return a new Categorical object.\n",
      "  c.reorder_categories(natsorted(c.categories), inplace=True)\n",
      "... storing 'orig_cell_type' as categorical\n",
      "/data/estorrs/miniconda3/envs/pollock_new/lib/python3.8/site-packages/anndata/_core/anndata.py:1228: FutureWarning: The `inplace` parameter in pandas.Categorical.reorder_categories is deprecated and will be removed in a future version. Reordering categories will always return a new Categorical object.\n",
      "  c.reorder_categories(natsorted(c.categories), inplace=True)\n",
      "... storing 'predicted_cell_type' as categorical\n"
     ]
    }
   ],
   "source": [
    "for dtype, d1 in to_prediction.items():\n",
    "    for disease, d2 in d1.items():\n",
    "        for fold, a in d2.items():\n",
    "            a.write_h5ad(os.path.join(result_dir, f'{dtype}_{disease}_{fold}.h5ad'))"
   ]
  },
  {
   "cell_type": "code",
   "execution_count": 16,
   "id": "99fd1246",
   "metadata": {
    "hidden": true,
    "scrolled": true
   },
   "outputs": [
    {
     "name": "stdout",
     "output_type": "stream",
     "text": [
      "snRNAseq ccrcc fold3\n",
      "snRNAseq ccrcc fold1\n",
      "snRNAseq ccrcc fold2\n",
      "snRNAseq ccrcc fold0\n",
      "snRNAseq ccrcc fold4\n",
      "snRNAseq brca fold2\n",
      "snRNAseq brca fold1\n",
      "snRNAseq brca fold3\n",
      "snRNAseq brca fold0\n",
      "snRNAseq brca fold4\n",
      "snRNAseq gbm fold4\n",
      "snRNAseq gbm fold3\n",
      "snRNAseq gbm fold0\n",
      "snRNAseq gbm fold2\n",
      "snRNAseq gbm fold1\n",
      "snATACseq ccrcc fold3\n",
      "snATACseq ccrcc fold1\n",
      "snATACseq ccrcc fold2\n",
      "snATACseq ccrcc fold0\n",
      "snATACseq ccrcc fold4\n",
      "snATACseq brca fold2\n",
      "snATACseq brca fold1\n",
      "snATACseq brca fold3\n",
      "snATACseq brca fold0\n",
      "snATACseq brca fold4\n",
      "snATACseq gbm fold4\n",
      "snATACseq gbm fold3\n",
      "snATACseq gbm fold0\n",
      "snATACseq gbm fold2\n",
      "snATACseq gbm fold1\n",
      "scRNAseq hnscc fold0\n",
      "scRNAseq hnscc fold4\n",
      "scRNAseq hnscc fold1\n",
      "scRNAseq hnscc fold3\n",
      "scRNAseq hnscc fold2\n",
      "scRNAseq cesc fold4\n",
      "scRNAseq cesc fold3\n",
      "scRNAseq cesc fold2\n",
      "scRNAseq cesc fold0\n",
      "scRNAseq cesc fold1\n",
      "scRNAseq brca fold2\n",
      "scRNAseq brca fold1\n",
      "scRNAseq brca fold3\n",
      "scRNAseq brca fold0\n",
      "scRNAseq brca fold4\n",
      "scRNAseq myeloma fold0\n",
      "scRNAseq myeloma fold1\n",
      "scRNAseq myeloma fold3\n",
      "scRNAseq myeloma fold4\n"
     ]
    },
    {
     "name": "stderr",
     "output_type": "stream",
     "text": [
      "/data/estorrs/miniconda3/envs/pollock_new/lib/python3.8/site-packages/sklearn/metrics/_classification.py:1318: UndefinedMetricWarning: Precision and F-score are ill-defined and being set to 0.0 in labels with no predicted samples. Use `zero_division` parameter to control this behavior.\n",
      "  _warn_prf(average, modifier, msg_start, len(result))\n",
      "/data/estorrs/miniconda3/envs/pollock_new/lib/python3.8/site-packages/sklearn/metrics/_classification.py:1318: UndefinedMetricWarning: Precision and F-score are ill-defined and being set to 0.0 in labels with no predicted samples. Use `zero_division` parameter to control this behavior.\n",
      "  _warn_prf(average, modifier, msg_start, len(result))\n",
      "/data/estorrs/miniconda3/envs/pollock_new/lib/python3.8/site-packages/sklearn/metrics/_classification.py:1318: UndefinedMetricWarning: Precision and F-score are ill-defined and being set to 0.0 in labels with no predicted samples. Use `zero_division` parameter to control this behavior.\n",
      "  _warn_prf(average, modifier, msg_start, len(result))\n"
     ]
    },
    {
     "name": "stdout",
     "output_type": "stream",
     "text": [
      "scRNAseq myeloma fold2\n",
      "scRNAseq melanoma fold3\n",
      "scRNAseq melanoma fold0\n",
      "scRNAseq melanoma fold2\n",
      "scRNAseq melanoma fold1\n",
      "scRNAseq melanoma fold4\n",
      "scRNAseq pdac fold2\n",
      "scRNAseq pdac fold3\n",
      "scRNAseq pdac fold1\n",
      "scRNAseq pdac fold4\n",
      "scRNAseq pdac fold0\n"
     ]
    }
   ],
   "source": [
    "for dtype, d1 in to_prediction.items():\n",
    "    for disease, d2 in d1.items():\n",
    "        for fold, a in d2.items():\n",
    "            print(dtype, disease, fold)\n",
    "            adata = sc.read_h5ad(os.path.join(result_dir, f'{dtype}_{disease}_{fold}.h5ad'))\n",
    "            y_pred = adata.obs['predicted_cell_type'].to_list()\n",
    "            y_true = adata.obs['cell_type'].to_list()\n",
    "            d, cm = get_metrics(y_true, y_pred)\n",
    "\n",
    "            d.to_csv(os.path.join(result_dir, f'{dtype}_{disease}_{fold}_clf_report.txt'), sep='\\t')\n",
    "            cm.to_csv(os.path.join(result_dir, f'{dtype}_{disease}_{fold}_confusion_matrix.txt'), sep='\\t')"
   ]
  },
  {
   "cell_type": "code",
   "execution_count": null,
   "id": "3a3561fd",
   "metadata": {
    "hidden": true
   },
   "outputs": [],
   "source": []
  },
  {
   "cell_type": "markdown",
   "id": "21331e20",
   "metadata": {
    "heading_collapsed": true
   },
   "source": [
    "###### svm"
   ]
  },
  {
   "cell_type": "code",
   "execution_count": 20,
   "id": "9037be6c",
   "metadata": {
    "hidden": true
   },
   "outputs": [],
   "source": [
    "def predict_svm(train, val, method='linear'):    \n",
    "    train, val = normalize(train), normalize(val)\n",
    "    \n",
    "    var_names = train.var_names.intersection(val.var_names)\n",
    "    train = train[:, var_names]\n",
    "    val = val[:, var_names]\n",
    "    \n",
    "    X = train.X.toarray() if 'sparse' in str(type(train.X)).lower() else train.X\n",
    "    labels = train.obs['cell_type'].to_list()\n",
    "    to_label = sorted(set(labels))\n",
    "    y = [to_label.index(l) for l in labels]\n",
    "\n",
    "    clf = LinearSVC() if method == 'linear' else SVC()\n",
    "    clf = CalibratedClassifierCV(clf)\n",
    "    \n",
    "    clf.fit(X, y)\n",
    "    \n",
    "    X = val.X.toarray() if 'sparse' in str(type(val.X)).lower() else val.X\n",
    "    preds = clf.predict(X)\n",
    "    probs = clf.predict_proba(X)\n",
    "\n",
    "    val.obs['predicted_cell_type'] = [to_label[c] for c in preds]\n",
    "    \n",
    "    prob_df = pd.DataFrame(data=probs, index=val.obs.index.to_list(),\n",
    "                          columns=[f'probability {ct}' for ct in to_label])\n",
    "    \n",
    "    val.obs = pd.concat((val.obs, prob_df), axis=1)\n",
    "    \n",
    "    return val\n",
    "    "
   ]
  },
  {
   "cell_type": "code",
   "execution_count": 10,
   "id": "40c74d3f",
   "metadata": {
    "hidden": true
   },
   "outputs": [],
   "source": [
    "result_dir = '/data/pollock/benchmarking/results/svm_linear/'"
   ]
  },
  {
   "cell_type": "code",
   "execution_count": 11,
   "id": "3d0ba5b7",
   "metadata": {
    "hidden": true,
    "scrolled": true
   },
   "outputs": [
    {
     "name": "stdout",
     "output_type": "stream",
     "text": [
      "snRNAseq ccrcc\n"
     ]
    },
    {
     "name": "stderr",
     "output_type": "stream",
     "text": [
      "Trying to set attribute `.obs` of view, copying.\n"
     ]
    },
    {
     "name": "stdout",
     "output_type": "stream",
     "text": [
      "snRNAseq brca\n"
     ]
    },
    {
     "name": "stderr",
     "output_type": "stream",
     "text": [
      "Trying to set attribute `.obs` of view, copying.\n"
     ]
    },
    {
     "name": "stdout",
     "output_type": "stream",
     "text": [
      "snRNAseq gbm\n"
     ]
    },
    {
     "name": "stderr",
     "output_type": "stream",
     "text": [
      "Trying to set attribute `.obs` of view, copying.\n"
     ]
    },
    {
     "name": "stdout",
     "output_type": "stream",
     "text": [
      "snATACseq brca\n"
     ]
    },
    {
     "name": "stderr",
     "output_type": "stream",
     "text": [
      "Trying to set attribute `.obs` of view, copying.\n"
     ]
    },
    {
     "name": "stdout",
     "output_type": "stream",
     "text": [
      "snATACseq ccrcc\n"
     ]
    },
    {
     "name": "stderr",
     "output_type": "stream",
     "text": [
      "Trying to set attribute `.obs` of view, copying.\n"
     ]
    },
    {
     "name": "stdout",
     "output_type": "stream",
     "text": [
      "snATACseq gbm\n"
     ]
    },
    {
     "name": "stderr",
     "output_type": "stream",
     "text": [
      "Trying to set attribute `.obs` of view, copying.\n"
     ]
    },
    {
     "name": "stdout",
     "output_type": "stream",
     "text": [
      "scRNAseq cesc\n"
     ]
    },
    {
     "name": "stderr",
     "output_type": "stream",
     "text": [
      "Trying to set attribute `.obs` of view, copying.\n"
     ]
    },
    {
     "name": "stdout",
     "output_type": "stream",
     "text": [
      "scRNAseq myeloma\n"
     ]
    },
    {
     "name": "stderr",
     "output_type": "stream",
     "text": [
      "Trying to set attribute `.obs` of view, copying.\n"
     ]
    },
    {
     "name": "stdout",
     "output_type": "stream",
     "text": [
      "scRNAseq brca\n"
     ]
    },
    {
     "name": "stderr",
     "output_type": "stream",
     "text": [
      "Trying to set attribute `.obs` of view, copying.\n"
     ]
    },
    {
     "name": "stdout",
     "output_type": "stream",
     "text": [
      "scRNAseq hnscc\n"
     ]
    },
    {
     "name": "stderr",
     "output_type": "stream",
     "text": [
      "Trying to set attribute `.obs` of view, copying.\n"
     ]
    },
    {
     "name": "stdout",
     "output_type": "stream",
     "text": [
      "scRNAseq pdac\n"
     ]
    },
    {
     "name": "stderr",
     "output_type": "stream",
     "text": [
      "Trying to set attribute `.obs` of view, copying.\n"
     ]
    },
    {
     "name": "stdout",
     "output_type": "stream",
     "text": [
      "scRNAseq melanoma\n"
     ]
    },
    {
     "name": "stderr",
     "output_type": "stream",
     "text": [
      "Trying to set attribute `.obs` of view, copying.\n"
     ]
    }
   ],
   "source": [
    "to_prediction = {}\n",
    "for dtype, d1 in fmap.items():\n",
    "    to_prediction[dtype] = {}\n",
    "    for disease, d2 in d1.items():\n",
    "        print(dtype, disease)\n",
    "        train = sc.read_h5ad(d2['train'])\n",
    "        val = sc.read_h5ad(d2['val'])\n",
    "        \n",
    "        to_prediction[dtype][disease] = predict_svm(train, val, method='linear')"
   ]
  },
  {
   "cell_type": "code",
   "execution_count": 14,
   "id": "496447de",
   "metadata": {
    "hidden": true,
    "scrolled": true
   },
   "outputs": [],
   "source": [
    "for dtype, d1 in to_prediction.items():\n",
    "    for disease, a in d1.items():\n",
    "        a.write_h5ad(os.path.join(result_dir, f'{dtype}_{disease}.h5ad'))"
   ]
  },
  {
   "cell_type": "code",
   "execution_count": 15,
   "id": "dba4ae89",
   "metadata": {
    "hidden": true,
    "scrolled": true
   },
   "outputs": [
    {
     "name": "stdout",
     "output_type": "stream",
     "text": [
      "snRNAseq ccrcc\n",
      "snRNAseq brca\n",
      "snRNAseq gbm\n",
      "snATACseq brca\n",
      "snATACseq ccrcc\n",
      "snATACseq gbm\n",
      "scRNAseq cesc\n",
      "scRNAseq myeloma\n",
      "scRNAseq brca\n",
      "scRNAseq hnscc\n",
      "scRNAseq pdac\n",
      "scRNAseq melanoma\n"
     ]
    },
    {
     "name": "stderr",
     "output_type": "stream",
     "text": [
      "/data/estorrs/miniconda3/envs/pollock_new/lib/python3.8/site-packages/sklearn/metrics/_classification.py:1318: UndefinedMetricWarning: Precision and F-score are ill-defined and being set to 0.0 in labels with no predicted samples. Use `zero_division` parameter to control this behavior.\n",
      "  _warn_prf(average, modifier, msg_start, len(result))\n",
      "/data/estorrs/miniconda3/envs/pollock_new/lib/python3.8/site-packages/sklearn/metrics/_classification.py:1318: UndefinedMetricWarning: Precision and F-score are ill-defined and being set to 0.0 in labels with no predicted samples. Use `zero_division` parameter to control this behavior.\n",
      "  _warn_prf(average, modifier, msg_start, len(result))\n",
      "/data/estorrs/miniconda3/envs/pollock_new/lib/python3.8/site-packages/sklearn/metrics/_classification.py:1318: UndefinedMetricWarning: Precision and F-score are ill-defined and being set to 0.0 in labels with no predicted samples. Use `zero_division` parameter to control this behavior.\n",
      "  _warn_prf(average, modifier, msg_start, len(result))\n"
     ]
    }
   ],
   "source": [
    "for dtype, d1 in fmap.items():\n",
    "    for disease, d2 in d1.items():\n",
    "        print(dtype, disease)\n",
    "        adata = sc.read_h5ad(os.path.join(result_dir, f'{dtype}_{disease}.h5ad'))\n",
    "        y_pred = adata.obs['predicted_cell_type'].to_list()\n",
    "        y_true = adata.obs['cell_type'].to_list()\n",
    "        d, cm = get_metrics(y_true, y_pred)\n",
    "        \n",
    "        d.to_csv(os.path.join(result_dir, f'{dtype}_{disease}_clf_report.txt'), sep='\\t')\n",
    "        cm.to_csv(os.path.join(result_dir, f'{dtype}_{disease}_confusion_matrix.txt'), sep='\\t')"
   ]
  },
  {
   "cell_type": "code",
   "execution_count": 22,
   "id": "27ca4c92",
   "metadata": {
    "hidden": true
   },
   "outputs": [],
   "source": [
    "# with folds\n",
    "result_dir = '/data/pollock/benchmarking/results/svm_linear/interdataset_with_folds'"
   ]
  },
  {
   "cell_type": "code",
   "execution_count": 21,
   "id": "c6eba31a",
   "metadata": {
    "hidden": true,
    "scrolled": true
   },
   "outputs": [
    {
     "name": "stdout",
     "output_type": "stream",
     "text": [
      "snRNAseq ccrcc fold3\n"
     ]
    },
    {
     "name": "stderr",
     "output_type": "stream",
     "text": [
      "Trying to set attribute `.obs` of view, copying.\n"
     ]
    },
    {
     "name": "stdout",
     "output_type": "stream",
     "text": [
      "snRNAseq ccrcc fold1\n"
     ]
    },
    {
     "name": "stderr",
     "output_type": "stream",
     "text": [
      "Trying to set attribute `.obs` of view, copying.\n"
     ]
    },
    {
     "name": "stdout",
     "output_type": "stream",
     "text": [
      "snRNAseq ccrcc fold2\n"
     ]
    },
    {
     "name": "stderr",
     "output_type": "stream",
     "text": [
      "Trying to set attribute `.obs` of view, copying.\n"
     ]
    },
    {
     "name": "stdout",
     "output_type": "stream",
     "text": [
      "snRNAseq ccrcc fold0\n"
     ]
    },
    {
     "name": "stderr",
     "output_type": "stream",
     "text": [
      "Trying to set attribute `.obs` of view, copying.\n"
     ]
    },
    {
     "name": "stdout",
     "output_type": "stream",
     "text": [
      "snRNAseq ccrcc fold4\n"
     ]
    },
    {
     "name": "stderr",
     "output_type": "stream",
     "text": [
      "Trying to set attribute `.obs` of view, copying.\n"
     ]
    },
    {
     "name": "stdout",
     "output_type": "stream",
     "text": [
      "snRNAseq brca fold2\n"
     ]
    },
    {
     "name": "stderr",
     "output_type": "stream",
     "text": [
      "Trying to set attribute `.obs` of view, copying.\n"
     ]
    },
    {
     "name": "stdout",
     "output_type": "stream",
     "text": [
      "snRNAseq brca fold1\n"
     ]
    },
    {
     "name": "stderr",
     "output_type": "stream",
     "text": [
      "Trying to set attribute `.obs` of view, copying.\n"
     ]
    },
    {
     "name": "stdout",
     "output_type": "stream",
     "text": [
      "snRNAseq brca fold3\n"
     ]
    },
    {
     "name": "stderr",
     "output_type": "stream",
     "text": [
      "Trying to set attribute `.obs` of view, copying.\n"
     ]
    },
    {
     "name": "stdout",
     "output_type": "stream",
     "text": [
      "snRNAseq brca fold0\n"
     ]
    },
    {
     "name": "stderr",
     "output_type": "stream",
     "text": [
      "Trying to set attribute `.obs` of view, copying.\n"
     ]
    },
    {
     "name": "stdout",
     "output_type": "stream",
     "text": [
      "snRNAseq brca fold4\n"
     ]
    },
    {
     "name": "stderr",
     "output_type": "stream",
     "text": [
      "Trying to set attribute `.obs` of view, copying.\n"
     ]
    },
    {
     "name": "stdout",
     "output_type": "stream",
     "text": [
      "snRNAseq gbm fold4\n"
     ]
    },
    {
     "name": "stderr",
     "output_type": "stream",
     "text": [
      "Trying to set attribute `.obs` of view, copying.\n"
     ]
    },
    {
     "name": "stdout",
     "output_type": "stream",
     "text": [
      "snRNAseq gbm fold3\n"
     ]
    },
    {
     "name": "stderr",
     "output_type": "stream",
     "text": [
      "Trying to set attribute `.obs` of view, copying.\n"
     ]
    },
    {
     "name": "stdout",
     "output_type": "stream",
     "text": [
      "snRNAseq gbm fold0\n"
     ]
    },
    {
     "name": "stderr",
     "output_type": "stream",
     "text": [
      "Trying to set attribute `.obs` of view, copying.\n"
     ]
    },
    {
     "name": "stdout",
     "output_type": "stream",
     "text": [
      "snRNAseq gbm fold2\n"
     ]
    },
    {
     "name": "stderr",
     "output_type": "stream",
     "text": [
      "Trying to set attribute `.obs` of view, copying.\n"
     ]
    },
    {
     "name": "stdout",
     "output_type": "stream",
     "text": [
      "snRNAseq gbm fold1\n"
     ]
    },
    {
     "name": "stderr",
     "output_type": "stream",
     "text": [
      "Trying to set attribute `.obs` of view, copying.\n"
     ]
    },
    {
     "name": "stdout",
     "output_type": "stream",
     "text": [
      "snATACseq ccrcc fold3\n"
     ]
    },
    {
     "name": "stderr",
     "output_type": "stream",
     "text": [
      "Trying to set attribute `.obs` of view, copying.\n"
     ]
    },
    {
     "name": "stdout",
     "output_type": "stream",
     "text": [
      "snATACseq ccrcc fold1\n"
     ]
    },
    {
     "name": "stderr",
     "output_type": "stream",
     "text": [
      "Trying to set attribute `.obs` of view, copying.\n"
     ]
    },
    {
     "name": "stdout",
     "output_type": "stream",
     "text": [
      "snATACseq ccrcc fold2\n"
     ]
    },
    {
     "name": "stderr",
     "output_type": "stream",
     "text": [
      "Trying to set attribute `.obs` of view, copying.\n"
     ]
    },
    {
     "name": "stdout",
     "output_type": "stream",
     "text": [
      "snATACseq ccrcc fold0\n"
     ]
    },
    {
     "name": "stderr",
     "output_type": "stream",
     "text": [
      "Trying to set attribute `.obs` of view, copying.\n"
     ]
    },
    {
     "name": "stdout",
     "output_type": "stream",
     "text": [
      "snATACseq ccrcc fold4\n"
     ]
    },
    {
     "name": "stderr",
     "output_type": "stream",
     "text": [
      "Trying to set attribute `.obs` of view, copying.\n"
     ]
    },
    {
     "name": "stdout",
     "output_type": "stream",
     "text": [
      "snATACseq brca fold2\n"
     ]
    },
    {
     "name": "stderr",
     "output_type": "stream",
     "text": [
      "Trying to set attribute `.obs` of view, copying.\n"
     ]
    },
    {
     "name": "stdout",
     "output_type": "stream",
     "text": [
      "snATACseq brca fold1\n"
     ]
    },
    {
     "name": "stderr",
     "output_type": "stream",
     "text": [
      "Trying to set attribute `.obs` of view, copying.\n"
     ]
    },
    {
     "name": "stdout",
     "output_type": "stream",
     "text": [
      "snATACseq brca fold3\n"
     ]
    },
    {
     "name": "stderr",
     "output_type": "stream",
     "text": [
      "Trying to set attribute `.obs` of view, copying.\n"
     ]
    },
    {
     "name": "stdout",
     "output_type": "stream",
     "text": [
      "snATACseq brca fold0\n"
     ]
    },
    {
     "name": "stderr",
     "output_type": "stream",
     "text": [
      "Trying to set attribute `.obs` of view, copying.\n"
     ]
    },
    {
     "name": "stdout",
     "output_type": "stream",
     "text": [
      "snATACseq brca fold4\n"
     ]
    },
    {
     "name": "stderr",
     "output_type": "stream",
     "text": [
      "Trying to set attribute `.obs` of view, copying.\n"
     ]
    },
    {
     "name": "stdout",
     "output_type": "stream",
     "text": [
      "snATACseq gbm fold4\n"
     ]
    },
    {
     "name": "stderr",
     "output_type": "stream",
     "text": [
      "Trying to set attribute `.obs` of view, copying.\n"
     ]
    },
    {
     "name": "stdout",
     "output_type": "stream",
     "text": [
      "snATACseq gbm fold3\n"
     ]
    },
    {
     "name": "stderr",
     "output_type": "stream",
     "text": [
      "Trying to set attribute `.obs` of view, copying.\n"
     ]
    },
    {
     "name": "stdout",
     "output_type": "stream",
     "text": [
      "snATACseq gbm fold0\n"
     ]
    },
    {
     "name": "stderr",
     "output_type": "stream",
     "text": [
      "Trying to set attribute `.obs` of view, copying.\n"
     ]
    },
    {
     "name": "stdout",
     "output_type": "stream",
     "text": [
      "snATACseq gbm fold2\n"
     ]
    },
    {
     "name": "stderr",
     "output_type": "stream",
     "text": [
      "Trying to set attribute `.obs` of view, copying.\n"
     ]
    },
    {
     "name": "stdout",
     "output_type": "stream",
     "text": [
      "snATACseq gbm fold1\n"
     ]
    },
    {
     "name": "stderr",
     "output_type": "stream",
     "text": [
      "Trying to set attribute `.obs` of view, copying.\n"
     ]
    },
    {
     "name": "stdout",
     "output_type": "stream",
     "text": [
      "scRNAseq hnscc fold0\n"
     ]
    },
    {
     "name": "stderr",
     "output_type": "stream",
     "text": [
      "Trying to set attribute `.obs` of view, copying.\n"
     ]
    },
    {
     "name": "stdout",
     "output_type": "stream",
     "text": [
      "scRNAseq hnscc fold4\n"
     ]
    },
    {
     "name": "stderr",
     "output_type": "stream",
     "text": [
      "Trying to set attribute `.obs` of view, copying.\n"
     ]
    },
    {
     "name": "stdout",
     "output_type": "stream",
     "text": [
      "scRNAseq hnscc fold1\n"
     ]
    },
    {
     "name": "stderr",
     "output_type": "stream",
     "text": [
      "Trying to set attribute `.obs` of view, copying.\n"
     ]
    },
    {
     "name": "stdout",
     "output_type": "stream",
     "text": [
      "scRNAseq hnscc fold3\n"
     ]
    },
    {
     "name": "stderr",
     "output_type": "stream",
     "text": [
      "Trying to set attribute `.obs` of view, copying.\n"
     ]
    },
    {
     "name": "stdout",
     "output_type": "stream",
     "text": [
      "scRNAseq hnscc fold2\n"
     ]
    },
    {
     "name": "stderr",
     "output_type": "stream",
     "text": [
      "Trying to set attribute `.obs` of view, copying.\n"
     ]
    },
    {
     "name": "stdout",
     "output_type": "stream",
     "text": [
      "scRNAseq cesc fold4\n"
     ]
    },
    {
     "name": "stderr",
     "output_type": "stream",
     "text": [
      "Trying to set attribute `.obs` of view, copying.\n"
     ]
    },
    {
     "name": "stdout",
     "output_type": "stream",
     "text": [
      "scRNAseq cesc fold3\n"
     ]
    },
    {
     "name": "stderr",
     "output_type": "stream",
     "text": [
      "Trying to set attribute `.obs` of view, copying.\n"
     ]
    },
    {
     "name": "stdout",
     "output_type": "stream",
     "text": [
      "scRNAseq cesc fold2\n"
     ]
    },
    {
     "name": "stderr",
     "output_type": "stream",
     "text": [
      "Trying to set attribute `.obs` of view, copying.\n"
     ]
    },
    {
     "name": "stdout",
     "output_type": "stream",
     "text": [
      "scRNAseq cesc fold0\n"
     ]
    },
    {
     "name": "stderr",
     "output_type": "stream",
     "text": [
      "Trying to set attribute `.obs` of view, copying.\n"
     ]
    },
    {
     "name": "stdout",
     "output_type": "stream",
     "text": [
      "scRNAseq cesc fold1\n"
     ]
    },
    {
     "name": "stderr",
     "output_type": "stream",
     "text": [
      "Trying to set attribute `.obs` of view, copying.\n"
     ]
    },
    {
     "name": "stdout",
     "output_type": "stream",
     "text": [
      "scRNAseq brca fold2\n"
     ]
    },
    {
     "name": "stderr",
     "output_type": "stream",
     "text": [
      "Trying to set attribute `.obs` of view, copying.\n"
     ]
    },
    {
     "name": "stdout",
     "output_type": "stream",
     "text": [
      "scRNAseq brca fold1\n"
     ]
    },
    {
     "name": "stderr",
     "output_type": "stream",
     "text": [
      "Trying to set attribute `.obs` of view, copying.\n"
     ]
    },
    {
     "name": "stdout",
     "output_type": "stream",
     "text": [
      "scRNAseq brca fold3\n"
     ]
    },
    {
     "name": "stderr",
     "output_type": "stream",
     "text": [
      "Trying to set attribute `.obs` of view, copying.\n"
     ]
    },
    {
     "name": "stdout",
     "output_type": "stream",
     "text": [
      "scRNAseq brca fold0\n"
     ]
    },
    {
     "name": "stderr",
     "output_type": "stream",
     "text": [
      "Trying to set attribute `.obs` of view, copying.\n"
     ]
    },
    {
     "name": "stdout",
     "output_type": "stream",
     "text": [
      "scRNAseq brca fold4\n"
     ]
    },
    {
     "name": "stderr",
     "output_type": "stream",
     "text": [
      "Trying to set attribute `.obs` of view, copying.\n"
     ]
    },
    {
     "name": "stdout",
     "output_type": "stream",
     "text": [
      "scRNAseq myeloma fold0\n"
     ]
    },
    {
     "name": "stderr",
     "output_type": "stream",
     "text": [
      "Trying to set attribute `.obs` of view, copying.\n"
     ]
    },
    {
     "name": "stdout",
     "output_type": "stream",
     "text": [
      "scRNAseq myeloma fold1\n"
     ]
    },
    {
     "name": "stderr",
     "output_type": "stream",
     "text": [
      "Trying to set attribute `.obs` of view, copying.\n"
     ]
    },
    {
     "name": "stdout",
     "output_type": "stream",
     "text": [
      "scRNAseq myeloma fold3\n"
     ]
    },
    {
     "name": "stderr",
     "output_type": "stream",
     "text": [
      "Trying to set attribute `.obs` of view, copying.\n"
     ]
    },
    {
     "name": "stdout",
     "output_type": "stream",
     "text": [
      "scRNAseq myeloma fold4\n"
     ]
    },
    {
     "name": "stderr",
     "output_type": "stream",
     "text": [
      "Trying to set attribute `.obs` of view, copying.\n"
     ]
    },
    {
     "name": "stdout",
     "output_type": "stream",
     "text": [
      "scRNAseq myeloma fold2\n"
     ]
    },
    {
     "name": "stderr",
     "output_type": "stream",
     "text": [
      "Trying to set attribute `.obs` of view, copying.\n"
     ]
    },
    {
     "name": "stdout",
     "output_type": "stream",
     "text": [
      "scRNAseq melanoma fold3\n"
     ]
    },
    {
     "name": "stderr",
     "output_type": "stream",
     "text": [
      "Trying to set attribute `.obs` of view, copying.\n"
     ]
    },
    {
     "name": "stdout",
     "output_type": "stream",
     "text": [
      "scRNAseq melanoma fold0\n"
     ]
    },
    {
     "name": "stderr",
     "output_type": "stream",
     "text": [
      "Trying to set attribute `.obs` of view, copying.\n"
     ]
    },
    {
     "name": "stdout",
     "output_type": "stream",
     "text": [
      "scRNAseq melanoma fold2\n"
     ]
    },
    {
     "name": "stderr",
     "output_type": "stream",
     "text": [
      "Trying to set attribute `.obs` of view, copying.\n"
     ]
    },
    {
     "name": "stdout",
     "output_type": "stream",
     "text": [
      "scRNAseq melanoma fold1\n"
     ]
    },
    {
     "name": "stderr",
     "output_type": "stream",
     "text": [
      "Trying to set attribute `.obs` of view, copying.\n"
     ]
    },
    {
     "name": "stdout",
     "output_type": "stream",
     "text": [
      "scRNAseq melanoma fold4\n"
     ]
    },
    {
     "name": "stderr",
     "output_type": "stream",
     "text": [
      "Trying to set attribute `.obs` of view, copying.\n"
     ]
    },
    {
     "name": "stdout",
     "output_type": "stream",
     "text": [
      "scRNAseq pdac fold2\n"
     ]
    },
    {
     "name": "stderr",
     "output_type": "stream",
     "text": [
      "Trying to set attribute `.obs` of view, copying.\n"
     ]
    },
    {
     "name": "stdout",
     "output_type": "stream",
     "text": [
      "scRNAseq pdac fold3\n"
     ]
    },
    {
     "name": "stderr",
     "output_type": "stream",
     "text": [
      "Trying to set attribute `.obs` of view, copying.\n"
     ]
    },
    {
     "name": "stdout",
     "output_type": "stream",
     "text": [
      "scRNAseq pdac fold1\n"
     ]
    },
    {
     "name": "stderr",
     "output_type": "stream",
     "text": [
      "Trying to set attribute `.obs` of view, copying.\n"
     ]
    },
    {
     "name": "stdout",
     "output_type": "stream",
     "text": [
      "scRNAseq pdac fold4\n"
     ]
    },
    {
     "name": "stderr",
     "output_type": "stream",
     "text": [
      "Trying to set attribute `.obs` of view, copying.\n"
     ]
    },
    {
     "name": "stdout",
     "output_type": "stream",
     "text": [
      "scRNAseq pdac fold0\n"
     ]
    },
    {
     "name": "stderr",
     "output_type": "stream",
     "text": [
      "Trying to set attribute `.obs` of view, copying.\n"
     ]
    }
   ],
   "source": [
    "to_prediction = {}\n",
    "for dtype, d1 in folds_fmap.items():\n",
    "    to_prediction[dtype] = {}\n",
    "    for disease, d2 in d1.items():\n",
    "        to_prediction[dtype][disease] = {}\n",
    "        for fold, d3 in d2.items():\n",
    "            print(dtype, disease, fold)\n",
    "            train = sc.read_h5ad(d3['train'])\n",
    "            val = sc.read_h5ad(d3['val'])\n",
    "\n",
    "            to_prediction[dtype][disease][fold] = predict_svm(train, val, method='linear')\n",
    "        "
   ]
  },
  {
   "cell_type": "code",
   "execution_count": 23,
   "id": "7f025569",
   "metadata": {
    "hidden": true,
    "scrolled": true
   },
   "outputs": [
    {
     "name": "stderr",
     "output_type": "stream",
     "text": [
      "/data/estorrs/miniconda3/envs/pollock_new/lib/python3.8/site-packages/anndata/_core/anndata.py:1228: FutureWarning: The `inplace` parameter in pandas.Categorical.reorder_categories is deprecated and will be removed in a future version. Reordering categories will always return a new Categorical object.\n",
      "  c.reorder_categories(natsorted(c.categories), inplace=True)\n",
      "... storing 'predicted_cell_type' as categorical\n",
      "/data/estorrs/miniconda3/envs/pollock_new/lib/python3.8/site-packages/anndata/_core/anndata.py:1228: FutureWarning: The `inplace` parameter in pandas.Categorical.reorder_categories is deprecated and will be removed in a future version. Reordering categories will always return a new Categorical object.\n",
      "  c.reorder_categories(natsorted(c.categories), inplace=True)\n",
      "... storing 'predicted_cell_type' as categorical\n",
      "/data/estorrs/miniconda3/envs/pollock_new/lib/python3.8/site-packages/anndata/_core/anndata.py:1228: FutureWarning: The `inplace` parameter in pandas.Categorical.reorder_categories is deprecated and will be removed in a future version. Reordering categories will always return a new Categorical object.\n",
      "  c.reorder_categories(natsorted(c.categories), inplace=True)\n",
      "... storing 'predicted_cell_type' as categorical\n",
      "/data/estorrs/miniconda3/envs/pollock_new/lib/python3.8/site-packages/anndata/_core/anndata.py:1228: FutureWarning: The `inplace` parameter in pandas.Categorical.reorder_categories is deprecated and will be removed in a future version. Reordering categories will always return a new Categorical object.\n",
      "  c.reorder_categories(natsorted(c.categories), inplace=True)\n",
      "... storing 'predicted_cell_type' as categorical\n",
      "/data/estorrs/miniconda3/envs/pollock_new/lib/python3.8/site-packages/anndata/_core/anndata.py:1228: FutureWarning: The `inplace` parameter in pandas.Categorical.reorder_categories is deprecated and will be removed in a future version. Reordering categories will always return a new Categorical object.\n",
      "  c.reorder_categories(natsorted(c.categories), inplace=True)\n",
      "... storing 'predicted_cell_type' as categorical\n",
      "/data/estorrs/miniconda3/envs/pollock_new/lib/python3.8/site-packages/anndata/_core/anndata.py:1228: FutureWarning: The `inplace` parameter in pandas.Categorical.reorder_categories is deprecated and will be removed in a future version. Reordering categories will always return a new Categorical object.\n",
      "  c.reorder_categories(natsorted(c.categories), inplace=True)\n",
      "... storing 'predicted_cell_type' as categorical\n",
      "/data/estorrs/miniconda3/envs/pollock_new/lib/python3.8/site-packages/anndata/_core/anndata.py:1228: FutureWarning: The `inplace` parameter in pandas.Categorical.reorder_categories is deprecated and will be removed in a future version. Reordering categories will always return a new Categorical object.\n",
      "  c.reorder_categories(natsorted(c.categories), inplace=True)\n",
      "... storing 'predicted_cell_type' as categorical\n",
      "/data/estorrs/miniconda3/envs/pollock_new/lib/python3.8/site-packages/anndata/_core/anndata.py:1228: FutureWarning: The `inplace` parameter in pandas.Categorical.reorder_categories is deprecated and will be removed in a future version. Reordering categories will always return a new Categorical object.\n",
      "  c.reorder_categories(natsorted(c.categories), inplace=True)\n",
      "... storing 'predicted_cell_type' as categorical\n",
      "/data/estorrs/miniconda3/envs/pollock_new/lib/python3.8/site-packages/anndata/_core/anndata.py:1228: FutureWarning: The `inplace` parameter in pandas.Categorical.reorder_categories is deprecated and will be removed in a future version. Reordering categories will always return a new Categorical object.\n",
      "  c.reorder_categories(natsorted(c.categories), inplace=True)\n",
      "... storing 'predicted_cell_type' as categorical\n",
      "/data/estorrs/miniconda3/envs/pollock_new/lib/python3.8/site-packages/anndata/_core/anndata.py:1228: FutureWarning: The `inplace` parameter in pandas.Categorical.reorder_categories is deprecated and will be removed in a future version. Reordering categories will always return a new Categorical object.\n",
      "  c.reorder_categories(natsorted(c.categories), inplace=True)\n",
      "... storing 'predicted_cell_type' as categorical\n",
      "/data/estorrs/miniconda3/envs/pollock_new/lib/python3.8/site-packages/anndata/_core/anndata.py:1228: FutureWarning: The `inplace` parameter in pandas.Categorical.reorder_categories is deprecated and will be removed in a future version. Reordering categories will always return a new Categorical object.\n",
      "  c.reorder_categories(natsorted(c.categories), inplace=True)\n",
      "... storing 'predicted_cell_type' as categorical\n",
      "/data/estorrs/miniconda3/envs/pollock_new/lib/python3.8/site-packages/anndata/_core/anndata.py:1228: FutureWarning: The `inplace` parameter in pandas.Categorical.reorder_categories is deprecated and will be removed in a future version. Reordering categories will always return a new Categorical object.\n",
      "  c.reorder_categories(natsorted(c.categories), inplace=True)\n",
      "... storing 'predicted_cell_type' as categorical\n",
      "/data/estorrs/miniconda3/envs/pollock_new/lib/python3.8/site-packages/anndata/_core/anndata.py:1228: FutureWarning: The `inplace` parameter in pandas.Categorical.reorder_categories is deprecated and will be removed in a future version. Reordering categories will always return a new Categorical object.\n",
      "  c.reorder_categories(natsorted(c.categories), inplace=True)\n",
      "... storing 'predicted_cell_type' as categorical\n",
      "/data/estorrs/miniconda3/envs/pollock_new/lib/python3.8/site-packages/anndata/_core/anndata.py:1228: FutureWarning: The `inplace` parameter in pandas.Categorical.reorder_categories is deprecated and will be removed in a future version. Reordering categories will always return a new Categorical object.\n",
      "  c.reorder_categories(natsorted(c.categories), inplace=True)\n",
      "... storing 'predicted_cell_type' as categorical\n",
      "/data/estorrs/miniconda3/envs/pollock_new/lib/python3.8/site-packages/anndata/_core/anndata.py:1228: FutureWarning: The `inplace` parameter in pandas.Categorical.reorder_categories is deprecated and will be removed in a future version. Reordering categories will always return a new Categorical object.\n",
      "  c.reorder_categories(natsorted(c.categories), inplace=True)\n",
      "... storing 'predicted_cell_type' as categorical\n",
      "/data/estorrs/miniconda3/envs/pollock_new/lib/python3.8/site-packages/anndata/_core/anndata.py:1228: FutureWarning: The `inplace` parameter in pandas.Categorical.reorder_categories is deprecated and will be removed in a future version. Reordering categories will always return a new Categorical object.\n",
      "  c.reorder_categories(natsorted(c.categories), inplace=True)\n",
      "... storing 'predicted_cell_type' as categorical\n",
      "/data/estorrs/miniconda3/envs/pollock_new/lib/python3.8/site-packages/anndata/_core/anndata.py:1228: FutureWarning: The `inplace` parameter in pandas.Categorical.reorder_categories is deprecated and will be removed in a future version. Reordering categories will always return a new Categorical object.\n",
      "  c.reorder_categories(natsorted(c.categories), inplace=True)\n",
      "... storing 'predicted_cell_type' as categorical\n",
      "/data/estorrs/miniconda3/envs/pollock_new/lib/python3.8/site-packages/anndata/_core/anndata.py:1228: FutureWarning: The `inplace` parameter in pandas.Categorical.reorder_categories is deprecated and will be removed in a future version. Reordering categories will always return a new Categorical object.\n",
      "  c.reorder_categories(natsorted(c.categories), inplace=True)\n",
      "... storing 'predicted_cell_type' as categorical\n",
      "/data/estorrs/miniconda3/envs/pollock_new/lib/python3.8/site-packages/anndata/_core/anndata.py:1228: FutureWarning: The `inplace` parameter in pandas.Categorical.reorder_categories is deprecated and will be removed in a future version. Reordering categories will always return a new Categorical object.\n",
      "  c.reorder_categories(natsorted(c.categories), inplace=True)\n",
      "... storing 'predicted_cell_type' as categorical\n",
      "/data/estorrs/miniconda3/envs/pollock_new/lib/python3.8/site-packages/anndata/_core/anndata.py:1228: FutureWarning: The `inplace` parameter in pandas.Categorical.reorder_categories is deprecated and will be removed in a future version. Reordering categories will always return a new Categorical object.\n",
      "  c.reorder_categories(natsorted(c.categories), inplace=True)\n",
      "... storing 'predicted_cell_type' as categorical\n"
     ]
    },
    {
     "name": "stderr",
     "output_type": "stream",
     "text": [
      "/data/estorrs/miniconda3/envs/pollock_new/lib/python3.8/site-packages/anndata/_core/anndata.py:1228: FutureWarning: The `inplace` parameter in pandas.Categorical.reorder_categories is deprecated and will be removed in a future version. Reordering categories will always return a new Categorical object.\n",
      "  c.reorder_categories(natsorted(c.categories), inplace=True)\n",
      "... storing 'predicted_cell_type' as categorical\n",
      "/data/estorrs/miniconda3/envs/pollock_new/lib/python3.8/site-packages/anndata/_core/anndata.py:1228: FutureWarning: The `inplace` parameter in pandas.Categorical.reorder_categories is deprecated and will be removed in a future version. Reordering categories will always return a new Categorical object.\n",
      "  c.reorder_categories(natsorted(c.categories), inplace=True)\n",
      "... storing 'predicted_cell_type' as categorical\n",
      "/data/estorrs/miniconda3/envs/pollock_new/lib/python3.8/site-packages/anndata/_core/anndata.py:1228: FutureWarning: The `inplace` parameter in pandas.Categorical.reorder_categories is deprecated and will be removed in a future version. Reordering categories will always return a new Categorical object.\n",
      "  c.reorder_categories(natsorted(c.categories), inplace=True)\n",
      "... storing 'predicted_cell_type' as categorical\n",
      "/data/estorrs/miniconda3/envs/pollock_new/lib/python3.8/site-packages/anndata/_core/anndata.py:1228: FutureWarning: The `inplace` parameter in pandas.Categorical.reorder_categories is deprecated and will be removed in a future version. Reordering categories will always return a new Categorical object.\n",
      "  c.reorder_categories(natsorted(c.categories), inplace=True)\n",
      "... storing 'predicted_cell_type' as categorical\n",
      "/data/estorrs/miniconda3/envs/pollock_new/lib/python3.8/site-packages/anndata/_core/anndata.py:1228: FutureWarning: The `inplace` parameter in pandas.Categorical.reorder_categories is deprecated and will be removed in a future version. Reordering categories will always return a new Categorical object.\n",
      "  c.reorder_categories(natsorted(c.categories), inplace=True)\n",
      "... storing 'predicted_cell_type' as categorical\n",
      "/data/estorrs/miniconda3/envs/pollock_new/lib/python3.8/site-packages/anndata/_core/anndata.py:1228: FutureWarning: The `inplace` parameter in pandas.Categorical.reorder_categories is deprecated and will be removed in a future version. Reordering categories will always return a new Categorical object.\n",
      "  c.reorder_categories(natsorted(c.categories), inplace=True)\n",
      "... storing 'predicted_cell_type' as categorical\n",
      "/data/estorrs/miniconda3/envs/pollock_new/lib/python3.8/site-packages/anndata/_core/anndata.py:1228: FutureWarning: The `inplace` parameter in pandas.Categorical.reorder_categories is deprecated and will be removed in a future version. Reordering categories will always return a new Categorical object.\n",
      "  c.reorder_categories(natsorted(c.categories), inplace=True)\n",
      "... storing 'predicted_cell_type' as categorical\n",
      "/data/estorrs/miniconda3/envs/pollock_new/lib/python3.8/site-packages/anndata/_core/anndata.py:1228: FutureWarning: The `inplace` parameter in pandas.Categorical.reorder_categories is deprecated and will be removed in a future version. Reordering categories will always return a new Categorical object.\n",
      "  c.reorder_categories(natsorted(c.categories), inplace=True)\n",
      "... storing 'predicted_cell_type' as categorical\n",
      "/data/estorrs/miniconda3/envs/pollock_new/lib/python3.8/site-packages/anndata/_core/anndata.py:1228: FutureWarning: The `inplace` parameter in pandas.Categorical.reorder_categories is deprecated and will be removed in a future version. Reordering categories will always return a new Categorical object.\n",
      "  c.reorder_categories(natsorted(c.categories), inplace=True)\n",
      "... storing 'predicted_cell_type' as categorical\n",
      "/data/estorrs/miniconda3/envs/pollock_new/lib/python3.8/site-packages/anndata/_core/anndata.py:1228: FutureWarning: The `inplace` parameter in pandas.Categorical.reorder_categories is deprecated and will be removed in a future version. Reordering categories will always return a new Categorical object.\n",
      "  c.reorder_categories(natsorted(c.categories), inplace=True)\n",
      "... storing 'predicted_cell_type' as categorical\n",
      "/data/estorrs/miniconda3/envs/pollock_new/lib/python3.8/site-packages/anndata/_core/anndata.py:1228: FutureWarning: The `inplace` parameter in pandas.Categorical.reorder_categories is deprecated and will be removed in a future version. Reordering categories will always return a new Categorical object.\n",
      "  c.reorder_categories(natsorted(c.categories), inplace=True)\n",
      "... storing 'predicted_cell_type' as categorical\n",
      "/data/estorrs/miniconda3/envs/pollock_new/lib/python3.8/site-packages/anndata/_core/anndata.py:1228: FutureWarning: The `inplace` parameter in pandas.Categorical.reorder_categories is deprecated and will be removed in a future version. Reordering categories will always return a new Categorical object.\n",
      "  c.reorder_categories(natsorted(c.categories), inplace=True)\n",
      "... storing 'predicted_cell_type' as categorical\n",
      "/data/estorrs/miniconda3/envs/pollock_new/lib/python3.8/site-packages/anndata/_core/anndata.py:1228: FutureWarning: The `inplace` parameter in pandas.Categorical.reorder_categories is deprecated and will be removed in a future version. Reordering categories will always return a new Categorical object.\n",
      "  c.reorder_categories(natsorted(c.categories), inplace=True)\n",
      "... storing 'predicted_cell_type' as categorical\n",
      "/data/estorrs/miniconda3/envs/pollock_new/lib/python3.8/site-packages/anndata/_core/anndata.py:1228: FutureWarning: The `inplace` parameter in pandas.Categorical.reorder_categories is deprecated and will be removed in a future version. Reordering categories will always return a new Categorical object.\n",
      "  c.reorder_categories(natsorted(c.categories), inplace=True)\n",
      "... storing 'predicted_cell_type' as categorical\n",
      "/data/estorrs/miniconda3/envs/pollock_new/lib/python3.8/site-packages/anndata/_core/anndata.py:1228: FutureWarning: The `inplace` parameter in pandas.Categorical.reorder_categories is deprecated and will be removed in a future version. Reordering categories will always return a new Categorical object.\n",
      "  c.reorder_categories(natsorted(c.categories), inplace=True)\n",
      "... storing 'predicted_cell_type' as categorical\n",
      "/data/estorrs/miniconda3/envs/pollock_new/lib/python3.8/site-packages/anndata/_core/anndata.py:1228: FutureWarning: The `inplace` parameter in pandas.Categorical.reorder_categories is deprecated and will be removed in a future version. Reordering categories will always return a new Categorical object.\n",
      "  c.reorder_categories(natsorted(c.categories), inplace=True)\n",
      "... storing 'predicted_cell_type' as categorical\n",
      "/data/estorrs/miniconda3/envs/pollock_new/lib/python3.8/site-packages/anndata/_core/anndata.py:1228: FutureWarning: The `inplace` parameter in pandas.Categorical.reorder_categories is deprecated and will be removed in a future version. Reordering categories will always return a new Categorical object.\n",
      "  c.reorder_categories(natsorted(c.categories), inplace=True)\n",
      "... storing 'predicted_cell_type' as categorical\n",
      "/data/estorrs/miniconda3/envs/pollock_new/lib/python3.8/site-packages/anndata/_core/anndata.py:1228: FutureWarning: The `inplace` parameter in pandas.Categorical.reorder_categories is deprecated and will be removed in a future version. Reordering categories will always return a new Categorical object.\n",
      "  c.reorder_categories(natsorted(c.categories), inplace=True)\n",
      "... storing 'predicted_cell_type' as categorical\n",
      "/data/estorrs/miniconda3/envs/pollock_new/lib/python3.8/site-packages/anndata/_core/anndata.py:1228: FutureWarning: The `inplace` parameter in pandas.Categorical.reorder_categories is deprecated and will be removed in a future version. Reordering categories will always return a new Categorical object.\n",
      "  c.reorder_categories(natsorted(c.categories), inplace=True)\n",
      "... storing 'predicted_cell_type' as categorical\n",
      "/data/estorrs/miniconda3/envs/pollock_new/lib/python3.8/site-packages/anndata/_core/anndata.py:1228: FutureWarning: The `inplace` parameter in pandas.Categorical.reorder_categories is deprecated and will be removed in a future version. Reordering categories will always return a new Categorical object.\n",
      "  c.reorder_categories(natsorted(c.categories), inplace=True)\n",
      "... storing 'predicted_cell_type' as categorical\n"
     ]
    },
    {
     "name": "stderr",
     "output_type": "stream",
     "text": [
      "/data/estorrs/miniconda3/envs/pollock_new/lib/python3.8/site-packages/anndata/_core/anndata.py:1228: FutureWarning: The `inplace` parameter in pandas.Categorical.reorder_categories is deprecated and will be removed in a future version. Reordering categories will always return a new Categorical object.\n",
      "  c.reorder_categories(natsorted(c.categories), inplace=True)\n",
      "... storing 'predicted_cell_type' as categorical\n",
      "/data/estorrs/miniconda3/envs/pollock_new/lib/python3.8/site-packages/anndata/_core/anndata.py:1228: FutureWarning: The `inplace` parameter in pandas.Categorical.reorder_categories is deprecated and will be removed in a future version. Reordering categories will always return a new Categorical object.\n",
      "  c.reorder_categories(natsorted(c.categories), inplace=True)\n",
      "... storing 'predicted_cell_type' as categorical\n",
      "/data/estorrs/miniconda3/envs/pollock_new/lib/python3.8/site-packages/anndata/_core/anndata.py:1228: FutureWarning: The `inplace` parameter in pandas.Categorical.reorder_categories is deprecated and will be removed in a future version. Reordering categories will always return a new Categorical object.\n",
      "  c.reorder_categories(natsorted(c.categories), inplace=True)\n",
      "... storing 'predicted_cell_type' as categorical\n",
      "/data/estorrs/miniconda3/envs/pollock_new/lib/python3.8/site-packages/anndata/_core/anndata.py:1228: FutureWarning: The `inplace` parameter in pandas.Categorical.reorder_categories is deprecated and will be removed in a future version. Reordering categories will always return a new Categorical object.\n",
      "  c.reorder_categories(natsorted(c.categories), inplace=True)\n",
      "... storing 'predicted_cell_type' as categorical\n",
      "/data/estorrs/miniconda3/envs/pollock_new/lib/python3.8/site-packages/anndata/_core/anndata.py:1228: FutureWarning: The `inplace` parameter in pandas.Categorical.reorder_categories is deprecated and will be removed in a future version. Reordering categories will always return a new Categorical object.\n",
      "  c.reorder_categories(natsorted(c.categories), inplace=True)\n",
      "... storing 'predicted_cell_type' as categorical\n",
      "/data/estorrs/miniconda3/envs/pollock_new/lib/python3.8/site-packages/anndata/_core/anndata.py:1228: FutureWarning: The `inplace` parameter in pandas.Categorical.reorder_categories is deprecated and will be removed in a future version. Reordering categories will always return a new Categorical object.\n",
      "  c.reorder_categories(natsorted(c.categories), inplace=True)\n",
      "... storing 'predicted_cell_type' as categorical\n",
      "/data/estorrs/miniconda3/envs/pollock_new/lib/python3.8/site-packages/anndata/_core/anndata.py:1228: FutureWarning: The `inplace` parameter in pandas.Categorical.reorder_categories is deprecated and will be removed in a future version. Reordering categories will always return a new Categorical object.\n",
      "  c.reorder_categories(natsorted(c.categories), inplace=True)\n",
      "... storing 'predicted_cell_type' as categorical\n",
      "/data/estorrs/miniconda3/envs/pollock_new/lib/python3.8/site-packages/anndata/_core/anndata.py:1228: FutureWarning: The `inplace` parameter in pandas.Categorical.reorder_categories is deprecated and will be removed in a future version. Reordering categories will always return a new Categorical object.\n",
      "  c.reorder_categories(natsorted(c.categories), inplace=True)\n",
      "... storing 'predicted_cell_type' as categorical\n",
      "/data/estorrs/miniconda3/envs/pollock_new/lib/python3.8/site-packages/anndata/_core/anndata.py:1228: FutureWarning: The `inplace` parameter in pandas.Categorical.reorder_categories is deprecated and will be removed in a future version. Reordering categories will always return a new Categorical object.\n",
      "  c.reorder_categories(natsorted(c.categories), inplace=True)\n",
      "... storing 'predicted_cell_type' as categorical\n",
      "/data/estorrs/miniconda3/envs/pollock_new/lib/python3.8/site-packages/anndata/_core/anndata.py:1228: FutureWarning: The `inplace` parameter in pandas.Categorical.reorder_categories is deprecated and will be removed in a future version. Reordering categories will always return a new Categorical object.\n",
      "  c.reorder_categories(natsorted(c.categories), inplace=True)\n",
      "... storing 'predicted_cell_type' as categorical\n",
      "/data/estorrs/miniconda3/envs/pollock_new/lib/python3.8/site-packages/anndata/_core/anndata.py:1228: FutureWarning: The `inplace` parameter in pandas.Categorical.reorder_categories is deprecated and will be removed in a future version. Reordering categories will always return a new Categorical object.\n",
      "  c.reorder_categories(natsorted(c.categories), inplace=True)\n",
      "... storing 'predicted_cell_type' as categorical\n",
      "/data/estorrs/miniconda3/envs/pollock_new/lib/python3.8/site-packages/anndata/_core/anndata.py:1228: FutureWarning: The `inplace` parameter in pandas.Categorical.reorder_categories is deprecated and will be removed in a future version. Reordering categories will always return a new Categorical object.\n",
      "  c.reorder_categories(natsorted(c.categories), inplace=True)\n",
      "... storing 'predicted_cell_type' as categorical\n",
      "/data/estorrs/miniconda3/envs/pollock_new/lib/python3.8/site-packages/anndata/_core/anndata.py:1228: FutureWarning: The `inplace` parameter in pandas.Categorical.reorder_categories is deprecated and will be removed in a future version. Reordering categories will always return a new Categorical object.\n",
      "  c.reorder_categories(natsorted(c.categories), inplace=True)\n",
      "... storing 'predicted_cell_type' as categorical\n",
      "/data/estorrs/miniconda3/envs/pollock_new/lib/python3.8/site-packages/anndata/_core/anndata.py:1228: FutureWarning: The `inplace` parameter in pandas.Categorical.reorder_categories is deprecated and will be removed in a future version. Reordering categories will always return a new Categorical object.\n",
      "  c.reorder_categories(natsorted(c.categories), inplace=True)\n",
      "... storing 'predicted_cell_type' as categorical\n",
      "/data/estorrs/miniconda3/envs/pollock_new/lib/python3.8/site-packages/anndata/_core/anndata.py:1228: FutureWarning: The `inplace` parameter in pandas.Categorical.reorder_categories is deprecated and will be removed in a future version. Reordering categories will always return a new Categorical object.\n",
      "  c.reorder_categories(natsorted(c.categories), inplace=True)\n",
      "... storing 'predicted_cell_type' as categorical\n",
      "/data/estorrs/miniconda3/envs/pollock_new/lib/python3.8/site-packages/anndata/_core/anndata.py:1228: FutureWarning: The `inplace` parameter in pandas.Categorical.reorder_categories is deprecated and will be removed in a future version. Reordering categories will always return a new Categorical object.\n",
      "  c.reorder_categories(natsorted(c.categories), inplace=True)\n",
      "... storing 'predicted_cell_type' as categorical\n",
      "/data/estorrs/miniconda3/envs/pollock_new/lib/python3.8/site-packages/anndata/_core/anndata.py:1228: FutureWarning: The `inplace` parameter in pandas.Categorical.reorder_categories is deprecated and will be removed in a future version. Reordering categories will always return a new Categorical object.\n",
      "  c.reorder_categories(natsorted(c.categories), inplace=True)\n",
      "... storing 'predicted_cell_type' as categorical\n",
      "/data/estorrs/miniconda3/envs/pollock_new/lib/python3.8/site-packages/anndata/_core/anndata.py:1228: FutureWarning: The `inplace` parameter in pandas.Categorical.reorder_categories is deprecated and will be removed in a future version. Reordering categories will always return a new Categorical object.\n",
      "  c.reorder_categories(natsorted(c.categories), inplace=True)\n",
      "... storing 'predicted_cell_type' as categorical\n",
      "/data/estorrs/miniconda3/envs/pollock_new/lib/python3.8/site-packages/anndata/_core/anndata.py:1228: FutureWarning: The `inplace` parameter in pandas.Categorical.reorder_categories is deprecated and will be removed in a future version. Reordering categories will always return a new Categorical object.\n",
      "  c.reorder_categories(natsorted(c.categories), inplace=True)\n",
      "... storing 'predicted_cell_type' as categorical\n",
      "/data/estorrs/miniconda3/envs/pollock_new/lib/python3.8/site-packages/anndata/_core/anndata.py:1228: FutureWarning: The `inplace` parameter in pandas.Categorical.reorder_categories is deprecated and will be removed in a future version. Reordering categories will always return a new Categorical object.\n",
      "  c.reorder_categories(natsorted(c.categories), inplace=True)\n",
      "... storing 'predicted_cell_type' as categorical\n"
     ]
    }
   ],
   "source": [
    "for dtype, d1 in to_prediction.items():\n",
    "    for disease, d2 in d1.items():\n",
    "        for fold, a in d2.items():\n",
    "            a.write_h5ad(os.path.join(result_dir, f'{dtype}_{disease}_{fold}.h5ad'))"
   ]
  },
  {
   "cell_type": "code",
   "execution_count": 24,
   "id": "4378cfe9",
   "metadata": {
    "hidden": true,
    "scrolled": true
   },
   "outputs": [
    {
     "name": "stdout",
     "output_type": "stream",
     "text": [
      "snRNAseq ccrcc fold3\n",
      "snRNAseq ccrcc fold1\n",
      "snRNAseq ccrcc fold2\n",
      "snRNAseq ccrcc fold0\n",
      "snRNAseq ccrcc fold4\n",
      "snRNAseq brca fold2\n",
      "snRNAseq brca fold1\n",
      "snRNAseq brca fold3\n",
      "snRNAseq brca fold0\n",
      "snRNAseq brca fold4\n",
      "snRNAseq gbm fold4\n",
      "snRNAseq gbm fold3\n",
      "snRNAseq gbm fold0\n",
      "snRNAseq gbm fold2\n",
      "snRNAseq gbm fold1\n",
      "snATACseq ccrcc fold3\n",
      "snATACseq ccrcc fold1\n",
      "snATACseq ccrcc fold2\n",
      "snATACseq ccrcc fold0\n",
      "snATACseq ccrcc fold4\n",
      "snATACseq brca fold2\n",
      "snATACseq brca fold1\n",
      "snATACseq brca fold3\n",
      "snATACseq brca fold0\n",
      "snATACseq brca fold4\n",
      "snATACseq gbm fold4\n",
      "snATACseq gbm fold3\n",
      "snATACseq gbm fold0\n",
      "snATACseq gbm fold2\n",
      "snATACseq gbm fold1\n",
      "scRNAseq hnscc fold0\n",
      "scRNAseq hnscc fold4\n",
      "scRNAseq hnscc fold1\n",
      "scRNAseq hnscc fold3\n",
      "scRNAseq hnscc fold2\n",
      "scRNAseq cesc fold4\n",
      "scRNAseq cesc fold3\n",
      "scRNAseq cesc fold2\n",
      "scRNAseq cesc fold0\n",
      "scRNAseq cesc fold1\n",
      "scRNAseq brca fold2\n",
      "scRNAseq brca fold1\n",
      "scRNAseq brca fold3\n",
      "scRNAseq brca fold0\n",
      "scRNAseq brca fold4\n",
      "scRNAseq myeloma fold0\n"
     ]
    },
    {
     "name": "stderr",
     "output_type": "stream",
     "text": [
      "/data/estorrs/miniconda3/envs/pollock_new/lib/python3.8/site-packages/sklearn/metrics/_classification.py:1318: UndefinedMetricWarning: Precision and F-score are ill-defined and being set to 0.0 in labels with no predicted samples. Use `zero_division` parameter to control this behavior.\n",
      "  _warn_prf(average, modifier, msg_start, len(result))\n",
      "/data/estorrs/miniconda3/envs/pollock_new/lib/python3.8/site-packages/sklearn/metrics/_classification.py:1318: UndefinedMetricWarning: Precision and F-score are ill-defined and being set to 0.0 in labels with no predicted samples. Use `zero_division` parameter to control this behavior.\n",
      "  _warn_prf(average, modifier, msg_start, len(result))\n",
      "/data/estorrs/miniconda3/envs/pollock_new/lib/python3.8/site-packages/sklearn/metrics/_classification.py:1318: UndefinedMetricWarning: Precision and F-score are ill-defined and being set to 0.0 in labels with no predicted samples. Use `zero_division` parameter to control this behavior.\n",
      "  _warn_prf(average, modifier, msg_start, len(result))\n"
     ]
    },
    {
     "name": "stdout",
     "output_type": "stream",
     "text": [
      "scRNAseq myeloma fold1\n"
     ]
    },
    {
     "name": "stderr",
     "output_type": "stream",
     "text": [
      "/data/estorrs/miniconda3/envs/pollock_new/lib/python3.8/site-packages/sklearn/metrics/_classification.py:1318: UndefinedMetricWarning: Precision and F-score are ill-defined and being set to 0.0 in labels with no predicted samples. Use `zero_division` parameter to control this behavior.\n",
      "  _warn_prf(average, modifier, msg_start, len(result))\n",
      "/data/estorrs/miniconda3/envs/pollock_new/lib/python3.8/site-packages/sklearn/metrics/_classification.py:1318: UndefinedMetricWarning: Precision and F-score are ill-defined and being set to 0.0 in labels with no predicted samples. Use `zero_division` parameter to control this behavior.\n",
      "  _warn_prf(average, modifier, msg_start, len(result))\n",
      "/data/estorrs/miniconda3/envs/pollock_new/lib/python3.8/site-packages/sklearn/metrics/_classification.py:1318: UndefinedMetricWarning: Precision and F-score are ill-defined and being set to 0.0 in labels with no predicted samples. Use `zero_division` parameter to control this behavior.\n",
      "  _warn_prf(average, modifier, msg_start, len(result))\n"
     ]
    },
    {
     "name": "stdout",
     "output_type": "stream",
     "text": [
      "scRNAseq myeloma fold3\n"
     ]
    },
    {
     "name": "stderr",
     "output_type": "stream",
     "text": [
      "/data/estorrs/miniconda3/envs/pollock_new/lib/python3.8/site-packages/sklearn/metrics/_classification.py:1318: UndefinedMetricWarning: Precision and F-score are ill-defined and being set to 0.0 in labels with no predicted samples. Use `zero_division` parameter to control this behavior.\n",
      "  _warn_prf(average, modifier, msg_start, len(result))\n",
      "/data/estorrs/miniconda3/envs/pollock_new/lib/python3.8/site-packages/sklearn/metrics/_classification.py:1318: UndefinedMetricWarning: Precision and F-score are ill-defined and being set to 0.0 in labels with no predicted samples. Use `zero_division` parameter to control this behavior.\n",
      "  _warn_prf(average, modifier, msg_start, len(result))\n",
      "/data/estorrs/miniconda3/envs/pollock_new/lib/python3.8/site-packages/sklearn/metrics/_classification.py:1318: UndefinedMetricWarning: Precision and F-score are ill-defined and being set to 0.0 in labels with no predicted samples. Use `zero_division` parameter to control this behavior.\n",
      "  _warn_prf(average, modifier, msg_start, len(result))\n"
     ]
    },
    {
     "name": "stdout",
     "output_type": "stream",
     "text": [
      "scRNAseq myeloma fold4\n"
     ]
    },
    {
     "name": "stderr",
     "output_type": "stream",
     "text": [
      "/data/estorrs/miniconda3/envs/pollock_new/lib/python3.8/site-packages/sklearn/metrics/_classification.py:1318: UndefinedMetricWarning: Precision and F-score are ill-defined and being set to 0.0 in labels with no predicted samples. Use `zero_division` parameter to control this behavior.\n",
      "  _warn_prf(average, modifier, msg_start, len(result))\n",
      "/data/estorrs/miniconda3/envs/pollock_new/lib/python3.8/site-packages/sklearn/metrics/_classification.py:1318: UndefinedMetricWarning: Precision and F-score are ill-defined and being set to 0.0 in labels with no predicted samples. Use `zero_division` parameter to control this behavior.\n",
      "  _warn_prf(average, modifier, msg_start, len(result))\n",
      "/data/estorrs/miniconda3/envs/pollock_new/lib/python3.8/site-packages/sklearn/metrics/_classification.py:1318: UndefinedMetricWarning: Precision and F-score are ill-defined and being set to 0.0 in labels with no predicted samples. Use `zero_division` parameter to control this behavior.\n",
      "  _warn_prf(average, modifier, msg_start, len(result))\n"
     ]
    },
    {
     "name": "stdout",
     "output_type": "stream",
     "text": [
      "scRNAseq myeloma fold2\n"
     ]
    },
    {
     "name": "stderr",
     "output_type": "stream",
     "text": [
      "/data/estorrs/miniconda3/envs/pollock_new/lib/python3.8/site-packages/sklearn/metrics/_classification.py:1318: UndefinedMetricWarning: Precision and F-score are ill-defined and being set to 0.0 in labels with no predicted samples. Use `zero_division` parameter to control this behavior.\n",
      "  _warn_prf(average, modifier, msg_start, len(result))\n",
      "/data/estorrs/miniconda3/envs/pollock_new/lib/python3.8/site-packages/sklearn/metrics/_classification.py:1318: UndefinedMetricWarning: Precision and F-score are ill-defined and being set to 0.0 in labels with no predicted samples. Use `zero_division` parameter to control this behavior.\n",
      "  _warn_prf(average, modifier, msg_start, len(result))\n",
      "/data/estorrs/miniconda3/envs/pollock_new/lib/python3.8/site-packages/sklearn/metrics/_classification.py:1318: UndefinedMetricWarning: Precision and F-score are ill-defined and being set to 0.0 in labels with no predicted samples. Use `zero_division` parameter to control this behavior.\n",
      "  _warn_prf(average, modifier, msg_start, len(result))\n"
     ]
    },
    {
     "name": "stdout",
     "output_type": "stream",
     "text": [
      "scRNAseq melanoma fold3\n",
      "scRNAseq melanoma fold0\n",
      "scRNAseq melanoma fold2\n",
      "scRNAseq melanoma fold1\n",
      "scRNAseq melanoma fold4\n",
      "scRNAseq pdac fold2\n",
      "scRNAseq pdac fold3\n",
      "scRNAseq pdac fold1\n",
      "scRNAseq pdac fold4\n",
      "scRNAseq pdac fold0\n"
     ]
    }
   ],
   "source": [
    "for dtype, d1 in to_prediction.items():\n",
    "    for disease, d2 in d1.items():\n",
    "        for fold, a in d2.items():\n",
    "            print(dtype, disease, fold)\n",
    "            adata = sc.read_h5ad(os.path.join(result_dir, f'{dtype}_{disease}_{fold}.h5ad'))\n",
    "            y_pred = adata.obs['predicted_cell_type'].to_list()\n",
    "            y_true = adata.obs['cell_type'].to_list()\n",
    "            d, cm = get_metrics(y_true, y_pred)\n",
    "\n",
    "            d.to_csv(os.path.join(result_dir, f'{dtype}_{disease}_{fold}_clf_report.txt'), sep='\\t')\n",
    "            cm.to_csv(os.path.join(result_dir, f'{dtype}_{disease}_{fold}_confusion_matrix.txt'), sep='\\t')"
   ]
  },
  {
   "cell_type": "markdown",
   "id": "fbf7fac0",
   "metadata": {
    "heading_collapsed": true
   },
   "source": [
    "###### MLP"
   ]
  },
  {
   "cell_type": "code",
   "execution_count": 25,
   "id": "eedf6a89",
   "metadata": {
    "hidden": true
   },
   "outputs": [],
   "source": [
    "class MLP(torch.nn.Module):\n",
    "    def __init__(self, genes, classes, method='small'):\n",
    "        \"\"\"\n",
    "        MLP\n",
    "        \"\"\"\n",
    "        super(MLP, self).__init__()\n",
    "        self.genes = genes\n",
    "        self.n_genes = len(genes)\n",
    "        self.classes = classes\n",
    "        self.n_classes = len(classes)\n",
    "\n",
    "        if method == 'small':\n",
    "            self.layers = torch.nn.Sequential(\n",
    "                torch.nn.Linear(self.n_genes, 128),\n",
    "                torch.nn.ReLU(),\n",
    "                torch.nn.Dropout(.1),\n",
    "                torch.nn.Linear(128, 32),\n",
    "                torch.nn.ReLU(),\n",
    "                torch.nn.Dropout(.1),\n",
    "                torch.nn.Linear(32, 16),\n",
    "                torch.nn.ReLU(),\n",
    "                torch.nn.Dropout(.1),\n",
    "                torch.nn.Linear(16, 8),\n",
    "                torch.nn.ReLU(),\n",
    "                torch.nn.Dropout(.1),\n",
    "                torch.nn.Linear(8, self.n_classes),\n",
    "                torch.nn.Softmax(dim=1)\n",
    "            )\n",
    "        else:\n",
    "            self.layers = torch.nn.Sequential(\n",
    "                torch.nn.Linear(self.n_genes, 64),\n",
    "                torch.nn.ReLU(),\n",
    "                torch.nn.Dropout(.1),\n",
    "                torch.nn.Linear(64, 16),\n",
    "                torch.nn.ReLU(),\n",
    "                torch.nn.Dropout(.1),\n",
    "                torch.nn.Linear(16, self.n_classes),\n",
    "                torch.nn.Softmax(dim=1)\n",
    "            )\n",
    "            \n",
    "    def forward(self, x):\n",
    "        x = self.layers(x)\n",
    "        return x"
   ]
  },
  {
   "cell_type": "code",
   "execution_count": 26,
   "id": "01f662b8",
   "metadata": {
    "hidden": true
   },
   "outputs": [],
   "source": [
    "def train_mlp(train_dl, val_dl, lr=1e-4, epochs=25):\n",
    "    model = MLP(train_dl.dataset.adata.var.index.to_list(), train_dl.dataset.cell_types,\n",
    "                method='small' if train_dl.dataset.adata.shape[0] < 5000 else 'large')\n",
    "    model = model.cuda()\n",
    "\n",
    "    criteria = torch.nn.CrossEntropyLoss()\n",
    "\n",
    "    opt = torch.optim.Adam(model.parameters(), lr=lr)\n",
    "    \n",
    "    \n",
    "    for epoch in range(epochs):\n",
    "        train_loss, val_loss = 0., 0.\n",
    "        start = time.time()\n",
    "        model.train()\n",
    "        for i, b in enumerate(train_dl):\n",
    "            x, y = b['x'], b['y']\n",
    "            x, y = x.cuda(), y.cuda()\n",
    "            opt.zero_grad()\n",
    "            out = model(x)\n",
    "            loss = criteria(out, y)\n",
    "            loss.backward()\n",
    "            opt.step()\n",
    "\n",
    "            train_loss += float(loss.detach().cpu())\n",
    "        train_loss = train_loss / len(train_dl)\n",
    "\n",
    "        time_delta = time.time() - start\n",
    "        model.eval()\n",
    "        with torch.no_grad():\n",
    "            for i, b in enumerate(val_dl):\n",
    "                x, y = b['x'], b['y']\n",
    "                x, y = x.cuda(), y.cuda()\n",
    "\n",
    "                out = model(x)\n",
    "                loss = criteria(out, y)\n",
    "                val_loss += float(loss.detach().cpu())\n",
    "\n",
    "\n",
    "        val_loss = val_loss / len(val_dl)\n",
    "\n",
    "        print(f'epoch: {epoch}, train loss: {train_loss:.3f}, val loss: {val_loss:.3f}, time: {time_delta:.2f}')\n",
    "    \n",
    "    return model\n",
    "\n",
    "def mlp_predict_dl(dl, model):\n",
    "    y_prob = None\n",
    "    model.eval()\n",
    "    with torch.no_grad():\n",
    "        for i, b in enumerate(dl):\n",
    "            x, y = b['x'], b['y']\n",
    "            x, y = x.cuda(), y.cuda()\n",
    "\n",
    "            out = model(x).detach().cpu().numpy()\n",
    "\n",
    "            if y_prob is None:\n",
    "                y_prob = out\n",
    "            else:\n",
    "                y_prob = np.concatenate((y_prob, out), axis=0)\n",
    "                \n",
    "    labels = [model.classes[i] for i in np.argmax(y_prob, axis=1)]\n",
    "    \n",
    "    return labels, y_prob\n",
    "\n",
    "def mlp_predict(train, val, epochs=25):\n",
    "    train_dl, val_dl = get_train_dataloaders(train, val)\n",
    "    model = train_mlp(train_dl, val_dl, epochs=epochs)\n",
    "    labels, probs = mlp_predict_dl(val_dl, model)\n",
    "    val.obs['predicted_cell_type'] = labels\n",
    "\n",
    "    prob_df = pd.DataFrame(data=probs, index=val.obs.index.to_list(),\n",
    "                          columns=[f'probability {ct}' for ct in model.classes])\n",
    "\n",
    "    val.obs = pd.concat((val.obs, prob_df), axis=1)\n",
    "    \n",
    "    return val"
   ]
  },
  {
   "cell_type": "code",
   "execution_count": 32,
   "id": "4e1e9bc8",
   "metadata": {
    "hidden": true
   },
   "outputs": [],
   "source": [
    "result_dir = '/data/pollock/benchmarking/results/mlp/'"
   ]
  },
  {
   "cell_type": "code",
   "execution_count": 33,
   "id": "ea1bf78c",
   "metadata": {
    "hidden": true,
    "scrolled": true
   },
   "outputs": [
    {
     "name": "stdout",
     "output_type": "stream",
     "text": [
      "snRNAseq ccrcc\n"
     ]
    },
    {
     "name": "stderr",
     "output_type": "stream",
     "text": [
      "2022-01-19 07:28:55,625 24684 genes overlap with model after filtering\n",
      "2022-01-19 07:28:55,627 1318 genes missing from dataset after filtering\n",
      "/data/estorrs/miniconda3/envs/pollock_new/lib/python3.8/site-packages/torch/nn/modules/container.py:141: UserWarning: Implicit dimension choice for softmax has been deprecated. Change the call to include dim=X as an argument.\n",
      "  input = module(input)\n"
     ]
    },
    {
     "name": "stdout",
     "output_type": "stream",
     "text": [
      "epoch: 0, train loss: 2.384, val loss: 2.351, time: 1.74\n",
      "epoch: 1, train loss: 2.283, val loss: 2.203, time: 1.36\n",
      "epoch: 2, train loss: 2.190, val loss: 2.136, time: 1.33\n",
      "epoch: 3, train loss: 2.135, val loss: 2.078, time: 1.41\n",
      "epoch: 4, train loss: 2.082, val loss: 2.014, time: 1.31\n",
      "epoch: 5, train loss: 2.032, val loss: 1.959, time: 1.31\n",
      "epoch: 6, train loss: 1.985, val loss: 1.910, time: 1.31\n",
      "epoch: 7, train loss: 1.948, val loss: 1.879, time: 1.31\n",
      "epoch: 8, train loss: 1.918, val loss: 1.850, time: 1.31\n",
      "epoch: 9, train loss: 1.886, val loss: 1.825, time: 1.29\n",
      "epoch: 10, train loss: 1.865, val loss: 1.803, time: 1.37\n",
      "epoch: 11, train loss: 1.835, val loss: 1.785, time: 1.34\n",
      "epoch: 12, train loss: 1.815, val loss: 1.770, time: 1.31\n",
      "epoch: 13, train loss: 1.802, val loss: 1.757, time: 1.30\n",
      "epoch: 14, train loss: 1.789, val loss: 1.750, time: 1.30\n",
      "epoch: 15, train loss: 1.775, val loss: 1.741, time: 1.30\n",
      "epoch: 16, train loss: 1.760, val loss: 1.731, time: 1.30\n",
      "epoch: 17, train loss: 1.758, val loss: 1.727, time: 1.30\n",
      "epoch: 18, train loss: 1.747, val loss: 1.723, time: 1.29\n",
      "epoch: 19, train loss: 1.742, val loss: 1.719, time: 1.30\n",
      "epoch: 20, train loss: 1.733, val loss: 1.714, time: 1.38\n",
      "epoch: 21, train loss: 1.734, val loss: 1.709, time: 1.33\n",
      "epoch: 22, train loss: 1.732, val loss: 1.706, time: 1.31\n",
      "epoch: 23, train loss: 1.718, val loss: 1.699, time: 1.31\n",
      "epoch: 24, train loss: 1.711, val loss: 1.687, time: 1.30\n",
      "snRNAseq brca\n"
     ]
    },
    {
     "name": "stderr",
     "output_type": "stream",
     "text": [
      "2022-01-19 07:30:00,411 25360 genes overlap with model after filtering\n",
      "2022-01-19 07:30:00,412 1183 genes missing from dataset after filtering\n",
      "/data/estorrs/miniconda3/envs/pollock_new/lib/python3.8/site-packages/torch/nn/modules/container.py:141: UserWarning: Implicit dimension choice for softmax has been deprecated. Change the call to include dim=X as an argument.\n",
      "  input = module(input)\n"
     ]
    },
    {
     "name": "stdout",
     "output_type": "stream",
     "text": [
      "epoch: 0, train loss: 2.475, val loss: 2.330, time: 1.30\n",
      "epoch: 1, train loss: 2.233, val loss: 2.145, time: 1.28\n",
      "epoch: 2, train loss: 2.098, val loss: 2.045, time: 1.26\n",
      "epoch: 3, train loss: 1.993, val loss: 1.985, time: 1.28\n",
      "epoch: 4, train loss: 1.928, val loss: 1.945, time: 1.27\n",
      "epoch: 5, train loss: 1.871, val loss: 1.894, time: 1.32\n",
      "epoch: 6, train loss: 1.831, val loss: 1.873, time: 1.36\n",
      "epoch: 7, train loss: 1.812, val loss: 1.861, time: 1.25\n",
      "epoch: 8, train loss: 1.793, val loss: 1.853, time: 1.25\n",
      "epoch: 9, train loss: 1.783, val loss: 1.842, time: 1.26\n",
      "epoch: 10, train loss: 1.764, val loss: 1.834, time: 1.24\n",
      "epoch: 11, train loss: 1.749, val loss: 1.826, time: 1.24\n",
      "epoch: 12, train loss: 1.743, val loss: 1.823, time: 1.24\n",
      "epoch: 13, train loss: 1.738, val loss: 1.819, time: 1.26\n",
      "epoch: 14, train loss: 1.733, val loss: 1.818, time: 1.23\n",
      "epoch: 15, train loss: 1.728, val loss: 1.815, time: 1.29\n",
      "epoch: 16, train loss: 1.727, val loss: 1.814, time: 1.31\n",
      "epoch: 17, train loss: 1.722, val loss: 1.813, time: 1.44\n",
      "epoch: 18, train loss: 1.720, val loss: 1.813, time: 1.27\n",
      "epoch: 19, train loss: 1.716, val loss: 1.810, time: 1.27\n",
      "epoch: 20, train loss: 1.717, val loss: 1.810, time: 1.27\n",
      "epoch: 21, train loss: 1.715, val loss: 1.809, time: 1.24\n",
      "epoch: 22, train loss: 1.711, val loss: 1.811, time: 1.26\n",
      "epoch: 23, train loss: 1.709, val loss: 1.806, time: 1.27\n",
      "epoch: 24, train loss: 1.710, val loss: 1.805, time: 1.24\n",
      "snRNAseq gbm\n"
     ]
    },
    {
     "name": "stderr",
     "output_type": "stream",
     "text": [
      "2022-01-19 07:31:01,326 25009 genes overlap with model after filtering\n",
      "2022-01-19 07:31:01,327 1142 genes missing from dataset after filtering\n",
      "/data/estorrs/miniconda3/envs/pollock_new/lib/python3.8/site-packages/torch/nn/modules/container.py:141: UserWarning: Implicit dimension choice for softmax has been deprecated. Change the call to include dim=X as an argument.\n",
      "  input = module(input)\n"
     ]
    },
    {
     "name": "stdout",
     "output_type": "stream",
     "text": [
      "epoch: 0, train loss: 2.189, val loss: 2.159, time: 1.01\n",
      "epoch: 1, train loss: 2.090, val loss: 1.989, time: 1.02\n",
      "epoch: 2, train loss: 1.978, val loss: 1.900, time: 1.08\n",
      "epoch: 3, train loss: 1.909, val loss: 1.840, time: 1.08\n",
      "epoch: 4, train loss: 1.848, val loss: 1.769, time: 1.09\n",
      "epoch: 5, train loss: 1.799, val loss: 1.716, time: 1.09\n",
      "epoch: 6, train loss: 1.745, val loss: 1.649, time: 1.09\n",
      "epoch: 7, train loss: 1.701, val loss: 1.617, time: 1.09\n",
      "epoch: 8, train loss: 1.653, val loss: 1.559, time: 1.10\n",
      "epoch: 9, train loss: 1.616, val loss: 1.535, time: 1.10\n",
      "epoch: 10, train loss: 1.595, val loss: 1.527, time: 1.10\n",
      "epoch: 11, train loss: 1.586, val loss: 1.523, time: 1.11\n",
      "epoch: 12, train loss: 1.584, val loss: 1.519, time: 1.09\n",
      "epoch: 13, train loss: 1.573, val loss: 1.513, time: 1.03\n",
      "epoch: 14, train loss: 1.564, val loss: 1.507, time: 1.09\n",
      "epoch: 15, train loss: 1.564, val loss: 1.499, time: 1.09\n",
      "epoch: 16, train loss: 1.546, val loss: 1.485, time: 1.10\n",
      "epoch: 17, train loss: 1.527, val loss: 1.458, time: 1.09\n",
      "epoch: 18, train loss: 1.499, val loss: 1.426, time: 1.09\n",
      "epoch: 19, train loss: 1.488, val loss: 1.412, time: 1.10\n",
      "epoch: 20, train loss: 1.480, val loss: 1.406, time: 1.01\n",
      "epoch: 21, train loss: 1.477, val loss: 1.403, time: 1.09\n",
      "epoch: 22, train loss: 1.468, val loss: 1.402, time: 1.09\n",
      "epoch: 23, train loss: 1.470, val loss: 1.401, time: 1.03\n",
      "epoch: 24, train loss: 1.468, val loss: 1.400, time: 1.08\n",
      "snATACseq brca\n"
     ]
    },
    {
     "name": "stderr",
     "output_type": "stream",
     "text": [
      "2022-01-19 07:31:52,531 19699 genes overlap with model after filtering\n",
      "2022-01-19 07:31:52,532 17 genes missing from dataset after filtering\n",
      "/data/estorrs/miniconda3/envs/pollock_new/lib/python3.8/site-packages/torch/nn/modules/container.py:141: UserWarning: Implicit dimension choice for softmax has been deprecated. Change the call to include dim=X as an argument.\n",
      "  input = module(input)\n"
     ]
    },
    {
     "name": "stdout",
     "output_type": "stream",
     "text": [
      "epoch: 0, train loss: 2.059, val loss: 2.021, time: 0.94\n",
      "epoch: 1, train loss: 1.979, val loss: 1.928, time: 1.02\n",
      "epoch: 2, train loss: 1.904, val loss: 1.857, time: 1.01\n",
      "epoch: 3, train loss: 1.838, val loss: 1.767, time: 1.02\n",
      "epoch: 4, train loss: 1.772, val loss: 1.735, time: 1.02\n",
      "epoch: 5, train loss: 1.747, val loss: 1.720, time: 1.02\n",
      "epoch: 6, train loss: 1.726, val loss: 1.702, time: 1.02\n",
      "epoch: 7, train loss: 1.702, val loss: 1.676, time: 1.03\n",
      "epoch: 8, train loss: 1.670, val loss: 1.648, time: 1.00\n",
      "epoch: 9, train loss: 1.644, val loss: 1.627, time: 1.03\n",
      "epoch: 10, train loss: 1.621, val loss: 1.605, time: 1.02\n",
      "epoch: 11, train loss: 1.582, val loss: 1.569, time: 1.02\n",
      "epoch: 12, train loss: 1.553, val loss: 1.539, time: 1.03\n",
      "epoch: 13, train loss: 1.527, val loss: 1.519, time: 1.03\n",
      "epoch: 14, train loss: 1.510, val loss: 1.507, time: 1.03\n",
      "epoch: 15, train loss: 1.495, val loss: 1.493, time: 1.03\n",
      "epoch: 16, train loss: 1.482, val loss: 1.478, time: 1.03\n",
      "epoch: 17, train loss: 1.466, val loss: 1.458, time: 1.02\n",
      "epoch: 18, train loss: 1.442, val loss: 1.435, time: 1.02\n",
      "epoch: 19, train loss: 1.411, val loss: 1.411, time: 1.02\n",
      "epoch: 20, train loss: 1.395, val loss: 1.395, time: 1.02\n",
      "epoch: 21, train loss: 1.381, val loss: 1.383, time: 1.03\n",
      "epoch: 22, train loss: 1.367, val loss: 1.375, time: 1.05\n",
      "epoch: 23, train loss: 1.362, val loss: 1.371, time: 0.99\n",
      "epoch: 24, train loss: 1.360, val loss: 1.368, time: 1.01\n",
      "snATACseq ccrcc\n"
     ]
    },
    {
     "name": "stderr",
     "output_type": "stream",
     "text": [
      "2022-01-19 07:32:42,152 19677 genes overlap with model after filtering\n",
      "2022-01-19 07:32:42,153 40 genes missing from dataset after filtering\n",
      "/data/estorrs/miniconda3/envs/pollock_new/lib/python3.8/site-packages/torch/nn/modules/container.py:141: UserWarning: Implicit dimension choice for softmax has been deprecated. Change the call to include dim=X as an argument.\n",
      "  input = module(input)\n"
     ]
    },
    {
     "name": "stdout",
     "output_type": "stream",
     "text": [
      "epoch: 0, train loss: 1.785, val loss: 1.776, time: 0.78\n",
      "epoch: 1, train loss: 1.755, val loss: 1.722, time: 0.86\n",
      "epoch: 2, train loss: 1.648, val loss: 1.566, time: 0.85\n",
      "epoch: 3, train loss: 1.513, val loss: 1.460, time: 0.85\n",
      "epoch: 4, train loss: 1.439, val loss: 1.403, time: 0.79\n",
      "epoch: 5, train loss: 1.396, val loss: 1.378, time: 0.86\n",
      "epoch: 6, train loss: 1.376, val loss: 1.366, time: 0.85\n",
      "epoch: 7, train loss: 1.363, val loss: 1.359, time: 0.85\n",
      "epoch: 8, train loss: 1.355, val loss: 1.353, time: 0.85\n",
      "epoch: 9, train loss: 1.345, val loss: 1.349, time: 0.91\n",
      "epoch: 10, train loss: 1.336, val loss: 1.345, time: 0.86\n",
      "epoch: 11, train loss: 1.334, val loss: 1.341, time: 0.86\n",
      "epoch: 12, train loss: 1.321, val loss: 1.334, time: 0.85\n",
      "epoch: 13, train loss: 1.311, val loss: 1.319, time: 0.85\n",
      "epoch: 14, train loss: 1.291, val loss: 1.284, time: 0.85\n",
      "epoch: 15, train loss: 1.263, val loss: 1.251, time: 0.85\n",
      "epoch: 16, train loss: 1.236, val loss: 1.240, time: 0.85\n",
      "epoch: 17, train loss: 1.226, val loss: 1.235, time: 0.86\n",
      "epoch: 18, train loss: 1.226, val loss: 1.232, time: 0.85\n",
      "epoch: 19, train loss: 1.215, val loss: 1.229, time: 0.86\n",
      "epoch: 20, train loss: 1.217, val loss: 1.228, time: 0.85\n",
      "epoch: 21, train loss: 1.220, val loss: 1.227, time: 0.86\n",
      "epoch: 22, train loss: 1.213, val loss: 1.225, time: 0.85\n",
      "epoch: 23, train loss: 1.210, val loss: 1.222, time: 0.89\n",
      "epoch: 24, train loss: 1.211, val loss: 1.220, time: 0.87\n",
      "snATACseq gbm\n"
     ]
    },
    {
     "name": "stderr",
     "output_type": "stream",
     "text": [
      "2022-01-19 07:33:23,713 19698 genes overlap with model after filtering\n",
      "2022-01-19 07:33:23,714 30 genes missing from dataset after filtering\n",
      "/data/estorrs/miniconda3/envs/pollock_new/lib/python3.8/site-packages/torch/nn/modules/container.py:141: UserWarning: Implicit dimension choice for softmax has been deprecated. Change the call to include dim=X as an argument.\n",
      "  input = module(input)\n"
     ]
    },
    {
     "name": "stdout",
     "output_type": "stream",
     "text": [
      "epoch: 0, train loss: 2.065, val loss: 2.048, time: 0.88\n",
      "epoch: 1, train loss: 2.019, val loss: 1.963, time: 0.96\n",
      "epoch: 2, train loss: 1.928, val loss: 1.852, time: 0.96\n",
      "epoch: 3, train loss: 1.858, val loss: 1.794, time: 0.96\n",
      "epoch: 4, train loss: 1.777, val loss: 1.723, time: 0.97\n",
      "epoch: 5, train loss: 1.701, val loss: 1.663, time: 0.97\n",
      "epoch: 6, train loss: 1.660, val loss: 1.635, time: 0.97\n",
      "epoch: 7, train loss: 1.635, val loss: 1.621, time: 0.97\n",
      "epoch: 8, train loss: 1.619, val loss: 1.612, time: 0.97\n",
      "epoch: 9, train loss: 1.612, val loss: 1.604, time: 0.90\n",
      "epoch: 10, train loss: 1.602, val loss: 1.595, time: 0.95\n",
      "epoch: 11, train loss: 1.593, val loss: 1.583, time: 1.00\n",
      "epoch: 12, train loss: 1.583, val loss: 1.565, time: 0.99\n",
      "epoch: 13, train loss: 1.568, val loss: 1.537, time: 0.96\n",
      "epoch: 14, train loss: 1.549, val loss: 1.506, time: 0.96\n",
      "epoch: 15, train loss: 1.531, val loss: 1.493, time: 0.95\n",
      "epoch: 16, train loss: 1.514, val loss: 1.482, time: 0.96\n",
      "epoch: 17, train loss: 1.501, val loss: 1.472, time: 0.96\n",
      "epoch: 18, train loss: 1.482, val loss: 1.460, time: 0.96\n",
      "epoch: 19, train loss: 1.471, val loss: 1.439, time: 0.96\n",
      "epoch: 20, train loss: 1.449, val loss: 1.402, time: 0.96\n",
      "epoch: 21, train loss: 1.427, val loss: 1.372, time: 0.96\n",
      "epoch: 22, train loss: 1.414, val loss: 1.359, time: 0.97\n",
      "epoch: 23, train loss: 1.400, val loss: 1.354, time: 0.96\n",
      "epoch: 24, train loss: 1.398, val loss: 1.349, time: 0.96\n",
      "scRNAseq cesc\n"
     ]
    },
    {
     "name": "stderr",
     "output_type": "stream",
     "text": [
      "2022-01-19 07:34:07,252 21146 genes overlap with model after filtering\n",
      "2022-01-19 07:34:07,253 703 genes missing from dataset after filtering\n",
      "/data/estorrs/miniconda3/envs/pollock_new/lib/python3.8/site-packages/torch/nn/modules/container.py:141: UserWarning: Implicit dimension choice for softmax has been deprecated. Change the call to include dim=X as an argument.\n",
      "  input = module(input)\n"
     ]
    },
    {
     "name": "stdout",
     "output_type": "stream",
     "text": [
      "epoch: 0, train loss: 2.385, val loss: 2.350, time: 1.23\n",
      "epoch: 1, train loss: 2.282, val loss: 2.158, time: 1.24\n",
      "epoch: 2, train loss: 2.134, val loss: 1.992, time: 1.24\n",
      "epoch: 3, train loss: 2.035, val loss: 1.900, time: 1.24\n",
      "epoch: 4, train loss: 1.989, val loss: 1.863, time: 1.22\n",
      "epoch: 5, train loss: 1.953, val loss: 1.841, time: 1.23\n",
      "epoch: 6, train loss: 1.924, val loss: 1.820, time: 1.22\n",
      "epoch: 7, train loss: 1.898, val loss: 1.801, time: 1.24\n",
      "epoch: 8, train loss: 1.873, val loss: 1.780, time: 1.24\n",
      "epoch: 9, train loss: 1.853, val loss: 1.767, time: 1.26\n",
      "scRNAseq myeloma\n"
     ]
    },
    {
     "name": "stderr",
     "output_type": "stream",
     "text": [
      "2022-01-19 07:34:31,628 18733 genes overlap with model after filtering\n",
      "2022-01-19 07:34:31,629 1290 genes missing from dataset after filtering\n",
      "/data/estorrs/miniconda3/envs/pollock_new/lib/python3.8/site-packages/torch/nn/modules/container.py:141: UserWarning: Implicit dimension choice for softmax has been deprecated. Change the call to include dim=X as an argument.\n",
      "  input = module(input)\n"
     ]
    },
    {
     "name": "stdout",
     "output_type": "stream",
     "text": [
      "epoch: 0, train loss: 2.388, val loss: 2.370, time: 0.96\n",
      "epoch: 1, train loss: 2.339, val loss: 2.286, time: 1.00\n",
      "epoch: 2, train loss: 2.266, val loss: 2.226, time: 1.01\n",
      "epoch: 3, train loss: 2.205, val loss: 2.184, time: 1.00\n",
      "epoch: 4, train loss: 2.158, val loss: 2.121, time: 1.00\n",
      "epoch: 5, train loss: 2.072, val loss: 1.999, time: 1.00\n",
      "epoch: 6, train loss: 1.988, val loss: 1.911, time: 1.01\n",
      "epoch: 7, train loss: 1.903, val loss: 1.793, time: 1.00\n",
      "epoch: 8, train loss: 1.824, val loss: 1.723, time: 1.00\n",
      "epoch: 9, train loss: 1.780, val loss: 1.685, time: 1.00\n",
      "scRNAseq brca\n"
     ]
    },
    {
     "name": "stderr",
     "output_type": "stream",
     "text": [
      "2022-01-19 07:34:51,449 22285 genes overlap with model after filtering\n",
      "2022-01-19 07:34:51,450 1268 genes missing from dataset after filtering\n",
      "/data/estorrs/miniconda3/envs/pollock_new/lib/python3.8/site-packages/torch/nn/modules/container.py:141: UserWarning: Implicit dimension choice for softmax has been deprecated. Change the call to include dim=X as an argument.\n",
      "  input = module(input)\n"
     ]
    },
    {
     "name": "stdout",
     "output_type": "stream",
     "text": [
      "epoch: 0, train loss: 2.441, val loss: 2.269, time: 1.56\n",
      "epoch: 1, train loss: 2.163, val loss: 2.093, time: 1.52\n",
      "epoch: 2, train loss: 2.016, val loss: 1.980, time: 1.51\n",
      "epoch: 3, train loss: 1.920, val loss: 1.927, time: 1.54\n",
      "epoch: 4, train loss: 1.861, val loss: 1.897, time: 1.56\n",
      "epoch: 5, train loss: 1.813, val loss: 1.880, time: 1.54\n",
      "epoch: 6, train loss: 1.796, val loss: 1.869, time: 1.56\n",
      "epoch: 7, train loss: 1.775, val loss: 1.862, time: 1.48\n",
      "epoch: 8, train loss: 1.767, val loss: 1.858, time: 1.65\n",
      "epoch: 9, train loss: 1.755, val loss: 1.852, time: 1.54\n",
      "scRNAseq hnscc\n"
     ]
    },
    {
     "name": "stderr",
     "output_type": "stream",
     "text": [
      "2022-01-19 07:35:22,191 21915 genes overlap with model after filtering\n",
      "2022-01-19 07:35:22,193 1008 genes missing from dataset after filtering\n",
      "/data/estorrs/miniconda3/envs/pollock_new/lib/python3.8/site-packages/torch/nn/modules/container.py:141: UserWarning: Implicit dimension choice for softmax has been deprecated. Change the call to include dim=X as an argument.\n",
      "  input = module(input)\n"
     ]
    },
    {
     "name": "stdout",
     "output_type": "stream",
     "text": [
      "epoch: 0, train loss: 2.281, val loss: 2.093, time: 1.32\n",
      "epoch: 1, train loss: 1.952, val loss: 1.837, time: 1.29\n",
      "epoch: 2, train loss: 1.777, val loss: 1.758, time: 1.32\n",
      "epoch: 3, train loss: 1.704, val loss: 1.727, time: 1.34\n",
      "epoch: 4, train loss: 1.667, val loss: 1.711, time: 1.33\n",
      "epoch: 5, train loss: 1.642, val loss: 1.702, time: 1.37\n",
      "epoch: 6, train loss: 1.626, val loss: 1.696, time: 1.42\n",
      "epoch: 7, train loss: 1.613, val loss: 1.693, time: 1.43\n",
      "epoch: 8, train loss: 1.605, val loss: 1.689, time: 1.37\n",
      "epoch: 9, train loss: 1.594, val loss: 1.687, time: 1.33\n",
      "scRNAseq pdac\n"
     ]
    },
    {
     "name": "stderr",
     "output_type": "stream",
     "text": [
      "2022-01-19 07:35:51,104 23831 genes overlap with model after filtering\n",
      "2022-01-19 07:35:51,105 1188 genes missing from dataset after filtering\n",
      "/data/estorrs/miniconda3/envs/pollock_new/lib/python3.8/site-packages/torch/nn/modules/container.py:141: UserWarning: Implicit dimension choice for softmax has been deprecated. Change the call to include dim=X as an argument.\n",
      "  input = module(input)\n"
     ]
    },
    {
     "name": "stdout",
     "output_type": "stream",
     "text": [
      "epoch: 0, train loss: 2.647, val loss: 2.451, time: 1.98\n",
      "epoch: 1, train loss: 2.368, val loss: 2.269, time: 2.15\n",
      "epoch: 2, train loss: 2.237, val loss: 2.200, time: 1.97\n",
      "epoch: 3, train loss: 2.179, val loss: 2.171, time: 2.03\n",
      "epoch: 4, train loss: 2.135, val loss: 2.154, time: 2.10\n",
      "epoch: 5, train loss: 2.114, val loss: 2.145, time: 1.98\n",
      "epoch: 6, train loss: 2.101, val loss: 2.141, time: 1.97\n",
      "epoch: 7, train loss: 2.090, val loss: 2.137, time: 1.98\n",
      "epoch: 8, train loss: 2.083, val loss: 2.135, time: 1.98\n",
      "epoch: 9, train loss: 2.081, val loss: 2.133, time: 1.97\n",
      "scRNAseq melanoma\n"
     ]
    },
    {
     "name": "stderr",
     "output_type": "stream",
     "text": [
      "2022-01-19 07:36:30,740 19219 genes overlap with model after filtering\n",
      "2022-01-19 07:36:30,741 1385 genes missing from dataset after filtering\n",
      "/data/estorrs/miniconda3/envs/pollock_new/lib/python3.8/site-packages/torch/nn/modules/container.py:141: UserWarning: Implicit dimension choice for softmax has been deprecated. Change the call to include dim=X as an argument.\n",
      "  input = module(input)\n"
     ]
    },
    {
     "name": "stdout",
     "output_type": "stream",
     "text": [
      "epoch: 0, train loss: 2.293, val loss: 2.272, time: 1.07\n",
      "epoch: 1, train loss: 2.227, val loss: 2.173, time: 1.16\n",
      "epoch: 2, train loss: 2.134, val loss: 2.083, time: 1.16\n",
      "epoch: 3, train loss: 2.069, val loss: 2.034, time: 1.01\n",
      "epoch: 4, train loss: 2.027, val loss: 1.996, time: 1.03\n",
      "epoch: 5, train loss: 1.988, val loss: 1.938, time: 1.03\n",
      "epoch: 6, train loss: 1.918, val loss: 1.806, time: 1.03\n",
      "epoch: 7, train loss: 1.824, val loss: 1.711, time: 1.03\n",
      "epoch: 8, train loss: 1.786, val loss: 1.681, time: 1.02\n",
      "epoch: 9, train loss: 1.748, val loss: 1.658, time: 1.02\n"
     ]
    }
   ],
   "source": [
    "to_prediction = {}\n",
    "for dtype, d1 in fmap.items():\n",
    "    to_prediction[dtype] = {}\n",
    "    for disease, d2 in d1.items():\n",
    "        print(dtype, disease)\n",
    "        train = sc.read_h5ad(d2['train'])\n",
    "        val = sc.read_h5ad(d2['val'])\n",
    "        \n",
    "        to_prediction[dtype][disease] = mlp_predict(train, val,\n",
    "            epochs=10 if dtype=='scRNAseq' else 25)\n",
    "        "
   ]
  },
  {
   "cell_type": "code",
   "execution_count": 34,
   "id": "a2f319fa",
   "metadata": {
    "hidden": true,
    "scrolled": true
   },
   "outputs": [
    {
     "name": "stderr",
     "output_type": "stream",
     "text": [
      "/data/estorrs/miniconda3/envs/pollock_new/lib/python3.8/site-packages/anndata/_core/anndata.py:1228: FutureWarning: The `inplace` parameter in pandas.Categorical.reorder_categories is deprecated and will be removed in a future version. Reordering categories will always return a new Categorical object.\n",
      "  c.reorder_categories(natsorted(c.categories), inplace=True)\n",
      "... storing 'predicted_cell_type' as categorical\n",
      "/data/estorrs/miniconda3/envs/pollock_new/lib/python3.8/site-packages/anndata/_core/anndata.py:1228: FutureWarning: The `inplace` parameter in pandas.Categorical.reorder_categories is deprecated and will be removed in a future version. Reordering categories will always return a new Categorical object.\n",
      "  c.reorder_categories(natsorted(c.categories), inplace=True)\n",
      "... storing 'predicted_cell_type' as categorical\n",
      "/data/estorrs/miniconda3/envs/pollock_new/lib/python3.8/site-packages/anndata/_core/anndata.py:1228: FutureWarning: The `inplace` parameter in pandas.Categorical.reorder_categories is deprecated and will be removed in a future version. Reordering categories will always return a new Categorical object.\n",
      "  c.reorder_categories(natsorted(c.categories), inplace=True)\n",
      "... storing 'predicted_cell_type' as categorical\n",
      "/data/estorrs/miniconda3/envs/pollock_new/lib/python3.8/site-packages/anndata/_core/anndata.py:1228: FutureWarning: The `inplace` parameter in pandas.Categorical.reorder_categories is deprecated and will be removed in a future version. Reordering categories will always return a new Categorical object.\n",
      "  c.reorder_categories(natsorted(c.categories), inplace=True)\n",
      "... storing 'predicted_cell_type' as categorical\n",
      "/data/estorrs/miniconda3/envs/pollock_new/lib/python3.8/site-packages/anndata/_core/anndata.py:1228: FutureWarning: The `inplace` parameter in pandas.Categorical.reorder_categories is deprecated and will be removed in a future version. Reordering categories will always return a new Categorical object.\n",
      "  c.reorder_categories(natsorted(c.categories), inplace=True)\n",
      "... storing 'predicted_cell_type' as categorical\n",
      "/data/estorrs/miniconda3/envs/pollock_new/lib/python3.8/site-packages/anndata/_core/anndata.py:1228: FutureWarning: The `inplace` parameter in pandas.Categorical.reorder_categories is deprecated and will be removed in a future version. Reordering categories will always return a new Categorical object.\n",
      "  c.reorder_categories(natsorted(c.categories), inplace=True)\n",
      "... storing 'predicted_cell_type' as categorical\n",
      "/data/estorrs/miniconda3/envs/pollock_new/lib/python3.8/site-packages/anndata/_core/anndata.py:1228: FutureWarning: The `inplace` parameter in pandas.Categorical.reorder_categories is deprecated and will be removed in a future version. Reordering categories will always return a new Categorical object.\n",
      "  c.reorder_categories(natsorted(c.categories), inplace=True)\n",
      "... storing 'predicted_cell_type' as categorical\n",
      "/data/estorrs/miniconda3/envs/pollock_new/lib/python3.8/site-packages/anndata/_core/anndata.py:1228: FutureWarning: The `inplace` parameter in pandas.Categorical.reorder_categories is deprecated and will be removed in a future version. Reordering categories will always return a new Categorical object.\n",
      "  c.reorder_categories(natsorted(c.categories), inplace=True)\n",
      "... storing 'predicted_cell_type' as categorical\n",
      "/data/estorrs/miniconda3/envs/pollock_new/lib/python3.8/site-packages/anndata/_core/anndata.py:1228: FutureWarning: The `inplace` parameter in pandas.Categorical.reorder_categories is deprecated and will be removed in a future version. Reordering categories will always return a new Categorical object.\n",
      "  c.reorder_categories(natsorted(c.categories), inplace=True)\n",
      "... storing 'predicted_cell_type' as categorical\n",
      "/data/estorrs/miniconda3/envs/pollock_new/lib/python3.8/site-packages/anndata/_core/anndata.py:1228: FutureWarning: The `inplace` parameter in pandas.Categorical.reorder_categories is deprecated and will be removed in a future version. Reordering categories will always return a new Categorical object.\n",
      "  c.reorder_categories(natsorted(c.categories), inplace=True)\n",
      "... storing 'predicted_cell_type' as categorical\n",
      "/data/estorrs/miniconda3/envs/pollock_new/lib/python3.8/site-packages/anndata/_core/anndata.py:1228: FutureWarning: The `inplace` parameter in pandas.Categorical.reorder_categories is deprecated and will be removed in a future version. Reordering categories will always return a new Categorical object.\n",
      "  c.reorder_categories(natsorted(c.categories), inplace=True)\n",
      "... storing 'predicted_cell_type' as categorical\n",
      "/data/estorrs/miniconda3/envs/pollock_new/lib/python3.8/site-packages/anndata/_core/anndata.py:1228: FutureWarning: The `inplace` parameter in pandas.Categorical.reorder_categories is deprecated and will be removed in a future version. Reordering categories will always return a new Categorical object.\n",
      "  c.reorder_categories(natsorted(c.categories), inplace=True)\n",
      "... storing 'predicted_cell_type' as categorical\n"
     ]
    }
   ],
   "source": [
    "for dtype, d1 in to_prediction.items():\n",
    "    for disease, a in d1.items():\n",
    "        a.write_h5ad(os.path.join(result_dir, f'{dtype}_{disease}.h5ad'))"
   ]
  },
  {
   "cell_type": "code",
   "execution_count": 35,
   "id": "508922e9",
   "metadata": {
    "hidden": true,
    "scrolled": true
   },
   "outputs": [
    {
     "name": "stdout",
     "output_type": "stream",
     "text": [
      "snRNAseq ccrcc\n",
      "snRNAseq brca\n"
     ]
    },
    {
     "name": "stderr",
     "output_type": "stream",
     "text": [
      "/data/estorrs/miniconda3/envs/pollock_new/lib/python3.8/site-packages/sklearn/metrics/_classification.py:1318: UndefinedMetricWarning: Precision and F-score are ill-defined and being set to 0.0 in labels with no predicted samples. Use `zero_division` parameter to control this behavior.\n",
      "  _warn_prf(average, modifier, msg_start, len(result))\n",
      "/data/estorrs/miniconda3/envs/pollock_new/lib/python3.8/site-packages/sklearn/metrics/_classification.py:1318: UndefinedMetricWarning: Precision and F-score are ill-defined and being set to 0.0 in labels with no predicted samples. Use `zero_division` parameter to control this behavior.\n",
      "  _warn_prf(average, modifier, msg_start, len(result))\n",
      "/data/estorrs/miniconda3/envs/pollock_new/lib/python3.8/site-packages/sklearn/metrics/_classification.py:1318: UndefinedMetricWarning: Precision and F-score are ill-defined and being set to 0.0 in labels with no predicted samples. Use `zero_division` parameter to control this behavior.\n",
      "  _warn_prf(average, modifier, msg_start, len(result))\n"
     ]
    },
    {
     "name": "stdout",
     "output_type": "stream",
     "text": [
      "snRNAseq gbm\n",
      "snATACseq brca\n"
     ]
    },
    {
     "name": "stderr",
     "output_type": "stream",
     "text": [
      "/data/estorrs/miniconda3/envs/pollock_new/lib/python3.8/site-packages/sklearn/metrics/_classification.py:1318: UndefinedMetricWarning: Precision and F-score are ill-defined and being set to 0.0 in labels with no predicted samples. Use `zero_division` parameter to control this behavior.\n",
      "  _warn_prf(average, modifier, msg_start, len(result))\n",
      "/data/estorrs/miniconda3/envs/pollock_new/lib/python3.8/site-packages/sklearn/metrics/_classification.py:1318: UndefinedMetricWarning: Precision and F-score are ill-defined and being set to 0.0 in labels with no predicted samples. Use `zero_division` parameter to control this behavior.\n",
      "  _warn_prf(average, modifier, msg_start, len(result))\n",
      "/data/estorrs/miniconda3/envs/pollock_new/lib/python3.8/site-packages/sklearn/metrics/_classification.py:1318: UndefinedMetricWarning: Precision and F-score are ill-defined and being set to 0.0 in labels with no predicted samples. Use `zero_division` parameter to control this behavior.\n",
      "  _warn_prf(average, modifier, msg_start, len(result))\n"
     ]
    },
    {
     "name": "stdout",
     "output_type": "stream",
     "text": [
      "snATACseq ccrcc\n",
      "snATACseq gbm\n",
      "scRNAseq cesc\n"
     ]
    },
    {
     "name": "stderr",
     "output_type": "stream",
     "text": [
      "/data/estorrs/miniconda3/envs/pollock_new/lib/python3.8/site-packages/sklearn/metrics/_classification.py:1318: UndefinedMetricWarning: Precision and F-score are ill-defined and being set to 0.0 in labels with no predicted samples. Use `zero_division` parameter to control this behavior.\n",
      "  _warn_prf(average, modifier, msg_start, len(result))\n",
      "/data/estorrs/miniconda3/envs/pollock_new/lib/python3.8/site-packages/sklearn/metrics/_classification.py:1318: UndefinedMetricWarning: Precision and F-score are ill-defined and being set to 0.0 in labels with no predicted samples. Use `zero_division` parameter to control this behavior.\n",
      "  _warn_prf(average, modifier, msg_start, len(result))\n",
      "/data/estorrs/miniconda3/envs/pollock_new/lib/python3.8/site-packages/sklearn/metrics/_classification.py:1318: UndefinedMetricWarning: Precision and F-score are ill-defined and being set to 0.0 in labels with no predicted samples. Use `zero_division` parameter to control this behavior.\n",
      "  _warn_prf(average, modifier, msg_start, len(result))\n",
      "/data/estorrs/miniconda3/envs/pollock_new/lib/python3.8/site-packages/sklearn/metrics/_classification.py:1318: UndefinedMetricWarning: Precision and F-score are ill-defined and being set to 0.0 in labels with no predicted samples. Use `zero_division` parameter to control this behavior.\n",
      "  _warn_prf(average, modifier, msg_start, len(result))\n",
      "/data/estorrs/miniconda3/envs/pollock_new/lib/python3.8/site-packages/sklearn/metrics/_classification.py:1318: UndefinedMetricWarning: Precision and F-score are ill-defined and being set to 0.0 in labels with no predicted samples. Use `zero_division` parameter to control this behavior.\n",
      "  _warn_prf(average, modifier, msg_start, len(result))\n",
      "/data/estorrs/miniconda3/envs/pollock_new/lib/python3.8/site-packages/sklearn/metrics/_classification.py:1318: UndefinedMetricWarning: Precision and F-score are ill-defined and being set to 0.0 in labels with no predicted samples. Use `zero_division` parameter to control this behavior.\n",
      "  _warn_prf(average, modifier, msg_start, len(result))\n"
     ]
    },
    {
     "name": "stdout",
     "output_type": "stream",
     "text": [
      "scRNAseq myeloma\n",
      "scRNAseq brca\n",
      "scRNAseq hnscc\n",
      "scRNAseq pdac\n",
      "scRNAseq melanoma\n"
     ]
    },
    {
     "name": "stderr",
     "output_type": "stream",
     "text": [
      "/data/estorrs/miniconda3/envs/pollock_new/lib/python3.8/site-packages/sklearn/metrics/_classification.py:1318: UndefinedMetricWarning: Precision and F-score are ill-defined and being set to 0.0 in labels with no predicted samples. Use `zero_division` parameter to control this behavior.\n",
      "  _warn_prf(average, modifier, msg_start, len(result))\n",
      "/data/estorrs/miniconda3/envs/pollock_new/lib/python3.8/site-packages/sklearn/metrics/_classification.py:1318: UndefinedMetricWarning: Precision and F-score are ill-defined and being set to 0.0 in labels with no predicted samples. Use `zero_division` parameter to control this behavior.\n",
      "  _warn_prf(average, modifier, msg_start, len(result))\n",
      "/data/estorrs/miniconda3/envs/pollock_new/lib/python3.8/site-packages/sklearn/metrics/_classification.py:1318: UndefinedMetricWarning: Precision and F-score are ill-defined and being set to 0.0 in labels with no predicted samples. Use `zero_division` parameter to control this behavior.\n",
      "  _warn_prf(average, modifier, msg_start, len(result))\n"
     ]
    }
   ],
   "source": [
    "for dtype, d1 in fmap.items():\n",
    "    for disease, d2 in d1.items():\n",
    "        print(dtype, disease)\n",
    "        adata = sc.read_h5ad(os.path.join(result_dir, f'{dtype}_{disease}.h5ad'))\n",
    "        y_pred = adata.obs['predicted_cell_type'].to_list()\n",
    "        y_true = adata.obs['cell_type'].to_list()\n",
    "        d, cm = get_metrics(y_true, y_pred)\n",
    "        \n",
    "        d.to_csv(os.path.join(result_dir, f'{dtype}_{disease}_clf_report.txt'), sep='\\t')\n",
    "        cm.to_csv(os.path.join(result_dir, f'{dtype}_{disease}_confusion_matrix.txt'), sep='\\t')"
   ]
  },
  {
   "cell_type": "code",
   "execution_count": 28,
   "id": "d6f30658",
   "metadata": {
    "hidden": true
   },
   "outputs": [],
   "source": [
    "# with folds\n",
    "result_dir = '/data/pollock/benchmarking/results/mlp/interdataset_with_folds'"
   ]
  },
  {
   "cell_type": "code",
   "execution_count": 29,
   "id": "15645f63",
   "metadata": {
    "hidden": true
   },
   "outputs": [
    {
     "name": "stdout",
     "output_type": "stream",
     "text": [
      "snRNAseq ccrcc fold3\n"
     ]
    },
    {
     "name": "stderr",
     "output_type": "stream",
     "text": [
      "2022-03-25 10:10:45,824 24602 genes overlap with model after filtering\n",
      "2022-03-25 10:10:45,825 1513 genes missing from dataset after filtering\n"
     ]
    },
    {
     "name": "stdout",
     "output_type": "stream",
     "text": [
      "epoch: 0, train loss: 2.269, val loss: 2.086, time: 1.71\n",
      "epoch: 1, train loss: 1.974, val loss: 1.915, time: 1.22\n",
      "epoch: 2, train loss: 1.838, val loss: 1.814, time: 1.31\n",
      "epoch: 3, train loss: 1.741, val loss: 1.763, time: 1.25\n",
      "epoch: 4, train loss: 1.689, val loss: 1.721, time: 1.35\n",
      "epoch: 5, train loss: 1.642, val loss: 1.678, time: 1.24\n",
      "epoch: 6, train loss: 1.609, val loss: 1.656, time: 1.21\n",
      "epoch: 7, train loss: 1.594, val loss: 1.649, time: 1.24\n",
      "epoch: 8, train loss: 1.580, val loss: 1.640, time: 1.27\n",
      "epoch: 9, train loss: 1.572, val loss: 1.636, time: 1.23\n",
      "epoch: 10, train loss: 1.568, val loss: 1.633, time: 1.23\n",
      "epoch: 11, train loss: 1.564, val loss: 1.632, time: 1.23\n",
      "epoch: 12, train loss: 1.561, val loss: 1.629, time: 1.25\n",
      "epoch: 13, train loss: 1.560, val loss: 1.629, time: 1.34\n",
      "epoch: 14, train loss: 1.556, val loss: 1.629, time: 1.21\n",
      "epoch: 15, train loss: 1.555, val loss: 1.627, time: 1.21\n",
      "epoch: 16, train loss: 1.555, val loss: 1.626, time: 1.34\n",
      "epoch: 17, train loss: 1.553, val loss: 1.624, time: 1.29\n",
      "epoch: 18, train loss: 1.553, val loss: 1.624, time: 1.21\n",
      "epoch: 19, train loss: 1.553, val loss: 1.623, time: 1.26\n",
      "epoch: 20, train loss: 1.553, val loss: 1.624, time: 1.24\n",
      "epoch: 21, train loss: 1.552, val loss: 1.623, time: 1.33\n",
      "epoch: 22, train loss: 1.550, val loss: 1.624, time: 1.34\n",
      "epoch: 23, train loss: 1.551, val loss: 1.623, time: 1.23\n",
      "epoch: 24, train loss: 1.550, val loss: 1.621, time: 1.22\n",
      "snRNAseq ccrcc fold1\n"
     ]
    },
    {
     "name": "stderr",
     "output_type": "stream",
     "text": [
      "2022-03-25 10:11:49,239 24613 genes overlap with model after filtering\n",
      "2022-03-25 10:11:49,241 1496 genes missing from dataset after filtering\n"
     ]
    },
    {
     "name": "stdout",
     "output_type": "stream",
     "text": [
      "epoch: 0, train loss: 2.268, val loss: 2.080, time: 1.20\n",
      "epoch: 1, train loss: 1.936, val loss: 1.875, time: 1.24\n",
      "epoch: 2, train loss: 1.787, val loss: 1.768, time: 1.25\n",
      "epoch: 3, train loss: 1.697, val loss: 1.703, time: 1.21\n",
      "epoch: 4, train loss: 1.657, val loss: 1.679, time: 1.30\n",
      "epoch: 5, train loss: 1.628, val loss: 1.662, time: 1.20\n",
      "epoch: 6, train loss: 1.602, val loss: 1.651, time: 1.23\n",
      "epoch: 7, train loss: 1.591, val loss: 1.645, time: 1.24\n",
      "epoch: 8, train loss: 1.579, val loss: 1.640, time: 1.25\n",
      "epoch: 9, train loss: 1.575, val loss: 1.636, time: 1.35\n",
      "epoch: 10, train loss: 1.572, val loss: 1.633, time: 1.22\n",
      "epoch: 11, train loss: 1.565, val loss: 1.630, time: 1.24\n",
      "epoch: 12, train loss: 1.564, val loss: 1.628, time: 1.25\n",
      "epoch: 13, train loss: 1.562, val loss: 1.626, time: 1.22\n",
      "epoch: 14, train loss: 1.561, val loss: 1.625, time: 1.24\n",
      "epoch: 15, train loss: 1.558, val loss: 1.625, time: 1.27\n",
      "epoch: 16, train loss: 1.558, val loss: 1.624, time: 1.21\n",
      "epoch: 17, train loss: 1.558, val loss: 1.624, time: 1.22\n",
      "epoch: 18, train loss: 1.557, val loss: 1.624, time: 1.29\n",
      "epoch: 19, train loss: 1.555, val loss: 1.622, time: 1.30\n",
      "epoch: 20, train loss: 1.555, val loss: 1.623, time: 1.21\n",
      "epoch: 21, train loss: 1.555, val loss: 1.624, time: 1.21\n",
      "epoch: 22, train loss: 1.555, val loss: 1.621, time: 1.24\n",
      "epoch: 23, train loss: 1.553, val loss: 1.621, time: 1.22\n",
      "epoch: 24, train loss: 1.554, val loss: 1.621, time: 1.24\n",
      "snRNAseq ccrcc fold2\n"
     ]
    },
    {
     "name": "stderr",
     "output_type": "stream",
     "text": [
      "2022-03-25 10:12:47,672 24633 genes overlap with model after filtering\n",
      "2022-03-25 10:12:47,673 1406 genes missing from dataset after filtering\n"
     ]
    },
    {
     "name": "stdout",
     "output_type": "stream",
     "text": [
      "epoch: 0, train loss: 2.252, val loss: 2.010, time: 1.19\n",
      "epoch: 1, train loss: 1.944, val loss: 1.843, time: 1.29\n",
      "epoch: 2, train loss: 1.802, val loss: 1.749, time: 1.31\n",
      "epoch: 3, train loss: 1.694, val loss: 1.689, time: 1.25\n",
      "epoch: 4, train loss: 1.634, val loss: 1.664, time: 1.22\n",
      "epoch: 5, train loss: 1.612, val loss: 1.653, time: 1.23\n",
      "epoch: 6, train loss: 1.594, val loss: 1.644, time: 1.22\n",
      "epoch: 7, train loss: 1.585, val loss: 1.638, time: 1.30\n",
      "epoch: 8, train loss: 1.575, val loss: 1.633, time: 1.28\n",
      "epoch: 9, train loss: 1.571, val loss: 1.632, time: 1.26\n",
      "epoch: 10, train loss: 1.566, val loss: 1.630, time: 1.27\n",
      "epoch: 11, train loss: 1.565, val loss: 1.627, time: 1.27\n",
      "epoch: 12, train loss: 1.560, val loss: 1.626, time: 1.39\n",
      "epoch: 13, train loss: 1.559, val loss: 1.623, time: 1.28\n",
      "epoch: 14, train loss: 1.560, val loss: 1.623, time: 1.30\n",
      "epoch: 15, train loss: 1.556, val loss: 1.623, time: 1.28\n",
      "epoch: 16, train loss: 1.556, val loss: 1.622, time: 1.30\n",
      "epoch: 17, train loss: 1.554, val loss: 1.623, time: 1.26\n",
      "epoch: 18, train loss: 1.555, val loss: 1.623, time: 1.28\n",
      "epoch: 19, train loss: 1.552, val loss: 1.622, time: 1.29\n",
      "epoch: 20, train loss: 1.554, val loss: 1.623, time: 1.21\n",
      "epoch: 21, train loss: 1.553, val loss: 1.621, time: 1.35\n",
      "epoch: 22, train loss: 1.551, val loss: 1.621, time: 1.30\n",
      "epoch: 23, train loss: 1.551, val loss: 1.621, time: 1.24\n",
      "epoch: 24, train loss: 1.552, val loss: 1.620, time: 1.22\n",
      "snRNAseq ccrcc fold0\n"
     ]
    },
    {
     "name": "stderr",
     "output_type": "stream",
     "text": [
      "2022-03-25 10:13:46,971 24598 genes overlap with model after filtering\n",
      "2022-03-25 10:13:46,972 1535 genes missing from dataset after filtering\n"
     ]
    },
    {
     "name": "stdout",
     "output_type": "stream",
     "text": [
      "epoch: 0, train loss: 2.278, val loss: 2.076, time: 1.19\n",
      "epoch: 1, train loss: 1.928, val loss: 1.856, time: 1.28\n",
      "epoch: 2, train loss: 1.757, val loss: 1.741, time: 1.20\n",
      "epoch: 3, train loss: 1.676, val loss: 1.696, time: 1.35\n",
      "epoch: 4, train loss: 1.636, val loss: 1.672, time: 1.32\n",
      "epoch: 5, train loss: 1.612, val loss: 1.659, time: 1.35\n",
      "epoch: 6, train loss: 1.595, val loss: 1.651, time: 1.28\n",
      "epoch: 7, train loss: 1.586, val loss: 1.645, time: 1.28\n",
      "epoch: 8, train loss: 1.578, val loss: 1.639, time: 1.29\n",
      "epoch: 9, train loss: 1.571, val loss: 1.635, time: 1.27\n",
      "epoch: 10, train loss: 1.565, val loss: 1.633, time: 1.30\n",
      "epoch: 11, train loss: 1.566, val loss: 1.631, time: 1.26\n",
      "epoch: 12, train loss: 1.563, val loss: 1.628, time: 1.26\n",
      "epoch: 13, train loss: 1.560, val loss: 1.627, time: 1.27\n",
      "epoch: 14, train loss: 1.560, val loss: 1.627, time: 1.32\n",
      "epoch: 15, train loss: 1.557, val loss: 1.624, time: 1.35\n",
      "epoch: 16, train loss: 1.556, val loss: 1.624, time: 1.27\n",
      "epoch: 17, train loss: 1.555, val loss: 1.621, time: 1.27\n",
      "epoch: 18, train loss: 1.555, val loss: 1.622, time: 1.31\n",
      "epoch: 19, train loss: 1.553, val loss: 1.622, time: 1.29\n",
      "epoch: 20, train loss: 1.553, val loss: 1.621, time: 1.29\n",
      "epoch: 21, train loss: 1.552, val loss: 1.620, time: 1.28\n",
      "epoch: 22, train loss: 1.552, val loss: 1.619, time: 1.28\n",
      "epoch: 23, train loss: 1.553, val loss: 1.617, time: 1.30\n",
      "epoch: 24, train loss: 1.552, val loss: 1.620, time: 1.25\n",
      "snRNAseq ccrcc fold4\n"
     ]
    },
    {
     "name": "stderr",
     "output_type": "stream",
     "text": [
      "2022-03-25 10:14:46,805 24626 genes overlap with model after filtering\n",
      "2022-03-25 10:14:46,806 1508 genes missing from dataset after filtering\n"
     ]
    },
    {
     "name": "stdout",
     "output_type": "stream",
     "text": [
      "epoch: 0, train loss: 2.281, val loss: 2.078, time: 1.22\n",
      "epoch: 1, train loss: 1.947, val loss: 1.834, time: 1.23\n",
      "epoch: 2, train loss: 1.790, val loss: 1.763, time: 1.25\n",
      "epoch: 3, train loss: 1.724, val loss: 1.734, time: 1.26\n",
      "epoch: 4, train loss: 1.695, val loss: 1.723, time: 1.21\n",
      "epoch: 5, train loss: 1.680, val loss: 1.712, time: 1.31\n",
      "epoch: 6, train loss: 1.651, val loss: 1.674, time: 1.22\n",
      "epoch: 7, train loss: 1.619, val loss: 1.649, time: 1.24\n",
      "epoch: 8, train loss: 1.598, val loss: 1.638, time: 1.26\n",
      "epoch: 9, train loss: 1.584, val loss: 1.635, time: 1.38\n",
      "epoch: 10, train loss: 1.577, val loss: 1.634, time: 1.25\n",
      "epoch: 11, train loss: 1.570, val loss: 1.628, time: 1.25\n",
      "epoch: 12, train loss: 1.565, val loss: 1.630, time: 1.26\n",
      "epoch: 13, train loss: 1.563, val loss: 1.628, time: 1.25\n",
      "epoch: 14, train loss: 1.560, val loss: 1.628, time: 1.27\n",
      "epoch: 15, train loss: 1.557, val loss: 1.623, time: 1.26\n",
      "epoch: 16, train loss: 1.555, val loss: 1.623, time: 1.26\n",
      "epoch: 17, train loss: 1.554, val loss: 1.624, time: 1.22\n",
      "epoch: 18, train loss: 1.552, val loss: 1.621, time: 1.28\n",
      "epoch: 19, train loss: 1.554, val loss: 1.622, time: 1.38\n",
      "epoch: 20, train loss: 1.553, val loss: 1.621, time: 1.28\n",
      "epoch: 21, train loss: 1.551, val loss: 1.619, time: 1.27\n",
      "epoch: 22, train loss: 1.549, val loss: 1.620, time: 1.29\n",
      "epoch: 23, train loss: 1.549, val loss: 1.618, time: 1.24\n",
      "epoch: 24, train loss: 1.549, val loss: 1.617, time: 1.28\n",
      "snRNAseq brca fold2\n"
     ]
    },
    {
     "name": "stderr",
     "output_type": "stream",
     "text": [
      "2022-03-25 10:15:46,180 25314 genes overlap with model after filtering\n",
      "2022-03-25 10:15:46,181 1192 genes missing from dataset after filtering\n"
     ]
    },
    {
     "name": "stdout",
     "output_type": "stream",
     "text": [
      "epoch: 0, train loss: 2.458, val loss: 2.251, time: 1.28\n",
      "epoch: 1, train loss: 2.144, val loss: 2.057, time: 1.31\n",
      "epoch: 2, train loss: 1.982, val loss: 1.966, time: 1.47\n",
      "epoch: 3, train loss: 1.894, val loss: 1.908, time: 1.32\n",
      "epoch: 4, train loss: 1.838, val loss: 1.874, time: 1.32\n",
      "epoch: 5, train loss: 1.804, val loss: 1.857, time: 1.32\n",
      "epoch: 6, train loss: 1.781, val loss: 1.847, time: 1.31\n",
      "epoch: 7, train loss: 1.763, val loss: 1.838, time: 1.30\n",
      "epoch: 8, train loss: 1.754, val loss: 1.830, time: 1.31\n",
      "epoch: 9, train loss: 1.740, val loss: 1.827, time: 1.37\n",
      "epoch: 10, train loss: 1.734, val loss: 1.822, time: 1.29\n",
      "epoch: 11, train loss: 1.725, val loss: 1.820, time: 1.35\n",
      "epoch: 12, train loss: 1.722, val loss: 1.819, time: 1.37\n",
      "epoch: 13, train loss: 1.720, val loss: 1.817, time: 1.46\n",
      "epoch: 14, train loss: 1.716, val loss: 1.815, time: 1.32\n",
      "epoch: 15, train loss: 1.715, val loss: 1.816, time: 1.33\n",
      "epoch: 16, train loss: 1.713, val loss: 1.814, time: 1.34\n",
      "epoch: 17, train loss: 1.712, val loss: 1.811, time: 1.30\n",
      "epoch: 18, train loss: 1.710, val loss: 1.809, time: 1.34\n",
      "epoch: 19, train loss: 1.709, val loss: 1.810, time: 1.29\n",
      "epoch: 20, train loss: 1.707, val loss: 1.808, time: 1.31\n",
      "epoch: 21, train loss: 1.706, val loss: 1.808, time: 1.30\n",
      "epoch: 22, train loss: 1.706, val loss: 1.808, time: 1.52\n",
      "epoch: 23, train loss: 1.706, val loss: 1.809, time: 1.29\n",
      "epoch: 24, train loss: 1.704, val loss: 1.807, time: 1.32\n",
      "snRNAseq brca fold1\n"
     ]
    },
    {
     "name": "stderr",
     "output_type": "stream",
     "text": [
      "2022-03-25 10:16:49,087 25304 genes overlap with model after filtering\n",
      "2022-03-25 10:16:49,088 1237 genes missing from dataset after filtering\n"
     ]
    },
    {
     "name": "stdout",
     "output_type": "stream",
     "text": [
      "epoch: 0, train loss: 2.463, val loss: 2.308, time: 1.29\n",
      "epoch: 1, train loss: 2.205, val loss: 2.104, time: 1.29\n",
      "epoch: 2, train loss: 2.025, val loss: 2.002, time: 1.35\n",
      "epoch: 3, train loss: 1.928, val loss: 1.945, time: 1.30\n",
      "epoch: 4, train loss: 1.864, val loss: 1.891, time: 1.35\n",
      "epoch: 5, train loss: 1.805, val loss: 1.855, time: 1.50\n",
      "epoch: 6, train loss: 1.775, val loss: 1.838, time: 1.33\n",
      "epoch: 7, train loss: 1.757, val loss: 1.830, time: 1.32\n",
      "epoch: 8, train loss: 1.747, val loss: 1.826, time: 1.33\n",
      "epoch: 9, train loss: 1.738, val loss: 1.821, time: 1.32\n",
      "epoch: 10, train loss: 1.731, val loss: 1.816, time: 1.32\n",
      "epoch: 11, train loss: 1.728, val loss: 1.815, time: 1.31\n",
      "epoch: 12, train loss: 1.723, val loss: 1.812, time: 1.33\n",
      "epoch: 13, train loss: 1.719, val loss: 1.811, time: 1.32\n",
      "epoch: 14, train loss: 1.718, val loss: 1.811, time: 1.31\n",
      "epoch: 15, train loss: 1.716, val loss: 1.809, time: 1.51\n",
      "epoch: 16, train loss: 1.712, val loss: 1.806, time: 1.31\n",
      "epoch: 17, train loss: 1.712, val loss: 1.806, time: 1.32\n",
      "epoch: 18, train loss: 1.710, val loss: 1.805, time: 1.32\n",
      "epoch: 19, train loss: 1.710, val loss: 1.804, time: 1.33\n",
      "epoch: 20, train loss: 1.708, val loss: 1.805, time: 1.31\n",
      "epoch: 21, train loss: 1.707, val loss: 1.803, time: 1.31\n",
      "epoch: 22, train loss: 1.705, val loss: 1.802, time: 1.29\n",
      "epoch: 23, train loss: 1.704, val loss: 1.802, time: 1.32\n",
      "epoch: 24, train loss: 1.704, val loss: 1.801, time: 1.30\n",
      "snRNAseq brca fold3\n"
     ]
    },
    {
     "name": "stderr",
     "output_type": "stream",
     "text": [
      "2022-03-25 10:17:51,692 25340 genes overlap with model after filtering\n",
      "2022-03-25 10:17:51,693 1209 genes missing from dataset after filtering\n"
     ]
    },
    {
     "name": "stdout",
     "output_type": "stream",
     "text": [
      "epoch: 0, train loss: 2.466, val loss: 2.321, time: 1.29\n",
      "epoch: 1, train loss: 2.239, val loss: 2.114, time: 1.31\n",
      "epoch: 2, train loss: 2.031, val loss: 1.970, time: 1.30\n",
      "epoch: 3, train loss: 1.927, val loss: 1.923, time: 1.28\n",
      "epoch: 4, train loss: 1.882, val loss: 1.903, time: 1.30\n",
      "epoch: 5, train loss: 1.857, val loss: 1.894, time: 1.29\n",
      "epoch: 6, train loss: 1.822, val loss: 1.857, time: 1.31\n",
      "epoch: 7, train loss: 1.783, val loss: 1.842, time: 1.31\n",
      "epoch: 8, train loss: 1.759, val loss: 1.831, time: 1.46\n",
      "epoch: 9, train loss: 1.748, val loss: 1.825, time: 1.31\n",
      "epoch: 10, train loss: 1.744, val loss: 1.822, time: 1.33\n",
      "epoch: 11, train loss: 1.735, val loss: 1.819, time: 1.32\n",
      "epoch: 12, train loss: 1.732, val loss: 1.816, time: 1.34\n",
      "epoch: 13, train loss: 1.725, val loss: 1.814, time: 1.33\n",
      "epoch: 14, train loss: 1.721, val loss: 1.812, time: 1.31\n",
      "epoch: 15, train loss: 1.720, val loss: 1.809, time: 1.30\n",
      "epoch: 16, train loss: 1.715, val loss: 1.807, time: 1.32\n",
      "epoch: 17, train loss: 1.715, val loss: 1.806, time: 1.30\n",
      "epoch: 18, train loss: 1.710, val loss: 1.805, time: 1.45\n",
      "epoch: 19, train loss: 1.710, val loss: 1.804, time: 1.33\n",
      "epoch: 20, train loss: 1.710, val loss: 1.804, time: 1.32\n",
      "epoch: 21, train loss: 1.708, val loss: 1.803, time: 1.30\n",
      "epoch: 22, train loss: 1.707, val loss: 1.802, time: 1.33\n",
      "epoch: 23, train loss: 1.706, val loss: 1.801, time: 1.29\n",
      "epoch: 24, train loss: 1.705, val loss: 1.801, time: 1.32\n",
      "snRNAseq brca fold0\n"
     ]
    },
    {
     "name": "stderr",
     "output_type": "stream",
     "text": [
      "2022-03-25 10:18:53,888 25343 genes overlap with model after filtering\n",
      "2022-03-25 10:18:53,890 1195 genes missing from dataset after filtering\n"
     ]
    },
    {
     "name": "stdout",
     "output_type": "stream",
     "text": [
      "epoch: 0, train loss: 2.462, val loss: 2.314, time: 1.29\n",
      "epoch: 1, train loss: 2.233, val loss: 2.149, time: 1.46\n",
      "epoch: 2, train loss: 2.081, val loss: 2.020, time: 1.35\n",
      "epoch: 3, train loss: 1.970, val loss: 1.926, time: 1.38\n",
      "epoch: 4, train loss: 1.885, val loss: 1.874, time: 1.37\n",
      "epoch: 5, train loss: 1.837, val loss: 1.852, time: 1.37\n",
      "epoch: 6, train loss: 1.796, val loss: 1.835, time: 1.39\n",
      "epoch: 7, train loss: 1.770, val loss: 1.827, time: 1.38\n",
      "epoch: 8, train loss: 1.757, val loss: 1.819, time: 1.35\n",
      "epoch: 9, train loss: 1.742, val loss: 1.818, time: 1.42\n",
      "epoch: 10, train loss: 1.736, val loss: 1.814, time: 1.36\n",
      "epoch: 11, train loss: 1.731, val loss: 1.812, time: 1.50\n",
      "epoch: 12, train loss: 1.725, val loss: 1.812, time: 1.39\n",
      "epoch: 13, train loss: 1.723, val loss: 1.810, time: 1.38\n",
      "epoch: 14, train loss: 1.721, val loss: 1.808, time: 1.41\n",
      "epoch: 15, train loss: 1.718, val loss: 1.805, time: 1.40\n",
      "epoch: 16, train loss: 1.715, val loss: 1.805, time: 1.39\n",
      "epoch: 17, train loss: 1.713, val loss: 1.803, time: 1.38\n",
      "epoch: 18, train loss: 1.715, val loss: 1.802, time: 1.38\n",
      "epoch: 19, train loss: 1.711, val loss: 1.807, time: 1.38\n",
      "epoch: 20, train loss: 1.709, val loss: 1.803, time: 1.41\n",
      "epoch: 21, train loss: 1.708, val loss: 1.802, time: 1.47\n",
      "epoch: 22, train loss: 1.707, val loss: 1.801, time: 1.40\n",
      "epoch: 23, train loss: 1.707, val loss: 1.801, time: 1.39\n",
      "epoch: 24, train loss: 1.706, val loss: 1.800, time: 1.41\n",
      "snRNAseq brca fold4\n"
     ]
    },
    {
     "name": "stderr",
     "output_type": "stream",
     "text": [
      "2022-03-25 10:19:58,323 25346 genes overlap with model after filtering\n",
      "2022-03-25 10:19:58,325 1217 genes missing from dataset after filtering\n"
     ]
    },
    {
     "name": "stdout",
     "output_type": "stream",
     "text": [
      "epoch: 0, train loss: 2.470, val loss: 2.293, time: 1.31\n",
      "epoch: 1, train loss: 2.206, val loss: 2.091, time: 1.35\n",
      "epoch: 2, train loss: 2.034, val loss: 1.987, time: 1.37\n",
      "epoch: 3, train loss: 1.936, val loss: 1.938, time: 1.38\n",
      "epoch: 4, train loss: 1.855, val loss: 1.874, time: 1.50\n",
      "epoch: 5, train loss: 1.801, val loss: 1.851, time: 1.42\n",
      "epoch: 6, train loss: 1.778, val loss: 1.837, time: 1.39\n",
      "epoch: 7, train loss: 1.762, val loss: 1.833, time: 1.39\n",
      "epoch: 8, train loss: 1.754, val loss: 1.827, time: 1.38\n",
      "epoch: 9, train loss: 1.742, val loss: 1.824, time: 1.37\n",
      "epoch: 10, train loss: 1.739, val loss: 1.820, time: 1.38\n",
      "epoch: 11, train loss: 1.733, val loss: 1.817, time: 1.36\n",
      "epoch: 12, train loss: 1.730, val loss: 1.816, time: 1.38\n",
      "epoch: 13, train loss: 1.728, val loss: 1.814, time: 1.39\n",
      "epoch: 14, train loss: 1.722, val loss: 1.812, time: 1.50\n",
      "epoch: 15, train loss: 1.720, val loss: 1.814, time: 1.36\n",
      "epoch: 16, train loss: 1.720, val loss: 1.810, time: 1.29\n",
      "epoch: 17, train loss: 1.717, val loss: 1.807, time: 1.29\n",
      "epoch: 18, train loss: 1.713, val loss: 1.806, time: 1.29\n",
      "epoch: 19, train loss: 1.710, val loss: 1.806, time: 1.28\n",
      "epoch: 20, train loss: 1.709, val loss: 1.806, time: 1.15\n",
      "epoch: 21, train loss: 1.707, val loss: 1.804, time: 1.21\n",
      "epoch: 22, train loss: 1.706, val loss: 1.802, time: 1.31\n",
      "epoch: 23, train loss: 1.707, val loss: 1.801, time: 1.28\n",
      "epoch: 24, train loss: 1.706, val loss: 1.802, time: 1.39\n",
      "snRNAseq gbm fold4\n"
     ]
    },
    {
     "name": "stderr",
     "output_type": "stream",
     "text": [
      "2022-03-25 10:21:00,417 24927 genes overlap with model after filtering\n",
      "2022-03-25 10:21:00,418 1326 genes missing from dataset after filtering\n"
     ]
    },
    {
     "name": "stdout",
     "output_type": "stream",
     "text": [
      "epoch: 0, train loss: 2.170, val loss: 2.092, time: 0.99\n",
      "epoch: 1, train loss: 2.033, val loss: 1.863, time: 0.99\n",
      "epoch: 2, train loss: 1.873, val loss: 1.697, time: 1.09\n",
      "epoch: 3, train loss: 1.760, val loss: 1.611, time: 1.07\n",
      "epoch: 4, train loss: 1.711, val loss: 1.577, time: 1.06\n",
      "epoch: 5, train loss: 1.681, val loss: 1.555, time: 1.06\n",
      "epoch: 6, train loss: 1.651, val loss: 1.523, time: 1.06\n",
      "epoch: 7, train loss: 1.610, val loss: 1.469, time: 1.05\n",
      "epoch: 8, train loss: 1.559, val loss: 1.433, time: 1.06\n",
      "epoch: 9, train loss: 1.524, val loss: 1.420, time: 1.06\n",
      "epoch: 10, train loss: 1.524, val loss: 1.415, time: 1.07\n",
      "epoch: 11, train loss: 1.495, val loss: 1.411, time: 1.17\n",
      "epoch: 12, train loss: 1.499, val loss: 1.409, time: 1.08\n",
      "epoch: 13, train loss: 1.493, val loss: 1.407, time: 1.08\n",
      "epoch: 14, train loss: 1.480, val loss: 1.406, time: 1.08\n",
      "epoch: 15, train loss: 1.476, val loss: 1.406, time: 1.07\n",
      "epoch: 16, train loss: 1.469, val loss: 1.405, time: 1.09\n",
      "epoch: 17, train loss: 1.473, val loss: 1.405, time: 1.06\n",
      "epoch: 18, train loss: 1.470, val loss: 1.403, time: 1.06\n",
      "epoch: 19, train loss: 1.462, val loss: 1.402, time: 1.05\n",
      "epoch: 20, train loss: 1.463, val loss: 1.401, time: 1.06\n",
      "epoch: 21, train loss: 1.457, val loss: 1.401, time: 1.06\n",
      "epoch: 22, train loss: 1.455, val loss: 1.401, time: 1.07\n",
      "epoch: 23, train loss: 1.451, val loss: 1.400, time: 1.06\n",
      "epoch: 24, train loss: 1.458, val loss: 1.400, time: 1.16\n",
      "snRNAseq gbm fold3\n"
     ]
    },
    {
     "name": "stderr",
     "output_type": "stream",
     "text": [
      "2022-03-25 10:21:46,881 24983 genes overlap with model after filtering\n",
      "2022-03-25 10:21:46,882 1404 genes missing from dataset after filtering\n"
     ]
    },
    {
     "name": "stdout",
     "output_type": "stream",
     "text": [
      "epoch: 0, train loss: 2.180, val loss: 2.134, time: 1.03\n",
      "epoch: 1, train loss: 2.077, val loss: 1.959, time: 1.08\n",
      "epoch: 2, train loss: 1.975, val loss: 1.873, time: 1.08\n",
      "epoch: 3, train loss: 1.921, val loss: 1.816, time: 1.07\n",
      "epoch: 4, train loss: 1.881, val loss: 1.760, time: 1.05\n",
      "epoch: 5, train loss: 1.831, val loss: 1.675, time: 1.06\n",
      "epoch: 6, train loss: 1.758, val loss: 1.562, time: 1.05\n",
      "epoch: 7, train loss: 1.686, val loss: 1.490, time: 1.05\n",
      "epoch: 8, train loss: 1.645, val loss: 1.464, time: 1.06\n",
      "epoch: 9, train loss: 1.604, val loss: 1.454, time: 1.05\n",
      "epoch: 10, train loss: 1.593, val loss: 1.449, time: 1.07\n",
      "epoch: 11, train loss: 1.586, val loss: 1.446, time: 1.17\n",
      "epoch: 12, train loss: 1.576, val loss: 1.441, time: 1.09\n",
      "epoch: 13, train loss: 1.579, val loss: 1.440, time: 1.07\n",
      "epoch: 14, train loss: 1.572, val loss: 1.438, time: 1.07\n",
      "epoch: 15, train loss: 1.575, val loss: 1.436, time: 1.07\n",
      "epoch: 16, train loss: 1.581, val loss: 1.435, time: 1.08\n",
      "epoch: 17, train loss: 1.559, val loss: 1.435, time: 0.98\n",
      "epoch: 18, train loss: 1.561, val loss: 1.434, time: 0.95\n",
      "epoch: 19, train loss: 1.557, val loss: 1.433, time: 0.95\n",
      "epoch: 20, train loss: 1.553, val loss: 1.433, time: 0.95\n",
      "epoch: 21, train loss: 1.548, val loss: 1.431, time: 1.04\n",
      "epoch: 22, train loss: 1.547, val loss: 1.431, time: 1.03\n",
      "epoch: 23, train loss: 1.532, val loss: 1.429, time: 1.06\n",
      "epoch: 24, train loss: 1.544, val loss: 1.428, time: 0.95\n",
      "snRNAseq gbm fold0\n"
     ]
    },
    {
     "name": "stderr",
     "output_type": "stream",
     "text": [
      "2022-03-25 10:22:32,140 24962 genes overlap with model after filtering\n",
      "2022-03-25 10:22:32,141 1361 genes missing from dataset after filtering\n"
     ]
    },
    {
     "name": "stdout",
     "output_type": "stream",
     "text": [
      "epoch: 0, train loss: 2.162, val loss: 2.074, time: 0.98\n",
      "epoch: 1, train loss: 2.039, val loss: 1.893, time: 0.99\n",
      "epoch: 2, train loss: 1.944, val loss: 1.833, time: 1.07\n",
      "epoch: 3, train loss: 1.895, val loss: 1.805, time: 1.07\n",
      "epoch: 4, train loss: 1.849, val loss: 1.787, time: 1.07\n",
      "epoch: 5, train loss: 1.825, val loss: 1.753, time: 1.07\n",
      "epoch: 6, train loss: 1.773, val loss: 1.675, time: 1.07\n",
      "epoch: 7, train loss: 1.712, val loss: 1.615, time: 1.06\n",
      "epoch: 8, train loss: 1.674, val loss: 1.579, time: 1.05\n",
      "epoch: 9, train loss: 1.654, val loss: 1.560, time: 0.97\n",
      "epoch: 10, train loss: 1.631, val loss: 1.547, time: 1.04\n",
      "epoch: 11, train loss: 1.603, val loss: 1.540, time: 1.05\n",
      "epoch: 12, train loss: 1.590, val loss: 1.535, time: 1.11\n",
      "epoch: 13, train loss: 1.587, val loss: 1.531, time: 1.13\n",
      "epoch: 14, train loss: 1.575, val loss: 1.528, time: 1.08\n",
      "epoch: 15, train loss: 1.567, val loss: 1.525, time: 1.07\n",
      "epoch: 16, train loss: 1.563, val loss: 1.523, time: 1.07\n",
      "epoch: 17, train loss: 1.558, val loss: 1.521, time: 1.07\n",
      "epoch: 18, train loss: 1.560, val loss: 1.521, time: 1.06\n",
      "epoch: 19, train loss: 1.549, val loss: 1.520, time: 1.06\n",
      "epoch: 20, train loss: 1.544, val loss: 1.520, time: 1.05\n",
      "epoch: 21, train loss: 1.540, val loss: 1.519, time: 1.05\n",
      "epoch: 22, train loss: 1.546, val loss: 1.517, time: 1.05\n",
      "epoch: 23, train loss: 1.546, val loss: 1.516, time: 1.06\n",
      "epoch: 24, train loss: 1.542, val loss: 1.516, time: 1.06\n",
      "snRNAseq gbm fold2\n"
     ]
    },
    {
     "name": "stderr",
     "output_type": "stream",
     "text": [
      "2022-03-25 10:23:17,859 24988 genes overlap with model after filtering\n",
      "2022-03-25 10:23:17,861 1392 genes missing from dataset after filtering\n"
     ]
    },
    {
     "name": "stdout",
     "output_type": "stream",
     "text": [
      "epoch: 0, train loss: 2.156, val loss: 2.046, time: 1.03\n",
      "epoch: 1, train loss: 2.024, val loss: 1.912, time: 1.08\n",
      "epoch: 2, train loss: 1.947, val loss: 1.813, time: 1.06\n",
      "epoch: 3, train loss: 1.882, val loss: 1.747, time: 1.07\n",
      "epoch: 4, train loss: 1.848, val loss: 1.723, time: 1.06\n",
      "epoch: 5, train loss: 1.831, val loss: 1.705, time: 1.06\n",
      "epoch: 6, train loss: 1.811, val loss: 1.680, time: 1.05\n",
      "epoch: 7, train loss: 1.782, val loss: 1.639, time: 1.05\n",
      "epoch: 8, train loss: 1.747, val loss: 1.602, time: 1.05\n",
      "epoch: 9, train loss: 1.729, val loss: 1.585, time: 1.05\n",
      "epoch: 10, train loss: 1.707, val loss: 1.575, time: 1.06\n",
      "epoch: 11, train loss: 1.693, val loss: 1.566, time: 1.05\n",
      "epoch: 12, train loss: 1.690, val loss: 1.557, time: 1.07\n",
      "epoch: 13, train loss: 1.655, val loss: 1.547, time: 1.09\n",
      "epoch: 14, train loss: 1.634, val loss: 1.540, time: 1.08\n",
      "epoch: 15, train loss: 1.618, val loss: 1.533, time: 1.07\n",
      "epoch: 16, train loss: 1.609, val loss: 1.528, time: 1.07\n",
      "epoch: 17, train loss: 1.598, val loss: 1.523, time: 1.09\n",
      "epoch: 18, train loss: 1.589, val loss: 1.515, time: 1.07\n",
      "epoch: 19, train loss: 1.576, val loss: 1.503, time: 1.20\n",
      "epoch: 20, train loss: 1.562, val loss: 1.487, time: 0.98\n",
      "epoch: 21, train loss: 1.538, val loss: 1.466, time: 0.97\n",
      "epoch: 22, train loss: 1.524, val loss: 1.447, time: 1.05\n",
      "epoch: 23, train loss: 1.507, val loss: 1.432, time: 1.06\n",
      "epoch: 24, train loss: 1.488, val loss: 1.422, time: 1.06\n",
      "snRNAseq gbm fold1\n"
     ]
    },
    {
     "name": "stderr",
     "output_type": "stream",
     "text": [
      "2022-03-25 10:24:04,147 24951 genes overlap with model after filtering\n",
      "2022-03-25 10:24:04,147 1407 genes missing from dataset after filtering\n"
     ]
    },
    {
     "name": "stdout",
     "output_type": "stream",
     "text": [
      "epoch: 0, train loss: 2.179, val loss: 2.124, time: 0.97\n",
      "epoch: 1, train loss: 2.064, val loss: 1.901, time: 1.07\n",
      "epoch: 2, train loss: 1.885, val loss: 1.685, time: 1.07\n",
      "epoch: 3, train loss: 1.774, val loss: 1.574, time: 1.06\n",
      "epoch: 4, train loss: 1.711, val loss: 1.513, time: 1.07\n",
      "epoch: 5, train loss: 1.663, val loss: 1.480, time: 1.06\n",
      "epoch: 6, train loss: 1.634, val loss: 1.459, time: 1.07\n",
      "epoch: 7, train loss: 1.599, val loss: 1.447, time: 1.06\n",
      "epoch: 8, train loss: 1.587, val loss: 1.440, time: 1.06\n",
      "epoch: 9, train loss: 1.571, val loss: 1.435, time: 1.05\n",
      "epoch: 10, train loss: 1.562, val loss: 1.431, time: 1.06\n",
      "epoch: 11, train loss: 1.549, val loss: 1.426, time: 1.06\n",
      "epoch: 12, train loss: 1.533, val loss: 1.418, time: 1.08\n",
      "epoch: 13, train loss: 1.513, val loss: 1.408, time: 1.17\n",
      "epoch: 14, train loss: 1.486, val loss: 1.406, time: 1.08\n",
      "epoch: 15, train loss: 1.486, val loss: 1.403, time: 1.10\n",
      "epoch: 16, train loss: 1.479, val loss: 1.403, time: 1.07\n",
      "epoch: 17, train loss: 1.474, val loss: 1.402, time: 1.08\n",
      "epoch: 18, train loss: 1.467, val loss: 1.402, time: 1.07\n",
      "epoch: 19, train loss: 1.459, val loss: 1.401, time: 1.06\n",
      "epoch: 20, train loss: 1.457, val loss: 1.401, time: 1.06\n",
      "epoch: 21, train loss: 1.453, val loss: 1.401, time: 1.06\n",
      "epoch: 22, train loss: 1.462, val loss: 1.400, time: 1.06\n",
      "epoch: 23, train loss: 1.452, val loss: 1.400, time: 1.06\n",
      "epoch: 24, train loss: 1.449, val loss: 1.399, time: 1.06\n",
      "snATACseq ccrcc fold3\n"
     ]
    },
    {
     "name": "stderr",
     "output_type": "stream",
     "text": [
      "2022-03-25 10:24:50,846 19692 genes overlap with model after filtering\n",
      "2022-03-25 10:24:50,848 35 genes missing from dataset after filtering\n"
     ]
    },
    {
     "name": "stdout",
     "output_type": "stream",
     "text": [
      "epoch: 0, train loss: 1.778, val loss: 1.759, time: 0.78\n",
      "epoch: 1, train loss: 1.717, val loss: 1.672, time: 0.78\n",
      "epoch: 2, train loss: 1.612, val loss: 1.557, time: 0.78\n",
      "epoch: 3, train loss: 1.516, val loss: 1.480, time: 0.78\n",
      "epoch: 4, train loss: 1.451, val loss: 1.416, time: 0.78\n",
      "epoch: 5, train loss: 1.400, val loss: 1.369, time: 0.79\n",
      "epoch: 6, train loss: 1.359, val loss: 1.339, time: 0.77\n",
      "epoch: 7, train loss: 1.329, val loss: 1.309, time: 0.76\n",
      "epoch: 8, train loss: 1.295, val loss: 1.280, time: 0.76\n",
      "epoch: 9, train loss: 1.272, val loss: 1.255, time: 0.77\n",
      "epoch: 10, train loss: 1.240, val loss: 1.228, time: 0.76\n",
      "epoch: 11, train loss: 1.202, val loss: 1.194, time: 0.76\n",
      "epoch: 12, train loss: 1.177, val loss: 1.166, time: 0.77\n",
      "epoch: 13, train loss: 1.150, val loss: 1.152, time: 0.77\n",
      "epoch: 14, train loss: 1.133, val loss: 1.144, time: 0.77\n",
      "epoch: 15, train loss: 1.132, val loss: 1.137, time: 0.76\n",
      "epoch: 16, train loss: 1.122, val loss: 1.133, time: 0.78\n",
      "epoch: 17, train loss: 1.112, val loss: 1.130, time: 0.80\n",
      "epoch: 18, train loss: 1.116, val loss: 1.127, time: 0.81\n",
      "epoch: 19, train loss: 1.104, val loss: 1.126, time: 0.78\n",
      "epoch: 20, train loss: 1.111, val loss: 1.125, time: 0.78\n",
      "epoch: 21, train loss: 1.100, val loss: 1.123, time: 0.77\n",
      "epoch: 22, train loss: 1.101, val loss: 1.122, time: 0.79\n",
      "epoch: 23, train loss: 1.104, val loss: 1.121, time: 0.77\n",
      "epoch: 24, train loss: 1.094, val loss: 1.119, time: 0.79\n",
      "snATACseq ccrcc fold1\n"
     ]
    },
    {
     "name": "stderr",
     "output_type": "stream",
     "text": [
      "2022-03-25 10:25:28,808 19680 genes overlap with model after filtering\n",
      "2022-03-25 10:25:28,809 38 genes missing from dataset after filtering\n"
     ]
    },
    {
     "name": "stdout",
     "output_type": "stream",
     "text": [
      "epoch: 0, train loss: 1.787, val loss: 1.776, time: 0.72\n",
      "epoch: 1, train loss: 1.738, val loss: 1.697, time: 0.76\n",
      "epoch: 2, train loss: 1.663, val loss: 1.645, time: 0.76\n",
      "epoch: 3, train loss: 1.607, val loss: 1.584, time: 0.76\n",
      "epoch: 4, train loss: 1.554, val loss: 1.539, time: 0.78\n",
      "epoch: 5, train loss: 1.510, val loss: 1.489, time: 0.72\n",
      "epoch: 6, train loss: 1.446, val loss: 1.412, time: 0.67\n",
      "epoch: 7, train loss: 1.377, val loss: 1.337, time: 0.69\n",
      "epoch: 8, train loss: 1.310, val loss: 1.275, time: 0.76\n",
      "epoch: 9, train loss: 1.257, val loss: 1.223, time: 0.78\n",
      "epoch: 10, train loss: 1.202, val loss: 1.186, time: 0.76\n",
      "epoch: 11, train loss: 1.179, val loss: 1.165, time: 0.77\n",
      "epoch: 12, train loss: 1.164, val loss: 1.152, time: 0.76\n",
      "epoch: 13, train loss: 1.137, val loss: 1.144, time: 0.77\n",
      "epoch: 14, train loss: 1.136, val loss: 1.139, time: 0.76\n",
      "epoch: 15, train loss: 1.129, val loss: 1.135, time: 0.76\n",
      "epoch: 16, train loss: 1.119, val loss: 1.133, time: 0.76\n",
      "epoch: 17, train loss: 1.111, val loss: 1.131, time: 0.76\n",
      "epoch: 18, train loss: 1.113, val loss: 1.128, time: 0.76\n",
      "epoch: 19, train loss: 1.108, val loss: 1.126, time: 0.76\n",
      "epoch: 20, train loss: 1.107, val loss: 1.125, time: 0.76\n",
      "epoch: 21, train loss: 1.101, val loss: 1.122, time: 0.76\n",
      "epoch: 22, train loss: 1.100, val loss: 1.121, time: 0.76\n",
      "epoch: 23, train loss: 1.096, val loss: 1.119, time: 0.84\n",
      "epoch: 24, train loss: 1.093, val loss: 1.119, time: 0.78\n",
      "snATACseq ccrcc fold2\n"
     ]
    },
    {
     "name": "stderr",
     "output_type": "stream",
     "text": [
      "2022-03-25 10:26:05,778 19683 genes overlap with model after filtering\n",
      "2022-03-25 10:26:05,779 38 genes missing from dataset after filtering\n"
     ]
    },
    {
     "name": "stdout",
     "output_type": "stream",
     "text": [
      "epoch: 0, train loss: 1.788, val loss: 1.774, time: 0.74\n",
      "epoch: 1, train loss: 1.740, val loss: 1.711, time: 0.78\n",
      "epoch: 2, train loss: 1.695, val loss: 1.691, time: 0.77\n",
      "epoch: 3, train loss: 1.680, val loss: 1.681, time: 0.77\n",
      "epoch: 4, train loss: 1.658, val loss: 1.638, time: 0.77\n",
      "epoch: 5, train loss: 1.604, val loss: 1.575, time: 0.77\n",
      "epoch: 6, train loss: 1.561, val loss: 1.528, time: 0.77\n",
      "epoch: 7, train loss: 1.503, val loss: 1.462, time: 0.76\n",
      "epoch: 8, train loss: 1.444, val loss: 1.404, time: 0.77\n",
      "epoch: 9, train loss: 1.398, val loss: 1.370, time: 0.77\n",
      "epoch: 10, train loss: 1.381, val loss: 1.356, time: 0.77\n",
      "epoch: 11, train loss: 1.361, val loss: 1.347, time: 0.77\n",
      "epoch: 12, train loss: 1.349, val loss: 1.338, time: 0.84\n",
      "epoch: 13, train loss: 1.339, val loss: 1.329, time: 0.77\n",
      "epoch: 14, train loss: 1.328, val loss: 1.318, time: 0.78\n",
      "epoch: 15, train loss: 1.303, val loss: 1.289, time: 0.79\n",
      "epoch: 16, train loss: 1.266, val loss: 1.235, time: 0.78\n",
      "epoch: 17, train loss: 1.228, val loss: 1.212, time: 0.77\n",
      "epoch: 18, train loss: 1.211, val loss: 1.202, time: 0.77\n",
      "epoch: 19, train loss: 1.201, val loss: 1.194, time: 0.77\n",
      "epoch: 20, train loss: 1.197, val loss: 1.185, time: 0.77\n",
      "epoch: 21, train loss: 1.181, val loss: 1.173, time: 0.76\n",
      "epoch: 22, train loss: 1.169, val loss: 1.159, time: 0.76\n",
      "epoch: 23, train loss: 1.155, val loss: 1.143, time: 0.77\n",
      "epoch: 24, train loss: 1.145, val loss: 1.130, time: 0.79\n",
      "snATACseq ccrcc fold0\n"
     ]
    },
    {
     "name": "stderr",
     "output_type": "stream",
     "text": [
      "2022-03-25 10:26:44,042 19682 genes overlap with model after filtering\n",
      "2022-03-25 10:26:44,043 37 genes missing from dataset after filtering\n"
     ]
    },
    {
     "name": "stdout",
     "output_type": "stream",
     "text": [
      "epoch: 0, train loss: 1.788, val loss: 1.781, time: 0.74\n",
      "epoch: 1, train loss: 1.770, val loss: 1.757, time: 0.76\n",
      "epoch: 2, train loss: 1.726, val loss: 1.688, time: 0.79\n",
      "epoch: 3, train loss: 1.639, val loss: 1.595, time: 0.79\n",
      "epoch: 4, train loss: 1.544, val loss: 1.491, time: 0.79\n",
      "epoch: 5, train loss: 1.435, val loss: 1.367, time: 0.77\n",
      "epoch: 6, train loss: 1.322, val loss: 1.259, time: 0.78\n",
      "epoch: 7, train loss: 1.256, val loss: 1.196, time: 0.69\n",
      "epoch: 8, train loss: 1.202, val loss: 1.165, time: 0.71\n",
      "epoch: 9, train loss: 1.175, val loss: 1.149, time: 0.70\n",
      "epoch: 10, train loss: 1.153, val loss: 1.140, time: 0.72\n",
      "epoch: 11, train loss: 1.142, val loss: 1.133, time: 0.77\n",
      "epoch: 12, train loss: 1.129, val loss: 1.130, time: 0.76\n",
      "epoch: 13, train loss: 1.123, val loss: 1.126, time: 0.77\n",
      "epoch: 14, train loss: 1.115, val loss: 1.125, time: 0.77\n",
      "epoch: 15, train loss: 1.112, val loss: 1.122, time: 0.77\n",
      "epoch: 16, train loss: 1.105, val loss: 1.121, time: 0.75\n",
      "epoch: 17, train loss: 1.105, val loss: 1.120, time: 0.77\n",
      "epoch: 18, train loss: 1.108, val loss: 1.120, time: 0.79\n",
      "epoch: 19, train loss: 1.100, val loss: 1.119, time: 0.78\n",
      "epoch: 20, train loss: 1.097, val loss: 1.118, time: 0.78\n",
      "epoch: 21, train loss: 1.093, val loss: 1.117, time: 0.78\n",
      "epoch: 22, train loss: 1.093, val loss: 1.117, time: 0.79\n",
      "epoch: 23, train loss: 1.094, val loss: 1.116, time: 0.79\n",
      "epoch: 24, train loss: 1.095, val loss: 1.116, time: 0.78\n",
      "snATACseq ccrcc fold4\n"
     ]
    },
    {
     "name": "stderr",
     "output_type": "stream",
     "text": [
      "2022-03-25 10:27:21,681 19685 genes overlap with model after filtering\n",
      "2022-03-25 10:27:21,683 47 genes missing from dataset after filtering\n"
     ]
    },
    {
     "name": "stdout",
     "output_type": "stream",
     "text": [
      "epoch: 0, train loss: 1.787, val loss: 1.779, time: 0.73\n",
      "epoch: 1, train loss: 1.757, val loss: 1.729, time: 0.79\n",
      "epoch: 2, train loss: 1.658, val loss: 1.596, time: 0.76\n",
      "epoch: 3, train loss: 1.538, val loss: 1.489, time: 0.77\n",
      "epoch: 4, train loss: 1.462, val loss: 1.430, time: 0.77\n",
      "epoch: 5, train loss: 1.418, val loss: 1.395, time: 0.76\n",
      "epoch: 6, train loss: 1.393, val loss: 1.378, time: 0.77\n",
      "epoch: 7, train loss: 1.383, val loss: 1.369, time: 0.83\n",
      "epoch: 8, train loss: 1.370, val loss: 1.362, time: 0.78\n",
      "epoch: 9, train loss: 1.355, val loss: 1.357, time: 0.78\n",
      "epoch: 10, train loss: 1.356, val loss: 1.353, time: 0.77\n",
      "epoch: 11, train loss: 1.347, val loss: 1.349, time: 0.78\n",
      "epoch: 12, train loss: 1.346, val loss: 1.345, time: 0.78\n",
      "epoch: 13, train loss: 1.347, val loss: 1.342, time: 0.80\n",
      "epoch: 14, train loss: 1.339, val loss: 1.339, time: 0.78\n",
      "epoch: 15, train loss: 1.331, val loss: 1.336, time: 0.77\n",
      "epoch: 16, train loss: 1.335, val loss: 1.331, time: 0.79\n",
      "epoch: 17, train loss: 1.329, val loss: 1.325, time: 0.72\n",
      "epoch: 18, train loss: 1.310, val loss: 1.313, time: 0.76\n",
      "epoch: 19, train loss: 1.301, val loss: 1.288, time: 0.76\n",
      "epoch: 20, train loss: 1.272, val loss: 1.244, time: 0.77\n",
      "epoch: 21, train loss: 1.232, val loss: 1.209, time: 0.77\n",
      "epoch: 22, train loss: 1.210, val loss: 1.181, time: 0.77\n",
      "epoch: 23, train loss: 1.175, val loss: 1.159, time: 0.81\n",
      "epoch: 24, train loss: 1.167, val loss: 1.149, time: 0.73\n",
      "snATACseq brca fold2\n"
     ]
    },
    {
     "name": "stderr",
     "output_type": "stream",
     "text": [
      "2022-03-25 10:28:00,427 19694 genes overlap with model after filtering\n",
      "2022-03-25 10:28:00,428 21 genes missing from dataset after filtering\n"
     ]
    },
    {
     "name": "stdout",
     "output_type": "stream",
     "text": [
      "epoch: 0, train loss: 2.061, val loss: 2.025, time: 0.90\n",
      "epoch: 1, train loss: 1.987, val loss: 1.933, time: 0.95\n",
      "epoch: 2, train loss: 1.893, val loss: 1.822, time: 0.96\n",
      "epoch: 3, train loss: 1.800, val loss: 1.732, time: 0.95\n",
      "epoch: 4, train loss: 1.735, val loss: 1.683, time: 0.95\n",
      "epoch: 5, train loss: 1.697, val loss: 1.640, time: 0.95\n",
      "epoch: 6, train loss: 1.651, val loss: 1.601, time: 0.95\n",
      "epoch: 7, train loss: 1.621, val loss: 1.583, time: 0.90\n",
      "epoch: 8, train loss: 1.613, val loss: 1.574, time: 0.94\n",
      "epoch: 9, train loss: 1.600, val loss: 1.568, time: 0.93\n",
      "epoch: 10, train loss: 1.592, val loss: 1.564, time: 1.02\n",
      "epoch: 11, train loss: 1.585, val loss: 1.562, time: 0.94\n",
      "epoch: 12, train loss: 1.589, val loss: 1.561, time: 0.96\n",
      "epoch: 13, train loss: 1.578, val loss: 1.558, time: 1.07\n",
      "epoch: 14, train loss: 1.567, val loss: 1.556, time: 0.87\n",
      "epoch: 15, train loss: 1.564, val loss: 1.555, time: 0.96\n",
      "epoch: 16, train loss: 1.562, val loss: 1.553, time: 0.91\n",
      "epoch: 17, train loss: 1.561, val loss: 1.552, time: 0.94\n",
      "epoch: 18, train loss: 1.556, val loss: 1.550, time: 0.95\n",
      "epoch: 19, train loss: 1.548, val loss: 1.549, time: 0.80\n",
      "epoch: 20, train loss: 1.547, val loss: 1.546, time: 0.88\n",
      "epoch: 21, train loss: 1.541, val loss: 1.541, time: 0.89\n",
      "epoch: 22, train loss: 1.539, val loss: 1.529, time: 0.97\n",
      "epoch: 23, train loss: 1.517, val loss: 1.491, time: 0.97\n",
      "epoch: 24, train loss: 1.486, val loss: 1.460, time: 0.93\n",
      "snATACseq brca fold1\n"
     ]
    },
    {
     "name": "stderr",
     "output_type": "stream",
     "text": [
      "2022-03-25 10:28:47,555 19694 genes overlap with model after filtering\n",
      "2022-03-25 10:28:47,555 24 genes missing from dataset after filtering\n"
     ]
    },
    {
     "name": "stdout",
     "output_type": "stream",
     "text": [
      "epoch: 0, train loss: 2.081, val loss: 2.074, time: 0.87\n",
      "epoch: 1, train loss: 2.035, val loss: 1.979, time: 0.96\n",
      "epoch: 2, train loss: 1.932, val loss: 1.872, time: 0.95\n",
      "epoch: 3, train loss: 1.797, val loss: 1.683, time: 0.94\n",
      "epoch: 4, train loss: 1.663, val loss: 1.563, time: 0.93\n",
      "epoch: 5, train loss: 1.579, val loss: 1.502, time: 0.93\n",
      "epoch: 6, train loss: 1.537, val loss: 1.474, time: 0.93\n",
      "epoch: 7, train loss: 1.504, val loss: 1.455, time: 0.93\n",
      "epoch: 8, train loss: 1.492, val loss: 1.439, time: 0.94\n",
      "epoch: 9, train loss: 1.467, val loss: 1.420, time: 1.00\n",
      "epoch: 10, train loss: 1.442, val loss: 1.398, time: 0.88\n",
      "epoch: 11, train loss: 1.418, val loss: 1.381, time: 0.99\n",
      "epoch: 12, train loss: 1.408, val loss: 1.372, time: 0.94\n",
      "epoch: 13, train loss: 1.400, val loss: 1.368, time: 0.94\n",
      "epoch: 14, train loss: 1.382, val loss: 1.364, time: 0.94\n",
      "epoch: 15, train loss: 1.383, val loss: 1.364, time: 0.95\n",
      "epoch: 16, train loss: 1.377, val loss: 1.362, time: 0.94\n",
      "epoch: 17, train loss: 1.374, val loss: 1.362, time: 0.94\n",
      "epoch: 18, train loss: 1.367, val loss: 1.360, time: 0.93\n",
      "epoch: 19, train loss: 1.368, val loss: 1.361, time: 0.97\n",
      "epoch: 20, train loss: 1.362, val loss: 1.363, time: 0.93\n",
      "epoch: 21, train loss: 1.360, val loss: 1.362, time: 0.92\n",
      "epoch: 22, train loss: 1.357, val loss: 1.358, time: 0.93\n",
      "epoch: 23, train loss: 1.352, val loss: 1.358, time: 0.93\n",
      "epoch: 24, train loss: 1.360, val loss: 1.359, time: 0.96\n",
      "snATACseq brca fold3\n"
     ]
    },
    {
     "name": "stderr",
     "output_type": "stream",
     "text": [
      "2022-03-25 10:29:35,784 19698 genes overlap with model after filtering\n",
      "2022-03-25 10:29:35,785 25 genes missing from dataset after filtering\n"
     ]
    },
    {
     "name": "stdout",
     "output_type": "stream",
     "text": [
      "epoch: 0, train loss: 2.073, val loss: 2.062, time: 0.91\n",
      "epoch: 1, train loss: 2.034, val loss: 1.982, time: 0.94\n",
      "epoch: 2, train loss: 1.927, val loss: 1.845, time: 0.96\n",
      "epoch: 3, train loss: 1.831, val loss: 1.770, time: 0.96\n",
      "epoch: 4, train loss: 1.774, val loss: 1.708, time: 0.94\n",
      "epoch: 5, train loss: 1.717, val loss: 1.634, time: 0.99\n",
      "epoch: 6, train loss: 1.658, val loss: 1.591, time: 0.94\n",
      "epoch: 7, train loss: 1.621, val loss: 1.569, time: 0.92\n",
      "epoch: 8, train loss: 1.605, val loss: 1.554, time: 0.95\n",
      "epoch: 9, train loss: 1.596, val loss: 1.541, time: 0.96\n",
      "epoch: 10, train loss: 1.572, val loss: 1.525, time: 1.05\n",
      "epoch: 11, train loss: 1.557, val loss: 1.504, time: 0.98\n",
      "epoch: 12, train loss: 1.527, val loss: 1.483, time: 1.10\n",
      "epoch: 13, train loss: 1.520, val loss: 1.468, time: 0.89\n",
      "epoch: 14, train loss: 1.495, val loss: 1.462, time: 0.96\n",
      "epoch: 15, train loss: 1.488, val loss: 1.456, time: 0.95\n",
      "epoch: 16, train loss: 1.478, val loss: 1.452, time: 0.97\n",
      "epoch: 17, train loss: 1.470, val loss: 1.447, time: 0.97\n",
      "epoch: 18, train loss: 1.464, val loss: 1.444, time: 1.00\n",
      "epoch: 19, train loss: 1.459, val loss: 1.439, time: 1.02\n",
      "epoch: 20, train loss: 1.454, val loss: 1.433, time: 0.88\n",
      "epoch: 21, train loss: 1.445, val loss: 1.425, time: 0.92\n",
      "epoch: 22, train loss: 1.435, val loss: 1.416, time: 0.95\n",
      "epoch: 23, train loss: 1.418, val loss: 1.403, time: 0.97\n",
      "epoch: 24, train loss: 1.408, val loss: 1.388, time: 1.04\n",
      "snATACseq brca fold0\n"
     ]
    },
    {
     "name": "stderr",
     "output_type": "stream",
     "text": [
      "2022-03-25 10:30:24,317 19696 genes overlap with model after filtering\n",
      "2022-03-25 10:30:24,318 22 genes missing from dataset after filtering\n"
     ]
    },
    {
     "name": "stdout",
     "output_type": "stream",
     "text": [
      "epoch: 0, train loss: 2.077, val loss: 2.063, time: 0.99\n",
      "epoch: 1, train loss: 2.022, val loss: 1.949, time: 1.03\n",
      "epoch: 2, train loss: 1.893, val loss: 1.808, time: 1.02\n",
      "epoch: 3, train loss: 1.790, val loss: 1.714, time: 1.02\n",
      "epoch: 4, train loss: 1.712, val loss: 1.641, time: 1.02\n",
      "epoch: 5, train loss: 1.666, val loss: 1.598, time: 1.02\n",
      "epoch: 6, train loss: 1.629, val loss: 1.576, time: 1.03\n",
      "epoch: 7, train loss: 1.608, val loss: 1.565, time: 1.03\n",
      "epoch: 8, train loss: 1.594, val loss: 1.555, time: 1.03\n",
      "epoch: 9, train loss: 1.581, val loss: 1.547, time: 1.05\n",
      "epoch: 10, train loss: 1.571, val loss: 1.541, time: 1.04\n",
      "epoch: 11, train loss: 1.558, val loss: 1.532, time: 1.03\n",
      "epoch: 12, train loss: 1.539, val loss: 1.515, time: 1.05\n",
      "epoch: 13, train loss: 1.525, val loss: 1.483, time: 1.05\n",
      "epoch: 14, train loss: 1.488, val loss: 1.441, time: 1.00\n",
      "epoch: 15, train loss: 1.471, val loss: 1.428, time: 1.02\n",
      "epoch: 16, train loss: 1.445, val loss: 1.418, time: 1.02\n",
      "epoch: 17, train loss: 1.434, val loss: 1.405, time: 1.02\n",
      "epoch: 18, train loss: 1.416, val loss: 1.393, time: 1.03\n",
      "epoch: 19, train loss: 1.401, val loss: 1.380, time: 1.04\n",
      "epoch: 20, train loss: 1.392, val loss: 1.374, time: 1.03\n",
      "epoch: 21, train loss: 1.377, val loss: 1.365, time: 1.01\n",
      "epoch: 22, train loss: 1.370, val loss: 1.362, time: 1.04\n",
      "epoch: 23, train loss: 1.370, val loss: 1.359, time: 1.00\n",
      "epoch: 24, train loss: 1.364, val loss: 1.356, time: 1.05\n",
      "snATACseq brca fold4\n"
     ]
    },
    {
     "name": "stderr",
     "output_type": "stream",
     "text": [
      "2022-03-25 10:31:15,139 19689 genes overlap with model after filtering\n",
      "2022-03-25 10:31:15,141 24 genes missing from dataset after filtering\n"
     ]
    },
    {
     "name": "stdout",
     "output_type": "stream",
     "text": [
      "epoch: 0, train loss: 2.078, val loss: 2.075, time: 0.98\n",
      "epoch: 1, train loss: 2.066, val loss: 2.047, time: 1.04\n",
      "epoch: 2, train loss: 2.005, val loss: 1.948, time: 0.95\n",
      "epoch: 3, train loss: 1.916, val loss: 1.841, time: 0.95\n",
      "epoch: 4, train loss: 1.819, val loss: 1.746, time: 1.04\n",
      "epoch: 5, train loss: 1.752, val loss: 1.690, time: 0.95\n",
      "epoch: 6, train loss: 1.697, val loss: 1.645, time: 0.95\n",
      "epoch: 7, train loss: 1.639, val loss: 1.569, time: 0.88\n",
      "epoch: 8, train loss: 1.570, val loss: 1.513, time: 0.99\n",
      "epoch: 9, train loss: 1.531, val loss: 1.490, time: 1.01\n",
      "epoch: 10, train loss: 1.512, val loss: 1.478, time: 1.01\n",
      "epoch: 11, train loss: 1.503, val loss: 1.469, time: 0.94\n",
      "epoch: 12, train loss: 1.490, val loss: 1.464, time: 1.24\n",
      "epoch: 13, train loss: 1.478, val loss: 1.459, time: 0.86\n",
      "epoch: 14, train loss: 1.478, val loss: 1.456, time: 0.87\n",
      "epoch: 15, train loss: 1.465, val loss: 1.453, time: 0.89\n",
      "epoch: 16, train loss: 1.465, val loss: 1.451, time: 0.94\n",
      "epoch: 17, train loss: 1.459, val loss: 1.447, time: 0.93\n",
      "epoch: 18, train loss: 1.452, val loss: 1.443, time: 0.99\n",
      "epoch: 19, train loss: 1.454, val loss: 1.440, time: 0.98\n",
      "epoch: 20, train loss: 1.448, val loss: 1.435, time: 0.86\n",
      "epoch: 21, train loss: 1.441, val loss: 1.425, time: 0.87\n",
      "epoch: 22, train loss: 1.433, val loss: 1.404, time: 0.98\n",
      "epoch: 23, train loss: 1.394, val loss: 1.371, time: 0.93\n",
      "epoch: 24, train loss: 1.374, val loss: 1.357, time: 0.95\n",
      "snATACseq gbm fold4\n"
     ]
    },
    {
     "name": "stderr",
     "output_type": "stream",
     "text": [
      "2022-03-25 10:32:01,965 19680 genes overlap with model after filtering\n",
      "2022-03-25 10:32:01,967 47 genes missing from dataset after filtering\n"
     ]
    },
    {
     "name": "stdout",
     "output_type": "stream",
     "text": [
      "epoch: 0, train loss: 2.078, val loss: 2.074, time: 0.91\n",
      "epoch: 1, train loss: 2.049, val loss: 2.028, time: 0.96\n",
      "epoch: 2, train loss: 1.978, val loss: 1.938, time: 0.97\n",
      "epoch: 3, train loss: 1.889, val loss: 1.841, time: 0.99\n",
      "epoch: 4, train loss: 1.812, val loss: 1.783, time: 0.98\n",
      "epoch: 5, train loss: 1.731, val loss: 1.654, time: 1.02\n",
      "epoch: 6, train loss: 1.657, val loss: 1.621, time: 0.98\n",
      "epoch: 7, train loss: 1.617, val loss: 1.588, time: 0.97\n",
      "epoch: 8, train loss: 1.579, val loss: 1.539, time: 0.97\n",
      "epoch: 9, train loss: 1.523, val loss: 1.463, time: 0.97\n",
      "epoch: 10, train loss: 1.469, val loss: 1.410, time: 0.99\n",
      "epoch: 11, train loss: 1.444, val loss: 1.381, time: 0.96\n",
      "epoch: 12, train loss: 1.423, val loss: 1.366, time: 0.97\n",
      "epoch: 13, train loss: 1.410, val loss: 1.357, time: 0.97\n",
      "epoch: 14, train loss: 1.394, val loss: 1.352, time: 0.97\n",
      "epoch: 15, train loss: 1.386, val loss: 1.348, time: 0.96\n",
      "epoch: 16, train loss: 1.379, val loss: 1.346, time: 0.96\n",
      "epoch: 17, train loss: 1.383, val loss: 1.343, time: 0.97\n",
      "epoch: 18, train loss: 1.377, val loss: 1.341, time: 0.97\n",
      "epoch: 19, train loss: 1.372, val loss: 1.340, time: 0.97\n",
      "epoch: 20, train loss: 1.368, val loss: 1.336, time: 0.97\n",
      "epoch: 21, train loss: 1.361, val loss: 1.336, time: 1.07\n",
      "epoch: 22, train loss: 1.362, val loss: 1.335, time: 0.98\n",
      "epoch: 23, train loss: 1.363, val loss: 1.336, time: 1.00\n",
      "epoch: 24, train loss: 1.358, val loss: 1.334, time: 0.99\n",
      "snATACseq gbm fold3\n"
     ]
    },
    {
     "name": "stderr",
     "output_type": "stream",
     "text": [
      "2022-03-25 10:32:47,566 19686 genes overlap with model after filtering\n",
      "2022-03-25 10:32:47,567 33 genes missing from dataset after filtering\n"
     ]
    },
    {
     "name": "stdout",
     "output_type": "stream",
     "text": [
      "epoch: 0, train loss: 2.073, val loss: 2.059, time: 0.92\n",
      "epoch: 1, train loss: 2.022, val loss: 1.951, time: 1.01\n",
      "epoch: 2, train loss: 1.926, val loss: 1.845, time: 0.98\n",
      "epoch: 3, train loss: 1.828, val loss: 1.734, time: 0.98\n",
      "epoch: 4, train loss: 1.734, val loss: 1.643, time: 0.99\n",
      "epoch: 5, train loss: 1.670, val loss: 1.589, time: 0.99\n",
      "epoch: 6, train loss: 1.628, val loss: 1.559, time: 1.00\n",
      "epoch: 7, train loss: 1.612, val loss: 1.539, time: 1.19\n",
      "epoch: 8, train loss: 1.593, val loss: 1.524, time: 0.97\n",
      "epoch: 9, train loss: 1.575, val loss: 1.502, time: 0.99\n",
      "epoch: 10, train loss: 1.552, val loss: 1.467, time: 0.97\n",
      "epoch: 11, train loss: 1.518, val loss: 1.425, time: 0.98\n",
      "epoch: 12, train loss: 1.501, val loss: 1.401, time: 0.98\n",
      "epoch: 13, train loss: 1.473, val loss: 1.388, time: 0.97\n",
      "epoch: 14, train loss: 1.459, val loss: 1.382, time: 0.97\n",
      "epoch: 15, train loss: 1.461, val loss: 1.375, time: 0.97\n",
      "epoch: 16, train loss: 1.444, val loss: 1.373, time: 0.97\n",
      "epoch: 17, train loss: 1.433, val loss: 1.371, time: 0.96\n",
      "epoch: 18, train loss: 1.423, val loss: 1.366, time: 0.96\n",
      "epoch: 19, train loss: 1.423, val loss: 1.361, time: 0.96\n",
      "epoch: 20, train loss: 1.412, val loss: 1.357, time: 0.90\n",
      "epoch: 21, train loss: 1.402, val loss: 1.354, time: 0.91\n",
      "epoch: 22, train loss: 1.409, val loss: 1.354, time: 0.99\n",
      "epoch: 23, train loss: 1.404, val loss: 1.351, time: 0.93\n",
      "epoch: 24, train loss: 1.392, val loss: 1.351, time: 0.98\n",
      "snATACseq gbm fold0\n"
     ]
    },
    {
     "name": "stderr",
     "output_type": "stream",
     "text": [
      "2022-03-25 10:33:33,068 19692 genes overlap with model after filtering\n",
      "2022-03-25 10:33:33,069 35 genes missing from dataset after filtering\n"
     ]
    },
    {
     "name": "stdout",
     "output_type": "stream",
     "text": [
      "epoch: 0, train loss: 2.071, val loss: 2.065, time: 0.89\n",
      "epoch: 1, train loss: 2.055, val loss: 2.033, time: 0.96\n",
      "epoch: 2, train loss: 1.991, val loss: 1.903, time: 0.79\n",
      "epoch: 3, train loss: 1.892, val loss: 1.785, time: 0.81\n",
      "epoch: 4, train loss: 1.799, val loss: 1.672, time: 0.90\n",
      "epoch: 5, train loss: 1.697, val loss: 1.566, time: 0.98\n",
      "epoch: 6, train loss: 1.622, val loss: 1.510, time: 1.20\n",
      "epoch: 7, train loss: 1.573, val loss: 1.470, time: 0.96\n",
      "epoch: 8, train loss: 1.542, val loss: 1.434, time: 0.96\n",
      "epoch: 9, train loss: 1.512, val loss: 1.408, time: 0.97\n",
      "epoch: 10, train loss: 1.485, val loss: 1.387, time: 0.86\n",
      "epoch: 11, train loss: 1.463, val loss: 1.376, time: 0.92\n",
      "epoch: 12, train loss: 1.449, val loss: 1.365, time: 0.92\n",
      "epoch: 13, train loss: 1.444, val loss: 1.356, time: 0.91\n",
      "epoch: 14, train loss: 1.426, val loss: 1.352, time: 0.92\n",
      "epoch: 15, train loss: 1.420, val loss: 1.347, time: 0.92\n",
      "epoch: 16, train loss: 1.411, val loss: 1.342, time: 0.91\n",
      "epoch: 17, train loss: 1.391, val loss: 1.337, time: 1.00\n",
      "epoch: 18, train loss: 1.399, val loss: 1.334, time: 1.04\n",
      "epoch: 19, train loss: 1.395, val loss: 1.331, time: 1.11\n",
      "epoch: 20, train loss: 1.379, val loss: 1.329, time: 0.95\n",
      "epoch: 21, train loss: 1.381, val loss: 1.329, time: 1.00\n",
      "epoch: 22, train loss: 1.373, val loss: 1.327, time: 1.00\n",
      "epoch: 23, train loss: 1.373, val loss: 1.326, time: 1.00\n",
      "epoch: 24, train loss: 1.363, val loss: 1.325, time: 0.99\n",
      "snATACseq gbm fold2\n"
     ]
    },
    {
     "name": "stderr",
     "output_type": "stream",
     "text": [
      "2022-03-25 10:34:16,533 19692 genes overlap with model after filtering\n",
      "2022-03-25 10:34:16,534 32 genes missing from dataset after filtering\n"
     ]
    },
    {
     "name": "stdout",
     "output_type": "stream",
     "text": [
      "epoch: 0, train loss: 2.051, val loss: 1.977, time: 0.94\n",
      "epoch: 1, train loss: 1.939, val loss: 1.843, time: 0.95\n",
      "epoch: 2, train loss: 1.861, val loss: 1.767, time: 0.99\n",
      "epoch: 3, train loss: 1.793, val loss: 1.702, time: 0.98\n",
      "epoch: 4, train loss: 1.758, val loss: 1.668, time: 1.03\n",
      "epoch: 5, train loss: 1.719, val loss: 1.620, time: 1.02\n",
      "epoch: 6, train loss: 1.683, val loss: 1.580, time: 0.99\n",
      "epoch: 7, train loss: 1.646, val loss: 1.554, time: 1.00\n",
      "epoch: 8, train loss: 1.618, val loss: 1.530, time: 0.95\n",
      "epoch: 9, train loss: 1.574, val loss: 1.509, time: 0.98\n",
      "epoch: 10, train loss: 1.553, val loss: 1.495, time: 0.99\n",
      "epoch: 11, train loss: 1.530, val loss: 1.486, time: 0.99\n",
      "epoch: 12, train loss: 1.517, val loss: 1.481, time: 0.98\n",
      "epoch: 13, train loss: 1.506, val loss: 1.474, time: 0.98\n",
      "epoch: 14, train loss: 1.508, val loss: 1.466, time: 0.99\n",
      "epoch: 15, train loss: 1.491, val loss: 1.452, time: 0.96\n",
      "epoch: 16, train loss: 1.470, val loss: 1.414, time: 0.94\n",
      "epoch: 17, train loss: 1.440, val loss: 1.371, time: 0.99\n",
      "epoch: 18, train loss: 1.424, val loss: 1.352, time: 0.99\n",
      "epoch: 19, train loss: 1.416, val loss: 1.346, time: 1.08\n",
      "epoch: 20, train loss: 1.407, val loss: 1.345, time: 0.97\n",
      "epoch: 21, train loss: 1.400, val loss: 1.341, time: 1.00\n",
      "epoch: 22, train loss: 1.389, val loss: 1.340, time: 1.00\n",
      "epoch: 23, train loss: 1.382, val loss: 1.340, time: 0.90\n",
      "epoch: 24, train loss: 1.386, val loss: 1.340, time: 0.93\n",
      "snATACseq gbm fold1\n"
     ]
    },
    {
     "name": "stderr",
     "output_type": "stream",
     "text": [
      "2022-03-25 10:35:00,552 19694 genes overlap with model after filtering\n",
      "2022-03-25 10:35:00,553 31 genes missing from dataset after filtering\n"
     ]
    },
    {
     "name": "stdout",
     "output_type": "stream",
     "text": [
      "epoch: 0, train loss: 2.069, val loss: 2.055, time: 0.86\n",
      "epoch: 1, train loss: 2.011, val loss: 1.960, time: 0.90\n",
      "epoch: 2, train loss: 1.898, val loss: 1.853, time: 0.93\n",
      "epoch: 3, train loss: 1.815, val loss: 1.791, time: 0.92\n",
      "epoch: 4, train loss: 1.751, val loss: 1.751, time: 0.97\n",
      "epoch: 5, train loss: 1.704, val loss: 1.722, time: 0.99\n",
      "epoch: 6, train loss: 1.680, val loss: 1.699, time: 0.87\n",
      "epoch: 7, train loss: 1.649, val loss: 1.659, time: 0.86\n",
      "epoch: 8, train loss: 1.617, val loss: 1.610, time: 0.85\n",
      "epoch: 9, train loss: 1.590, val loss: 1.561, time: 0.93\n",
      "epoch: 10, train loss: 1.548, val loss: 1.523, time: 0.91\n",
      "epoch: 11, train loss: 1.526, val loss: 1.501, time: 0.99\n",
      "epoch: 12, train loss: 1.513, val loss: 1.492, time: 0.92\n",
      "epoch: 13, train loss: 1.498, val loss: 1.483, time: 0.94\n",
      "epoch: 14, train loss: 1.493, val loss: 1.479, time: 0.97\n",
      "epoch: 15, train loss: 1.484, val loss: 1.477, time: 0.84\n",
      "epoch: 16, train loss: 1.473, val loss: 1.472, time: 0.88\n",
      "epoch: 17, train loss: 1.479, val loss: 1.469, time: 0.86\n",
      "epoch: 18, train loss: 1.470, val loss: 1.467, time: 0.94\n",
      "epoch: 19, train loss: 1.470, val loss: 1.464, time: 0.94\n",
      "epoch: 20, train loss: 1.461, val loss: 1.461, time: 0.94\n",
      "epoch: 21, train loss: 1.457, val loss: 1.459, time: 0.94\n",
      "epoch: 22, train loss: 1.452, val loss: 1.455, time: 0.97\n",
      "epoch: 23, train loss: 1.447, val loss: 1.450, time: 0.96\n",
      "epoch: 24, train loss: 1.443, val loss: 1.442, time: 0.98\n",
      "scRNAseq hnscc fold0\n"
     ]
    },
    {
     "name": "stderr",
     "output_type": "stream",
     "text": [
      "2022-03-25 10:35:42,994 21815 genes overlap with model after filtering\n",
      "2022-03-25 10:35:42,994 1132 genes missing from dataset after filtering\n"
     ]
    },
    {
     "name": "stdout",
     "output_type": "stream",
     "text": [
      "epoch: 0, train loss: 2.249, val loss: 2.082, time: 1.33\n",
      "epoch: 1, train loss: 1.979, val loss: 1.945, time: 1.36\n",
      "epoch: 2, train loss: 1.862, val loss: 1.853, time: 1.54\n",
      "epoch: 3, train loss: 1.774, val loss: 1.786, time: 1.35\n",
      "epoch: 4, train loss: 1.709, val loss: 1.740, time: 1.35\n",
      "epoch: 5, train loss: 1.667, val loss: 1.719, time: 1.38\n",
      "epoch: 6, train loss: 1.641, val loss: 1.708, time: 1.33\n",
      "epoch: 7, train loss: 1.623, val loss: 1.700, time: 1.33\n",
      "epoch: 8, train loss: 1.611, val loss: 1.696, time: 1.32\n",
      "epoch: 9, train loss: 1.601, val loss: 1.691, time: 1.33\n",
      "scRNAseq hnscc fold4\n"
     ]
    },
    {
     "name": "stderr",
     "output_type": "stream",
     "text": [
      "2022-03-25 10:36:11,770 21953 genes overlap with model after filtering\n",
      "2022-03-25 10:36:11,771 1017 genes missing from dataset after filtering\n"
     ]
    },
    {
     "name": "stdout",
     "output_type": "stream",
     "text": [
      "epoch: 0, train loss: 2.244, val loss: 2.104, time: 1.55\n",
      "epoch: 1, train loss: 1.978, val loss: 1.903, time: 1.35\n",
      "epoch: 2, train loss: 1.830, val loss: 1.809, time: 1.37\n",
      "epoch: 3, train loss: 1.754, val loss: 1.774, time: 1.36\n",
      "epoch: 4, train loss: 1.721, val loss: 1.761, time: 1.30\n",
      "epoch: 5, train loss: 1.699, val loss: 1.753, time: 1.37\n",
      "epoch: 6, train loss: 1.687, val loss: 1.748, time: 1.33\n",
      "epoch: 7, train loss: 1.677, val loss: 1.743, time: 1.31\n",
      "epoch: 8, train loss: 1.647, val loss: 1.715, time: 1.38\n",
      "epoch: 9, train loss: 1.615, val loss: 1.700, time: 1.50\n",
      "scRNAseq hnscc fold1\n"
     ]
    },
    {
     "name": "stderr",
     "output_type": "stream",
     "text": [
      "2022-03-25 10:36:41,570 21876 genes overlap with model after filtering\n",
      "2022-03-25 10:36:41,572 1029 genes missing from dataset after filtering\n"
     ]
    },
    {
     "name": "stdout",
     "output_type": "stream",
     "text": [
      "epoch: 0, train loss: 2.258, val loss: 2.055, time: 1.34\n",
      "epoch: 1, train loss: 1.960, val loss: 1.888, time: 1.33\n",
      "epoch: 2, train loss: 1.816, val loss: 1.797, time: 1.32\n",
      "epoch: 3, train loss: 1.745, val loss: 1.762, time: 1.32\n",
      "epoch: 4, train loss: 1.710, val loss: 1.743, time: 1.32\n",
      "epoch: 5, train loss: 1.664, val loss: 1.716, time: 1.29\n",
      "epoch: 6, train loss: 1.634, val loss: 1.706, time: 1.39\n",
      "epoch: 7, train loss: 1.615, val loss: 1.701, time: 1.28\n",
      "epoch: 8, train loss: 1.604, val loss: 1.697, time: 1.27\n",
      "epoch: 9, train loss: 1.597, val loss: 1.694, time: 1.26\n",
      "scRNAseq hnscc fold3\n"
     ]
    },
    {
     "name": "stderr",
     "output_type": "stream",
     "text": [
      "2022-03-25 10:37:09,575 21868 genes overlap with model after filtering\n",
      "2022-03-25 10:37:09,579 1038 genes missing from dataset after filtering\n"
     ]
    },
    {
     "name": "stdout",
     "output_type": "stream",
     "text": [
      "epoch: 0, train loss: 2.288, val loss: 2.126, time: 1.05\n",
      "epoch: 1, train loss: 2.021, val loss: 1.950, time: 1.09\n",
      "epoch: 2, train loss: 1.903, val loss: 1.892, time: 1.14\n",
      "epoch: 3, train loss: 1.837, val loss: 1.848, time: 1.19\n",
      "epoch: 4, train loss: 1.776, val loss: 1.783, time: 1.15\n",
      "epoch: 5, train loss: 1.700, val loss: 1.732, time: 1.17\n",
      "epoch: 6, train loss: 1.658, val loss: 1.713, time: 1.29\n",
      "epoch: 7, train loss: 1.634, val loss: 1.703, time: 1.16\n",
      "epoch: 8, train loss: 1.617, val loss: 1.697, time: 1.18\n",
      "epoch: 9, train loss: 1.609, val loss: 1.692, time: 1.20\n",
      "scRNAseq hnscc fold2\n"
     ]
    },
    {
     "name": "stderr",
     "output_type": "stream",
     "text": [
      "2022-03-25 10:37:34,301 21879 genes overlap with model after filtering\n",
      "2022-03-25 10:37:34,302 944 genes missing from dataset after filtering\n"
     ]
    },
    {
     "name": "stdout",
     "output_type": "stream",
     "text": [
      "epoch: 0, train loss: 2.234, val loss: 2.101, time: 1.12\n",
      "epoch: 1, train loss: 2.019, val loss: 1.986, time: 1.21\n",
      "epoch: 2, train loss: 1.911, val loss: 1.913, time: 1.15\n",
      "epoch: 3, train loss: 1.825, val loss: 1.836, time: 1.13\n",
      "epoch: 4, train loss: 1.756, val loss: 1.783, time: 1.14\n",
      "epoch: 5, train loss: 1.715, val loss: 1.760, time: 1.15\n",
      "epoch: 6, train loss: 1.695, val loss: 1.747, time: 1.27\n",
      "epoch: 7, train loss: 1.679, val loss: 1.736, time: 1.24\n",
      "epoch: 8, train loss: 1.652, val loss: 1.717, time: 1.17\n",
      "epoch: 9, train loss: 1.623, val loss: 1.704, time: 1.18\n",
      "scRNAseq cesc fold4\n"
     ]
    },
    {
     "name": "stderr",
     "output_type": "stream",
     "text": [
      "2022-03-25 10:37:59,297 21175 genes overlap with model after filtering\n",
      "2022-03-25 10:37:59,298 652 genes missing from dataset after filtering\n"
     ]
    },
    {
     "name": "stdout",
     "output_type": "stream",
     "text": [
      "epoch: 0, train loss: 2.369, val loss: 2.273, time: 1.12\n",
      "epoch: 1, train loss: 2.237, val loss: 2.179, time: 1.13\n",
      "epoch: 2, train loss: 2.191, val loss: 2.139, time: 1.13\n",
      "epoch: 3, train loss: 2.135, val loss: 2.092, time: 1.13\n",
      "epoch: 4, train loss: 2.091, val loss: 2.056, time: 1.14\n",
      "epoch: 5, train loss: 2.059, val loss: 2.023, time: 1.15\n",
      "epoch: 6, train loss: 2.031, val loss: 1.994, time: 1.15\n",
      "epoch: 7, train loss: 2.018, val loss: 1.980, time: 1.16\n",
      "epoch: 8, train loss: 2.004, val loss: 1.972, time: 1.15\n",
      "epoch: 9, train loss: 1.992, val loss: 1.959, time: 1.22\n",
      "scRNAseq cesc fold3\n"
     ]
    },
    {
     "name": "stderr",
     "output_type": "stream",
     "text": [
      "2022-03-25 10:38:22,607 21072 genes overlap with model after filtering\n",
      "2022-03-25 10:38:22,608 706 genes missing from dataset after filtering\n"
     ]
    },
    {
     "name": "stdout",
     "output_type": "stream",
     "text": [
      "epoch: 0, train loss: 2.372, val loss: 2.305, time: 1.12\n",
      "epoch: 1, train loss: 2.264, val loss: 2.188, time: 1.16\n",
      "epoch: 2, train loss: 2.169, val loss: 2.074, time: 1.15\n",
      "epoch: 3, train loss: 2.075, val loss: 1.974, time: 1.15\n",
      "epoch: 4, train loss: 1.998, val loss: 1.905, time: 1.29\n",
      "epoch: 5, train loss: 1.937, val loss: 1.856, time: 1.09\n",
      "epoch: 6, train loss: 1.901, val loss: 1.824, time: 1.13\n",
      "epoch: 7, train loss: 1.866, val loss: 1.801, time: 1.15\n",
      "epoch: 8, train loss: 1.848, val loss: 1.784, time: 1.14\n",
      "epoch: 9, train loss: 1.834, val loss: 1.774, time: 1.13\n",
      "scRNAseq cesc fold2\n"
     ]
    },
    {
     "name": "stderr",
     "output_type": "stream",
     "text": [
      "2022-03-25 10:38:45,960 21174 genes overlap with model after filtering\n",
      "2022-03-25 10:38:45,961 664 genes missing from dataset after filtering\n"
     ]
    },
    {
     "name": "stdout",
     "output_type": "stream",
     "text": [
      "epoch: 0, train loss: 2.376, val loss: 2.304, time: 1.12\n",
      "epoch: 1, train loss: 2.264, val loss: 2.176, time: 1.17\n",
      "epoch: 2, train loss: 2.194, val loss: 2.111, time: 1.17\n",
      "epoch: 3, train loss: 2.142, val loss: 2.050, time: 1.17\n",
      "epoch: 4, train loss: 2.075, val loss: 1.945, time: 1.19\n",
      "epoch: 5, train loss: 1.985, val loss: 1.842, time: 1.17\n",
      "epoch: 6, train loss: 1.913, val loss: 1.776, time: 1.18\n",
      "epoch: 7, train loss: 1.860, val loss: 1.715, time: 1.17\n",
      "epoch: 8, train loss: 1.801, val loss: 1.658, time: 1.15\n",
      "epoch: 9, train loss: 1.760, val loss: 1.629, time: 1.16\n",
      "scRNAseq cesc fold0\n"
     ]
    },
    {
     "name": "stderr",
     "output_type": "stream",
     "text": [
      "2022-03-25 10:39:09,339 21151 genes overlap with model after filtering\n",
      "2022-03-25 10:39:09,340 645 genes missing from dataset after filtering\n"
     ]
    },
    {
     "name": "stdout",
     "output_type": "stream",
     "text": [
      "epoch: 0, train loss: 2.367, val loss: 2.293, time: 1.25\n",
      "epoch: 1, train loss: 2.266, val loss: 2.205, time: 1.18\n",
      "epoch: 2, train loss: 2.179, val loss: 2.107, time: 0.93\n",
      "epoch: 3, train loss: 2.091, val loss: 2.010, time: 0.83\n",
      "epoch: 4, train loss: 2.020, val loss: 1.931, time: 0.83\n",
      "epoch: 5, train loss: 1.974, val loss: 1.890, time: 1.03\n",
      "epoch: 6, train loss: 1.944, val loss: 1.855, time: 1.16\n",
      "epoch: 7, train loss: 1.916, val loss: 1.819, time: 1.15\n",
      "epoch: 8, train loss: 1.887, val loss: 1.790, time: 1.17\n",
      "epoch: 9, train loss: 1.857, val loss: 1.758, time: 1.17\n",
      "scRNAseq cesc fold1\n"
     ]
    },
    {
     "name": "stderr",
     "output_type": "stream",
     "text": [
      "2022-03-25 10:39:31,189 21184 genes overlap with model after filtering\n",
      "2022-03-25 10:39:31,190 667 genes missing from dataset after filtering\n"
     ]
    },
    {
     "name": "stdout",
     "output_type": "stream",
     "text": [
      "epoch: 0, train loss: 2.383, val loss: 2.325, time: 1.08\n",
      "epoch: 1, train loss: 2.241, val loss: 2.134, time: 1.08\n",
      "epoch: 2, train loss: 2.096, val loss: 1.999, time: 1.16\n",
      "epoch: 3, train loss: 2.003, val loss: 1.900, time: 1.12\n",
      "epoch: 4, train loss: 1.943, val loss: 1.854, time: 1.13\n",
      "epoch: 5, train loss: 1.910, val loss: 1.827, time: 1.14\n",
      "epoch: 6, train loss: 1.881, val loss: 1.811, time: 1.16\n",
      "epoch: 7, train loss: 1.863, val loss: 1.799, time: 1.17\n",
      "epoch: 8, train loss: 1.854, val loss: 1.786, time: 1.17\n",
      "epoch: 9, train loss: 1.822, val loss: 1.728, time: 1.15\n",
      "scRNAseq brca fold2\n"
     ]
    },
    {
     "name": "stderr",
     "output_type": "stream",
     "text": [
      "2022-03-25 10:39:54,378 22276 genes overlap with model after filtering\n",
      "2022-03-25 10:39:54,379 1435 genes missing from dataset after filtering\n"
     ]
    },
    {
     "name": "stdout",
     "output_type": "stream",
     "text": [
      "epoch: 0, train loss: 2.443, val loss: 2.288, time: 1.38\n",
      "epoch: 1, train loss: 2.189, val loss: 2.119, time: 1.38\n",
      "epoch: 2, train loss: 2.052, val loss: 2.042, time: 1.40\n",
      "epoch: 3, train loss: 1.967, val loss: 1.993, time: 1.17\n",
      "epoch: 4, train loss: 1.912, val loss: 1.953, time: 1.25\n",
      "epoch: 5, train loss: 1.844, val loss: 1.898, time: 1.42\n",
      "epoch: 6, train loss: 1.797, val loss: 1.871, time: 1.47\n",
      "epoch: 7, train loss: 1.770, val loss: 1.858, time: 1.45\n",
      "epoch: 8, train loss: 1.753, val loss: 1.851, time: 1.48\n",
      "epoch: 9, train loss: 1.742, val loss: 1.844, time: 1.44\n",
      "scRNAseq brca fold1\n"
     ]
    },
    {
     "name": "stderr",
     "output_type": "stream",
     "text": [
      "2022-03-25 10:40:22,694 22307 genes overlap with model after filtering\n",
      "2022-03-25 10:40:22,695 1398 genes missing from dataset after filtering\n"
     ]
    },
    {
     "name": "stdout",
     "output_type": "stream",
     "text": [
      "epoch: 0, train loss: 2.441, val loss: 2.252, time: 1.44\n",
      "epoch: 1, train loss: 2.178, val loss: 2.101, time: 1.41\n",
      "epoch: 2, train loss: 2.066, val loss: 2.050, time: 1.41\n",
      "epoch: 3, train loss: 1.997, val loss: 1.991, time: 1.59\n",
      "epoch: 4, train loss: 1.920, val loss: 1.931, time: 1.55\n",
      "epoch: 5, train loss: 1.848, val loss: 1.888, time: 1.42\n",
      "epoch: 6, train loss: 1.801, val loss: 1.866, time: 1.43\n",
      "epoch: 7, train loss: 1.774, val loss: 1.854, time: 1.49\n",
      "epoch: 8, train loss: 1.756, val loss: 1.847, time: 1.48\n",
      "epoch: 9, train loss: 1.745, val loss: 1.841, time: 1.31\n",
      "scRNAseq brca fold3\n"
     ]
    },
    {
     "name": "stderr",
     "output_type": "stream",
     "text": [
      "2022-03-25 10:40:51,548 22275 genes overlap with model after filtering\n",
      "2022-03-25 10:40:51,549 1441 genes missing from dataset after filtering\n"
     ]
    },
    {
     "name": "stdout",
     "output_type": "stream",
     "text": [
      "epoch: 0, train loss: 2.436, val loss: 2.243, time: 1.45\n",
      "epoch: 1, train loss: 2.164, val loss: 2.099, time: 1.42\n",
      "epoch: 2, train loss: 2.036, val loss: 2.036, time: 1.59\n",
      "epoch: 3, train loss: 1.948, val loss: 1.962, time: 1.48\n",
      "epoch: 4, train loss: 1.867, val loss: 1.911, time: 1.43\n",
      "epoch: 5, train loss: 1.815, val loss: 1.883, time: 1.43\n",
      "epoch: 6, train loss: 1.783, val loss: 1.867, time: 1.44\n",
      "epoch: 7, train loss: 1.767, val loss: 1.857, time: 1.43\n",
      "epoch: 8, train loss: 1.750, val loss: 1.851, time: 1.43\n",
      "epoch: 9, train loss: 1.744, val loss: 1.846, time: 1.45\n",
      "scRNAseq brca fold0\n"
     ]
    },
    {
     "name": "stderr",
     "output_type": "stream",
     "text": [
      "2022-03-25 10:41:20,896 22254 genes overlap with model after filtering\n",
      "2022-03-25 10:41:20,897 1370 genes missing from dataset after filtering\n"
     ]
    },
    {
     "name": "stdout",
     "output_type": "stream",
     "text": [
      "epoch: 0, train loss: 2.434, val loss: 2.270, time: 1.37\n",
      "epoch: 1, train loss: 2.187, val loss: 2.110, time: 1.33\n",
      "epoch: 2, train loss: 2.020, val loss: 1.996, time: 1.55\n",
      "epoch: 3, train loss: 1.915, val loss: 1.938, time: 1.40\n",
      "epoch: 4, train loss: 1.867, val loss: 1.917, time: 1.49\n",
      "epoch: 5, train loss: 1.840, val loss: 1.907, time: 1.41\n",
      "epoch: 6, train loss: 1.825, val loss: 1.899, time: 1.52\n",
      "epoch: 7, train loss: 1.805, val loss: 1.878, time: 1.47\n",
      "epoch: 8, train loss: 1.777, val loss: 1.855, time: 1.50\n",
      "epoch: 9, train loss: 1.754, val loss: 1.846, time: 1.48\n",
      "scRNAseq brca fold4\n"
     ]
    },
    {
     "name": "stderr",
     "output_type": "stream",
     "text": [
      "2022-03-25 10:41:49,758 22221 genes overlap with model after filtering\n",
      "2022-03-25 10:41:49,759 1367 genes missing from dataset after filtering\n"
     ]
    },
    {
     "name": "stdout",
     "output_type": "stream",
     "text": [
      "epoch: 0, train loss: 2.437, val loss: 2.265, time: 1.49\n",
      "epoch: 1, train loss: 2.119, val loss: 2.048, time: 1.64\n",
      "epoch: 2, train loss: 1.956, val loss: 1.947, time: 1.50\n",
      "epoch: 3, train loss: 1.870, val loss: 1.904, time: 1.48\n",
      "epoch: 4, train loss: 1.821, val loss: 1.881, time: 1.45\n",
      "epoch: 5, train loss: 1.790, val loss: 1.867, time: 1.52\n",
      "epoch: 6, train loss: 1.771, val loss: 1.857, time: 1.49\n",
      "epoch: 7, train loss: 1.757, val loss: 1.852, time: 1.48\n",
      "epoch: 8, train loss: 1.748, val loss: 1.846, time: 1.49\n",
      "epoch: 9, train loss: 1.739, val loss: 1.842, time: 1.49\n",
      "scRNAseq myeloma fold0\n"
     ]
    },
    {
     "name": "stderr",
     "output_type": "stream",
     "text": [
      "2022-03-25 10:42:19,017 18620 genes overlap with model after filtering\n",
      "2022-03-25 10:42:19,018 1218 genes missing from dataset after filtering\n"
     ]
    },
    {
     "name": "stdout",
     "output_type": "stream",
     "text": [
      "epoch: 0, train loss: 2.395, val loss: 2.389, time: 0.87\n",
      "epoch: 1, train loss: 2.357, val loss: 2.320, time: 0.90\n",
      "epoch: 2, train loss: 2.239, val loss: 2.159, time: 0.92\n",
      "epoch: 3, train loss: 2.111, val loss: 2.062, time: 1.02\n",
      "epoch: 4, train loss: 2.042, val loss: 2.020, time: 0.84\n",
      "epoch: 5, train loss: 2.019, val loss: 2.005, time: 0.86\n",
      "epoch: 6, train loss: 1.996, val loss: 1.993, time: 0.85\n",
      "epoch: 7, train loss: 1.987, val loss: 1.980, time: 0.88\n",
      "epoch: 8, train loss: 1.965, val loss: 1.970, time: 0.89\n",
      "epoch: 9, train loss: 1.958, val loss: 1.956, time: 0.94\n",
      "scRNAseq myeloma fold1\n"
     ]
    },
    {
     "name": "stderr",
     "output_type": "stream",
     "text": [
      "2022-03-25 10:42:36,227 18583 genes overlap with model after filtering\n",
      "2022-03-25 10:42:36,229 1374 genes missing from dataset after filtering\n"
     ]
    },
    {
     "name": "stdout",
     "output_type": "stream",
     "text": [
      "epoch: 0, train loss: 2.394, val loss: 2.385, time: 0.87\n",
      "epoch: 1, train loss: 2.347, val loss: 2.323, time: 0.88\n",
      "epoch: 2, train loss: 2.266, val loss: 2.246, time: 0.88\n",
      "epoch: 3, train loss: 2.192, val loss: 2.163, time: 0.88\n",
      "epoch: 4, train loss: 2.127, val loss: 2.111, time: 0.90\n",
      "epoch: 5, train loss: 2.096, val loss: 2.066, time: 0.89\n",
      "epoch: 6, train loss: 2.039, val loss: 2.012, time: 0.87\n",
      "epoch: 7, train loss: 2.008, val loss: 1.990, time: 0.92\n",
      "epoch: 8, train loss: 1.984, val loss: 1.970, time: 0.97\n",
      "epoch: 9, train loss: 1.958, val loss: 1.940, time: 0.92\n",
      "scRNAseq myeloma fold3\n"
     ]
    },
    {
     "name": "stderr",
     "output_type": "stream",
     "text": [
      "2022-03-25 10:42:53,976 18628 genes overlap with model after filtering\n",
      "2022-03-25 10:42:53,977 1465 genes missing from dataset after filtering\n"
     ]
    },
    {
     "name": "stdout",
     "output_type": "stream",
     "text": [
      "epoch: 0, train loss: 2.384, val loss: 2.370, time: 0.86\n",
      "epoch: 1, train loss: 2.318, val loss: 2.294, time: 0.88\n",
      "epoch: 2, train loss: 2.221, val loss: 2.190, time: 0.90\n",
      "epoch: 3, train loss: 2.102, val loss: 2.059, time: 0.90\n",
      "epoch: 4, train loss: 2.014, val loss: 1.973, time: 0.88\n",
      "epoch: 5, train loss: 1.960, val loss: 1.923, time: 0.88\n",
      "epoch: 6, train loss: 1.924, val loss: 1.891, time: 0.90\n",
      "epoch: 7, train loss: 1.893, val loss: 1.868, time: 0.90\n",
      "epoch: 8, train loss: 1.872, val loss: 1.853, time: 0.92\n",
      "epoch: 9, train loss: 1.850, val loss: 1.840, time: 0.92\n",
      "scRNAseq myeloma fold4\n"
     ]
    },
    {
     "name": "stderr",
     "output_type": "stream",
     "text": [
      "2022-03-25 10:43:11,483 18710 genes overlap with model after filtering\n",
      "2022-03-25 10:43:11,484 1292 genes missing from dataset after filtering\n"
     ]
    },
    {
     "name": "stdout",
     "output_type": "stream",
     "text": [
      "epoch: 0, train loss: 2.383, val loss: 2.324, time: 0.86\n",
      "epoch: 1, train loss: 2.278, val loss: 2.212, time: 0.93\n",
      "epoch: 2, train loss: 2.202, val loss: 2.136, time: 0.99\n",
      "epoch: 3, train loss: 2.139, val loss: 2.074, time: 0.91\n",
      "epoch: 4, train loss: 2.097, val loss: 2.037, time: 0.90\n",
      "epoch: 5, train loss: 2.056, val loss: 1.993, time: 0.91\n",
      "epoch: 6, train loss: 1.999, val loss: 1.905, time: 0.93\n",
      "epoch: 7, train loss: 1.903, val loss: 1.828, time: 0.92\n",
      "epoch: 8, train loss: 1.844, val loss: 1.770, time: 0.91\n",
      "epoch: 9, train loss: 1.785, val loss: 1.729, time: 0.98\n",
      "scRNAseq myeloma fold2\n"
     ]
    },
    {
     "name": "stderr",
     "output_type": "stream",
     "text": [
      "2022-03-25 10:43:29,327 18683 genes overlap with model after filtering\n",
      "2022-03-25 10:43:29,328 1360 genes missing from dataset after filtering\n"
     ]
    },
    {
     "name": "stdout",
     "output_type": "stream",
     "text": [
      "epoch: 0, train loss: 2.398, val loss: 2.389, time: 0.83\n",
      "epoch: 1, train loss: 2.363, val loss: 2.314, time: 0.82\n",
      "epoch: 2, train loss: 2.288, val loss: 2.245, time: 0.90\n",
      "epoch: 3, train loss: 2.237, val loss: 2.179, time: 0.89\n",
      "epoch: 4, train loss: 2.129, val loss: 2.027, time: 0.90\n",
      "epoch: 5, train loss: 2.002, val loss: 1.910, time: 0.87\n",
      "epoch: 6, train loss: 1.915, val loss: 1.843, time: 0.86\n",
      "epoch: 7, train loss: 1.859, val loss: 1.790, time: 0.90\n",
      "epoch: 8, train loss: 1.820, val loss: 1.741, time: 0.97\n",
      "epoch: 9, train loss: 1.775, val loss: 1.699, time: 0.91\n",
      "scRNAseq melanoma fold3\n"
     ]
    },
    {
     "name": "stderr",
     "output_type": "stream",
     "text": [
      "2022-03-25 10:43:46,790 19162 genes overlap with model after filtering\n",
      "2022-03-25 10:43:46,791 1543 genes missing from dataset after filtering\n"
     ]
    },
    {
     "name": "stdout",
     "output_type": "stream",
     "text": [
      "epoch: 0, train loss: 2.289, val loss: 2.252, time: 1.10\n",
      "epoch: 1, train loss: 2.213, val loss: 2.143, time: 1.14\n",
      "epoch: 2, train loss: 2.121, val loss: 2.031, time: 1.09\n",
      "epoch: 3, train loss: 2.042, val loss: 1.939, time: 1.07\n",
      "epoch: 4, train loss: 1.966, val loss: 1.875, time: 1.07\n",
      "epoch: 5, train loss: 1.915, val loss: 1.825, time: 1.03\n",
      "epoch: 6, train loss: 1.869, val loss: 1.781, time: 1.04\n",
      "epoch: 7, train loss: 1.847, val loss: 1.756, time: 1.05\n",
      "epoch: 8, train loss: 1.813, val loss: 1.724, time: 1.07\n",
      "epoch: 9, train loss: 1.793, val loss: 1.697, time: 1.08\n",
      "scRNAseq melanoma fold0\n"
     ]
    },
    {
     "name": "stderr",
     "output_type": "stream",
     "text": [
      "2022-03-25 10:44:06,467 19131 genes overlap with model after filtering\n",
      "2022-03-25 10:44:06,468 1544 genes missing from dataset after filtering\n"
     ]
    },
    {
     "name": "stdout",
     "output_type": "stream",
     "text": [
      "epoch: 0, train loss: 2.296, val loss: 2.284, time: 1.16\n",
      "epoch: 1, train loss: 2.226, val loss: 2.168, time: 1.10\n",
      "epoch: 2, train loss: 2.107, val loss: 2.076, time: 1.13\n",
      "epoch: 3, train loss: 2.023, val loss: 1.970, time: 1.09\n",
      "epoch: 4, train loss: 1.946, val loss: 1.883, time: 1.09\n",
      "epoch: 5, train loss: 1.893, val loss: 1.812, time: 1.11\n",
      "epoch: 6, train loss: 1.834, val loss: 1.727, time: 1.11\n",
      "epoch: 7, train loss: 1.778, val loss: 1.673, time: 1.09\n",
      "epoch: 8, train loss: 1.750, val loss: 1.640, time: 1.08\n",
      "epoch: 9, train loss: 1.716, val loss: 1.621, time: 1.09\n",
      "scRNAseq melanoma fold2\n"
     ]
    },
    {
     "name": "stderr",
     "output_type": "stream",
     "text": [
      "2022-03-25 10:44:26,546 19149 genes overlap with model after filtering\n",
      "2022-03-25 10:44:26,547 1523 genes missing from dataset after filtering\n"
     ]
    },
    {
     "name": "stdout",
     "output_type": "stream",
     "text": [
      "epoch: 0, train loss: 2.295, val loss: 2.281, time: 1.07\n",
      "epoch: 1, train loss: 2.225, val loss: 2.202, time: 1.09\n",
      "epoch: 2, train loss: 2.137, val loss: 2.117, time: 1.10\n",
      "epoch: 3, train loss: 2.053, val loss: 2.058, time: 1.23\n",
      "epoch: 4, train loss: 1.975, val loss: 1.992, time: 1.03\n",
      "epoch: 5, train loss: 1.924, val loss: 1.931, time: 1.15\n",
      "epoch: 6, train loss: 1.875, val loss: 1.877, time: 1.06\n",
      "epoch: 7, train loss: 1.825, val loss: 1.820, time: 1.07\n",
      "epoch: 8, train loss: 1.775, val loss: 1.751, time: 1.20\n",
      "epoch: 9, train loss: 1.724, val loss: 1.706, time: 1.06\n",
      "scRNAseq melanoma fold1\n"
     ]
    },
    {
     "name": "stderr",
     "output_type": "stream",
     "text": [
      "2022-03-25 10:44:45,623 19164 genes overlap with model after filtering\n",
      "2022-03-25 10:44:45,624 1529 genes missing from dataset after filtering\n"
     ]
    },
    {
     "name": "stdout",
     "output_type": "stream",
     "text": [
      "epoch: 0, train loss: 2.285, val loss: 2.262, time: 1.03\n",
      "epoch: 1, train loss: 2.209, val loss: 2.207, time: 1.09\n",
      "epoch: 2, train loss: 2.138, val loss: 2.119, time: 1.10\n",
      "epoch: 3, train loss: 2.038, val loss: 1.985, time: 1.09\n",
      "epoch: 4, train loss: 1.934, val loss: 1.899, time: 1.07\n",
      "epoch: 5, train loss: 1.859, val loss: 1.834, time: 1.09\n",
      "epoch: 6, train loss: 1.800, val loss: 1.792, time: 1.08\n",
      "epoch: 7, train loss: 1.765, val loss: 1.748, time: 1.12\n",
      "epoch: 8, train loss: 1.729, val loss: 1.715, time: 1.12\n",
      "epoch: 9, train loss: 1.699, val loss: 1.695, time: 1.22\n",
      "scRNAseq melanoma fold4\n"
     ]
    },
    {
     "name": "stderr",
     "output_type": "stream",
     "text": [
      "2022-03-25 10:45:05,306 19103 genes overlap with model after filtering\n",
      "2022-03-25 10:45:05,307 1510 genes missing from dataset after filtering\n"
     ]
    },
    {
     "name": "stdout",
     "output_type": "stream",
     "text": [
      "epoch: 0, train loss: 2.298, val loss: 2.288, time: 1.09\n",
      "epoch: 1, train loss: 2.266, val loss: 2.219, time: 1.11\n",
      "epoch: 2, train loss: 2.207, val loss: 2.160, time: 1.11\n",
      "epoch: 3, train loss: 2.139, val loss: 2.099, time: 1.13\n",
      "epoch: 4, train loss: 2.051, val loss: 1.967, time: 1.14\n",
      "epoch: 5, train loss: 1.967, val loss: 1.891, time: 1.12\n",
      "epoch: 6, train loss: 1.922, val loss: 1.843, time: 1.11\n",
      "epoch: 7, train loss: 1.864, val loss: 1.788, time: 1.11\n",
      "epoch: 8, train loss: 1.820, val loss: 1.727, time: 1.11\n",
      "epoch: 9, train loss: 1.772, val loss: 1.685, time: 1.11\n",
      "scRNAseq pdac fold2\n"
     ]
    },
    {
     "name": "stderr",
     "output_type": "stream",
     "text": [
      "2022-03-25 10:45:26,837 23822 genes overlap with model after filtering\n",
      "2022-03-25 10:45:26,838 1199 genes missing from dataset after filtering\n"
     ]
    },
    {
     "name": "stdout",
     "output_type": "stream",
     "text": [
      "epoch: 0, train loss: 2.682, val loss: 2.494, time: 2.24\n",
      "epoch: 1, train loss: 2.456, val loss: 2.366, time: 2.14\n",
      "epoch: 2, train loss: 2.357, val loss: 2.281, time: 1.86\n",
      "epoch: 3, train loss: 2.267, val loss: 2.224, time: 1.81\n",
      "epoch: 4, train loss: 2.201, val loss: 2.182, time: 1.92\n",
      "epoch: 5, train loss: 2.149, val loss: 2.150, time: 1.84\n",
      "epoch: 6, train loss: 2.123, val loss: 2.138, time: 1.92\n",
      "epoch: 7, train loss: 2.103, val loss: 2.130, time: 1.93\n",
      "epoch: 8, train loss: 2.091, val loss: 2.127, time: 2.02\n",
      "epoch: 9, train loss: 2.083, val loss: 2.125, time: 2.08\n",
      "scRNAseq pdac fold3\n"
     ]
    },
    {
     "name": "stderr",
     "output_type": "stream",
     "text": [
      "2022-03-25 10:46:07,017 23837 genes overlap with model after filtering\n",
      "2022-03-25 10:46:07,018 1215 genes missing from dataset after filtering\n"
     ]
    },
    {
     "name": "stdout",
     "output_type": "stream",
     "text": [
      "epoch: 0, train loss: 2.678, val loss: 2.453, time: 1.88\n",
      "epoch: 1, train loss: 2.388, val loss: 2.251, time: 1.87\n",
      "epoch: 2, train loss: 2.247, val loss: 2.177, time: 1.92\n",
      "epoch: 3, train loss: 2.177, val loss: 2.136, time: 1.90\n",
      "epoch: 4, train loss: 2.128, val loss: 2.118, time: 2.07\n",
      "epoch: 5, train loss: 2.102, val loss: 2.107, time: 1.99\n",
      "epoch: 6, train loss: 2.084, val loss: 2.100, time: 1.95\n",
      "epoch: 7, train loss: 2.073, val loss: 2.094, time: 1.95\n",
      "epoch: 8, train loss: 2.065, val loss: 2.091, time: 1.93\n",
      "epoch: 9, train loss: 2.059, val loss: 2.089, time: 1.68\n",
      "scRNAseq pdac fold1\n"
     ]
    },
    {
     "name": "stderr",
     "output_type": "stream",
     "text": [
      "2022-03-25 10:46:46,488 23823 genes overlap with model after filtering\n",
      "2022-03-25 10:46:46,489 1164 genes missing from dataset after filtering\n"
     ]
    },
    {
     "name": "stdout",
     "output_type": "stream",
     "text": [
      "epoch: 0, train loss: 2.675, val loss: 2.444, time: 1.89\n",
      "epoch: 1, train loss: 2.395, val loss: 2.300, time: 2.21\n",
      "epoch: 2, train loss: 2.288, val loss: 2.242, time: 2.01\n",
      "epoch: 3, train loss: 2.216, val loss: 2.184, time: 2.02\n",
      "epoch: 4, train loss: 2.150, val loss: 2.150, time: 2.04\n",
      "epoch: 5, train loss: 2.118, val loss: 2.136, time: 2.01\n",
      "epoch: 6, train loss: 2.097, val loss: 2.128, time: 2.00\n",
      "epoch: 7, train loss: 2.087, val loss: 2.122, time: 2.01\n",
      "epoch: 8, train loss: 2.075, val loss: 2.118, time: 1.95\n",
      "epoch: 9, train loss: 2.062, val loss: 2.098, time: 2.11\n",
      "scRNAseq pdac fold4\n"
     ]
    },
    {
     "name": "stderr",
     "output_type": "stream",
     "text": [
      "2022-03-25 10:47:27,544 23781 genes overlap with model after filtering\n",
      "2022-03-25 10:47:27,545 1197 genes missing from dataset after filtering\n"
     ]
    },
    {
     "name": "stdout",
     "output_type": "stream",
     "text": [
      "epoch: 0, train loss: 2.695, val loss: 2.545, time: 1.91\n",
      "epoch: 1, train loss: 2.468, val loss: 2.320, time: 1.91\n",
      "epoch: 2, train loss: 2.282, val loss: 2.201, time: 1.89\n",
      "epoch: 3, train loss: 2.184, val loss: 2.153, time: 2.04\n",
      "epoch: 4, train loss: 2.143, val loss: 2.140, time: 1.82\n",
      "epoch: 5, train loss: 2.112, val loss: 2.132, time: 2.11\n",
      "epoch: 6, train loss: 2.097, val loss: 2.127, time: 1.89\n",
      "epoch: 7, train loss: 2.082, val loss: 2.124, time: 1.94\n",
      "epoch: 8, train loss: 2.072, val loss: 2.119, time: 1.97\n",
      "epoch: 9, train loss: 2.065, val loss: 2.117, time: 1.95\n",
      "scRNAseq pdac fold0\n"
     ]
    },
    {
     "name": "stderr",
     "output_type": "stream",
     "text": [
      "2022-03-25 10:48:07,313 23764 genes overlap with model after filtering\n",
      "2022-03-25 10:48:07,315 1177 genes missing from dataset after filtering\n"
     ]
    },
    {
     "name": "stdout",
     "output_type": "stream",
     "text": [
      "epoch: 0, train loss: 2.667, val loss: 2.459, time: 1.93\n",
      "epoch: 1, train loss: 2.432, val loss: 2.339, time: 2.14\n",
      "epoch: 2, train loss: 2.322, val loss: 2.247, time: 1.95\n",
      "epoch: 3, train loss: 2.244, val loss: 2.189, time: 1.97\n",
      "epoch: 4, train loss: 2.205, val loss: 2.174, time: 1.98\n",
      "epoch: 5, train loss: 2.181, val loss: 2.155, time: 1.97\n",
      "epoch: 6, train loss: 2.135, val loss: 2.127, time: 1.92\n",
      "epoch: 7, train loss: 2.093, val loss: 2.102, time: 1.95\n",
      "epoch: 8, train loss: 2.055, val loss: 2.092, time: 1.94\n",
      "epoch: 9, train loss: 2.036, val loss: 2.086, time: 2.15\n"
     ]
    }
   ],
   "source": [
    "to_prediction = {}\n",
    "for dtype, d1 in folds_fmap.items():\n",
    "    to_prediction[dtype] = {}\n",
    "    for disease, d2 in d1.items():\n",
    "        to_prediction[dtype][disease] = {}\n",
    "        for fold, d3 in d2.items():\n",
    "            print(dtype, disease, fold)\n",
    "            train = sc.read_h5ad(d3['train'])\n",
    "            val = sc.read_h5ad(d3['val'])\n",
    "\n",
    "            to_prediction[dtype][disease][fold] = mlp_predict(\n",
    "                train, val, epochs=10 if dtype=='scRNAseq' else 25)\n",
    "        "
   ]
  },
  {
   "cell_type": "code",
   "execution_count": 30,
   "id": "8ef3a1f0",
   "metadata": {
    "hidden": true,
    "scrolled": true
   },
   "outputs": [
    {
     "name": "stderr",
     "output_type": "stream",
     "text": [
      "/data/estorrs/miniconda3/envs/pollock_new/lib/python3.8/site-packages/anndata/_core/anndata.py:1228: FutureWarning: The `inplace` parameter in pandas.Categorical.reorder_categories is deprecated and will be removed in a future version. Reordering categories will always return a new Categorical object.\n",
      "  c.reorder_categories(natsorted(c.categories), inplace=True)\n",
      "... storing 'predicted_cell_type' as categorical\n",
      "/data/estorrs/miniconda3/envs/pollock_new/lib/python3.8/site-packages/anndata/_core/anndata.py:1228: FutureWarning: The `inplace` parameter in pandas.Categorical.reorder_categories is deprecated and will be removed in a future version. Reordering categories will always return a new Categorical object.\n",
      "  c.reorder_categories(natsorted(c.categories), inplace=True)\n",
      "... storing 'predicted_cell_type' as categorical\n",
      "/data/estorrs/miniconda3/envs/pollock_new/lib/python3.8/site-packages/anndata/_core/anndata.py:1228: FutureWarning: The `inplace` parameter in pandas.Categorical.reorder_categories is deprecated and will be removed in a future version. Reordering categories will always return a new Categorical object.\n",
      "  c.reorder_categories(natsorted(c.categories), inplace=True)\n",
      "... storing 'predicted_cell_type' as categorical\n",
      "/data/estorrs/miniconda3/envs/pollock_new/lib/python3.8/site-packages/anndata/_core/anndata.py:1228: FutureWarning: The `inplace` parameter in pandas.Categorical.reorder_categories is deprecated and will be removed in a future version. Reordering categories will always return a new Categorical object.\n",
      "  c.reorder_categories(natsorted(c.categories), inplace=True)\n",
      "... storing 'predicted_cell_type' as categorical\n",
      "/data/estorrs/miniconda3/envs/pollock_new/lib/python3.8/site-packages/anndata/_core/anndata.py:1228: FutureWarning: The `inplace` parameter in pandas.Categorical.reorder_categories is deprecated and will be removed in a future version. Reordering categories will always return a new Categorical object.\n",
      "  c.reorder_categories(natsorted(c.categories), inplace=True)\n",
      "... storing 'predicted_cell_type' as categorical\n",
      "/data/estorrs/miniconda3/envs/pollock_new/lib/python3.8/site-packages/anndata/_core/anndata.py:1228: FutureWarning: The `inplace` parameter in pandas.Categorical.reorder_categories is deprecated and will be removed in a future version. Reordering categories will always return a new Categorical object.\n",
      "  c.reorder_categories(natsorted(c.categories), inplace=True)\n",
      "... storing 'predicted_cell_type' as categorical\n",
      "/data/estorrs/miniconda3/envs/pollock_new/lib/python3.8/site-packages/anndata/_core/anndata.py:1228: FutureWarning: The `inplace` parameter in pandas.Categorical.reorder_categories is deprecated and will be removed in a future version. Reordering categories will always return a new Categorical object.\n",
      "  c.reorder_categories(natsorted(c.categories), inplace=True)\n",
      "... storing 'predicted_cell_type' as categorical\n",
      "/data/estorrs/miniconda3/envs/pollock_new/lib/python3.8/site-packages/anndata/_core/anndata.py:1228: FutureWarning: The `inplace` parameter in pandas.Categorical.reorder_categories is deprecated and will be removed in a future version. Reordering categories will always return a new Categorical object.\n",
      "  c.reorder_categories(natsorted(c.categories), inplace=True)\n",
      "... storing 'predicted_cell_type' as categorical\n",
      "/data/estorrs/miniconda3/envs/pollock_new/lib/python3.8/site-packages/anndata/_core/anndata.py:1228: FutureWarning: The `inplace` parameter in pandas.Categorical.reorder_categories is deprecated and will be removed in a future version. Reordering categories will always return a new Categorical object.\n",
      "  c.reorder_categories(natsorted(c.categories), inplace=True)\n",
      "... storing 'predicted_cell_type' as categorical\n",
      "/data/estorrs/miniconda3/envs/pollock_new/lib/python3.8/site-packages/anndata/_core/anndata.py:1228: FutureWarning: The `inplace` parameter in pandas.Categorical.reorder_categories is deprecated and will be removed in a future version. Reordering categories will always return a new Categorical object.\n",
      "  c.reorder_categories(natsorted(c.categories), inplace=True)\n",
      "... storing 'predicted_cell_type' as categorical\n",
      "/data/estorrs/miniconda3/envs/pollock_new/lib/python3.8/site-packages/anndata/_core/anndata.py:1228: FutureWarning: The `inplace` parameter in pandas.Categorical.reorder_categories is deprecated and will be removed in a future version. Reordering categories will always return a new Categorical object.\n",
      "  c.reorder_categories(natsorted(c.categories), inplace=True)\n",
      "... storing 'predicted_cell_type' as categorical\n",
      "/data/estorrs/miniconda3/envs/pollock_new/lib/python3.8/site-packages/anndata/_core/anndata.py:1228: FutureWarning: The `inplace` parameter in pandas.Categorical.reorder_categories is deprecated and will be removed in a future version. Reordering categories will always return a new Categorical object.\n",
      "  c.reorder_categories(natsorted(c.categories), inplace=True)\n",
      "... storing 'predicted_cell_type' as categorical\n",
      "/data/estorrs/miniconda3/envs/pollock_new/lib/python3.8/site-packages/anndata/_core/anndata.py:1228: FutureWarning: The `inplace` parameter in pandas.Categorical.reorder_categories is deprecated and will be removed in a future version. Reordering categories will always return a new Categorical object.\n",
      "  c.reorder_categories(natsorted(c.categories), inplace=True)\n",
      "... storing 'predicted_cell_type' as categorical\n",
      "/data/estorrs/miniconda3/envs/pollock_new/lib/python3.8/site-packages/anndata/_core/anndata.py:1228: FutureWarning: The `inplace` parameter in pandas.Categorical.reorder_categories is deprecated and will be removed in a future version. Reordering categories will always return a new Categorical object.\n",
      "  c.reorder_categories(natsorted(c.categories), inplace=True)\n",
      "... storing 'predicted_cell_type' as categorical\n",
      "/data/estorrs/miniconda3/envs/pollock_new/lib/python3.8/site-packages/anndata/_core/anndata.py:1228: FutureWarning: The `inplace` parameter in pandas.Categorical.reorder_categories is deprecated and will be removed in a future version. Reordering categories will always return a new Categorical object.\n",
      "  c.reorder_categories(natsorted(c.categories), inplace=True)\n",
      "... storing 'predicted_cell_type' as categorical\n",
      "/data/estorrs/miniconda3/envs/pollock_new/lib/python3.8/site-packages/anndata/_core/anndata.py:1228: FutureWarning: The `inplace` parameter in pandas.Categorical.reorder_categories is deprecated and will be removed in a future version. Reordering categories will always return a new Categorical object.\n",
      "  c.reorder_categories(natsorted(c.categories), inplace=True)\n",
      "... storing 'predicted_cell_type' as categorical\n",
      "/data/estorrs/miniconda3/envs/pollock_new/lib/python3.8/site-packages/anndata/_core/anndata.py:1228: FutureWarning: The `inplace` parameter in pandas.Categorical.reorder_categories is deprecated and will be removed in a future version. Reordering categories will always return a new Categorical object.\n",
      "  c.reorder_categories(natsorted(c.categories), inplace=True)\n",
      "... storing 'predicted_cell_type' as categorical\n",
      "/data/estorrs/miniconda3/envs/pollock_new/lib/python3.8/site-packages/anndata/_core/anndata.py:1228: FutureWarning: The `inplace` parameter in pandas.Categorical.reorder_categories is deprecated and will be removed in a future version. Reordering categories will always return a new Categorical object.\n",
      "  c.reorder_categories(natsorted(c.categories), inplace=True)\n",
      "... storing 'predicted_cell_type' as categorical\n",
      "/data/estorrs/miniconda3/envs/pollock_new/lib/python3.8/site-packages/anndata/_core/anndata.py:1228: FutureWarning: The `inplace` parameter in pandas.Categorical.reorder_categories is deprecated and will be removed in a future version. Reordering categories will always return a new Categorical object.\n",
      "  c.reorder_categories(natsorted(c.categories), inplace=True)\n",
      "... storing 'predicted_cell_type' as categorical\n",
      "/data/estorrs/miniconda3/envs/pollock_new/lib/python3.8/site-packages/anndata/_core/anndata.py:1228: FutureWarning: The `inplace` parameter in pandas.Categorical.reorder_categories is deprecated and will be removed in a future version. Reordering categories will always return a new Categorical object.\n",
      "  c.reorder_categories(natsorted(c.categories), inplace=True)\n",
      "... storing 'predicted_cell_type' as categorical\n"
     ]
    },
    {
     "name": "stderr",
     "output_type": "stream",
     "text": [
      "/data/estorrs/miniconda3/envs/pollock_new/lib/python3.8/site-packages/anndata/_core/anndata.py:1228: FutureWarning: The `inplace` parameter in pandas.Categorical.reorder_categories is deprecated and will be removed in a future version. Reordering categories will always return a new Categorical object.\n",
      "  c.reorder_categories(natsorted(c.categories), inplace=True)\n",
      "... storing 'predicted_cell_type' as categorical\n",
      "/data/estorrs/miniconda3/envs/pollock_new/lib/python3.8/site-packages/anndata/_core/anndata.py:1228: FutureWarning: The `inplace` parameter in pandas.Categorical.reorder_categories is deprecated and will be removed in a future version. Reordering categories will always return a new Categorical object.\n",
      "  c.reorder_categories(natsorted(c.categories), inplace=True)\n",
      "... storing 'predicted_cell_type' as categorical\n",
      "/data/estorrs/miniconda3/envs/pollock_new/lib/python3.8/site-packages/anndata/_core/anndata.py:1228: FutureWarning: The `inplace` parameter in pandas.Categorical.reorder_categories is deprecated and will be removed in a future version. Reordering categories will always return a new Categorical object.\n",
      "  c.reorder_categories(natsorted(c.categories), inplace=True)\n",
      "... storing 'predicted_cell_type' as categorical\n",
      "/data/estorrs/miniconda3/envs/pollock_new/lib/python3.8/site-packages/anndata/_core/anndata.py:1228: FutureWarning: The `inplace` parameter in pandas.Categorical.reorder_categories is deprecated and will be removed in a future version. Reordering categories will always return a new Categorical object.\n",
      "  c.reorder_categories(natsorted(c.categories), inplace=True)\n",
      "... storing 'predicted_cell_type' as categorical\n",
      "/data/estorrs/miniconda3/envs/pollock_new/lib/python3.8/site-packages/anndata/_core/anndata.py:1228: FutureWarning: The `inplace` parameter in pandas.Categorical.reorder_categories is deprecated and will be removed in a future version. Reordering categories will always return a new Categorical object.\n",
      "  c.reorder_categories(natsorted(c.categories), inplace=True)\n",
      "... storing 'predicted_cell_type' as categorical\n",
      "/data/estorrs/miniconda3/envs/pollock_new/lib/python3.8/site-packages/anndata/_core/anndata.py:1228: FutureWarning: The `inplace` parameter in pandas.Categorical.reorder_categories is deprecated and will be removed in a future version. Reordering categories will always return a new Categorical object.\n",
      "  c.reorder_categories(natsorted(c.categories), inplace=True)\n",
      "... storing 'predicted_cell_type' as categorical\n",
      "/data/estorrs/miniconda3/envs/pollock_new/lib/python3.8/site-packages/anndata/_core/anndata.py:1228: FutureWarning: The `inplace` parameter in pandas.Categorical.reorder_categories is deprecated and will be removed in a future version. Reordering categories will always return a new Categorical object.\n",
      "  c.reorder_categories(natsorted(c.categories), inplace=True)\n",
      "... storing 'predicted_cell_type' as categorical\n",
      "/data/estorrs/miniconda3/envs/pollock_new/lib/python3.8/site-packages/anndata/_core/anndata.py:1228: FutureWarning: The `inplace` parameter in pandas.Categorical.reorder_categories is deprecated and will be removed in a future version. Reordering categories will always return a new Categorical object.\n",
      "  c.reorder_categories(natsorted(c.categories), inplace=True)\n",
      "... storing 'predicted_cell_type' as categorical\n",
      "/data/estorrs/miniconda3/envs/pollock_new/lib/python3.8/site-packages/anndata/_core/anndata.py:1228: FutureWarning: The `inplace` parameter in pandas.Categorical.reorder_categories is deprecated and will be removed in a future version. Reordering categories will always return a new Categorical object.\n",
      "  c.reorder_categories(natsorted(c.categories), inplace=True)\n",
      "... storing 'predicted_cell_type' as categorical\n",
      "/data/estorrs/miniconda3/envs/pollock_new/lib/python3.8/site-packages/anndata/_core/anndata.py:1228: FutureWarning: The `inplace` parameter in pandas.Categorical.reorder_categories is deprecated and will be removed in a future version. Reordering categories will always return a new Categorical object.\n",
      "  c.reorder_categories(natsorted(c.categories), inplace=True)\n",
      "... storing 'predicted_cell_type' as categorical\n",
      "/data/estorrs/miniconda3/envs/pollock_new/lib/python3.8/site-packages/anndata/_core/anndata.py:1228: FutureWarning: The `inplace` parameter in pandas.Categorical.reorder_categories is deprecated and will be removed in a future version. Reordering categories will always return a new Categorical object.\n",
      "  c.reorder_categories(natsorted(c.categories), inplace=True)\n",
      "... storing 'predicted_cell_type' as categorical\n",
      "/data/estorrs/miniconda3/envs/pollock_new/lib/python3.8/site-packages/anndata/_core/anndata.py:1228: FutureWarning: The `inplace` parameter in pandas.Categorical.reorder_categories is deprecated and will be removed in a future version. Reordering categories will always return a new Categorical object.\n",
      "  c.reorder_categories(natsorted(c.categories), inplace=True)\n",
      "... storing 'predicted_cell_type' as categorical\n",
      "/data/estorrs/miniconda3/envs/pollock_new/lib/python3.8/site-packages/anndata/_core/anndata.py:1228: FutureWarning: The `inplace` parameter in pandas.Categorical.reorder_categories is deprecated and will be removed in a future version. Reordering categories will always return a new Categorical object.\n",
      "  c.reorder_categories(natsorted(c.categories), inplace=True)\n",
      "... storing 'predicted_cell_type' as categorical\n",
      "/data/estorrs/miniconda3/envs/pollock_new/lib/python3.8/site-packages/anndata/_core/anndata.py:1228: FutureWarning: The `inplace` parameter in pandas.Categorical.reorder_categories is deprecated and will be removed in a future version. Reordering categories will always return a new Categorical object.\n",
      "  c.reorder_categories(natsorted(c.categories), inplace=True)\n",
      "... storing 'predicted_cell_type' as categorical\n",
      "/data/estorrs/miniconda3/envs/pollock_new/lib/python3.8/site-packages/anndata/_core/anndata.py:1228: FutureWarning: The `inplace` parameter in pandas.Categorical.reorder_categories is deprecated and will be removed in a future version. Reordering categories will always return a new Categorical object.\n",
      "  c.reorder_categories(natsorted(c.categories), inplace=True)\n",
      "... storing 'predicted_cell_type' as categorical\n",
      "/data/estorrs/miniconda3/envs/pollock_new/lib/python3.8/site-packages/anndata/_core/anndata.py:1228: FutureWarning: The `inplace` parameter in pandas.Categorical.reorder_categories is deprecated and will be removed in a future version. Reordering categories will always return a new Categorical object.\n",
      "  c.reorder_categories(natsorted(c.categories), inplace=True)\n",
      "... storing 'predicted_cell_type' as categorical\n",
      "/data/estorrs/miniconda3/envs/pollock_new/lib/python3.8/site-packages/anndata/_core/anndata.py:1228: FutureWarning: The `inplace` parameter in pandas.Categorical.reorder_categories is deprecated and will be removed in a future version. Reordering categories will always return a new Categorical object.\n",
      "  c.reorder_categories(natsorted(c.categories), inplace=True)\n",
      "... storing 'predicted_cell_type' as categorical\n",
      "/data/estorrs/miniconda3/envs/pollock_new/lib/python3.8/site-packages/anndata/_core/anndata.py:1228: FutureWarning: The `inplace` parameter in pandas.Categorical.reorder_categories is deprecated and will be removed in a future version. Reordering categories will always return a new Categorical object.\n",
      "  c.reorder_categories(natsorted(c.categories), inplace=True)\n",
      "... storing 'predicted_cell_type' as categorical\n",
      "/data/estorrs/miniconda3/envs/pollock_new/lib/python3.8/site-packages/anndata/_core/anndata.py:1228: FutureWarning: The `inplace` parameter in pandas.Categorical.reorder_categories is deprecated and will be removed in a future version. Reordering categories will always return a new Categorical object.\n",
      "  c.reorder_categories(natsorted(c.categories), inplace=True)\n",
      "... storing 'predicted_cell_type' as categorical\n",
      "/data/estorrs/miniconda3/envs/pollock_new/lib/python3.8/site-packages/anndata/_core/anndata.py:1228: FutureWarning: The `inplace` parameter in pandas.Categorical.reorder_categories is deprecated and will be removed in a future version. Reordering categories will always return a new Categorical object.\n",
      "  c.reorder_categories(natsorted(c.categories), inplace=True)\n",
      "... storing 'predicted_cell_type' as categorical\n"
     ]
    },
    {
     "name": "stderr",
     "output_type": "stream",
     "text": [
      "/data/estorrs/miniconda3/envs/pollock_new/lib/python3.8/site-packages/anndata/_core/anndata.py:1228: FutureWarning: The `inplace` parameter in pandas.Categorical.reorder_categories is deprecated and will be removed in a future version. Reordering categories will always return a new Categorical object.\n",
      "  c.reorder_categories(natsorted(c.categories), inplace=True)\n",
      "... storing 'predicted_cell_type' as categorical\n",
      "/data/estorrs/miniconda3/envs/pollock_new/lib/python3.8/site-packages/anndata/_core/anndata.py:1228: FutureWarning: The `inplace` parameter in pandas.Categorical.reorder_categories is deprecated and will be removed in a future version. Reordering categories will always return a new Categorical object.\n",
      "  c.reorder_categories(natsorted(c.categories), inplace=True)\n",
      "... storing 'predicted_cell_type' as categorical\n",
      "/data/estorrs/miniconda3/envs/pollock_new/lib/python3.8/site-packages/anndata/_core/anndata.py:1228: FutureWarning: The `inplace` parameter in pandas.Categorical.reorder_categories is deprecated and will be removed in a future version. Reordering categories will always return a new Categorical object.\n",
      "  c.reorder_categories(natsorted(c.categories), inplace=True)\n",
      "... storing 'predicted_cell_type' as categorical\n",
      "/data/estorrs/miniconda3/envs/pollock_new/lib/python3.8/site-packages/anndata/_core/anndata.py:1228: FutureWarning: The `inplace` parameter in pandas.Categorical.reorder_categories is deprecated and will be removed in a future version. Reordering categories will always return a new Categorical object.\n",
      "  c.reorder_categories(natsorted(c.categories), inplace=True)\n",
      "... storing 'predicted_cell_type' as categorical\n",
      "/data/estorrs/miniconda3/envs/pollock_new/lib/python3.8/site-packages/anndata/_core/anndata.py:1228: FutureWarning: The `inplace` parameter in pandas.Categorical.reorder_categories is deprecated and will be removed in a future version. Reordering categories will always return a new Categorical object.\n",
      "  c.reorder_categories(natsorted(c.categories), inplace=True)\n",
      "... storing 'predicted_cell_type' as categorical\n",
      "/data/estorrs/miniconda3/envs/pollock_new/lib/python3.8/site-packages/anndata/_core/anndata.py:1228: FutureWarning: The `inplace` parameter in pandas.Categorical.reorder_categories is deprecated and will be removed in a future version. Reordering categories will always return a new Categorical object.\n",
      "  c.reorder_categories(natsorted(c.categories), inplace=True)\n",
      "... storing 'predicted_cell_type' as categorical\n",
      "/data/estorrs/miniconda3/envs/pollock_new/lib/python3.8/site-packages/anndata/_core/anndata.py:1228: FutureWarning: The `inplace` parameter in pandas.Categorical.reorder_categories is deprecated and will be removed in a future version. Reordering categories will always return a new Categorical object.\n",
      "  c.reorder_categories(natsorted(c.categories), inplace=True)\n",
      "... storing 'predicted_cell_type' as categorical\n",
      "/data/estorrs/miniconda3/envs/pollock_new/lib/python3.8/site-packages/anndata/_core/anndata.py:1228: FutureWarning: The `inplace` parameter in pandas.Categorical.reorder_categories is deprecated and will be removed in a future version. Reordering categories will always return a new Categorical object.\n",
      "  c.reorder_categories(natsorted(c.categories), inplace=True)\n",
      "... storing 'predicted_cell_type' as categorical\n",
      "/data/estorrs/miniconda3/envs/pollock_new/lib/python3.8/site-packages/anndata/_core/anndata.py:1228: FutureWarning: The `inplace` parameter in pandas.Categorical.reorder_categories is deprecated and will be removed in a future version. Reordering categories will always return a new Categorical object.\n",
      "  c.reorder_categories(natsorted(c.categories), inplace=True)\n",
      "... storing 'predicted_cell_type' as categorical\n",
      "/data/estorrs/miniconda3/envs/pollock_new/lib/python3.8/site-packages/anndata/_core/anndata.py:1228: FutureWarning: The `inplace` parameter in pandas.Categorical.reorder_categories is deprecated and will be removed in a future version. Reordering categories will always return a new Categorical object.\n",
      "  c.reorder_categories(natsorted(c.categories), inplace=True)\n",
      "... storing 'predicted_cell_type' as categorical\n",
      "/data/estorrs/miniconda3/envs/pollock_new/lib/python3.8/site-packages/anndata/_core/anndata.py:1228: FutureWarning: The `inplace` parameter in pandas.Categorical.reorder_categories is deprecated and will be removed in a future version. Reordering categories will always return a new Categorical object.\n",
      "  c.reorder_categories(natsorted(c.categories), inplace=True)\n",
      "... storing 'predicted_cell_type' as categorical\n",
      "/data/estorrs/miniconda3/envs/pollock_new/lib/python3.8/site-packages/anndata/_core/anndata.py:1228: FutureWarning: The `inplace` parameter in pandas.Categorical.reorder_categories is deprecated and will be removed in a future version. Reordering categories will always return a new Categorical object.\n",
      "  c.reorder_categories(natsorted(c.categories), inplace=True)\n",
      "... storing 'predicted_cell_type' as categorical\n",
      "/data/estorrs/miniconda3/envs/pollock_new/lib/python3.8/site-packages/anndata/_core/anndata.py:1228: FutureWarning: The `inplace` parameter in pandas.Categorical.reorder_categories is deprecated and will be removed in a future version. Reordering categories will always return a new Categorical object.\n",
      "  c.reorder_categories(natsorted(c.categories), inplace=True)\n",
      "... storing 'predicted_cell_type' as categorical\n",
      "/data/estorrs/miniconda3/envs/pollock_new/lib/python3.8/site-packages/anndata/_core/anndata.py:1228: FutureWarning: The `inplace` parameter in pandas.Categorical.reorder_categories is deprecated and will be removed in a future version. Reordering categories will always return a new Categorical object.\n",
      "  c.reorder_categories(natsorted(c.categories), inplace=True)\n",
      "... storing 'predicted_cell_type' as categorical\n",
      "/data/estorrs/miniconda3/envs/pollock_new/lib/python3.8/site-packages/anndata/_core/anndata.py:1228: FutureWarning: The `inplace` parameter in pandas.Categorical.reorder_categories is deprecated and will be removed in a future version. Reordering categories will always return a new Categorical object.\n",
      "  c.reorder_categories(natsorted(c.categories), inplace=True)\n",
      "... storing 'predicted_cell_type' as categorical\n",
      "/data/estorrs/miniconda3/envs/pollock_new/lib/python3.8/site-packages/anndata/_core/anndata.py:1228: FutureWarning: The `inplace` parameter in pandas.Categorical.reorder_categories is deprecated and will be removed in a future version. Reordering categories will always return a new Categorical object.\n",
      "  c.reorder_categories(natsorted(c.categories), inplace=True)\n",
      "... storing 'predicted_cell_type' as categorical\n",
      "/data/estorrs/miniconda3/envs/pollock_new/lib/python3.8/site-packages/anndata/_core/anndata.py:1228: FutureWarning: The `inplace` parameter in pandas.Categorical.reorder_categories is deprecated and will be removed in a future version. Reordering categories will always return a new Categorical object.\n",
      "  c.reorder_categories(natsorted(c.categories), inplace=True)\n",
      "... storing 'predicted_cell_type' as categorical\n",
      "/data/estorrs/miniconda3/envs/pollock_new/lib/python3.8/site-packages/anndata/_core/anndata.py:1228: FutureWarning: The `inplace` parameter in pandas.Categorical.reorder_categories is deprecated and will be removed in a future version. Reordering categories will always return a new Categorical object.\n",
      "  c.reorder_categories(natsorted(c.categories), inplace=True)\n",
      "... storing 'predicted_cell_type' as categorical\n",
      "/data/estorrs/miniconda3/envs/pollock_new/lib/python3.8/site-packages/anndata/_core/anndata.py:1228: FutureWarning: The `inplace` parameter in pandas.Categorical.reorder_categories is deprecated and will be removed in a future version. Reordering categories will always return a new Categorical object.\n",
      "  c.reorder_categories(natsorted(c.categories), inplace=True)\n",
      "... storing 'predicted_cell_type' as categorical\n",
      "/data/estorrs/miniconda3/envs/pollock_new/lib/python3.8/site-packages/anndata/_core/anndata.py:1228: FutureWarning: The `inplace` parameter in pandas.Categorical.reorder_categories is deprecated and will be removed in a future version. Reordering categories will always return a new Categorical object.\n",
      "  c.reorder_categories(natsorted(c.categories), inplace=True)\n",
      "... storing 'predicted_cell_type' as categorical\n"
     ]
    }
   ],
   "source": [
    "for dtype, d1 in to_prediction.items():\n",
    "    for disease, d2 in d1.items():\n",
    "        for fold, a in d2.items():\n",
    "            a.write_h5ad(os.path.join(result_dir, f'{dtype}_{disease}_{fold}.h5ad'))"
   ]
  },
  {
   "cell_type": "code",
   "execution_count": 31,
   "id": "92b9bf4a",
   "metadata": {
    "hidden": true
   },
   "outputs": [
    {
     "name": "stdout",
     "output_type": "stream",
     "text": [
      "snRNAseq ccrcc fold3\n",
      "snRNAseq ccrcc fold1\n",
      "snRNAseq ccrcc fold2\n",
      "snRNAseq ccrcc fold0\n",
      "snRNAseq ccrcc fold4\n",
      "snRNAseq brca fold2\n",
      "snRNAseq brca fold1\n",
      "snRNAseq brca fold3\n",
      "snRNAseq brca fold0\n",
      "snRNAseq brca fold4\n",
      "snRNAseq gbm fold4\n",
      "snRNAseq gbm fold3\n",
      "snRNAseq gbm fold0\n",
      "snRNAseq gbm fold2\n"
     ]
    },
    {
     "name": "stderr",
     "output_type": "stream",
     "text": [
      "/data/estorrs/miniconda3/envs/pollock_new/lib/python3.8/site-packages/sklearn/metrics/_classification.py:1318: UndefinedMetricWarning: Precision and F-score are ill-defined and being set to 0.0 in labels with no predicted samples. Use `zero_division` parameter to control this behavior.\n",
      "  _warn_prf(average, modifier, msg_start, len(result))\n",
      "/data/estorrs/miniconda3/envs/pollock_new/lib/python3.8/site-packages/sklearn/metrics/_classification.py:1318: UndefinedMetricWarning: Precision and F-score are ill-defined and being set to 0.0 in labels with no predicted samples. Use `zero_division` parameter to control this behavior.\n",
      "  _warn_prf(average, modifier, msg_start, len(result))\n",
      "/data/estorrs/miniconda3/envs/pollock_new/lib/python3.8/site-packages/sklearn/metrics/_classification.py:1318: UndefinedMetricWarning: Precision and F-score are ill-defined and being set to 0.0 in labels with no predicted samples. Use `zero_division` parameter to control this behavior.\n",
      "  _warn_prf(average, modifier, msg_start, len(result))\n",
      "/data/estorrs/miniconda3/envs/pollock_new/lib/python3.8/site-packages/sklearn/metrics/_classification.py:1318: UndefinedMetricWarning: Precision and F-score are ill-defined and being set to 0.0 in labels with no predicted samples. Use `zero_division` parameter to control this behavior.\n",
      "  _warn_prf(average, modifier, msg_start, len(result))\n",
      "/data/estorrs/miniconda3/envs/pollock_new/lib/python3.8/site-packages/sklearn/metrics/_classification.py:1318: UndefinedMetricWarning: Precision and F-score are ill-defined and being set to 0.0 in labels with no predicted samples. Use `zero_division` parameter to control this behavior.\n",
      "  _warn_prf(average, modifier, msg_start, len(result))\n",
      "/data/estorrs/miniconda3/envs/pollock_new/lib/python3.8/site-packages/sklearn/metrics/_classification.py:1318: UndefinedMetricWarning: Precision and F-score are ill-defined and being set to 0.0 in labels with no predicted samples. Use `zero_division` parameter to control this behavior.\n",
      "  _warn_prf(average, modifier, msg_start, len(result))\n"
     ]
    },
    {
     "name": "stdout",
     "output_type": "stream",
     "text": [
      "snRNAseq gbm fold1\n",
      "snATACseq ccrcc fold3\n",
      "snATACseq ccrcc fold1\n",
      "snATACseq ccrcc fold2\n",
      "snATACseq ccrcc fold0\n",
      "snATACseq ccrcc fold4\n",
      "snATACseq brca fold2\n",
      "snATACseq brca fold1\n"
     ]
    },
    {
     "name": "stderr",
     "output_type": "stream",
     "text": [
      "/data/estorrs/miniconda3/envs/pollock_new/lib/python3.8/site-packages/sklearn/metrics/_classification.py:1318: UndefinedMetricWarning: Precision and F-score are ill-defined and being set to 0.0 in labels with no predicted samples. Use `zero_division` parameter to control this behavior.\n",
      "  _warn_prf(average, modifier, msg_start, len(result))\n",
      "/data/estorrs/miniconda3/envs/pollock_new/lib/python3.8/site-packages/sklearn/metrics/_classification.py:1318: UndefinedMetricWarning: Precision and F-score are ill-defined and being set to 0.0 in labels with no predicted samples. Use `zero_division` parameter to control this behavior.\n",
      "  _warn_prf(average, modifier, msg_start, len(result))\n",
      "/data/estorrs/miniconda3/envs/pollock_new/lib/python3.8/site-packages/sklearn/metrics/_classification.py:1318: UndefinedMetricWarning: Precision and F-score are ill-defined and being set to 0.0 in labels with no predicted samples. Use `zero_division` parameter to control this behavior.\n",
      "  _warn_prf(average, modifier, msg_start, len(result))\n",
      "/data/estorrs/miniconda3/envs/pollock_new/lib/python3.8/site-packages/sklearn/metrics/_classification.py:1318: UndefinedMetricWarning: Precision and F-score are ill-defined and being set to 0.0 in labels with no predicted samples. Use `zero_division` parameter to control this behavior.\n",
      "  _warn_prf(average, modifier, msg_start, len(result))\n",
      "/data/estorrs/miniconda3/envs/pollock_new/lib/python3.8/site-packages/sklearn/metrics/_classification.py:1318: UndefinedMetricWarning: Precision and F-score are ill-defined and being set to 0.0 in labels with no predicted samples. Use `zero_division` parameter to control this behavior.\n",
      "  _warn_prf(average, modifier, msg_start, len(result))\n",
      "/data/estorrs/miniconda3/envs/pollock_new/lib/python3.8/site-packages/sklearn/metrics/_classification.py:1318: UndefinedMetricWarning: Precision and F-score are ill-defined and being set to 0.0 in labels with no predicted samples. Use `zero_division` parameter to control this behavior.\n",
      "  _warn_prf(average, modifier, msg_start, len(result))\n"
     ]
    },
    {
     "name": "stdout",
     "output_type": "stream",
     "text": [
      "snATACseq brca fold3\n",
      "snATACseq brca fold0\n"
     ]
    },
    {
     "name": "stderr",
     "output_type": "stream",
     "text": [
      "/data/estorrs/miniconda3/envs/pollock_new/lib/python3.8/site-packages/sklearn/metrics/_classification.py:1318: UndefinedMetricWarning: Precision and F-score are ill-defined and being set to 0.0 in labels with no predicted samples. Use `zero_division` parameter to control this behavior.\n",
      "  _warn_prf(average, modifier, msg_start, len(result))\n",
      "/data/estorrs/miniconda3/envs/pollock_new/lib/python3.8/site-packages/sklearn/metrics/_classification.py:1318: UndefinedMetricWarning: Precision and F-score are ill-defined and being set to 0.0 in labels with no predicted samples. Use `zero_division` parameter to control this behavior.\n",
      "  _warn_prf(average, modifier, msg_start, len(result))\n",
      "/data/estorrs/miniconda3/envs/pollock_new/lib/python3.8/site-packages/sklearn/metrics/_classification.py:1318: UndefinedMetricWarning: Precision and F-score are ill-defined and being set to 0.0 in labels with no predicted samples. Use `zero_division` parameter to control this behavior.\n",
      "  _warn_prf(average, modifier, msg_start, len(result))\n",
      "/data/estorrs/miniconda3/envs/pollock_new/lib/python3.8/site-packages/sklearn/metrics/_classification.py:1318: UndefinedMetricWarning: Precision and F-score are ill-defined and being set to 0.0 in labels with no predicted samples. Use `zero_division` parameter to control this behavior.\n",
      "  _warn_prf(average, modifier, msg_start, len(result))\n",
      "/data/estorrs/miniconda3/envs/pollock_new/lib/python3.8/site-packages/sklearn/metrics/_classification.py:1318: UndefinedMetricWarning: Precision and F-score are ill-defined and being set to 0.0 in labels with no predicted samples. Use `zero_division` parameter to control this behavior.\n",
      "  _warn_prf(average, modifier, msg_start, len(result))\n",
      "/data/estorrs/miniconda3/envs/pollock_new/lib/python3.8/site-packages/sklearn/metrics/_classification.py:1318: UndefinedMetricWarning: Precision and F-score are ill-defined and being set to 0.0 in labels with no predicted samples. Use `zero_division` parameter to control this behavior.\n",
      "  _warn_prf(average, modifier, msg_start, len(result))\n"
     ]
    },
    {
     "name": "stdout",
     "output_type": "stream",
     "text": [
      "snATACseq brca fold4\n",
      "snATACseq gbm fold4\n",
      "snATACseq gbm fold3\n",
      "snATACseq gbm fold0\n",
      "snATACseq gbm fold2\n",
      "snATACseq gbm fold1\n"
     ]
    },
    {
     "name": "stderr",
     "output_type": "stream",
     "text": [
      "/data/estorrs/miniconda3/envs/pollock_new/lib/python3.8/site-packages/sklearn/metrics/_classification.py:1318: UndefinedMetricWarning: Precision and F-score are ill-defined and being set to 0.0 in labels with no predicted samples. Use `zero_division` parameter to control this behavior.\n",
      "  _warn_prf(average, modifier, msg_start, len(result))\n",
      "/data/estorrs/miniconda3/envs/pollock_new/lib/python3.8/site-packages/sklearn/metrics/_classification.py:1318: UndefinedMetricWarning: Precision and F-score are ill-defined and being set to 0.0 in labels with no predicted samples. Use `zero_division` parameter to control this behavior.\n",
      "  _warn_prf(average, modifier, msg_start, len(result))\n",
      "/data/estorrs/miniconda3/envs/pollock_new/lib/python3.8/site-packages/sklearn/metrics/_classification.py:1318: UndefinedMetricWarning: Precision and F-score are ill-defined and being set to 0.0 in labels with no predicted samples. Use `zero_division` parameter to control this behavior.\n",
      "  _warn_prf(average, modifier, msg_start, len(result))\n"
     ]
    },
    {
     "name": "stdout",
     "output_type": "stream",
     "text": [
      "scRNAseq hnscc fold0\n",
      "scRNAseq hnscc fold4\n",
      "scRNAseq hnscc fold1\n",
      "scRNAseq hnscc fold3\n",
      "scRNAseq hnscc fold2\n",
      "scRNAseq cesc fold4\n",
      "scRNAseq cesc fold3\n",
      "scRNAseq cesc fold2\n"
     ]
    },
    {
     "name": "stderr",
     "output_type": "stream",
     "text": [
      "/data/estorrs/miniconda3/envs/pollock_new/lib/python3.8/site-packages/sklearn/metrics/_classification.py:1318: UndefinedMetricWarning: Precision and F-score are ill-defined and being set to 0.0 in labels with no predicted samples. Use `zero_division` parameter to control this behavior.\n",
      "  _warn_prf(average, modifier, msg_start, len(result))\n",
      "/data/estorrs/miniconda3/envs/pollock_new/lib/python3.8/site-packages/sklearn/metrics/_classification.py:1318: UndefinedMetricWarning: Precision and F-score are ill-defined and being set to 0.0 in labels with no predicted samples. Use `zero_division` parameter to control this behavior.\n",
      "  _warn_prf(average, modifier, msg_start, len(result))\n",
      "/data/estorrs/miniconda3/envs/pollock_new/lib/python3.8/site-packages/sklearn/metrics/_classification.py:1318: UndefinedMetricWarning: Precision and F-score are ill-defined and being set to 0.0 in labels with no predicted samples. Use `zero_division` parameter to control this behavior.\n",
      "  _warn_prf(average, modifier, msg_start, len(result))\n",
      "/data/estorrs/miniconda3/envs/pollock_new/lib/python3.8/site-packages/sklearn/metrics/_classification.py:1318: UndefinedMetricWarning: Precision and F-score are ill-defined and being set to 0.0 in labels with no predicted samples. Use `zero_division` parameter to control this behavior.\n",
      "  _warn_prf(average, modifier, msg_start, len(result))\n",
      "/data/estorrs/miniconda3/envs/pollock_new/lib/python3.8/site-packages/sklearn/metrics/_classification.py:1318: UndefinedMetricWarning: Precision and F-score are ill-defined and being set to 0.0 in labels with no predicted samples. Use `zero_division` parameter to control this behavior.\n",
      "  _warn_prf(average, modifier, msg_start, len(result))\n",
      "/data/estorrs/miniconda3/envs/pollock_new/lib/python3.8/site-packages/sklearn/metrics/_classification.py:1318: UndefinedMetricWarning: Precision and F-score are ill-defined and being set to 0.0 in labels with no predicted samples. Use `zero_division` parameter to control this behavior.\n",
      "  _warn_prf(average, modifier, msg_start, len(result))\n",
      "/data/estorrs/miniconda3/envs/pollock_new/lib/python3.8/site-packages/sklearn/metrics/_classification.py:1318: UndefinedMetricWarning: Precision and F-score are ill-defined and being set to 0.0 in labels with no predicted samples. Use `zero_division` parameter to control this behavior.\n",
      "  _warn_prf(average, modifier, msg_start, len(result))\n",
      "/data/estorrs/miniconda3/envs/pollock_new/lib/python3.8/site-packages/sklearn/metrics/_classification.py:1318: UndefinedMetricWarning: Precision and F-score are ill-defined and being set to 0.0 in labels with no predicted samples. Use `zero_division` parameter to control this behavior.\n",
      "  _warn_prf(average, modifier, msg_start, len(result))\n",
      "/data/estorrs/miniconda3/envs/pollock_new/lib/python3.8/site-packages/sklearn/metrics/_classification.py:1318: UndefinedMetricWarning: Precision and F-score are ill-defined and being set to 0.0 in labels with no predicted samples. Use `zero_division` parameter to control this behavior.\n",
      "  _warn_prf(average, modifier, msg_start, len(result))\n"
     ]
    },
    {
     "name": "stdout",
     "output_type": "stream",
     "text": [
      "scRNAseq cesc fold0\n",
      "scRNAseq cesc fold1\n",
      "scRNAseq brca fold2\n"
     ]
    },
    {
     "name": "stderr",
     "output_type": "stream",
     "text": [
      "/data/estorrs/miniconda3/envs/pollock_new/lib/python3.8/site-packages/sklearn/metrics/_classification.py:1318: UndefinedMetricWarning: Precision and F-score are ill-defined and being set to 0.0 in labels with no predicted samples. Use `zero_division` parameter to control this behavior.\n",
      "  _warn_prf(average, modifier, msg_start, len(result))\n",
      "/data/estorrs/miniconda3/envs/pollock_new/lib/python3.8/site-packages/sklearn/metrics/_classification.py:1318: UndefinedMetricWarning: Precision and F-score are ill-defined and being set to 0.0 in labels with no predicted samples. Use `zero_division` parameter to control this behavior.\n",
      "  _warn_prf(average, modifier, msg_start, len(result))\n",
      "/data/estorrs/miniconda3/envs/pollock_new/lib/python3.8/site-packages/sklearn/metrics/_classification.py:1318: UndefinedMetricWarning: Precision and F-score are ill-defined and being set to 0.0 in labels with no predicted samples. Use `zero_division` parameter to control this behavior.\n",
      "  _warn_prf(average, modifier, msg_start, len(result))\n"
     ]
    },
    {
     "name": "stdout",
     "output_type": "stream",
     "text": [
      "scRNAseq brca fold1\n",
      "scRNAseq brca fold3\n",
      "scRNAseq brca fold0\n",
      "scRNAseq brca fold4\n",
      "scRNAseq myeloma fold0\n",
      "scRNAseq myeloma fold1\n"
     ]
    },
    {
     "name": "stderr",
     "output_type": "stream",
     "text": [
      "/data/estorrs/miniconda3/envs/pollock_new/lib/python3.8/site-packages/sklearn/metrics/_classification.py:1318: UndefinedMetricWarning: Precision and F-score are ill-defined and being set to 0.0 in labels with no predicted samples. Use `zero_division` parameter to control this behavior.\n",
      "  _warn_prf(average, modifier, msg_start, len(result))\n",
      "/data/estorrs/miniconda3/envs/pollock_new/lib/python3.8/site-packages/sklearn/metrics/_classification.py:1318: UndefinedMetricWarning: Precision and F-score are ill-defined and being set to 0.0 in labels with no predicted samples. Use `zero_division` parameter to control this behavior.\n",
      "  _warn_prf(average, modifier, msg_start, len(result))\n",
      "/data/estorrs/miniconda3/envs/pollock_new/lib/python3.8/site-packages/sklearn/metrics/_classification.py:1318: UndefinedMetricWarning: Precision and F-score are ill-defined and being set to 0.0 in labels with no predicted samples. Use `zero_division` parameter to control this behavior.\n",
      "  _warn_prf(average, modifier, msg_start, len(result))\n",
      "/data/estorrs/miniconda3/envs/pollock_new/lib/python3.8/site-packages/sklearn/metrics/_classification.py:1318: UndefinedMetricWarning: Precision and F-score are ill-defined and being set to 0.0 in labels with no predicted samples. Use `zero_division` parameter to control this behavior.\n",
      "  _warn_prf(average, modifier, msg_start, len(result))\n",
      "/data/estorrs/miniconda3/envs/pollock_new/lib/python3.8/site-packages/sklearn/metrics/_classification.py:1318: UndefinedMetricWarning: Precision and F-score are ill-defined and being set to 0.0 in labels with no predicted samples. Use `zero_division` parameter to control this behavior.\n",
      "  _warn_prf(average, modifier, msg_start, len(result))\n",
      "/data/estorrs/miniconda3/envs/pollock_new/lib/python3.8/site-packages/sklearn/metrics/_classification.py:1318: UndefinedMetricWarning: Precision and F-score are ill-defined and being set to 0.0 in labels with no predicted samples. Use `zero_division` parameter to control this behavior.\n",
      "  _warn_prf(average, modifier, msg_start, len(result))\n",
      "/data/estorrs/miniconda3/envs/pollock_new/lib/python3.8/site-packages/sklearn/metrics/_classification.py:1318: UndefinedMetricWarning: Precision and F-score are ill-defined and being set to 0.0 in labels with no predicted samples. Use `zero_division` parameter to control this behavior.\n",
      "  _warn_prf(average, modifier, msg_start, len(result))\n",
      "/data/estorrs/miniconda3/envs/pollock_new/lib/python3.8/site-packages/sklearn/metrics/_classification.py:1318: UndefinedMetricWarning: Precision and F-score are ill-defined and being set to 0.0 in labels with no predicted samples. Use `zero_division` parameter to control this behavior.\n",
      "  _warn_prf(average, modifier, msg_start, len(result))\n",
      "/data/estorrs/miniconda3/envs/pollock_new/lib/python3.8/site-packages/sklearn/metrics/_classification.py:1318: UndefinedMetricWarning: Precision and F-score are ill-defined and being set to 0.0 in labels with no predicted samples. Use `zero_division` parameter to control this behavior.\n",
      "  _warn_prf(average, modifier, msg_start, len(result))\n",
      "/data/estorrs/miniconda3/envs/pollock_new/lib/python3.8/site-packages/sklearn/metrics/_classification.py:1318: UndefinedMetricWarning: Precision and F-score are ill-defined and being set to 0.0 in labels with no predicted samples. Use `zero_division` parameter to control this behavior.\n",
      "  _warn_prf(average, modifier, msg_start, len(result))\n",
      "/data/estorrs/miniconda3/envs/pollock_new/lib/python3.8/site-packages/sklearn/metrics/_classification.py:1318: UndefinedMetricWarning: Precision and F-score are ill-defined and being set to 0.0 in labels with no predicted samples. Use `zero_division` parameter to control this behavior.\n",
      "  _warn_prf(average, modifier, msg_start, len(result))\n",
      "/data/estorrs/miniconda3/envs/pollock_new/lib/python3.8/site-packages/sklearn/metrics/_classification.py:1318: UndefinedMetricWarning: Precision and F-score are ill-defined and being set to 0.0 in labels with no predicted samples. Use `zero_division` parameter to control this behavior.\n",
      "  _warn_prf(average, modifier, msg_start, len(result))\n"
     ]
    },
    {
     "name": "stdout",
     "output_type": "stream",
     "text": [
      "scRNAseq myeloma fold3\n",
      "scRNAseq myeloma fold4\n",
      "scRNAseq myeloma fold2\n",
      "scRNAseq melanoma fold3\n"
     ]
    },
    {
     "name": "stderr",
     "output_type": "stream",
     "text": [
      "/data/estorrs/miniconda3/envs/pollock_new/lib/python3.8/site-packages/sklearn/metrics/_classification.py:1318: UndefinedMetricWarning: Precision and F-score are ill-defined and being set to 0.0 in labels with no predicted samples. Use `zero_division` parameter to control this behavior.\n",
      "  _warn_prf(average, modifier, msg_start, len(result))\n",
      "/data/estorrs/miniconda3/envs/pollock_new/lib/python3.8/site-packages/sklearn/metrics/_classification.py:1318: UndefinedMetricWarning: Precision and F-score are ill-defined and being set to 0.0 in labels with no predicted samples. Use `zero_division` parameter to control this behavior.\n",
      "  _warn_prf(average, modifier, msg_start, len(result))\n",
      "/data/estorrs/miniconda3/envs/pollock_new/lib/python3.8/site-packages/sklearn/metrics/_classification.py:1318: UndefinedMetricWarning: Precision and F-score are ill-defined and being set to 0.0 in labels with no predicted samples. Use `zero_division` parameter to control this behavior.\n",
      "  _warn_prf(average, modifier, msg_start, len(result))\n",
      "/data/estorrs/miniconda3/envs/pollock_new/lib/python3.8/site-packages/sklearn/metrics/_classification.py:1318: UndefinedMetricWarning: Precision and F-score are ill-defined and being set to 0.0 in labels with no predicted samples. Use `zero_division` parameter to control this behavior.\n",
      "  _warn_prf(average, modifier, msg_start, len(result))\n",
      "/data/estorrs/miniconda3/envs/pollock_new/lib/python3.8/site-packages/sklearn/metrics/_classification.py:1318: UndefinedMetricWarning: Precision and F-score are ill-defined and being set to 0.0 in labels with no predicted samples. Use `zero_division` parameter to control this behavior.\n",
      "  _warn_prf(average, modifier, msg_start, len(result))\n",
      "/data/estorrs/miniconda3/envs/pollock_new/lib/python3.8/site-packages/sklearn/metrics/_classification.py:1318: UndefinedMetricWarning: Precision and F-score are ill-defined and being set to 0.0 in labels with no predicted samples. Use `zero_division` parameter to control this behavior.\n",
      "  _warn_prf(average, modifier, msg_start, len(result))\n"
     ]
    },
    {
     "name": "stdout",
     "output_type": "stream",
     "text": [
      "scRNAseq melanoma fold0\n",
      "scRNAseq melanoma fold2\n",
      "scRNAseq melanoma fold1\n",
      "scRNAseq melanoma fold4\n"
     ]
    },
    {
     "name": "stderr",
     "output_type": "stream",
     "text": [
      "/data/estorrs/miniconda3/envs/pollock_new/lib/python3.8/site-packages/sklearn/metrics/_classification.py:1318: UndefinedMetricWarning: Precision and F-score are ill-defined and being set to 0.0 in labels with no predicted samples. Use `zero_division` parameter to control this behavior.\n",
      "  _warn_prf(average, modifier, msg_start, len(result))\n",
      "/data/estorrs/miniconda3/envs/pollock_new/lib/python3.8/site-packages/sklearn/metrics/_classification.py:1318: UndefinedMetricWarning: Precision and F-score are ill-defined and being set to 0.0 in labels with no predicted samples. Use `zero_division` parameter to control this behavior.\n",
      "  _warn_prf(average, modifier, msg_start, len(result))\n",
      "/data/estorrs/miniconda3/envs/pollock_new/lib/python3.8/site-packages/sklearn/metrics/_classification.py:1318: UndefinedMetricWarning: Precision and F-score are ill-defined and being set to 0.0 in labels with no predicted samples. Use `zero_division` parameter to control this behavior.\n",
      "  _warn_prf(average, modifier, msg_start, len(result))\n",
      "/data/estorrs/miniconda3/envs/pollock_new/lib/python3.8/site-packages/sklearn/metrics/_classification.py:1318: UndefinedMetricWarning: Precision and F-score are ill-defined and being set to 0.0 in labels with no predicted samples. Use `zero_division` parameter to control this behavior.\n",
      "  _warn_prf(average, modifier, msg_start, len(result))\n",
      "/data/estorrs/miniconda3/envs/pollock_new/lib/python3.8/site-packages/sklearn/metrics/_classification.py:1318: UndefinedMetricWarning: Precision and F-score are ill-defined and being set to 0.0 in labels with no predicted samples. Use `zero_division` parameter to control this behavior.\n",
      "  _warn_prf(average, modifier, msg_start, len(result))\n",
      "/data/estorrs/miniconda3/envs/pollock_new/lib/python3.8/site-packages/sklearn/metrics/_classification.py:1318: UndefinedMetricWarning: Precision and F-score are ill-defined and being set to 0.0 in labels with no predicted samples. Use `zero_division` parameter to control this behavior.\n",
      "  _warn_prf(average, modifier, msg_start, len(result))\n"
     ]
    },
    {
     "name": "stdout",
     "output_type": "stream",
     "text": [
      "scRNAseq pdac fold2\n",
      "scRNAseq pdac fold3\n",
      "scRNAseq pdac fold1\n"
     ]
    },
    {
     "name": "stderr",
     "output_type": "stream",
     "text": [
      "/data/estorrs/miniconda3/envs/pollock_new/lib/python3.8/site-packages/sklearn/metrics/_classification.py:1318: UndefinedMetricWarning: Precision and F-score are ill-defined and being set to 0.0 in labels with no predicted samples. Use `zero_division` parameter to control this behavior.\n",
      "  _warn_prf(average, modifier, msg_start, len(result))\n",
      "/data/estorrs/miniconda3/envs/pollock_new/lib/python3.8/site-packages/sklearn/metrics/_classification.py:1318: UndefinedMetricWarning: Precision and F-score are ill-defined and being set to 0.0 in labels with no predicted samples. Use `zero_division` parameter to control this behavior.\n",
      "  _warn_prf(average, modifier, msg_start, len(result))\n",
      "/data/estorrs/miniconda3/envs/pollock_new/lib/python3.8/site-packages/sklearn/metrics/_classification.py:1318: UndefinedMetricWarning: Precision and F-score are ill-defined and being set to 0.0 in labels with no predicted samples. Use `zero_division` parameter to control this behavior.\n",
      "  _warn_prf(average, modifier, msg_start, len(result))\n",
      "/data/estorrs/miniconda3/envs/pollock_new/lib/python3.8/site-packages/sklearn/metrics/_classification.py:1318: UndefinedMetricWarning: Precision and F-score are ill-defined and being set to 0.0 in labels with no predicted samples. Use `zero_division` parameter to control this behavior.\n",
      "  _warn_prf(average, modifier, msg_start, len(result))\n",
      "/data/estorrs/miniconda3/envs/pollock_new/lib/python3.8/site-packages/sklearn/metrics/_classification.py:1318: UndefinedMetricWarning: Precision and F-score are ill-defined and being set to 0.0 in labels with no predicted samples. Use `zero_division` parameter to control this behavior.\n",
      "  _warn_prf(average, modifier, msg_start, len(result))\n",
      "/data/estorrs/miniconda3/envs/pollock_new/lib/python3.8/site-packages/sklearn/metrics/_classification.py:1318: UndefinedMetricWarning: Precision and F-score are ill-defined and being set to 0.0 in labels with no predicted samples. Use `zero_division` parameter to control this behavior.\n",
      "  _warn_prf(average, modifier, msg_start, len(result))\n"
     ]
    },
    {
     "name": "stdout",
     "output_type": "stream",
     "text": [
      "scRNAseq pdac fold4\n",
      "scRNAseq pdac fold0\n"
     ]
    },
    {
     "name": "stderr",
     "output_type": "stream",
     "text": [
      "/data/estorrs/miniconda3/envs/pollock_new/lib/python3.8/site-packages/sklearn/metrics/_classification.py:1318: UndefinedMetricWarning: Precision and F-score are ill-defined and being set to 0.0 in labels with no predicted samples. Use `zero_division` parameter to control this behavior.\n",
      "  _warn_prf(average, modifier, msg_start, len(result))\n",
      "/data/estorrs/miniconda3/envs/pollock_new/lib/python3.8/site-packages/sklearn/metrics/_classification.py:1318: UndefinedMetricWarning: Precision and F-score are ill-defined and being set to 0.0 in labels with no predicted samples. Use `zero_division` parameter to control this behavior.\n",
      "  _warn_prf(average, modifier, msg_start, len(result))\n",
      "/data/estorrs/miniconda3/envs/pollock_new/lib/python3.8/site-packages/sklearn/metrics/_classification.py:1318: UndefinedMetricWarning: Precision and F-score are ill-defined and being set to 0.0 in labels with no predicted samples. Use `zero_division` parameter to control this behavior.\n",
      "  _warn_prf(average, modifier, msg_start, len(result))\n",
      "/data/estorrs/miniconda3/envs/pollock_new/lib/python3.8/site-packages/sklearn/metrics/_classification.py:1318: UndefinedMetricWarning: Precision and F-score are ill-defined and being set to 0.0 in labels with no predicted samples. Use `zero_division` parameter to control this behavior.\n",
      "  _warn_prf(average, modifier, msg_start, len(result))\n",
      "/data/estorrs/miniconda3/envs/pollock_new/lib/python3.8/site-packages/sklearn/metrics/_classification.py:1318: UndefinedMetricWarning: Precision and F-score are ill-defined and being set to 0.0 in labels with no predicted samples. Use `zero_division` parameter to control this behavior.\n",
      "  _warn_prf(average, modifier, msg_start, len(result))\n",
      "/data/estorrs/miniconda3/envs/pollock_new/lib/python3.8/site-packages/sklearn/metrics/_classification.py:1318: UndefinedMetricWarning: Precision and F-score are ill-defined and being set to 0.0 in labels with no predicted samples. Use `zero_division` parameter to control this behavior.\n",
      "  _warn_prf(average, modifier, msg_start, len(result))\n"
     ]
    }
   ],
   "source": [
    "for dtype, d1 in to_prediction.items():\n",
    "    for disease, d2 in d1.items():\n",
    "        for fold, a in d2.items():\n",
    "            print(dtype, disease, fold)\n",
    "            adata = sc.read_h5ad(os.path.join(result_dir, f'{dtype}_{disease}_{fold}.h5ad'))\n",
    "            y_pred = adata.obs['predicted_cell_type'].to_list()\n",
    "            y_true = adata.obs['cell_type'].to_list()\n",
    "            d, cm = get_metrics(y_true, y_pred)\n",
    "\n",
    "            d.to_csv(os.path.join(result_dir, f'{dtype}_{disease}_{fold}_clf_report.txt'), sep='\\t')\n",
    "            cm.to_csv(os.path.join(result_dir, f'{dtype}_{disease}_{fold}_confusion_matrix.txt'), sep='\\t')"
   ]
  },
  {
   "cell_type": "markdown",
   "id": "4fd50399",
   "metadata": {
    "heading_collapsed": true
   },
   "source": [
    "###### actinn"
   ]
  },
  {
   "cell_type": "code",
   "execution_count": 16,
   "id": "fa0d47ae",
   "metadata": {
    "hidden": true
   },
   "outputs": [],
   "source": [
    "result_dir = '/data/pollock/benchmarking/results/actinn/'"
   ]
  },
  {
   "cell_type": "code",
   "execution_count": 17,
   "id": "0e5cc26e",
   "metadata": {
    "hidden": true
   },
   "outputs": [
    {
     "data": {
      "text/plain": [
       "['/home/estorrs/pollock/benchmarking/results/01272021_harmonized_v2/scRNAseq/brca/actinn.tsv',\n",
       " '/home/estorrs/pollock/benchmarking/results/01272021_harmonized_v2/scRNAseq/cesc/actinn.tsv',\n",
       " '/home/estorrs/pollock/benchmarking/results/01272021_harmonized_v2/scRNAseq/hnscc/actinn.tsv',\n",
       " '/home/estorrs/pollock/benchmarking/results/01272021_harmonized_v2/scRNAseq/pdac/actinn.tsv',\n",
       " '/home/estorrs/pollock/benchmarking/results/01272021_harmonized_v2/snATACseq/brca_gene_activity/actinn.tsv',\n",
       " '/home/estorrs/pollock/benchmarking/results/01272021_harmonized_v2/snATACseq/ccrcc_gene_activity/actinn.tsv',\n",
       " '/home/estorrs/pollock/benchmarking/results/01272021_harmonized_v2/snATACseq/gbm_gene_activity/actinn.tsv',\n",
       " '/home/estorrs/pollock/benchmarking/results/01272021_harmonized_v2/snRNAseq/brca/actinn.tsv',\n",
       " '/home/estorrs/pollock/benchmarking/results/01272021_harmonized_v2/snRNAseq/ccrcc/actinn.tsv',\n",
       " '/home/estorrs/pollock/benchmarking/results/01272021_harmonized_v2/snRNAseq/gbm/actinn.tsv']"
      ]
     },
     "execution_count": 17,
     "metadata": {},
     "output_type": "execute_result"
    }
   ],
   "source": [
    "fps = sorted(utils.listfiles('/home/estorrs/pollock/benchmarking/results/01272021_harmonized_v2/', regex=r'actinn.tsv'))\n",
    "fps"
   ]
  },
  {
   "cell_type": "code",
   "execution_count": 18,
   "id": "6cd5ccae",
   "metadata": {
    "hidden": true
   },
   "outputs": [],
   "source": [
    "for fp in fps:\n",
    "    disease = fp.split('/')[-2]\n",
    "    dtype = fp.split('/')[-3]\n",
    "    df = pd.read_csv(fp, sep='\\t')\n",
    "    y_pred = df['predicted'].to_list()\n",
    "    y_true = df['groundtruth'].to_list()\n",
    "    \n",
    "    d, cm = get_metrics(y_true, y_pred)\n",
    "        \n",
    "    d.to_csv(os.path.join(result_dir, f'{dtype}_{disease}_clf_report.txt'), sep='\\t')\n",
    "    cm.to_csv(os.path.join(result_dir, f'{dtype}_{disease}_confusion_matrix.txt'), sep='\\t')"
   ]
  },
  {
   "cell_type": "markdown",
   "id": "e793d7eb",
   "metadata": {
    "heading_collapsed": true
   },
   "source": [
    "###### SingleCellNet"
   ]
  },
  {
   "cell_type": "code",
   "execution_count": 10,
   "id": "7206862c",
   "metadata": {
    "hidden": true
   },
   "outputs": [],
   "source": [
    "result_dir = '/data/pollock/benchmarking/results/singlecellnet'"
   ]
  },
  {
   "cell_type": "code",
   "execution_count": 11,
   "id": "c0627605",
   "metadata": {
    "hidden": true
   },
   "outputs": [
    {
     "data": {
      "text/plain": [
       "['/home/estorrs/pollock/benchmarking/results/01272021_harmonized_v2/scRNAseq/brca/SingleCellNet.tsv',\n",
       " '/home/estorrs/pollock/benchmarking/results/01272021_harmonized_v2/scRNAseq/cesc/SingleCellNet.tsv',\n",
       " '/home/estorrs/pollock/benchmarking/results/01272021_harmonized_v2/scRNAseq/hnscc/SingleCellNet.tsv',\n",
       " '/home/estorrs/pollock/benchmarking/results/01272021_harmonized_v2/scRNAseq/melanoma/SingleCellNet.tsv',\n",
       " '/home/estorrs/pollock/benchmarking/results/01272021_harmonized_v2/scRNAseq/myeloma/SingleCellNet.tsv',\n",
       " '/home/estorrs/pollock/benchmarking/results/01272021_harmonized_v2/scRNAseq/pdac/SingleCellNet.tsv',\n",
       " '/home/estorrs/pollock/benchmarking/results/01272021_harmonized_v2/snATACseq/brca_gene_activity/SingleCellNet.tsv',\n",
       " '/home/estorrs/pollock/benchmarking/results/01272021_harmonized_v2/snATACseq/ccrcc_gene_activity/SingleCellNet.tsv',\n",
       " '/home/estorrs/pollock/benchmarking/results/01272021_harmonized_v2/snATACseq/gbm_gene_activity/SingleCellNet.tsv',\n",
       " '/home/estorrs/pollock/benchmarking/results/01272021_harmonized_v2/snRNAseq/brca/SingleCellNet.tsv',\n",
       " '/home/estorrs/pollock/benchmarking/results/01272021_harmonized_v2/snRNAseq/ccrcc/SingleCellNet.tsv',\n",
       " '/home/estorrs/pollock/benchmarking/results/01272021_harmonized_v2/snRNAseq/gbm/SingleCellNet.tsv']"
      ]
     },
     "execution_count": 11,
     "metadata": {},
     "output_type": "execute_result"
    }
   ],
   "source": [
    "fps = sorted(utils.listfiles('/home/estorrs/pollock/benchmarking/results/01272021_harmonized_v2/', regex=r'SingleCellNet.tsv'))\n",
    "fps"
   ]
  },
  {
   "cell_type": "code",
   "execution_count": 23,
   "id": "6e93f8b6",
   "metadata": {
    "hidden": true
   },
   "outputs": [
    {
     "name": "stdout",
     "output_type": "stream",
     "text": [
      "/home/estorrs/pollock/benchmarking/results/01272021_harmonized_v2/scRNAseq/brca/SingleCellNet.tsv\n",
      "/home/estorrs/pollock/benchmarking/results/01272021_harmonized_v2/scRNAseq/cesc/SingleCellNet.tsv\n",
      "/home/estorrs/pollock/benchmarking/results/01272021_harmonized_v2/scRNAseq/hnscc/SingleCellNet.tsv\n",
      "/home/estorrs/pollock/benchmarking/results/01272021_harmonized_v2/scRNAseq/melanoma/SingleCellNet.tsv\n",
      "/home/estorrs/pollock/benchmarking/results/01272021_harmonized_v2/scRNAseq/myeloma/SingleCellNet.tsv\n",
      "/home/estorrs/pollock/benchmarking/results/01272021_harmonized_v2/scRNAseq/pdac/SingleCellNet.tsv\n"
     ]
    },
    {
     "name": "stderr",
     "output_type": "stream",
     "text": [
      "/data/estorrs/miniconda3/envs/pollock_new/lib/python3.8/site-packages/sklearn/metrics/_classification.py:1318: UndefinedMetricWarning: Precision and F-score are ill-defined and being set to 0.0 in labels with no predicted samples. Use `zero_division` parameter to control this behavior.\n",
      "  _warn_prf(average, modifier, msg_start, len(result))\n",
      "/data/estorrs/miniconda3/envs/pollock_new/lib/python3.8/site-packages/sklearn/metrics/_classification.py:1318: UndefinedMetricWarning: Precision and F-score are ill-defined and being set to 0.0 in labels with no predicted samples. Use `zero_division` parameter to control this behavior.\n",
      "  _warn_prf(average, modifier, msg_start, len(result))\n",
      "/data/estorrs/miniconda3/envs/pollock_new/lib/python3.8/site-packages/sklearn/metrics/_classification.py:1318: UndefinedMetricWarning: Precision and F-score are ill-defined and being set to 0.0 in labels with no predicted samples. Use `zero_division` parameter to control this behavior.\n",
      "  _warn_prf(average, modifier, msg_start, len(result))\n"
     ]
    },
    {
     "name": "stdout",
     "output_type": "stream",
     "text": [
      "/home/estorrs/pollock/benchmarking/results/01272021_harmonized_v2/snATACseq/brca_gene_activity/SingleCellNet.tsv\n",
      "/home/estorrs/pollock/benchmarking/results/01272021_harmonized_v2/snATACseq/ccrcc_gene_activity/SingleCellNet.tsv\n",
      "/home/estorrs/pollock/benchmarking/results/01272021_harmonized_v2/snATACseq/gbm_gene_activity/SingleCellNet.tsv\n",
      "/home/estorrs/pollock/benchmarking/results/01272021_harmonized_v2/snRNAseq/brca/SingleCellNet.tsv\n",
      "/home/estorrs/pollock/benchmarking/results/01272021_harmonized_v2/snRNAseq/ccrcc/SingleCellNet.tsv\n",
      "/home/estorrs/pollock/benchmarking/results/01272021_harmonized_v2/snRNAseq/gbm/SingleCellNet.tsv\n"
     ]
    }
   ],
   "source": [
    "for fp in fps:\n",
    "    print(fp)\n",
    "    disease = fp.split('/')[-2]\n",
    "    dtype = fp.split('/')[-3]\n",
    "    df = pd.read_csv(fp, sep='\\t')\n",
    "    df = df[df['predicted']!='rand']\n",
    "    y_pred = df['predicted'].to_list()\n",
    "    y_true = df['groundtruth'].to_list()\n",
    "    \n",
    "    d, cm = get_metrics(y_true, y_pred)\n",
    "        \n",
    "    d.to_csv(os.path.join(result_dir, f'{dtype}_{disease}_clf_report.txt'), sep='\\t')\n",
    "    cm.to_csv(os.path.join(result_dir, f'{dtype}_{disease}_confusion_matrix.txt'), sep='\\t')"
   ]
  },
  {
   "cell_type": "code",
   "execution_count": 37,
   "id": "18ae5792",
   "metadata": {
    "hidden": true
   },
   "outputs": [],
   "source": [
    "result_dir = '/data/pollock/benchmarking/results/singlecellnet/interdataset_with_folds/'"
   ]
  },
  {
   "cell_type": "code",
   "execution_count": 40,
   "id": "551100e9",
   "metadata": {
    "hidden": true,
    "scrolled": true
   },
   "outputs": [
    {
     "data": {
      "text/plain": [
       "['/data/pollock/benchmarking/results/singlecellnet/interdataset_with_folds/scRNAseq_brca_fold0.txt',\n",
       " '/data/pollock/benchmarking/results/singlecellnet/interdataset_with_folds/scRNAseq_brca_fold1.txt',\n",
       " '/data/pollock/benchmarking/results/singlecellnet/interdataset_with_folds/scRNAseq_brca_fold2.txt',\n",
       " '/data/pollock/benchmarking/results/singlecellnet/interdataset_with_folds/scRNAseq_brca_fold3.txt',\n",
       " '/data/pollock/benchmarking/results/singlecellnet/interdataset_with_folds/scRNAseq_brca_fold4.txt',\n",
       " '/data/pollock/benchmarking/results/singlecellnet/interdataset_with_folds/scRNAseq_cesc_fold0.txt',\n",
       " '/data/pollock/benchmarking/results/singlecellnet/interdataset_with_folds/scRNAseq_cesc_fold1.txt',\n",
       " '/data/pollock/benchmarking/results/singlecellnet/interdataset_with_folds/scRNAseq_cesc_fold3.txt',\n",
       " '/data/pollock/benchmarking/results/singlecellnet/interdataset_with_folds/scRNAseq_cesc_fold4.txt',\n",
       " '/data/pollock/benchmarking/results/singlecellnet/interdataset_with_folds/scRNAseq_hnscc_fold0.txt',\n",
       " '/data/pollock/benchmarking/results/singlecellnet/interdataset_with_folds/scRNAseq_hnscc_fold1.txt',\n",
       " '/data/pollock/benchmarking/results/singlecellnet/interdataset_with_folds/scRNAseq_hnscc_fold2.txt',\n",
       " '/data/pollock/benchmarking/results/singlecellnet/interdataset_with_folds/scRNAseq_hnscc_fold3.txt',\n",
       " '/data/pollock/benchmarking/results/singlecellnet/interdataset_with_folds/scRNAseq_hnscc_fold4.txt',\n",
       " '/data/pollock/benchmarking/results/singlecellnet/interdataset_with_folds/scRNAseq_melanoma_fold0.txt',\n",
       " '/data/pollock/benchmarking/results/singlecellnet/interdataset_with_folds/scRNAseq_melanoma_fold1.txt',\n",
       " '/data/pollock/benchmarking/results/singlecellnet/interdataset_with_folds/scRNAseq_melanoma_fold2.txt',\n",
       " '/data/pollock/benchmarking/results/singlecellnet/interdataset_with_folds/scRNAseq_melanoma_fold3.txt',\n",
       " '/data/pollock/benchmarking/results/singlecellnet/interdataset_with_folds/scRNAseq_melanoma_fold4.txt',\n",
       " '/data/pollock/benchmarking/results/singlecellnet/interdataset_with_folds/scRNAseq_myeloma_fold0.txt',\n",
       " '/data/pollock/benchmarking/results/singlecellnet/interdataset_with_folds/scRNAseq_myeloma_fold1.txt',\n",
       " '/data/pollock/benchmarking/results/singlecellnet/interdataset_with_folds/scRNAseq_myeloma_fold2.txt',\n",
       " '/data/pollock/benchmarking/results/singlecellnet/interdataset_with_folds/scRNAseq_myeloma_fold3.txt',\n",
       " '/data/pollock/benchmarking/results/singlecellnet/interdataset_with_folds/scRNAseq_myeloma_fold4.txt',\n",
       " '/data/pollock/benchmarking/results/singlecellnet/interdataset_with_folds/scRNAseq_pdac_fold0.txt',\n",
       " '/data/pollock/benchmarking/results/singlecellnet/interdataset_with_folds/scRNAseq_pdac_fold1.txt',\n",
       " '/data/pollock/benchmarking/results/singlecellnet/interdataset_with_folds/scRNAseq_pdac_fold2.txt',\n",
       " '/data/pollock/benchmarking/results/singlecellnet/interdataset_with_folds/scRNAseq_pdac_fold3.txt',\n",
       " '/data/pollock/benchmarking/results/singlecellnet/interdataset_with_folds/scRNAseq_pdac_fold4.txt',\n",
       " '/data/pollock/benchmarking/results/singlecellnet/interdataset_with_folds/snATACseq_brca_fold0.txt',\n",
       " '/data/pollock/benchmarking/results/singlecellnet/interdataset_with_folds/snATACseq_brca_fold1.txt',\n",
       " '/data/pollock/benchmarking/results/singlecellnet/interdataset_with_folds/snATACseq_brca_fold2.txt',\n",
       " '/data/pollock/benchmarking/results/singlecellnet/interdataset_with_folds/snATACseq_brca_fold3.txt',\n",
       " '/data/pollock/benchmarking/results/singlecellnet/interdataset_with_folds/snATACseq_brca_fold4.txt',\n",
       " '/data/pollock/benchmarking/results/singlecellnet/interdataset_with_folds/snATACseq_ccrcc_fold0.txt',\n",
       " '/data/pollock/benchmarking/results/singlecellnet/interdataset_with_folds/snATACseq_ccrcc_fold1.txt',\n",
       " '/data/pollock/benchmarking/results/singlecellnet/interdataset_with_folds/snATACseq_ccrcc_fold2.txt',\n",
       " '/data/pollock/benchmarking/results/singlecellnet/interdataset_with_folds/snATACseq_ccrcc_fold3.txt',\n",
       " '/data/pollock/benchmarking/results/singlecellnet/interdataset_with_folds/snATACseq_ccrcc_fold4.txt',\n",
       " '/data/pollock/benchmarking/results/singlecellnet/interdataset_with_folds/snATACseq_gbm_fold0.txt',\n",
       " '/data/pollock/benchmarking/results/singlecellnet/interdataset_with_folds/snATACseq_gbm_fold1.txt',\n",
       " '/data/pollock/benchmarking/results/singlecellnet/interdataset_with_folds/snATACseq_gbm_fold2.txt',\n",
       " '/data/pollock/benchmarking/results/singlecellnet/interdataset_with_folds/snATACseq_gbm_fold3.txt',\n",
       " '/data/pollock/benchmarking/results/singlecellnet/interdataset_with_folds/snATACseq_gbm_fold4.txt',\n",
       " '/data/pollock/benchmarking/results/singlecellnet/interdataset_with_folds/snRNAseq_brca_fold0.txt',\n",
       " '/data/pollock/benchmarking/results/singlecellnet/interdataset_with_folds/snRNAseq_brca_fold1.txt',\n",
       " '/data/pollock/benchmarking/results/singlecellnet/interdataset_with_folds/snRNAseq_brca_fold2.txt',\n",
       " '/data/pollock/benchmarking/results/singlecellnet/interdataset_with_folds/snRNAseq_brca_fold3.txt',\n",
       " '/data/pollock/benchmarking/results/singlecellnet/interdataset_with_folds/snRNAseq_brca_fold4.txt',\n",
       " '/data/pollock/benchmarking/results/singlecellnet/interdataset_with_folds/snRNAseq_ccrcc_fold0.txt',\n",
       " '/data/pollock/benchmarking/results/singlecellnet/interdataset_with_folds/snRNAseq_ccrcc_fold1.txt',\n",
       " '/data/pollock/benchmarking/results/singlecellnet/interdataset_with_folds/snRNAseq_ccrcc_fold2.txt',\n",
       " '/data/pollock/benchmarking/results/singlecellnet/interdataset_with_folds/snRNAseq_ccrcc_fold3.txt',\n",
       " '/data/pollock/benchmarking/results/singlecellnet/interdataset_with_folds/snRNAseq_ccrcc_fold4.txt',\n",
       " '/data/pollock/benchmarking/results/singlecellnet/interdataset_with_folds/snRNAseq_gbm_fold0.txt',\n",
       " '/data/pollock/benchmarking/results/singlecellnet/interdataset_with_folds/snRNAseq_gbm_fold1.txt',\n",
       " '/data/pollock/benchmarking/results/singlecellnet/interdataset_with_folds/snRNAseq_gbm_fold2.txt',\n",
       " '/data/pollock/benchmarking/results/singlecellnet/interdataset_with_folds/snRNAseq_gbm_fold3.txt',\n",
       " '/data/pollock/benchmarking/results/singlecellnet/interdataset_with_folds/snRNAseq_gbm_fold4.txt']"
      ]
     },
     "execution_count": 40,
     "metadata": {},
     "output_type": "execute_result"
    }
   ],
   "source": [
    "fps = sorted(utils.listfiles(result_dir, regex=r'[0-9].txt'))\n",
    "fps"
   ]
  },
  {
   "cell_type": "code",
   "execution_count": 46,
   "id": "eada1175",
   "metadata": {
    "hidden": true
   },
   "outputs": [
    {
     "name": "stdout",
     "output_type": "stream",
     "text": [
      "scRNAseq brca fold0\n"
     ]
    },
    {
     "name": "stderr",
     "output_type": "stream",
     "text": [
      "/data/estorrs/miniconda3/envs/pollock_new/lib/python3.8/site-packages/anndata/_core/anndata.py:1228: FutureWarning: The `inplace` parameter in pandas.Categorical.reorder_categories is deprecated and will be removed in a future version. Reordering categories will always return a new Categorical object.\n",
      "  c.reorder_categories(natsorted(c.categories), inplace=True)\n",
      "... storing 'predicted_cell_type' as categorical\n"
     ]
    },
    {
     "name": "stdout",
     "output_type": "stream",
     "text": [
      "scRNAseq brca fold1\n"
     ]
    },
    {
     "name": "stderr",
     "output_type": "stream",
     "text": [
      "/data/estorrs/miniconda3/envs/pollock_new/lib/python3.8/site-packages/anndata/_core/anndata.py:1228: FutureWarning: The `inplace` parameter in pandas.Categorical.reorder_categories is deprecated and will be removed in a future version. Reordering categories will always return a new Categorical object.\n",
      "  c.reorder_categories(natsorted(c.categories), inplace=True)\n",
      "... storing 'predicted_cell_type' as categorical\n"
     ]
    },
    {
     "name": "stdout",
     "output_type": "stream",
     "text": [
      "scRNAseq brca fold2\n"
     ]
    },
    {
     "name": "stderr",
     "output_type": "stream",
     "text": [
      "/data/estorrs/miniconda3/envs/pollock_new/lib/python3.8/site-packages/anndata/_core/anndata.py:1228: FutureWarning: The `inplace` parameter in pandas.Categorical.reorder_categories is deprecated and will be removed in a future version. Reordering categories will always return a new Categorical object.\n",
      "  c.reorder_categories(natsorted(c.categories), inplace=True)\n",
      "... storing 'predicted_cell_type' as categorical\n",
      "/data/estorrs/miniconda3/envs/pollock_new/lib/python3.8/site-packages/anndata/_core/anndata.py:1228: FutureWarning: The `inplace` parameter in pandas.Categorical.reorder_categories is deprecated and will be removed in a future version. Reordering categories will always return a new Categorical object.\n",
      "  c.reorder_categories(natsorted(c.categories), inplace=True)\n",
      "... storing 'predicted_cell_type' as categorical\n"
     ]
    },
    {
     "name": "stdout",
     "output_type": "stream",
     "text": [
      "scRNAseq brca fold3\n",
      "scRNAseq brca fold4\n"
     ]
    },
    {
     "name": "stderr",
     "output_type": "stream",
     "text": [
      "/data/estorrs/miniconda3/envs/pollock_new/lib/python3.8/site-packages/anndata/_core/anndata.py:1228: FutureWarning: The `inplace` parameter in pandas.Categorical.reorder_categories is deprecated and will be removed in a future version. Reordering categories will always return a new Categorical object.\n",
      "  c.reorder_categories(natsorted(c.categories), inplace=True)\n",
      "... storing 'predicted_cell_type' as categorical\n",
      "/data/estorrs/miniconda3/envs/pollock_new/lib/python3.8/site-packages/anndata/_core/anndata.py:1228: FutureWarning: The `inplace` parameter in pandas.Categorical.reorder_categories is deprecated and will be removed in a future version. Reordering categories will always return a new Categorical object.\n",
      "  c.reorder_categories(natsorted(c.categories), inplace=True)\n",
      "... storing 'predicted_cell_type' as categorical\n"
     ]
    },
    {
     "name": "stdout",
     "output_type": "stream",
     "text": [
      "scRNAseq cesc fold0\n"
     ]
    },
    {
     "name": "stderr",
     "output_type": "stream",
     "text": [
      "/data/estorrs/miniconda3/envs/pollock_new/lib/python3.8/site-packages/anndata/_core/anndata.py:1228: FutureWarning: The `inplace` parameter in pandas.Categorical.reorder_categories is deprecated and will be removed in a future version. Reordering categories will always return a new Categorical object.\n",
      "  c.reorder_categories(natsorted(c.categories), inplace=True)\n",
      "... storing 'predicted_cell_type' as categorical\n"
     ]
    },
    {
     "name": "stdout",
     "output_type": "stream",
     "text": [
      "scRNAseq cesc fold1\n"
     ]
    },
    {
     "name": "stderr",
     "output_type": "stream",
     "text": [
      "/data/estorrs/miniconda3/envs/pollock_new/lib/python3.8/site-packages/anndata/_core/anndata.py:1228: FutureWarning: The `inplace` parameter in pandas.Categorical.reorder_categories is deprecated and will be removed in a future version. Reordering categories will always return a new Categorical object.\n",
      "  c.reorder_categories(natsorted(c.categories), inplace=True)\n",
      "... storing 'predicted_cell_type' as categorical\n"
     ]
    },
    {
     "name": "stdout",
     "output_type": "stream",
     "text": [
      "scRNAseq cesc fold3\n"
     ]
    },
    {
     "name": "stderr",
     "output_type": "stream",
     "text": [
      "/data/estorrs/miniconda3/envs/pollock_new/lib/python3.8/site-packages/anndata/_core/anndata.py:1228: FutureWarning: The `inplace` parameter in pandas.Categorical.reorder_categories is deprecated and will be removed in a future version. Reordering categories will always return a new Categorical object.\n",
      "  c.reorder_categories(natsorted(c.categories), inplace=True)\n",
      "... storing 'predicted_cell_type' as categorical\n"
     ]
    },
    {
     "name": "stdout",
     "output_type": "stream",
     "text": [
      "scRNAseq cesc fold4\n"
     ]
    },
    {
     "name": "stderr",
     "output_type": "stream",
     "text": [
      "/data/estorrs/miniconda3/envs/pollock_new/lib/python3.8/site-packages/anndata/_core/anndata.py:1228: FutureWarning: The `inplace` parameter in pandas.Categorical.reorder_categories is deprecated and will be removed in a future version. Reordering categories will always return a new Categorical object.\n",
      "  c.reorder_categories(natsorted(c.categories), inplace=True)\n",
      "... storing 'predicted_cell_type' as categorical\n"
     ]
    },
    {
     "name": "stdout",
     "output_type": "stream",
     "text": [
      "scRNAseq hnscc fold0\n"
     ]
    },
    {
     "name": "stderr",
     "output_type": "stream",
     "text": [
      "/data/estorrs/miniconda3/envs/pollock_new/lib/python3.8/site-packages/anndata/_core/anndata.py:1228: FutureWarning: The `inplace` parameter in pandas.Categorical.reorder_categories is deprecated and will be removed in a future version. Reordering categories will always return a new Categorical object.\n",
      "  c.reorder_categories(natsorted(c.categories), inplace=True)\n",
      "... storing 'predicted_cell_type' as categorical\n"
     ]
    },
    {
     "name": "stdout",
     "output_type": "stream",
     "text": [
      "scRNAseq hnscc fold1\n"
     ]
    },
    {
     "name": "stderr",
     "output_type": "stream",
     "text": [
      "/data/estorrs/miniconda3/envs/pollock_new/lib/python3.8/site-packages/anndata/_core/anndata.py:1228: FutureWarning: The `inplace` parameter in pandas.Categorical.reorder_categories is deprecated and will be removed in a future version. Reordering categories will always return a new Categorical object.\n",
      "  c.reorder_categories(natsorted(c.categories), inplace=True)\n",
      "... storing 'predicted_cell_type' as categorical\n"
     ]
    },
    {
     "name": "stdout",
     "output_type": "stream",
     "text": [
      "scRNAseq hnscc fold2\n"
     ]
    },
    {
     "name": "stderr",
     "output_type": "stream",
     "text": [
      "/data/estorrs/miniconda3/envs/pollock_new/lib/python3.8/site-packages/anndata/_core/anndata.py:1228: FutureWarning: The `inplace` parameter in pandas.Categorical.reorder_categories is deprecated and will be removed in a future version. Reordering categories will always return a new Categorical object.\n",
      "  c.reorder_categories(natsorted(c.categories), inplace=True)\n",
      "... storing 'predicted_cell_type' as categorical\n"
     ]
    },
    {
     "name": "stdout",
     "output_type": "stream",
     "text": [
      "scRNAseq hnscc fold3\n"
     ]
    },
    {
     "name": "stderr",
     "output_type": "stream",
     "text": [
      "/data/estorrs/miniconda3/envs/pollock_new/lib/python3.8/site-packages/anndata/_core/anndata.py:1228: FutureWarning: The `inplace` parameter in pandas.Categorical.reorder_categories is deprecated and will be removed in a future version. Reordering categories will always return a new Categorical object.\n",
      "  c.reorder_categories(natsorted(c.categories), inplace=True)\n",
      "... storing 'predicted_cell_type' as categorical\n"
     ]
    },
    {
     "name": "stdout",
     "output_type": "stream",
     "text": [
      "scRNAseq hnscc fold4\n"
     ]
    },
    {
     "name": "stderr",
     "output_type": "stream",
     "text": [
      "/data/estorrs/miniconda3/envs/pollock_new/lib/python3.8/site-packages/anndata/_core/anndata.py:1228: FutureWarning: The `inplace` parameter in pandas.Categorical.reorder_categories is deprecated and will be removed in a future version. Reordering categories will always return a new Categorical object.\n",
      "  c.reorder_categories(natsorted(c.categories), inplace=True)\n",
      "... storing 'predicted_cell_type' as categorical\n"
     ]
    },
    {
     "name": "stdout",
     "output_type": "stream",
     "text": [
      "scRNAseq melanoma fold0\n",
      "scRNAseq melanoma fold1\n"
     ]
    },
    {
     "name": "stderr",
     "output_type": "stream",
     "text": [
      "/data/estorrs/miniconda3/envs/pollock_new/lib/python3.8/site-packages/anndata/_core/anndata.py:1228: FutureWarning: The `inplace` parameter in pandas.Categorical.reorder_categories is deprecated and will be removed in a future version. Reordering categories will always return a new Categorical object.\n",
      "  c.reorder_categories(natsorted(c.categories), inplace=True)\n",
      "... storing 'predicted_cell_type' as categorical\n",
      "/data/estorrs/miniconda3/envs/pollock_new/lib/python3.8/site-packages/anndata/_core/anndata.py:1228: FutureWarning: The `inplace` parameter in pandas.Categorical.reorder_categories is deprecated and will be removed in a future version. Reordering categories will always return a new Categorical object.\n",
      "  c.reorder_categories(natsorted(c.categories), inplace=True)\n",
      "... storing 'predicted_cell_type' as categorical\n"
     ]
    },
    {
     "name": "stdout",
     "output_type": "stream",
     "text": [
      "scRNAseq melanoma fold2\n",
      "scRNAseq melanoma fold3\n"
     ]
    },
    {
     "name": "stderr",
     "output_type": "stream",
     "text": [
      "/data/estorrs/miniconda3/envs/pollock_new/lib/python3.8/site-packages/anndata/_core/anndata.py:1228: FutureWarning: The `inplace` parameter in pandas.Categorical.reorder_categories is deprecated and will be removed in a future version. Reordering categories will always return a new Categorical object.\n",
      "  c.reorder_categories(natsorted(c.categories), inplace=True)\n",
      "... storing 'predicted_cell_type' as categorical\n",
      "/data/estorrs/miniconda3/envs/pollock_new/lib/python3.8/site-packages/anndata/_core/anndata.py:1228: FutureWarning: The `inplace` parameter in pandas.Categorical.reorder_categories is deprecated and will be removed in a future version. Reordering categories will always return a new Categorical object.\n",
      "  c.reorder_categories(natsorted(c.categories), inplace=True)\n",
      "... storing 'predicted_cell_type' as categorical\n"
     ]
    },
    {
     "name": "stdout",
     "output_type": "stream",
     "text": [
      "scRNAseq melanoma fold4\n",
      "scRNAseq myeloma fold0\n"
     ]
    },
    {
     "name": "stderr",
     "output_type": "stream",
     "text": [
      "/data/estorrs/miniconda3/envs/pollock_new/lib/python3.8/site-packages/anndata/_core/anndata.py:1228: FutureWarning: The `inplace` parameter in pandas.Categorical.reorder_categories is deprecated and will be removed in a future version. Reordering categories will always return a new Categorical object.\n",
      "  c.reorder_categories(natsorted(c.categories), inplace=True)\n",
      "... storing 'predicted_cell_type' as categorical\n"
     ]
    },
    {
     "name": "stdout",
     "output_type": "stream",
     "text": [
      "rand cell count: 1, excluding from pred df\n",
      "scRNAseq myeloma fold1\n"
     ]
    },
    {
     "name": "stderr",
     "output_type": "stream",
     "text": [
      "/data/estorrs/miniconda3/envs/pollock_new/lib/python3.8/site-packages/anndata/_core/anndata.py:1228: FutureWarning: The `inplace` parameter in pandas.Categorical.reorder_categories is deprecated and will be removed in a future version. Reordering categories will always return a new Categorical object.\n",
      "  c.reorder_categories(natsorted(c.categories), inplace=True)\n",
      "... storing 'predicted_cell_type' as categorical\n",
      "/data/estorrs/miniconda3/envs/pollock_new/lib/python3.8/site-packages/sklearn/metrics/_classification.py:1318: UndefinedMetricWarning: Precision and F-score are ill-defined and being set to 0.0 in labels with no predicted samples. Use `zero_division` parameter to control this behavior.\n",
      "  _warn_prf(average, modifier, msg_start, len(result))\n",
      "/data/estorrs/miniconda3/envs/pollock_new/lib/python3.8/site-packages/sklearn/metrics/_classification.py:1318: UndefinedMetricWarning: Precision and F-score are ill-defined and being set to 0.0 in labels with no predicted samples. Use `zero_division` parameter to control this behavior.\n",
      "  _warn_prf(average, modifier, msg_start, len(result))\n",
      "/data/estorrs/miniconda3/envs/pollock_new/lib/python3.8/site-packages/sklearn/metrics/_classification.py:1318: UndefinedMetricWarning: Precision and F-score are ill-defined and being set to 0.0 in labels with no predicted samples. Use `zero_division` parameter to control this behavior.\n",
      "  _warn_prf(average, modifier, msg_start, len(result))\n",
      "/data/estorrs/miniconda3/envs/pollock_new/lib/python3.8/site-packages/anndata/_core/anndata.py:1228: FutureWarning: The `inplace` parameter in pandas.Categorical.reorder_categories is deprecated and will be removed in a future version. Reordering categories will always return a new Categorical object.\n",
      "  c.reorder_categories(natsorted(c.categories), inplace=True)\n",
      "... storing 'predicted_cell_type' as categorical\n",
      "/data/estorrs/miniconda3/envs/pollock_new/lib/python3.8/site-packages/sklearn/metrics/_classification.py:1318: UndefinedMetricWarning: Precision and F-score are ill-defined and being set to 0.0 in labels with no predicted samples. Use `zero_division` parameter to control this behavior.\n",
      "  _warn_prf(average, modifier, msg_start, len(result))\n",
      "/data/estorrs/miniconda3/envs/pollock_new/lib/python3.8/site-packages/sklearn/metrics/_classification.py:1318: UndefinedMetricWarning: Precision and F-score are ill-defined and being set to 0.0 in labels with no predicted samples. Use `zero_division` parameter to control this behavior.\n",
      "  _warn_prf(average, modifier, msg_start, len(result))\n",
      "/data/estorrs/miniconda3/envs/pollock_new/lib/python3.8/site-packages/sklearn/metrics/_classification.py:1318: UndefinedMetricWarning: Precision and F-score are ill-defined and being set to 0.0 in labels with no predicted samples. Use `zero_division` parameter to control this behavior.\n",
      "  _warn_prf(average, modifier, msg_start, len(result))\n"
     ]
    },
    {
     "name": "stdout",
     "output_type": "stream",
     "text": [
      "scRNAseq myeloma fold2\n",
      "scRNAseq myeloma fold3\n"
     ]
    },
    {
     "name": "stderr",
     "output_type": "stream",
     "text": [
      "/data/estorrs/miniconda3/envs/pollock_new/lib/python3.8/site-packages/anndata/_core/anndata.py:1228: FutureWarning: The `inplace` parameter in pandas.Categorical.reorder_categories is deprecated and will be removed in a future version. Reordering categories will always return a new Categorical object.\n",
      "  c.reorder_categories(natsorted(c.categories), inplace=True)\n",
      "... storing 'predicted_cell_type' as categorical\n",
      "/data/estorrs/miniconda3/envs/pollock_new/lib/python3.8/site-packages/sklearn/metrics/_classification.py:1318: UndefinedMetricWarning: Precision and F-score are ill-defined and being set to 0.0 in labels with no predicted samples. Use `zero_division` parameter to control this behavior.\n",
      "  _warn_prf(average, modifier, msg_start, len(result))\n",
      "/data/estorrs/miniconda3/envs/pollock_new/lib/python3.8/site-packages/sklearn/metrics/_classification.py:1318: UndefinedMetricWarning: Precision and F-score are ill-defined and being set to 0.0 in labels with no predicted samples. Use `zero_division` parameter to control this behavior.\n",
      "  _warn_prf(average, modifier, msg_start, len(result))\n",
      "/data/estorrs/miniconda3/envs/pollock_new/lib/python3.8/site-packages/sklearn/metrics/_classification.py:1318: UndefinedMetricWarning: Precision and F-score are ill-defined and being set to 0.0 in labels with no predicted samples. Use `zero_division` parameter to control this behavior.\n",
      "  _warn_prf(average, modifier, msg_start, len(result))\n",
      "/data/estorrs/miniconda3/envs/pollock_new/lib/python3.8/site-packages/anndata/_core/anndata.py:1228: FutureWarning: The `inplace` parameter in pandas.Categorical.reorder_categories is deprecated and will be removed in a future version. Reordering categories will always return a new Categorical object.\n",
      "  c.reorder_categories(natsorted(c.categories), inplace=True)\n",
      "... storing 'predicted_cell_type' as categorical\n",
      "/data/estorrs/miniconda3/envs/pollock_new/lib/python3.8/site-packages/sklearn/metrics/_classification.py:1318: UndefinedMetricWarning: Precision and F-score are ill-defined and being set to 0.0 in labels with no predicted samples. Use `zero_division` parameter to control this behavior.\n",
      "  _warn_prf(average, modifier, msg_start, len(result))\n",
      "/data/estorrs/miniconda3/envs/pollock_new/lib/python3.8/site-packages/sklearn/metrics/_classification.py:1318: UndefinedMetricWarning: Precision and F-score are ill-defined and being set to 0.0 in labels with no predicted samples. Use `zero_division` parameter to control this behavior.\n",
      "  _warn_prf(average, modifier, msg_start, len(result))\n",
      "/data/estorrs/miniconda3/envs/pollock_new/lib/python3.8/site-packages/sklearn/metrics/_classification.py:1318: UndefinedMetricWarning: Precision and F-score are ill-defined and being set to 0.0 in labels with no predicted samples. Use `zero_division` parameter to control this behavior.\n",
      "  _warn_prf(average, modifier, msg_start, len(result))\n"
     ]
    },
    {
     "name": "stdout",
     "output_type": "stream",
     "text": [
      "scRNAseq myeloma fold4\n",
      "scRNAseq pdac fold0\n"
     ]
    },
    {
     "name": "stderr",
     "output_type": "stream",
     "text": [
      "/data/estorrs/miniconda3/envs/pollock_new/lib/python3.8/site-packages/anndata/_core/anndata.py:1228: FutureWarning: The `inplace` parameter in pandas.Categorical.reorder_categories is deprecated and will be removed in a future version. Reordering categories will always return a new Categorical object.\n",
      "  c.reorder_categories(natsorted(c.categories), inplace=True)\n",
      "... storing 'predicted_cell_type' as categorical\n"
     ]
    },
    {
     "name": "stdout",
     "output_type": "stream",
     "text": [
      "scRNAseq pdac fold1\n"
     ]
    },
    {
     "name": "stderr",
     "output_type": "stream",
     "text": [
      "/data/estorrs/miniconda3/envs/pollock_new/lib/python3.8/site-packages/anndata/_core/anndata.py:1228: FutureWarning: The `inplace` parameter in pandas.Categorical.reorder_categories is deprecated and will be removed in a future version. Reordering categories will always return a new Categorical object.\n",
      "  c.reorder_categories(natsorted(c.categories), inplace=True)\n",
      "... storing 'predicted_cell_type' as categorical\n"
     ]
    },
    {
     "name": "stdout",
     "output_type": "stream",
     "text": [
      "scRNAseq pdac fold2\n"
     ]
    },
    {
     "name": "stderr",
     "output_type": "stream",
     "text": [
      "/data/estorrs/miniconda3/envs/pollock_new/lib/python3.8/site-packages/anndata/_core/anndata.py:1228: FutureWarning: The `inplace` parameter in pandas.Categorical.reorder_categories is deprecated and will be removed in a future version. Reordering categories will always return a new Categorical object.\n",
      "  c.reorder_categories(natsorted(c.categories), inplace=True)\n",
      "... storing 'predicted_cell_type' as categorical\n"
     ]
    },
    {
     "name": "stdout",
     "output_type": "stream",
     "text": [
      "scRNAseq pdac fold3\n"
     ]
    },
    {
     "name": "stderr",
     "output_type": "stream",
     "text": [
      "/data/estorrs/miniconda3/envs/pollock_new/lib/python3.8/site-packages/anndata/_core/anndata.py:1228: FutureWarning: The `inplace` parameter in pandas.Categorical.reorder_categories is deprecated and will be removed in a future version. Reordering categories will always return a new Categorical object.\n",
      "  c.reorder_categories(natsorted(c.categories), inplace=True)\n",
      "... storing 'predicted_cell_type' as categorical\n"
     ]
    },
    {
     "name": "stdout",
     "output_type": "stream",
     "text": [
      "scRNAseq pdac fold4\n"
     ]
    },
    {
     "name": "stderr",
     "output_type": "stream",
     "text": [
      "/data/estorrs/miniconda3/envs/pollock_new/lib/python3.8/site-packages/anndata/_core/anndata.py:1228: FutureWarning: The `inplace` parameter in pandas.Categorical.reorder_categories is deprecated and will be removed in a future version. Reordering categories will always return a new Categorical object.\n",
      "  c.reorder_categories(natsorted(c.categories), inplace=True)\n",
      "... storing 'predicted_cell_type' as categorical\n",
      "/data/estorrs/miniconda3/envs/pollock_new/lib/python3.8/site-packages/anndata/_core/anndata.py:1228: FutureWarning: The `inplace` parameter in pandas.Categorical.reorder_categories is deprecated and will be removed in a future version. Reordering categories will always return a new Categorical object.\n",
      "  c.reorder_categories(natsorted(c.categories), inplace=True)\n",
      "... storing 'predicted_cell_type' as categorical\n"
     ]
    },
    {
     "name": "stdout",
     "output_type": "stream",
     "text": [
      "snATACseq brca fold0\n"
     ]
    },
    {
     "name": "stderr",
     "output_type": "stream",
     "text": [
      "/data/estorrs/miniconda3/envs/pollock_new/lib/python3.8/site-packages/anndata/_core/anndata.py:1228: FutureWarning: The `inplace` parameter in pandas.Categorical.reorder_categories is deprecated and will be removed in a future version. Reordering categories will always return a new Categorical object.\n",
      "  c.reorder_categories(natsorted(c.categories), inplace=True)\n",
      "... storing 'predicted_cell_type' as categorical\n"
     ]
    },
    {
     "name": "stdout",
     "output_type": "stream",
     "text": [
      "snATACseq brca fold1\n"
     ]
    },
    {
     "name": "stderr",
     "output_type": "stream",
     "text": [
      "/data/estorrs/miniconda3/envs/pollock_new/lib/python3.8/site-packages/anndata/_core/anndata.py:1228: FutureWarning: The `inplace` parameter in pandas.Categorical.reorder_categories is deprecated and will be removed in a future version. Reordering categories will always return a new Categorical object.\n",
      "  c.reorder_categories(natsorted(c.categories), inplace=True)\n",
      "... storing 'predicted_cell_type' as categorical\n"
     ]
    },
    {
     "name": "stdout",
     "output_type": "stream",
     "text": [
      "snATACseq brca fold2\n"
     ]
    },
    {
     "name": "stderr",
     "output_type": "stream",
     "text": [
      "/data/estorrs/miniconda3/envs/pollock_new/lib/python3.8/site-packages/anndata/_core/anndata.py:1228: FutureWarning: The `inplace` parameter in pandas.Categorical.reorder_categories is deprecated and will be removed in a future version. Reordering categories will always return a new Categorical object.\n",
      "  c.reorder_categories(natsorted(c.categories), inplace=True)\n",
      "... storing 'predicted_cell_type' as categorical\n"
     ]
    },
    {
     "name": "stdout",
     "output_type": "stream",
     "text": [
      "snATACseq brca fold3\n"
     ]
    },
    {
     "name": "stderr",
     "output_type": "stream",
     "text": [
      "/data/estorrs/miniconda3/envs/pollock_new/lib/python3.8/site-packages/anndata/_core/anndata.py:1228: FutureWarning: The `inplace` parameter in pandas.Categorical.reorder_categories is deprecated and will be removed in a future version. Reordering categories will always return a new Categorical object.\n",
      "  c.reorder_categories(natsorted(c.categories), inplace=True)\n",
      "... storing 'predicted_cell_type' as categorical\n"
     ]
    },
    {
     "name": "stdout",
     "output_type": "stream",
     "text": [
      "snATACseq brca fold4\n"
     ]
    },
    {
     "name": "stderr",
     "output_type": "stream",
     "text": [
      "/data/estorrs/miniconda3/envs/pollock_new/lib/python3.8/site-packages/anndata/_core/anndata.py:1228: FutureWarning: The `inplace` parameter in pandas.Categorical.reorder_categories is deprecated and will be removed in a future version. Reordering categories will always return a new Categorical object.\n",
      "  c.reorder_categories(natsorted(c.categories), inplace=True)\n",
      "... storing 'predicted_cell_type' as categorical\n"
     ]
    },
    {
     "name": "stdout",
     "output_type": "stream",
     "text": [
      "snATACseq ccrcc fold0\n"
     ]
    },
    {
     "name": "stderr",
     "output_type": "stream",
     "text": [
      "/data/estorrs/miniconda3/envs/pollock_new/lib/python3.8/site-packages/anndata/_core/anndata.py:1228: FutureWarning: The `inplace` parameter in pandas.Categorical.reorder_categories is deprecated and will be removed in a future version. Reordering categories will always return a new Categorical object.\n",
      "  c.reorder_categories(natsorted(c.categories), inplace=True)\n",
      "... storing 'predicted_cell_type' as categorical\n"
     ]
    },
    {
     "name": "stdout",
     "output_type": "stream",
     "text": [
      "snATACseq ccrcc fold1\n"
     ]
    },
    {
     "name": "stderr",
     "output_type": "stream",
     "text": [
      "/data/estorrs/miniconda3/envs/pollock_new/lib/python3.8/site-packages/anndata/_core/anndata.py:1228: FutureWarning: The `inplace` parameter in pandas.Categorical.reorder_categories is deprecated and will be removed in a future version. Reordering categories will always return a new Categorical object.\n",
      "  c.reorder_categories(natsorted(c.categories), inplace=True)\n",
      "... storing 'predicted_cell_type' as categorical\n"
     ]
    },
    {
     "name": "stdout",
     "output_type": "stream",
     "text": [
      "snATACseq ccrcc fold2\n"
     ]
    },
    {
     "name": "stderr",
     "output_type": "stream",
     "text": [
      "/data/estorrs/miniconda3/envs/pollock_new/lib/python3.8/site-packages/anndata/_core/anndata.py:1228: FutureWarning: The `inplace` parameter in pandas.Categorical.reorder_categories is deprecated and will be removed in a future version. Reordering categories will always return a new Categorical object.\n",
      "  c.reorder_categories(natsorted(c.categories), inplace=True)\n",
      "... storing 'predicted_cell_type' as categorical\n"
     ]
    },
    {
     "name": "stdout",
     "output_type": "stream",
     "text": [
      "snATACseq ccrcc fold3\n"
     ]
    },
    {
     "name": "stderr",
     "output_type": "stream",
     "text": [
      "/data/estorrs/miniconda3/envs/pollock_new/lib/python3.8/site-packages/anndata/_core/anndata.py:1228: FutureWarning: The `inplace` parameter in pandas.Categorical.reorder_categories is deprecated and will be removed in a future version. Reordering categories will always return a new Categorical object.\n",
      "  c.reorder_categories(natsorted(c.categories), inplace=True)\n",
      "... storing 'predicted_cell_type' as categorical\n"
     ]
    },
    {
     "name": "stdout",
     "output_type": "stream",
     "text": [
      "snATACseq ccrcc fold4\n"
     ]
    },
    {
     "name": "stderr",
     "output_type": "stream",
     "text": [
      "/data/estorrs/miniconda3/envs/pollock_new/lib/python3.8/site-packages/anndata/_core/anndata.py:1228: FutureWarning: The `inplace` parameter in pandas.Categorical.reorder_categories is deprecated and will be removed in a future version. Reordering categories will always return a new Categorical object.\n",
      "  c.reorder_categories(natsorted(c.categories), inplace=True)\n",
      "... storing 'predicted_cell_type' as categorical\n"
     ]
    },
    {
     "name": "stdout",
     "output_type": "stream",
     "text": [
      "snATACseq gbm fold0\n"
     ]
    },
    {
     "name": "stderr",
     "output_type": "stream",
     "text": [
      "/data/estorrs/miniconda3/envs/pollock_new/lib/python3.8/site-packages/anndata/_core/anndata.py:1228: FutureWarning: The `inplace` parameter in pandas.Categorical.reorder_categories is deprecated and will be removed in a future version. Reordering categories will always return a new Categorical object.\n",
      "  c.reorder_categories(natsorted(c.categories), inplace=True)\n",
      "... storing 'predicted_cell_type' as categorical\n"
     ]
    },
    {
     "name": "stdout",
     "output_type": "stream",
     "text": [
      "snATACseq gbm fold1\n"
     ]
    },
    {
     "name": "stderr",
     "output_type": "stream",
     "text": [
      "/data/estorrs/miniconda3/envs/pollock_new/lib/python3.8/site-packages/anndata/_core/anndata.py:1228: FutureWarning: The `inplace` parameter in pandas.Categorical.reorder_categories is deprecated and will be removed in a future version. Reordering categories will always return a new Categorical object.\n",
      "  c.reorder_categories(natsorted(c.categories), inplace=True)\n",
      "... storing 'predicted_cell_type' as categorical\n"
     ]
    },
    {
     "name": "stdout",
     "output_type": "stream",
     "text": [
      "snATACseq gbm fold2\n"
     ]
    },
    {
     "name": "stderr",
     "output_type": "stream",
     "text": [
      "/data/estorrs/miniconda3/envs/pollock_new/lib/python3.8/site-packages/anndata/_core/anndata.py:1228: FutureWarning: The `inplace` parameter in pandas.Categorical.reorder_categories is deprecated and will be removed in a future version. Reordering categories will always return a new Categorical object.\n",
      "  c.reorder_categories(natsorted(c.categories), inplace=True)\n",
      "... storing 'predicted_cell_type' as categorical\n"
     ]
    },
    {
     "name": "stdout",
     "output_type": "stream",
     "text": [
      "snATACseq gbm fold3\n"
     ]
    },
    {
     "name": "stderr",
     "output_type": "stream",
     "text": [
      "/data/estorrs/miniconda3/envs/pollock_new/lib/python3.8/site-packages/anndata/_core/anndata.py:1228: FutureWarning: The `inplace` parameter in pandas.Categorical.reorder_categories is deprecated and will be removed in a future version. Reordering categories will always return a new Categorical object.\n",
      "  c.reorder_categories(natsorted(c.categories), inplace=True)\n",
      "... storing 'predicted_cell_type' as categorical\n"
     ]
    },
    {
     "name": "stdout",
     "output_type": "stream",
     "text": [
      "snATACseq gbm fold4\n"
     ]
    },
    {
     "name": "stderr",
     "output_type": "stream",
     "text": [
      "/data/estorrs/miniconda3/envs/pollock_new/lib/python3.8/site-packages/anndata/_core/anndata.py:1228: FutureWarning: The `inplace` parameter in pandas.Categorical.reorder_categories is deprecated and will be removed in a future version. Reordering categories will always return a new Categorical object.\n",
      "  c.reorder_categories(natsorted(c.categories), inplace=True)\n",
      "... storing 'predicted_cell_type' as categorical\n"
     ]
    },
    {
     "name": "stdout",
     "output_type": "stream",
     "text": [
      "snRNAseq brca fold0\n"
     ]
    },
    {
     "name": "stderr",
     "output_type": "stream",
     "text": [
      "/data/estorrs/miniconda3/envs/pollock_new/lib/python3.8/site-packages/anndata/_core/anndata.py:1228: FutureWarning: The `inplace` parameter in pandas.Categorical.reorder_categories is deprecated and will be removed in a future version. Reordering categories will always return a new Categorical object.\n",
      "  c.reorder_categories(natsorted(c.categories), inplace=True)\n",
      "... storing 'predicted_cell_type' as categorical\n"
     ]
    },
    {
     "name": "stdout",
     "output_type": "stream",
     "text": [
      "snRNAseq brca fold1\n",
      "snRNAseq brca fold2\n"
     ]
    },
    {
     "name": "stderr",
     "output_type": "stream",
     "text": [
      "/data/estorrs/miniconda3/envs/pollock_new/lib/python3.8/site-packages/anndata/_core/anndata.py:1228: FutureWarning: The `inplace` parameter in pandas.Categorical.reorder_categories is deprecated and will be removed in a future version. Reordering categories will always return a new Categorical object.\n",
      "  c.reorder_categories(natsorted(c.categories), inplace=True)\n",
      "... storing 'predicted_cell_type' as categorical\n"
     ]
    },
    {
     "name": "stdout",
     "output_type": "stream",
     "text": [
      "snRNAseq brca fold3\n"
     ]
    },
    {
     "name": "stderr",
     "output_type": "stream",
     "text": [
      "/data/estorrs/miniconda3/envs/pollock_new/lib/python3.8/site-packages/anndata/_core/anndata.py:1228: FutureWarning: The `inplace` parameter in pandas.Categorical.reorder_categories is deprecated and will be removed in a future version. Reordering categories will always return a new Categorical object.\n",
      "  c.reorder_categories(natsorted(c.categories), inplace=True)\n",
      "... storing 'predicted_cell_type' as categorical\n",
      "/data/estorrs/miniconda3/envs/pollock_new/lib/python3.8/site-packages/anndata/_core/anndata.py:1228: FutureWarning: The `inplace` parameter in pandas.Categorical.reorder_categories is deprecated and will be removed in a future version. Reordering categories will always return a new Categorical object.\n",
      "  c.reorder_categories(natsorted(c.categories), inplace=True)\n",
      "... storing 'predicted_cell_type' as categorical\n"
     ]
    },
    {
     "name": "stdout",
     "output_type": "stream",
     "text": [
      "snRNAseq brca fold4\n"
     ]
    },
    {
     "name": "stderr",
     "output_type": "stream",
     "text": [
      "/data/estorrs/miniconda3/envs/pollock_new/lib/python3.8/site-packages/anndata/_core/anndata.py:1228: FutureWarning: The `inplace` parameter in pandas.Categorical.reorder_categories is deprecated and will be removed in a future version. Reordering categories will always return a new Categorical object.\n",
      "  c.reorder_categories(natsorted(c.categories), inplace=True)\n",
      "... storing 'predicted_cell_type' as categorical\n"
     ]
    },
    {
     "name": "stdout",
     "output_type": "stream",
     "text": [
      "snRNAseq ccrcc fold0\n"
     ]
    },
    {
     "name": "stderr",
     "output_type": "stream",
     "text": [
      "/data/estorrs/miniconda3/envs/pollock_new/lib/python3.8/site-packages/anndata/_core/anndata.py:1228: FutureWarning: The `inplace` parameter in pandas.Categorical.reorder_categories is deprecated and will be removed in a future version. Reordering categories will always return a new Categorical object.\n",
      "  c.reorder_categories(natsorted(c.categories), inplace=True)\n",
      "... storing 'predicted_cell_type' as categorical\n"
     ]
    },
    {
     "name": "stdout",
     "output_type": "stream",
     "text": [
      "snRNAseq ccrcc fold1\n"
     ]
    },
    {
     "name": "stderr",
     "output_type": "stream",
     "text": [
      "/data/estorrs/miniconda3/envs/pollock_new/lib/python3.8/site-packages/anndata/_core/anndata.py:1228: FutureWarning: The `inplace` parameter in pandas.Categorical.reorder_categories is deprecated and will be removed in a future version. Reordering categories will always return a new Categorical object.\n",
      "  c.reorder_categories(natsorted(c.categories), inplace=True)\n",
      "... storing 'predicted_cell_type' as categorical\n"
     ]
    },
    {
     "name": "stdout",
     "output_type": "stream",
     "text": [
      "snRNAseq ccrcc fold2\n"
     ]
    },
    {
     "name": "stderr",
     "output_type": "stream",
     "text": [
      "/data/estorrs/miniconda3/envs/pollock_new/lib/python3.8/site-packages/anndata/_core/anndata.py:1228: FutureWarning: The `inplace` parameter in pandas.Categorical.reorder_categories is deprecated and will be removed in a future version. Reordering categories will always return a new Categorical object.\n",
      "  c.reorder_categories(natsorted(c.categories), inplace=True)\n",
      "... storing 'predicted_cell_type' as categorical\n"
     ]
    },
    {
     "name": "stdout",
     "output_type": "stream",
     "text": [
      "snRNAseq ccrcc fold3\n"
     ]
    },
    {
     "name": "stderr",
     "output_type": "stream",
     "text": [
      "/data/estorrs/miniconda3/envs/pollock_new/lib/python3.8/site-packages/anndata/_core/anndata.py:1228: FutureWarning: The `inplace` parameter in pandas.Categorical.reorder_categories is deprecated and will be removed in a future version. Reordering categories will always return a new Categorical object.\n",
      "  c.reorder_categories(natsorted(c.categories), inplace=True)\n",
      "... storing 'predicted_cell_type' as categorical\n"
     ]
    },
    {
     "name": "stdout",
     "output_type": "stream",
     "text": [
      "snRNAseq ccrcc fold4\n"
     ]
    },
    {
     "name": "stderr",
     "output_type": "stream",
     "text": [
      "/data/estorrs/miniconda3/envs/pollock_new/lib/python3.8/site-packages/anndata/_core/anndata.py:1228: FutureWarning: The `inplace` parameter in pandas.Categorical.reorder_categories is deprecated and will be removed in a future version. Reordering categories will always return a new Categorical object.\n",
      "  c.reorder_categories(natsorted(c.categories), inplace=True)\n",
      "... storing 'predicted_cell_type' as categorical\n"
     ]
    },
    {
     "name": "stdout",
     "output_type": "stream",
     "text": [
      "snRNAseq gbm fold0\n"
     ]
    },
    {
     "name": "stderr",
     "output_type": "stream",
     "text": [
      "/data/estorrs/miniconda3/envs/pollock_new/lib/python3.8/site-packages/anndata/_core/anndata.py:1228: FutureWarning: The `inplace` parameter in pandas.Categorical.reorder_categories is deprecated and will be removed in a future version. Reordering categories will always return a new Categorical object.\n",
      "  c.reorder_categories(natsorted(c.categories), inplace=True)\n",
      "... storing 'predicted_cell_type' as categorical\n"
     ]
    },
    {
     "name": "stdout",
     "output_type": "stream",
     "text": [
      "snRNAseq gbm fold1\n"
     ]
    },
    {
     "name": "stderr",
     "output_type": "stream",
     "text": [
      "/data/estorrs/miniconda3/envs/pollock_new/lib/python3.8/site-packages/anndata/_core/anndata.py:1228: FutureWarning: The `inplace` parameter in pandas.Categorical.reorder_categories is deprecated and will be removed in a future version. Reordering categories will always return a new Categorical object.\n",
      "  c.reorder_categories(natsorted(c.categories), inplace=True)\n",
      "... storing 'predicted_cell_type' as categorical\n"
     ]
    },
    {
     "name": "stdout",
     "output_type": "stream",
     "text": [
      "snRNAseq gbm fold2\n",
      "snRNAseq gbm fold3\n"
     ]
    },
    {
     "name": "stderr",
     "output_type": "stream",
     "text": [
      "/data/estorrs/miniconda3/envs/pollock_new/lib/python3.8/site-packages/anndata/_core/anndata.py:1228: FutureWarning: The `inplace` parameter in pandas.Categorical.reorder_categories is deprecated and will be removed in a future version. Reordering categories will always return a new Categorical object.\n",
      "  c.reorder_categories(natsorted(c.categories), inplace=True)\n",
      "... storing 'predicted_cell_type' as categorical\n",
      "/data/estorrs/miniconda3/envs/pollock_new/lib/python3.8/site-packages/anndata/_core/anndata.py:1228: FutureWarning: The `inplace` parameter in pandas.Categorical.reorder_categories is deprecated and will be removed in a future version. Reordering categories will always return a new Categorical object.\n",
      "  c.reorder_categories(natsorted(c.categories), inplace=True)\n",
      "... storing 'predicted_cell_type' as categorical\n"
     ]
    },
    {
     "name": "stdout",
     "output_type": "stream",
     "text": [
      "snRNAseq gbm fold4\n"
     ]
    }
   ],
   "source": [
    "for fp in fps:\n",
    "    dtype, disease, fold = fp.replace('.txt', '').split('/')[-1].split('_')\n",
    "    print(dtype, disease, fold)\n",
    "    \n",
    "    adata = sc.read_h5ad(folds_fmap[dtype][disease][fold]['val'])\n",
    "\n",
    "    df = pd.read_csv(fp, sep='\\t')\n",
    "    df = df[[c for c in df.columns if 'rand_' not in c]]\n",
    "    df = df.transpose()\n",
    "    df['predicted_cell_type'] = [df.columns[i] for i in np.argmax(df.values, axis=1)]\n",
    "    assert df.shape[0] == adata.obs.shape[0]\n",
    "    counts = Counter(df['predicted_cell_type'])\n",
    "    rand_count = counts.get('rand', 0)\n",
    "    rand_idxs = None\n",
    "    if rand_count:\n",
    "        print(f'rand cell count: {rand_count}, excluding from pred df')\n",
    "        rand_idxs = df[df['predicted_cell_type']=='rand'].index.to_list()\n",
    "        \n",
    "    \n",
    "    adata.obs = pd.merge(adata.obs, df, how='left', left_index=True, right_index=True)\n",
    "#     print(set(adata.obs['predicted_cell_type']))\n",
    "    adata.write_h5ad(fp.replace('.txt', '.h5ad'))\n",
    "    \n",
    "    if rand_idxs is not None:\n",
    "        adata = adata[[x for x in adata.obs.index if x not in rand_idxs]]\n",
    "    \n",
    "    y_pred = adata.obs['predicted_cell_type'].to_list()\n",
    "    y_true = adata.obs['cell_type'].to_list()\n",
    "    \n",
    "    d, cm = get_metrics(y_true, y_pred)\n",
    "        \n",
    "    d.to_csv(os.path.join(result_dir, f'{dtype}_{disease}_{fold}_clf_report.txt'), sep='\\t')\n",
    "    cm.to_csv(os.path.join(result_dir, f'{dtype}_{disease}_{fold}_confusion_matrix.txt'), sep='\\t')"
   ]
  },
  {
   "cell_type": "markdown",
   "id": "5ec3f7b9",
   "metadata": {},
   "source": [
    "#### seurat"
   ]
  },
  {
   "cell_type": "code",
   "execution_count": 22,
   "id": "6500e99d",
   "metadata": {},
   "outputs": [],
   "source": [
    "result_dir = '/data/pollock/benchmarking/results/seurat/'"
   ]
  },
  {
   "cell_type": "code",
   "execution_count": 25,
   "id": "b46fdc9e",
   "metadata": {},
   "outputs": [
    {
     "data": {
      "text/plain": [
       "['/data/pollock/benchmarking/results/seurat/scRNAseq_brca.h5ad',\n",
       " '/data/pollock/benchmarking/results/seurat/scRNAseq_cesc.h5ad',\n",
       " '/data/pollock/benchmarking/results/seurat/scRNAseq_hnscc.h5ad',\n",
       " '/data/pollock/benchmarking/results/seurat/scRNAseq_melanoma.h5ad',\n",
       " '/data/pollock/benchmarking/results/seurat/scRNAseq_myeloma.h5ad',\n",
       " '/data/pollock/benchmarking/results/seurat/scRNAseq_pdac.h5ad',\n",
       " '/data/pollock/benchmarking/results/seurat/snATACseq_brca.h5ad',\n",
       " '/data/pollock/benchmarking/results/seurat/snATACseq_ccrcc.h5ad',\n",
       " '/data/pollock/benchmarking/results/seurat/snATACseq_gbm.h5ad',\n",
       " '/data/pollock/benchmarking/results/seurat/snRNAseq_brca.h5ad',\n",
       " '/data/pollock/benchmarking/results/seurat/snRNAseq_ccrcc.h5ad',\n",
       " '/data/pollock/benchmarking/results/seurat/snRNAseq_gbm.h5ad']"
      ]
     },
     "execution_count": 25,
     "metadata": {},
     "output_type": "execute_result"
    }
   ],
   "source": [
    "fps = sorted(utils.listfiles(result_dir, regex=r'.h5ad$'))\n",
    "fps"
   ]
  },
  {
   "cell_type": "code",
   "execution_count": 26,
   "id": "7ae8d769",
   "metadata": {
    "scrolled": true
   },
   "outputs": [
    {
     "name": "stdout",
     "output_type": "stream",
     "text": [
      "scRNAseq brca\n",
      "scRNAseq cesc\n",
      "scRNAseq hnscc\n",
      "scRNAseq melanoma\n",
      "scRNAseq myeloma\n"
     ]
    },
    {
     "name": "stderr",
     "output_type": "stream",
     "text": [
      "/data/estorrs/miniconda3/envs/pollock_new/lib/python3.8/site-packages/sklearn/metrics/_classification.py:1318: UndefinedMetricWarning: Precision and F-score are ill-defined and being set to 0.0 in labels with no predicted samples. Use `zero_division` parameter to control this behavior.\n",
      "  _warn_prf(average, modifier, msg_start, len(result))\n",
      "/data/estorrs/miniconda3/envs/pollock_new/lib/python3.8/site-packages/sklearn/metrics/_classification.py:1318: UndefinedMetricWarning: Precision and F-score are ill-defined and being set to 0.0 in labels with no predicted samples. Use `zero_division` parameter to control this behavior.\n",
      "  _warn_prf(average, modifier, msg_start, len(result))\n",
      "/data/estorrs/miniconda3/envs/pollock_new/lib/python3.8/site-packages/sklearn/metrics/_classification.py:1318: UndefinedMetricWarning: Precision and F-score are ill-defined and being set to 0.0 in labels with no predicted samples. Use `zero_division` parameter to control this behavior.\n",
      "  _warn_prf(average, modifier, msg_start, len(result))\n"
     ]
    },
    {
     "name": "stdout",
     "output_type": "stream",
     "text": [
      "scRNAseq pdac\n",
      "snATACseq brca\n",
      "snATACseq ccrcc\n",
      "snATACseq gbm\n",
      "snRNAseq brca\n",
      "snRNAseq ccrcc\n",
      "snRNAseq gbm\n"
     ]
    }
   ],
   "source": [
    "to_prediction = {}\n",
    "for fp in fps:\n",
    "    root = fp.split('/')[-1].replace('.h5ad', '')\n",
    "    dtype, disease = root.split('_')\n",
    "    print(dtype, disease)\n",
    "    \n",
    "    adata = sc.read_h5ad(fp)\n",
    "\n",
    "    y_pred = adata.obs['predicted.id'].to_list()\n",
    "    y_true = adata.obs['cell_type'].to_list()\n",
    "    d, cm = get_metrics(y_true, y_pred)\n",
    "\n",
    "    d.to_csv(os.path.join(result_dir, f'{dtype}_{disease}_clf_report.txt'), sep='\\t')\n",
    "    cm.to_csv(os.path.join(result_dir, f'{dtype}_{disease}_confusion_matrix.txt'), sep='\\t')\n"
   ]
  },
  {
   "cell_type": "code",
   "execution_count": 47,
   "id": "0818c2a8",
   "metadata": {},
   "outputs": [],
   "source": [
    "result_dir = '/data/pollock/benchmarking/results/seurat/interdataset_with_folds/'"
   ]
  },
  {
   "cell_type": "code",
   "execution_count": 48,
   "id": "1558a076",
   "metadata": {
    "scrolled": true
   },
   "outputs": [
    {
     "data": {
      "text/plain": [
       "['/data/pollock/benchmarking/results/seurat/interdataset_with_folds/scRNAseq_brca_fold0.h5ad',\n",
       " '/data/pollock/benchmarking/results/seurat/interdataset_with_folds/scRNAseq_brca_fold1.h5ad',\n",
       " '/data/pollock/benchmarking/results/seurat/interdataset_with_folds/scRNAseq_brca_fold2.h5ad',\n",
       " '/data/pollock/benchmarking/results/seurat/interdataset_with_folds/scRNAseq_brca_fold3.h5ad',\n",
       " '/data/pollock/benchmarking/results/seurat/interdataset_with_folds/scRNAseq_brca_fold4.h5ad',\n",
       " '/data/pollock/benchmarking/results/seurat/interdataset_with_folds/scRNAseq_cesc_fold0.h5ad',\n",
       " '/data/pollock/benchmarking/results/seurat/interdataset_with_folds/scRNAseq_cesc_fold1.h5ad',\n",
       " '/data/pollock/benchmarking/results/seurat/interdataset_with_folds/scRNAseq_cesc_fold3.h5ad',\n",
       " '/data/pollock/benchmarking/results/seurat/interdataset_with_folds/scRNAseq_cesc_fold4.h5ad',\n",
       " '/data/pollock/benchmarking/results/seurat/interdataset_with_folds/scRNAseq_hnscc_fold0.h5ad',\n",
       " '/data/pollock/benchmarking/results/seurat/interdataset_with_folds/scRNAseq_hnscc_fold1.h5ad',\n",
       " '/data/pollock/benchmarking/results/seurat/interdataset_with_folds/scRNAseq_hnscc_fold2.h5ad',\n",
       " '/data/pollock/benchmarking/results/seurat/interdataset_with_folds/scRNAseq_hnscc_fold3.h5ad',\n",
       " '/data/pollock/benchmarking/results/seurat/interdataset_with_folds/scRNAseq_hnscc_fold4.h5ad',\n",
       " '/data/pollock/benchmarking/results/seurat/interdataset_with_folds/scRNAseq_melanoma_fold0.h5ad',\n",
       " '/data/pollock/benchmarking/results/seurat/interdataset_with_folds/scRNAseq_melanoma_fold1.h5ad',\n",
       " '/data/pollock/benchmarking/results/seurat/interdataset_with_folds/scRNAseq_melanoma_fold2.h5ad',\n",
       " '/data/pollock/benchmarking/results/seurat/interdataset_with_folds/scRNAseq_melanoma_fold3.h5ad',\n",
       " '/data/pollock/benchmarking/results/seurat/interdataset_with_folds/scRNAseq_melanoma_fold4.h5ad',\n",
       " '/data/pollock/benchmarking/results/seurat/interdataset_with_folds/scRNAseq_myeloma_fold0.h5ad',\n",
       " '/data/pollock/benchmarking/results/seurat/interdataset_with_folds/scRNAseq_myeloma_fold1.h5ad',\n",
       " '/data/pollock/benchmarking/results/seurat/interdataset_with_folds/scRNAseq_myeloma_fold2.h5ad',\n",
       " '/data/pollock/benchmarking/results/seurat/interdataset_with_folds/scRNAseq_myeloma_fold3.h5ad',\n",
       " '/data/pollock/benchmarking/results/seurat/interdataset_with_folds/scRNAseq_myeloma_fold4.h5ad',\n",
       " '/data/pollock/benchmarking/results/seurat/interdataset_with_folds/scRNAseq_pdac_fold0.h5ad',\n",
       " '/data/pollock/benchmarking/results/seurat/interdataset_with_folds/scRNAseq_pdac_fold1.h5ad',\n",
       " '/data/pollock/benchmarking/results/seurat/interdataset_with_folds/scRNAseq_pdac_fold2.h5ad',\n",
       " '/data/pollock/benchmarking/results/seurat/interdataset_with_folds/scRNAseq_pdac_fold3.h5ad',\n",
       " '/data/pollock/benchmarking/results/seurat/interdataset_with_folds/scRNAseq_pdac_fold4.h5ad',\n",
       " '/data/pollock/benchmarking/results/seurat/interdataset_with_folds/snATACseq_brca_fold0.h5ad',\n",
       " '/data/pollock/benchmarking/results/seurat/interdataset_with_folds/snATACseq_brca_fold1.h5ad',\n",
       " '/data/pollock/benchmarking/results/seurat/interdataset_with_folds/snATACseq_brca_fold2.h5ad',\n",
       " '/data/pollock/benchmarking/results/seurat/interdataset_with_folds/snATACseq_brca_fold3.h5ad',\n",
       " '/data/pollock/benchmarking/results/seurat/interdataset_with_folds/snATACseq_brca_fold4.h5ad',\n",
       " '/data/pollock/benchmarking/results/seurat/interdataset_with_folds/snATACseq_ccrcc_fold0.h5ad',\n",
       " '/data/pollock/benchmarking/results/seurat/interdataset_with_folds/snATACseq_ccrcc_fold1.h5ad',\n",
       " '/data/pollock/benchmarking/results/seurat/interdataset_with_folds/snATACseq_ccrcc_fold2.h5ad',\n",
       " '/data/pollock/benchmarking/results/seurat/interdataset_with_folds/snATACseq_ccrcc_fold3.h5ad',\n",
       " '/data/pollock/benchmarking/results/seurat/interdataset_with_folds/snATACseq_ccrcc_fold4.h5ad',\n",
       " '/data/pollock/benchmarking/results/seurat/interdataset_with_folds/snATACseq_gbm_fold0.h5ad',\n",
       " '/data/pollock/benchmarking/results/seurat/interdataset_with_folds/snATACseq_gbm_fold1.h5ad',\n",
       " '/data/pollock/benchmarking/results/seurat/interdataset_with_folds/snATACseq_gbm_fold2.h5ad',\n",
       " '/data/pollock/benchmarking/results/seurat/interdataset_with_folds/snATACseq_gbm_fold3.h5ad',\n",
       " '/data/pollock/benchmarking/results/seurat/interdataset_with_folds/snATACseq_gbm_fold4.h5ad',\n",
       " '/data/pollock/benchmarking/results/seurat/interdataset_with_folds/snRNAseq_brca_fold0.h5ad',\n",
       " '/data/pollock/benchmarking/results/seurat/interdataset_with_folds/snRNAseq_brca_fold1.h5ad',\n",
       " '/data/pollock/benchmarking/results/seurat/interdataset_with_folds/snRNAseq_brca_fold2.h5ad',\n",
       " '/data/pollock/benchmarking/results/seurat/interdataset_with_folds/snRNAseq_brca_fold3.h5ad',\n",
       " '/data/pollock/benchmarking/results/seurat/interdataset_with_folds/snRNAseq_brca_fold4.h5ad',\n",
       " '/data/pollock/benchmarking/results/seurat/interdataset_with_folds/snRNAseq_ccrcc_fold0.h5ad',\n",
       " '/data/pollock/benchmarking/results/seurat/interdataset_with_folds/snRNAseq_ccrcc_fold1.h5ad',\n",
       " '/data/pollock/benchmarking/results/seurat/interdataset_with_folds/snRNAseq_ccrcc_fold2.h5ad',\n",
       " '/data/pollock/benchmarking/results/seurat/interdataset_with_folds/snRNAseq_ccrcc_fold3.h5ad',\n",
       " '/data/pollock/benchmarking/results/seurat/interdataset_with_folds/snRNAseq_ccrcc_fold4.h5ad',\n",
       " '/data/pollock/benchmarking/results/seurat/interdataset_with_folds/snRNAseq_gbm_fold0.h5ad',\n",
       " '/data/pollock/benchmarking/results/seurat/interdataset_with_folds/snRNAseq_gbm_fold1.h5ad',\n",
       " '/data/pollock/benchmarking/results/seurat/interdataset_with_folds/snRNAseq_gbm_fold2.h5ad',\n",
       " '/data/pollock/benchmarking/results/seurat/interdataset_with_folds/snRNAseq_gbm_fold3.h5ad',\n",
       " '/data/pollock/benchmarking/results/seurat/interdataset_with_folds/snRNAseq_gbm_fold4.h5ad']"
      ]
     },
     "execution_count": 48,
     "metadata": {},
     "output_type": "execute_result"
    }
   ],
   "source": [
    "fps = sorted(utils.listfiles(result_dir, regex=r'.h5ad$'))\n",
    "fps"
   ]
  },
  {
   "cell_type": "code",
   "execution_count": 49,
   "id": "aeaf4211",
   "metadata": {},
   "outputs": [
    {
     "name": "stdout",
     "output_type": "stream",
     "text": [
      "scRNAseq brca fold0\n",
      "scRNAseq brca fold1\n",
      "scRNAseq brca fold2\n",
      "scRNAseq brca fold3\n",
      "scRNAseq brca fold4\n",
      "scRNAseq cesc fold0\n",
      "scRNAseq cesc fold1\n",
      "scRNAseq cesc fold3\n",
      "scRNAseq cesc fold4\n",
      "scRNAseq hnscc fold0\n",
      "scRNAseq hnscc fold1\n",
      "scRNAseq hnscc fold2\n",
      "scRNAseq hnscc fold3\n",
      "scRNAseq hnscc fold4\n",
      "scRNAseq melanoma fold0\n",
      "scRNAseq melanoma fold1\n",
      "scRNAseq melanoma fold2\n",
      "scRNAseq melanoma fold3\n",
      "scRNAseq melanoma fold4\n",
      "scRNAseq myeloma fold0\n"
     ]
    },
    {
     "name": "stderr",
     "output_type": "stream",
     "text": [
      "/data/estorrs/miniconda3/envs/pollock_new/lib/python3.8/site-packages/sklearn/metrics/_classification.py:1318: UndefinedMetricWarning: Precision and F-score are ill-defined and being set to 0.0 in labels with no predicted samples. Use `zero_division` parameter to control this behavior.\n",
      "  _warn_prf(average, modifier, msg_start, len(result))\n",
      "/data/estorrs/miniconda3/envs/pollock_new/lib/python3.8/site-packages/sklearn/metrics/_classification.py:1318: UndefinedMetricWarning: Precision and F-score are ill-defined and being set to 0.0 in labels with no predicted samples. Use `zero_division` parameter to control this behavior.\n",
      "  _warn_prf(average, modifier, msg_start, len(result))\n",
      "/data/estorrs/miniconda3/envs/pollock_new/lib/python3.8/site-packages/sklearn/metrics/_classification.py:1318: UndefinedMetricWarning: Precision and F-score are ill-defined and being set to 0.0 in labels with no predicted samples. Use `zero_division` parameter to control this behavior.\n",
      "  _warn_prf(average, modifier, msg_start, len(result))\n"
     ]
    },
    {
     "name": "stdout",
     "output_type": "stream",
     "text": [
      "scRNAseq myeloma fold1\n"
     ]
    },
    {
     "name": "stderr",
     "output_type": "stream",
     "text": [
      "/data/estorrs/miniconda3/envs/pollock_new/lib/python3.8/site-packages/sklearn/metrics/_classification.py:1318: UndefinedMetricWarning: Precision and F-score are ill-defined and being set to 0.0 in labels with no predicted samples. Use `zero_division` parameter to control this behavior.\n",
      "  _warn_prf(average, modifier, msg_start, len(result))\n",
      "/data/estorrs/miniconda3/envs/pollock_new/lib/python3.8/site-packages/sklearn/metrics/_classification.py:1318: UndefinedMetricWarning: Precision and F-score are ill-defined and being set to 0.0 in labels with no predicted samples. Use `zero_division` parameter to control this behavior.\n",
      "  _warn_prf(average, modifier, msg_start, len(result))\n",
      "/data/estorrs/miniconda3/envs/pollock_new/lib/python3.8/site-packages/sklearn/metrics/_classification.py:1318: UndefinedMetricWarning: Precision and F-score are ill-defined and being set to 0.0 in labels with no predicted samples. Use `zero_division` parameter to control this behavior.\n",
      "  _warn_prf(average, modifier, msg_start, len(result))\n"
     ]
    },
    {
     "name": "stdout",
     "output_type": "stream",
     "text": [
      "scRNAseq myeloma fold2\n"
     ]
    },
    {
     "name": "stderr",
     "output_type": "stream",
     "text": [
      "/data/estorrs/miniconda3/envs/pollock_new/lib/python3.8/site-packages/sklearn/metrics/_classification.py:1318: UndefinedMetricWarning: Precision and F-score are ill-defined and being set to 0.0 in labels with no predicted samples. Use `zero_division` parameter to control this behavior.\n",
      "  _warn_prf(average, modifier, msg_start, len(result))\n",
      "/data/estorrs/miniconda3/envs/pollock_new/lib/python3.8/site-packages/sklearn/metrics/_classification.py:1318: UndefinedMetricWarning: Precision and F-score are ill-defined and being set to 0.0 in labels with no predicted samples. Use `zero_division` parameter to control this behavior.\n",
      "  _warn_prf(average, modifier, msg_start, len(result))\n",
      "/data/estorrs/miniconda3/envs/pollock_new/lib/python3.8/site-packages/sklearn/metrics/_classification.py:1318: UndefinedMetricWarning: Precision and F-score are ill-defined and being set to 0.0 in labels with no predicted samples. Use `zero_division` parameter to control this behavior.\n",
      "  _warn_prf(average, modifier, msg_start, len(result))\n"
     ]
    },
    {
     "name": "stdout",
     "output_type": "stream",
     "text": [
      "scRNAseq myeloma fold3\n"
     ]
    },
    {
     "name": "stderr",
     "output_type": "stream",
     "text": [
      "/data/estorrs/miniconda3/envs/pollock_new/lib/python3.8/site-packages/sklearn/metrics/_classification.py:1318: UndefinedMetricWarning: Precision and F-score are ill-defined and being set to 0.0 in labels with no predicted samples. Use `zero_division` parameter to control this behavior.\n",
      "  _warn_prf(average, modifier, msg_start, len(result))\n",
      "/data/estorrs/miniconda3/envs/pollock_new/lib/python3.8/site-packages/sklearn/metrics/_classification.py:1318: UndefinedMetricWarning: Precision and F-score are ill-defined and being set to 0.0 in labels with no predicted samples. Use `zero_division` parameter to control this behavior.\n",
      "  _warn_prf(average, modifier, msg_start, len(result))\n",
      "/data/estorrs/miniconda3/envs/pollock_new/lib/python3.8/site-packages/sklearn/metrics/_classification.py:1318: UndefinedMetricWarning: Precision and F-score are ill-defined and being set to 0.0 in labels with no predicted samples. Use `zero_division` parameter to control this behavior.\n",
      "  _warn_prf(average, modifier, msg_start, len(result))\n"
     ]
    },
    {
     "name": "stdout",
     "output_type": "stream",
     "text": [
      "scRNAseq myeloma fold4\n"
     ]
    },
    {
     "name": "stderr",
     "output_type": "stream",
     "text": [
      "/data/estorrs/miniconda3/envs/pollock_new/lib/python3.8/site-packages/sklearn/metrics/_classification.py:1318: UndefinedMetricWarning: Precision and F-score are ill-defined and being set to 0.0 in labels with no predicted samples. Use `zero_division` parameter to control this behavior.\n",
      "  _warn_prf(average, modifier, msg_start, len(result))\n",
      "/data/estorrs/miniconda3/envs/pollock_new/lib/python3.8/site-packages/sklearn/metrics/_classification.py:1318: UndefinedMetricWarning: Precision and F-score are ill-defined and being set to 0.0 in labels with no predicted samples. Use `zero_division` parameter to control this behavior.\n",
      "  _warn_prf(average, modifier, msg_start, len(result))\n",
      "/data/estorrs/miniconda3/envs/pollock_new/lib/python3.8/site-packages/sklearn/metrics/_classification.py:1318: UndefinedMetricWarning: Precision and F-score are ill-defined and being set to 0.0 in labels with no predicted samples. Use `zero_division` parameter to control this behavior.\n",
      "  _warn_prf(average, modifier, msg_start, len(result))\n"
     ]
    },
    {
     "name": "stdout",
     "output_type": "stream",
     "text": [
      "scRNAseq pdac fold0\n",
      "scRNAseq pdac fold1\n",
      "scRNAseq pdac fold2\n",
      "scRNAseq pdac fold3\n",
      "scRNAseq pdac fold4\n",
      "snATACseq brca fold0\n",
      "snATACseq brca fold1\n",
      "snATACseq brca fold2\n",
      "snATACseq brca fold3\n",
      "snATACseq brca fold4\n",
      "snATACseq ccrcc fold0\n",
      "snATACseq ccrcc fold1\n",
      "snATACseq ccrcc fold2\n",
      "snATACseq ccrcc fold3\n",
      "snATACseq ccrcc fold4\n",
      "snATACseq gbm fold0\n",
      "snATACseq gbm fold1\n",
      "snATACseq gbm fold2\n",
      "snATACseq gbm fold3\n",
      "snATACseq gbm fold4\n",
      "snRNAseq brca fold0\n",
      "snRNAseq brca fold1\n",
      "snRNAseq brca fold2\n",
      "snRNAseq brca fold3\n",
      "snRNAseq brca fold4\n",
      "snRNAseq ccrcc fold0\n",
      "snRNAseq ccrcc fold1\n",
      "snRNAseq ccrcc fold2\n",
      "snRNAseq ccrcc fold3\n",
      "snRNAseq ccrcc fold4\n",
      "snRNAseq gbm fold0\n",
      "snRNAseq gbm fold1\n",
      "snRNAseq gbm fold2\n",
      "snRNAseq gbm fold3\n",
      "snRNAseq gbm fold4\n"
     ]
    }
   ],
   "source": [
    "to_prediction = {}\n",
    "for fp in fps:\n",
    "    root = fp.split('/')[-1].replace('.h5ad', '')\n",
    "    dtype, disease, fold = root.split('_')\n",
    "    print(dtype, disease, fold)\n",
    "    \n",
    "    adata = sc.read_h5ad(fp)\n",
    "\n",
    "    y_pred = adata.obs['predicted.id'].to_list()\n",
    "    y_true = adata.obs['cell_type'].to_list()\n",
    "    d, cm = get_metrics(y_true, y_pred)\n",
    "\n",
    "    d.to_csv(os.path.join(result_dir, f'{dtype}_{disease}_{fold}_clf_report.txt'), sep='\\t')\n",
    "    cm.to_csv(os.path.join(result_dir, f'{dtype}_{disease}_{fold}_confusion_matrix.txt'), sep='\\t')\n"
   ]
  },
  {
   "cell_type": "code",
   "execution_count": null,
   "id": "c318294e",
   "metadata": {},
   "outputs": [],
   "source": []
  },
  {
   "cell_type": "markdown",
   "id": "47fdbf3e",
   "metadata": {},
   "source": [
    "###### actinn"
   ]
  },
  {
   "cell_type": "code",
   "execution_count": null,
   "id": "98257291",
   "metadata": {},
   "outputs": [],
   "source": []
  },
  {
   "cell_type": "code",
   "execution_count": null,
   "id": "84b3c305",
   "metadata": {},
   "outputs": [],
   "source": []
  },
  {
   "cell_type": "code",
   "execution_count": 50,
   "id": "86ccf430",
   "metadata": {},
   "outputs": [],
   "source": [
    "result_dir = '/data/pollock/benchmarking/results/actinn/interdataset_with_folds/'"
   ]
  },
  {
   "cell_type": "code",
   "execution_count": 51,
   "id": "f970e151",
   "metadata": {
    "scrolled": true
   },
   "outputs": [
    {
     "data": {
      "text/plain": [
       "['/data/pollock/benchmarking/results/actinn/interdataset_with_folds/scRNAseq_brca_fold0.h5ad',\n",
       " '/data/pollock/benchmarking/results/actinn/interdataset_with_folds/scRNAseq_brca_fold1.h5ad',\n",
       " '/data/pollock/benchmarking/results/actinn/interdataset_with_folds/scRNAseq_brca_fold2.h5ad',\n",
       " '/data/pollock/benchmarking/results/actinn/interdataset_with_folds/scRNAseq_brca_fold3.h5ad',\n",
       " '/data/pollock/benchmarking/results/actinn/interdataset_with_folds/scRNAseq_brca_fold4.h5ad',\n",
       " '/data/pollock/benchmarking/results/actinn/interdataset_with_folds/scRNAseq_cesc_fold0.h5ad',\n",
       " '/data/pollock/benchmarking/results/actinn/interdataset_with_folds/scRNAseq_cesc_fold1.h5ad',\n",
       " '/data/pollock/benchmarking/results/actinn/interdataset_with_folds/scRNAseq_cesc_fold2.h5ad',\n",
       " '/data/pollock/benchmarking/results/actinn/interdataset_with_folds/scRNAseq_cesc_fold3.h5ad',\n",
       " '/data/pollock/benchmarking/results/actinn/interdataset_with_folds/scRNAseq_cesc_fold4.h5ad',\n",
       " '/data/pollock/benchmarking/results/actinn/interdataset_with_folds/scRNAseq_hnscc_fold0.h5ad',\n",
       " '/data/pollock/benchmarking/results/actinn/interdataset_with_folds/scRNAseq_hnscc_fold1.h5ad',\n",
       " '/data/pollock/benchmarking/results/actinn/interdataset_with_folds/scRNAseq_hnscc_fold2.h5ad',\n",
       " '/data/pollock/benchmarking/results/actinn/interdataset_with_folds/scRNAseq_hnscc_fold3.h5ad',\n",
       " '/data/pollock/benchmarking/results/actinn/interdataset_with_folds/scRNAseq_hnscc_fold4.h5ad',\n",
       " '/data/pollock/benchmarking/results/actinn/interdataset_with_folds/scRNAseq_myeloma_fold0.h5ad',\n",
       " '/data/pollock/benchmarking/results/actinn/interdataset_with_folds/scRNAseq_myeloma_fold1.h5ad',\n",
       " '/data/pollock/benchmarking/results/actinn/interdataset_with_folds/scRNAseq_myeloma_fold2.h5ad',\n",
       " '/data/pollock/benchmarking/results/actinn/interdataset_with_folds/scRNAseq_myeloma_fold3.h5ad',\n",
       " '/data/pollock/benchmarking/results/actinn/interdataset_with_folds/scRNAseq_myeloma_fold4.h5ad',\n",
       " '/data/pollock/benchmarking/results/actinn/interdataset_with_folds/scRNAseq_pdac_fold0.h5ad',\n",
       " '/data/pollock/benchmarking/results/actinn/interdataset_with_folds/scRNAseq_pdac_fold1.h5ad',\n",
       " '/data/pollock/benchmarking/results/actinn/interdataset_with_folds/scRNAseq_pdac_fold2.h5ad',\n",
       " '/data/pollock/benchmarking/results/actinn/interdataset_with_folds/scRNAseq_pdac_fold3.h5ad',\n",
       " '/data/pollock/benchmarking/results/actinn/interdataset_with_folds/scRNAseq_pdac_fold4.h5ad',\n",
       " '/data/pollock/benchmarking/results/actinn/interdataset_with_folds/snATACseq_brca_fold0.h5ad',\n",
       " '/data/pollock/benchmarking/results/actinn/interdataset_with_folds/snATACseq_brca_fold1.h5ad',\n",
       " '/data/pollock/benchmarking/results/actinn/interdataset_with_folds/snATACseq_brca_fold2.h5ad',\n",
       " '/data/pollock/benchmarking/results/actinn/interdataset_with_folds/snATACseq_brca_fold3.h5ad',\n",
       " '/data/pollock/benchmarking/results/actinn/interdataset_with_folds/snATACseq_brca_fold4.h5ad',\n",
       " '/data/pollock/benchmarking/results/actinn/interdataset_with_folds/snATACseq_ccrcc_fold0.h5ad',\n",
       " '/data/pollock/benchmarking/results/actinn/interdataset_with_folds/snATACseq_ccrcc_fold1.h5ad',\n",
       " '/data/pollock/benchmarking/results/actinn/interdataset_with_folds/snATACseq_ccrcc_fold2.h5ad',\n",
       " '/data/pollock/benchmarking/results/actinn/interdataset_with_folds/snATACseq_ccrcc_fold3.h5ad',\n",
       " '/data/pollock/benchmarking/results/actinn/interdataset_with_folds/snATACseq_ccrcc_fold4.h5ad',\n",
       " '/data/pollock/benchmarking/results/actinn/interdataset_with_folds/snATACseq_gbm_fold0.h5ad',\n",
       " '/data/pollock/benchmarking/results/actinn/interdataset_with_folds/snATACseq_gbm_fold1.h5ad',\n",
       " '/data/pollock/benchmarking/results/actinn/interdataset_with_folds/snATACseq_gbm_fold2.h5ad',\n",
       " '/data/pollock/benchmarking/results/actinn/interdataset_with_folds/snATACseq_gbm_fold3.h5ad',\n",
       " '/data/pollock/benchmarking/results/actinn/interdataset_with_folds/snATACseq_gbm_fold4.h5ad',\n",
       " '/data/pollock/benchmarking/results/actinn/interdataset_with_folds/snRNAseq_brca_fold0.h5ad',\n",
       " '/data/pollock/benchmarking/results/actinn/interdataset_with_folds/snRNAseq_brca_fold1.h5ad',\n",
       " '/data/pollock/benchmarking/results/actinn/interdataset_with_folds/snRNAseq_brca_fold2.h5ad',\n",
       " '/data/pollock/benchmarking/results/actinn/interdataset_with_folds/snRNAseq_brca_fold3.h5ad',\n",
       " '/data/pollock/benchmarking/results/actinn/interdataset_with_folds/snRNAseq_brca_fold4.h5ad',\n",
       " '/data/pollock/benchmarking/results/actinn/interdataset_with_folds/snRNAseq_ccrcc_fold0.h5ad',\n",
       " '/data/pollock/benchmarking/results/actinn/interdataset_with_folds/snRNAseq_ccrcc_fold1.h5ad',\n",
       " '/data/pollock/benchmarking/results/actinn/interdataset_with_folds/snRNAseq_ccrcc_fold2.h5ad',\n",
       " '/data/pollock/benchmarking/results/actinn/interdataset_with_folds/snRNAseq_ccrcc_fold3.h5ad',\n",
       " '/data/pollock/benchmarking/results/actinn/interdataset_with_folds/snRNAseq_ccrcc_fold4.h5ad',\n",
       " '/data/pollock/benchmarking/results/actinn/interdataset_with_folds/snRNAseq_gbm_fold0.h5ad',\n",
       " '/data/pollock/benchmarking/results/actinn/interdataset_with_folds/snRNAseq_gbm_fold1.h5ad',\n",
       " '/data/pollock/benchmarking/results/actinn/interdataset_with_folds/snRNAseq_gbm_fold2.h5ad',\n",
       " '/data/pollock/benchmarking/results/actinn/interdataset_with_folds/snRNAseq_gbm_fold3.h5ad',\n",
       " '/data/pollock/benchmarking/results/actinn/interdataset_with_folds/snRNAseq_gbm_fold4.h5ad']"
      ]
     },
     "execution_count": 51,
     "metadata": {},
     "output_type": "execute_result"
    }
   ],
   "source": [
    "fps = sorted(utils.listfiles(result_dir, regex=r'.h5ad$'))\n",
    "fps"
   ]
  },
  {
   "cell_type": "code",
   "execution_count": 54,
   "id": "d95e22b2",
   "metadata": {
    "scrolled": true
   },
   "outputs": [
    {
     "name": "stdout",
     "output_type": "stream",
     "text": [
      "scRNAseq brca fold0\n",
      "scRNAseq brca fold1\n",
      "scRNAseq brca fold2\n",
      "scRNAseq brca fold3\n",
      "scRNAseq brca fold4\n",
      "scRNAseq cesc fold0\n",
      "scRNAseq cesc fold1\n",
      "scRNAseq cesc fold2\n",
      "scRNAseq cesc fold3\n",
      "scRNAseq cesc fold4\n",
      "scRNAseq hnscc fold0\n",
      "scRNAseq hnscc fold1\n",
      "scRNAseq hnscc fold2\n",
      "scRNAseq hnscc fold3\n",
      "scRNAseq hnscc fold4\n",
      "scRNAseq myeloma fold0\n",
      "scRNAseq myeloma fold1\n"
     ]
    },
    {
     "name": "stderr",
     "output_type": "stream",
     "text": [
      "/data/estorrs/miniconda3/envs/pollock_new/lib/python3.8/site-packages/sklearn/metrics/_classification.py:1318: UndefinedMetricWarning: Precision and F-score are ill-defined and being set to 0.0 in labels with no predicted samples. Use `zero_division` parameter to control this behavior.\n",
      "  _warn_prf(average, modifier, msg_start, len(result))\n",
      "/data/estorrs/miniconda3/envs/pollock_new/lib/python3.8/site-packages/sklearn/metrics/_classification.py:1318: UndefinedMetricWarning: Precision and F-score are ill-defined and being set to 0.0 in labels with no predicted samples. Use `zero_division` parameter to control this behavior.\n",
      "  _warn_prf(average, modifier, msg_start, len(result))\n",
      "/data/estorrs/miniconda3/envs/pollock_new/lib/python3.8/site-packages/sklearn/metrics/_classification.py:1318: UndefinedMetricWarning: Precision and F-score are ill-defined and being set to 0.0 in labels with no predicted samples. Use `zero_division` parameter to control this behavior.\n",
      "  _warn_prf(average, modifier, msg_start, len(result))\n",
      "/data/estorrs/miniconda3/envs/pollock_new/lib/python3.8/site-packages/sklearn/metrics/_classification.py:1318: UndefinedMetricWarning: Precision and F-score are ill-defined and being set to 0.0 in labels with no predicted samples. Use `zero_division` parameter to control this behavior.\n",
      "  _warn_prf(average, modifier, msg_start, len(result))\n",
      "/data/estorrs/miniconda3/envs/pollock_new/lib/python3.8/site-packages/sklearn/metrics/_classification.py:1318: UndefinedMetricWarning: Precision and F-score are ill-defined and being set to 0.0 in labels with no predicted samples. Use `zero_division` parameter to control this behavior.\n",
      "  _warn_prf(average, modifier, msg_start, len(result))\n",
      "/data/estorrs/miniconda3/envs/pollock_new/lib/python3.8/site-packages/sklearn/metrics/_classification.py:1318: UndefinedMetricWarning: Precision and F-score are ill-defined and being set to 0.0 in labels with no predicted samples. Use `zero_division` parameter to control this behavior.\n",
      "  _warn_prf(average, modifier, msg_start, len(result))\n",
      "/data/estorrs/miniconda3/envs/pollock_new/lib/python3.8/site-packages/sklearn/metrics/_classification.py:1318: UndefinedMetricWarning: Precision and F-score are ill-defined and being set to 0.0 in labels with no predicted samples. Use `zero_division` parameter to control this behavior.\n",
      "  _warn_prf(average, modifier, msg_start, len(result))\n",
      "/data/estorrs/miniconda3/envs/pollock_new/lib/python3.8/site-packages/sklearn/metrics/_classification.py:1318: UndefinedMetricWarning: Precision and F-score are ill-defined and being set to 0.0 in labels with no predicted samples. Use `zero_division` parameter to control this behavior.\n",
      "  _warn_prf(average, modifier, msg_start, len(result))\n",
      "/data/estorrs/miniconda3/envs/pollock_new/lib/python3.8/site-packages/sklearn/metrics/_classification.py:1318: UndefinedMetricWarning: Precision and F-score are ill-defined and being set to 0.0 in labels with no predicted samples. Use `zero_division` parameter to control this behavior.\n",
      "  _warn_prf(average, modifier, msg_start, len(result))\n"
     ]
    },
    {
     "name": "stdout",
     "output_type": "stream",
     "text": [
      "scRNAseq myeloma fold2\n",
      "scRNAseq myeloma fold3\n",
      "scRNAseq myeloma fold4\n"
     ]
    },
    {
     "name": "stderr",
     "output_type": "stream",
     "text": [
      "/data/estorrs/miniconda3/envs/pollock_new/lib/python3.8/site-packages/sklearn/metrics/_classification.py:1318: UndefinedMetricWarning: Precision and F-score are ill-defined and being set to 0.0 in labels with no predicted samples. Use `zero_division` parameter to control this behavior.\n",
      "  _warn_prf(average, modifier, msg_start, len(result))\n",
      "/data/estorrs/miniconda3/envs/pollock_new/lib/python3.8/site-packages/sklearn/metrics/_classification.py:1318: UndefinedMetricWarning: Precision and F-score are ill-defined and being set to 0.0 in labels with no predicted samples. Use `zero_division` parameter to control this behavior.\n",
      "  _warn_prf(average, modifier, msg_start, len(result))\n",
      "/data/estorrs/miniconda3/envs/pollock_new/lib/python3.8/site-packages/sklearn/metrics/_classification.py:1318: UndefinedMetricWarning: Precision and F-score are ill-defined and being set to 0.0 in labels with no predicted samples. Use `zero_division` parameter to control this behavior.\n",
      "  _warn_prf(average, modifier, msg_start, len(result))\n",
      "/data/estorrs/miniconda3/envs/pollock_new/lib/python3.8/site-packages/sklearn/metrics/_classification.py:1318: UndefinedMetricWarning: Precision and F-score are ill-defined and being set to 0.0 in labels with no predicted samples. Use `zero_division` parameter to control this behavior.\n",
      "  _warn_prf(average, modifier, msg_start, len(result))\n",
      "/data/estorrs/miniconda3/envs/pollock_new/lib/python3.8/site-packages/sklearn/metrics/_classification.py:1318: UndefinedMetricWarning: Precision and F-score are ill-defined and being set to 0.0 in labels with no predicted samples. Use `zero_division` parameter to control this behavior.\n",
      "  _warn_prf(average, modifier, msg_start, len(result))\n",
      "/data/estorrs/miniconda3/envs/pollock_new/lib/python3.8/site-packages/sklearn/metrics/_classification.py:1318: UndefinedMetricWarning: Precision and F-score are ill-defined and being set to 0.0 in labels with no predicted samples. Use `zero_division` parameter to control this behavior.\n",
      "  _warn_prf(average, modifier, msg_start, len(result))\n"
     ]
    },
    {
     "name": "stdout",
     "output_type": "stream",
     "text": [
      "scRNAseq pdac fold0\n",
      "scRNAseq pdac fold1\n",
      "scRNAseq pdac fold2\n",
      "scRNAseq pdac fold3\n",
      "scRNAseq pdac fold4\n",
      "snATACseq brca fold0\n",
      "snATACseq brca fold1\n",
      "snATACseq brca fold2\n",
      "snATACseq brca fold3\n",
      "snATACseq brca fold4\n",
      "snATACseq ccrcc fold0\n",
      "snATACseq ccrcc fold1\n",
      "snATACseq ccrcc fold2\n",
      "snATACseq ccrcc fold3\n",
      "snATACseq ccrcc fold4\n",
      "snATACseq gbm fold0\n",
      "snATACseq gbm fold1\n",
      "snATACseq gbm fold2\n",
      "snATACseq gbm fold3\n",
      "snATACseq gbm fold4\n",
      "snRNAseq brca fold0\n",
      "snRNAseq brca fold1\n",
      "snRNAseq brca fold2\n",
      "snRNAseq brca fold3\n",
      "snRNAseq brca fold4\n",
      "snRNAseq ccrcc fold0\n",
      "snRNAseq ccrcc fold1\n",
      "snRNAseq ccrcc fold2\n",
      "snRNAseq ccrcc fold3\n",
      "snRNAseq ccrcc fold4\n",
      "snRNAseq gbm fold0\n",
      "snRNAseq gbm fold1\n",
      "snRNAseq gbm fold2\n",
      "snRNAseq gbm fold3\n",
      "snRNAseq gbm fold4\n"
     ]
    }
   ],
   "source": [
    "to_prediction = {}\n",
    "for fp in fps:\n",
    "    root = fp.split('/')[-1].replace('.h5ad', '')\n",
    "    dtype, disease, fold = root.split('_')\n",
    "    print(dtype, disease, fold)\n",
    "    \n",
    "    adata = sc.read_h5ad(fp)\n",
    "\n",
    "    y_pred = adata.obs['predicted_cell_type'].to_list()\n",
    "    y_true = adata.obs['cell_type'].to_list()\n",
    "    d, cm = get_metrics(y_true, y_pred)\n",
    "\n",
    "    d.to_csv(os.path.join(result_dir, f'{dtype}_{disease}_{fold}_clf_report.txt'), sep='\\t')\n",
    "    cm.to_csv(os.path.join(result_dir, f'{dtype}_{disease}_{fold}_confusion_matrix.txt'), sep='\\t')\n"
   ]
  },
  {
   "cell_type": "code",
   "execution_count": null,
   "id": "5678fb66",
   "metadata": {},
   "outputs": [],
   "source": []
  },
  {
   "cell_type": "code",
   "execution_count": null,
   "id": "be895541",
   "metadata": {},
   "outputs": [],
   "source": []
  },
  {
   "cell_type": "markdown",
   "id": "c9f6bbb4",
   "metadata": {},
   "source": [
    "###### pollock"
   ]
  },
  {
   "cell_type": "code",
   "execution_count": 55,
   "id": "de570c3b",
   "metadata": {},
   "outputs": [],
   "source": [
    "result_dir = '/data/pollock/benchmarking/results/pollock/interdataset_with_folds/'"
   ]
  },
  {
   "cell_type": "code",
   "execution_count": 56,
   "id": "cf27ca17",
   "metadata": {
    "scrolled": true
   },
   "outputs": [
    {
     "data": {
      "text/plain": [
       "['/data/pollock/benchmarking/results/pollock/interdataset_with_folds/scRNAseq_brca_fold0.h5ad',\n",
       " '/data/pollock/benchmarking/results/pollock/interdataset_with_folds/scRNAseq_brca_fold1.h5ad',\n",
       " '/data/pollock/benchmarking/results/pollock/interdataset_with_folds/scRNAseq_brca_fold2.h5ad',\n",
       " '/data/pollock/benchmarking/results/pollock/interdataset_with_folds/scRNAseq_brca_fold3.h5ad',\n",
       " '/data/pollock/benchmarking/results/pollock/interdataset_with_folds/scRNAseq_brca_fold4.h5ad',\n",
       " '/data/pollock/benchmarking/results/pollock/interdataset_with_folds/scRNAseq_cesc_fold0.h5ad',\n",
       " '/data/pollock/benchmarking/results/pollock/interdataset_with_folds/scRNAseq_cesc_fold1.h5ad',\n",
       " '/data/pollock/benchmarking/results/pollock/interdataset_with_folds/scRNAseq_cesc_fold2.h5ad',\n",
       " '/data/pollock/benchmarking/results/pollock/interdataset_with_folds/scRNAseq_cesc_fold3.h5ad',\n",
       " '/data/pollock/benchmarking/results/pollock/interdataset_with_folds/scRNAseq_cesc_fold4.h5ad',\n",
       " '/data/pollock/benchmarking/results/pollock/interdataset_with_folds/scRNAseq_hnscc_fold0.h5ad',\n",
       " '/data/pollock/benchmarking/results/pollock/interdataset_with_folds/scRNAseq_hnscc_fold1.h5ad',\n",
       " '/data/pollock/benchmarking/results/pollock/interdataset_with_folds/scRNAseq_hnscc_fold2.h5ad',\n",
       " '/data/pollock/benchmarking/results/pollock/interdataset_with_folds/scRNAseq_hnscc_fold3.h5ad',\n",
       " '/data/pollock/benchmarking/results/pollock/interdataset_with_folds/scRNAseq_hnscc_fold4.h5ad',\n",
       " '/data/pollock/benchmarking/results/pollock/interdataset_with_folds/scRNAseq_melanoma_fold0.h5ad',\n",
       " '/data/pollock/benchmarking/results/pollock/interdataset_with_folds/scRNAseq_melanoma_fold1.h5ad',\n",
       " '/data/pollock/benchmarking/results/pollock/interdataset_with_folds/scRNAseq_melanoma_fold2.h5ad',\n",
       " '/data/pollock/benchmarking/results/pollock/interdataset_with_folds/scRNAseq_melanoma_fold3.h5ad',\n",
       " '/data/pollock/benchmarking/results/pollock/interdataset_with_folds/scRNAseq_melanoma_fold4.h5ad',\n",
       " '/data/pollock/benchmarking/results/pollock/interdataset_with_folds/scRNAseq_myeloma_fold0.h5ad',\n",
       " '/data/pollock/benchmarking/results/pollock/interdataset_with_folds/scRNAseq_myeloma_fold1.h5ad',\n",
       " '/data/pollock/benchmarking/results/pollock/interdataset_with_folds/scRNAseq_myeloma_fold2.h5ad',\n",
       " '/data/pollock/benchmarking/results/pollock/interdataset_with_folds/scRNAseq_myeloma_fold3.h5ad',\n",
       " '/data/pollock/benchmarking/results/pollock/interdataset_with_folds/scRNAseq_myeloma_fold4.h5ad',\n",
       " '/data/pollock/benchmarking/results/pollock/interdataset_with_folds/scRNAseq_pdac_fold0.h5ad',\n",
       " '/data/pollock/benchmarking/results/pollock/interdataset_with_folds/scRNAseq_pdac_fold1.h5ad',\n",
       " '/data/pollock/benchmarking/results/pollock/interdataset_with_folds/scRNAseq_pdac_fold2.h5ad',\n",
       " '/data/pollock/benchmarking/results/pollock/interdataset_with_folds/scRNAseq_pdac_fold3.h5ad',\n",
       " '/data/pollock/benchmarking/results/pollock/interdataset_with_folds/scRNAseq_pdac_fold4.h5ad',\n",
       " '/data/pollock/benchmarking/results/pollock/interdataset_with_folds/snATACseq_brca_fold0.h5ad',\n",
       " '/data/pollock/benchmarking/results/pollock/interdataset_with_folds/snATACseq_brca_fold1.h5ad',\n",
       " '/data/pollock/benchmarking/results/pollock/interdataset_with_folds/snATACseq_brca_fold2.h5ad',\n",
       " '/data/pollock/benchmarking/results/pollock/interdataset_with_folds/snATACseq_brca_fold3.h5ad',\n",
       " '/data/pollock/benchmarking/results/pollock/interdataset_with_folds/snATACseq_brca_fold4.h5ad',\n",
       " '/data/pollock/benchmarking/results/pollock/interdataset_with_folds/snATACseq_ccrcc_fold0.h5ad',\n",
       " '/data/pollock/benchmarking/results/pollock/interdataset_with_folds/snATACseq_ccrcc_fold1.h5ad',\n",
       " '/data/pollock/benchmarking/results/pollock/interdataset_with_folds/snATACseq_ccrcc_fold2.h5ad',\n",
       " '/data/pollock/benchmarking/results/pollock/interdataset_with_folds/snATACseq_ccrcc_fold3.h5ad',\n",
       " '/data/pollock/benchmarking/results/pollock/interdataset_with_folds/snATACseq_ccrcc_fold4.h5ad',\n",
       " '/data/pollock/benchmarking/results/pollock/interdataset_with_folds/snATACseq_gbm_fold0.h5ad',\n",
       " '/data/pollock/benchmarking/results/pollock/interdataset_with_folds/snATACseq_gbm_fold1.h5ad',\n",
       " '/data/pollock/benchmarking/results/pollock/interdataset_with_folds/snATACseq_gbm_fold2.h5ad',\n",
       " '/data/pollock/benchmarking/results/pollock/interdataset_with_folds/snATACseq_gbm_fold3.h5ad',\n",
       " '/data/pollock/benchmarking/results/pollock/interdataset_with_folds/snATACseq_gbm_fold4.h5ad',\n",
       " '/data/pollock/benchmarking/results/pollock/interdataset_with_folds/snRNAseq_brca_fold0.h5ad',\n",
       " '/data/pollock/benchmarking/results/pollock/interdataset_with_folds/snRNAseq_brca_fold1.h5ad',\n",
       " '/data/pollock/benchmarking/results/pollock/interdataset_with_folds/snRNAseq_brca_fold2.h5ad',\n",
       " '/data/pollock/benchmarking/results/pollock/interdataset_with_folds/snRNAseq_brca_fold3.h5ad',\n",
       " '/data/pollock/benchmarking/results/pollock/interdataset_with_folds/snRNAseq_brca_fold4.h5ad',\n",
       " '/data/pollock/benchmarking/results/pollock/interdataset_with_folds/snRNAseq_ccrcc_fold0.h5ad',\n",
       " '/data/pollock/benchmarking/results/pollock/interdataset_with_folds/snRNAseq_ccrcc_fold1.h5ad',\n",
       " '/data/pollock/benchmarking/results/pollock/interdataset_with_folds/snRNAseq_ccrcc_fold2.h5ad',\n",
       " '/data/pollock/benchmarking/results/pollock/interdataset_with_folds/snRNAseq_ccrcc_fold3.h5ad',\n",
       " '/data/pollock/benchmarking/results/pollock/interdataset_with_folds/snRNAseq_ccrcc_fold4.h5ad',\n",
       " '/data/pollock/benchmarking/results/pollock/interdataset_with_folds/snRNAseq_gbm_fold0.h5ad',\n",
       " '/data/pollock/benchmarking/results/pollock/interdataset_with_folds/snRNAseq_gbm_fold1.h5ad',\n",
       " '/data/pollock/benchmarking/results/pollock/interdataset_with_folds/snRNAseq_gbm_fold2.h5ad',\n",
       " '/data/pollock/benchmarking/results/pollock/interdataset_with_folds/snRNAseq_gbm_fold3.h5ad',\n",
       " '/data/pollock/benchmarking/results/pollock/interdataset_with_folds/snRNAseq_gbm_fold4.h5ad']"
      ]
     },
     "execution_count": 56,
     "metadata": {},
     "output_type": "execute_result"
    }
   ],
   "source": [
    "fps = sorted(utils.listfiles(result_dir, regex=r'.h5ad$'))\n",
    "fps"
   ]
  },
  {
   "cell_type": "code",
   "execution_count": 57,
   "id": "bf0e58cc",
   "metadata": {},
   "outputs": [
    {
     "name": "stdout",
     "output_type": "stream",
     "text": [
      "scRNAseq brca fold0\n",
      "scRNAseq brca fold1\n",
      "scRNAseq brca fold2\n",
      "scRNAseq brca fold3\n",
      "scRNAseq brca fold4\n",
      "scRNAseq cesc fold0\n",
      "scRNAseq cesc fold1\n",
      "scRNAseq cesc fold2\n",
      "scRNAseq cesc fold3\n",
      "scRNAseq cesc fold4\n",
      "scRNAseq hnscc fold0\n",
      "scRNAseq hnscc fold1\n",
      "scRNAseq hnscc fold2\n",
      "scRNAseq hnscc fold3\n",
      "scRNAseq hnscc fold4\n",
      "scRNAseq melanoma fold0\n",
      "scRNAseq melanoma fold1\n",
      "scRNAseq melanoma fold2\n",
      "scRNAseq melanoma fold3\n",
      "scRNAseq melanoma fold4\n",
      "scRNAseq myeloma fold0\n"
     ]
    },
    {
     "name": "stderr",
     "output_type": "stream",
     "text": [
      "/data/estorrs/miniconda3/envs/pollock_new/lib/python3.8/site-packages/sklearn/metrics/_classification.py:1318: UndefinedMetricWarning: Precision and F-score are ill-defined and being set to 0.0 in labels with no predicted samples. Use `zero_division` parameter to control this behavior.\n",
      "  _warn_prf(average, modifier, msg_start, len(result))\n",
      "/data/estorrs/miniconda3/envs/pollock_new/lib/python3.8/site-packages/sklearn/metrics/_classification.py:1318: UndefinedMetricWarning: Precision and F-score are ill-defined and being set to 0.0 in labels with no predicted samples. Use `zero_division` parameter to control this behavior.\n",
      "  _warn_prf(average, modifier, msg_start, len(result))\n",
      "/data/estorrs/miniconda3/envs/pollock_new/lib/python3.8/site-packages/sklearn/metrics/_classification.py:1318: UndefinedMetricWarning: Precision and F-score are ill-defined and being set to 0.0 in labels with no predicted samples. Use `zero_division` parameter to control this behavior.\n",
      "  _warn_prf(average, modifier, msg_start, len(result))\n"
     ]
    },
    {
     "name": "stdout",
     "output_type": "stream",
     "text": [
      "scRNAseq myeloma fold1\n"
     ]
    },
    {
     "name": "stderr",
     "output_type": "stream",
     "text": [
      "/data/estorrs/miniconda3/envs/pollock_new/lib/python3.8/site-packages/sklearn/metrics/_classification.py:1318: UndefinedMetricWarning: Precision and F-score are ill-defined and being set to 0.0 in labels with no predicted samples. Use `zero_division` parameter to control this behavior.\n",
      "  _warn_prf(average, modifier, msg_start, len(result))\n",
      "/data/estorrs/miniconda3/envs/pollock_new/lib/python3.8/site-packages/sklearn/metrics/_classification.py:1318: UndefinedMetricWarning: Precision and F-score are ill-defined and being set to 0.0 in labels with no predicted samples. Use `zero_division` parameter to control this behavior.\n",
      "  _warn_prf(average, modifier, msg_start, len(result))\n",
      "/data/estorrs/miniconda3/envs/pollock_new/lib/python3.8/site-packages/sklearn/metrics/_classification.py:1318: UndefinedMetricWarning: Precision and F-score are ill-defined and being set to 0.0 in labels with no predicted samples. Use `zero_division` parameter to control this behavior.\n",
      "  _warn_prf(average, modifier, msg_start, len(result))\n"
     ]
    },
    {
     "name": "stdout",
     "output_type": "stream",
     "text": [
      "scRNAseq myeloma fold2\n"
     ]
    },
    {
     "name": "stderr",
     "output_type": "stream",
     "text": [
      "/data/estorrs/miniconda3/envs/pollock_new/lib/python3.8/site-packages/sklearn/metrics/_classification.py:1318: UndefinedMetricWarning: Precision and F-score are ill-defined and being set to 0.0 in labels with no predicted samples. Use `zero_division` parameter to control this behavior.\n",
      "  _warn_prf(average, modifier, msg_start, len(result))\n",
      "/data/estorrs/miniconda3/envs/pollock_new/lib/python3.8/site-packages/sklearn/metrics/_classification.py:1318: UndefinedMetricWarning: Precision and F-score are ill-defined and being set to 0.0 in labels with no predicted samples. Use `zero_division` parameter to control this behavior.\n",
      "  _warn_prf(average, modifier, msg_start, len(result))\n",
      "/data/estorrs/miniconda3/envs/pollock_new/lib/python3.8/site-packages/sklearn/metrics/_classification.py:1318: UndefinedMetricWarning: Precision and F-score are ill-defined and being set to 0.0 in labels with no predicted samples. Use `zero_division` parameter to control this behavior.\n",
      "  _warn_prf(average, modifier, msg_start, len(result))\n"
     ]
    },
    {
     "name": "stdout",
     "output_type": "stream",
     "text": [
      "scRNAseq myeloma fold3\n"
     ]
    },
    {
     "name": "stderr",
     "output_type": "stream",
     "text": [
      "/data/estorrs/miniconda3/envs/pollock_new/lib/python3.8/site-packages/sklearn/metrics/_classification.py:1318: UndefinedMetricWarning: Precision and F-score are ill-defined and being set to 0.0 in labels with no predicted samples. Use `zero_division` parameter to control this behavior.\n",
      "  _warn_prf(average, modifier, msg_start, len(result))\n",
      "/data/estorrs/miniconda3/envs/pollock_new/lib/python3.8/site-packages/sklearn/metrics/_classification.py:1318: UndefinedMetricWarning: Precision and F-score are ill-defined and being set to 0.0 in labels with no predicted samples. Use `zero_division` parameter to control this behavior.\n",
      "  _warn_prf(average, modifier, msg_start, len(result))\n",
      "/data/estorrs/miniconda3/envs/pollock_new/lib/python3.8/site-packages/sklearn/metrics/_classification.py:1318: UndefinedMetricWarning: Precision and F-score are ill-defined and being set to 0.0 in labels with no predicted samples. Use `zero_division` parameter to control this behavior.\n",
      "  _warn_prf(average, modifier, msg_start, len(result))\n"
     ]
    },
    {
     "name": "stdout",
     "output_type": "stream",
     "text": [
      "scRNAseq myeloma fold4\n"
     ]
    },
    {
     "name": "stderr",
     "output_type": "stream",
     "text": [
      "/data/estorrs/miniconda3/envs/pollock_new/lib/python3.8/site-packages/sklearn/metrics/_classification.py:1318: UndefinedMetricWarning: Precision and F-score are ill-defined and being set to 0.0 in labels with no predicted samples. Use `zero_division` parameter to control this behavior.\n",
      "  _warn_prf(average, modifier, msg_start, len(result))\n",
      "/data/estorrs/miniconda3/envs/pollock_new/lib/python3.8/site-packages/sklearn/metrics/_classification.py:1318: UndefinedMetricWarning: Precision and F-score are ill-defined and being set to 0.0 in labels with no predicted samples. Use `zero_division` parameter to control this behavior.\n",
      "  _warn_prf(average, modifier, msg_start, len(result))\n",
      "/data/estorrs/miniconda3/envs/pollock_new/lib/python3.8/site-packages/sklearn/metrics/_classification.py:1318: UndefinedMetricWarning: Precision and F-score are ill-defined and being set to 0.0 in labels with no predicted samples. Use `zero_division` parameter to control this behavior.\n",
      "  _warn_prf(average, modifier, msg_start, len(result))\n"
     ]
    },
    {
     "name": "stdout",
     "output_type": "stream",
     "text": [
      "scRNAseq pdac fold0\n",
      "scRNAseq pdac fold1\n",
      "scRNAseq pdac fold2\n",
      "scRNAseq pdac fold3\n",
      "scRNAseq pdac fold4\n",
      "snATACseq brca fold0\n",
      "snATACseq brca fold1\n",
      "snATACseq brca fold2\n",
      "snATACseq brca fold3\n",
      "snATACseq brca fold4\n",
      "snATACseq ccrcc fold0\n",
      "snATACseq ccrcc fold1\n",
      "snATACseq ccrcc fold2\n",
      "snATACseq ccrcc fold3\n",
      "snATACseq ccrcc fold4\n",
      "snATACseq gbm fold0\n",
      "snATACseq gbm fold1\n",
      "snATACseq gbm fold2\n",
      "snATACseq gbm fold3\n",
      "snATACseq gbm fold4\n",
      "snRNAseq brca fold0\n",
      "snRNAseq brca fold1\n",
      "snRNAseq brca fold2\n",
      "snRNAseq brca fold3\n",
      "snRNAseq brca fold4\n",
      "snRNAseq ccrcc fold0\n",
      "snRNAseq ccrcc fold1\n",
      "snRNAseq ccrcc fold2\n",
      "snRNAseq ccrcc fold3\n",
      "snRNAseq ccrcc fold4\n",
      "snRNAseq gbm fold0\n",
      "snRNAseq gbm fold1\n",
      "snRNAseq gbm fold2\n",
      "snRNAseq gbm fold3\n",
      "snRNAseq gbm fold4\n"
     ]
    }
   ],
   "source": [
    "to_prediction = {}\n",
    "for fp in fps:\n",
    "    root = fp.split('/')[-1].replace('.h5ad', '')\n",
    "    dtype, disease, fold = root.split('_')\n",
    "    print(dtype, disease, fold)\n",
    "    \n",
    "    adata = sc.read_h5ad(fp)\n",
    "\n",
    "    y_pred = adata.obs['predicted_cell_type'].to_list()\n",
    "    y_true = adata.obs['cell_type'].to_list()\n",
    "    d, cm = get_metrics(y_true, y_pred)\n",
    "\n",
    "    d.to_csv(os.path.join(result_dir, f'{dtype}_{disease}_{fold}_clf_report.txt'), sep='\\t')\n",
    "    cm.to_csv(os.path.join(result_dir, f'{dtype}_{disease}_{fold}_confusion_matrix.txt'), sep='\\t')\n"
   ]
  },
  {
   "cell_type": "markdown",
   "id": "14f1015c",
   "metadata": {},
   "source": [
    "#### multiclass roc for linear svm and pollock"
   ]
  },
  {
   "cell_type": "code",
   "execution_count": 45,
   "id": "e2fad757",
   "metadata": {},
   "outputs": [],
   "source": [
    "from sklearn.metrics import roc_curve, auc, roc_auc_score\n",
    "from sklearn.preprocessing import label_binarize"
   ]
  },
  {
   "cell_type": "code",
   "execution_count": 38,
   "id": "de5354f9",
   "metadata": {},
   "outputs": [
    {
     "data": {
      "text/html": [
       "<div>\n",
       "<style scoped>\n",
       "    .dataframe tbody tr th:only-of-type {\n",
       "        vertical-align: middle;\n",
       "    }\n",
       "\n",
       "    .dataframe tbody tr th {\n",
       "        vertical-align: top;\n",
       "    }\n",
       "\n",
       "    .dataframe thead th {\n",
       "        text-align: right;\n",
       "    }\n",
       "</style>\n",
       "<table border=\"1\" class=\"dataframe\">\n",
       "  <thead>\n",
       "    <tr style=\"text-align: right;\">\n",
       "      <th></th>\n",
       "      <th>cell_type</th>\n",
       "      <th>barcode</th>\n",
       "      <th>sample</th>\n",
       "      <th>n_counts</th>\n",
       "      <th>size_factors</th>\n",
       "      <th>y_pred</th>\n",
       "      <th>predicted_cell_type_probability</th>\n",
       "      <th>predicted_cell_type</th>\n",
       "      <th>probability B cell</th>\n",
       "      <th>probability CD4 T cell</th>\n",
       "      <th>...</th>\n",
       "      <th>probability Dendritic</th>\n",
       "      <th>probability Endothelial</th>\n",
       "      <th>probability Erythrocyte</th>\n",
       "      <th>probability Fibroblast</th>\n",
       "      <th>probability Malignant</th>\n",
       "      <th>probability Mast</th>\n",
       "      <th>probability Monocyte</th>\n",
       "      <th>probability NK</th>\n",
       "      <th>probability Plasma</th>\n",
       "      <th>probability Treg</th>\n",
       "    </tr>\n",
       "  </thead>\n",
       "  <tbody>\n",
       "    <tr>\n",
       "      <th>0_AACCAACTCCACTAGA-1</th>\n",
       "      <td>Endothelial</td>\n",
       "      <td>AACCAACTCCACTAGA-1</td>\n",
       "      <td>0</td>\n",
       "      <td>4712.0</td>\n",
       "      <td>1.213182</td>\n",
       "      <td>4</td>\n",
       "      <td>0.993027</td>\n",
       "      <td>Endothelial</td>\n",
       "      <td>0.000614</td>\n",
       "      <td>0.000489</td>\n",
       "      <td>...</td>\n",
       "      <td>0.000855</td>\n",
       "      <td>0.993027</td>\n",
       "      <td>0.002185</td>\n",
       "      <td>0.000268</td>\n",
       "      <td>0.000936</td>\n",
       "      <td>0.000664</td>\n",
       "      <td>0.000077</td>\n",
       "      <td>0.000299</td>\n",
       "      <td>0.000135</td>\n",
       "      <td>0.000094</td>\n",
       "    </tr>\n",
       "    <tr>\n",
       "      <th>0_AACCCAAAGACGAGCT-1</th>\n",
       "      <td>NK</td>\n",
       "      <td>AACCCAAAGACGAGCT-1</td>\n",
       "      <td>0</td>\n",
       "      <td>4732.0</td>\n",
       "      <td>1.218332</td>\n",
       "      <td>10</td>\n",
       "      <td>0.995098</td>\n",
       "      <td>NK</td>\n",
       "      <td>0.000034</td>\n",
       "      <td>0.000235</td>\n",
       "      <td>...</td>\n",
       "      <td>0.001162</td>\n",
       "      <td>0.000163</td>\n",
       "      <td>0.000836</td>\n",
       "      <td>0.000269</td>\n",
       "      <td>0.000528</td>\n",
       "      <td>0.000188</td>\n",
       "      <td>0.000253</td>\n",
       "      <td>0.995098</td>\n",
       "      <td>0.000084</td>\n",
       "      <td>0.000575</td>\n",
       "    </tr>\n",
       "    <tr>\n",
       "      <th>0_AACGTCAGTTTACACG-1</th>\n",
       "      <td>Endothelial</td>\n",
       "      <td>AACGTCAGTTTACACG-1</td>\n",
       "      <td>0</td>\n",
       "      <td>3294.0</td>\n",
       "      <td>0.848095</td>\n",
       "      <td>4</td>\n",
       "      <td>0.964709</td>\n",
       "      <td>Endothelial</td>\n",
       "      <td>0.004673</td>\n",
       "      <td>0.003166</td>\n",
       "      <td>...</td>\n",
       "      <td>0.002698</td>\n",
       "      <td>0.964709</td>\n",
       "      <td>0.004423</td>\n",
       "      <td>0.003396</td>\n",
       "      <td>0.002712</td>\n",
       "      <td>0.004379</td>\n",
       "      <td>0.000911</td>\n",
       "      <td>0.001713</td>\n",
       "      <td>0.002370</td>\n",
       "      <td>0.001697</td>\n",
       "    </tr>\n",
       "    <tr>\n",
       "      <th>0_AACTTCTGTCCAGAAG-1</th>\n",
       "      <td>CD8 T cell</td>\n",
       "      <td>AACTTCTGTCCAGAAG-1</td>\n",
       "      <td>0</td>\n",
       "      <td>3202.0</td>\n",
       "      <td>0.824408</td>\n",
       "      <td>2</td>\n",
       "      <td>0.939156</td>\n",
       "      <td>CD8 T cell</td>\n",
       "      <td>0.000410</td>\n",
       "      <td>0.018011</td>\n",
       "      <td>...</td>\n",
       "      <td>0.002787</td>\n",
       "      <td>0.002750</td>\n",
       "      <td>0.009137</td>\n",
       "      <td>0.001392</td>\n",
       "      <td>0.002610</td>\n",
       "      <td>0.005852</td>\n",
       "      <td>0.002945</td>\n",
       "      <td>0.014044</td>\n",
       "      <td>0.000093</td>\n",
       "      <td>0.000811</td>\n",
       "    </tr>\n",
       "    <tr>\n",
       "      <th>0_AAGCCATAGTGATTCC-1</th>\n",
       "      <td>Endothelial</td>\n",
       "      <td>AAGCCATAGTGATTCC-1</td>\n",
       "      <td>0</td>\n",
       "      <td>4088.0</td>\n",
       "      <td>1.052523</td>\n",
       "      <td>4</td>\n",
       "      <td>0.991898</td>\n",
       "      <td>Endothelial</td>\n",
       "      <td>0.001071</td>\n",
       "      <td>0.000682</td>\n",
       "      <td>...</td>\n",
       "      <td>0.000795</td>\n",
       "      <td>0.991898</td>\n",
       "      <td>0.001467</td>\n",
       "      <td>0.000629</td>\n",
       "      <td>0.000686</td>\n",
       "      <td>0.001158</td>\n",
       "      <td>0.000116</td>\n",
       "      <td>0.000332</td>\n",
       "      <td>0.000332</td>\n",
       "      <td>0.000197</td>\n",
       "    </tr>\n",
       "    <tr>\n",
       "      <th>...</th>\n",
       "      <td>...</td>\n",
       "      <td>...</td>\n",
       "      <td>...</td>\n",
       "      <td>...</td>\n",
       "      <td>...</td>\n",
       "      <td>...</td>\n",
       "      <td>...</td>\n",
       "      <td>...</td>\n",
       "      <td>...</td>\n",
       "      <td>...</td>\n",
       "      <td>...</td>\n",
       "      <td>...</td>\n",
       "      <td>...</td>\n",
       "      <td>...</td>\n",
       "      <td>...</td>\n",
       "      <td>...</td>\n",
       "      <td>...</td>\n",
       "      <td>...</td>\n",
       "      <td>...</td>\n",
       "      <td>...</td>\n",
       "      <td>...</td>\n",
       "    </tr>\n",
       "    <tr>\n",
       "      <th>29_TTTATGCCAGCCCAGT-1</th>\n",
       "      <td>Fibroblast</td>\n",
       "      <td>TTTATGCCAGCCCAGT-1</td>\n",
       "      <td>29</td>\n",
       "      <td>4480.0</td>\n",
       "      <td>1.153450</td>\n",
       "      <td>6</td>\n",
       "      <td>0.946407</td>\n",
       "      <td>Fibroblast</td>\n",
       "      <td>0.002872</td>\n",
       "      <td>0.004750</td>\n",
       "      <td>...</td>\n",
       "      <td>0.003805</td>\n",
       "      <td>0.006681</td>\n",
       "      <td>0.005148</td>\n",
       "      <td>0.946407</td>\n",
       "      <td>0.003304</td>\n",
       "      <td>0.006503</td>\n",
       "      <td>0.000866</td>\n",
       "      <td>0.003830</td>\n",
       "      <td>0.006494</td>\n",
       "      <td>0.005201</td>\n",
       "    </tr>\n",
       "    <tr>\n",
       "      <th>29_TTTCATGGTCGACTTA-1</th>\n",
       "      <td>Treg</td>\n",
       "      <td>TTTCATGGTCGACTTA-1</td>\n",
       "      <td>29</td>\n",
       "      <td>4580.0</td>\n",
       "      <td>1.179197</td>\n",
       "      <td>12</td>\n",
       "      <td>0.995185</td>\n",
       "      <td>Treg</td>\n",
       "      <td>0.000739</td>\n",
       "      <td>0.001071</td>\n",
       "      <td>...</td>\n",
       "      <td>0.000006</td>\n",
       "      <td>0.000017</td>\n",
       "      <td>0.000058</td>\n",
       "      <td>0.000428</td>\n",
       "      <td>0.001124</td>\n",
       "      <td>0.000208</td>\n",
       "      <td>0.000238</td>\n",
       "      <td>0.000206</td>\n",
       "      <td>0.000412</td>\n",
       "      <td>0.995185</td>\n",
       "    </tr>\n",
       "    <tr>\n",
       "      <th>29_TTTCCTCGTTAGCGGA-1</th>\n",
       "      <td>Treg</td>\n",
       "      <td>TTTCCTCGTTAGCGGA-1</td>\n",
       "      <td>29</td>\n",
       "      <td>4525.0</td>\n",
       "      <td>1.165036</td>\n",
       "      <td>12</td>\n",
       "      <td>0.980331</td>\n",
       "      <td>Treg</td>\n",
       "      <td>0.000945</td>\n",
       "      <td>0.001490</td>\n",
       "      <td>...</td>\n",
       "      <td>0.000018</td>\n",
       "      <td>0.000062</td>\n",
       "      <td>0.000246</td>\n",
       "      <td>0.001260</td>\n",
       "      <td>0.005305</td>\n",
       "      <td>0.000826</td>\n",
       "      <td>0.001646</td>\n",
       "      <td>0.000715</td>\n",
       "      <td>0.000591</td>\n",
       "      <td>0.980331</td>\n",
       "    </tr>\n",
       "    <tr>\n",
       "      <th>29_TTTGACTCATGGGATG-1</th>\n",
       "      <td>Plasma</td>\n",
       "      <td>TTTGACTCATGGGATG-1</td>\n",
       "      <td>29</td>\n",
       "      <td>4452.0</td>\n",
       "      <td>1.146241</td>\n",
       "      <td>11</td>\n",
       "      <td>0.998757</td>\n",
       "      <td>Plasma</td>\n",
       "      <td>0.000250</td>\n",
       "      <td>0.000133</td>\n",
       "      <td>...</td>\n",
       "      <td>0.000187</td>\n",
       "      <td>0.000019</td>\n",
       "      <td>0.000010</td>\n",
       "      <td>0.000162</td>\n",
       "      <td>0.000037</td>\n",
       "      <td>0.000042</td>\n",
       "      <td>0.000225</td>\n",
       "      <td>0.000015</td>\n",
       "      <td>0.998757</td>\n",
       "      <td>0.000162</td>\n",
       "    </tr>\n",
       "    <tr>\n",
       "      <th>29_TTTGGTTCAGTTTCGA-1</th>\n",
       "      <td>CD8 T cell</td>\n",
       "      <td>TTTGGTTCAGTTTCGA-1</td>\n",
       "      <td>29</td>\n",
       "      <td>3414.0</td>\n",
       "      <td>0.878991</td>\n",
       "      <td>2</td>\n",
       "      <td>0.983060</td>\n",
       "      <td>CD8 T cell</td>\n",
       "      <td>0.000265</td>\n",
       "      <td>0.004784</td>\n",
       "      <td>...</td>\n",
       "      <td>0.000643</td>\n",
       "      <td>0.000981</td>\n",
       "      <td>0.001974</td>\n",
       "      <td>0.000877</td>\n",
       "      <td>0.001331</td>\n",
       "      <td>0.001449</td>\n",
       "      <td>0.001938</td>\n",
       "      <td>0.001314</td>\n",
       "      <td>0.000065</td>\n",
       "      <td>0.001317</td>\n",
       "    </tr>\n",
       "  </tbody>\n",
       "</table>\n",
       "<p>5748 rows × 21 columns</p>\n",
       "</div>"
      ],
      "text/plain": [
       "                         cell_type             barcode  sample  n_counts  \\\n",
       "0_AACCAACTCCACTAGA-1   Endothelial  AACCAACTCCACTAGA-1       0    4712.0   \n",
       "0_AACCCAAAGACGAGCT-1            NK  AACCCAAAGACGAGCT-1       0    4732.0   \n",
       "0_AACGTCAGTTTACACG-1   Endothelial  AACGTCAGTTTACACG-1       0    3294.0   \n",
       "0_AACTTCTGTCCAGAAG-1    CD8 T cell  AACTTCTGTCCAGAAG-1       0    3202.0   \n",
       "0_AAGCCATAGTGATTCC-1   Endothelial  AAGCCATAGTGATTCC-1       0    4088.0   \n",
       "...                            ...                 ...     ...       ...   \n",
       "29_TTTATGCCAGCCCAGT-1   Fibroblast  TTTATGCCAGCCCAGT-1      29    4480.0   \n",
       "29_TTTCATGGTCGACTTA-1         Treg  TTTCATGGTCGACTTA-1      29    4580.0   \n",
       "29_TTTCCTCGTTAGCGGA-1         Treg  TTTCCTCGTTAGCGGA-1      29    4525.0   \n",
       "29_TTTGACTCATGGGATG-1       Plasma  TTTGACTCATGGGATG-1      29    4452.0   \n",
       "29_TTTGGTTCAGTTTCGA-1   CD8 T cell  TTTGGTTCAGTTTCGA-1      29    3414.0   \n",
       "\n",
       "                       size_factors  y_pred  predicted_cell_type_probability  \\\n",
       "0_AACCAACTCCACTAGA-1       1.213182       4                         0.993027   \n",
       "0_AACCCAAAGACGAGCT-1       1.218332      10                         0.995098   \n",
       "0_AACGTCAGTTTACACG-1       0.848095       4                         0.964709   \n",
       "0_AACTTCTGTCCAGAAG-1       0.824408       2                         0.939156   \n",
       "0_AAGCCATAGTGATTCC-1       1.052523       4                         0.991898   \n",
       "...                             ...     ...                              ...   \n",
       "29_TTTATGCCAGCCCAGT-1      1.153450       6                         0.946407   \n",
       "29_TTTCATGGTCGACTTA-1      1.179197      12                         0.995185   \n",
       "29_TTTCCTCGTTAGCGGA-1      1.165036      12                         0.980331   \n",
       "29_TTTGACTCATGGGATG-1      1.146241      11                         0.998757   \n",
       "29_TTTGGTTCAGTTTCGA-1      0.878991       2                         0.983060   \n",
       "\n",
       "                      predicted_cell_type  probability B cell  \\\n",
       "0_AACCAACTCCACTAGA-1          Endothelial            0.000614   \n",
       "0_AACCCAAAGACGAGCT-1                   NK            0.000034   \n",
       "0_AACGTCAGTTTACACG-1          Endothelial            0.004673   \n",
       "0_AACTTCTGTCCAGAAG-1           CD8 T cell            0.000410   \n",
       "0_AAGCCATAGTGATTCC-1          Endothelial            0.001071   \n",
       "...                                   ...                 ...   \n",
       "29_TTTATGCCAGCCCAGT-1          Fibroblast            0.002872   \n",
       "29_TTTCATGGTCGACTTA-1                Treg            0.000739   \n",
       "29_TTTCCTCGTTAGCGGA-1                Treg            0.000945   \n",
       "29_TTTGACTCATGGGATG-1              Plasma            0.000250   \n",
       "29_TTTGGTTCAGTTTCGA-1          CD8 T cell            0.000265   \n",
       "\n",
       "                       probability CD4 T cell  ...  probability Dendritic  \\\n",
       "0_AACCAACTCCACTAGA-1                 0.000489  ...               0.000855   \n",
       "0_AACCCAAAGACGAGCT-1                 0.000235  ...               0.001162   \n",
       "0_AACGTCAGTTTACACG-1                 0.003166  ...               0.002698   \n",
       "0_AACTTCTGTCCAGAAG-1                 0.018011  ...               0.002787   \n",
       "0_AAGCCATAGTGATTCC-1                 0.000682  ...               0.000795   \n",
       "...                                       ...  ...                    ...   \n",
       "29_TTTATGCCAGCCCAGT-1                0.004750  ...               0.003805   \n",
       "29_TTTCATGGTCGACTTA-1                0.001071  ...               0.000006   \n",
       "29_TTTCCTCGTTAGCGGA-1                0.001490  ...               0.000018   \n",
       "29_TTTGACTCATGGGATG-1                0.000133  ...               0.000187   \n",
       "29_TTTGGTTCAGTTTCGA-1                0.004784  ...               0.000643   \n",
       "\n",
       "                       probability Endothelial  probability Erythrocyte  \\\n",
       "0_AACCAACTCCACTAGA-1                  0.993027                 0.002185   \n",
       "0_AACCCAAAGACGAGCT-1                  0.000163                 0.000836   \n",
       "0_AACGTCAGTTTACACG-1                  0.964709                 0.004423   \n",
       "0_AACTTCTGTCCAGAAG-1                  0.002750                 0.009137   \n",
       "0_AAGCCATAGTGATTCC-1                  0.991898                 0.001467   \n",
       "...                                        ...                      ...   \n",
       "29_TTTATGCCAGCCCAGT-1                 0.006681                 0.005148   \n",
       "29_TTTCATGGTCGACTTA-1                 0.000017                 0.000058   \n",
       "29_TTTCCTCGTTAGCGGA-1                 0.000062                 0.000246   \n",
       "29_TTTGACTCATGGGATG-1                 0.000019                 0.000010   \n",
       "29_TTTGGTTCAGTTTCGA-1                 0.000981                 0.001974   \n",
       "\n",
       "                       probability Fibroblast  probability Malignant  \\\n",
       "0_AACCAACTCCACTAGA-1                 0.000268               0.000936   \n",
       "0_AACCCAAAGACGAGCT-1                 0.000269               0.000528   \n",
       "0_AACGTCAGTTTACACG-1                 0.003396               0.002712   \n",
       "0_AACTTCTGTCCAGAAG-1                 0.001392               0.002610   \n",
       "0_AAGCCATAGTGATTCC-1                 0.000629               0.000686   \n",
       "...                                       ...                    ...   \n",
       "29_TTTATGCCAGCCCAGT-1                0.946407               0.003304   \n",
       "29_TTTCATGGTCGACTTA-1                0.000428               0.001124   \n",
       "29_TTTCCTCGTTAGCGGA-1                0.001260               0.005305   \n",
       "29_TTTGACTCATGGGATG-1                0.000162               0.000037   \n",
       "29_TTTGGTTCAGTTTCGA-1                0.000877               0.001331   \n",
       "\n",
       "                       probability Mast  probability Monocyte  probability NK  \\\n",
       "0_AACCAACTCCACTAGA-1           0.000664              0.000077        0.000299   \n",
       "0_AACCCAAAGACGAGCT-1           0.000188              0.000253        0.995098   \n",
       "0_AACGTCAGTTTACACG-1           0.004379              0.000911        0.001713   \n",
       "0_AACTTCTGTCCAGAAG-1           0.005852              0.002945        0.014044   \n",
       "0_AAGCCATAGTGATTCC-1           0.001158              0.000116        0.000332   \n",
       "...                                 ...                   ...             ...   \n",
       "29_TTTATGCCAGCCCAGT-1          0.006503              0.000866        0.003830   \n",
       "29_TTTCATGGTCGACTTA-1          0.000208              0.000238        0.000206   \n",
       "29_TTTCCTCGTTAGCGGA-1          0.000826              0.001646        0.000715   \n",
       "29_TTTGACTCATGGGATG-1          0.000042              0.000225        0.000015   \n",
       "29_TTTGGTTCAGTTTCGA-1          0.001449              0.001938        0.001314   \n",
       "\n",
       "                       probability Plasma  probability Treg  \n",
       "0_AACCAACTCCACTAGA-1             0.000135          0.000094  \n",
       "0_AACCCAAAGACGAGCT-1             0.000084          0.000575  \n",
       "0_AACGTCAGTTTACACG-1             0.002370          0.001697  \n",
       "0_AACTTCTGTCCAGAAG-1             0.000093          0.000811  \n",
       "0_AAGCCATAGTGATTCC-1             0.000332          0.000197  \n",
       "...                                   ...               ...  \n",
       "29_TTTATGCCAGCCCAGT-1            0.006494          0.005201  \n",
       "29_TTTCATGGTCGACTTA-1            0.000412          0.995185  \n",
       "29_TTTCCTCGTTAGCGGA-1            0.000591          0.980331  \n",
       "29_TTTGACTCATGGGATG-1            0.998757          0.000162  \n",
       "29_TTTGGTTCAGTTTCGA-1            0.000065          0.001317  \n",
       "\n",
       "[5748 rows x 21 columns]"
      ]
     },
     "execution_count": 38,
     "metadata": {},
     "output_type": "execute_result"
    }
   ],
   "source": [
    "a = sc.read_h5ad('/data/pollock/benchmarking/results/pollock/scRNAseq_brca.h5ad')\n",
    "a.obs"
   ]
  },
  {
   "cell_type": "code",
   "execution_count": 68,
   "id": "ca8128c7",
   "metadata": {},
   "outputs": [
    {
     "data": {
      "text/html": [
       "<div>\n",
       "<style scoped>\n",
       "    .dataframe tbody tr th:only-of-type {\n",
       "        vertical-align: middle;\n",
       "    }\n",
       "\n",
       "    .dataframe tbody tr th {\n",
       "        vertical-align: top;\n",
       "    }\n",
       "\n",
       "    .dataframe thead th {\n",
       "        text-align: right;\n",
       "    }\n",
       "</style>\n",
       "<table border=\"1\" class=\"dataframe\">\n",
       "  <thead>\n",
       "    <tr style=\"text-align: right;\">\n",
       "      <th></th>\n",
       "      <th>cell_type</th>\n",
       "      <th>barcode</th>\n",
       "      <th>sample</th>\n",
       "      <th>n_counts</th>\n",
       "      <th>size_factors</th>\n",
       "      <th>predicted_cell_type</th>\n",
       "      <th>probability B cell</th>\n",
       "      <th>probability CD4 T cell</th>\n",
       "      <th>probability CD8 T cell</th>\n",
       "      <th>probability Dendritic</th>\n",
       "      <th>probability Endothelial</th>\n",
       "      <th>probability Erythrocyte</th>\n",
       "      <th>probability Fibroblast</th>\n",
       "      <th>probability Malignant</th>\n",
       "      <th>probability Mast</th>\n",
       "      <th>probability Monocyte</th>\n",
       "      <th>probability NK</th>\n",
       "      <th>probability Plasma</th>\n",
       "      <th>probability Treg</th>\n",
       "    </tr>\n",
       "  </thead>\n",
       "  <tbody>\n",
       "    <tr>\n",
       "      <th>0_AACCAACTCCACTAGA-1</th>\n",
       "      <td>Endothelial</td>\n",
       "      <td>AACCAACTCCACTAGA-1</td>\n",
       "      <td>0</td>\n",
       "      <td>4712.0</td>\n",
       "      <td>1.213182</td>\n",
       "      <td>Endothelial</td>\n",
       "      <td>-1.645374</td>\n",
       "      <td>-0.798354</td>\n",
       "      <td>-1.320047</td>\n",
       "      <td>-0.613273</td>\n",
       "      <td>9.651504</td>\n",
       "      <td>0.046297</td>\n",
       "      <td>-3.343092</td>\n",
       "      <td>-0.727528</td>\n",
       "      <td>-1.168746</td>\n",
       "      <td>-0.569176</td>\n",
       "      <td>-1.320954</td>\n",
       "      <td>-0.929309</td>\n",
       "      <td>-1.167010</td>\n",
       "    </tr>\n",
       "    <tr>\n",
       "      <th>0_AACCCAAAGACGAGCT-1</th>\n",
       "      <td>NK</td>\n",
       "      <td>AACCCAAAGACGAGCT-1</td>\n",
       "      <td>0</td>\n",
       "      <td>4732.0</td>\n",
       "      <td>1.218332</td>\n",
       "      <td>NK</td>\n",
       "      <td>-0.844792</td>\n",
       "      <td>-1.667611</td>\n",
       "      <td>-1.252446</td>\n",
       "      <td>-0.681986</td>\n",
       "      <td>-0.991126</td>\n",
       "      <td>-1.047975</td>\n",
       "      <td>-1.393238</td>\n",
       "      <td>0.279072</td>\n",
       "      <td>-0.840426</td>\n",
       "      <td>-0.061285</td>\n",
       "      <td>10.557428</td>\n",
       "      <td>-1.192751</td>\n",
       "      <td>-1.279777</td>\n",
       "    </tr>\n",
       "    <tr>\n",
       "      <th>0_AACGTCAGTTTACACG-1</th>\n",
       "      <td>Endothelial</td>\n",
       "      <td>AACGTCAGTTTACACG-1</td>\n",
       "      <td>0</td>\n",
       "      <td>3296.0</td>\n",
       "      <td>0.848610</td>\n",
       "      <td>Endothelial</td>\n",
       "      <td>-0.874611</td>\n",
       "      <td>-1.563723</td>\n",
       "      <td>-0.647155</td>\n",
       "      <td>-1.483668</td>\n",
       "      <td>7.808266</td>\n",
       "      <td>-0.778172</td>\n",
       "      <td>-0.275812</td>\n",
       "      <td>-0.957157</td>\n",
       "      <td>-0.471111</td>\n",
       "      <td>-0.729114</td>\n",
       "      <td>-1.426803</td>\n",
       "      <td>-0.044268</td>\n",
       "      <td>-0.892382</td>\n",
       "    </tr>\n",
       "    <tr>\n",
       "      <th>0_AACTTCTGTCCAGAAG-1</th>\n",
       "      <td>CD8 T cell</td>\n",
       "      <td>AACTTCTGTCCAGAAG-1</td>\n",
       "      <td>0</td>\n",
       "      <td>3202.0</td>\n",
       "      <td>0.824408</td>\n",
       "      <td>CD8 T cell</td>\n",
       "      <td>-1.695771</td>\n",
       "      <td>-0.758672</td>\n",
       "      <td>1.230153</td>\n",
       "      <td>-1.391558</td>\n",
       "      <td>-1.419928</td>\n",
       "      <td>-0.788930</td>\n",
       "      <td>-0.927254</td>\n",
       "      <td>-0.453907</td>\n",
       "      <td>-0.026667</td>\n",
       "      <td>-0.981914</td>\n",
       "      <td>-0.534299</td>\n",
       "      <td>-1.087195</td>\n",
       "      <td>-2.054266</td>\n",
       "    </tr>\n",
       "    <tr>\n",
       "      <th>0_AAGCCATAGTGATTCC-1</th>\n",
       "      <td>Endothelial</td>\n",
       "      <td>AAGCCATAGTGATTCC-1</td>\n",
       "      <td>0</td>\n",
       "      <td>4088.0</td>\n",
       "      <td>1.052523</td>\n",
       "      <td>Endothelial</td>\n",
       "      <td>-0.334221</td>\n",
       "      <td>-1.272656</td>\n",
       "      <td>-0.656085</td>\n",
       "      <td>-1.552842</td>\n",
       "      <td>14.972706</td>\n",
       "      <td>-0.857209</td>\n",
       "      <td>-1.206331</td>\n",
       "      <td>-0.683234</td>\n",
       "      <td>-0.559324</td>\n",
       "      <td>-1.068178</td>\n",
       "      <td>-0.820980</td>\n",
       "      <td>-1.125220</td>\n",
       "      <td>-1.229909</td>\n",
       "    </tr>\n",
       "    <tr>\n",
       "      <th>...</th>\n",
       "      <td>...</td>\n",
       "      <td>...</td>\n",
       "      <td>...</td>\n",
       "      <td>...</td>\n",
       "      <td>...</td>\n",
       "      <td>...</td>\n",
       "      <td>...</td>\n",
       "      <td>...</td>\n",
       "      <td>...</td>\n",
       "      <td>...</td>\n",
       "      <td>...</td>\n",
       "      <td>...</td>\n",
       "      <td>...</td>\n",
       "      <td>...</td>\n",
       "      <td>...</td>\n",
       "      <td>...</td>\n",
       "      <td>...</td>\n",
       "      <td>...</td>\n",
       "      <td>...</td>\n",
       "    </tr>\n",
       "    <tr>\n",
       "      <th>29_TTTATGCCAGCCCAGT-1</th>\n",
       "      <td>Fibroblast</td>\n",
       "      <td>TTTATGCCAGCCCAGT-1</td>\n",
       "      <td>29</td>\n",
       "      <td>4480.0</td>\n",
       "      <td>1.153450</td>\n",
       "      <td>Fibroblast</td>\n",
       "      <td>-1.617480</td>\n",
       "      <td>-0.865152</td>\n",
       "      <td>-1.466225</td>\n",
       "      <td>-0.761909</td>\n",
       "      <td>-1.233621</td>\n",
       "      <td>-0.567406</td>\n",
       "      <td>4.051761</td>\n",
       "      <td>0.728402</td>\n",
       "      <td>-0.353512</td>\n",
       "      <td>-1.202108</td>\n",
       "      <td>-0.631813</td>\n",
       "      <td>-1.264545</td>\n",
       "      <td>-0.332282</td>\n",
       "    </tr>\n",
       "    <tr>\n",
       "      <th>29_TTTCATGGTCGACTTA-1</th>\n",
       "      <td>Treg</td>\n",
       "      <td>TTTCATGGTCGACTTA-1</td>\n",
       "      <td>29</td>\n",
       "      <td>4580.0</td>\n",
       "      <td>1.179197</td>\n",
       "      <td>Treg</td>\n",
       "      <td>-1.489965</td>\n",
       "      <td>-0.297774</td>\n",
       "      <td>-0.895083</td>\n",
       "      <td>-1.135407</td>\n",
       "      <td>-0.943314</td>\n",
       "      <td>-0.690525</td>\n",
       "      <td>-1.695587</td>\n",
       "      <td>-2.054170</td>\n",
       "      <td>-1.055325</td>\n",
       "      <td>-0.272783</td>\n",
       "      <td>-1.668621</td>\n",
       "      <td>-0.500289</td>\n",
       "      <td>6.091204</td>\n",
       "    </tr>\n",
       "    <tr>\n",
       "      <th>29_TTTCCTCGTTAGCGGA-1</th>\n",
       "      <td>Treg</td>\n",
       "      <td>TTTCCTCGTTAGCGGA-1</td>\n",
       "      <td>29</td>\n",
       "      <td>4526.0</td>\n",
       "      <td>1.165293</td>\n",
       "      <td>Treg</td>\n",
       "      <td>-1.554138</td>\n",
       "      <td>-1.126189</td>\n",
       "      <td>0.067056</td>\n",
       "      <td>-1.275277</td>\n",
       "      <td>-1.274302</td>\n",
       "      <td>-1.661355</td>\n",
       "      <td>-1.579366</td>\n",
       "      <td>-0.442887</td>\n",
       "      <td>0.256902</td>\n",
       "      <td>-0.620646</td>\n",
       "      <td>-1.139950</td>\n",
       "      <td>-1.634987</td>\n",
       "      <td>5.346128</td>\n",
       "    </tr>\n",
       "    <tr>\n",
       "      <th>29_TTTGACTCATGGGATG-1</th>\n",
       "      <td>Plasma</td>\n",
       "      <td>TTTGACTCATGGGATG-1</td>\n",
       "      <td>29</td>\n",
       "      <td>4452.0</td>\n",
       "      <td>1.146241</td>\n",
       "      <td>Plasma</td>\n",
       "      <td>-1.184166</td>\n",
       "      <td>-1.148166</td>\n",
       "      <td>-1.161676</td>\n",
       "      <td>-0.978821</td>\n",
       "      <td>-1.056848</td>\n",
       "      <td>-1.118930</td>\n",
       "      <td>-0.771188</td>\n",
       "      <td>-0.980366</td>\n",
       "      <td>-0.481189</td>\n",
       "      <td>-1.247963</td>\n",
       "      <td>-0.962314</td>\n",
       "      <td>9.834721</td>\n",
       "      <td>-1.319493</td>\n",
       "    </tr>\n",
       "    <tr>\n",
       "      <th>29_TTTGGTTCAGTTTCGA-1</th>\n",
       "      <td>CD8 T cell</td>\n",
       "      <td>TTTGGTTCAGTTTCGA-1</td>\n",
       "      <td>29</td>\n",
       "      <td>3414.0</td>\n",
       "      <td>0.878991</td>\n",
       "      <td>CD8 T cell</td>\n",
       "      <td>-0.817018</td>\n",
       "      <td>-1.149525</td>\n",
       "      <td>1.255636</td>\n",
       "      <td>-1.025783</td>\n",
       "      <td>-0.896883</td>\n",
       "      <td>-0.954583</td>\n",
       "      <td>-1.481391</td>\n",
       "      <td>-0.913094</td>\n",
       "      <td>-0.755771</td>\n",
       "      <td>-0.679273</td>\n",
       "      <td>-1.546723</td>\n",
       "      <td>-0.758668</td>\n",
       "      <td>-1.101037</td>\n",
       "    </tr>\n",
       "  </tbody>\n",
       "</table>\n",
       "<p>5748 rows × 19 columns</p>\n",
       "</div>"
      ],
      "text/plain": [
       "                         cell_type             barcode  sample  n_counts  \\\n",
       "0_AACCAACTCCACTAGA-1   Endothelial  AACCAACTCCACTAGA-1       0    4712.0   \n",
       "0_AACCCAAAGACGAGCT-1            NK  AACCCAAAGACGAGCT-1       0    4732.0   \n",
       "0_AACGTCAGTTTACACG-1   Endothelial  AACGTCAGTTTACACG-1       0    3296.0   \n",
       "0_AACTTCTGTCCAGAAG-1    CD8 T cell  AACTTCTGTCCAGAAG-1       0    3202.0   \n",
       "0_AAGCCATAGTGATTCC-1   Endothelial  AAGCCATAGTGATTCC-1       0    4088.0   \n",
       "...                            ...                 ...     ...       ...   \n",
       "29_TTTATGCCAGCCCAGT-1   Fibroblast  TTTATGCCAGCCCAGT-1      29    4480.0   \n",
       "29_TTTCATGGTCGACTTA-1         Treg  TTTCATGGTCGACTTA-1      29    4580.0   \n",
       "29_TTTCCTCGTTAGCGGA-1         Treg  TTTCCTCGTTAGCGGA-1      29    4526.0   \n",
       "29_TTTGACTCATGGGATG-1       Plasma  TTTGACTCATGGGATG-1      29    4452.0   \n",
       "29_TTTGGTTCAGTTTCGA-1   CD8 T cell  TTTGGTTCAGTTTCGA-1      29    3414.0   \n",
       "\n",
       "                       size_factors predicted_cell_type  probability B cell  \\\n",
       "0_AACCAACTCCACTAGA-1       1.213182         Endothelial           -1.645374   \n",
       "0_AACCCAAAGACGAGCT-1       1.218332                  NK           -0.844792   \n",
       "0_AACGTCAGTTTACACG-1       0.848610         Endothelial           -0.874611   \n",
       "0_AACTTCTGTCCAGAAG-1       0.824408          CD8 T cell           -1.695771   \n",
       "0_AAGCCATAGTGATTCC-1       1.052523         Endothelial           -0.334221   \n",
       "...                             ...                 ...                 ...   \n",
       "29_TTTATGCCAGCCCAGT-1      1.153450          Fibroblast           -1.617480   \n",
       "29_TTTCATGGTCGACTTA-1      1.179197                Treg           -1.489965   \n",
       "29_TTTCCTCGTTAGCGGA-1      1.165293                Treg           -1.554138   \n",
       "29_TTTGACTCATGGGATG-1      1.146241              Plasma           -1.184166   \n",
       "29_TTTGGTTCAGTTTCGA-1      0.878991          CD8 T cell           -0.817018   \n",
       "\n",
       "                       probability CD4 T cell  probability CD8 T cell  \\\n",
       "0_AACCAACTCCACTAGA-1                -0.798354               -1.320047   \n",
       "0_AACCCAAAGACGAGCT-1                -1.667611               -1.252446   \n",
       "0_AACGTCAGTTTACACG-1                -1.563723               -0.647155   \n",
       "0_AACTTCTGTCCAGAAG-1                -0.758672                1.230153   \n",
       "0_AAGCCATAGTGATTCC-1                -1.272656               -0.656085   \n",
       "...                                       ...                     ...   \n",
       "29_TTTATGCCAGCCCAGT-1               -0.865152               -1.466225   \n",
       "29_TTTCATGGTCGACTTA-1               -0.297774               -0.895083   \n",
       "29_TTTCCTCGTTAGCGGA-1               -1.126189                0.067056   \n",
       "29_TTTGACTCATGGGATG-1               -1.148166               -1.161676   \n",
       "29_TTTGGTTCAGTTTCGA-1               -1.149525                1.255636   \n",
       "\n",
       "                       probability Dendritic  probability Endothelial  \\\n",
       "0_AACCAACTCCACTAGA-1               -0.613273                 9.651504   \n",
       "0_AACCCAAAGACGAGCT-1               -0.681986                -0.991126   \n",
       "0_AACGTCAGTTTACACG-1               -1.483668                 7.808266   \n",
       "0_AACTTCTGTCCAGAAG-1               -1.391558                -1.419928   \n",
       "0_AAGCCATAGTGATTCC-1               -1.552842                14.972706   \n",
       "...                                      ...                      ...   \n",
       "29_TTTATGCCAGCCCAGT-1              -0.761909                -1.233621   \n",
       "29_TTTCATGGTCGACTTA-1              -1.135407                -0.943314   \n",
       "29_TTTCCTCGTTAGCGGA-1              -1.275277                -1.274302   \n",
       "29_TTTGACTCATGGGATG-1              -0.978821                -1.056848   \n",
       "29_TTTGGTTCAGTTTCGA-1              -1.025783                -0.896883   \n",
       "\n",
       "                       probability Erythrocyte  probability Fibroblast  \\\n",
       "0_AACCAACTCCACTAGA-1                  0.046297               -3.343092   \n",
       "0_AACCCAAAGACGAGCT-1                 -1.047975               -1.393238   \n",
       "0_AACGTCAGTTTACACG-1                 -0.778172               -0.275812   \n",
       "0_AACTTCTGTCCAGAAG-1                 -0.788930               -0.927254   \n",
       "0_AAGCCATAGTGATTCC-1                 -0.857209               -1.206331   \n",
       "...                                        ...                     ...   \n",
       "29_TTTATGCCAGCCCAGT-1                -0.567406                4.051761   \n",
       "29_TTTCATGGTCGACTTA-1                -0.690525               -1.695587   \n",
       "29_TTTCCTCGTTAGCGGA-1                -1.661355               -1.579366   \n",
       "29_TTTGACTCATGGGATG-1                -1.118930               -0.771188   \n",
       "29_TTTGGTTCAGTTTCGA-1                -0.954583               -1.481391   \n",
       "\n",
       "                       probability Malignant  probability Mast  \\\n",
       "0_AACCAACTCCACTAGA-1               -0.727528         -1.168746   \n",
       "0_AACCCAAAGACGAGCT-1                0.279072         -0.840426   \n",
       "0_AACGTCAGTTTACACG-1               -0.957157         -0.471111   \n",
       "0_AACTTCTGTCCAGAAG-1               -0.453907         -0.026667   \n",
       "0_AAGCCATAGTGATTCC-1               -0.683234         -0.559324   \n",
       "...                                      ...               ...   \n",
       "29_TTTATGCCAGCCCAGT-1               0.728402         -0.353512   \n",
       "29_TTTCATGGTCGACTTA-1              -2.054170         -1.055325   \n",
       "29_TTTCCTCGTTAGCGGA-1              -0.442887          0.256902   \n",
       "29_TTTGACTCATGGGATG-1              -0.980366         -0.481189   \n",
       "29_TTTGGTTCAGTTTCGA-1              -0.913094         -0.755771   \n",
       "\n",
       "                       probability Monocyte  probability NK  \\\n",
       "0_AACCAACTCCACTAGA-1              -0.569176       -1.320954   \n",
       "0_AACCCAAAGACGAGCT-1              -0.061285       10.557428   \n",
       "0_AACGTCAGTTTACACG-1              -0.729114       -1.426803   \n",
       "0_AACTTCTGTCCAGAAG-1              -0.981914       -0.534299   \n",
       "0_AAGCCATAGTGATTCC-1              -1.068178       -0.820980   \n",
       "...                                     ...             ...   \n",
       "29_TTTATGCCAGCCCAGT-1             -1.202108       -0.631813   \n",
       "29_TTTCATGGTCGACTTA-1             -0.272783       -1.668621   \n",
       "29_TTTCCTCGTTAGCGGA-1             -0.620646       -1.139950   \n",
       "29_TTTGACTCATGGGATG-1             -1.247963       -0.962314   \n",
       "29_TTTGGTTCAGTTTCGA-1             -0.679273       -1.546723   \n",
       "\n",
       "                       probability Plasma  probability Treg  \n",
       "0_AACCAACTCCACTAGA-1            -0.929309         -1.167010  \n",
       "0_AACCCAAAGACGAGCT-1            -1.192751         -1.279777  \n",
       "0_AACGTCAGTTTACACG-1            -0.044268         -0.892382  \n",
       "0_AACTTCTGTCCAGAAG-1            -1.087195         -2.054266  \n",
       "0_AAGCCATAGTGATTCC-1            -1.125220         -1.229909  \n",
       "...                                   ...               ...  \n",
       "29_TTTATGCCAGCCCAGT-1           -1.264545         -0.332282  \n",
       "29_TTTCATGGTCGACTTA-1           -0.500289          6.091204  \n",
       "29_TTTCCTCGTTAGCGGA-1           -1.634987          5.346128  \n",
       "29_TTTGACTCATGGGATG-1            9.834721         -1.319493  \n",
       "29_TTTGGTTCAGTTTCGA-1           -0.758668         -1.101037  \n",
       "\n",
       "[5748 rows x 19 columns]"
      ]
     },
     "execution_count": 68,
     "metadata": {},
     "output_type": "execute_result"
    }
   ],
   "source": [
    "b = sc.read_h5ad('/data/pollock/benchmarking/results/svm_linear/scRNAseq_brca.h5ad')\n",
    "b.obs"
   ]
  },
  {
   "cell_type": "markdown",
   "id": "030f26f3",
   "metadata": {},
   "source": [
    "For SVMrejection, a threshold of 0.7 was used on the posterior probabilities to assign cells as “unlabeled.” During the rejection experiments"
   ]
  },
  {
   "cell_type": "code",
   "execution_count": null,
   "id": "4e7ff66f",
   "metadata": {},
   "outputs": [],
   "source": []
  },
  {
   "cell_type": "code",
   "execution_count": null,
   "id": "92539ccc",
   "metadata": {},
   "outputs": [],
   "source": []
  },
  {
   "cell_type": "code",
   "execution_count": null,
   "id": "8526b886",
   "metadata": {},
   "outputs": [],
   "source": []
  },
  {
   "cell_type": "code",
   "execution_count": null,
   "id": "c0ba0591",
   "metadata": {},
   "outputs": [],
   "source": []
  },
  {
   "cell_type": "code",
   "execution_count": null,
   "id": "4dca3316",
   "metadata": {},
   "outputs": [],
   "source": []
  },
  {
   "cell_type": "code",
   "execution_count": null,
   "id": "7e93af96",
   "metadata": {},
   "outputs": [],
   "source": []
  },
  {
   "cell_type": "code",
   "execution_count": null,
   "id": "349640f6",
   "metadata": {},
   "outputs": [],
   "source": []
  },
  {
   "cell_type": "code",
   "execution_count": null,
   "id": "5be70090",
   "metadata": {},
   "outputs": [],
   "source": []
  },
  {
   "cell_type": "code",
   "execution_count": null,
   "id": "1b08109b",
   "metadata": {},
   "outputs": [],
   "source": []
  },
  {
   "cell_type": "code",
   "execution_count": null,
   "id": "61d8e077",
   "metadata": {},
   "outputs": [],
   "source": []
  },
  {
   "cell_type": "code",
   "execution_count": null,
   "id": "49e8a47f",
   "metadata": {},
   "outputs": [],
   "source": []
  },
  {
   "cell_type": "code",
   "execution_count": null,
   "id": "ee6836ff",
   "metadata": {},
   "outputs": [],
   "source": []
  },
  {
   "cell_type": "code",
   "execution_count": null,
   "id": "eb08ee8b",
   "metadata": {},
   "outputs": [],
   "source": []
  },
  {
   "cell_type": "code",
   "execution_count": null,
   "id": "f691c1c2",
   "metadata": {},
   "outputs": [],
   "source": []
  },
  {
   "cell_type": "code",
   "execution_count": null,
   "id": "bec3823d",
   "metadata": {},
   "outputs": [],
   "source": []
  },
  {
   "cell_type": "code",
   "execution_count": null,
   "id": "fdc98547",
   "metadata": {},
   "outputs": [],
   "source": []
  },
  {
   "cell_type": "code",
   "execution_count": 54,
   "id": "904015ee",
   "metadata": {},
   "outputs": [],
   "source": [
    "classes = sorted(set(a.obs['cell_type']))\n",
    "y_pred = [classes.index(l) for l in a.obs['predicted_cell_type']]\n",
    "y_score = a.obs[[c for c in a.obs.columns if 'probability ' in c]].values\n",
    "y_true = [classes.index(l) for l in a.obs['cell_type']]\n",
    "\n",
    "y_pred = label_binarize(y_pred, classes=np.arange(len(classes)))\n",
    "y_true = label_binarize(y_pred, classes=np.arange(len(classes)))"
   ]
  },
  {
   "cell_type": "code",
   "execution_count": 56,
   "id": "ec202f02",
   "metadata": {},
   "outputs": [],
   "source": [
    "# Compute ROC curve and ROC area for each class\n",
    "fpr = dict()\n",
    "tpr = dict()\n",
    "roc_auc = dict()\n",
    "for i in range(len(classes)):\n",
    "    fpr[i], tpr[i], _ = roc_curve(y_true[:, i], y_score[:, i])\n",
    "    roc_auc[i] = auc(fpr[i], tpr[i])\n",
    "\n",
    "# Compute micro-average ROC curve and ROC area\n",
    "fpr[\"micro\"], tpr[\"micro\"], _ = roc_curve(y_true.ravel(), y_score.ravel())\n",
    "roc_auc[\"micro\"] = auc(fpr[\"micro\"], tpr[\"micro\"])"
   ]
  },
  {
   "cell_type": "code",
   "execution_count": 58,
   "id": "e3af2cbe",
   "metadata": {},
   "outputs": [
    {
     "data": {
      "image/png": "[encoded data removed]",
      "text/plain": [
       "<Figure size 432x288 with 1 Axes>"
      ]
     },
     "metadata": {
      "needs_background": "light"
     },
     "output_type": "display_data"
    }
   ],
   "source": [
    "import matplotlib.pyplot as plt\n",
    "plt.figure()\n",
    "lw = 2\n",
    "plt.plot(\n",
    "    fpr[2],\n",
    "    tpr[2],\n",
    "    color=\"darkorange\",\n",
    "    lw=lw,\n",
    "    label=\"ROC curve (area = %0.2f)\" % roc_auc[2],\n",
    ")\n",
    "plt.plot([0, 1], [0, 1], color=\"navy\", lw=lw, linestyle=\"--\")\n",
    "plt.xlim([0.0, 1.0])\n",
    "plt.ylim([0.0, 1.05])\n",
    "plt.xlabel(\"False Positive Rate\")\n",
    "plt.ylabel(\"True Positive Rate\")\n",
    "plt.title(\"Receiver operating characteristic example\")\n",
    "plt.legend(loc=\"lower right\")\n",
    "plt.show()"
   ]
  },
  {
   "cell_type": "code",
   "execution_count": 60,
   "id": "1d7af004",
   "metadata": {},
   "outputs": [
    {
     "data": {
      "image/png": "[encoded data removed]",
      "text/plain": [
       "<Figure size 432x288 with 1 Axes>"
      ]
     },
     "metadata": {
      "needs_background": "light"
     },
     "output_type": "display_data"
    }
   ],
   "source": [
    "from itertools import cycle\n",
    "\n",
    "n_classes = len(classes)\n",
    "# First aggregate all false positive rates\n",
    "all_fpr = np.unique(np.concatenate([fpr[i] for i in range(n_classes)]))\n",
    "\n",
    "# Then interpolate all ROC curves at this points\n",
    "mean_tpr = np.zeros_like(all_fpr)\n",
    "for i in range(n_classes):\n",
    "    mean_tpr += np.interp(all_fpr, fpr[i], tpr[i])\n",
    "\n",
    "# Finally average it and compute AUC\n",
    "mean_tpr /= n_classes\n",
    "\n",
    "fpr[\"macro\"] = all_fpr\n",
    "tpr[\"macro\"] = mean_tpr\n",
    "roc_auc[\"macro\"] = auc(fpr[\"macro\"], tpr[\"macro\"])\n",
    "\n",
    "# Plot all ROC curves\n",
    "plt.figure()\n",
    "plt.plot(\n",
    "    fpr[\"micro\"],\n",
    "    tpr[\"micro\"],\n",
    "    label=\"micro-average ROC curve (area = {0:0.2f})\".format(roc_auc[\"micro\"]),\n",
    "    color=\"deeppink\",\n",
    "    linestyle=\":\",\n",
    "    linewidth=4,\n",
    ")\n",
    "\n",
    "plt.plot(\n",
    "    fpr[\"macro\"],\n",
    "    tpr[\"macro\"],\n",
    "    label=\"macro-average ROC curve (area = {0:0.2f})\".format(roc_auc[\"macro\"]),\n",
    "    color=\"navy\",\n",
    "    linestyle=\":\",\n",
    "    linewidth=4,\n",
    ")\n",
    "\n",
    "colors = cycle([\"aqua\", \"darkorange\", \"cornflowerblue\"])\n",
    "for i, color in zip(range(n_classes), colors):\n",
    "    plt.plot(\n",
    "        fpr[i],\n",
    "        tpr[i],\n",
    "        color=color,\n",
    "        lw=lw,\n",
    "        label=\"ROC curve of class {0} (area = {1:0.2f})\".format(i, roc_auc[i]),\n",
    "    )\n",
    "\n",
    "plt.plot([0, 1], [0, 1], \"k--\", lw=lw)\n",
    "plt.xlim([0.0, 1.0])\n",
    "plt.ylim([0.0, 1.05])\n",
    "plt.xlabel(\"False Positive Rate\")\n",
    "plt.ylabel(\"True Positive Rate\")\n",
    "plt.title(\"Some extension of Receiver operating characteristic to multiclass\")\n",
    "plt.legend(loc=\"lower right\")\n",
    "plt.show()"
   ]
  },
  {
   "cell_type": "code",
   "execution_count": null,
   "id": "c62c518a",
   "metadata": {},
   "outputs": [],
   "source": []
  },
  {
   "cell_type": "code",
   "execution_count": 64,
   "id": "b54e096d",
   "metadata": {},
   "outputs": [
    {
     "name": "stdout",
     "output_type": "stream",
     "text": [
      "One-vs-One ROC AUC scores:\n",
      "0.999913 (macro),\n",
      "0.999904 (weighted by prevalence)\n",
      "One-vs-Rest ROC AUC scores:\n",
      "0.992141 (macro),\n",
      "0.999904 (weighted by prevalence)\n"
     ]
    }
   ],
   "source": [
    "macro_roc_auc_ovo = roc_auc_score(y_true, y_score, multi_class=\"ovo\", average=\"macro\")\n",
    "weighted_roc_auc_ovo = roc_auc_score(\n",
    "    y_true, y_score, multi_class=\"ovo\", average=\"weighted\"\n",
    ")\n",
    "macro_roc_auc_ovr = roc_auc_score(y_test, y_score, multi_class=\"ovr\", average=\"macro\")\n",
    "weighted_roc_auc_ovr = roc_auc_score(\n",
    "    y_true, y_score, multi_class=\"ovr\", average=\"weighted\"\n",
    ")\n",
    "print(\n",
    "    \"One-vs-One ROC AUC scores:\\n{:.6f} (macro),\\n{:.6f} \"\n",
    "    \"(weighted by prevalence)\".format(macro_roc_auc_ovo, weighted_roc_auc_ovo)\n",
    ")\n",
    "print(\n",
    "    \"One-vs-Rest ROC AUC scores:\\n{:.6f} (macro),\\n{:.6f} \"\n",
    "    \"(weighted by prevalence)\".format(macro_roc_auc_ovr, weighted_roc_auc_ovr)\n",
    ")"
   ]
  },
  {
   "cell_type": "code",
   "execution_count": null,
   "id": "43ea82fa",
   "metadata": {},
   "outputs": [],
   "source": []
  },
  {
   "cell_type": "code",
   "execution_count": null,
   "id": "824d7f4f",
   "metadata": {},
   "outputs": [],
   "source": []
  },
  {
   "cell_type": "code",
   "execution_count": 69,
   "id": "dcbc59ee",
   "metadata": {},
   "outputs": [
    {
     "data": {
      "text/html": [
       "<div>\n",
       "<style scoped>\n",
       "    .dataframe tbody tr th:only-of-type {\n",
       "        vertical-align: middle;\n",
       "    }\n",
       "\n",
       "    .dataframe tbody tr th {\n",
       "        vertical-align: top;\n",
       "    }\n",
       "\n",
       "    .dataframe thead th {\n",
       "        text-align: right;\n",
       "    }\n",
       "</style>\n",
       "<table border=\"1\" class=\"dataframe\">\n",
       "  <thead>\n",
       "    <tr style=\"text-align: right;\">\n",
       "      <th></th>\n",
       "      <th>cell_type</th>\n",
       "      <th>barcode</th>\n",
       "      <th>sample</th>\n",
       "      <th>n_counts</th>\n",
       "      <th>size_factors</th>\n",
       "      <th>predicted_cell_type</th>\n",
       "      <th>probability B cell</th>\n",
       "      <th>probability CD4 T cell</th>\n",
       "      <th>probability CD8 T cell</th>\n",
       "      <th>probability Dendritic</th>\n",
       "      <th>probability Endothelial</th>\n",
       "      <th>probability Erythrocyte</th>\n",
       "      <th>probability Fibroblast</th>\n",
       "      <th>probability Malignant</th>\n",
       "      <th>probability Mast</th>\n",
       "      <th>probability Monocyte</th>\n",
       "      <th>probability NK</th>\n",
       "      <th>probability Plasma</th>\n",
       "      <th>probability Treg</th>\n",
       "    </tr>\n",
       "  </thead>\n",
       "  <tbody>\n",
       "    <tr>\n",
       "      <th>0_AACCAACTCCACTAGA-1</th>\n",
       "      <td>Endothelial</td>\n",
       "      <td>AACCAACTCCACTAGA-1</td>\n",
       "      <td>0</td>\n",
       "      <td>4712.0</td>\n",
       "      <td>1.213182</td>\n",
       "      <td>Endothelial</td>\n",
       "      <td>-1.645374</td>\n",
       "      <td>-0.798354</td>\n",
       "      <td>-1.320047</td>\n",
       "      <td>-0.613273</td>\n",
       "      <td>9.651504</td>\n",
       "      <td>0.046297</td>\n",
       "      <td>-3.343092</td>\n",
       "      <td>-0.727528</td>\n",
       "      <td>-1.168746</td>\n",
       "      <td>-0.569176</td>\n",
       "      <td>-1.320954</td>\n",
       "      <td>-0.929309</td>\n",
       "      <td>-1.167010</td>\n",
       "    </tr>\n",
       "    <tr>\n",
       "      <th>0_AACCCAAAGACGAGCT-1</th>\n",
       "      <td>NK</td>\n",
       "      <td>AACCCAAAGACGAGCT-1</td>\n",
       "      <td>0</td>\n",
       "      <td>4732.0</td>\n",
       "      <td>1.218332</td>\n",
       "      <td>NK</td>\n",
       "      <td>-0.844792</td>\n",
       "      <td>-1.667611</td>\n",
       "      <td>-1.252446</td>\n",
       "      <td>-0.681986</td>\n",
       "      <td>-0.991126</td>\n",
       "      <td>-1.047975</td>\n",
       "      <td>-1.393238</td>\n",
       "      <td>0.279072</td>\n",
       "      <td>-0.840426</td>\n",
       "      <td>-0.061285</td>\n",
       "      <td>10.557428</td>\n",
       "      <td>-1.192751</td>\n",
       "      <td>-1.279777</td>\n",
       "    </tr>\n",
       "    <tr>\n",
       "      <th>0_AACGTCAGTTTACACG-1</th>\n",
       "      <td>Endothelial</td>\n",
       "      <td>AACGTCAGTTTACACG-1</td>\n",
       "      <td>0</td>\n",
       "      <td>3296.0</td>\n",
       "      <td>0.848610</td>\n",
       "      <td>Endothelial</td>\n",
       "      <td>-0.874611</td>\n",
       "      <td>-1.563723</td>\n",
       "      <td>-0.647155</td>\n",
       "      <td>-1.483668</td>\n",
       "      <td>7.808266</td>\n",
       "      <td>-0.778172</td>\n",
       "      <td>-0.275812</td>\n",
       "      <td>-0.957157</td>\n",
       "      <td>-0.471111</td>\n",
       "      <td>-0.729114</td>\n",
       "      <td>-1.426803</td>\n",
       "      <td>-0.044268</td>\n",
       "      <td>-0.892382</td>\n",
       "    </tr>\n",
       "    <tr>\n",
       "      <th>0_AACTTCTGTCCAGAAG-1</th>\n",
       "      <td>CD8 T cell</td>\n",
       "      <td>AACTTCTGTCCAGAAG-1</td>\n",
       "      <td>0</td>\n",
       "      <td>3202.0</td>\n",
       "      <td>0.824408</td>\n",
       "      <td>CD8 T cell</td>\n",
       "      <td>-1.695771</td>\n",
       "      <td>-0.758672</td>\n",
       "      <td>1.230153</td>\n",
       "      <td>-1.391558</td>\n",
       "      <td>-1.419928</td>\n",
       "      <td>-0.788930</td>\n",
       "      <td>-0.927254</td>\n",
       "      <td>-0.453907</td>\n",
       "      <td>-0.026667</td>\n",
       "      <td>-0.981914</td>\n",
       "      <td>-0.534299</td>\n",
       "      <td>-1.087195</td>\n",
       "      <td>-2.054266</td>\n",
       "    </tr>\n",
       "    <tr>\n",
       "      <th>0_AAGCCATAGTGATTCC-1</th>\n",
       "      <td>Endothelial</td>\n",
       "      <td>AAGCCATAGTGATTCC-1</td>\n",
       "      <td>0</td>\n",
       "      <td>4088.0</td>\n",
       "      <td>1.052523</td>\n",
       "      <td>Endothelial</td>\n",
       "      <td>-0.334221</td>\n",
       "      <td>-1.272656</td>\n",
       "      <td>-0.656085</td>\n",
       "      <td>-1.552842</td>\n",
       "      <td>14.972706</td>\n",
       "      <td>-0.857209</td>\n",
       "      <td>-1.206331</td>\n",
       "      <td>-0.683234</td>\n",
       "      <td>-0.559324</td>\n",
       "      <td>-1.068178</td>\n",
       "      <td>-0.820980</td>\n",
       "      <td>-1.125220</td>\n",
       "      <td>-1.229909</td>\n",
       "    </tr>\n",
       "    <tr>\n",
       "      <th>...</th>\n",
       "      <td>...</td>\n",
       "      <td>...</td>\n",
       "      <td>...</td>\n",
       "      <td>...</td>\n",
       "      <td>...</td>\n",
       "      <td>...</td>\n",
       "      <td>...</td>\n",
       "      <td>...</td>\n",
       "      <td>...</td>\n",
       "      <td>...</td>\n",
       "      <td>...</td>\n",
       "      <td>...</td>\n",
       "      <td>...</td>\n",
       "      <td>...</td>\n",
       "      <td>...</td>\n",
       "      <td>...</td>\n",
       "      <td>...</td>\n",
       "      <td>...</td>\n",
       "      <td>...</td>\n",
       "    </tr>\n",
       "    <tr>\n",
       "      <th>29_TTTATGCCAGCCCAGT-1</th>\n",
       "      <td>Fibroblast</td>\n",
       "      <td>TTTATGCCAGCCCAGT-1</td>\n",
       "      <td>29</td>\n",
       "      <td>4480.0</td>\n",
       "      <td>1.153450</td>\n",
       "      <td>Fibroblast</td>\n",
       "      <td>-1.617480</td>\n",
       "      <td>-0.865152</td>\n",
       "      <td>-1.466225</td>\n",
       "      <td>-0.761909</td>\n",
       "      <td>-1.233621</td>\n",
       "      <td>-0.567406</td>\n",
       "      <td>4.051761</td>\n",
       "      <td>0.728402</td>\n",
       "      <td>-0.353512</td>\n",
       "      <td>-1.202108</td>\n",
       "      <td>-0.631813</td>\n",
       "      <td>-1.264545</td>\n",
       "      <td>-0.332282</td>\n",
       "    </tr>\n",
       "    <tr>\n",
       "      <th>29_TTTCATGGTCGACTTA-1</th>\n",
       "      <td>Treg</td>\n",
       "      <td>TTTCATGGTCGACTTA-1</td>\n",
       "      <td>29</td>\n",
       "      <td>4580.0</td>\n",
       "      <td>1.179197</td>\n",
       "      <td>Treg</td>\n",
       "      <td>-1.489965</td>\n",
       "      <td>-0.297774</td>\n",
       "      <td>-0.895083</td>\n",
       "      <td>-1.135407</td>\n",
       "      <td>-0.943314</td>\n",
       "      <td>-0.690525</td>\n",
       "      <td>-1.695587</td>\n",
       "      <td>-2.054170</td>\n",
       "      <td>-1.055325</td>\n",
       "      <td>-0.272783</td>\n",
       "      <td>-1.668621</td>\n",
       "      <td>-0.500289</td>\n",
       "      <td>6.091204</td>\n",
       "    </tr>\n",
       "    <tr>\n",
       "      <th>29_TTTCCTCGTTAGCGGA-1</th>\n",
       "      <td>Treg</td>\n",
       "      <td>TTTCCTCGTTAGCGGA-1</td>\n",
       "      <td>29</td>\n",
       "      <td>4526.0</td>\n",
       "      <td>1.165293</td>\n",
       "      <td>Treg</td>\n",
       "      <td>-1.554138</td>\n",
       "      <td>-1.126189</td>\n",
       "      <td>0.067056</td>\n",
       "      <td>-1.275277</td>\n",
       "      <td>-1.274302</td>\n",
       "      <td>-1.661355</td>\n",
       "      <td>-1.579366</td>\n",
       "      <td>-0.442887</td>\n",
       "      <td>0.256902</td>\n",
       "      <td>-0.620646</td>\n",
       "      <td>-1.139950</td>\n",
       "      <td>-1.634987</td>\n",
       "      <td>5.346128</td>\n",
       "    </tr>\n",
       "    <tr>\n",
       "      <th>29_TTTGACTCATGGGATG-1</th>\n",
       "      <td>Plasma</td>\n",
       "      <td>TTTGACTCATGGGATG-1</td>\n",
       "      <td>29</td>\n",
       "      <td>4452.0</td>\n",
       "      <td>1.146241</td>\n",
       "      <td>Plasma</td>\n",
       "      <td>-1.184166</td>\n",
       "      <td>-1.148166</td>\n",
       "      <td>-1.161676</td>\n",
       "      <td>-0.978821</td>\n",
       "      <td>-1.056848</td>\n",
       "      <td>-1.118930</td>\n",
       "      <td>-0.771188</td>\n",
       "      <td>-0.980366</td>\n",
       "      <td>-0.481189</td>\n",
       "      <td>-1.247963</td>\n",
       "      <td>-0.962314</td>\n",
       "      <td>9.834721</td>\n",
       "      <td>-1.319493</td>\n",
       "    </tr>\n",
       "    <tr>\n",
       "      <th>29_TTTGGTTCAGTTTCGA-1</th>\n",
       "      <td>CD8 T cell</td>\n",
       "      <td>TTTGGTTCAGTTTCGA-1</td>\n",
       "      <td>29</td>\n",
       "      <td>3414.0</td>\n",
       "      <td>0.878991</td>\n",
       "      <td>CD8 T cell</td>\n",
       "      <td>-0.817018</td>\n",
       "      <td>-1.149525</td>\n",
       "      <td>1.255636</td>\n",
       "      <td>-1.025783</td>\n",
       "      <td>-0.896883</td>\n",
       "      <td>-0.954583</td>\n",
       "      <td>-1.481391</td>\n",
       "      <td>-0.913094</td>\n",
       "      <td>-0.755771</td>\n",
       "      <td>-0.679273</td>\n",
       "      <td>-1.546723</td>\n",
       "      <td>-0.758668</td>\n",
       "      <td>-1.101037</td>\n",
       "    </tr>\n",
       "  </tbody>\n",
       "</table>\n",
       "<p>5748 rows × 19 columns</p>\n",
       "</div>"
      ],
      "text/plain": [
       "                         cell_type             barcode  sample  n_counts  \\\n",
       "0_AACCAACTCCACTAGA-1   Endothelial  AACCAACTCCACTAGA-1       0    4712.0   \n",
       "0_AACCCAAAGACGAGCT-1            NK  AACCCAAAGACGAGCT-1       0    4732.0   \n",
       "0_AACGTCAGTTTACACG-1   Endothelial  AACGTCAGTTTACACG-1       0    3296.0   \n",
       "0_AACTTCTGTCCAGAAG-1    CD8 T cell  AACTTCTGTCCAGAAG-1       0    3202.0   \n",
       "0_AAGCCATAGTGATTCC-1   Endothelial  AAGCCATAGTGATTCC-1       0    4088.0   \n",
       "...                            ...                 ...     ...       ...   \n",
       "29_TTTATGCCAGCCCAGT-1   Fibroblast  TTTATGCCAGCCCAGT-1      29    4480.0   \n",
       "29_TTTCATGGTCGACTTA-1         Treg  TTTCATGGTCGACTTA-1      29    4580.0   \n",
       "29_TTTCCTCGTTAGCGGA-1         Treg  TTTCCTCGTTAGCGGA-1      29    4526.0   \n",
       "29_TTTGACTCATGGGATG-1       Plasma  TTTGACTCATGGGATG-1      29    4452.0   \n",
       "29_TTTGGTTCAGTTTCGA-1   CD8 T cell  TTTGGTTCAGTTTCGA-1      29    3414.0   \n",
       "\n",
       "                       size_factors predicted_cell_type  probability B cell  \\\n",
       "0_AACCAACTCCACTAGA-1       1.213182         Endothelial           -1.645374   \n",
       "0_AACCCAAAGACGAGCT-1       1.218332                  NK           -0.844792   \n",
       "0_AACGTCAGTTTACACG-1       0.848610         Endothelial           -0.874611   \n",
       "0_AACTTCTGTCCAGAAG-1       0.824408          CD8 T cell           -1.695771   \n",
       "0_AAGCCATAGTGATTCC-1       1.052523         Endothelial           -0.334221   \n",
       "...                             ...                 ...                 ...   \n",
       "29_TTTATGCCAGCCCAGT-1      1.153450          Fibroblast           -1.617480   \n",
       "29_TTTCATGGTCGACTTA-1      1.179197                Treg           -1.489965   \n",
       "29_TTTCCTCGTTAGCGGA-1      1.165293                Treg           -1.554138   \n",
       "29_TTTGACTCATGGGATG-1      1.146241              Plasma           -1.184166   \n",
       "29_TTTGGTTCAGTTTCGA-1      0.878991          CD8 T cell           -0.817018   \n",
       "\n",
       "                       probability CD4 T cell  probability CD8 T cell  \\\n",
       "0_AACCAACTCCACTAGA-1                -0.798354               -1.320047   \n",
       "0_AACCCAAAGACGAGCT-1                -1.667611               -1.252446   \n",
       "0_AACGTCAGTTTACACG-1                -1.563723               -0.647155   \n",
       "0_AACTTCTGTCCAGAAG-1                -0.758672                1.230153   \n",
       "0_AAGCCATAGTGATTCC-1                -1.272656               -0.656085   \n",
       "...                                       ...                     ...   \n",
       "29_TTTATGCCAGCCCAGT-1               -0.865152               -1.466225   \n",
       "29_TTTCATGGTCGACTTA-1               -0.297774               -0.895083   \n",
       "29_TTTCCTCGTTAGCGGA-1               -1.126189                0.067056   \n",
       "29_TTTGACTCATGGGATG-1               -1.148166               -1.161676   \n",
       "29_TTTGGTTCAGTTTCGA-1               -1.149525                1.255636   \n",
       "\n",
       "                       probability Dendritic  probability Endothelial  \\\n",
       "0_AACCAACTCCACTAGA-1               -0.613273                 9.651504   \n",
       "0_AACCCAAAGACGAGCT-1               -0.681986                -0.991126   \n",
       "0_AACGTCAGTTTACACG-1               -1.483668                 7.808266   \n",
       "0_AACTTCTGTCCAGAAG-1               -1.391558                -1.419928   \n",
       "0_AAGCCATAGTGATTCC-1               -1.552842                14.972706   \n",
       "...                                      ...                      ...   \n",
       "29_TTTATGCCAGCCCAGT-1              -0.761909                -1.233621   \n",
       "29_TTTCATGGTCGACTTA-1              -1.135407                -0.943314   \n",
       "29_TTTCCTCGTTAGCGGA-1              -1.275277                -1.274302   \n",
       "29_TTTGACTCATGGGATG-1              -0.978821                -1.056848   \n",
       "29_TTTGGTTCAGTTTCGA-1              -1.025783                -0.896883   \n",
       "\n",
       "                       probability Erythrocyte  probability Fibroblast  \\\n",
       "0_AACCAACTCCACTAGA-1                  0.046297               -3.343092   \n",
       "0_AACCCAAAGACGAGCT-1                 -1.047975               -1.393238   \n",
       "0_AACGTCAGTTTACACG-1                 -0.778172               -0.275812   \n",
       "0_AACTTCTGTCCAGAAG-1                 -0.788930               -0.927254   \n",
       "0_AAGCCATAGTGATTCC-1                 -0.857209               -1.206331   \n",
       "...                                        ...                     ...   \n",
       "29_TTTATGCCAGCCCAGT-1                -0.567406                4.051761   \n",
       "29_TTTCATGGTCGACTTA-1                -0.690525               -1.695587   \n",
       "29_TTTCCTCGTTAGCGGA-1                -1.661355               -1.579366   \n",
       "29_TTTGACTCATGGGATG-1                -1.118930               -0.771188   \n",
       "29_TTTGGTTCAGTTTCGA-1                -0.954583               -1.481391   \n",
       "\n",
       "                       probability Malignant  probability Mast  \\\n",
       "0_AACCAACTCCACTAGA-1               -0.727528         -1.168746   \n",
       "0_AACCCAAAGACGAGCT-1                0.279072         -0.840426   \n",
       "0_AACGTCAGTTTACACG-1               -0.957157         -0.471111   \n",
       "0_AACTTCTGTCCAGAAG-1               -0.453907         -0.026667   \n",
       "0_AAGCCATAGTGATTCC-1               -0.683234         -0.559324   \n",
       "...                                      ...               ...   \n",
       "29_TTTATGCCAGCCCAGT-1               0.728402         -0.353512   \n",
       "29_TTTCATGGTCGACTTA-1              -2.054170         -1.055325   \n",
       "29_TTTCCTCGTTAGCGGA-1              -0.442887          0.256902   \n",
       "29_TTTGACTCATGGGATG-1              -0.980366         -0.481189   \n",
       "29_TTTGGTTCAGTTTCGA-1              -0.913094         -0.755771   \n",
       "\n",
       "                       probability Monocyte  probability NK  \\\n",
       "0_AACCAACTCCACTAGA-1              -0.569176       -1.320954   \n",
       "0_AACCCAAAGACGAGCT-1              -0.061285       10.557428   \n",
       "0_AACGTCAGTTTACACG-1              -0.729114       -1.426803   \n",
       "0_AACTTCTGTCCAGAAG-1              -0.981914       -0.534299   \n",
       "0_AAGCCATAGTGATTCC-1              -1.068178       -0.820980   \n",
       "...                                     ...             ...   \n",
       "29_TTTATGCCAGCCCAGT-1             -1.202108       -0.631813   \n",
       "29_TTTCATGGTCGACTTA-1             -0.272783       -1.668621   \n",
       "29_TTTCCTCGTTAGCGGA-1             -0.620646       -1.139950   \n",
       "29_TTTGACTCATGGGATG-1             -1.247963       -0.962314   \n",
       "29_TTTGGTTCAGTTTCGA-1             -0.679273       -1.546723   \n",
       "\n",
       "                       probability Plasma  probability Treg  \n",
       "0_AACCAACTCCACTAGA-1            -0.929309         -1.167010  \n",
       "0_AACCCAAAGACGAGCT-1            -1.192751         -1.279777  \n",
       "0_AACGTCAGTTTACACG-1            -0.044268         -0.892382  \n",
       "0_AACTTCTGTCCAGAAG-1            -1.087195         -2.054266  \n",
       "0_AAGCCATAGTGATTCC-1            -1.125220         -1.229909  \n",
       "...                                   ...               ...  \n",
       "29_TTTATGCCAGCCCAGT-1           -1.264545         -0.332282  \n",
       "29_TTTCATGGTCGACTTA-1           -0.500289          6.091204  \n",
       "29_TTTCCTCGTTAGCGGA-1           -1.634987          5.346128  \n",
       "29_TTTGACTCATGGGATG-1            9.834721         -1.319493  \n",
       "29_TTTGGTTCAGTTTCGA-1           -0.758668         -1.101037  \n",
       "\n",
       "[5748 rows x 19 columns]"
      ]
     },
     "execution_count": 69,
     "metadata": {},
     "output_type": "execute_result"
    }
   ],
   "source": [
    "a = sc.read_h5ad('/data/pollock/benchmarking/results/svm_linear/scRNAseq_brca.h5ad')\n",
    "a.obs"
   ]
  },
  {
   "cell_type": "code",
   "execution_count": 70,
   "id": "c51f666a",
   "metadata": {},
   "outputs": [],
   "source": [
    "classes = sorted(set(a.obs['cell_type']))\n",
    "y_pred = [classes.index(l) for l in a.obs['predicted_cell_type']]\n",
    "y_score = a.obs[[c for c in a.obs.columns if 'probability ' in c]].values\n",
    "y_true = [classes.index(l) for l in a.obs['cell_type']]\n",
    "\n",
    "y_pred = label_binarize(y_pred, classes=np.arange(len(classes)))\n",
    "y_true = label_binarize(y_pred, classes=np.arange(len(classes)))"
   ]
  },
  {
   "cell_type": "code",
   "execution_count": 71,
   "id": "a9097894",
   "metadata": {},
   "outputs": [
    {
     "ename": "ValueError",
     "evalue": "Target scores need to be probabilities for multiclass roc_auc, i.e. they should sum up to 1.0 over classes",
     "output_type": "error",
     "traceback": [
      "\u001b[0;31m---------------------------------------------------------------------------\u001b[0m",
      "\u001b[0;31mValueError\u001b[0m                                Traceback (most recent call last)",
      "\u001b[0;32m/tmp/ipykernel_11826/3346692495.py\u001b[0m in \u001b[0;36m<module>\u001b[0;34m\u001b[0m\n\u001b[1;32m      3\u001b[0m     \u001b[0my_true\u001b[0m\u001b[0;34m,\u001b[0m \u001b[0my_score\u001b[0m\u001b[0;34m,\u001b[0m \u001b[0mmulti_class\u001b[0m\u001b[0;34m=\u001b[0m\u001b[0;34m\"ovo\"\u001b[0m\u001b[0;34m,\u001b[0m \u001b[0maverage\u001b[0m\u001b[0;34m=\u001b[0m\u001b[0;34m\"weighted\"\u001b[0m\u001b[0;34m\u001b[0m\u001b[0;34m\u001b[0m\u001b[0m\n\u001b[1;32m      4\u001b[0m )\n\u001b[0;32m----> 5\u001b[0;31m \u001b[0mmacro_roc_auc_ovr\u001b[0m \u001b[0;34m=\u001b[0m \u001b[0mroc_auc_score\u001b[0m\u001b[0;34m(\u001b[0m\u001b[0my_test\u001b[0m\u001b[0;34m,\u001b[0m \u001b[0my_score\u001b[0m\u001b[0;34m,\u001b[0m \u001b[0mmulti_class\u001b[0m\u001b[0;34m=\u001b[0m\u001b[0;34m\"ovr\"\u001b[0m\u001b[0;34m,\u001b[0m \u001b[0maverage\u001b[0m\u001b[0;34m=\u001b[0m\u001b[0;34m\"macro\"\u001b[0m\u001b[0;34m)\u001b[0m\u001b[0;34m\u001b[0m\u001b[0;34m\u001b[0m\u001b[0m\n\u001b[0m\u001b[1;32m      6\u001b[0m weighted_roc_auc_ovr = roc_auc_score(\n\u001b[1;32m      7\u001b[0m     \u001b[0my_true\u001b[0m\u001b[0;34m,\u001b[0m \u001b[0my_score\u001b[0m\u001b[0;34m,\u001b[0m \u001b[0mmulti_class\u001b[0m\u001b[0;34m=\u001b[0m\u001b[0;34m\"ovr\"\u001b[0m\u001b[0;34m,\u001b[0m \u001b[0maverage\u001b[0m\u001b[0;34m=\u001b[0m\u001b[0;34m\"weighted\"\u001b[0m\u001b[0;34m\u001b[0m\u001b[0;34m\u001b[0m\u001b[0m\n",
      "\u001b[0;32m/data/estorrs/miniconda3/envs/pollock_new/lib/python3.8/site-packages/sklearn/metrics/_ranking.py\u001b[0m in \u001b[0;36mroc_auc_score\u001b[0;34m(y_true, y_score, average, sample_weight, max_fpr, multi_class, labels)\u001b[0m\n\u001b[1;32m    559\u001b[0m         \u001b[0;32mif\u001b[0m \u001b[0mmulti_class\u001b[0m \u001b[0;34m==\u001b[0m \u001b[0;34m\"raise\"\u001b[0m\u001b[0;34m:\u001b[0m\u001b[0;34m\u001b[0m\u001b[0;34m\u001b[0m\u001b[0m\n\u001b[1;32m    560\u001b[0m             \u001b[0;32mraise\u001b[0m \u001b[0mValueError\u001b[0m\u001b[0;34m(\u001b[0m\u001b[0;34m\"multi_class must be in ('ovo', 'ovr')\"\u001b[0m\u001b[0;34m)\u001b[0m\u001b[0;34m\u001b[0m\u001b[0;34m\u001b[0m\u001b[0m\n\u001b[0;32m--> 561\u001b[0;31m         return _multiclass_roc_auc_score(\n\u001b[0m\u001b[1;32m    562\u001b[0m             \u001b[0my_true\u001b[0m\u001b[0;34m,\u001b[0m \u001b[0my_score\u001b[0m\u001b[0;34m,\u001b[0m \u001b[0mlabels\u001b[0m\u001b[0;34m,\u001b[0m \u001b[0mmulti_class\u001b[0m\u001b[0;34m,\u001b[0m \u001b[0maverage\u001b[0m\u001b[0;34m,\u001b[0m \u001b[0msample_weight\u001b[0m\u001b[0;34m\u001b[0m\u001b[0;34m\u001b[0m\u001b[0m\n\u001b[1;32m    563\u001b[0m         )\n",
      "\u001b[0;32m/data/estorrs/miniconda3/envs/pollock_new/lib/python3.8/site-packages/sklearn/metrics/_ranking.py\u001b[0m in \u001b[0;36m_multiclass_roc_auc_score\u001b[0;34m(y_true, y_score, labels, multi_class, average, sample_weight)\u001b[0m\n\u001b[1;32m    626\u001b[0m     \u001b[0;31m# validation of the input y_score\u001b[0m\u001b[0;34m\u001b[0m\u001b[0;34m\u001b[0m\u001b[0;34m\u001b[0m\u001b[0m\n\u001b[1;32m    627\u001b[0m     \u001b[0;32mif\u001b[0m \u001b[0;32mnot\u001b[0m \u001b[0mnp\u001b[0m\u001b[0;34m.\u001b[0m\u001b[0mallclose\u001b[0m\u001b[0;34m(\u001b[0m\u001b[0;36m1\u001b[0m\u001b[0;34m,\u001b[0m \u001b[0my_score\u001b[0m\u001b[0;34m.\u001b[0m\u001b[0msum\u001b[0m\u001b[0;34m(\u001b[0m\u001b[0maxis\u001b[0m\u001b[0;34m=\u001b[0m\u001b[0;36m1\u001b[0m\u001b[0;34m)\u001b[0m\u001b[0;34m)\u001b[0m\u001b[0;34m:\u001b[0m\u001b[0;34m\u001b[0m\u001b[0;34m\u001b[0m\u001b[0m\n\u001b[0;32m--> 628\u001b[0;31m         raise ValueError(\n\u001b[0m\u001b[1;32m    629\u001b[0m             \u001b[0;34m\"Target scores need to be probabilities for multiclass \"\u001b[0m\u001b[0;34m\u001b[0m\u001b[0;34m\u001b[0m\u001b[0m\n\u001b[1;32m    630\u001b[0m             \u001b[0;34m\"roc_auc, i.e. they should sum up to 1.0 over classes\"\u001b[0m\u001b[0;34m\u001b[0m\u001b[0;34m\u001b[0m\u001b[0m\n",
      "\u001b[0;31mValueError\u001b[0m: Target scores need to be probabilities for multiclass roc_auc, i.e. they should sum up to 1.0 over classes"
     ]
    }
   ],
   "source": [
    "macro_roc_auc_ovo = roc_auc_score(y_true, y_score, multi_class=\"ovo\", average=\"macro\")\n",
    "weighted_roc_auc_ovo = roc_auc_score(\n",
    "    y_true, y_score, multi_class=\"ovo\", average=\"weighted\"\n",
    ")\n",
    "macro_roc_auc_ovr = roc_auc_score(y_test, y_score, multi_class=\"ovr\", average=\"macro\")\n",
    "weighted_roc_auc_ovr = roc_auc_score(\n",
    "    y_true, y_score, multi_class=\"ovr\", average=\"weighted\"\n",
    ")\n",
    "print(\n",
    "    \"One-vs-One ROC AUC scores:\\n{:.6f} (macro),\\n{:.6f} \"\n",
    "    \"(weighted by prevalence)\".format(macro_roc_auc_ovo, weighted_roc_auc_ovo)\n",
    ")\n",
    "print(\n",
    "    \"One-vs-Rest ROC AUC scores:\\n{:.6f} (macro),\\n{:.6f} \"\n",
    "    \"(weighted by prevalence)\".format(macro_roc_auc_ovr, weighted_roc_auc_ovr)\n",
    ")"
   ]
  },
  {
   "cell_type": "code",
   "execution_count": null,
   "id": "f2b86cac",
   "metadata": {},
   "outputs": [],
   "source": []
  }
 ],
 "metadata": {
  "kernelspec": {
   "display_name": "Python 3 (ipykernel)",
   "language": "python",
   "name": "python3"
  },
  "language_info": {
   "codemirror_mode": {
    "name": "ipython",
    "version": 3
   },
   "file_extension": ".py",
   "mimetype": "text/x-python",
   "name": "python",
   "nbconvert_exporter": "python",
   "pygments_lexer": "ipython3",
   "version": "3.8.12"
  }
 },
 "nbformat": 4,
 "nbformat_minor": 5
}
