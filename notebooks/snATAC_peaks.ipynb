{
 "cells": [
  {
   "cell_type": "code",
   "execution_count": 1,
   "id": "1b90123e",
   "metadata": {},
   "outputs": [],
   "source": [
    "import os\n",
    "from pathlib import Path\n",
    "from collections import Counter\n",
    "\n",
    "import anndata\n",
    "import scanpy as sc\n",
    "import pandas as pd\n",
    "import numpy as np\n",
    "import matplotlib.pyplot as plt\n",
    "import seaborn as sns\n",
    "from sklearn.metrics import classification_report, confusion_matrix\n",
    "\n",
    "import pollock.utils as utils"
   ]
  },
  {
   "cell_type": "code",
   "execution_count": 2,
   "id": "01066dc6",
   "metadata": {},
   "outputs": [],
   "source": [
    "disease = 'gbm'\n",
    "module_save_filepath = f'/data/pollock/benchmarking/modules/snATACseq_{disease}_peaks'\n",
    "result_dir = '/data/pollock/benchmarking/results/pollock/atac_peaks'\n",
    "Path(module_save_filepath).mkdir(parents=True, exist_ok=True)\n",
    "Path(result_dir).mkdir(parents=True, exist_ok=True)"
   ]
  },
  {
   "cell_type": "code",
   "execution_count": 3,
   "id": "892ac29f",
   "metadata": {},
   "outputs": [
    {
     "data": {
      "text/plain": [
       "((3397, 149449), (2868, 149449))"
      ]
     },
     "execution_count": 3,
     "metadata": {},
     "output_type": "execute_result"
    }
   ],
   "source": [
    "train = sc.read_h5ad(f'/data/pollock/benchmarking/pollock_datasets/snATACseq/{disease}_peaks_train.h5ad')\n",
    "val = sc.read_h5ad(f'/data/pollock/benchmarking/pollock_datasets/snATACseq/{disease}_peaks_val.h5ad')\n",
    "train.shape, val.shape"
   ]
  },
  {
   "cell_type": "code",
   "execution_count": 4,
   "id": "790b5837",
   "metadata": {},
   "outputs": [
    {
     "data": {
      "text/plain": [
       "((3397, 149449), (2868, 149449))"
      ]
     },
     "execution_count": 4,
     "metadata": {},
     "output_type": "execute_result"
    }
   ],
   "source": [
    "# get least sparse peaks\n",
    "m = (train.X!=0).sum(axis=0)\n",
    "idxs = np.flip(np.argsort(np.asarray(m).flatten()))\n",
    "train, val = train[:, idxs[:200000]], val[:, idxs[:200000]]\n",
    "train.shape, val.shape"
   ]
  },
  {
   "cell_type": "code",
   "execution_count": 5,
   "id": "7b23566f",
   "metadata": {},
   "outputs": [
    {
     "data": {
      "text/plain": [
       "True"
      ]
     },
     "execution_count": 5,
     "metadata": {},
     "output_type": "execute_result"
    }
   ],
   "source": [
    "import torch\n",
    "torch.cuda.is_available()"
   ]
  },
  {
   "cell_type": "code",
   "execution_count": 6,
   "id": "a6369cf3",
   "metadata": {},
   "outputs": [
    {
     "data": {
      "text/plain": [
       "{'lr': 0.0001,\n",
       " 'epochs': 20,\n",
       " 'batch_size': 64,\n",
       " 'latent_dim': 64,\n",
       " 'enc_out_dim': 128,\n",
       " 'middle_dim': 512,\n",
       " 'kl_scaler': 0.001,\n",
       " 'clf_scaler': 1.0,\n",
       " 'zinb_scaler': 0.5,\n",
       " 'use_cuda': True,\n",
       " 'cell_type_key': 'cell_type',\n",
       " 'module_filepath': '/data/pollock/benchmarking/modules/snATACseq_gbm_peaks'}"
      ]
     },
     "execution_count": 6,
     "metadata": {},
     "output_type": "execute_result"
    }
   ],
   "source": [
    "args = utils.DEFAULT_TRAIN_ARGS\n",
    "args['module_filepath'] = module_save_filepath\n",
    "args['use_cuda'] = True\n",
    "args"
   ]
  },
  {
   "cell_type": "code",
   "execution_count": 7,
   "id": "8dd08673",
   "metadata": {},
   "outputs": [],
   "source": [
    "args['batch_size'] = 128"
   ]
  },
  {
   "cell_type": "code",
   "execution_count": 8,
   "id": "05e53eeb",
   "metadata": {
    "scrolled": true
   },
   "outputs": [
    {
     "name": "stderr",
     "output_type": "stream",
     "text": [
      "2022-03-24 09:30:09,432 beginning training\n",
      "2022-03-24 09:30:09,433 creating dataloaders\n",
      "2022-03-24 09:30:13,634 124815 genes overlap with model after filtering\n",
      "2022-03-24 09:30:13,635 8496 genes missing from dataset after filtering\n",
      "2022-03-24 09:30:18,036 creating model\n",
      "2022-03-24 09:30:22,474 training dataset size: 3397, validation dataset size: 2868, cell types: ['B cell', 'Endothelial', 'Fibroblast', 'Malignant', 'Microglia', 'Neuron', 'Oligodendrocytes', 'T cells']\n",
      "2022-03-24 09:30:22,475 fitting model\n",
      "2022-03-24 09:30:32,520 epoch: 0, train loss: 2.246, val loss: 2.239, zinb loss: 0.338, kl loss: 0.685, clf loss: 2.069, time: 5.71\n",
      "2022-03-24 09:30:42,424 epoch: 1, train loss: 2.234, val loss: 2.217, zinb loss: 0.331, kl loss: 2.330, clf loss: 2.050, time: 6.93\n",
      "2022-03-24 09:30:52,315 epoch: 2, train loss: 2.169, val loss: 2.054, zinb loss: 0.289, kl loss: 41.090, clf loss: 1.869, time: 5.96\n",
      "2022-03-24 09:31:00,699 epoch: 3, train loss: 1.938, val loss: 1.831, zinb loss: 0.182, kl loss: 67.406, clf loss: 1.672, time: 5.65\n",
      "2022-03-24 09:31:09,782 epoch: 4, train loss: 1.751, val loss: 1.710, zinb loss: 0.123, kl loss: 83.543, clf loss: 1.565, time: 5.38\n",
      "2022-03-24 09:31:19,326 epoch: 5, train loss: 1.620, val loss: 1.676, zinb loss: 0.122, kl loss: 57.384, clf loss: 1.558, time: 6.81\n",
      "2022-03-24 09:31:27,713 epoch: 6, train loss: 1.557, val loss: 1.644, zinb loss: 0.118, kl loss: 58.476, clf loss: 1.527, time: 5.31\n",
      "2022-03-24 09:31:35,939 epoch: 7, train loss: 1.513, val loss: 1.629, zinb loss: 0.117, kl loss: 49.218, clf loss: 1.521, time: 5.65\n",
      "2022-03-24 09:31:43,955 epoch: 8, train loss: 1.488, val loss: 1.616, zinb loss: 0.115, kl loss: 46.806, clf loss: 1.512, time: 5.39\n",
      "2022-03-24 09:31:51,840 epoch: 9, train loss: 1.466, val loss: 1.609, zinb loss: 0.115, kl loss: 43.276, clf loss: 1.508, time: 5.27\n",
      "2022-03-24 09:31:59,323 epoch: 10, train loss: 1.452, val loss: 1.601, zinb loss: 0.114, kl loss: 40.533, clf loss: 1.503, time: 5.20\n",
      "2022-03-24 09:32:06,565 epoch: 11, train loss: 1.444, val loss: 1.595, zinb loss: 0.114, kl loss: 38.642, clf loss: 1.499, time: 4.87\n",
      "2022-03-24 09:32:13,924 epoch: 12, train loss: 1.437, val loss: 1.592, zinb loss: 0.114, kl loss: 36.824, clf loss: 1.499, time: 4.98\n",
      "2022-03-24 09:32:21,204 epoch: 13, train loss: 1.432, val loss: 1.590, zinb loss: 0.113, kl loss: 35.680, clf loss: 1.497, time: 4.93\n",
      "2022-03-24 09:32:28,451 epoch: 14, train loss: 1.429, val loss: 1.590, zinb loss: 0.114, kl loss: 35.081, clf loss: 1.498, time: 4.86\n",
      "2022-03-24 09:32:35,708 epoch: 15, train loss: 1.426, val loss: 1.589, zinb loss: 0.114, kl loss: 34.156, clf loss: 1.498, time: 4.98\n",
      "2022-03-24 09:32:42,938 epoch: 16, train loss: 1.425, val loss: 1.588, zinb loss: 0.113, kl loss: 34.227, clf loss: 1.497, time: 4.88\n",
      "2022-03-24 09:32:50,201 epoch: 17, train loss: 1.423, val loss: 1.586, zinb loss: 0.113, kl loss: 33.982, clf loss: 1.495, time: 4.87\n",
      "2022-03-24 09:32:57,454 epoch: 18, train loss: 1.423, val loss: 1.586, zinb loss: 0.113, kl loss: 33.843, clf loss: 1.495, time: 4.95\n",
      "2022-03-24 09:33:04,626 epoch: 19, train loss: 1.423, val loss: 1.585, zinb loss: 0.113, kl loss: 33.817, clf loss: 1.495, time: 4.88\n",
      "2022-03-24 09:33:04,627 model fitting finished\n",
      "2022-03-24 09:33:04,628 saving model to /data/pollock/benchmarking/modules/snATACseq_gbm_peaks\n"
     ]
    }
   ],
   "source": [
    "utils.train_and_save_model(train.copy(), val.copy(), args)"
   ]
  },
  {
   "cell_type": "code",
   "execution_count": 9,
   "id": "7405ec9d",
   "metadata": {},
   "outputs": [],
   "source": [
    "model = utils.load_model(module_save_filepath)"
   ]
  },
  {
   "cell_type": "code",
   "execution_count": 10,
   "id": "5bbb7e09",
   "metadata": {},
   "outputs": [
    {
     "name": "stderr",
     "output_type": "stream",
     "text": [
      "2022-03-24 09:33:09,955 124815 genes overlap with model after filtering\n",
      "2022-03-24 09:33:09,956 8496 genes missing from dataset after filtering\n",
      "2022-03-24 09:33:14,211 starting prediction of 2868 cells\n"
     ]
    },
    {
     "data": {
      "text/plain": [
       "AnnData object with n_obs × n_vars = 2868 × 133311\n",
       "    obs: 'cell_type', 'barcode', 'sample', 'n_counts', 'size_factors', 'y_pred', 'predicted_cell_type_probability', 'predicted_cell_type', 'probability B cell', 'probability Endothelial', 'probability Fibroblast', 'probability Malignant', 'probability Microglia', 'probability Neuron', 'probability Oligodendrocytes', 'probability T cells'\n",
       "    var: 'mean', 'std'\n",
       "    uns: 'log1p'\n",
       "    obsm: 'X_emb', 'X_umap', 'prediction_probs'"
      ]
     },
     "execution_count": 10,
     "metadata": {},
     "output_type": "execute_result"
    }
   ],
   "source": [
    "# note that if you are predicting a large dataset and don't need the pollock umap embeddings you can set make_umap to False to increase runtime speed\n",
    "adata = utils.predict_adata(model, val.copy(), make_umap=True)\n",
    "adata"
   ]
  },
  {
   "cell_type": "code",
   "execution_count": 11,
   "id": "ebd02324",
   "metadata": {},
   "outputs": [
    {
     "data": {
      "text/html": [
       "<div>\n",
       "<style scoped>\n",
       "    .dataframe tbody tr th:only-of-type {\n",
       "        vertical-align: middle;\n",
       "    }\n",
       "\n",
       "    .dataframe tbody tr th {\n",
       "        vertical-align: top;\n",
       "    }\n",
       "\n",
       "    .dataframe thead th {\n",
       "        text-align: right;\n",
       "    }\n",
       "</style>\n",
       "<table border=\"1\" class=\"dataframe\">\n",
       "  <thead>\n",
       "    <tr style=\"text-align: right;\">\n",
       "      <th></th>\n",
       "      <th>cell_type</th>\n",
       "      <th>barcode</th>\n",
       "      <th>sample</th>\n",
       "      <th>n_counts</th>\n",
       "      <th>size_factors</th>\n",
       "      <th>y_pred</th>\n",
       "      <th>predicted_cell_type_probability</th>\n",
       "      <th>predicted_cell_type</th>\n",
       "      <th>probability B cell</th>\n",
       "      <th>probability Endothelial</th>\n",
       "      <th>probability Fibroblast</th>\n",
       "      <th>probability Malignant</th>\n",
       "      <th>probability Microglia</th>\n",
       "      <th>probability Neuron</th>\n",
       "      <th>probability Oligodendrocytes</th>\n",
       "      <th>probability T cells</th>\n",
       "    </tr>\n",
       "  </thead>\n",
       "  <tbody>\n",
       "    <tr>\n",
       "      <th>0_AACTGTGCACGCGCAT-1</th>\n",
       "      <td>Microglia</td>\n",
       "      <td>AACTGTGCACGCGCAT-1</td>\n",
       "      <td>0</td>\n",
       "      <td>5919.0</td>\n",
       "      <td>1.307633</td>\n",
       "      <td>4</td>\n",
       "      <td>0.939271</td>\n",
       "      <td>Microglia</td>\n",
       "      <td>0.005155</td>\n",
       "      <td>0.010098</td>\n",
       "      <td>0.010493</td>\n",
       "      <td>0.008943</td>\n",
       "      <td>0.939271</td>\n",
       "      <td>0.012679</td>\n",
       "      <td>0.009633</td>\n",
       "      <td>0.003727</td>\n",
       "    </tr>\n",
       "    <tr>\n",
       "      <th>0_AACGGGATCGTGAACT-1</th>\n",
       "      <td>Malignant</td>\n",
       "      <td>AACGGGATCGTGAACT-1</td>\n",
       "      <td>0</td>\n",
       "      <td>6191.0</td>\n",
       "      <td>1.367723</td>\n",
       "      <td>3</td>\n",
       "      <td>0.509321</td>\n",
       "      <td>Malignant</td>\n",
       "      <td>0.055757</td>\n",
       "      <td>0.045326</td>\n",
       "      <td>0.263711</td>\n",
       "      <td>0.509321</td>\n",
       "      <td>0.029484</td>\n",
       "      <td>0.033274</td>\n",
       "      <td>0.020219</td>\n",
       "      <td>0.042907</td>\n",
       "    </tr>\n",
       "    <tr>\n",
       "      <th>0_GGAGAACAGCAGTAGC-1</th>\n",
       "      <td>Microglia</td>\n",
       "      <td>GGAGAACAGCAGTAGC-1</td>\n",
       "      <td>0</td>\n",
       "      <td>6546.0</td>\n",
       "      <td>1.446150</td>\n",
       "      <td>4</td>\n",
       "      <td>0.757455</td>\n",
       "      <td>Microglia</td>\n",
       "      <td>0.020075</td>\n",
       "      <td>0.033392</td>\n",
       "      <td>0.036234</td>\n",
       "      <td>0.028169</td>\n",
       "      <td>0.757455</td>\n",
       "      <td>0.034688</td>\n",
       "      <td>0.070016</td>\n",
       "      <td>0.019971</td>\n",
       "    </tr>\n",
       "    <tr>\n",
       "      <th>0_CGCACAGTCCTCCTGA-1</th>\n",
       "      <td>Fibroblast</td>\n",
       "      <td>CGCACAGTCCTCCTGA-1</td>\n",
       "      <td>0</td>\n",
       "      <td>8255.0</td>\n",
       "      <td>1.823705</td>\n",
       "      <td>2</td>\n",
       "      <td>0.817721</td>\n",
       "      <td>Fibroblast</td>\n",
       "      <td>0.025192</td>\n",
       "      <td>0.032007</td>\n",
       "      <td>0.817721</td>\n",
       "      <td>0.043527</td>\n",
       "      <td>0.021855</td>\n",
       "      <td>0.015994</td>\n",
       "      <td>0.014169</td>\n",
       "      <td>0.029535</td>\n",
       "    </tr>\n",
       "    <tr>\n",
       "      <th>0_CAGTATGAGCGATACG-1</th>\n",
       "      <td>Oligodendrocytes</td>\n",
       "      <td>CAGTATGAGCGATACG-1</td>\n",
       "      <td>0</td>\n",
       "      <td>2456.0</td>\n",
       "      <td>0.542583</td>\n",
       "      <td>6</td>\n",
       "      <td>0.887631</td>\n",
       "      <td>Oligodendrocytes</td>\n",
       "      <td>0.018635</td>\n",
       "      <td>0.006778</td>\n",
       "      <td>0.008006</td>\n",
       "      <td>0.016870</td>\n",
       "      <td>0.028860</td>\n",
       "      <td>0.012671</td>\n",
       "      <td>0.887631</td>\n",
       "      <td>0.020548</td>\n",
       "    </tr>\n",
       "    <tr>\n",
       "      <th>...</th>\n",
       "      <td>...</td>\n",
       "      <td>...</td>\n",
       "      <td>...</td>\n",
       "      <td>...</td>\n",
       "      <td>...</td>\n",
       "      <td>...</td>\n",
       "      <td>...</td>\n",
       "      <td>...</td>\n",
       "      <td>...</td>\n",
       "      <td>...</td>\n",
       "      <td>...</td>\n",
       "      <td>...</td>\n",
       "      <td>...</td>\n",
       "      <td>...</td>\n",
       "      <td>...</td>\n",
       "      <td>...</td>\n",
       "    </tr>\n",
       "    <tr>\n",
       "      <th>9_CTTCTAATCCAAGTCA-1</th>\n",
       "      <td>Malignant</td>\n",
       "      <td>CTTCTAATCCAAGTCA-1</td>\n",
       "      <td>9</td>\n",
       "      <td>12509.0</td>\n",
       "      <td>2.763504</td>\n",
       "      <td>3</td>\n",
       "      <td>0.958068</td>\n",
       "      <td>Malignant</td>\n",
       "      <td>0.007057</td>\n",
       "      <td>0.004681</td>\n",
       "      <td>0.002329</td>\n",
       "      <td>0.958068</td>\n",
       "      <td>0.006800</td>\n",
       "      <td>0.010830</td>\n",
       "      <td>0.005036</td>\n",
       "      <td>0.005200</td>\n",
       "    </tr>\n",
       "    <tr>\n",
       "      <th>9_GTCACCTAGACCATAA-1</th>\n",
       "      <td>Endothelial</td>\n",
       "      <td>GTCACCTAGACCATAA-1</td>\n",
       "      <td>9</td>\n",
       "      <td>6637.0</td>\n",
       "      <td>1.466254</td>\n",
       "      <td>2</td>\n",
       "      <td>0.436717</td>\n",
       "      <td>Fibroblast</td>\n",
       "      <td>0.039406</td>\n",
       "      <td>0.315975</td>\n",
       "      <td>0.436717</td>\n",
       "      <td>0.036066</td>\n",
       "      <td>0.044237</td>\n",
       "      <td>0.041598</td>\n",
       "      <td>0.013941</td>\n",
       "      <td>0.072060</td>\n",
       "    </tr>\n",
       "    <tr>\n",
       "      <th>9_CACTAAGTCCCGAAGC-1</th>\n",
       "      <td>Malignant</td>\n",
       "      <td>CACTAAGTCCCGAAGC-1</td>\n",
       "      <td>9</td>\n",
       "      <td>4071.0</td>\n",
       "      <td>0.899370</td>\n",
       "      <td>6</td>\n",
       "      <td>0.755595</td>\n",
       "      <td>Oligodendrocytes</td>\n",
       "      <td>0.052421</td>\n",
       "      <td>0.014711</td>\n",
       "      <td>0.014245</td>\n",
       "      <td>0.068892</td>\n",
       "      <td>0.034976</td>\n",
       "      <td>0.024025</td>\n",
       "      <td>0.755595</td>\n",
       "      <td>0.035135</td>\n",
       "    </tr>\n",
       "    <tr>\n",
       "      <th>9_TTCATCATCTGACTTT-1</th>\n",
       "      <td>Microglia</td>\n",
       "      <td>TTCATCATCTGACTTT-1</td>\n",
       "      <td>9</td>\n",
       "      <td>3645.0</td>\n",
       "      <td>0.805258</td>\n",
       "      <td>4</td>\n",
       "      <td>0.860229</td>\n",
       "      <td>Microglia</td>\n",
       "      <td>0.012745</td>\n",
       "      <td>0.024865</td>\n",
       "      <td>0.025591</td>\n",
       "      <td>0.020444</td>\n",
       "      <td>0.860229</td>\n",
       "      <td>0.023797</td>\n",
       "      <td>0.021590</td>\n",
       "      <td>0.010739</td>\n",
       "    </tr>\n",
       "    <tr>\n",
       "      <th>9_TTCATCAGTGTCCTTC-1</th>\n",
       "      <td>Oligodendrocytes</td>\n",
       "      <td>TTCATCAGTGTCCTTC-1</td>\n",
       "      <td>9</td>\n",
       "      <td>1962.0</td>\n",
       "      <td>0.433447</td>\n",
       "      <td>6</td>\n",
       "      <td>0.302296</td>\n",
       "      <td>Oligodendrocytes</td>\n",
       "      <td>0.225211</td>\n",
       "      <td>0.048716</td>\n",
       "      <td>0.035401</td>\n",
       "      <td>0.213100</td>\n",
       "      <td>0.058370</td>\n",
       "      <td>0.038125</td>\n",
       "      <td>0.302296</td>\n",
       "      <td>0.078781</td>\n",
       "    </tr>\n",
       "  </tbody>\n",
       "</table>\n",
       "<p>2868 rows × 16 columns</p>\n",
       "</div>"
      ],
      "text/plain": [
       "                             cell_type             barcode  sample  n_counts  \\\n",
       "0_AACTGTGCACGCGCAT-1         Microglia  AACTGTGCACGCGCAT-1       0    5919.0   \n",
       "0_AACGGGATCGTGAACT-1         Malignant  AACGGGATCGTGAACT-1       0    6191.0   \n",
       "0_GGAGAACAGCAGTAGC-1         Microglia  GGAGAACAGCAGTAGC-1       0    6546.0   \n",
       "0_CGCACAGTCCTCCTGA-1        Fibroblast  CGCACAGTCCTCCTGA-1       0    8255.0   \n",
       "0_CAGTATGAGCGATACG-1  Oligodendrocytes  CAGTATGAGCGATACG-1       0    2456.0   \n",
       "...                                ...                 ...     ...       ...   \n",
       "9_CTTCTAATCCAAGTCA-1         Malignant  CTTCTAATCCAAGTCA-1       9   12509.0   \n",
       "9_GTCACCTAGACCATAA-1       Endothelial  GTCACCTAGACCATAA-1       9    6637.0   \n",
       "9_CACTAAGTCCCGAAGC-1         Malignant  CACTAAGTCCCGAAGC-1       9    4071.0   \n",
       "9_TTCATCATCTGACTTT-1         Microglia  TTCATCATCTGACTTT-1       9    3645.0   \n",
       "9_TTCATCAGTGTCCTTC-1  Oligodendrocytes  TTCATCAGTGTCCTTC-1       9    1962.0   \n",
       "\n",
       "                      size_factors  y_pred  predicted_cell_type_probability  \\\n",
       "0_AACTGTGCACGCGCAT-1      1.307633       4                         0.939271   \n",
       "0_AACGGGATCGTGAACT-1      1.367723       3                         0.509321   \n",
       "0_GGAGAACAGCAGTAGC-1      1.446150       4                         0.757455   \n",
       "0_CGCACAGTCCTCCTGA-1      1.823705       2                         0.817721   \n",
       "0_CAGTATGAGCGATACG-1      0.542583       6                         0.887631   \n",
       "...                            ...     ...                              ...   \n",
       "9_CTTCTAATCCAAGTCA-1      2.763504       3                         0.958068   \n",
       "9_GTCACCTAGACCATAA-1      1.466254       2                         0.436717   \n",
       "9_CACTAAGTCCCGAAGC-1      0.899370       6                         0.755595   \n",
       "9_TTCATCATCTGACTTT-1      0.805258       4                         0.860229   \n",
       "9_TTCATCAGTGTCCTTC-1      0.433447       6                         0.302296   \n",
       "\n",
       "                     predicted_cell_type  probability B cell  \\\n",
       "0_AACTGTGCACGCGCAT-1           Microglia            0.005155   \n",
       "0_AACGGGATCGTGAACT-1           Malignant            0.055757   \n",
       "0_GGAGAACAGCAGTAGC-1           Microglia            0.020075   \n",
       "0_CGCACAGTCCTCCTGA-1          Fibroblast            0.025192   \n",
       "0_CAGTATGAGCGATACG-1    Oligodendrocytes            0.018635   \n",
       "...                                  ...                 ...   \n",
       "9_CTTCTAATCCAAGTCA-1           Malignant            0.007057   \n",
       "9_GTCACCTAGACCATAA-1          Fibroblast            0.039406   \n",
       "9_CACTAAGTCCCGAAGC-1    Oligodendrocytes            0.052421   \n",
       "9_TTCATCATCTGACTTT-1           Microglia            0.012745   \n",
       "9_TTCATCAGTGTCCTTC-1    Oligodendrocytes            0.225211   \n",
       "\n",
       "                      probability Endothelial  probability Fibroblast  \\\n",
       "0_AACTGTGCACGCGCAT-1                 0.010098                0.010493   \n",
       "0_AACGGGATCGTGAACT-1                 0.045326                0.263711   \n",
       "0_GGAGAACAGCAGTAGC-1                 0.033392                0.036234   \n",
       "0_CGCACAGTCCTCCTGA-1                 0.032007                0.817721   \n",
       "0_CAGTATGAGCGATACG-1                 0.006778                0.008006   \n",
       "...                                       ...                     ...   \n",
       "9_CTTCTAATCCAAGTCA-1                 0.004681                0.002329   \n",
       "9_GTCACCTAGACCATAA-1                 0.315975                0.436717   \n",
       "9_CACTAAGTCCCGAAGC-1                 0.014711                0.014245   \n",
       "9_TTCATCATCTGACTTT-1                 0.024865                0.025591   \n",
       "9_TTCATCAGTGTCCTTC-1                 0.048716                0.035401   \n",
       "\n",
       "                      probability Malignant  probability Microglia  \\\n",
       "0_AACTGTGCACGCGCAT-1               0.008943               0.939271   \n",
       "0_AACGGGATCGTGAACT-1               0.509321               0.029484   \n",
       "0_GGAGAACAGCAGTAGC-1               0.028169               0.757455   \n",
       "0_CGCACAGTCCTCCTGA-1               0.043527               0.021855   \n",
       "0_CAGTATGAGCGATACG-1               0.016870               0.028860   \n",
       "...                                     ...                    ...   \n",
       "9_CTTCTAATCCAAGTCA-1               0.958068               0.006800   \n",
       "9_GTCACCTAGACCATAA-1               0.036066               0.044237   \n",
       "9_CACTAAGTCCCGAAGC-1               0.068892               0.034976   \n",
       "9_TTCATCATCTGACTTT-1               0.020444               0.860229   \n",
       "9_TTCATCAGTGTCCTTC-1               0.213100               0.058370   \n",
       "\n",
       "                      probability Neuron  probability Oligodendrocytes  \\\n",
       "0_AACTGTGCACGCGCAT-1            0.012679                      0.009633   \n",
       "0_AACGGGATCGTGAACT-1            0.033274                      0.020219   \n",
       "0_GGAGAACAGCAGTAGC-1            0.034688                      0.070016   \n",
       "0_CGCACAGTCCTCCTGA-1            0.015994                      0.014169   \n",
       "0_CAGTATGAGCGATACG-1            0.012671                      0.887631   \n",
       "...                                  ...                           ...   \n",
       "9_CTTCTAATCCAAGTCA-1            0.010830                      0.005036   \n",
       "9_GTCACCTAGACCATAA-1            0.041598                      0.013941   \n",
       "9_CACTAAGTCCCGAAGC-1            0.024025                      0.755595   \n",
       "9_TTCATCATCTGACTTT-1            0.023797                      0.021590   \n",
       "9_TTCATCAGTGTCCTTC-1            0.038125                      0.302296   \n",
       "\n",
       "                      probability T cells  \n",
       "0_AACTGTGCACGCGCAT-1             0.003727  \n",
       "0_AACGGGATCGTGAACT-1             0.042907  \n",
       "0_GGAGAACAGCAGTAGC-1             0.019971  \n",
       "0_CGCACAGTCCTCCTGA-1             0.029535  \n",
       "0_CAGTATGAGCGATACG-1             0.020548  \n",
       "...                                   ...  \n",
       "9_CTTCTAATCCAAGTCA-1             0.005200  \n",
       "9_GTCACCTAGACCATAA-1             0.072060  \n",
       "9_CACTAAGTCCCGAAGC-1             0.035135  \n",
       "9_TTCATCATCTGACTTT-1             0.010739  \n",
       "9_TTCATCAGTGTCCTTC-1             0.078781  \n",
       "\n",
       "[2868 rows x 16 columns]"
      ]
     },
     "execution_count": 11,
     "metadata": {},
     "output_type": "execute_result"
    }
   ],
   "source": [
    "adata.obs"
   ]
  },
  {
   "cell_type": "code",
   "execution_count": 12,
   "id": "4c8cc74a",
   "metadata": {},
   "outputs": [
    {
     "name": "stderr",
     "output_type": "stream",
     "text": [
      "/data/estorrs/miniconda3/envs/pollock_new/lib/python3.8/site-packages/anndata/_core/anndata.py:1228: FutureWarning: The `inplace` parameter in pandas.Categorical.reorder_categories is deprecated and will be removed in a future version. Reordering categories will always return a new Categorical object.\n",
      "  c.reorder_categories(natsorted(c.categories), inplace=True)\n",
      "... storing 'predicted_cell_type' as categorical\n"
     ]
    },
    {
     "data": {
      "image/png": "[encoded data removed]",
      "text/plain": [
       "<Figure size 1483.92x288 with 4 Axes>"
      ]
     },
     "metadata": {
      "needs_background": "light"
     },
     "output_type": "display_data"
    }
   ],
   "source": [
    "sc.pl.umap(adata, color=['cell_type', 'predicted_cell_type', 'predicted_cell_type_probability'])"
   ]
  },
  {
   "cell_type": "code",
   "execution_count": 13,
   "id": "aaf0abde",
   "metadata": {},
   "outputs": [],
   "source": [
    "def get_metrics(y_true_labels, y_pred_labels):\n",
    "    classes = sorted(set(y_true_labels))\n",
    "\n",
    "    y_pred = [classes.index(c) for c in y_pred_labels]\n",
    "    y_true = [classes.index(c) for c in y_true_labels]\n",
    "\n",
    "    clf_report = classification_report(y_true, y_pred, labels=list(range(len(classes))), target_names=classes,\n",
    "                             output_dict=True)\n",
    "    clf_report = pd.DataFrame.from_dict(clf_report)\n",
    "    cm = confusion_matrix(y_true, y_pred, labels=list(range(len(classes))))\n",
    "    cm = pd.DataFrame(data=cm, index=classes, columns=classes)\n",
    "    \n",
    "    clf_report.index.name = 'metric'\n",
    "    cm.index.name = 'cell_type'\n",
    "    \n",
    "    return clf_report, cm"
   ]
  },
  {
   "cell_type": "code",
   "execution_count": 14,
   "id": "84a800eb",
   "metadata": {},
   "outputs": [],
   "source": [
    "# using only validation anndata to look at performance metrics\n",
    "y_pred = adata.obs['predicted_cell_type'].to_list()\n",
    "y_true = adata.obs['cell_type'].to_list()\n",
    "clf_report, cm = get_metrics(y_true, y_pred)"
   ]
  },
  {
   "cell_type": "code",
   "execution_count": 15,
   "id": "44d077bd",
   "metadata": {},
   "outputs": [
    {
     "data": {
      "text/plain": [
       "Text(32.99999999999999, 0.5, 'manual annotation')"
      ]
     },
     "execution_count": 15,
     "metadata": {},
     "output_type": "execute_result"
    },
    {
     "data": {
      "image/png": "[encoded data removed]",
      "text/plain": [
       "<Figure size 432x288 with 2 Axes>"
      ]
     },
     "metadata": {
      "needs_background": "light"
     },
     "output_type": "display_data"
    }
   ],
   "source": [
    "sns.heatmap(cm, cmap='Blues')\n",
    "plt.xlabel('predicted')\n",
    "plt.ylabel('manual annotation')"
   ]
  },
  {
   "cell_type": "code",
   "execution_count": 16,
   "id": "a443f076",
   "metadata": {},
   "outputs": [
    {
     "data": {
      "text/plain": [
       "Text(32.99999999999999, 0.5, 'manual annotation')"
      ]
     },
     "execution_count": 16,
     "metadata": {},
     "output_type": "execute_result"
    },
    {
     "data": {
      "image/png": "[encoded data removed]",
      "text/plain": [
       "<Figure size 432x288 with 2 Axes>"
      ]
     },
     "metadata": {
      "needs_background": "light"
     },
     "output_type": "display_data"
    }
   ],
   "source": [
    "sns.heatmap(cm / cm.sum(axis=1), cmap='Blues')\n",
    "plt.xlabel('predicted')\n",
    "plt.ylabel('manual annotation')"
   ]
  },
  {
   "cell_type": "code",
   "execution_count": 17,
   "id": "d6631dd3",
   "metadata": {},
   "outputs": [
    {
     "data": {
      "text/html": [
       "<div>\n",
       "<style scoped>\n",
       "    .dataframe tbody tr th:only-of-type {\n",
       "        vertical-align: middle;\n",
       "    }\n",
       "\n",
       "    .dataframe tbody tr th {\n",
       "        vertical-align: top;\n",
       "    }\n",
       "\n",
       "    .dataframe thead th {\n",
       "        text-align: right;\n",
       "    }\n",
       "</style>\n",
       "<table border=\"1\" class=\"dataframe\">\n",
       "  <thead>\n",
       "    <tr style=\"text-align: right;\">\n",
       "      <th></th>\n",
       "      <th>B cell</th>\n",
       "      <th>Endothelial</th>\n",
       "      <th>Fibroblast</th>\n",
       "      <th>Malignant</th>\n",
       "      <th>Microglia</th>\n",
       "      <th>Neuron</th>\n",
       "      <th>Oligodendrocytes</th>\n",
       "      <th>T cells</th>\n",
       "      <th>accuracy</th>\n",
       "      <th>macro avg</th>\n",
       "      <th>weighted avg</th>\n",
       "    </tr>\n",
       "    <tr>\n",
       "      <th>metric</th>\n",
       "      <th></th>\n",
       "      <th></th>\n",
       "      <th></th>\n",
       "      <th></th>\n",
       "      <th></th>\n",
       "      <th></th>\n",
       "      <th></th>\n",
       "      <th></th>\n",
       "      <th></th>\n",
       "      <th></th>\n",
       "      <th></th>\n",
       "    </tr>\n",
       "  </thead>\n",
       "  <tbody>\n",
       "    <tr>\n",
       "      <th>precision</th>\n",
       "      <td>0.940594</td>\n",
       "      <td>0.833333</td>\n",
       "      <td>0.899038</td>\n",
       "      <td>0.869963</td>\n",
       "      <td>0.911488</td>\n",
       "      <td>0.997872</td>\n",
       "      <td>0.962376</td>\n",
       "      <td>0.983015</td>\n",
       "      <td>0.937587</td>\n",
       "      <td>0.924710</td>\n",
       "      <td>0.939703</td>\n",
       "    </tr>\n",
       "    <tr>\n",
       "      <th>recall</th>\n",
       "      <td>0.818966</td>\n",
       "      <td>0.666667</td>\n",
       "      <td>0.903382</td>\n",
       "      <td>0.950000</td>\n",
       "      <td>0.968000</td>\n",
       "      <td>0.938000</td>\n",
       "      <td>0.972000</td>\n",
       "      <td>0.926000</td>\n",
       "      <td>0.937587</td>\n",
       "      <td>0.892877</td>\n",
       "      <td>0.937587</td>\n",
       "    </tr>\n",
       "    <tr>\n",
       "      <th>f1-score</th>\n",
       "      <td>0.875576</td>\n",
       "      <td>0.740741</td>\n",
       "      <td>0.901205</td>\n",
       "      <td>0.908222</td>\n",
       "      <td>0.938894</td>\n",
       "      <td>0.967010</td>\n",
       "      <td>0.967164</td>\n",
       "      <td>0.953656</td>\n",
       "      <td>0.937587</td>\n",
       "      <td>0.906559</td>\n",
       "      <td>0.937560</td>\n",
       "    </tr>\n",
       "    <tr>\n",
       "      <th>support</th>\n",
       "      <td>116.000000</td>\n",
       "      <td>45.000000</td>\n",
       "      <td>207.000000</td>\n",
       "      <td>500.000000</td>\n",
       "      <td>500.000000</td>\n",
       "      <td>500.000000</td>\n",
       "      <td>500.000000</td>\n",
       "      <td>500.000000</td>\n",
       "      <td>0.937587</td>\n",
       "      <td>2868.000000</td>\n",
       "      <td>2868.000000</td>\n",
       "    </tr>\n",
       "  </tbody>\n",
       "</table>\n",
       "</div>"
      ],
      "text/plain": [
       "               B cell  Endothelial  Fibroblast   Malignant   Microglia  \\\n",
       "metric                                                                   \n",
       "precision    0.940594     0.833333    0.899038    0.869963    0.911488   \n",
       "recall       0.818966     0.666667    0.903382    0.950000    0.968000   \n",
       "f1-score     0.875576     0.740741    0.901205    0.908222    0.938894   \n",
       "support    116.000000    45.000000  207.000000  500.000000  500.000000   \n",
       "\n",
       "               Neuron  Oligodendrocytes     T cells  accuracy    macro avg  \\\n",
       "metric                                                                       \n",
       "precision    0.997872          0.962376    0.983015  0.937587     0.924710   \n",
       "recall       0.938000          0.972000    0.926000  0.937587     0.892877   \n",
       "f1-score     0.967010          0.967164    0.953656  0.937587     0.906559   \n",
       "support    500.000000        500.000000  500.000000  0.937587  2868.000000   \n",
       "\n",
       "           weighted avg  \n",
       "metric                   \n",
       "precision      0.939703  \n",
       "recall         0.937587  \n",
       "f1-score       0.937560  \n",
       "support     2868.000000  "
      ]
     },
     "execution_count": 17,
     "metadata": {},
     "output_type": "execute_result"
    }
   ],
   "source": [
    "clf_report"
   ]
  },
  {
   "cell_type": "code",
   "execution_count": 18,
   "id": "8d914f6c",
   "metadata": {},
   "outputs": [],
   "source": [
    "clf_report.to_csv(os.path.join(result_dir, f'{disease}_clf_report.txt'), sep='\\t')\n",
    "cm.to_csv(os.path.join(result_dir, f'{disease}_confusion_matrix.txt'), sep='\\t')"
   ]
  },
  {
   "cell_type": "code",
   "execution_count": null,
   "id": "15b8d98d",
   "metadata": {},
   "outputs": [],
   "source": []
  }
 ],
 "metadata": {
  "kernelspec": {
   "display_name": "Python 3 (ipykernel)",
   "language": "python",
   "name": "python3"
  },
  "language_info": {
   "codemirror_mode": {
    "name": "ipython",
    "version": 3
   },
   "file_extension": ".py",
   "mimetype": "text/x-python",
   "name": "python",
   "nbconvert_exporter": "python",
   "pygments_lexer": "ipython3",
   "version": "3.8.12"
  }
 },
 "nbformat": 4,
 "nbformat_minor": 5
}
