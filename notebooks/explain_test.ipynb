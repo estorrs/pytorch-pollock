{
 "cells": [
  {
   "cell_type": "code",
   "execution_count": 1,
   "id": "e0f2d421",
   "metadata": {},
   "outputs": [],
   "source": [
    "import logging\n",
    "import os\n",
    "import re\n",
    "\n",
    "import pandas as pd\n",
    "import numpy as np\n",
    "import matplotlib.pyplot as plt\n",
    "import seaborn as sns\n",
    "import scanpy as sc\n",
    "import scipy\n",
    "import anndata\n",
    "from sklearn.preprocessing import StandardScaler"
   ]
  },
  {
   "cell_type": "code",
   "execution_count": 2,
   "id": "8542a804",
   "metadata": {},
   "outputs": [],
   "source": [
    "import torch\n",
    "import torch.nn.functional as F\n",
    "from torch.utils.data import DataLoader, Dataset"
   ]
  },
  {
   "cell_type": "code",
   "execution_count": 3,
   "id": "c6dbc8dc",
   "metadata": {},
   "outputs": [],
   "source": [
    "from captum.attr import DeepLiftShap, LayerDeepLiftShap"
   ]
  },
  {
   "cell_type": "code",
   "execution_count": 4,
   "id": "95f2a352",
   "metadata": {},
   "outputs": [],
   "source": [
    "%load_ext autoreload"
   ]
  },
  {
   "cell_type": "code",
   "execution_count": 5,
   "id": "118e831b",
   "metadata": {},
   "outputs": [],
   "source": [
    "%autoreload 2"
   ]
  },
  {
   "cell_type": "code",
   "execution_count": 6,
   "id": "b10a33d6",
   "metadata": {},
   "outputs": [],
   "source": [
    "from pollock.utils import train_and_save_model, load_model, get_prediction_dataloader, predict_adata, get_splits\n",
    "from pollock.explain import explain_adata, explain_predictions"
   ]
  },
  {
   "cell_type": "code",
   "execution_count": 35,
   "id": "1596d2f2",
   "metadata": {},
   "outputs": [
    {
     "data": {
      "text/plain": [
       "AnnData object with n_obs × n_vars = 98564 × 27131\n",
       "    obs: 'cell_type', 'barcode', 'sample'"
      ]
     },
     "execution_count": 35,
     "metadata": {},
     "output_type": "execute_result"
    }
   ],
   "source": [
    "a = sc.read_h5ad('/data/pollock/benchmarking/pollock_datasets/scRNAseq/brca.h5ad')\n",
    "a"
   ]
  },
  {
   "cell_type": "code",
   "execution_count": 64,
   "id": "ecc0aad2",
   "metadata": {},
   "outputs": [],
   "source": [
    "train_ids, val_ids = get_splits(a, 'cell_type', 500, oversample=True)"
   ]
  },
  {
   "cell_type": "code",
   "execution_count": 65,
   "id": "b3b224cf",
   "metadata": {},
   "outputs": [
    {
     "data": {
      "text/plain": [
       "(6500, 92757)"
      ]
     },
     "execution_count": 65,
     "metadata": {},
     "output_type": "execute_result"
    }
   ],
   "source": [
    "len(train_ids), len(val_ids)"
   ]
  },
  {
   "cell_type": "code",
   "execution_count": 66,
   "id": "0e615011",
   "metadata": {},
   "outputs": [],
   "source": [
    "v2, _ = get_splits(a[val_ids], 'cell_type', 500, oversample=True, split=1.)"
   ]
  },
  {
   "cell_type": "code",
   "execution_count": 67,
   "id": "1a36f31c",
   "metadata": {},
   "outputs": [
    {
     "data": {
      "text/plain": [
       "6500"
      ]
     },
     "execution_count": 67,
     "metadata": {},
     "output_type": "execute_result"
    }
   ],
   "source": [
    "len(v2)"
   ]
  },
  {
   "cell_type": "code",
   "execution_count": 68,
   "id": "179ecc10",
   "metadata": {},
   "outputs": [
    {
     "data": {
      "text/plain": [
       "Counter({'CD8 T cell': 11649,\n",
       "         'Endothelial': 6188,\n",
       "         'Fibroblast': 14769,\n",
       "         'Malignant': 27884,\n",
       "         'NK': 2958,\n",
       "         'Monocyte': 9824,\n",
       "         'Treg': 4404,\n",
       "         'CD4 T cell': 11184,\n",
       "         'B cell': 2972,\n",
       "         'Plasma': 4879,\n",
       "         'Mast': 746,\n",
       "         'Dendritic': 592,\n",
       "         'Erythrocyte': 515})"
      ]
     },
     "execution_count": 68,
     "metadata": {},
     "output_type": "execute_result"
    }
   ],
   "source": [
    "Counter(a.obs['cell_type'])"
   ]
  },
  {
   "cell_type": "code",
   "execution_count": 69,
   "id": "311c7c68",
   "metadata": {},
   "outputs": [
    {
     "data": {
      "text/plain": [
       "Counter({'CD8 T cell': 500,\n",
       "         'Endothelial': 500,\n",
       "         'Fibroblast': 500,\n",
       "         'Malignant': 500,\n",
       "         'NK': 500,\n",
       "         'Monocyte': 500,\n",
       "         'Treg': 500,\n",
       "         'CD4 T cell': 500,\n",
       "         'B cell': 500,\n",
       "         'Plasma': 500,\n",
       "         'Mast': 500,\n",
       "         'Dendritic': 500,\n",
       "         'Erythrocyte': 500})"
      ]
     },
     "execution_count": 69,
     "metadata": {},
     "output_type": "execute_result"
    }
   ],
   "source": [
    "from collections import Counter\n",
    "Counter(a[train_ids].obs['cell_type'])"
   ]
  },
  {
   "cell_type": "code",
   "execution_count": 70,
   "id": "92d9ac02",
   "metadata": {},
   "outputs": [
    {
     "data": {
      "text/plain": [
       "Counter({'CD8 T cell': 11160,\n",
       "         'Endothelial': 5702,\n",
       "         'Fibroblast': 14273,\n",
       "         'Malignant': 27389,\n",
       "         'NK': 2504,\n",
       "         'Monocyte': 9335,\n",
       "         'Treg': 3938,\n",
       "         'CD4 T cell': 10693,\n",
       "         'B cell': 2511,\n",
       "         'Plasma': 4414,\n",
       "         'Mast': 380,\n",
       "         'Erythrocyte': 205,\n",
       "         'Dendritic': 253})"
      ]
     },
     "execution_count": 70,
     "metadata": {},
     "output_type": "execute_result"
    }
   ],
   "source": [
    "from collections import Counter\n",
    "Counter(a[val_ids].obs['cell_type'])"
   ]
  },
  {
   "cell_type": "code",
   "execution_count": 71,
   "id": "1583bb23",
   "metadata": {},
   "outputs": [
    {
     "data": {
      "text/plain": [
       "Counter({'CD8 T cell': 500,\n",
       "         'Endothelial': 500,\n",
       "         'Fibroblast': 500,\n",
       "         'Malignant': 500,\n",
       "         'NK': 500,\n",
       "         'Monocyte': 500,\n",
       "         'Treg': 500,\n",
       "         'CD4 T cell': 500,\n",
       "         'B cell': 500,\n",
       "         'Plasma': 500,\n",
       "         'Mast': 500,\n",
       "         'Erythrocyte': 500,\n",
       "         'Dendritic': 500})"
      ]
     },
     "execution_count": 71,
     "metadata": {},
     "output_type": "execute_result"
    }
   ],
   "source": [
    "Counter(a[v2].obs['cell_type'])"
   ]
  },
  {
   "cell_type": "code",
   "execution_count": null,
   "id": "eaa170f7",
   "metadata": {},
   "outputs": [],
   "source": []
  },
  {
   "cell_type": "code",
   "execution_count": 7,
   "id": "8b76c738",
   "metadata": {},
   "outputs": [
    {
     "data": {
      "text/plain": [
       "((6105, 27131), (5748, 27131))"
      ]
     },
     "execution_count": 7,
     "metadata": {},
     "output_type": "execute_result"
    }
   ],
   "source": [
    "train, val = (sc.read_h5ad('/data/pollock/benchmarking/pollock_datasets/scRNAseq/brca_train.h5ad'),\n",
    "              sc.read_h5ad('/data/pollock/benchmarking/pollock_datasets/scRNAseq/brca_val.h5ad'))\n",
    "train.shape, val.shape"
   ]
  },
  {
   "cell_type": "code",
   "execution_count": 8,
   "id": "e77600d2",
   "metadata": {},
   "outputs": [],
   "source": [
    "args = {\n",
    "    'use_cuda': True,\n",
    "    'epochs': 2,\n",
    "    'cell_type_key': 'cell_type',\n",
    "    'module_filepath': '/data/pollock/modules/sandbox/brca_v1'\n",
    "}"
   ]
  },
  {
   "cell_type": "code",
   "execution_count": 9,
   "id": "9d327821",
   "metadata": {
    "scrolled": true
   },
   "outputs": [
    {
     "name": "stderr",
     "output_type": "stream",
     "text": [
      "2022-01-12 09:46:36,498 beginning training\n",
      "2022-01-12 09:46:36,499 creating dataloaders\n",
      "2022-01-12 09:46:38,211 22285 genes overlap with model after filtering\n",
      "2022-01-12 09:46:38,213 1268 genes missing from dataset after filtering\n",
      "2022-01-12 09:46:40,257 creating model\n"
     ]
    },
    {
     "name": "stdout",
     "output_type": "stream",
     "text": [
      "['B cell', 'CD4 T cell', 'CD8 T cell', 'Dendritic', 'Endothelial', 'Erythrocyte', 'Fibroblast', 'Malignant', 'Mast', 'Monocyte', 'NK', 'Plasma', 'Treg']\n"
     ]
    },
    {
     "name": "stderr",
     "output_type": "stream",
     "text": [
      "2022-01-12 09:46:43,584 training dataset size: 6105, validation dataset size: 5748, cell types: ['B cell', 'CD4 T cell', 'CD8 T cell', 'Dendritic', 'Endothelial', 'Erythrocyte', 'Fibroblast', 'Malignant', 'Mast', 'Monocyte', 'NK', 'Plasma', 'Treg']\n",
      "2022-01-12 09:46:43,585 fitting model\n"
     ]
    },
    {
     "name": "stdout",
     "output_type": "stream",
     "text": [
      "['B cell', 'CD4 T cell', 'CD8 T cell', 'Dendritic', 'Endothelial', 'Erythrocyte', 'Fibroblast', 'Malignant', 'Mast', 'Monocyte', 'NK', 'Plasma', 'Treg']\n"
     ]
    },
    {
     "name": "stderr",
     "output_type": "stream",
     "text": [
      "2022-01-12 09:46:48,437 epoch: 0, train loss: 2.711, val loss: 2.489, zinb loss: 0.234, kl loss: 88.206, clf loss: 2.283, time: 3.46\n",
      "2022-01-12 09:46:53,054 epoch: 1, train loss: 2.376, val loss: 2.373, zinb loss: 0.219, kl loss: 94.210, clf loss: 2.169, time: 3.23\n",
      "2022-01-12 09:46:53,055 model fitting finished\n",
      "2022-01-12 09:46:53,056 saving model to /data/pollock/modules/sandbox/brca_v1\n"
     ]
    }
   ],
   "source": [
    "train_and_save_model(train, val, args)"
   ]
  },
  {
   "cell_type": "code",
   "execution_count": 10,
   "id": "c50be537",
   "metadata": {},
   "outputs": [],
   "source": [
    "model = load_model(args['module_filepath'])\n",
    "model = model.cuda()"
   ]
  },
  {
   "cell_type": "code",
   "execution_count": 11,
   "id": "be43eee0",
   "metadata": {},
   "outputs": [
    {
     "name": "stderr",
     "output_type": "stream",
     "text": [
      "2022-01-10 12:07:44,709 22285 genes overlap with model after filtering\n",
      "2022-01-10 12:07:44,711 1268 genes missing from dataset after filtering\n"
     ]
    }
   ],
   "source": [
    "dl = get_prediction_dataloader(val, model.genes)"
   ]
  },
  {
   "cell_type": "code",
   "execution_count": 12,
   "id": "20e1cb2a",
   "metadata": {
    "scrolled": true
   },
   "outputs": [
    {
     "data": {
      "text/plain": [
       "PollockModel(\n",
       "  (encoder): Sequential(\n",
       "    (0): Linear(in_features=23553, out_features=512, bias=True)\n",
       "    (1): ReLU()\n",
       "    (2): Linear(in_features=512, out_features=128, bias=True)\n",
       "    (3): ReLU()\n",
       "  )\n",
       "  (mu): Linear(in_features=128, out_features=64, bias=True)\n",
       "  (var): Linear(in_features=128, out_features=64, bias=True)\n",
       "  (decoder): Sequential(\n",
       "    (0): Linear(in_features=64, out_features=128, bias=True)\n",
       "    (1): ReLU()\n",
       "    (2): Linear(in_features=128, out_features=512, bias=True)\n",
       "    (3): ReLU()\n",
       "  )\n",
       "  (disp_decoder): Sequential(\n",
       "    (0): Linear(in_features=512, out_features=23553, bias=True)\n",
       "    (1): DispAct()\n",
       "  )\n",
       "  (mean_decoder): Sequential(\n",
       "    (0): Linear(in_features=512, out_features=23553, bias=True)\n",
       "    (1): MeanAct()\n",
       "  )\n",
       "  (drop_decoder): Sequential(\n",
       "    (0): Linear(in_features=512, out_features=23553, bias=True)\n",
       "    (1): Sigmoid()\n",
       "  )\n",
       "  (prediction_head): Sequential(\n",
       "    (0): Linear(in_features=64, out_features=64, bias=True)\n",
       "    (1): ReLU()\n",
       "    (2): Linear(in_features=64, out_features=13, bias=True)\n",
       "    (3): Softmax(dim=1)\n",
       "  )\n",
       "  (zinb_loss): ZINBLoss()\n",
       "  (ce_loss): CrossEntropyLoss()\n",
       ")"
      ]
     },
     "execution_count": 12,
     "metadata": {},
     "output_type": "execute_result"
    }
   ],
   "source": [
    "model.eval()"
   ]
  },
  {
   "cell_type": "code",
   "execution_count": 13,
   "id": "0d6ed0ec",
   "metadata": {},
   "outputs": [
    {
     "name": "stderr",
     "output_type": "stream",
     "text": [
      "2022-01-10 12:07:52,726 22285 genes overlap with model after filtering\n",
      "2022-01-10 12:07:52,727 1268 genes missing from dataset after filtering\n"
     ]
    },
    {
     "data": {
      "text/plain": [
       "AnnData object with n_obs × n_vars = 5748 × 23553\n",
       "    obs: 'cell_type', 'barcode', 'sample', 'n_counts', 'size_factors', 'y_pred', 'prediction_prob', 'predicted_cell_type'\n",
       "    var: 'mean', 'std'\n",
       "    uns: 'log1p'\n",
       "    obsm: 'X_emb', 'X_umap', 'prediction_probs'"
      ]
     },
     "execution_count": 13,
     "metadata": {},
     "output_type": "execute_result"
    }
   ],
   "source": [
    "a = predict_adata(model, val)\n",
    "a"
   ]
  },
  {
   "cell_type": "code",
   "execution_count": 14,
   "id": "67e24571",
   "metadata": {},
   "outputs": [
    {
     "data": {
      "text/html": [
       "<div>\n",
       "<style scoped>\n",
       "    .dataframe tbody tr th:only-of-type {\n",
       "        vertical-align: middle;\n",
       "    }\n",
       "\n",
       "    .dataframe tbody tr th {\n",
       "        vertical-align: top;\n",
       "    }\n",
       "\n",
       "    .dataframe thead th {\n",
       "        text-align: right;\n",
       "    }\n",
       "</style>\n",
       "<table border=\"1\" class=\"dataframe\">\n",
       "  <thead>\n",
       "    <tr style=\"text-align: right;\">\n",
       "      <th></th>\n",
       "      <th>cell_type</th>\n",
       "      <th>barcode</th>\n",
       "      <th>sample</th>\n",
       "      <th>n_counts</th>\n",
       "      <th>size_factors</th>\n",
       "      <th>y_pred</th>\n",
       "      <th>prediction_prob</th>\n",
       "      <th>predicted_cell_type</th>\n",
       "    </tr>\n",
       "  </thead>\n",
       "  <tbody>\n",
       "    <tr>\n",
       "      <th>0_AACCAACTCCACTAGA-1</th>\n",
       "      <td>Endothelial</td>\n",
       "      <td>AACCAACTCCACTAGA-1</td>\n",
       "      <td>0</td>\n",
       "      <td>4712.0</td>\n",
       "      <td>1.213182</td>\n",
       "      <td>4</td>\n",
       "      <td>0.979209</td>\n",
       "      <td>Endothelial</td>\n",
       "    </tr>\n",
       "    <tr>\n",
       "      <th>0_AACCCAAAGACGAGCT-1</th>\n",
       "      <td>NK</td>\n",
       "      <td>AACCCAAAGACGAGCT-1</td>\n",
       "      <td>0</td>\n",
       "      <td>4732.0</td>\n",
       "      <td>1.218332</td>\n",
       "      <td>10</td>\n",
       "      <td>0.937063</td>\n",
       "      <td>NK</td>\n",
       "    </tr>\n",
       "    <tr>\n",
       "      <th>0_AACGTCAGTTTACACG-1</th>\n",
       "      <td>Endothelial</td>\n",
       "      <td>AACGTCAGTTTACACG-1</td>\n",
       "      <td>0</td>\n",
       "      <td>3294.0</td>\n",
       "      <td>0.848095</td>\n",
       "      <td>4</td>\n",
       "      <td>0.826345</td>\n",
       "      <td>Endothelial</td>\n",
       "    </tr>\n",
       "    <tr>\n",
       "      <th>0_AACTTCTGTCCAGAAG-1</th>\n",
       "      <td>CD8 T cell</td>\n",
       "      <td>AACTTCTGTCCAGAAG-1</td>\n",
       "      <td>0</td>\n",
       "      <td>3202.0</td>\n",
       "      <td>0.824408</td>\n",
       "      <td>10</td>\n",
       "      <td>0.411445</td>\n",
       "      <td>NK</td>\n",
       "    </tr>\n",
       "    <tr>\n",
       "      <th>0_AAGCCATAGTGATTCC-1</th>\n",
       "      <td>Endothelial</td>\n",
       "      <td>AAGCCATAGTGATTCC-1</td>\n",
       "      <td>0</td>\n",
       "      <td>4088.0</td>\n",
       "      <td>1.052523</td>\n",
       "      <td>4</td>\n",
       "      <td>0.935567</td>\n",
       "      <td>Endothelial</td>\n",
       "    </tr>\n",
       "    <tr>\n",
       "      <th>...</th>\n",
       "      <td>...</td>\n",
       "      <td>...</td>\n",
       "      <td>...</td>\n",
       "      <td>...</td>\n",
       "      <td>...</td>\n",
       "      <td>...</td>\n",
       "      <td>...</td>\n",
       "      <td>...</td>\n",
       "    </tr>\n",
       "    <tr>\n",
       "      <th>29_TTTATGCCAGCCCAGT-1</th>\n",
       "      <td>Fibroblast</td>\n",
       "      <td>TTTATGCCAGCCCAGT-1</td>\n",
       "      <td>29</td>\n",
       "      <td>4480.0</td>\n",
       "      <td>1.153450</td>\n",
       "      <td>6</td>\n",
       "      <td>0.710459</td>\n",
       "      <td>Fibroblast</td>\n",
       "    </tr>\n",
       "    <tr>\n",
       "      <th>29_TTTCATGGTCGACTTA-1</th>\n",
       "      <td>Treg</td>\n",
       "      <td>TTTCATGGTCGACTTA-1</td>\n",
       "      <td>29</td>\n",
       "      <td>4580.0</td>\n",
       "      <td>1.179197</td>\n",
       "      <td>2</td>\n",
       "      <td>0.123620</td>\n",
       "      <td>CD8 T cell</td>\n",
       "    </tr>\n",
       "    <tr>\n",
       "      <th>29_TTTCCTCGTTAGCGGA-1</th>\n",
       "      <td>Treg</td>\n",
       "      <td>TTTCCTCGTTAGCGGA-1</td>\n",
       "      <td>29</td>\n",
       "      <td>4525.0</td>\n",
       "      <td>1.165036</td>\n",
       "      <td>2</td>\n",
       "      <td>0.138950</td>\n",
       "      <td>CD8 T cell</td>\n",
       "    </tr>\n",
       "    <tr>\n",
       "      <th>29_TTTGACTCATGGGATG-1</th>\n",
       "      <td>Plasma</td>\n",
       "      <td>TTTGACTCATGGGATG-1</td>\n",
       "      <td>29</td>\n",
       "      <td>4452.0</td>\n",
       "      <td>1.146241</td>\n",
       "      <td>11</td>\n",
       "      <td>0.875787</td>\n",
       "      <td>Plasma</td>\n",
       "    </tr>\n",
       "    <tr>\n",
       "      <th>29_TTTGGTTCAGTTTCGA-1</th>\n",
       "      <td>CD8 T cell</td>\n",
       "      <td>TTTGGTTCAGTTTCGA-1</td>\n",
       "      <td>29</td>\n",
       "      <td>3414.0</td>\n",
       "      <td>0.878991</td>\n",
       "      <td>2</td>\n",
       "      <td>0.199444</td>\n",
       "      <td>CD8 T cell</td>\n",
       "    </tr>\n",
       "  </tbody>\n",
       "</table>\n",
       "<p>5748 rows × 8 columns</p>\n",
       "</div>"
      ],
      "text/plain": [
       "                         cell_type             barcode  sample  n_counts  \\\n",
       "0_AACCAACTCCACTAGA-1   Endothelial  AACCAACTCCACTAGA-1       0    4712.0   \n",
       "0_AACCCAAAGACGAGCT-1            NK  AACCCAAAGACGAGCT-1       0    4732.0   \n",
       "0_AACGTCAGTTTACACG-1   Endothelial  AACGTCAGTTTACACG-1       0    3294.0   \n",
       "0_AACTTCTGTCCAGAAG-1    CD8 T cell  AACTTCTGTCCAGAAG-1       0    3202.0   \n",
       "0_AAGCCATAGTGATTCC-1   Endothelial  AAGCCATAGTGATTCC-1       0    4088.0   \n",
       "...                            ...                 ...     ...       ...   \n",
       "29_TTTATGCCAGCCCAGT-1   Fibroblast  TTTATGCCAGCCCAGT-1      29    4480.0   \n",
       "29_TTTCATGGTCGACTTA-1         Treg  TTTCATGGTCGACTTA-1      29    4580.0   \n",
       "29_TTTCCTCGTTAGCGGA-1         Treg  TTTCCTCGTTAGCGGA-1      29    4525.0   \n",
       "29_TTTGACTCATGGGATG-1       Plasma  TTTGACTCATGGGATG-1      29    4452.0   \n",
       "29_TTTGGTTCAGTTTCGA-1   CD8 T cell  TTTGGTTCAGTTTCGA-1      29    3414.0   \n",
       "\n",
       "                       size_factors  y_pred  prediction_prob  \\\n",
       "0_AACCAACTCCACTAGA-1       1.213182       4         0.979209   \n",
       "0_AACCCAAAGACGAGCT-1       1.218332      10         0.937063   \n",
       "0_AACGTCAGTTTACACG-1       0.848095       4         0.826345   \n",
       "0_AACTTCTGTCCAGAAG-1       0.824408      10         0.411445   \n",
       "0_AAGCCATAGTGATTCC-1       1.052523       4         0.935567   \n",
       "...                             ...     ...              ...   \n",
       "29_TTTATGCCAGCCCAGT-1      1.153450       6         0.710459   \n",
       "29_TTTCATGGTCGACTTA-1      1.179197       2         0.123620   \n",
       "29_TTTCCTCGTTAGCGGA-1      1.165036       2         0.138950   \n",
       "29_TTTGACTCATGGGATG-1      1.146241      11         0.875787   \n",
       "29_TTTGGTTCAGTTTCGA-1      0.878991       2         0.199444   \n",
       "\n",
       "                      predicted_cell_type  \n",
       "0_AACCAACTCCACTAGA-1          Endothelial  \n",
       "0_AACCCAAAGACGAGCT-1                   NK  \n",
       "0_AACGTCAGTTTACACG-1          Endothelial  \n",
       "0_AACTTCTGTCCAGAAG-1                   NK  \n",
       "0_AAGCCATAGTGATTCC-1          Endothelial  \n",
       "...                                   ...  \n",
       "29_TTTATGCCAGCCCAGT-1          Fibroblast  \n",
       "29_TTTCATGGTCGACTTA-1          CD8 T cell  \n",
       "29_TTTCCTCGTTAGCGGA-1          CD8 T cell  \n",
       "29_TTTGACTCATGGGATG-1              Plasma  \n",
       "29_TTTGGTTCAGTTTCGA-1          CD8 T cell  \n",
       "\n",
       "[5748 rows x 8 columns]"
      ]
     },
     "execution_count": 14,
     "metadata": {},
     "output_type": "execute_result"
    }
   ],
   "source": [
    "a.obs"
   ]
  },
  {
   "cell_type": "code",
   "execution_count": 15,
   "id": "b350124a",
   "metadata": {},
   "outputs": [],
   "source": [
    "inputs = torch.tensor(a.X[np.random.choice(np.arange(a.shape[0]), size=100, replace=False)])\n",
    "baseline = torch.tensor(a.X[np.random.choice(np.arange(a.shape[0]), size=100, replace=False)])"
   ]
  },
  {
   "cell_type": "code",
   "execution_count": 16,
   "id": "87e4feca",
   "metadata": {},
   "outputs": [],
   "source": [
    "class AttributionWrapper(torch.nn.Module):\n",
    "    def __init__(self, model):\n",
    "        super(AttributionWrapper, self).__init__()\n",
    "        self.model = model\n",
    "    \n",
    "    def forward(self, x):\n",
    "        result = self.model(x)\n",
    "        return result['y']"
   ]
  },
  {
   "cell_type": "code",
   "execution_count": 19,
   "id": "c5cbbd38",
   "metadata": {},
   "outputs": [],
   "source": [
    "model = model.to('cpu')\n",
    "attr_model = AttributionWrapper(model)"
   ]
  },
  {
   "cell_type": "code",
   "execution_count": 22,
   "id": "5a28ac23",
   "metadata": {},
   "outputs": [
    {
     "data": {
      "text/plain": [
       "['B cell',\n",
       " 'CD4 T cell',\n",
       " 'CD8 T cell',\n",
       " 'Dendritic',\n",
       " 'Endothelial',\n",
       " 'Erythrocyte',\n",
       " 'Fibroblast',\n",
       " 'Malignant',\n",
       " 'Mast',\n",
       " 'Monocyte',\n",
       " 'NK',\n",
       " 'Plasma',\n",
       " 'Treg']"
      ]
     },
     "execution_count": 22,
     "metadata": {},
     "output_type": "execute_result"
    }
   ],
   "source": [
    "model.classes"
   ]
  },
  {
   "cell_type": "code",
   "execution_count": 32,
   "id": "e10fe564",
   "metadata": {},
   "outputs": [],
   "source": [
    "ig = DeepLiftShap(attr_model)\n",
    "attributions, delta = ig.attribute(inputs, baseline, target=0, return_convergence_delta=True)"
   ]
  },
  {
   "cell_type": "code",
   "execution_count": 23,
   "id": "87c19ecd",
   "metadata": {},
   "outputs": [
    {
     "data": {
      "text/plain": [
       "(torch.Size([100, 23553]), torch.Size([10000]))"
      ]
     },
     "execution_count": 23,
     "metadata": {},
     "output_type": "execute_result"
    }
   ],
   "source": [
    "attributions.shape, delta.shape"
   ]
  },
  {
   "cell_type": "code",
   "execution_count": 24,
   "id": "ae37d92a",
   "metadata": {},
   "outputs": [
    {
     "data": {
      "text/plain": [
       "tensor([ 0.0167, -0.0210,  0.0378,  ...,  0.0022,  0.0225,  0.0152])"
      ]
     },
     "execution_count": 24,
     "metadata": {},
     "output_type": "execute_result"
    }
   ],
   "source": [
    "delta"
   ]
  },
  {
   "cell_type": "code",
   "execution_count": null,
   "id": "dc08990e",
   "metadata": {},
   "outputs": [],
   "source": []
  },
  {
   "cell_type": "code",
   "execution_count": 29,
   "id": "503a9cdb",
   "metadata": {},
   "outputs": [
    {
     "name": "stderr",
     "output_type": "stream",
     "text": [
      "/home/estorrs/miniconda3/envs/pytorch_pollock/lib/python3.8/site-packages/captum/attr/_core/deep_lift.py:320: UserWarning: Setting forward, backward hooks and attributes on non-linear\n",
      "               activations. The hooks and attributes will be removed\n",
      "            after the attribution is finished\n",
      "  warnings.warn(\n"
     ]
    },
    {
     "data": {
      "text/html": [
       "<div>\n",
       "<style scoped>\n",
       "    .dataframe tbody tr th:only-of-type {\n",
       "        vertical-align: middle;\n",
       "    }\n",
       "\n",
       "    .dataframe tbody tr th {\n",
       "        vertical-align: top;\n",
       "    }\n",
       "\n",
       "    .dataframe thead th {\n",
       "        text-align: right;\n",
       "    }\n",
       "</style>\n",
       "<table border=\"1\" class=\"dataframe\">\n",
       "  <thead>\n",
       "    <tr style=\"text-align: right;\">\n",
       "      <th></th>\n",
       "      <th>AL627309.1</th>\n",
       "      <th>AL627309.3</th>\n",
       "      <th>AL669831.2</th>\n",
       "      <th>AL669831.5</th>\n",
       "      <th>FAM87B</th>\n",
       "      <th>LINC00115</th>\n",
       "      <th>FAM41C</th>\n",
       "      <th>AL645608.5</th>\n",
       "      <th>AL645608.1</th>\n",
       "      <th>SAMD11</th>\n",
       "      <th>...</th>\n",
       "      <th>AC145212.1</th>\n",
       "      <th>MAFIP</th>\n",
       "      <th>AC011043.1</th>\n",
       "      <th>AL592183.1</th>\n",
       "      <th>AC007325.4</th>\n",
       "      <th>AL354822.1</th>\n",
       "      <th>AC004556.1</th>\n",
       "      <th>AC233755.2</th>\n",
       "      <th>AC233755.1</th>\n",
       "      <th>AC240274.1</th>\n",
       "    </tr>\n",
       "  </thead>\n",
       "  <tbody>\n",
       "    <tr>\n",
       "      <th>13_AGCGTCGAGCACTAAA-1</th>\n",
       "      <td>0.0</td>\n",
       "      <td>0.0</td>\n",
       "      <td>0.0</td>\n",
       "      <td>0.000006</td>\n",
       "      <td>0.0</td>\n",
       "      <td>2.005946e-05</td>\n",
       "      <td>0.0</td>\n",
       "      <td>0.0</td>\n",
       "      <td>-5.799095e-07</td>\n",
       "      <td>0.000004</td>\n",
       "      <td>...</td>\n",
       "      <td>0.0</td>\n",
       "      <td>-2.656010e-06</td>\n",
       "      <td>-2.887683e-07</td>\n",
       "      <td>-2.510423e-06</td>\n",
       "      <td>0.0</td>\n",
       "      <td>0.0</td>\n",
       "      <td>-0.000004</td>\n",
       "      <td>0.0</td>\n",
       "      <td>0.0</td>\n",
       "      <td>1.983775e-07</td>\n",
       "    </tr>\n",
       "    <tr>\n",
       "      <th>4_GATCAGTTCTGCCCTA-1</th>\n",
       "      <td>0.0</td>\n",
       "      <td>0.0</td>\n",
       "      <td>0.0</td>\n",
       "      <td>0.000002</td>\n",
       "      <td>0.0</td>\n",
       "      <td>5.630121e-07</td>\n",
       "      <td>0.0</td>\n",
       "      <td>0.0</td>\n",
       "      <td>-3.570036e-06</td>\n",
       "      <td>0.000002</td>\n",
       "      <td>...</td>\n",
       "      <td>0.0</td>\n",
       "      <td>-5.027580e-07</td>\n",
       "      <td>-1.551342e-07</td>\n",
       "      <td>-1.153892e-08</td>\n",
       "      <td>0.0</td>\n",
       "      <td>0.0</td>\n",
       "      <td>-0.000004</td>\n",
       "      <td>0.0</td>\n",
       "      <td>0.0</td>\n",
       "      <td>-1.624646e-04</td>\n",
       "    </tr>\n",
       "    <tr>\n",
       "      <th>29_TTACTGTGTAGCTAAA-1</th>\n",
       "      <td>0.0</td>\n",
       "      <td>0.0</td>\n",
       "      <td>0.0</td>\n",
       "      <td>0.000001</td>\n",
       "      <td>0.0</td>\n",
       "      <td>8.344631e-08</td>\n",
       "      <td>0.0</td>\n",
       "      <td>0.0</td>\n",
       "      <td>-2.345417e-05</td>\n",
       "      <td>0.000007</td>\n",
       "      <td>...</td>\n",
       "      <td>0.0</td>\n",
       "      <td>-2.363487e-06</td>\n",
       "      <td>-4.126609e-06</td>\n",
       "      <td>9.380979e-07</td>\n",
       "      <td>0.0</td>\n",
       "      <td>0.0</td>\n",
       "      <td>-0.000005</td>\n",
       "      <td>0.0</td>\n",
       "      <td>0.0</td>\n",
       "      <td>2.665176e-06</td>\n",
       "    </tr>\n",
       "    <tr>\n",
       "      <th>29_CTGTGGGAGAGCATCG-1</th>\n",
       "      <td>0.0</td>\n",
       "      <td>0.0</td>\n",
       "      <td>0.0</td>\n",
       "      <td>0.000001</td>\n",
       "      <td>0.0</td>\n",
       "      <td>3.254394e-07</td>\n",
       "      <td>0.0</td>\n",
       "      <td>0.0</td>\n",
       "      <td>-1.814887e-05</td>\n",
       "      <td>0.000005</td>\n",
       "      <td>...</td>\n",
       "      <td>0.0</td>\n",
       "      <td>-2.405773e-06</td>\n",
       "      <td>2.414603e-06</td>\n",
       "      <td>1.251127e-06</td>\n",
       "      <td>0.0</td>\n",
       "      <td>0.0</td>\n",
       "      <td>-0.000007</td>\n",
       "      <td>0.0</td>\n",
       "      <td>0.0</td>\n",
       "      <td>5.628926e-06</td>\n",
       "    </tr>\n",
       "    <tr>\n",
       "      <th>28_ACTGATGCACACCTAA-1</th>\n",
       "      <td>0.0</td>\n",
       "      <td>0.0</td>\n",
       "      <td>0.0</td>\n",
       "      <td>0.000001</td>\n",
       "      <td>0.0</td>\n",
       "      <td>3.054914e-08</td>\n",
       "      <td>0.0</td>\n",
       "      <td>0.0</td>\n",
       "      <td>2.477165e-06</td>\n",
       "      <td>0.000001</td>\n",
       "      <td>...</td>\n",
       "      <td>0.0</td>\n",
       "      <td>-1.987730e-06</td>\n",
       "      <td>-3.394456e-07</td>\n",
       "      <td>2.116943e-07</td>\n",
       "      <td>0.0</td>\n",
       "      <td>0.0</td>\n",
       "      <td>-0.000003</td>\n",
       "      <td>0.0</td>\n",
       "      <td>0.0</td>\n",
       "      <td>1.853686e-08</td>\n",
       "    </tr>\n",
       "    <tr>\n",
       "      <th>...</th>\n",
       "      <td>...</td>\n",
       "      <td>...</td>\n",
       "      <td>...</td>\n",
       "      <td>...</td>\n",
       "      <td>...</td>\n",
       "      <td>...</td>\n",
       "      <td>...</td>\n",
       "      <td>...</td>\n",
       "      <td>...</td>\n",
       "      <td>...</td>\n",
       "      <td>...</td>\n",
       "      <td>...</td>\n",
       "      <td>...</td>\n",
       "      <td>...</td>\n",
       "      <td>...</td>\n",
       "      <td>...</td>\n",
       "      <td>...</td>\n",
       "      <td>...</td>\n",
       "      <td>...</td>\n",
       "      <td>...</td>\n",
       "      <td>...</td>\n",
       "    </tr>\n",
       "    <tr>\n",
       "      <th>9_TAAGCGTAGTAGCAAT-1</th>\n",
       "      <td>0.0</td>\n",
       "      <td>0.0</td>\n",
       "      <td>0.0</td>\n",
       "      <td>0.000002</td>\n",
       "      <td>0.0</td>\n",
       "      <td>1.153698e-06</td>\n",
       "      <td>0.0</td>\n",
       "      <td>0.0</td>\n",
       "      <td>-1.241570e-05</td>\n",
       "      <td>0.000015</td>\n",
       "      <td>...</td>\n",
       "      <td>0.0</td>\n",
       "      <td>-5.503713e-07</td>\n",
       "      <td>-1.283007e-06</td>\n",
       "      <td>-9.445744e-07</td>\n",
       "      <td>0.0</td>\n",
       "      <td>0.0</td>\n",
       "      <td>-0.000007</td>\n",
       "      <td>0.0</td>\n",
       "      <td>0.0</td>\n",
       "      <td>1.443942e-06</td>\n",
       "    </tr>\n",
       "    <tr>\n",
       "      <th>28_TTGGTTTCACTGGATT-1</th>\n",
       "      <td>0.0</td>\n",
       "      <td>0.0</td>\n",
       "      <td>0.0</td>\n",
       "      <td>0.000003</td>\n",
       "      <td>0.0</td>\n",
       "      <td>3.271004e-08</td>\n",
       "      <td>0.0</td>\n",
       "      <td>0.0</td>\n",
       "      <td>2.096097e-06</td>\n",
       "      <td>-0.000001</td>\n",
       "      <td>...</td>\n",
       "      <td>0.0</td>\n",
       "      <td>-4.119359e-07</td>\n",
       "      <td>4.645167e-07</td>\n",
       "      <td>3.326673e-07</td>\n",
       "      <td>0.0</td>\n",
       "      <td>0.0</td>\n",
       "      <td>-0.000003</td>\n",
       "      <td>0.0</td>\n",
       "      <td>0.0</td>\n",
       "      <td>2.494134e-06</td>\n",
       "    </tr>\n",
       "    <tr>\n",
       "      <th>28_TCAGTCCGTCCAGCCA-1</th>\n",
       "      <td>0.0</td>\n",
       "      <td>0.0</td>\n",
       "      <td>0.0</td>\n",
       "      <td>0.000003</td>\n",
       "      <td>0.0</td>\n",
       "      <td>6.616094e-07</td>\n",
       "      <td>0.0</td>\n",
       "      <td>0.0</td>\n",
       "      <td>-3.374186e-06</td>\n",
       "      <td>0.000003</td>\n",
       "      <td>...</td>\n",
       "      <td>0.0</td>\n",
       "      <td>-2.436832e-07</td>\n",
       "      <td>-5.802395e-07</td>\n",
       "      <td>-2.424132e-07</td>\n",
       "      <td>0.0</td>\n",
       "      <td>0.0</td>\n",
       "      <td>-0.000006</td>\n",
       "      <td>0.0</td>\n",
       "      <td>0.0</td>\n",
       "      <td>2.545161e-06</td>\n",
       "    </tr>\n",
       "    <tr>\n",
       "      <th>3_TACGGGCCATTCACCC-1</th>\n",
       "      <td>0.0</td>\n",
       "      <td>0.0</td>\n",
       "      <td>0.0</td>\n",
       "      <td>0.000001</td>\n",
       "      <td>0.0</td>\n",
       "      <td>7.128014e-07</td>\n",
       "      <td>0.0</td>\n",
       "      <td>0.0</td>\n",
       "      <td>-5.477696e-05</td>\n",
       "      <td>0.000019</td>\n",
       "      <td>...</td>\n",
       "      <td>0.0</td>\n",
       "      <td>-1.558956e-06</td>\n",
       "      <td>2.187244e-06</td>\n",
       "      <td>-8.163144e-08</td>\n",
       "      <td>0.0</td>\n",
       "      <td>0.0</td>\n",
       "      <td>0.000003</td>\n",
       "      <td>0.0</td>\n",
       "      <td>0.0</td>\n",
       "      <td>3.904497e-06</td>\n",
       "    </tr>\n",
       "    <tr>\n",
       "      <th>4_AAGTTCGTCTGCCTGT-1</th>\n",
       "      <td>0.0</td>\n",
       "      <td>0.0</td>\n",
       "      <td>0.0</td>\n",
       "      <td>0.000003</td>\n",
       "      <td>0.0</td>\n",
       "      <td>5.810378e-07</td>\n",
       "      <td>0.0</td>\n",
       "      <td>0.0</td>\n",
       "      <td>-4.084143e-05</td>\n",
       "      <td>0.000004</td>\n",
       "      <td>...</td>\n",
       "      <td>0.0</td>\n",
       "      <td>-1.781409e-06</td>\n",
       "      <td>1.504639e-07</td>\n",
       "      <td>-5.717311e-07</td>\n",
       "      <td>0.0</td>\n",
       "      <td>0.0</td>\n",
       "      <td>-0.000008</td>\n",
       "      <td>0.0</td>\n",
       "      <td>0.0</td>\n",
       "      <td>1.307258e-06</td>\n",
       "    </tr>\n",
       "  </tbody>\n",
       "</table>\n",
       "<p>100 rows × 23553 columns</p>\n",
       "</div>"
      ],
      "text/plain": [
       "                       AL627309.1  AL627309.3  AL669831.2  AL669831.5  FAM87B  \\\n",
       "13_AGCGTCGAGCACTAAA-1         0.0         0.0         0.0    0.000006     0.0   \n",
       "4_GATCAGTTCTGCCCTA-1          0.0         0.0         0.0    0.000002     0.0   \n",
       "29_TTACTGTGTAGCTAAA-1         0.0         0.0         0.0    0.000001     0.0   \n",
       "29_CTGTGGGAGAGCATCG-1         0.0         0.0         0.0    0.000001     0.0   \n",
       "28_ACTGATGCACACCTAA-1         0.0         0.0         0.0    0.000001     0.0   \n",
       "...                           ...         ...         ...         ...     ...   \n",
       "9_TAAGCGTAGTAGCAAT-1          0.0         0.0         0.0    0.000002     0.0   \n",
       "28_TTGGTTTCACTGGATT-1         0.0         0.0         0.0    0.000003     0.0   \n",
       "28_TCAGTCCGTCCAGCCA-1         0.0         0.0         0.0    0.000003     0.0   \n",
       "3_TACGGGCCATTCACCC-1          0.0         0.0         0.0    0.000001     0.0   \n",
       "4_AAGTTCGTCTGCCTGT-1          0.0         0.0         0.0    0.000003     0.0   \n",
       "\n",
       "                          LINC00115  FAM41C  AL645608.5    AL645608.1  \\\n",
       "13_AGCGTCGAGCACTAAA-1  2.005946e-05     0.0         0.0 -5.799095e-07   \n",
       "4_GATCAGTTCTGCCCTA-1   5.630121e-07     0.0         0.0 -3.570036e-06   \n",
       "29_TTACTGTGTAGCTAAA-1  8.344631e-08     0.0         0.0 -2.345417e-05   \n",
       "29_CTGTGGGAGAGCATCG-1  3.254394e-07     0.0         0.0 -1.814887e-05   \n",
       "28_ACTGATGCACACCTAA-1  3.054914e-08     0.0         0.0  2.477165e-06   \n",
       "...                             ...     ...         ...           ...   \n",
       "9_TAAGCGTAGTAGCAAT-1   1.153698e-06     0.0         0.0 -1.241570e-05   \n",
       "28_TTGGTTTCACTGGATT-1  3.271004e-08     0.0         0.0  2.096097e-06   \n",
       "28_TCAGTCCGTCCAGCCA-1  6.616094e-07     0.0         0.0 -3.374186e-06   \n",
       "3_TACGGGCCATTCACCC-1   7.128014e-07     0.0         0.0 -5.477696e-05   \n",
       "4_AAGTTCGTCTGCCTGT-1   5.810378e-07     0.0         0.0 -4.084143e-05   \n",
       "\n",
       "                         SAMD11  ...  AC145212.1         MAFIP    AC011043.1  \\\n",
       "13_AGCGTCGAGCACTAAA-1  0.000004  ...         0.0 -2.656010e-06 -2.887683e-07   \n",
       "4_GATCAGTTCTGCCCTA-1   0.000002  ...         0.0 -5.027580e-07 -1.551342e-07   \n",
       "29_TTACTGTGTAGCTAAA-1  0.000007  ...         0.0 -2.363487e-06 -4.126609e-06   \n",
       "29_CTGTGGGAGAGCATCG-1  0.000005  ...         0.0 -2.405773e-06  2.414603e-06   \n",
       "28_ACTGATGCACACCTAA-1  0.000001  ...         0.0 -1.987730e-06 -3.394456e-07   \n",
       "...                         ...  ...         ...           ...           ...   \n",
       "9_TAAGCGTAGTAGCAAT-1   0.000015  ...         0.0 -5.503713e-07 -1.283007e-06   \n",
       "28_TTGGTTTCACTGGATT-1 -0.000001  ...         0.0 -4.119359e-07  4.645167e-07   \n",
       "28_TCAGTCCGTCCAGCCA-1  0.000003  ...         0.0 -2.436832e-07 -5.802395e-07   \n",
       "3_TACGGGCCATTCACCC-1   0.000019  ...         0.0 -1.558956e-06  2.187244e-06   \n",
       "4_AAGTTCGTCTGCCTGT-1   0.000004  ...         0.0 -1.781409e-06  1.504639e-07   \n",
       "\n",
       "                         AL592183.1  AC007325.4  AL354822.1  AC004556.1  \\\n",
       "13_AGCGTCGAGCACTAAA-1 -2.510423e-06         0.0         0.0   -0.000004   \n",
       "4_GATCAGTTCTGCCCTA-1  -1.153892e-08         0.0         0.0   -0.000004   \n",
       "29_TTACTGTGTAGCTAAA-1  9.380979e-07         0.0         0.0   -0.000005   \n",
       "29_CTGTGGGAGAGCATCG-1  1.251127e-06         0.0         0.0   -0.000007   \n",
       "28_ACTGATGCACACCTAA-1  2.116943e-07         0.0         0.0   -0.000003   \n",
       "...                             ...         ...         ...         ...   \n",
       "9_TAAGCGTAGTAGCAAT-1  -9.445744e-07         0.0         0.0   -0.000007   \n",
       "28_TTGGTTTCACTGGATT-1  3.326673e-07         0.0         0.0   -0.000003   \n",
       "28_TCAGTCCGTCCAGCCA-1 -2.424132e-07         0.0         0.0   -0.000006   \n",
       "3_TACGGGCCATTCACCC-1  -8.163144e-08         0.0         0.0    0.000003   \n",
       "4_AAGTTCGTCTGCCTGT-1  -5.717311e-07         0.0         0.0   -0.000008   \n",
       "\n",
       "                       AC233755.2  AC233755.1    AC240274.1  \n",
       "13_AGCGTCGAGCACTAAA-1         0.0         0.0  1.983775e-07  \n",
       "4_GATCAGTTCTGCCCTA-1          0.0         0.0 -1.624646e-04  \n",
       "29_TTACTGTGTAGCTAAA-1         0.0         0.0  2.665176e-06  \n",
       "29_CTGTGGGAGAGCATCG-1         0.0         0.0  5.628926e-06  \n",
       "28_ACTGATGCACACCTAA-1         0.0         0.0  1.853686e-08  \n",
       "...                           ...         ...           ...  \n",
       "9_TAAGCGTAGTAGCAAT-1          0.0         0.0  1.443942e-06  \n",
       "28_TTGGTTTCACTGGATT-1         0.0         0.0  2.494134e-06  \n",
       "28_TCAGTCCGTCCAGCCA-1         0.0         0.0  2.545161e-06  \n",
       "3_TACGGGCCATTCACCC-1          0.0         0.0  3.904497e-06  \n",
       "4_AAGTTCGTCTGCCTGT-1          0.0         0.0  1.307258e-06  \n",
       "\n",
       "[100 rows x 23553 columns]"
      ]
     },
     "execution_count": 29,
     "metadata": {},
     "output_type": "execute_result"
    }
   ],
   "source": [
    "e = explain_adata(model,\n",
    "                  a[np.random.choice(np.arange(a.shape[0]), size=100, replace=False)],\n",
    "                  a[np.random.choice(np.arange(a.shape[0]), size=100, replace=False)],\n",
    "                  target='B cell')\n",
    "e"
   ]
  },
  {
   "cell_type": "code",
   "execution_count": 34,
   "id": "97034a43",
   "metadata": {},
   "outputs": [
    {
     "data": {
      "text/plain": [
       "dict_keys(['B cell', 'CD4 T cell', 'CD8 T cell', 'Dendritic', 'Endothelial', 'Erythrocyte', 'Fibroblast', 'Malignant', 'Mast', 'Monocyte', 'NK', 'Plasma', 'Treg'])"
      ]
     },
     "execution_count": 34,
     "metadata": {},
     "output_type": "execute_result"
    }
   ],
   "source": [
    "r = explain_adata(model,\n",
    "                  a[np.random.choice(np.arange(a.shape[0]), size=10, replace=False)],\n",
    "                  a[np.random.choice(np.arange(a.shape[0]), size=10, replace=False)],\n",
    "                  target='all')\n",
    "r.keys()"
   ]
  },
  {
   "cell_type": "code",
   "execution_count": 36,
   "id": "f00f1b55",
   "metadata": {},
   "outputs": [
    {
     "data": {
      "text/plain": [
       "(10, 23553)"
      ]
     },
     "execution_count": 36,
     "metadata": {},
     "output_type": "execute_result"
    }
   ],
   "source": [
    "r['CD8 T cell'].shape"
   ]
  },
  {
   "cell_type": "code",
   "execution_count": null,
   "id": "c4c8b732",
   "metadata": {},
   "outputs": [],
   "source": []
  },
  {
   "cell_type": "code",
   "execution_count": 41,
   "id": "1f7463c4",
   "metadata": {},
   "outputs": [
    {
     "data": {
      "text/plain": [
       "[('Endothelial', 500),\n",
       " ('NK', 500),\n",
       " ('CD8 T cell', 500),\n",
       " ('CD4 T cell', 500),\n",
       " ('Treg', 500),\n",
       " ('Fibroblast', 500),\n",
       " ('Monocyte', 500),\n",
       " ('Malignant', 500),\n",
       " ('Plasma', 500),\n",
       " ('B cell', 500),\n",
       " ('Dendritic', 272),\n",
       " ('Mast', 246),\n",
       " ('Erythrocyte', 230)]"
      ]
     },
     "execution_count": 41,
     "metadata": {},
     "output_type": "execute_result"
    }
   ],
   "source": [
    "from collections import Counter\n",
    "Counter(a.obs['cell_type']).most_common()"
   ]
  },
  {
   "cell_type": "code",
   "execution_count": 42,
   "id": "ea9ccda4",
   "metadata": {},
   "outputs": [
    {
     "data": {
      "text/plain": [
       "[('NK', 1687),\n",
       " ('Monocyte', 735),\n",
       " ('Malignant', 694),\n",
       " ('CD8 T cell', 631),\n",
       " ('Endothelial', 583),\n",
       " ('Fibroblast', 536),\n",
       " ('Plasma', 404),\n",
       " ('Mast', 313),\n",
       " ('Dendritic', 160),\n",
       " ('Treg', 5)]"
      ]
     },
     "execution_count": 42,
     "metadata": {},
     "output_type": "execute_result"
    }
   ],
   "source": [
    "from collections import Counter\n",
    "Counter(a.obs['predicted_cell_type']).most_common()"
   ]
  },
  {
   "cell_type": "code",
   "execution_count": 43,
   "id": "2634b612",
   "metadata": {},
   "outputs": [
    {
     "data": {
      "text/plain": [
       "13"
      ]
     },
     "execution_count": 43,
     "metadata": {},
     "output_type": "execute_result"
    }
   ],
   "source": [
    "len(model.classes)"
   ]
  },
  {
   "cell_type": "code",
   "execution_count": 44,
   "id": "dc9e6f9f",
   "metadata": {},
   "outputs": [
    {
     "name": "stderr",
     "output_type": "stream",
     "text": [
      "/home/estorrs/miniconda3/envs/pytorch_pollock/lib/python3.8/site-packages/captum/attr/_core/deep_lift.py:320: UserWarning: Setting forward, backward hooks and attributes on non-linear\n",
      "               activations. The hooks and attributes will be removed\n",
      "            after the attribution is finished\n",
      "  warnings.warn(\n"
     ]
    }
   ],
   "source": [
    "df = explain_predictions(model,\n",
    "                    a,\n",
    "                    a[np.random.choice(np.arange(a.shape[0]), size=10, replace=False)],\n",
    "                    label_key='cell_type', n_sample=10)"
   ]
  },
  {
   "cell_type": "code",
   "execution_count": 45,
   "id": "5864d7a2",
   "metadata": {},
   "outputs": [
    {
     "data": {
      "text/html": [
       "<div>\n",
       "<style scoped>\n",
       "    .dataframe tbody tr th:only-of-type {\n",
       "        vertical-align: middle;\n",
       "    }\n",
       "\n",
       "    .dataframe tbody tr th {\n",
       "        vertical-align: top;\n",
       "    }\n",
       "\n",
       "    .dataframe thead th {\n",
       "        text-align: right;\n",
       "    }\n",
       "</style>\n",
       "<table border=\"1\" class=\"dataframe\">\n",
       "  <thead>\n",
       "    <tr style=\"text-align: right;\">\n",
       "      <th></th>\n",
       "      <th>AL627309.1</th>\n",
       "      <th>AL627309.3</th>\n",
       "      <th>AL669831.2</th>\n",
       "      <th>AL669831.5</th>\n",
       "      <th>FAM87B</th>\n",
       "      <th>LINC00115</th>\n",
       "      <th>FAM41C</th>\n",
       "      <th>AL645608.5</th>\n",
       "      <th>AL645608.1</th>\n",
       "      <th>SAMD11</th>\n",
       "      <th>...</th>\n",
       "      <th>MAFIP</th>\n",
       "      <th>AC011043.1</th>\n",
       "      <th>AL592183.1</th>\n",
       "      <th>AC007325.4</th>\n",
       "      <th>AL354822.1</th>\n",
       "      <th>AC004556.1</th>\n",
       "      <th>AC233755.2</th>\n",
       "      <th>AC233755.1</th>\n",
       "      <th>AC240274.1</th>\n",
       "      <th>cell_type</th>\n",
       "    </tr>\n",
       "  </thead>\n",
       "  <tbody>\n",
       "    <tr>\n",
       "      <th>10_ACTGATGGTCTTGCTC-1</th>\n",
       "      <td>0.0</td>\n",
       "      <td>0.0</td>\n",
       "      <td>0.0</td>\n",
       "      <td>0.0</td>\n",
       "      <td>0.0</td>\n",
       "      <td>0.0</td>\n",
       "      <td>0.0</td>\n",
       "      <td>0.0</td>\n",
       "      <td>0.0</td>\n",
       "      <td>0.0</td>\n",
       "      <td>...</td>\n",
       "      <td>0.0</td>\n",
       "      <td>-2.009493e-06</td>\n",
       "      <td>0.0</td>\n",
       "      <td>0.0</td>\n",
       "      <td>0.0</td>\n",
       "      <td>0.0</td>\n",
       "      <td>0.0</td>\n",
       "      <td>0.0</td>\n",
       "      <td>-0.000006</td>\n",
       "      <td>B cell</td>\n",
       "    </tr>\n",
       "    <tr>\n",
       "      <th>6_CTTGAGAAGGTTTGAA-1</th>\n",
       "      <td>0.0</td>\n",
       "      <td>0.0</td>\n",
       "      <td>0.0</td>\n",
       "      <td>0.0</td>\n",
       "      <td>0.0</td>\n",
       "      <td>0.0</td>\n",
       "      <td>0.0</td>\n",
       "      <td>0.0</td>\n",
       "      <td>0.0</td>\n",
       "      <td>0.0</td>\n",
       "      <td>...</td>\n",
       "      <td>0.0</td>\n",
       "      <td>-1.058356e-05</td>\n",
       "      <td>0.0</td>\n",
       "      <td>0.0</td>\n",
       "      <td>0.0</td>\n",
       "      <td>0.0</td>\n",
       "      <td>0.0</td>\n",
       "      <td>0.0</td>\n",
       "      <td>0.000043</td>\n",
       "      <td>B cell</td>\n",
       "    </tr>\n",
       "    <tr>\n",
       "      <th>9_AGCATCACATAAGCAA-1</th>\n",
       "      <td>0.0</td>\n",
       "      <td>0.0</td>\n",
       "      <td>0.0</td>\n",
       "      <td>0.0</td>\n",
       "      <td>0.0</td>\n",
       "      <td>0.0</td>\n",
       "      <td>0.0</td>\n",
       "      <td>0.0</td>\n",
       "      <td>0.0</td>\n",
       "      <td>0.0</td>\n",
       "      <td>...</td>\n",
       "      <td>0.0</td>\n",
       "      <td>5.068495e-06</td>\n",
       "      <td>0.0</td>\n",
       "      <td>0.0</td>\n",
       "      <td>0.0</td>\n",
       "      <td>0.0</td>\n",
       "      <td>0.0</td>\n",
       "      <td>0.0</td>\n",
       "      <td>-0.000017</td>\n",
       "      <td>B cell</td>\n",
       "    </tr>\n",
       "    <tr>\n",
       "      <th>10_AATGACCCACTTGGCG-1</th>\n",
       "      <td>0.0</td>\n",
       "      <td>0.0</td>\n",
       "      <td>0.0</td>\n",
       "      <td>0.0</td>\n",
       "      <td>0.0</td>\n",
       "      <td>0.0</td>\n",
       "      <td>0.0</td>\n",
       "      <td>0.0</td>\n",
       "      <td>0.0</td>\n",
       "      <td>0.0</td>\n",
       "      <td>...</td>\n",
       "      <td>0.0</td>\n",
       "      <td>-1.619562e-05</td>\n",
       "      <td>0.0</td>\n",
       "      <td>0.0</td>\n",
       "      <td>0.0</td>\n",
       "      <td>0.0</td>\n",
       "      <td>0.0</td>\n",
       "      <td>0.0</td>\n",
       "      <td>0.000008</td>\n",
       "      <td>B cell</td>\n",
       "    </tr>\n",
       "    <tr>\n",
       "      <th>9_GTTCCGTTCTGGCCTT-1</th>\n",
       "      <td>0.0</td>\n",
       "      <td>0.0</td>\n",
       "      <td>0.0</td>\n",
       "      <td>0.0</td>\n",
       "      <td>0.0</td>\n",
       "      <td>0.0</td>\n",
       "      <td>0.0</td>\n",
       "      <td>0.0</td>\n",
       "      <td>0.0</td>\n",
       "      <td>0.0</td>\n",
       "      <td>...</td>\n",
       "      <td>0.0</td>\n",
       "      <td>-7.203570e-06</td>\n",
       "      <td>0.0</td>\n",
       "      <td>0.0</td>\n",
       "      <td>0.0</td>\n",
       "      <td>0.0</td>\n",
       "      <td>0.0</td>\n",
       "      <td>0.0</td>\n",
       "      <td>0.000030</td>\n",
       "      <td>B cell</td>\n",
       "    </tr>\n",
       "    <tr>\n",
       "      <th>...</th>\n",
       "      <td>...</td>\n",
       "      <td>...</td>\n",
       "      <td>...</td>\n",
       "      <td>...</td>\n",
       "      <td>...</td>\n",
       "      <td>...</td>\n",
       "      <td>...</td>\n",
       "      <td>...</td>\n",
       "      <td>...</td>\n",
       "      <td>...</td>\n",
       "      <td>...</td>\n",
       "      <td>...</td>\n",
       "      <td>...</td>\n",
       "      <td>...</td>\n",
       "      <td>...</td>\n",
       "      <td>...</td>\n",
       "      <td>...</td>\n",
       "      <td>...</td>\n",
       "      <td>...</td>\n",
       "      <td>...</td>\n",
       "      <td>...</td>\n",
       "    </tr>\n",
       "    <tr>\n",
       "      <th>28_AACCACAAGCACCAGA-1</th>\n",
       "      <td>0.0</td>\n",
       "      <td>0.0</td>\n",
       "      <td>0.0</td>\n",
       "      <td>0.0</td>\n",
       "      <td>0.0</td>\n",
       "      <td>0.0</td>\n",
       "      <td>0.0</td>\n",
       "      <td>0.0</td>\n",
       "      <td>0.0</td>\n",
       "      <td>0.0</td>\n",
       "      <td>...</td>\n",
       "      <td>0.0</td>\n",
       "      <td>7.888536e-06</td>\n",
       "      <td>0.0</td>\n",
       "      <td>0.0</td>\n",
       "      <td>0.0</td>\n",
       "      <td>0.0</td>\n",
       "      <td>0.0</td>\n",
       "      <td>0.0</td>\n",
       "      <td>-0.000029</td>\n",
       "      <td>Treg</td>\n",
       "    </tr>\n",
       "    <tr>\n",
       "      <th>7_TTTCATGTCAGTCACA-1</th>\n",
       "      <td>0.0</td>\n",
       "      <td>0.0</td>\n",
       "      <td>0.0</td>\n",
       "      <td>0.0</td>\n",
       "      <td>0.0</td>\n",
       "      <td>0.0</td>\n",
       "      <td>0.0</td>\n",
       "      <td>0.0</td>\n",
       "      <td>0.0</td>\n",
       "      <td>0.0</td>\n",
       "      <td>...</td>\n",
       "      <td>0.0</td>\n",
       "      <td>8.345126e-06</td>\n",
       "      <td>0.0</td>\n",
       "      <td>0.0</td>\n",
       "      <td>0.0</td>\n",
       "      <td>0.0</td>\n",
       "      <td>0.0</td>\n",
       "      <td>0.0</td>\n",
       "      <td>-0.000013</td>\n",
       "      <td>Treg</td>\n",
       "    </tr>\n",
       "    <tr>\n",
       "      <th>28_GGCTTGGTCTTAATCC-1</th>\n",
       "      <td>0.0</td>\n",
       "      <td>0.0</td>\n",
       "      <td>0.0</td>\n",
       "      <td>0.0</td>\n",
       "      <td>0.0</td>\n",
       "      <td>0.0</td>\n",
       "      <td>0.0</td>\n",
       "      <td>0.0</td>\n",
       "      <td>0.0</td>\n",
       "      <td>0.0</td>\n",
       "      <td>...</td>\n",
       "      <td>0.0</td>\n",
       "      <td>4.564620e-06</td>\n",
       "      <td>0.0</td>\n",
       "      <td>0.0</td>\n",
       "      <td>0.0</td>\n",
       "      <td>0.0</td>\n",
       "      <td>0.0</td>\n",
       "      <td>0.0</td>\n",
       "      <td>-0.000014</td>\n",
       "      <td>Treg</td>\n",
       "    </tr>\n",
       "    <tr>\n",
       "      <th>29_CATGGATTCCTACGGG-1</th>\n",
       "      <td>0.0</td>\n",
       "      <td>0.0</td>\n",
       "      <td>0.0</td>\n",
       "      <td>0.0</td>\n",
       "      <td>0.0</td>\n",
       "      <td>0.0</td>\n",
       "      <td>0.0</td>\n",
       "      <td>0.0</td>\n",
       "      <td>0.0</td>\n",
       "      <td>0.0</td>\n",
       "      <td>...</td>\n",
       "      <td>0.0</td>\n",
       "      <td>1.609338e-07</td>\n",
       "      <td>0.0</td>\n",
       "      <td>0.0</td>\n",
       "      <td>0.0</td>\n",
       "      <td>0.0</td>\n",
       "      <td>0.0</td>\n",
       "      <td>0.0</td>\n",
       "      <td>-0.000028</td>\n",
       "      <td>Treg</td>\n",
       "    </tr>\n",
       "    <tr>\n",
       "      <th>6_AGAAATGGTACTGCGC-1</th>\n",
       "      <td>0.0</td>\n",
       "      <td>0.0</td>\n",
       "      <td>0.0</td>\n",
       "      <td>0.0</td>\n",
       "      <td>0.0</td>\n",
       "      <td>0.0</td>\n",
       "      <td>0.0</td>\n",
       "      <td>0.0</td>\n",
       "      <td>0.0</td>\n",
       "      <td>0.0</td>\n",
       "      <td>...</td>\n",
       "      <td>0.0</td>\n",
       "      <td>1.099699e-05</td>\n",
       "      <td>0.0</td>\n",
       "      <td>0.0</td>\n",
       "      <td>0.0</td>\n",
       "      <td>0.0</td>\n",
       "      <td>0.0</td>\n",
       "      <td>0.0</td>\n",
       "      <td>-0.000031</td>\n",
       "      <td>Treg</td>\n",
       "    </tr>\n",
       "  </tbody>\n",
       "</table>\n",
       "<p>130 rows × 23554 columns</p>\n",
       "</div>"
      ],
      "text/plain": [
       "                       AL627309.1  AL627309.3  AL669831.2  AL669831.5  FAM87B  \\\n",
       "10_ACTGATGGTCTTGCTC-1         0.0         0.0         0.0         0.0     0.0   \n",
       "6_CTTGAGAAGGTTTGAA-1          0.0         0.0         0.0         0.0     0.0   \n",
       "9_AGCATCACATAAGCAA-1          0.0         0.0         0.0         0.0     0.0   \n",
       "10_AATGACCCACTTGGCG-1         0.0         0.0         0.0         0.0     0.0   \n",
       "9_GTTCCGTTCTGGCCTT-1          0.0         0.0         0.0         0.0     0.0   \n",
       "...                           ...         ...         ...         ...     ...   \n",
       "28_AACCACAAGCACCAGA-1         0.0         0.0         0.0         0.0     0.0   \n",
       "7_TTTCATGTCAGTCACA-1          0.0         0.0         0.0         0.0     0.0   \n",
       "28_GGCTTGGTCTTAATCC-1         0.0         0.0         0.0         0.0     0.0   \n",
       "29_CATGGATTCCTACGGG-1         0.0         0.0         0.0         0.0     0.0   \n",
       "6_AGAAATGGTACTGCGC-1          0.0         0.0         0.0         0.0     0.0   \n",
       "\n",
       "                       LINC00115  FAM41C  AL645608.5  AL645608.1  SAMD11  ...  \\\n",
       "10_ACTGATGGTCTTGCTC-1        0.0     0.0         0.0         0.0     0.0  ...   \n",
       "6_CTTGAGAAGGTTTGAA-1         0.0     0.0         0.0         0.0     0.0  ...   \n",
       "9_AGCATCACATAAGCAA-1         0.0     0.0         0.0         0.0     0.0  ...   \n",
       "10_AATGACCCACTTGGCG-1        0.0     0.0         0.0         0.0     0.0  ...   \n",
       "9_GTTCCGTTCTGGCCTT-1         0.0     0.0         0.0         0.0     0.0  ...   \n",
       "...                          ...     ...         ...         ...     ...  ...   \n",
       "28_AACCACAAGCACCAGA-1        0.0     0.0         0.0         0.0     0.0  ...   \n",
       "7_TTTCATGTCAGTCACA-1         0.0     0.0         0.0         0.0     0.0  ...   \n",
       "28_GGCTTGGTCTTAATCC-1        0.0     0.0         0.0         0.0     0.0  ...   \n",
       "29_CATGGATTCCTACGGG-1        0.0     0.0         0.0         0.0     0.0  ...   \n",
       "6_AGAAATGGTACTGCGC-1         0.0     0.0         0.0         0.0     0.0  ...   \n",
       "\n",
       "                       MAFIP    AC011043.1  AL592183.1  AC007325.4  \\\n",
       "10_ACTGATGGTCTTGCTC-1    0.0 -2.009493e-06         0.0         0.0   \n",
       "6_CTTGAGAAGGTTTGAA-1     0.0 -1.058356e-05         0.0         0.0   \n",
       "9_AGCATCACATAAGCAA-1     0.0  5.068495e-06         0.0         0.0   \n",
       "10_AATGACCCACTTGGCG-1    0.0 -1.619562e-05         0.0         0.0   \n",
       "9_GTTCCGTTCTGGCCTT-1     0.0 -7.203570e-06         0.0         0.0   \n",
       "...                      ...           ...         ...         ...   \n",
       "28_AACCACAAGCACCAGA-1    0.0  7.888536e-06         0.0         0.0   \n",
       "7_TTTCATGTCAGTCACA-1     0.0  8.345126e-06         0.0         0.0   \n",
       "28_GGCTTGGTCTTAATCC-1    0.0  4.564620e-06         0.0         0.0   \n",
       "29_CATGGATTCCTACGGG-1    0.0  1.609338e-07         0.0         0.0   \n",
       "6_AGAAATGGTACTGCGC-1     0.0  1.099699e-05         0.0         0.0   \n",
       "\n",
       "                       AL354822.1  AC004556.1  AC233755.2  AC233755.1  \\\n",
       "10_ACTGATGGTCTTGCTC-1         0.0         0.0         0.0         0.0   \n",
       "6_CTTGAGAAGGTTTGAA-1          0.0         0.0         0.0         0.0   \n",
       "9_AGCATCACATAAGCAA-1          0.0         0.0         0.0         0.0   \n",
       "10_AATGACCCACTTGGCG-1         0.0         0.0         0.0         0.0   \n",
       "9_GTTCCGTTCTGGCCTT-1          0.0         0.0         0.0         0.0   \n",
       "...                           ...         ...         ...         ...   \n",
       "28_AACCACAAGCACCAGA-1         0.0         0.0         0.0         0.0   \n",
       "7_TTTCATGTCAGTCACA-1          0.0         0.0         0.0         0.0   \n",
       "28_GGCTTGGTCTTAATCC-1         0.0         0.0         0.0         0.0   \n",
       "29_CATGGATTCCTACGGG-1         0.0         0.0         0.0         0.0   \n",
       "6_AGAAATGGTACTGCGC-1          0.0         0.0         0.0         0.0   \n",
       "\n",
       "                       AC240274.1  cell_type  \n",
       "10_ACTGATGGTCTTGCTC-1   -0.000006     B cell  \n",
       "6_CTTGAGAAGGTTTGAA-1     0.000043     B cell  \n",
       "9_AGCATCACATAAGCAA-1    -0.000017     B cell  \n",
       "10_AATGACCCACTTGGCG-1    0.000008     B cell  \n",
       "9_GTTCCGTTCTGGCCTT-1     0.000030     B cell  \n",
       "...                           ...        ...  \n",
       "28_AACCACAAGCACCAGA-1   -0.000029       Treg  \n",
       "7_TTTCATGTCAGTCACA-1    -0.000013       Treg  \n",
       "28_GGCTTGGTCTTAATCC-1   -0.000014       Treg  \n",
       "29_CATGGATTCCTACGGG-1   -0.000028       Treg  \n",
       "6_AGAAATGGTACTGCGC-1    -0.000031       Treg  \n",
       "\n",
       "[130 rows x 23554 columns]"
      ]
     },
     "execution_count": 45,
     "metadata": {},
     "output_type": "execute_result"
    }
   ],
   "source": [
    "df"
   ]
  },
  {
   "cell_type": "code",
   "execution_count": null,
   "id": "99d444d3",
   "metadata": {},
   "outputs": [],
   "source": []
  }
 ],
 "metadata": {
  "kernelspec": {
   "display_name": "Python 3 (ipykernel)",
   "language": "python",
   "name": "python3"
  },
  "language_info": {
   "codemirror_mode": {
    "name": "ipython",
    "version": 3
   },
   "file_extension": ".py",
   "mimetype": "text/x-python",
   "name": "python",
   "nbconvert_exporter": "python",
   "pygments_lexer": "ipython3",
   "version": "3.8.12"
  }
 },
 "nbformat": 4,
 "nbformat_minor": 5
}
